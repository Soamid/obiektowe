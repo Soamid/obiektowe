{
 "cells": [
  {
   "cell_type": "markdown",
   "metadata": {
    "slideshow": {
     "slide_type": "slide"
    }
   },
   "source": [
    "# Testowanie oprogramowania\n",
    "\n",
    "## Rodzaje testów\n",
    "## Narzędzia do testowania\n",
    "\n",
    "<br/>\n",
    "\n",
    "## dr inż. Aleksander Smywiński-Pohl\n",
    "\n",
    "## apohllo@agh.edu.pl\n",
    "\n",
    "## http://apohllo.pl/dydaktyka/programowanie-obiektowe"
   ]
  },
  {
   "cell_type": "markdown",
   "metadata": {
    "slideshow": {
     "slide_type": "slide"
    }
   },
   "source": [
    "# Rodzaje testów\n",
    "\n",
    "* testy czarnej skrzynki\n",
    "* testy białej skrzynki\n",
    "* testy szarej skrzynki"
   ]
  },
  {
   "cell_type": "markdown",
   "metadata": {
    "ExecuteTime": {
     "end_time": "2021-06-01T15:06+0000",
     "start_time": "2021-06-01T15:06:29.883Z"
    },
    "slideshow": {
     "slide_type": "fragment"
    }
   },
   "source": [
    "# Poziomy testów\n",
    "\n",
    "* testy jednostkowe\n",
    "* testy integracyjne\n",
    "* testy systemowe\n",
    "* testy funkcjonalne"
   ]
  },
  {
   "cell_type": "markdown",
   "metadata": {
    "slideshow": {
     "slide_type": "subslide"
    }
   },
   "source": [
    "# Testy czarnej skrzynki\n",
    "\n",
    "<center><img src=\"img/blackbox.jpeg\" width=\"400px\"/></center>\n",
    "\n",
    "* tester nie ma dostępu do kodu źródłowego\n",
    "* test koncentruje się na dostarczeniu różnych wartości wejściowy i obserwowaniu wyników\n",
    "* testowanie nie wymaga wiedzy na temat programowania lub języka, w którym system został zaimplementowany\n",
    "* wykrycie przypadków, o których nie pomyślała osoba implementująca jest łatwiejsze"
   ]
  },
  {
   "cell_type": "markdown",
   "metadata": {
    "slideshow": {
     "slide_type": "subslide"
    }
   },
   "source": [
    "# Testy białej skrzynki\n",
    "\n",
    "<center><img src=\"img/whitebox.jpeg\" width=\"300px\"/></center>\n",
    "\n",
    "* tester ma dostęp do kodu źródłowego\n",
    "* tester wykorzystuje wiedzę na temat ścieżek występujących w kodzie, \n",
    "  aby przetestować wybrane aspekty działania  tego kodu\n",
    "* wymagana jest umiejętność programowania w języku, w którym został napisany kod\n",
    "* testowanie może być bardziej efektywne, gdyż nie są tworzone testy \n",
    "  dla identycznych bądź ekwiwalentnych warunków wejściowych\n",
    "* testowanie jest narażone na ominięcie elementów, które nie zostały zaimplementowane \n",
    "  lub nie zostały wyspecyfikowane"
   ]
  },
  {
   "cell_type": "markdown",
   "metadata": {
    "slideshow": {
     "slide_type": "subslide"
    }
   },
   "source": [
    "# Testowanie szarej skrzynki\n",
    "\n",
    "\n",
    "<center><img src=\"img/greybox.jpg\" width=\"400px\"/></center>\n",
    "\n",
    "* tester ma dostęp do kodu źródłowego\n",
    "* wiedza ta jest jednak wykorzystywana głównie do bardziej efektywnego pisania testów\n",
    "* możliwe jest np. wykorzystanie wiedzy o bazie danych, aby wgrać do niej przykładowe wartości, co\n",
    "  znacznie przyspiesza proces testowania\n",
    "* wykorzystywane jest np. w testach integracyjnych, dla modułów, które powstały niezależnie, np. w sytuacji, \n",
    "  w której tester brał udział w tworzeniu jednego z nich."
   ]
  },
  {
   "cell_type": "markdown",
   "metadata": {
    "slideshow": {
     "slide_type": "slide"
    }
   },
   "source": [
    "<center>\n",
    "<h1>Poziomy testów</h1>\n",
    "</center>"
   ]
  },
  {
   "cell_type": "markdown",
   "metadata": {
    "cell_style": "split",
    "slideshow": {
     "slide_type": "subslide"
    }
   },
   "source": [
    "# Testy jednostkowe\n",
    "\n",
    "&nbsp;\n",
    "\n",
    "<center><img src=\"img/collections-api.png\" width=\"800px\"/></center>"
   ]
  },
  {
   "cell_type": "markdown",
   "metadata": {
    "cell_style": "split",
    "slideshow": {
     "slide_type": "fragment"
    }
   },
   "source": [
    "&nbsp;\n",
    "\n",
    "* dotyczą pojedynczego elementu oprogramowania\n",
    "* w programowaniu obiektowym najczęściej dotyczą pojedynczej klasy\n",
    "* klasa powinna być testowana w **izolacji** od innych klas, którą można uzyskać dzięki stosowaniu *atrap*\n",
    "* testy jednostkowe obejmują najczęściej weryfikację implementacji wszystkich **publicznych** metod występujących w klasie\n",
    "* testy obejmują wiele wywołań pojedynczej metody z wieloma wartościami wejściowymi\n",
    "* chęć testowania metody chronionej, bądź prywatnej oznacza, że prawodpobonie klasa została źle zaimplementowana\n",
    "* do weryfikacji poprawności używa się asercji"
   ]
  },
  {
   "cell_type": "markdown",
   "metadata": {
    "slideshow": {
     "slide_type": "skip"
    }
   },
   "source": []
  },
  {
   "cell_type": "markdown",
   "metadata": {
    "cell_style": "split",
    "slideshow": {
     "slide_type": "subslide"
    }
   },
   "source": [
    "# Testy integracyjne\n",
    "\n",
    "&nbsp;\n",
    "\n",
    "<center><img src=\"img/integration.gif\" width=\"600px\"/></center>"
   ]
  },
  {
   "cell_type": "markdown",
   "metadata": {
    "cell_style": "split",
    "slideshow": {
     "slide_type": "fragment"
    }
   },
   "source": [
    "&nbsp;\n",
    "\n",
    "* dotczyą więcej niż jednego elementu oprogramowania (np. dwóch klas)\n",
    "* jeśli jedna z klas nie posiada rozbudowanego zachowania (np. DTO), test nie jest traktowany jako test integracyjny\n",
    "* weryfikowana jest interakcja pomiędzy tymi elementami\n",
    "* liczba możliwych stanów systemu rośnie wykładniczo z liczbą elementów podlegających interakcji, dlatego nie da się przetestować wszystkich możliwych stanów\n",
    "* elementy podlegające interakcji mogą być również izolowane od pozostałych elementów systemu za pomocą atrap, ale nie jest to reguła"
   ]
  },
  {
   "cell_type": "code",
   "execution_count": null,
   "metadata": {
    "slideshow": {
     "slide_type": "skip"
    }
   },
   "outputs": [],
   "source": []
  },
  {
   "cell_type": "markdown",
   "metadata": {
    "cell_style": "split",
    "slideshow": {
     "slide_type": "subslide"
    }
   },
   "source": [
    "# Testy systemowe\n",
    "\n",
    "&nbsp;\n",
    "\n",
    "<center><img src=\"img/app-architecture.jpg\" width=\"600px\"/></center>"
   ]
  },
  {
   "cell_type": "markdown",
   "metadata": {
    "cell_style": "split",
    "slideshow": {
     "slide_type": "fragment"
    }
   },
   "source": [
    "&nbsp;\n",
    "\n",
    "* testy systemowe obejmują wszystkie elementy kompletnego rozwiązania softwarowego\n",
    "* testy realizowane są w środowisku możliwe zbliżonym do środowiska produkcyjnego\n",
    "* weryfikacji objemuje współdziałanie wytworzonego oprogramowania z modułami wewnętrznymi (np. warstwy prezentacji z warstwą dostępu do danych) oraz zewnętrznymi (interakcja z silnikiem bazy danych lub serwerem HTTP)\n",
    "* weryfikowana jest również konfiguracja oprogramowania (np. poprawność haseł dostępowych do bazy danych, czy zewnętrznych API)"
   ]
  },
  {
   "cell_type": "code",
   "execution_count": null,
   "metadata": {
    "slideshow": {
     "slide_type": "skip"
    }
   },
   "outputs": [],
   "source": []
  },
  {
   "cell_type": "markdown",
   "metadata": {
    "cell_style": "split",
    "slideshow": {
     "slide_type": "subslide"
    }
   },
   "source": [
    "# Testy akceptacyjne\n",
    "\n",
    "&nbsp;\n",
    "\n",
    "<center><img src=\"img/click.jpg\" width=\"400px\"/></center>"
   ]
  },
  {
   "cell_type": "markdown",
   "metadata": {
    "cell_style": "split",
    "slideshow": {
     "slide_type": "fragment"
    }
   },
   "source": [
    "&nbsp;\n",
    "\n",
    "* wyróżnia się testy użytkownika, operacyjne, kontraktowe, alfa i beta\n",
    "* testy te biorą pod uwagę funkcjonowanie oprogramowania w szerszym kontekście\n",
    "* testy te przeprowadzone są najczęściej w końcowej fazie cyklu wytwarzania oprogramowania\n",
    "* testy akceptacyjne koncentrują się na weryfikacji, czy oprogramowanie - jako całość - jest zgodne ze specyfikacją, czyli czy zaimplementowane zostały wszystkie funkcje oraz czy spełnione są wymagania niefuncjonalne (np. wydajność)"
   ]
  },
  {
   "cell_type": "code",
   "execution_count": null,
   "metadata": {
    "slideshow": {
     "slide_type": "skip"
    }
   },
   "outputs": [],
   "source": []
  },
  {
   "cell_type": "markdown",
   "metadata": {
    "cell_style": "split",
    "slideshow": {
     "slide_type": "slide"
    }
   },
   "source": [
    "# Testy manualne\n",
    "\n",
    "**zalety**\n",
    "\n",
    "* nie wymagają umiejętności programowania\n",
    "* nie wymagają frameworków do testowania\n",
    "* pozwalają wykryć błędy w GUI\n",
    "* pozwalają wykryć błędy użyteczności\n",
    "* wykonanie pojedynczego testu jest szybkie\n",
    "\n"
   ]
  },
  {
   "cell_type": "markdown",
   "metadata": {
    "cell_style": "split",
    "slideshow": {
     "slide_type": "fragment"
    }
   },
   "source": [
    "# &nbsp;\n",
    "\n",
    "**wady**\n",
    "\n",
    "* ludzie popełniają błędy\n",
    "* drogie, jeśli mamy wiele podobnych do  siebie scenariuszy\n",
    "* nieopłacalne dla testów regresyjnych\n",
    "* trwają znacznie dłużej niż testy automatyczne"
   ]
  },
  {
   "cell_type": "code",
   "execution_count": null,
   "metadata": {
    "slideshow": {
     "slide_type": "skip"
    }
   },
   "outputs": [],
   "source": []
  },
  {
   "cell_type": "markdown",
   "metadata": {
    "cell_style": "split",
    "slideshow": {
     "slide_type": "subslide"
    }
   },
   "source": [
    "# Testy automatyczne\n",
    "\n",
    "**zalety**\n",
    "\n",
    "* powtarzalne\n",
    "* szybkie\n",
    "* mogą obejmować duże zbiory danych\n",
    "* umożliwiają testowanie wydajności\n",
    "* stanowią uruchamialną specyfikację oprogramowania\n",
    "* mogą być reużytkowane\n",
    "* pozwalają na tworzenie oprogramowania wysokiej jakości\n",
    "* pozwalają zmniejszyć dług technologiczny\n",
    "* ułatwiają aktualizowanie zewnętrznych zależności\n",
    "* stanowią \"siatkę bezpieczeństwa\""
   ]
  },
  {
   "cell_type": "markdown",
   "metadata": {
    "cell_style": "split",
    "slideshow": {
     "slide_type": "fragment"
    }
   },
   "source": [
    "# &nbsp;\n",
    "\n",
    "**wady**\n",
    "\n",
    "* wymagają umiejętności programowania\n",
    "* implementacja testów jest czasochłonna\n",
    "* małe zmiany w oprogramowaniu (np. GUI) mogą prowadzić do konieczności poprawy testu\n",
    "* testy są oprogramowaniem, więc również wymagają utrzymania"
   ]
  },
  {
   "cell_type": "markdown",
   "metadata": {
    "slideshow": {
     "slide_type": "slide"
    }
   },
   "source": [
    "# Treminologia\n",
    "\n",
    "* *assertion/expectation* - asercja/wymaganie\n",
    "* *given/when/then* - fazy testowania w pojedynczym przypadku testowym\n",
    "* *feature/test step* - przypadek testowy\n",
    "* *test suite/plan* - zbiór testów\n",
    "* SUT (OUT/OUS/SUS) *object/system/subject under testing/specification* - element podlegający testowaniu/specyfikacji\n",
    "* *mock/test double/stub* - atrapa\n",
    "* TDD/BDD *test/behavior driven development*"
   ]
  },
  {
   "cell_type": "markdown",
   "metadata": {
    "slideshow": {
     "slide_type": "subslide"
    }
   },
   "source": [
    "# Podstawowe elementy testu"
   ]
  },
  {
   "cell_type": "code",
   "execution_count": 2,
   "metadata": {
    "ExecuteTime": {
     "end_time": "2022-01-26T08:21:12.862219Z",
     "start_time": "2022-01-26T08:21:12.632Z"
    },
    "slideshow": {
     "slide_type": "-"
    }
   },
   "outputs": [
    {
     "data": {
      "text/plain": [
       "RSpec::ExampleGroups::ActStatusRepository"
      ]
     },
     "execution_count": 2,
     "metadata": {},
     "output_type": "execute_result"
    }
   ],
   "source": [
    "require 'rspec'\n",
    "\n",
    "RSpec.describe \"act status repository\" do\n",
    "  subject  { ActStatusRepository.new }\n",
    "\n",
    "  it 'allows to create a status' do\n",
    "    new_status = subject.create(name: \"Obowiązujący\")\n",
    "    \n",
    "    expect(new_status).not_to be_nil\n",
    "    expect(new_status[:name]).to eq(\"Obowiązujący\")\n",
    "  end\n",
    "end\n"
   ]
  },
  {
   "cell_type": "markdown",
   "metadata": {
    "slideshow": {
     "slide_type": "notes"
    }
   },
   "source": [
    "Test ilustruje podstawowe mechanizm Rspec - definiowanie SUT (subject/system under test) oraz mechanizmu asercji."
   ]
  },
  {
   "cell_type": "markdown",
   "metadata": {
    "slideshow": {
     "slide_type": "fragment"
    }
   },
   "source": [
    "<center><img src=\"img/rspec-create.png\"/></center>"
   ]
  },
  {
   "cell_type": "markdown",
   "metadata": {
    "slideshow": {
     "slide_type": "subslide"
    }
   },
   "source": [
    "# Asercje a wyjątki"
   ]
  },
  {
   "cell_type": "code",
   "execution_count": null,
   "metadata": {
    "slideshow": {
     "slide_type": "-"
    }
   },
   "outputs": [],
   "source": [
    "RSpec.describe \"act status repository\" do\n",
    "  subject             { ActStatusRepository.new }\n",
    "  let(:status_name)   { \"Obowiązujący\" }\n",
    "\n",
    "  it 'allows to create a status' do\n",
    "    new_status = subject.create(name: status_name)\n",
    "    expect(new_status).not_to be_nil\n",
    "    expect(new_status[:id]).not_to be_nil\n",
    "    expect(new_status[:name]).to eq(status_name)\n",
    "  end\n",
    "\n",
    "  it 'raises error when status name is not unique' do\n",
    "    subject.create(name: status_name)\n",
    "    expect {\n",
    "      subject.create(name: status_name)\n",
    "    }.to raise_error(Lemkin::Errors::ConflictError)\n",
    "  end\n",
    "end"
   ]
  },
  {
   "cell_type": "markdown",
   "metadata": {
    "slideshow": {
     "slide_type": "notes"
    }
   },
   "source": [
    "Test pokazuje asercję związaną z wystąpieniem wyjątku, w sytuacji, w której nazwa musi być unikalna."
   ]
  },
  {
   "cell_type": "markdown",
   "metadata": {
    "ExecuteTime": {
     "end_time": "2021-06-04T12:50:47.659817Z",
     "start_time": "2021-06-04T12:50:47.573Z"
    },
    "slideshow": {
     "slide_type": "fragment"
    }
   },
   "source": [
    "<center><img src=\"img/rspec-raise.png\"/></center>"
   ]
  },
  {
   "cell_type": "markdown",
   "metadata": {
    "slideshow": {
     "slide_type": "subslide"
    }
   },
   "source": [
    "# \"Narracja\" testu"
   ]
  },
  {
   "cell_type": "code",
   "execution_count": null,
   "metadata": {
    "slideshow": {
     "slide_type": "-"
    }
   },
   "outputs": [],
   "source": [
    "RSpec.describe \"act status repository\" do\n",
    "  subject             { ActStatusRepository.new }\n",
    "  let(:status_name)   { \"Obowiązujący\" }\n",
    "\n",
    "  it 'allows to create a status' do\n",
    "    # \n",
    "  end\n",
    "\n",
    "  it 'raises error when status name is not unique' do\n",
    "    #\n",
    "  end\n",
    "\n",
    "  it 'raises error when status name is nil' do\n",
    "    expect {\n",
    "      subject.create(name: nil)\n",
    "    }.to raise_error(Lemkin::Errors::UnprocessableEntityError)\n",
    "  end\n",
    "\n",
    "  it 'does not raise error when status is upserted twice' do\n",
    "    status_1 = subject.upsert(name: status_name)\n",
    "    expect(status_1).not_to be_nil\n",
    "\n",
    "    status_2 = subject.upsert(name: status_name)\n",
    "    expect(status_2).not_to be_nil\n",
    "    expect(status_1[:id]).to eq status_2[:id]\n",
    "  end\n",
    "end"
   ]
  },
  {
   "cell_type": "markdown",
   "metadata": {
    "slideshow": {
     "slide_type": "notes"
    }
   },
   "source": [
    "Testy pokazują zachowanie systemu dla różnych, powiązanych ze sobą sytuacji. Bardzo ważne \n",
    "jest tutaj zweryfikowanie zachowania systemu dla danych niepoprawnych."
   ]
  },
  {
   "cell_type": "markdown",
   "metadata": {
    "slideshow": {
     "slide_type": "fragment"
    }
   },
   "source": [
    "<center><img src=\"img/rspec-suite.png\"/></center>"
   ]
  },
  {
   "cell_type": "markdown",
   "metadata": {
    "slideshow": {
     "slide_type": "subslide"
    }
   },
   "source": [
    "# Wspóldzielona konfiguracja testowa"
   ]
  },
  {
   "cell_type": "code",
   "execution_count": null,
   "metadata": {
    "cell_style": "center",
    "slideshow": {
     "slide_type": "-"
    }
   },
   "outputs": [],
   "source": [
    "RSpec.configure do |config|\n",
    "  config.before :each do\n",
    "    DatabaseCleaner.strategy = :transaction\n",
    "  end\n",
    "  \n",
    "  config.before :each do\n",
    "    DatabaseCleaner.start\n",
    "  end\n",
    "\n",
    "  config.after :each do\n",
    "    DatabaseCleaner.clean\n",
    "  end\n",
    "end"
   ]
  },
  {
   "cell_type": "markdown",
   "metadata": {
    "slideshow": {
     "slide_type": "notes"
    }
   },
   "source": [
    "Współdzielona konfiguracja testów realizowana jest również w języku Ruby. Pozawal to np. \n",
    "skonfigurować bazę danych, tak, żeby po każdym teście czyszczona była jej zawartość.\n",
    "Ale może to być dowolny kod, który związany jest z konfiguracją testów, którego nie chcemy potwarzać\n",
    "dla wszystkich testów, bądź dla grupy testów."
   ]
  },
  {
   "cell_type": "markdown",
   "metadata": {
    "slideshow": {
     "slide_type": "subslide"
    }
   },
   "source": [
    "# Fabryka w teście"
   ]
  },
  {
   "cell_type": "code",
   "execution_count": null,
   "metadata": {
    "cell_style": "split",
    "slideshow": {
     "slide_type": "-"
    }
   },
   "outputs": [],
   "source": [
    "Factory.define(:act_status) do |f|\n",
    "  f.sequence(:name) { |n| \"Status #{n}\" }\n",
    "end\n",
    "\n",
    "Factory.define(:act) do |f|\n",
    "  f.association(:type)\n",
    "  f.association(:status)\n",
    "  f.sequence(:isap_id) { |n| \"isap:#{n}\" }\n",
    "  f.year { Time.now.year }\n",
    "  f.sequence(:position) { |n| n }\n",
    "  f.sequence(:title) { |n| \"Act title #{n}\" }\n",
    "  f.sequence(:published_text) { |n| \"Published text #{n}\" }\n",
    "  f.issuance_date { Time.now }\n",
    "\n",
    "  f.trait :with_versions do |t|\n",
    "    t.association(:versions, count: 4)\n",
    "  end\n",
    "end"
   ]
  },
  {
   "cell_type": "code",
   "execution_count": null,
   "metadata": {
    "cell_style": "split",
    "slideshow": {
     "slide_type": "fragment"
    }
   },
   "outputs": [],
   "source": [
    "RSpec.describe \"Acts API\" do\n",
    "  context 'GET /admin/acts/?status[eq]=status1' do\n",
    "    before do\n",
    "      status1 = Factory[:act_status, name: 'status1']\n",
    "      status2 = Factory[:act_status, name: 'status2']\n",
    "\n",
    "      3.times { Factory[:act, status: status1] }\n",
    "      3.times { Factory[:act, status: status2] }\n",
    "    end\n",
    "\n",
    "    it 'filters entries of matching status' do\n",
    "      get '/admin/acts/?status[eq]=status1'\n",
    "\n",
    "      expect(last_response).to be_ok\n",
    "      expect(json_data).to match_schema(schema)\n",
    "\n",
    "      expect(json_data['actsCount']).to eq 3\n",
    "      expect(json_data['acts'].size).to eq 3\n",
    "      expect(json_data['acts'].map { |a| a['status'] }).\n",
    "        to eq(['status1'] * 3)\n",
    "    end\n",
    "  end\n",
    "end"
   ]
  },
  {
   "cell_type": "markdown",
   "metadata": {
    "slideshow": {
     "slide_type": "notes"
    }
   },
   "source": [
    "Przykład pokazuje zastsowanie fabryki w testach. Fabryki pozwalają na uzyskanie wysokiej elastyczności\n",
    "tworzenia obiektów, które podlegaja testowaniu. Jednocześnie kod fabryki jest zwykle zwięźlejszy, niż\n",
    "tworzenie obiektów samodzielnie. Ważnym aspektem jest możliwość dostarczenia konfiguracji, która\n",
    "jest wspólna dla wielu wywołań testów (np. domyślnych wartości dla pól, które nie mogą być puste w bazie \n",
    "danych)."
   ]
  },
  {
   "cell_type": "markdown",
   "metadata": {
    "slideshow": {
     "slide_type": "subslide"
    }
   },
   "source": [
    "# Atrapa (stub)"
   ]
  },
  {
   "cell_type": "code",
   "execution_count": null,
   "metadata": {
    "slideshow": {
     "slide_type": "-"
    }
   },
   "outputs": [],
   "source": [
    "RSpec.describe \"Provision annotations\" do\n",
    "  let(:provision_count)     { 5 }\n",
    "  let(:provisions)          { provision_count.times.map{|p| Factory[:act_node_version] } }\n",
    "\n",
    "  before do\n",
    "    container['lemkin.services.relevant_provisions'].tap do |service|\n",
    "      allow(service).to receive(:call).and_return(provisions.map{|p| p.to_h.slice(:id) })\n",
    "    end\n",
    "  end\n",
    "\n",
    "  context 'Update single annotation to \"relevant\" value' do\n",
    "    let(:schema)            { Lemkin::Schemas::ProvisionAnnotation }\n",
    "\n",
    "    before do\n",
    "      get \"/admin/provision-tasks/#{task.id}/start\"\n",
    "      post \"/admin/provision-tasks/#{task.id}/questions/#{last_question_id}/provisions/#{first_provision_id}\", {value: 'relevant'}\n",
    "    end\n",
    "\n",
    "    it_behaves_like \"valid http request\"\n",
    "  end\n",
    "end"
   ]
  },
  {
   "cell_type": "markdown",
   "metadata": {
    "slideshow": {
     "slide_type": "notes"
    }
   },
   "source": [
    "Wykorzystanie atrapy pozwala uniknąć kosztownych wywołań, np. zewnętrznych serwisów."
   ]
  },
  {
   "cell_type": "code",
   "execution_count": null,
   "metadata": {
    "slideshow": {
     "slide_type": "fragment"
    }
   },
   "outputs": [],
   "source": [
    "RSpec.shared_examples \"valid http request\" do\n",
    "  it 'is successful' do\n",
    "    expect(last_response).to be_successful\n",
    "  end\n",
    "\n",
    "  it 'returns valid json' do\n",
    "    expect(json_data).to match_schema(schema)\n",
    "  end\n",
    "end"
   ]
  },
  {
   "cell_type": "markdown",
   "metadata": {
    "slideshow": {
     "slide_type": "slide"
    }
   },
   "source": [
    "# Testy akceptacyjne - języka Gherkin"
   ]
  },
  {
   "cell_type": "code",
   "execution_count": null,
   "metadata": {
    "slideshow": {
     "slide_type": "fragment"
    }
   },
   "outputs": [],
   "source": [
    "# language: pl\n",
    "Funkcja: domyślna odpowiedź\n",
    "\n",
    "  Lemkin musi mieć domyślną odpowiedź prezentowaną użytkownikowi, jeśli wszelkie\n",
    "  wcześniejsze strategie znalezienia odpowiedzi zawiodły.\n",
    "\n",
    "  Założenia:\n",
    "    Zakładając, że wybrana jest strategia domyślna\n",
    "\n",
    "  Scenariusz: zadanie dowolnego pytania\n",
    "    Gdy pytam 'Czy dzisiaj wzejdzie słońce'\n",
    "    Wtedy system odpowiada 'Nie znam odpowiedzi na to pytanie, ale postaram się dowiedzieć.'"
   ]
  },
  {
   "cell_type": "markdown",
   "metadata": {
    "slideshow": {
     "slide_type": "notes"
    }
   },
   "source": [
    "Język Gherkin pozwala zapisywać testy w języku naturalnym. Co więcej - możliwe jest wykorzystanie języków\n",
    "narodowych. Implementacja języka Gherkin dostępna jest również dla Javy."
   ]
  },
  {
   "cell_type": "markdown",
   "metadata": {
    "slideshow": {
     "slide_type": "subslide"
    }
   },
   "source": [
    "# Powiązanie testu z kodem"
   ]
  },
  {
   "cell_type": "code",
   "execution_count": null,
   "metadata": {
    "slideshow": {
     "slide_type": "-"
    }
   },
   "outputs": [],
   "source": [
    "Given(/wybrana jest strategia (.*)/) do |strategy|\n",
    "  @strategy =\n",
    "    case strategy\n",
    "    when /domyślna/\n",
    "      Lemkin::Container['default_strategy']\n",
    "    when /predefiniowanych pytań/\n",
    "      Lemkin::Container['predefined_question_strategy']\n",
    "    end\n",
    "  raise \"Unknown strategy '#{strategy}'\" if @strategy.nil?\n",
    "end"
   ]
  },
  {
   "cell_type": "markdown",
   "metadata": {
    "slideshow": {
     "slide_type": "notes"
    }
   },
   "source": [
    "Przełożenie asercji na wykonywalny kod."
   ]
  },
  {
   "cell_type": "code",
   "execution_count": null,
   "metadata": {
    "slideshow": {
     "slide_type": "subslide"
    }
   },
   "outputs": [],
   "source": [
    "Given(/załadowane są predefiniowane pytania i odpowiedzi/) do\n",
    "  @repository = Lemkin::Container['knowledge_repository']\n",
    "  @repository.clear\n",
    "  @repository.bulk_load(DEFAULT_QUESTIONS)\n",
    "end"
   ]
  },
  {
   "cell_type": "code",
   "execution_count": null,
   "metadata": {
    "slideshow": {
     "slide_type": "fragment"
    }
   },
   "outputs": [],
   "source": [
    "When(/pytam '([^']*)'/) do |question|\n",
    "  @system_answer = @strategy.answer(OpenStruct.new(content: question), nil)\n",
    "end"
   ]
  },
  {
   "cell_type": "markdown",
   "metadata": {
    "slideshow": {
     "slide_type": "notes"
    }
   },
   "source": [
    "Użycie parametrów w asercji."
   ]
  },
  {
   "cell_type": "code",
   "execution_count": null,
   "metadata": {
    "slideshow": {
     "slide_type": "fragment"
    }
   },
   "outputs": [],
   "source": [
    "Then(/system odpowiada '([^']*)'/) do |expected_answer|\n",
    "  expect(@system_answer).to eq expected_answer\n",
    "end"
   ]
  },
  {
   "cell_type": "markdown",
   "metadata": {
    "slideshow": {
     "slide_type": "subslide"
    }
   },
   "source": [
    "# Poprawne wykonanie testów\n",
    "\n",
    "&nbsp;\n",
    "\n",
    "<center><img src=\"img/cucumber-1.png\" width=\"1600px\"/></center>"
   ]
  },
  {
   "cell_type": "markdown",
   "metadata": {
    "ExecuteTime": {
     "end_time": "2021-06-11T15:23:24.187766Z",
     "start_time": "2021-06-11T15:23:24.108Z"
    },
    "slideshow": {
     "slide_type": "subslide"
    }
   },
   "source": [
    "# Brakujący krok\n",
    "\n",
    "&nbsp;\n",
    "\n",
    "<center><img src=\"img/cucumber-2.png\" width=\"1600px\"/></center>"
   ]
  },
  {
   "cell_type": "markdown",
   "metadata": {
    "slideshow": {
     "slide_type": "subslide"
    }
   },
   "source": [
    "# Test zakończony błędem\n",
    "\n",
    "&nbsp;\n",
    "\n",
    "<center><img src=\"img/cucumber-3.png\" width=\"1600px\"/></center>"
   ]
  },
  {
   "cell_type": "markdown",
   "metadata": {
    "slideshow": {
     "slide_type": "subslide"
    }
   },
   "source": [
    "# Rozbudowany scenariusz testowy"
   ]
  },
  {
   "cell_type": "code",
   "execution_count": null,
   "metadata": {
    "slideshow": {
     "slide_type": "-"
    }
   },
   "outputs": [],
   "source": [
    "# language: pl\n",
    "Funkcja: superanotacja podobnych pytań\n",
    "\n",
    "  Anotacja podobnych pytań musi być zatwierdzana przez superanotatora.\n",
    "\n",
    "  Założenia:\n",
    "    Zakładając, że mamy zbiór 5 pytań i pytania do nich podobne\n",
    "\n",
    "  Scenariusz: widok wcześniejszych anotacji\n",
    "    Zakładając, że mamy admina olek@lemkin.pl o haśle password\n",
    "    Oraz mamy anotatora jan@lemkin.pl o haśle password\n",
    "    Oraz mamy anotatora piotr@lemkin.pl o haśle password\n",
    "\n",
    "    Gdy logujemy się jako olek@lemkin.pl z hasłem password\n",
    "    I tworzymy paczkę 'A'\n",
    "    I przypisujemy pytania do paczki 'A'\n",
    "    I przypisujemy paczkę 'A' do użytkownika jan@lemkin.pl\n",
    "    I przypisujemy paczkę 'A' do użytkownika piotr@lemkin.pl\n",
    "    I przypisujemy paczkę 'A' do superanotatora olek@lemkin.pl\n",
    "      \n",
    "    I logujemy się jako jan@lemkin.pl z hasłem password\n",
    "    I użytkownik jan@lemkin.pl rozpoczyna anotację pytań dla zadania nr 1\n",
    "    I użytkownik 5-krotnie oznacza pytania i zatwierdza swój wybór\n",
    "      \n",
    "    I logujemy się jako piotr@lemkin.pl z hasłem password\n",
    "    I użytkownik piotr@lemkin.pl rozpoczyna anotację pytań dla zadania nr 1\n",
    "    I użytkownik 5-krotnie oznacza pytania i zatwierdza swój wybór\n",
    "      \n",
    "    I logujemy się jako olek@lemkin.pl z hasłem password\n",
    "    I użytkownik olek@lemkin.pl rozpoczyna anotację pytań dla zadania nr 1\n",
    "\n",
    "    Wtedy użytkownik widzi anotacje dwóch użytkowników\n",
    "    I użytkownik widzi anotację użytkownika jan@lemkin.pl\n",
    "    I użytkownik widzi anotację użytkownika piotr@lemkin.pl"
   ]
  },
  {
   "cell_type": "code",
   "execution_count": null,
   "metadata": {
    "slideshow": {
     "slide_type": "subslide"
    }
   },
   "outputs": [],
   "source": [
    "# language: pl\n",
    "Funkcja: superanotacja podobnych pytań\n",
    "\n",
    "  Anotacja podobnych pytań musi być zatwierdzana przez superanotatora.\n",
    "\n",
    "  Założenia:\n",
    "    Zakładając, że mamy zbiór 5 pytań i pytania do nich podobne\n",
    "\n",
    "  Scenariusz: brak interferencji między anotacjami\n",
    "    Anotacje jednego typu nie mogą \"przeciekać\" do anotacji innego typu\n",
    "\n",
    "    Zakładając, że mamy admina olek@lemkin.pl o haśle password\n",
    "    Oraz mamy anotatora jan@lemkin.pl o haśle password\n",
    "    Oraz mamy anotatora piotr@lemkin.pl o haśle password\n",
    "    Oraz mamy przepisy relewantne dla istniejących pytań\n",
    "\n",
    "\n",
    "    Gdy logujemy się jako olek@lemkin.pl z hasłem password\n",
    "    I tworzymy paczkę 'A' dla podobieństwa\n",
    "    I przypisujemy pytania do paczki 'A'\n",
    "    I przypisujemy paczkę 'A' do użytkownika jan@lemkin.pl\n",
    "    I przypisujemy paczkę 'A' do użytkownika piotr@lemkin.pl\n",
    "      \n",
    "    I logujemy się jako jan@lemkin.pl z hasłem password\n",
    "    I użytkownik jan@lemkin.pl rozpoczyna anotację pytań dla zadania nr 1\n",
    "    I użytkownik 5-krotnie oznacza pytania i zatwierdza swój wybór\n",
    "      \n",
    "    I logujemy się jako piotr@lemkin.pl z hasłem password\n",
    "    I użytkownik piotr@lemkin.pl rozpoczyna anotację pytań dla zadania nr 1\n",
    "    I użytkownik 5-krotnie oznacza pytania i zatwierdza swój wybór\n",
    "\n",
    "    I logujemy się jako olek@lemkin.pl z hasłem password\n",
    "    I tworzymy paczkę 'B' dla relewancji\n",
    "    I przypisujemy pytania do paczki 'B'\n",
    "    I przypisujemy paczkę 'B' do użytkownika jan@lemkin.pl\n",
    "    I przypisujemy paczkę 'B' do superanotatora olek@lemkin.pl\n",
    "    I użytkownik jan@lemkin.pl rozpoczyna anotację pytań dla zadania nr 2\n",
    "    I użytkownik 5-krotnie oznacza pytania i zatwierdza swój wybór\n",
    "      \n",
    "    I logujemy się jako olek@lemkin.pl z hasłem password\n",
    "    I użytkownik olek@lemkin.pl rozpoczyna anotację pytań dla zadania nr 1\n",
    "\n",
    "    Wtedy użytkownik widzi anotacje jednego użytkownika"
   ]
  },
  {
   "cell_type": "markdown",
   "metadata": {
    "slideshow": {
     "slide_type": "subslide"
    }
   },
   "source": [
    "# Wykorzystanie szablonu testowego"
   ]
  },
  {
   "cell_type": "code",
   "execution_count": null,
   "metadata": {
    "slideshow": {
     "slide_type": "-"
    }
   },
   "outputs": [],
   "source": [
    "# language: pl\n",
    "Funkcja: przykłady cech morfologicznych i morfosyntaktycznych fleksemów\n",
    "    Słownik powinien poprawnie interpretować następujące przykłady form\n",
    "    należących do różnych klas fleksyjnych\n",
    "\n",
    "  Założenia:\n",
    "    Zakładając, że kodowanie ustawione jest na 'utf-8'\n",
    "\n",
    "  Szablon scenariusza: przykłady fleksemów rzeczownikowych\n",
    "    Jeżeli w słowniku jest forma '<forma>'\n",
    "    I istnieje dla niej fleksem typu 'rzeczownik'\n",
    "    Wtedy posiada on rodzaj '<rodzaj>'\n",
    "    I dla tej formy posiada on liczbę '<liczba>'\n",
    "    I dla tej formy posiada on przypadek '<przypadek>'\n",
    "    I posiada on kasztowość '<kasztowosc>'\n",
    "\n",
    "    Przykłady:\n",
    "      | forma        | rodzaj           | liczba     | przypadek   | kasztowosc |\n",
    "      | profesor     | męski osobowy    | pojedyncza | mianownik   | m+         |\n",
    "      | profesora    | męski osobowy    | pojedyncza | dopełniacz  | m+         |\n",
    "      | profesorowi  | męski osobowy    | pojedyncza | celownik    | m+         |\n",
    "      | profesora    | męski osobowy    | pojedyncza | biernik     | m+         |\n",
    "      | profesorem   | męski osobowy    | pojedyncza | narzędnik   | m+         |\n",
    "      | profesorze   | męski osobowy    | pojedyncza | miejscownik | m+         |\n",
    "      | profesorze   | męski osobowy    | pojedyncza | wołacz      | m+         |\n",
    "      | kot          | męski żywotny    | pojedyncza | mianownik   | m+         |\n",
    "      | kamień       | męski nieżywotny | pojedyncza | mianownik   | m+         |\n",
    "      | kobieta      | żeński           | pojedyncza | mianownik   | m+         |\n",
    "      | dziecko      | nijaki           | pojedyncza | mianownik   | m+         |\n",
    "      | krzesło      | nijaki           | pojedyncza | mianownik   | m+         |\n",
    "      | profesorowie | męski osobowy    | mnoga      | mianownik   | m+         |\n",
    "      | Kot          | męski osobowy    | pojedyncza | mianownik   | Mm+        |"
   ]
  },
  {
   "cell_type": "markdown",
   "metadata": {
    "slideshow": {
     "slide_type": "subslide"
    }
   },
   "source": [
    "# Gherkin i Cucumber w Javie\n",
    "\n",
    "Gradle:\n",
    "```\n",
    "dependencies {\n",
    "    testCompile 'io.cucumber:cucumber-java8:6.10.4'\n",
    "    testCompile 'io.cucumber:cucumber-junit:6.10.4'\n",
    "}\n",
    "\n",
    "repositories {\n",
    "    mavenCentral()\n",
    "}\n",
    "```"
   ]
  },
  {
   "cell_type": "code",
   "execution_count": null,
   "metadata": {
    "slideshow": {
     "slide_type": "subslide"
    }
   },
   "outputs": [],
   "source": [
    "# language: pl\n",
    "Funkcja: domyślna odpowiedź\n",
    "\n",
    "  Lemkin musi mieć domyślną odpowiedź prezentowaną użytkownikowi, jeśli wszelkie\n",
    "  wcześniejsze strategie znalezienia odpowiedzi zawiodły.\n",
    "\n",
    "  Założenia:\n",
    "    Zakładając, że wybrana jest strategia domyślna\n",
    "\n",
    "  Scenariusz: zadanie dowolnego pytania\n",
    "    Gdy pytam 'Czy dzisiaj wzejdzie słońce'\n",
    "    Wtedy system odpowiada 'Nie znam odpowiedzi na to pytanie, ale postaram się dowiedzieć.'"
   ]
  },
  {
   "cell_type": "code",
   "execution_count": null,
   "metadata": {
    "slideshow": {
     "slide_type": "fragment"
    }
   },
   "outputs": [],
   "source": [
    "package com.example;\n",
    "import io.cucumber.java8.En;\n",
    "\n",
    "public class StepDefinitions implements En {\n",
    "    public StepDefinitions() {\n",
    "        When(\"pytam {string}\", (String question) -> {\n",
    "            // implementacja\n",
    "        });\n",
    "      \n",
    "        Then(\"system odpowiada {string}\", (String answer) -> {\n",
    "            // implementacja\n",
    "        });\n",
    "    }\n",
    "}"
   ]
  },
  {
   "cell_type": "markdown",
   "metadata": {
    "slideshow": {
     "slide_type": "subslide"
    }
   },
   "source": [
    "# Spock"
   ]
  },
  {
   "cell_type": "code",
   "execution_count": null,
   "metadata": {
    "slideshow": {
     "slide_type": "fragment"
    }
   },
   "outputs": [],
   "source": [
    "import spock.lang.*\n",
    "  \n",
    "class MyFirstSpecification extends Specification {\n",
    "  def map = new HashMap()\n",
    "\n",
    "  def \"HashMap accepts null key\"() {\n",
    "    given:\n",
    "    // empty\n",
    "      \n",
    "    when:\n",
    "    map.put(null, \"elem\")\n",
    "\n",
    "    then:\n",
    "    notThrown(NullPointerException)\n",
    "  }\n",
    "}"
   ]
  },
  {
   "cell_type": "markdown",
   "metadata": {
    "slideshow": {
     "slide_type": "slide"
    }
   },
   "source": [
    "![Pytania? ](img/question.jpg)"
   ]
  },
  {
   "cell_type": "code",
   "execution_count": null,
   "metadata": {},
   "outputs": [],
   "source": []
  }
 ],
 "metadata": {
  "celltoolbar": "Slideshow",
  "kernelspec": {
   "display_name": "Ruby 2.4.2",
   "language": "ruby",
   "name": "ruby"
  },
  "language_info": {
   "file_extension": ".rb",
   "mimetype": "application/x-ruby",
   "name": "ruby",
   "version": "2.7.2"
  },
  "toc": {
   "base_numbering": 1,
   "nav_menu": {
    "height": "281px",
    "width": "244px"
   },
   "number_sections": false,
   "sideBar": false,
   "skip_h1_title": false,
   "title_cell": "Table of Contents",
   "title_sidebar": "Contents",
   "toc_cell": false,
   "toc_position": {
    "height": "46.9792px",
    "left": "1831.35px",
    "top": "1239px",
    "width": "173.715px"
   },
   "toc_section_display": false,
   "toc_window_display": true
  }
 },
 "nbformat": 4,
 "nbformat_minor": 4
}
