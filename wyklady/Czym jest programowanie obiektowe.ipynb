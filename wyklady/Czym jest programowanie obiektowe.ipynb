{
 "cells": [
  {
   "cell_type": "markdown",
   "metadata": {
    "slideshow": {
     "slide_type": "slide"
    }
   },
   "source": [
    "# Czym jest programowanie obiektowe?\n",
    "\n",
    "## Programowanie imperatywne, funkcyjne i obiektowe\n",
    "\n",
    "<br/>\n",
    "\n",
    "## dr inż. Aleksander Smywiński-Pohl\n",
    "\n",
    "## apohllo@agh.edu.pl\n",
    "\n",
    "## http://apohllo.pl/dydaktyka/programowanie-obiektowe"
   ]
  },
  {
   "cell_type": "markdown",
   "metadata": {
    "slideshow": {
     "slide_type": "notes"
    }
   },
   "source": [
    "Nie można nigdy zapominać o tym, że programy zawsze są interepretowane przez komputer. Jeden paradygmat programowania nie daje nam większych możliwości niż inny, w sensie tego co da się osiągnąć za pomocą komputera. Różnica polega na drodze jaką trzeba pokonać aby to osiągnąć. A także na łatwości **wykrywania błędów** oraz **rozszerzania** istniejących własności programu."
   ]
  },
  {
   "cell_type": "markdown",
   "metadata": {
    "slideshow": {
     "slide_type": "slide"
    }
   },
   "source": [
    "# Program imperatywny\n",
    "\n",
    "## instrukcje + dane = program"
   ]
  },
  {
   "cell_type": "markdown",
   "metadata": {
    "slideshow": {
     "slide_type": "notes"
    }
   },
   "source": [
    "Program można postrzegać jako połączenie *instrukcji* oraz *danych*. \n",
    "\n",
    "Instrukcje (rozkazy) określają co ma się stać. Można je porównać do zdań w trybie rozkazującym. \n",
    "\n",
    "Dane przechowują stan programu. \n",
    "\n",
    "Wynik wykonania instrukcji uzależniony jest od bieżącego stanu programu."
   ]
  },
  {
   "cell_type": "markdown",
   "metadata": {
    "slideshow": {
     "slide_type": "subslide"
    }
   },
   "source": [
    "# Asembler - język imperatywny\n",
    "\n",
    "```NASM\n",
    "mov ax, 5\n",
    "mov bx, 6\n",
    "add ax, bc\n",
    "push ax\n",
    "push msg\n",
    "call _printf\n",
    "```"
   ]
  },
  {
   "cell_type": "markdown",
   "metadata": {
    "slideshow": {
     "slide_type": "notes"
    }
   },
   "source": [
    "Asembler jest paradygmatycznym przykładem języka imperatywnego. Wprost odnosi się do sprzętu - program określa gdzie dane mają być zapisane i co się ma z nimi stać. Wykonanie podprogramu w asemblerze sprowadza się do skoku do innego obszaru pamięci instrukcji. Dlatego w przybliżeniu można powiedzieć, że cały program jest jednym wielkim ciągiem instrukcji."
   ]
  },
  {
   "cell_type": "markdown",
   "metadata": {
    "slideshow": {
     "slide_type": "subslide"
    }
   },
   "source": [
    "# Języki imperatywne\n",
    "\n",
    "* Asembler\n",
    "* FORTRAN\n",
    "* ALGOL\n",
    "* COBOL\n",
    "* BASIC\n",
    "* Pascal\n",
    "* C\n",
    "* ..."
   ]
  },
  {
   "cell_type": "markdown",
   "metadata": {
    "slideshow": {
     "slide_type": "notes"
    }
   },
   "source": [
    "Obecnie programowanie imperatywne w pewnym stopniu wraca do łask za sprawą data science - szybciej jest napisać skrypt przetwarzający dane w stylu imperatywnym. Oczywiście efektem ubocznym jest gorsza jakość kodu, która jednak nie jest kluczowa w tym zastoswoaniu."
   ]
  },
  {
   "cell_type": "markdown",
   "metadata": {
    "slideshow": {
     "slide_type": "slide"
    }
   },
   "source": [
    "# Program funkcyjny\n",
    "\n",
    "## Ewaluacja funkcji + dane = program"
   ]
  },
  {
   "cell_type": "markdown",
   "metadata": {
    "slideshow": {
     "slide_type": "notes"
    }
   },
   "source": [
    "Ewaluacja (obliczenie wyniku) funkcji w czystych językach funkcyjnych dla określonych argumentów (danych) zawsze daje ten sam wynik. Funkcja z języków funkcyjnych modelowana jest na bazie funkcji w matematyce. W językach funkcyjnych nie występują *zmienne*, w tym sensie, że w danym kontekście określona \"zmienna\" może być tylko zainicjowana - nie można przypisać jej innej wartości. Nie oznacza to, że zmienna ta przez cały cykl życia programu ma identyczną wartość, ale przy określonym wywołaniu funkcji ma określona wartość.\n",
    "\n",
    "Istotnym problemem w językach funkcyjnych są wywołania, które dają skutki uboczne - np. wyświetlenie czegoś na ekranie, zapisanie do bazy danych, utworzenie pliku. W językach czysto funkcyjnych realizowane jest to za pomocą mechanizmu monad. Mechniazm ten w uproszczeniu sprowadza się do tego, że otoczenie programu (np. standardowe wyjście) traktowane jest jako specjalna struktura danych, która ulega zmianie po każdym wywołaniu funkcji posiadającej skutki uboczne. Powoduje to utworzenie nowej struktury. Dlatego z punktu widzenia programu funkcyjnego nigdy nie mamy do czynienia z \"tym samym\" otoczeniem, ponieważ każda interakcja z nim tworzy \"nowe otoczenie\"."
   ]
  },
  {
   "cell_type": "markdown",
   "metadata": {
    "slideshow": {
     "slide_type": "subslide"
    }
   },
   "source": [
    "# Haskell - język funkcyjny"
   ]
  },
  {
   "cell_type": "code",
   "execution_count": null,
   "metadata": {
    "slideshow": {
     "slide_type": "fragment"
    }
   },
   "outputs": [],
   "source": [
    "silnia :: Int -> Int\n",
    "silnia 0 = 1\n",
    "silnia x = x * silnia(x-1)\n",
    "\n",
    "silnia 5 --> 120\n",
    "\n",
    "znak :: Int -> Int\n",
    "znak x \n",
    "  | x == 0 = 0\n",
    "  | x < 0 = -1\n",
    "  | otherwise = 1\n",
    "\n",
    "znak 10 --> 1\n",
    "znak (-10) --> -1"
   ]
  },
  {
   "cell_type": "code",
   "execution_count": null,
   "metadata": {
    "slideshow": {
     "slide_type": "subslide"
    }
   },
   "outputs": [],
   "source": [
    "pierwiastki :: Double -> Double -> Double -> [Double]\n",
    "pierwiastki a b c\n",
    "  | delta < 0 = []\n",
    "  | delta == 0 = [- b / (2 * a)]\n",
    "  | delta > 0 = [(- b - sqrt(delta)) / (2 * a), (- b + sqrt(delta)) / (2 * a)]\n",
    "  where\n",
    "    delta = b ^ 2 - 4 * a * c\n",
    "    \n",
    "pierwiastki (-3) 1 2\n",
    "[1.0,-0.6666666666666666]"
   ]
  },
  {
   "cell_type": "markdown",
   "metadata": {
    "slideshow": {
     "slide_type": "notes"
    }
   },
   "source": [
    "Wartości w językach funkcyjnych obliczane są \"leniwie\", tzn. wtedy kiedy są potrzebne żeby obliczyć ostateczny wynik. Kolejność definicji nie ma znaczenia, dlatego w powyższym przykładzie `delta` jest zdefiniowana po tym, jak została użyta. Warto również zwrócić uwagę na sposób obsługi liczby wyników równania - funkcja zawsze musi zwracać obiekt tego samego typu. Dlatego wykorzystana została tablica, ponieważ można zwrócic 0, 1 lub 2 wyniki"
   ]
  },
  {
   "cell_type": "code",
   "execution_count": null,
   "metadata": {
    "slideshow": {
     "slide_type": "subslide"
    }
   },
   "outputs": [],
   "source": [
    "rownanie_kwadratowe :: Double -> Double -> Double -> Double -> Double\n",
    "rownanie_kwadratowe a b c x = a * x ^ 2 + b * x + c\n",
    "\n",
    "jakas_funkcja_kwadratowa :: Double -> Double\n",
    "jakas_funkcja_kwadratowa x = rownanie_kwadratowe 1 (-1) 5 x\n",
    "jakas_funkcja_kwadratowa 10 -- > 95.0"
   ]
  },
  {
   "cell_type": "markdown",
   "metadata": {
    "slideshow": {
     "slide_type": "notes"
    }
   },
   "source": [
    "Języki funkcyjne pozwalają np. na częściową aplikację funkcji. W pewnym sensie wynik takiego wywołania przypomina obiekt, ponieważ zapamiętuje pewien *stan* obliczenia. Tego stanu nie można jednak zmienić."
   ]
  },
  {
   "cell_type": "code",
   "execution_count": null,
   "metadata": {
    "slideshow": {
     "slide_type": "subslide"
    }
   },
   "outputs": [],
   "source": [
    "razy_dwa :: Int -> Int\n",
    "razy_dwa x = 2 * x\n",
    "\n",
    "map razy_dwa [1..10] -- > [2,4,6,8,10,12,14,16,18,20]\n",
    "\n",
    "map (\\x -> x * 3) [1..10] -- > [3,6,9,12,15,18,21,24,27,30]"
   ]
  },
  {
   "cell_type": "markdown",
   "metadata": {
    "slideshow": {
     "slide_type": "notes"
    }
   },
   "source": [
    "Funkcje w językach funkcyjnych traktowane są jako obywatele *pirewszej kategorii*. Oznacza to w szczególności, że argumentami funkcji mogą być inne funkcje.\n",
    "\n",
    "Co więcej argumentami funkcji mogą być również *funkcje anonimowe* realizowane za pomocą *wyrażeń lambda*."
   ]
  },
  {
   "cell_type": "markdown",
   "metadata": {
    "slideshow": {
     "slide_type": "subslide"
    }
   },
   "source": [
    "# Przykłady języków funkcyjnych\n",
    "\n",
    "* Lisp (Clojure, Scheme)\n",
    "* Haskell\n",
    "* Clean\n",
    "* OCaml\n",
    "* Erlang\n",
    "* Scala\n",
    "* Elixir\n",
    "* ..."
   ]
  },
  {
   "cell_type": "markdown",
   "metadata": {
    "slideshow": {
     "slide_type": "notes"
    }
   },
   "source": [
    "Funkcyjny styl programowania również zyskuje w kontekście data science, ponieważ stan obliczeń realizowanych np. w klastrze Spark powinien być odtwarzalny, tzn. jeśli który węzeł klastra nie wykona obliczenia, to można je bez problemu przenieść na inny węzeł. Byłoby to znacznie trudniejsze, gdyby obliczenie wywoływało skutki uboczne istotne z punktu widzenia wykonywanych obliczeń (np. wysłanie wiadomości e-mail)."
   ]
  },
  {
   "cell_type": "markdown",
   "metadata": {
    "slideshow": {
     "slide_type": "slide"
    }
   },
   "source": [
    "# Kahoot nr 1\n",
    "\n",
    "https://kahoot.it/"
   ]
  },
  {
   "cell_type": "markdown",
   "metadata": {
    "slideshow": {
     "slide_type": "slide"
    }
   },
   "source": [
    "# Programy obiektowe\n",
    "\n",
    "### Obiekty + wymiana komunikatów = programy"
   ]
  },
  {
   "cell_type": "markdown",
   "metadata": {
    "slideshow": {
     "slide_type": "notes"
    }
   },
   "source": [
    "Program obiektowy stara się odzwierciedlać jeden z najbardziej podstawowych sposobów myślenia o świecie - myślenie wykorzystujące *obiekty*. W tym ujęciu obiekt jest podstawowym elementem rzeczywistości - posiada unikalną tożsamość,\n",
    "ale może zmieniać swój *stan*. Interakcje obiektu ze światem zewnętrznym odbywają się za pomocą wymiany komunikatów."
   ]
  },
  {
   "cell_type": "markdown",
   "metadata": {
    "slideshow": {
     "slide_type": "slide"
    }
   },
   "source": [
    "# Cykl życia obiektu\n",
    "<img src=\"img/frog.jpg\"/>"
   ]
  },
  {
   "cell_type": "markdown",
   "metadata": {
    "slideshow": {
     "slide_type": "notes"
    }
   },
   "source": [
    "Istotnymi momentami w cyklu życia obiektu są inicjacja - utworzenie obiektu oraz destrukcja - moment, w którym obiekt przestaje istnieć. Pomiędzy nimi obiekt może ulegać różnym przemianom, ale zachowuje swoją tożsamość. Podobnie jak żaba na rysunku - najpierw jest skrzekiem, potem kijanką, której w pewnym momencie wyrastają nogi, potem zaś jest żabą z ogonem, a na końcu dorosłą żabą, która może \"tworzyć nowe żaby\". Pomimo różnego stanu jest to ciągle \"ta sama żaba\".\n",
    "\n",
    "W dużym uproszczeniu można by powiedzieć, że obiekt to po prostu pewien obszar pamięci danych, zatem utworzenie obiektu to alokacja pamięci, jego destrukcja, to zwolnienie tej pamięci, a wszystki co jest pomiędzy, to po prostu zmiany stanu pamięci. Różnica dotyczy jednak faktu, że w trakcie tworzenie obiektu, jego destrukcji oraz pomiędzy tymi momentami może następować wiele wymian komunikatów, co zasadniczo zmienia sposób myślenia o tym jak rozumiemy ten \"obszar pamięci\". Myślenie obiektowy narzuca nam zupełnie inny sposób myślenia - odrywamy się od myślenia w kategoriach sprzętu i przechodzimy do myślenia w kategoriach obiektów i ich interakcji."
   ]
  },
  {
   "cell_type": "code",
   "execution_count": 3,
   "metadata": {
    "slideshow": {
     "slide_type": "subslide"
    }
   },
   "outputs": [
    {
     "data": {
      "text/html": [
       "0"
      ]
     },
     "execution_count": 3,
     "metadata": {},
     "output_type": "execute_result"
    }
   ],
   "source": [
    "class Frog {\n",
    "    int numberOfLegs;\n",
    "    \n",
    "    public Frog(){\n",
    "        numberOfLegs = 0;\n",
    "    }\n",
    "}\n",
    "\n",
    "Frog kermit = new Frog();\n",
    "kermit.numberOfLegs;"
   ]
  },
  {
   "cell_type": "markdown",
   "metadata": {
    "slideshow": {
     "slide_type": "subslide"
    }
   },
   "source": [
    "# Wymiana komunikatów\n",
    "\n",
    "<img src=\"img/kermit_talking.gif\"/>"
   ]
  },
  {
   "cell_type": "code",
   "execution_count": 4,
   "metadata": {
    "slideshow": {
     "slide_type": "subslide"
    }
   },
   "outputs": [
    {
     "name": "stdout",
     "output_type": "stream",
     "text": [
      "2\n",
      "4\n",
      "6\n"
     ]
    },
    {
     "data": {
      "text/plain": [
       "No Outputs"
      ]
     },
     "execution_count": 4,
     "metadata": {},
     "output_type": "execute_result"
    }
   ],
   "source": [
    "class Frog {\n",
    "    int numberOfLegs;\n",
    "    \n",
    "    public Frog(){\n",
    "        numberOfLegs = 0;\n",
    "    }\n",
    "    \n",
    "    public void grow(){\n",
    "        numberOfLegs += 2;\n",
    "    }\n",
    "}\n",
    "\n",
    "Frog kermit = new Frog();\n",
    "kermit.grow();\n",
    "System.out.println(kermit.numberOfLegs);\n",
    "kermit.grow();\n",
    "System.out.println(kermit.numberOfLegs);\n",
    "kermit.grow();\n",
    "System.out.println(kermit.numberOfLegs);"
   ]
  },
  {
   "cell_type": "markdown",
   "metadata": {
    "slideshow": {
     "slide_type": "subslide"
    }
   },
   "source": [
    "<img src=\"img/6legs.jpg\"/>"
   ]
  },
  {
   "cell_type": "markdown",
   "metadata": {
    "slideshow": {
     "slide_type": "slide"
    }
   },
   "source": [
    "# Typowe cechy języków obiektowych\n",
    "\n",
    "* *abstrakcja* (od typów sprzętowych)\n",
    "* *ukrywanie implementacji* (przed innymi obiektami)\n",
    "* *przesyłanie komunikatów* (pomiędzy obiektami)\n",
    "* *polimorfizm* (zachowania)\n",
    "* *dziedziczenie* (interfesju i/lub implementacji)"
   ]
  },
  {
   "cell_type": "markdown",
   "metadata": {
    "slideshow": {
     "slide_type": "notes"
    }
   },
   "source": [
    "*Abstrakcja* - w kontraście do konkretnych typów dostępnych na danej maszynie cyfrowej (np. typ całkowity o długości 64bitów bez znaku), pozwala tworzyć nowe typy danych, którch zachowanie definiowane jest przez użytkownika.\n",
    "\n",
    "*Ukrywanie implementacji* (hermetyzacja) - zmiana stanu obiektu odbywa się poprzez zdefiniowany interfejs (zbiór metod). Inne obiekty nie mają \"bezpośredniego\" (innego niż przez wywoływanie metod) dostępu do wewnętrznego stanu obiektu.\n",
    "\n",
    "*Przesyłanie komunikatów* - obiekty komunikują się ze sobą wysyłając komunikaty. Wykonanie określonego zadania może zostać zrealizowane poprzez przekazanie komunikatów do innego obiektu lub obiektów (delegowanie komunikatów). Obiekt często \"nie wiem\" z jakim innym obiektem (jakiego typu) się komunikuje. Jedyne co musi wiedzieć, to jaki jest interfejs komunikacyjny - jaki jest format wiadomości wysyłanej i odbieranej.\n",
    "\n",
    "*Polimorfizm* - możliwość zastępowania jednych obiektów, innymi o ile implementują ten sam interfejs. Pozwala na dużą elastyczność programowania, ponieważ możmy zastąpić jeden obiekt innym, np. o bardziej pożądanych cechach. Możemy również odroczyć decyzję o użyciu konkretnej implementacji do momentu kiedy program zostanie uruchomiony.\n",
    "\n",
    "*Dziedziczenie* - mechanizm pozwalający na ograniczanie powtarzania kodu, poprzez określanie wspólnego zachowania dla grup obiektów, które mogą podobne pod jednym względem, ale różnić się pod innym względem.\n",
    "\n",
    "W trakcie kolejnych wykładów będziemy przyglądać się tym pojęciom i sposobom ich realizacji w różnych językach programowania."
   ]
  },
  {
   "cell_type": "markdown",
   "metadata": {
    "slideshow": {
     "slide_type": "slide"
    }
   },
   "source": [
    "# Abstrakcja"
   ]
  },
  {
   "cell_type": "code",
   "execution_count": null,
   "metadata": {
    "slideshow": {
     "slide_type": "fragment"
    }
   },
   "outputs": [],
   "source": [
    "struct complex {\n",
    "  double re;\n",
    "  double im;\n",
    "}\n",
    "\n",
    "struct complex cpx_add(struct complex arg1, struct complex arg2){\n",
    "  struct complex result = malloc(sizeof(complex));\n",
    "  result.re = arg1.re + arg2.re;\n",
    "  result.im = arg1.im + arg2.im;\n",
    "  resturn result;\n",
    "}"
   ]
  },
  {
   "cell_type": "markdown",
   "metadata": {
    "slideshow": {
     "slide_type": "notes"
    }
   },
   "source": [
    "Typowym przykładem abstrakcji jest liczba urojona. Liczby \"rzeczywiste\" są w przybliżeniu implementowany na maszynach komputerowych, np. za pomocą dostępnego w języku C typu `double`. Natomiast systemy komputerowe nie dysponują typem złożonym odpowiadającym liczbie urojonej. W językach imperatywnych problem ten rozwiązuje się poprzez struktury, które umożliwiają łączenie wartości prostych. Niemniej jednak struktura oraz operujące na niej funkcje i procedury nie są w sposób jawny powiązane ze sobą. Każda funkcja ma dostęp do wszystkich danych zdefiniowanych w strukturze i może w dowolny sposób nimi manipulować."
   ]
  },
  {
   "cell_type": "markdown",
   "metadata": {
    "slideshow": {
     "slide_type": "subslide"
    }
   },
   "source": [
    "# Abstrakcja w językach obiektowych"
   ]
  },
  {
   "cell_type": "code",
   "execution_count": 5,
   "metadata": {
    "slideshow": {
     "slide_type": "fragment"
    }
   },
   "outputs": [
    {
     "data": {
      "text/plain": [
       "No Outputs"
      ]
     },
     "execution_count": 5,
     "metadata": {},
     "output_type": "execute_result"
    }
   ],
   "source": [
    "class Complex {\n",
    "    public double re;\n",
    "    public double im;\n",
    "    \n",
    "    public Complex(double re, double im){\n",
    "        this.re = re;\n",
    "        this.im = im;\n",
    "    }\n",
    "    \n",
    "    public Complex add(Complex other){\n",
    "        return new Complex(this.re + other.re, this.im + other.im);\n",
    "    }\n",
    "    \n",
    "    public String toString(){\n",
    "        return \"Re: \" + this.re + \", Im: \" + this.im;\n",
    "    }\n",
    "}\n",
    "null"
   ]
  },
  {
   "cell_type": "code",
   "execution_count": 6,
   "metadata": {
    "slideshow": {
     "slide_type": "fragment"
    }
   },
   "outputs": [
    {
     "data": {
      "text/html": [
       "Re: -1&#8203;.0, Im: 1&#8203;.0"
      ]
     },
     "execution_count": 6,
     "metadata": {},
     "output_type": "execute_result"
    }
   ],
   "source": [
    "Complex a = new Complex(1,2);\n",
    "Complex b = new Complex(-2,-1);\n",
    "Complex c = a.add(b);"
   ]
  },
  {
   "cell_type": "markdown",
   "metadata": {
    "slideshow": {
     "slide_type": "notes"
    }
   },
   "source": [
    "W językach obiektowych stworzenie nowej klasy obiektów (nowej abstrakcji) powoduje, że osoba tworząc program ma do dyspozycji nowy **typ**, który można wykorzystywać w sposób analogiczny z typami wbudowanymi. W Javie nie można niestety przeciążać operatorów dlatego nie możemy napisać c = a + b; ale poza tym - funkcjonalnie - typ `Complex` nie różni się od typów wbudowanych."
   ]
  },
  {
   "cell_type": "markdown",
   "metadata": {
    "slideshow": {
     "slide_type": "slide"
    }
   },
   "source": [
    "# Hermetyzacja"
   ]
  },
  {
   "cell_type": "code",
   "execution_count": null,
   "metadata": {
    "slideshow": {
     "slide_type": "fragment"
    }
   },
   "outputs": [],
   "source": [
    "class Car {\n",
    "    private String vin;\n",
    "    private Color color;\n",
    "    private Person owner;\n",
    "    private int speed;\n",
    "}"
   ]
  },
  {
   "cell_type": "markdown",
   "metadata": {
    "slideshow": {
     "slide_type": "notes"
    }
   },
   "source": [
    "Cechy oraz związki w programowaniu obietkowym reprezentowane są najczęściej za pomocą *atrybutów*.\n",
    "Cechy mogą mieć charakter statyczny - np. VIN oraz dynamiczny - np. prędkość. Zmiana wartości cech powinna obywać się za pomocą dobrze zdefiniowanego interfejsu, dlatego atrybuty najczęściej są *prywatne*. Oznacza to, że tylko sam obiekt oraz obiekty tej samej klasy mogą modyfikować wartości jego atrybutów.\n",
    "\n",
    "Nazwy cech i związków powinny być rzeczownikami. W Javie nazwa klasy pisana jest wielką literą, natomiast atrbuty pisane są małą literą. W obu przypadkach stosowana jest notacja wielbłądzia"
   ]
  },
  {
   "cell_type": "markdown",
   "metadata": {
    "slideshow": {
     "slide_type": "slide"
    }
   },
   "source": [
    "<img src=\"https://upload.wikimedia.org/wikipedia/commons/b/b1/Chameau_de_bactriane.JPG\" width=\"1200\"/>"
   ]
  },
  {
   "cell_type": "markdown",
   "metadata": {
    "slideshow": {
     "slide_type": "notes"
    }
   },
   "source": [
    "Wielbłąd."
   ]
  },
  {
   "cell_type": "markdown",
   "metadata": {
    "slideshow": {
     "slide_type": "slide"
    }
   },
   "source": [
    "# Rodzaje notacji - dygresja\n",
    "\n",
    "* `PascalCase` - notacja Pascalowska\n",
    "* `camelCase` - notacja wielbłądzia\n",
    "* `snake_case` - notacja z pokreśleniami (wężowa?)\n",
    "* `lisp-case` - notacja lispowa (choć bardziej odpowiada nam szaszłykowa)"
   ]
  },
  {
   "cell_type": "markdown",
   "metadata": {
    "slideshow": {
     "slide_type": "slide"
    }
   },
   "source": [
    "# Hermetyzacja"
   ]
  },
  {
   "cell_type": "code",
   "execution_count": null,
   "metadata": {
    "slideshow": {
     "slide_type": "fragment"
    }
   },
   "outputs": [],
   "source": [
    "class Car {\n",
    "    private Color color;\n",
    "    \n",
    "    public void paint(Color newColor){\n",
    "        this.color = newColor;\n",
    "    }\n",
    "}"
   ]
  },
  {
   "cell_type": "markdown",
   "metadata": {
    "slideshow": {
     "slide_type": "notes"
    }
   },
   "source": [
    "Ukrywanie implementacji oznacza, że *zmiany stanu* obiektu realizowane są za pomocą ściśle zdefiniowanego interfejsu. Inne obiekty nie mogą swobodnie manipulować atrybutami. Dzięki temu ogranicza się liczbę punktów styku pomiędzy obiektami, co pozytywnie wpływa na możliwość późniejszej modyfikacji zachowania obiektu. "
   ]
  },
  {
   "cell_type": "markdown",
   "metadata": {
    "slideshow": {
     "slide_type": "subslide"
    }
   },
   "source": [
    "# Hermetyzacja a powstawanie obiektu"
   ]
  },
  {
   "cell_type": "code",
   "execution_count": 9,
   "metadata": {
    "slideshow": {
     "slide_type": "fragment"
    }
   },
   "outputs": [
    {
     "data": {
      "text/html": [
       "VIN: 1FTWW33P34EB00251, prędkość: 0"
      ]
     },
     "execution_count": 9,
     "metadata": {},
     "output_type": "execute_result"
    }
   ],
   "source": [
    "class Car {\n",
    "    private String vin;\n",
    "    private int speed;\n",
    "\n",
    "    public Car(String vin){\n",
    "        if(vin.length() != 17)\n",
    "            throw new RuntimeException(\"Invalid VIN!\");\n",
    "        this.vin = vin;\n",
    "        this.speed = 0;\n",
    "    }\n",
    "\n",
    "    public String toString(){\n",
    "        return \"VIN: \" + this.vin + \", prędkość: \" + this.speed;\n",
    "    }\n",
    "}\n",
    "\n",
    "Car brandNewCar = new Car(\"1FTWW33P34EB00251\");"
   ]
  },
  {
   "cell_type": "markdown",
   "metadata": {
    "slideshow": {
     "slide_type": "notes"
    }
   },
   "source": [
    "Powstanie obiektu jest bardzo ważnym momentem w cyklu jego życia. Do tworzenia obiektów wykorzystywany jest konstruktor. \n",
    "Tworzenie obiektów tylko za pomocą konstruktora umożliwia zabezpieczenie się przed sytuacją, w której obiekt nie został w pełni zainicjowany (nie wszystkie jego atrybuty zostały poprawnie określone), a mógłby zostać użyty w programie.\n",
    "Wywołanie konstruktora następuje w Javie za pomocą słowa kluczowego `new`, które odpowiedzialne jest za zaalokowanie odpowiedniej struktury pamięci oraz inicjalizację obiektu. W Javie nie występują destruktory, a za zwalnianie pamięci\n",
    "odpowiedzialny jest śmieciarz (garbage collector).\n",
    "\n",
    "Konstruktor najczęściej jest *publiczny*, co oznacza, że inne obiekty mogą tworzyć obiekt danego rodzaju.\n",
    "Przykładowo - nowoutworzony samochód ma domyślnie prędkość określoną na 0, a numer VIN określany jest w \"fabryce\".\n",
    "Konstruktor weryfikuje poprawność numeru VIN - jeśli jest on niepoprawny, to rzucany jest *wyjątek*."
   ]
  },
  {
   "cell_type": "markdown",
   "metadata": {
    "slideshow": {
     "slide_type": "slide"
    }
   },
   "source": [
    "# Wymiana komunikatów - odczyt oraz zmiana stanu"
   ]
  },
  {
   "cell_type": "code",
   "execution_count": 10,
   "metadata": {
    "slideshow": {
     "slide_type": "fragment"
    }
   },
   "outputs": [
    {
     "data": {
      "text/html": [
       "Car&#8203;@788a2a37"
      ]
     },
     "execution_count": 10,
     "metadata": {},
     "output_type": "execute_result"
    }
   ],
   "source": [
    "class Car {\n",
    "    private String vin; \n",
    "    private int speed;\n",
    "    \n",
    "    public Car(String vin){\n",
    "        this.vin = vin;\n",
    "        this.speed = 0;\n",
    "    }\n",
    "    \n",
    "    public int getSpeed(){\n",
    "        return this.speed;\n",
    "    }\n",
    "    \n",
    "    public void start(){\n",
    "        this.speed = 30;\n",
    "    }\n",
    "    \n",
    "    public void stop(){\n",
    "        this.speed = 0;\n",
    "    }\n",
    "}\n",
    "Car car = new Car(\"1FTWW33P34EB00251\");"
   ]
  },
  {
   "cell_type": "code",
   "execution_count": 12,
   "metadata": {
    "slideshow": {
     "slide_type": "subslide"
    }
   },
   "outputs": [
    {
     "name": "stdout",
     "output_type": "stream",
     "text": [
      "0\n",
      "30\n",
      "0\n"
     ]
    },
    {
     "data": {
      "text/plain": [
       "No Outputs"
      ]
     },
     "execution_count": 12,
     "metadata": {},
     "output_type": "execute_result"
    }
   ],
   "source": [
    "Car car = new Car(\"1FTWW33P34EB00251\");\n",
    "System.out.println(car.getSpeed()); \n",
    "car.start();\n",
    "System.out.println(car.getSpeed());\n",
    "car.stop();\n",
    "System.out.println(car.getSpeed());"
   ]
  },
  {
   "cell_type": "markdown",
   "metadata": {
    "slideshow": {
     "slide_type": "notes"
    }
   },
   "source": [
    "Zmiana stanu obiektu odbywa się poprzez wysłanie komunikatu do obiektu. Wysłanie komunikatu skutkuje wykonaniem *metody*, która najczęściej odczytuje lub zmienia stan obiektu. Komunikat może być również propagowany do innych obiektów. Mamy wtedy do czynienia z delegacją komunikatu. Jest to jedna z najważniejszych technik programowania obiektowego - znacznie ważniejsza niż *dziedziczenie*, któremy poświęcimy dość dużo miejsca w trakcie wykładów. Odpowiednia dekompozycja problemu na klasy, które mają dobrze zdefiniowane zadania i wymieniają komunikaty pomiędzy sobą jest kluczową umiejętnością osoby wykorzystującej programowanie obiektowe."
   ]
  },
  {
   "cell_type": "markdown",
   "metadata": {
    "slideshow": {
     "slide_type": "slide"
    }
   },
   "source": [
    "# Polimorfizm - uzasadnienie"
   ]
  },
  {
   "cell_type": "code",
   "execution_count": null,
   "metadata": {
    "slideshow": {
     "slide_type": "fragment"
    }
   },
   "outputs": [],
   "source": [
    "struct list {\n",
    "    //...\n",
    "}\n",
    "struct set {\n",
    "    //...\n",
    "}\n",
    "\n",
    "void list_add(char* value);\n",
    "void set set_add(char* value);"
   ]
  },
  {
   "cell_type": "markdown",
   "metadata": {
    "slideshow": {
     "slide_type": "notes"
    }
   },
   "source": [
    "Polimorfizm, wielopostaciowość to mechanizm polegający na możliwości wysłania tego samego komunikatu do obiektów należących do różnych klas.\n",
    "Brak polimorfizmu oznacza, że dla każdego typu danych musimy implementować osobną metodę, nawet jeśli implementacja dla dwóch różnych typów mogłaby wyglądać identycznie, opierając się na wspólnym interfejsie eksponowanym przez te typy."
   ]
  },
  {
   "cell_type": "markdown",
   "metadata": {
    "slideshow": {
     "slide_type": "slide"
    }
   },
   "source": [
    "# Polimorfizm - interfejsy"
   ]
  },
  {
   "cell_type": "code",
   "execution_count": 13,
   "metadata": {
    "slideshow": {
     "slide_type": "fragment"
    }
   },
   "outputs": [
    {
     "data": {
      "text/plain": [
       "No Outputs"
      ]
     },
     "execution_count": 13,
     "metadata": {},
     "output_type": "execute_result"
    }
   ],
   "source": [
    "interface Container {\n",
    "    void add(Object element);\n",
    "}\n",
    "\n",
    "class OrderedList implements Container {\n",
    "    public void add(Object element){\n",
    "        //...\n",
    "    }\n",
    "}\n",
    "\n",
    "class FastSet implements Container {\n",
    "    public void add(Object element){\n",
    "        //...\n",
    "    }\n",
    "}\n",
    "null"
   ]
  },
  {
   "cell_type": "code",
   "execution_count": 49,
   "metadata": {
    "collapsed": true,
    "slideshow": {
     "slide_type": "fragment"
    }
   },
   "outputs": [
    {
     "data": {
      "text/plain": [
       "No Outputs"
      ]
     },
     "execution_count": 49,
     "metadata": {},
     "output_type": "execute_result"
    }
   ],
   "source": [
    "Container[] containers = new Container[2];\n",
    "containers[0] = new FastSet();\n",
    "containers[1] = new OrderedList();\n",
    "\n",
    "for(Container container : containers) {\n",
    "    container.add(\"Hello World!\");\n",
    "}\n",
    "null"
   ]
  },
  {
   "cell_type": "markdown",
   "metadata": {
    "slideshow": {
     "slide_type": "notes"
    }
   },
   "source": [
    "Polimorfmizm w Javie realizowany jest za pomocą interfejsów oraz dziedziczenia. W tym przypadku mamy polimorfizm zapewniany przez interfejs. `containers[0]` jest instancją klasy `FastSet` a `containers[1]` instancją klasy `OrderedList`. Obie klas *implementują* ten sam interfejs `Container`, dzięki czemu można dodawać elementy bez wnikania w to, z którą klasą mamy faktycznie do czynienia. "
   ]
  },
  {
   "cell_type": "markdown",
   "metadata": {
    "slideshow": {
     "slide_type": "slide"
    }
   },
   "source": [
    "# Arystoteles i dziedziczenie\n",
    "\n",
    "<img src=\"img/Arystoteles.jpeg\" />"
   ]
  },
  {
   "cell_type": "markdown",
   "metadata": {
    "slideshow": {
     "slide_type": "notes"
    }
   },
   "source": [
    "Arystoteles jest bez wątpienia jednym z największych myślicieli wszech czasów. Wprowadził on wiele ważnych koncepcji w dziedzinie nie tylko filozofii, ale również astronomii, fizyki, biologii czy poetyki. Wśród tych pojęć jest pojędzie **definicji**."
   ]
  },
  {
   "cell_type": "markdown",
   "metadata": {
    "slideshow": {
     "slide_type": "subslide"
    }
   },
   "source": [
    "# Definicja w ujęciu Arystotelesa\n",
    "\n",
    "<font color=\"green\">Człowiek</font> to <font color=\"red\">zwierzę</font> <font color=\"blue\">rozumne</font>.\n",
    "\n",
    "* <font color=\"red\">zwierzę</font> - *genus proximum*\n",
    "* <font color=\"blue\">rozumne</font> - *differentia specifica*"
   ]
  },
  {
   "cell_type": "markdown",
   "metadata": {
    "slideshow": {
     "slide_type": "notes"
    }
   },
   "source": [
    "Genus proximum to tzw. rodzaj najbliższy, czyli bardziej ogólny typ obiektu, który jednak jest \"najbardziej specyficzny\". \n",
    "Differentia specifica to tzw. różnica gatunkowa, czyli to co wyróżnia definiowany obiekt spośród obiektów należących do danego rodzaju."
   ]
  },
  {
   "cell_type": "markdown",
   "metadata": {
    "slideshow": {
     "slide_type": "subslide"
    }
   },
   "source": [
    "# Porfiriusz i Awerroes\n",
    "\n",
    "![Porfiriusz i Awerroes](https://upload.wikimedia.org/wikipedia/commons/thumb/0/07/AverroesAndPorphyry.JPG/1920px-AverroesAndPorphyry.JPG)"
   ]
  },
  {
   "cell_type": "markdown",
   "metadata": {},
   "source": [
    "Porfiriusz (III-IV wiek n.e.) napisał komentarz do \"Kategorii\" Arystotelesa, w którym pojawia się słynne drzewo Porfiriusza, czyli klasyfikacja najbardziej ogólnych pojęć.\n",
    "Awerroes (XII w n.e.) był również komentatorem Arystotelesa. Ilustracja przedstawia wyimaginowaną rozmowę pomiędzy nimi."
   ]
  },
  {
   "cell_type": "markdown",
   "metadata": {
    "slideshow": {
     "slide_type": "subslide"
    }
   },
   "source": [
    "# Drzewo Porifirusza\n",
    "\n",
    "<img src=\"img/porfiriusz.jpg\" />"
   ]
  },
  {
   "cell_type": "markdown",
   "metadata": {
    "slideshow": {
     "slide_type": "notes"
    }
   },
   "source": [
    "*Language wars* w XXI przypominają średniowieczne spory filozoficzne."
   ]
  },
  {
   "cell_type": "markdown",
   "metadata": {
    "slideshow": {
     "slide_type": "slide"
    }
   },
   "source": [
    "# Dziedziczenie - klasa `Vehicle`"
   ]
  },
  {
   "cell_type": "code",
   "execution_count": null,
   "metadata": {
    "slideshow": {
     "slide_type": "fragment"
    }
   },
   "outputs": [],
   "source": [
    "class Vehicle {\n",
    "    protected int speed;\n",
    "    \n",
    "    public Vehicle(){\n",
    "        this.speed = 0;\n",
    "    }\n",
    "    \n",
    "    public void start(){\n",
    "        this.speed = 10;\n",
    "    }\n",
    "    \n",
    "    public void stop(){\n",
    "        this.speed = 0;\n",
    "    }\n",
    "    \n",
    "    public int getSpeed(){\n",
    "        return speed;\n",
    "    }\n",
    "}\n",
    "null"
   ]
  },
  {
   "cell_type": "markdown",
   "metadata": {
    "slideshow": {
     "slide_type": "subslide"
    }
   },
   "source": [
    "# Dziedziczenie - klasa `Car`"
   ]
  },
  {
   "cell_type": "code",
   "execution_count": null,
   "metadata": {
    "slideshow": {
     "slide_type": "fragment"
    }
   },
   "outputs": [],
   "source": [
    "class Car extends Vehicle {\n",
    "    private String vin;\n",
    "\n",
    "    public Car(String vin){\n",
    "        super();\n",
    "        this.vin = vin;\n",
    "    }\n",
    "\n",
    "    public void accelerate(int delta){\n",
    "        this.speed += delta;\n",
    "    }\n",
    "}\n",
    "null"
   ]
  },
  {
   "cell_type": "code",
   "execution_count": null,
   "metadata": {
    "slideshow": {
     "slide_type": "fragment"
    }
   },
   "outputs": [],
   "source": [
    "Car car = new Car(\"1FTWW33P34EB00251\");\n",
    "car.start();\n",
    "car.accelerate(20);\n",
    "car.getSpeed();"
   ]
  },
  {
   "cell_type": "markdown",
   "metadata": {
    "slideshow": {
     "slide_type": "notes"
    }
   },
   "source": [
    "Dziedziczenie w Javie oznacza dziedziczenie interfejsu oraz implementacji. Klas `Car` dziedziczy z klasy `Vehicle`. Klasa `Vehicle` jest klasą nadrzędną, a `Car` klasą podrzędną. Klasa `Car` posiada wszystkie atrybuty i metody klasy `Vehicle`. Ponadto klasa ta może dodawać nowe atrybuty i metody, może także redefiniować metody zdefiniowane już w klasie nadrzędnej. Założeniem mechanizmu dziedziczenia jest to, że w klasie nadrzędnej umieszczamy wspólne *własności* (atrybuty i metody) wielu klas podrzędnych, dzięki czemu unikamy wielokrotnej implementacji tych samych metod. \n",
    "\n",
    "W praktyce jednak możliwość wykorzystania dziedziczenia jest dość ograniczona, gdyż konieczność implementowania tego samego zachowania na dwa różne sposoby występuje dość rzadko. Częstszy scenariusz polega na tym, że mamy istniejącą klasę i chcemy zmienić jej zachowanie, bez możliwości zmiany kodu źródłowego. Wtedy możemy stworzyć klasę dziedziczącą, która w swojej implementacji zmienia zachowanie klasy nadrzędnej. Możliwość zastosowania takiego scenariusza jest jednak uzależniona od tego, czy możemy w łatwy sposób zastąpić odniesienia do oryginalnej klasy w całym kodzie źródłowym. Taki scenariusz jest jednak mało prawdopodobny. Dlatego wbrew uwadze jaka jest poświęcana temu mechanizmowi na wykładach z programowania obiektowego, jest on znacznie mniej przydatny w praktyce."
   ]
  },
  {
   "cell_type": "markdown",
   "metadata": {
    "slideshow": {
     "slide_type": "subslide"
    }
   },
   "source": [
    "# Dziedziczenie wielobazowe"
   ]
  },
  {
   "cell_type": "code",
   "execution_count": null,
   "metadata": {
    "slideshow": {
     "slide_type": "fragment"
    }
   },
   "outputs": [],
   "source": [
    "interface IVehicle {\n",
    "    void start();\n",
    "    void stop();\n",
    "}\n",
    "\n",
    "interface ICar {\n",
    "    void accelerate(int delta);\n",
    "}\n",
    "\n",
    "class Car implements IVehicle, ICar {\n",
    "    public void start() {\n",
    "        // ...\n",
    "    }\n",
    "    \n",
    "    public void stop() {\n",
    "        // ...\n",
    "    }\n",
    "    \n",
    "    public void accelerate(int delta) {\n",
    "        //...\n",
    "    }\n",
    "}"
   ]
  },
  {
   "cell_type": "markdown",
   "metadata": {
    "slideshow": {
     "slide_type": "notes"
    }
   },
   "source": [
    "W Javie dziedziczenie jest jednobazowe, co oznacza, że klasa może dziedziczyć co najwyżej z **jednej** klasy. Jeśli jednak chcemy aby klasa posiadała więcej zachowań możemy wykorzystać dziedziczenie interfejsu. Tzn. klasa może implementować wiele interfejsów, ale nie oznacza to, że dziedziczona jest implementacja."
   ]
  },
  {
   "cell_type": "markdown",
   "metadata": {
    "slideshow": {
     "slide_type": "subslide"
    }
   },
   "source": [
    "# Klasa `Object`"
   ]
  },
  {
   "cell_type": "code",
   "execution_count": null,
   "metadata": {
    "slideshow": {
     "slide_type": "fragment"
    }
   },
   "outputs": [],
   "source": [
    "class Object {\n",
    "    Object clone();\n",
    "    boolean equals(Object other);\n",
    "    void finalize();\n",
    "    Class getClass();\n",
    "    int hashCode();\n",
    "    String toString();\n",
    "    //...\n",
    "}"
   ]
  },
  {
   "cell_type": "markdown",
   "metadata": {
    "slideshow": {
     "slide_type": "notes"
    }
   },
   "source": [
    "Jeśli jawnie nie wskażemy klasy z której dziedziczy dana klasa, to będzie to klasa `Object`. Klasa ta posiada najważniejsze metody, takie jak `equals` czy `toString`, co do których istnieje wymóg, aby implementowały je wszystkie klasy. Jeśli jakaś klasa nie nadpisze istniejącej implementacji, to wykorzystywana jest implementacja z klasy Object (pod warunkiem, że któraś z wyższych klas nie dostarcza własnej implementacji)."
   ]
  },
  {
   "cell_type": "markdown",
   "metadata": {
    "slideshow": {
     "slide_type": "slide"
    }
   },
   "source": [
    "# Kahoot nr 2\n",
    "\n",
    "https://kahoot.it/"
   ]
  },
  {
   "cell_type": "markdown",
   "metadata": {
    "slideshow": {
     "slide_type": "slide"
    }
   },
   "source": [
    "![Pytania? ](http://cliparts.co/cliparts/qcB/jqg/qcBjqgxc5.jpg)"
   ]
  }
 ],
 "metadata": {
  "celltoolbar": "Slideshow",
  "kernelspec": {
   "display_name": "SciJava",
   "language": "groovy",
   "name": "scijava"
  },
  "language_info": {
   "codemirror_mode": "groovy",
   "file_extension": "",
   "mimetype": "",
   "name": "scijava",
   "nbconverter_exporter": "",
   "pygments_lexer": "groovy",
   "version": "1.0"
  },
  "livereveal": {
   "height": 1040,
   "width": 1500
  },
  "toc": {
   "base_numbering": 1,
   "nav_menu": {},
   "number_sections": false,
   "sideBar": false,
   "skip_h1_title": false,
   "title_cell": "Table of Contents",
   "title_sidebar": "Contents",
   "toc_cell": false,
   "toc_position": {},
   "toc_section_display": false,
   "toc_window_display": false
  }
 },
 "nbformat": 4,
 "nbformat_minor": 2
}
