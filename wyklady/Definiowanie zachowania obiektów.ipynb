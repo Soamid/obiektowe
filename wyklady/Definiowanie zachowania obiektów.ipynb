{
 "cells": [
  {
   "cell_type": "markdown",
   "metadata": {
    "slideshow": {
     "slide_type": "slide"
    }
   },
   "source": [
    "# Definiowanie zachowania obiektów\n",
    "## Metody instancyjne i klasowe, klasy abstrakcyjne, interfejsy\n",
    "\n",
    "<br/>\n",
    "\n",
    "## apohllo@agh.edu.pl\n",
    "\n",
    "## http://apohllo.pl/dydaktyka/programowanie-obiektowe\n",
    "\n",
    "## konsultacje: środa 17-18\n"
   ]
  },
  {
   "cell_type": "markdown",
   "metadata": {
    "slideshow": {
     "slide_type": "slide"
    }
   },
   "source": [
    "<center><img src=\"img/behaviour.jpg\" style=\"width: 1000px\"/></center>"
   ]
  },
  {
   "cell_type": "markdown",
   "metadata": {
    "slideshow": {
     "slide_type": "subslide"
    }
   },
   "source": [
    "# Definiowanie (publicznego) zachowania\n",
    "\n",
    "<center><img src=\"img/public.JPG\"/></center>"
   ]
  },
  {
   "cell_type": "code",
   "execution_count": 3,
   "metadata": {
    "ExecuteTime": {
     "end_time": "2022-11-03T15:58+0000",
     "start_time": "2022-11-03T15:58:05.510Z"
    },
    "slideshow": {
     "slide_type": "subslide"
    }
   },
   "outputs": [],
   "source": [
    "enum SpeedUnit {\n",
    "    KMH, MS\n",
    "}"
   ]
  },
  {
   "cell_type": "code",
   "execution_count": null,
   "metadata": {
    "ExecuteTime": {
     "end_time": "2022-10-27T16:05+0000",
     "start_time": "2022-10-27T16:05:17.534Z"
    },
    "slideshow": {
     "slide_type": "fragment"
    }
   },
   "outputs": [],
   "source": [
    "class Speed {\n",
    "    public double value;\n",
    "    public SpeedUnit unit;\n",
    "}"
   ]
  },
  {
   "cell_type": "code",
   "execution_count": null,
   "metadata": {
    "slideshow": {
     "slide_type": "subslide"
    }
   },
   "outputs": [],
   "source": [
    "class SpaceShip {\n",
    "    private Speed speed;\n",
    "\n",
    "    public SpaceShip(){\n",
    "        this.speed = new Speed();\n",
    "        this.speed.unit = SpeedUnit.MS;\n",
    "    }\n",
    "\n",
    "    public void accelerate(Speed delta){\n",
    "        if(delta.unit == this.speed.unit && delta.value > 0) {\n",
    "            this.speed.value += delta.value;\n",
    "        }\n",
    "    }\n",
    "}"
   ]
  },
  {
   "cell_type": "code",
   "execution_count": null,
   "metadata": {
    "slideshow": {
     "slide_type": "fragment"
    }
   },
   "outputs": [],
   "source": [
    "class LandVehicle {\n",
    "    private Speed speed;\n",
    "\n",
    "    public LandVehicle(){\n",
    "        this.speed = new Speed();\n",
    "        this.speed.unit = SpeedUnit.KMH;\n",
    "    }\n",
    "\n",
    "    public void accelerate(Speed delta){\n",
    "        if(delta.unit == this.speed.unit) {\n",
    "            this.speed.value += delta.value;\n",
    "        }\n",
    "    }\n",
    "}"
   ]
  },
  {
   "cell_type": "markdown",
   "metadata": {
    "slideshow": {
     "slide_type": "notes"
    }
   },
   "source": [
    "Brak definicji operacji w klasie `Speed` powoduje, że ten sam lub niemal identyczny kod definiowany jest w wielu miejscach, co w konsekwencji powoduje przyrost pracy związany z modyfikacjami oraz usuwaniem błędów - zmiany i poprawki trzeba wprowadzać w wielu miejscach w kodzie. Ponadto prowadzi do niespójności w sposobie definiowania zachowania obiektów."
   ]
  },
  {
   "cell_type": "code",
   "execution_count": 4,
   "metadata": {
    "ExecuteTime": {
     "end_time": "2022-11-03T15:58+0000",
     "start_time": "2022-11-03T15:58:08.962Z"
    },
    "slideshow": {
     "slide_type": "subslide"
    }
   },
   "outputs": [],
   "source": [
    "class Speed {\n",
    "    private double value;\n",
    "    private SpeedUnit unit;\n",
    "\n",
    "    public Speed(double value, SpeedUnit unit){\n",
    "        this.value = value;\n",
    "        this.unit = unit;\n",
    "    }\n",
    "    \n",
    "    public Speed add(Speed that){\n",
    "        if(this.unit == that.unit){\n",
    "            return new Speed(this.value + that.value, this.unit);\n",
    "        } else {\n",
    "            return this; // lepiej rzucić wyjątek lub dokonać konwersji\n",
    "        }\n",
    "    }\n",
    "    \n",
    "    public boolean isAboveZero(){\n",
    "        return value > 0;\n",
    "    }\n",
    "}\n"
   ]
  },
  {
   "cell_type": "markdown",
   "metadata": {
    "slideshow": {
     "slide_type": "notes"
    }
   },
   "source": [
    "Metody pozwalają na definiowanie zachowania obiektów *w określonej dziedzinie problemu*. Różnica względm języków proceduralnych polega na tym, że metody są ściśle związane z danymi (stanem) obiektów i pozwalają na wyrażanie kodu programu w *języku dziedziny problemu*."
   ]
  },
  {
   "cell_type": "code",
   "execution_count": null,
   "metadata": {
    "slideshow": {
     "slide_type": "subslide"
    }
   },
   "outputs": [],
   "source": [
    "class SpaceShip {\n",
    "    private Speed speed;\n",
    "\n",
    "    public SpaceShip(){\n",
    "        this.speed = new Speed(0, SpeedUnit.MS);\n",
    "    }\n",
    "\n",
    "    public void accelerate(Speed delta){\n",
    "        if(delta.isAboveZero()) {\n",
    "            this.speed = this.speed.add(delta);\n",
    "        }\n",
    "    }\n",
    "}"
   ]
  },
  {
   "cell_type": "code",
   "execution_count": null,
   "metadata": {
    "slideshow": {
     "slide_type": "fragment"
    }
   },
   "outputs": [],
   "source": [
    "class LandVehicle {\n",
    "    private Speed speed;\n",
    "\n",
    "    public LandVehicle(){\n",
    "        this.speed = new Speed(0, SpeedUnit.KMH);\n",
    "    }\n",
    "\n",
    "    public void accelerate(Speed delta){\n",
    "        this.speed = this.speed.add(delta);\n",
    "    }\n",
    "}"
   ]
  },
  {
   "cell_type": "markdown",
   "metadata": {
    "slideshow": {
     "slide_type": "notes"
    }
   },
   "source": [
    "Wprowadzenie metod `add` oraz `isAboveZero` spowodowało, że powtórzenia kodu zostały usunięte. Nie ograniczyło to jednak możliwości elastycznego wykorzystania klasy - `SpaceShip` nadal pozwala tylko na zwiększanie prędkości."
   ]
  },
  {
   "cell_type": "markdown",
   "metadata": {
    "slideshow": {
     "slide_type": "subslide"
    }
   },
   "source": [
    "<center><img src=\"img/public_methods.png\"/></center>"
   ]
  },
  {
   "cell_type": "markdown",
   "metadata": {
    "slideshow": {
     "slide_type": "notes"
    }
   },
   "source": [
    "Publiczne zachowanie obiektu definiowane jest za pomocą metod z modyfiaktorem `public`. Oznacza to, ze mogą być one wywoływane w dowolnym kontekście."
   ]
  },
  {
   "cell_type": "markdown",
   "metadata": {
    "slideshow": {
     "slide_type": "slide"
    }
   },
   "source": [
    "# Modyfikacja zachowania w klasie dziedziczącej\n",
    "\n",
    "&nbsp;\n",
    "\n",
    "<center><img src=\"img/whale.jpg\" style=\"width: 1000px\"/></center>"
   ]
  },
  {
   "cell_type": "markdown",
   "metadata": {
    "slideshow": {
     "slide_type": "notes"
    }
   },
   "source": [
    "Wieloryb jest ssakiem, ale różni się od typowego ssaka tym że mieszka w wodzie a jego kończyny to płetwy.\n",
    "Można powiedzieć, że \"modyfikuje\" typowe cechy jakie kojarzymy ze steoreotypem ssaka."
   ]
  },
  {
   "cell_type": "code",
   "execution_count": 5,
   "metadata": {
    "ExecuteTime": {
     "end_time": "2022-11-03T15:58+0000",
     "start_time": "2022-11-03T15:58:12.655Z"
    },
    "slideshow": {
     "slide_type": "subslide"
    }
   },
   "outputs": [
    {
     "data": {
      "text/plain": [
       "REPL.$JShell$13$Speed@765d2632"
      ]
     },
     "execution_count": 5,
     "metadata": {},
     "output_type": "execute_result"
    }
   ],
   "source": [
    "Speed speed0 = new Speed(10, SpeedUnit.KMH);\n",
    "speed0.toString();"
   ]
  },
  {
   "cell_type": "code",
   "execution_count": 10,
   "metadata": {
    "ExecuteTime": {
     "end_time": "2022-11-03T16:03+0000",
     "start_time": "2022-11-03T16:03:01.754Z"
    },
    "slideshow": {
     "slide_type": "fragment"
    }
   },
   "outputs": [],
   "source": [
    "class Speed {\n",
    "    private double value;\n",
    "    private SpeedUnit unit;\n",
    "    \n",
    "    public Speed(double value, SpeedUnit unit){\n",
    "        this.value = value;\n",
    "        this.unit = unit;\n",
    "    }\n",
    "    \n",
    "    @Override // <- nie jest wymagane, żeby zadziałało\n",
    "    public String toString(){\n",
    "        return value + \" \" + unit;\n",
    "    }\n",
    "}"
   ]
  },
  {
   "cell_type": "markdown",
   "metadata": {
    "slideshow": {
     "slide_type": "notes"
    }
   },
   "source": [
    "Każda klasa dziedziczy pośrednio lub bezpośrednio z klasy Object. W tej klasie zdefiniowana jest m.in. metoda\n",
    "toString, która odpowiedzialna jest za zamianę obiektu na łańcuch znaków.\n",
    "\n",
    "(override = nadpisanie)"
   ]
  },
  {
   "cell_type": "code",
   "execution_count": 7,
   "metadata": {
    "ExecuteTime": {
     "end_time": "2022-11-03T16:00+0000",
     "start_time": "2022-11-03T16:00:30.013Z"
    },
    "slideshow": {
     "slide_type": "fragment"
    }
   },
   "outputs": [
    {
     "data": {
      "text/plain": [
       "10.0 KMH"
      ]
     },
     "execution_count": 7,
     "metadata": {},
     "output_type": "execute_result"
    }
   ],
   "source": [
    "Speed speed1 = new Speed(10, SpeedUnit.KMH); // <---- Speed\n",
    "speed1.toString();"
   ]
  },
  {
   "cell_type": "code",
   "execution_count": 8,
   "metadata": {
    "ExecuteTime": {
     "end_time": "2022-11-03T16:00+0000",
     "start_time": "2022-11-03T16:00:45.376Z"
    },
    "slideshow": {
     "slide_type": "fragment"
    }
   },
   "outputs": [
    {
     "data": {
      "text/plain": [
       "10.0 KMH"
      ]
     },
     "execution_count": 8,
     "metadata": {},
     "output_type": "execute_result"
    }
   ],
   "source": [
    "Object speed2 = new Speed(10, SpeedUnit.KMH); // <---- Object!\n",
    "speed2.toString();"
   ]
  },
  {
   "cell_type": "markdown",
   "metadata": {
    "slideshow": {
     "slide_type": "notes"
    }
   },
   "source": [
    "Mimo tego, że deklarujemy `speed2` jako `Object` to wykorzystywana jest metoda `toString()` zdefiniowana w klasie `Speed`."
   ]
  },
  {
   "cell_type": "markdown",
   "metadata": {
    "slideshow": {
     "slide_type": "subslide"
    }
   },
   "source": [
    "<center><img src=\"img/override.png\"/></center>"
   ]
  },
  {
   "cell_type": "markdown",
   "metadata": {
    "slideshow": {
     "slide_type": "notes"
    }
   },
   "source": [
    "Innymi słowy zasadniczo metody w Javie są **wirtualne**."
   ]
  },
  {
   "cell_type": "markdown",
   "metadata": {
    "slideshow": {
     "slide_type": "slide"
    }
   },
   "source": [
    "# Rozszerzenie zachowania klasy nadrzędnej\n",
    "\n",
    "&nbsp;\n",
    "\n",
    "<center><img src=\"img/axolotl.jpg\" ></center>"
   ]
  },
  {
   "cell_type": "markdown",
   "metadata": {
    "slideshow": {
     "slide_type": "notes"
    }
   },
   "source": [
    "Aksolotl jest niezmiernie ciekawym organizmem. Zasadniczo przykład ma ilustrować możliwość przebywania w wodzie oraz chodzenia po lądzie, choć larwarne stadium tego płaza nie wychodzi na ląd. Po prostu ilustracja jest ładna ;-)"
   ]
  },
  {
   "cell_type": "code",
   "execution_count": 11,
   "metadata": {
    "ExecuteTime": {
     "end_time": "2022-11-03T16:05+0000",
     "start_time": "2022-11-03T16:05:04.573Z"
    },
    "slideshow": {
     "slide_type": "subslide"
    }
   },
   "outputs": [],
   "source": [
    "class Speed {\n",
    "    private double value;\n",
    "    private SpeedUnit unit;\n",
    "\n",
    "    public Speed(double value, SpeedUnit unit){\n",
    "        this.value = value;\n",
    "        this.unit = unit;\n",
    "    }\n",
    "\n",
    "    @Override\n",
    "    public String toString(){\n",
    "        return super.toString() + \" \" + value + \" \" + unit;\n",
    "    }\n",
    "}"
   ]
  },
  {
   "cell_type": "code",
   "execution_count": 12,
   "metadata": {
    "ExecuteTime": {
     "end_time": "2022-11-03T16:05+0000",
     "start_time": "2022-11-03T16:05:05.787Z"
    },
    "slideshow": {
     "slide_type": "fragment"
    }
   },
   "outputs": [
    {
     "data": {
      "text/plain": [
       "REPL.$JShell$13E$Speed@edce0eb 10.0 KMH"
      ]
     },
     "execution_count": 12,
     "metadata": {},
     "output_type": "execute_result"
    }
   ],
   "source": [
    "Speed speed1 = new Speed(10, SpeedUnit.KMH);\n",
    "speed1.toString();"
   ]
  },
  {
   "cell_type": "markdown",
   "metadata": {
    "slideshow": {
     "slide_type": "subslide"
    }
   },
   "source": [
    "<center><img src=\"img/super.png\"/></center>"
   ]
  },
  {
   "cell_type": "markdown",
   "metadata": {
    "slideshow": {
     "slide_type": "slide"
    }
   },
   "source": [
    "# Pola vs. metody"
   ]
  },
  {
   "cell_type": "code",
   "execution_count": 13,
   "metadata": {
    "ExecuteTime": {
     "end_time": "2022-11-03T16:06+0000",
     "start_time": "2022-11-03T16:06:49.920Z"
    },
    "slideshow": {
     "slide_type": "fragment"
    }
   },
   "outputs": [],
   "source": [
    "enum SpeedUnit {\n",
    "    MS, KMH, MA\n",
    "}"
   ]
  },
  {
   "cell_type": "code",
   "execution_count": 14,
   "metadata": {
    "ExecuteTime": {
     "end_time": "2022-11-03T16:07+0000",
     "start_time": "2022-11-03T16:07:14.791Z"
    },
    "slideshow": {
     "slide_type": "subslide"
    }
   },
   "outputs": [],
   "source": [
    "class Speed {\n",
    "    public double value = 0;\n",
    "    public SpeedUnit unit = SpeedUnit.MS;\n",
    "}"
   ]
  },
  {
   "cell_type": "code",
   "execution_count": 15,
   "metadata": {
    "ExecuteTime": {
     "end_time": "2022-11-03T16:07+0000",
     "start_time": "2022-11-03T16:07:20.306Z"
    },
    "slideshow": {
     "slide_type": "fragment"
    }
   },
   "outputs": [],
   "source": [
    "class SuperSonicSpeed extends Speed {\n",
    "    public double value = 10;\n",
    "    public SpeedUnit unit = SpeedUnit.MA;\n",
    "}"
   ]
  },
  {
   "cell_type": "code",
   "execution_count": 16,
   "metadata": {
    "ExecuteTime": {
     "end_time": "2022-11-03T16:07+0000",
     "start_time": "2022-11-03T16:07:30.074Z"
    },
    "slideshow": {
     "slide_type": "fragment"
    }
   },
   "outputs": [
    {
     "name": "stdout",
     "output_type": "stream",
     "text": [
      "MS\n",
      "0.0\n"
     ]
    }
   ],
   "source": [
    "Speed speed1 = new Speed();\n",
    "System.out.println(speed1.unit);\n",
    "System.out.println(speed1.value);\n"
   ]
  },
  {
   "cell_type": "code",
   "execution_count": 17,
   "metadata": {
    "ExecuteTime": {
     "end_time": "2022-11-03T16:07+0000",
     "start_time": "2022-11-03T16:07:49.277Z"
    },
    "slideshow": {
     "slide_type": "fragment"
    }
   },
   "outputs": [
    {
     "name": "stdout",
     "output_type": "stream",
     "text": [
      "MS\n",
      "0.0\n"
     ]
    }
   ],
   "source": [
    "Speed speed2 = new SuperSonicSpeed(); // <--- zmienna typu Speed\n",
    "System.out.println(speed2.unit);\n",
    "System.out.println(speed2.value);"
   ]
  },
  {
   "cell_type": "code",
   "execution_count": 18,
   "metadata": {
    "ExecuteTime": {
     "end_time": "2022-11-03T16:08+0000",
     "start_time": "2022-11-03T16:08:16.574Z"
    },
    "slideshow": {
     "slide_type": "fragment"
    }
   },
   "outputs": [
    {
     "name": "stdout",
     "output_type": "stream",
     "text": [
      "MA\n",
      "10.0\n"
     ]
    }
   ],
   "source": [
    "SuperSonicSpeed speed3 = (SuperSonicSpeed)speed2; // <--- zmienna typu SuperSonicSpeed\n",
    "System.out.println(speed3.unit);\n",
    "System.out.println(speed3.value);"
   ]
  },
  {
   "cell_type": "markdown",
   "metadata": {
    "slideshow": {
     "slide_type": "subslide"
    }
   },
   "source": [
    "<center><img src=\"img/shadowing2.png\"/></center>"
   ]
  },
  {
   "cell_type": "markdown",
   "metadata": {
    "slideshow": {
     "slide_type": "notes"
    }
   },
   "source": [
    "Jest to podstawowa różnica między polami w klasie, a metodami w **Javie**. Klasa dziedzicząca może nadpisać metodę i ta zmiana jest \"widoczna\" w klasie nadrzędnej. Klasa dziedzicząca może dodać ten sam atrybut, ale to, który atrybut zostanie użyty zależy od zadeklarowanego typu zmiennej! Krótko podsumowując - metody są wirtualne, a pola nie są wirtualne. Użycie dwóch tych samych nazw zmiennych to shadowin (przesłanianie) a użycie tych samych nazw metod to overriding (nadpisywanie)."
   ]
  },
  {
   "cell_type": "markdown",
   "metadata": {
    "slideshow": {
     "slide_type": "slide"
    }
   },
   "source": [
    "# Modyfikator `private`\n",
    "\n",
    "&nbsp;\n",
    "\n",
    "<center><img src=\"img/private.jpg\"/></center>"
   ]
  },
  {
   "cell_type": "code",
   "execution_count": 19,
   "metadata": {
    "ExecuteTime": {
     "end_time": "2022-11-03T16:12+0000",
     "start_time": "2022-11-03T16:12:40.720Z"
    },
    "slideshow": {
     "slide_type": "subslide"
    }
   },
   "outputs": [],
   "source": [
    "class Speed {\n",
    "    protected static final double MS_TO_KMH_RATIO = 3.6;\n",
    "    \n",
    "    protected double value;\n",
    "    protected SpeedUnit unit;\n",
    "    \n",
    "    public Speed(double value, SpeedUnit unit){\n",
    "        this.value = value;\n",
    "        this.unit = unit;\n",
    "    }\n",
    "    \n",
    "    public Speed add(Speed that){\n",
    "        return new Speed(this.value + that.convert(this.unit), this.unit);\n",
    "    }\n",
    "    \n",
    "    public Speed subtract(Speed that){\n",
    "        return new Speed(this.value - that.convert(this.unit), this.unit);\n",
    "    }\n",
    "    \n",
    "    public String toString() {\n",
    "        return \"\" + this.value + \" \" + this.unit;\n",
    "    }\n",
    "\n",
    "    private double convert(SpeedUnit target){\n",
    "        if(this.unit == SpeedUnit.KMH && target == SpeedUnit.MS){\n",
    "            return this.value / MS_TO_KMH_RATIO;\n",
    "        } else if(this.unit == SpeedUnit.MS && target == SpeedUnit.KMH){\n",
    "            return this.value * MS_TO_KMH_RATIO;\n",
    "        } else {\n",
    "            // pozostałe przypadki\n",
    "            return this.value;\n",
    "        }\n",
    "    }   \n",
    "}"
   ]
  },
  {
   "cell_type": "code",
   "execution_count": 25,
   "metadata": {
    "ExecuteTime": {
     "end_time": "2022-11-03T16:14+0000",
     "start_time": "2022-11-03T16:14:03.294Z"
    },
    "slideshow": {
     "slide_type": "subslide"
    }
   },
   "outputs": [
    {
     "data": {
      "text/plain": [
       "20.0 MS"
      ]
     },
     "execution_count": 25,
     "metadata": {},
     "output_type": "execute_result"
    }
   ],
   "source": [
    "Speed speed1 = new Speed(10, SpeedUnit.MS);\n",
    "Speed speed2 = new Speed(36, SpeedUnit.KMH);\n",
    "speed1.add(speed2);"
   ]
  },
  {
   "cell_type": "code",
   "execution_count": 26,
   "metadata": {
    "ExecuteTime": {
     "end_time": "2022-11-03T16:14+0000",
     "start_time": "2022-11-03T16:14:06.626Z"
    },
    "slideshow": {
     "slide_type": "fragment"
    }
   },
   "outputs": [
    {
     "ename": "CompilationException",
     "evalue": "",
     "output_type": "error",
     "traceback": [
      "\u001b[1m\u001b[30m|   \u001b[1m\u001b[30m\u001b[0m\u001b[1m\u001b[30m\u001b[41mspeed1.convert\u001b[0m\u001b[1m\u001b[30m(SpeedUnit.MS);\u001b[0m",
      "\u001b[1m\u001b[31mconvert(SpeedUnit) has private access in Speed\u001b[0m",
      ""
     ]
    }
   ],
   "source": [
    "speed1.convert(SpeedUnit.MS);"
   ]
  },
  {
   "cell_type": "markdown",
   "metadata": {
    "slideshow": {
     "slide_type": "subslide"
    }
   },
   "source": [
    "<center><img src=\"img/private_method.png\"/></center>"
   ]
  },
  {
   "cell_type": "markdown",
   "metadata": {
    "slideshow": {
     "slide_type": "notes"
    }
   },
   "source": [
    "Zasadniczo metody prywatne są \"szczegółami implementacji\", więc nie można ich wywoływać \"z zewnątrz\""
   ]
  },
  {
   "cell_type": "code",
   "execution_count": 31,
   "metadata": {
    "ExecuteTime": {
     "end_time": "2022-11-03T16:18+0000",
     "start_time": "2022-11-03T16:18:00.839Z"
    },
    "slideshow": {
     "slide_type": "subslide"
    }
   },
   "outputs": [],
   "source": [
    "class SuperSonicSpeed extends Speed {\n",
    "    public SuperSonicSpeed(double value){\n",
    "        super(value, SpeedUnit.MA);\n",
    "    }\n",
    "    \n",
    "    public Speed subtract(SuperSonicSpeed that){\n",
    "        return new Speed(this.value - that.convert(this.unit), this.unit);\n",
    "    }\n",
    "\n",
    "    public double convert(SpeedUnit target){\n",
    "        return 0;\n",
    "    }\n",
    "}"
   ]
  },
  {
   "cell_type": "markdown",
   "metadata": {
    "slideshow": {
     "slide_type": "notes"
    }
   },
   "source": [
    "Wywołanie `super` powoduje wywołanie konstruktora z klasy nadrzędnej.\n",
    "Brak takiego wywołania, skutkuje wywołaniem konstruktora bezparametrycznego (o ile istnieje)."
   ]
  },
  {
   "cell_type": "code",
   "execution_count": 29,
   "metadata": {
    "ExecuteTime": {
     "end_time": "2022-11-03T16:16+0000",
     "start_time": "2022-11-03T16:16:08.002Z"
    },
    "slideshow": {
     "slide_type": "fragment"
    }
   },
   "outputs": [
    {
     "data": {
      "text/plain": [
       "20.0 MA"
      ]
     },
     "execution_count": 29,
     "metadata": {},
     "output_type": "execute_result"
    }
   ],
   "source": [
    "SuperSonicSpeed speed1 = new SuperSonicSpeed(10);\n",
    "SuperSonicSpeed speed2 = new SuperSonicSpeed(10);\n",
    "speed1.add(speed2);"
   ]
  },
  {
   "cell_type": "code",
   "execution_count": 30,
   "metadata": {
    "ExecuteTime": {
     "end_time": "2022-11-03T16:17+0000",
     "start_time": "2022-11-03T16:17:08.933Z"
    },
    "slideshow": {
     "slide_type": "fragment"
    }
   },
   "outputs": [
    {
     "data": {
      "text/plain": [
       "10.0 MA"
      ]
     },
     "execution_count": 30,
     "metadata": {},
     "output_type": "execute_result"
    }
   ],
   "source": [
    "SuperSonicSpeed speed1 = new SuperSonicSpeed(10);\n",
    "SuperSonicSpeed speed2 = new SuperSonicSpeed(10);\n",
    "speed1.subtract(speed2);"
   ]
  },
  {
   "cell_type": "markdown",
   "metadata": {
    "slideshow": {
     "slide_type": "subslide"
    }
   },
   "source": [
    "<center><img src=\"img/private_shadowing.png\"/></center>"
   ]
  },
  {
   "cell_type": "markdown",
   "metadata": {
    "slideshow": {
     "slide_type": "notes"
    }
   },
   "source": [
    "Ponieważ metoda `convert` jest prywatna, nie może być on nadpisana w klasie dziedziczącej. Co prawda można zdefinować taką metodę ponownie w klasie dziedziczącej, ale ta nowa definicja nie przesłoni definicji z klasy nadrzędnej (w kontekście metod zdefiniowanych w klasie nadrzędnej)."
   ]
  },
  {
   "cell_type": "markdown",
   "metadata": {
    "slideshow": {
     "slide_type": "slide"
    }
   },
   "source": [
    "# Modyfikator `protected`\n",
    "\n",
    "&nbsp;\n",
    "\n",
    "<center><img src=\"img/protected.gif\"/></center>"
   ]
  },
  {
   "cell_type": "code",
   "execution_count": 32,
   "metadata": {
    "ExecuteTime": {
     "end_time": "2022-11-03T16:19+0000",
     "start_time": "2022-11-03T16:19:51.416Z"
    },
    "slideshow": {
     "slide_type": "subslide"
    }
   },
   "outputs": [],
   "source": [
    "class Speed {\n",
    "    private static final double MS_TO_KMH_RATIO = 3.6;\n",
    "    \n",
    "    private double value;\n",
    "    private SpeedUnit unit;\n",
    "    \n",
    "    public Speed(double value, SpeedUnit unit){\n",
    "        this.value = value;\n",
    "        this.unit = unit;\n",
    "    }\n",
    "    \n",
    "    public Speed add(Speed that){\n",
    "        return new Speed(this.value + that.convert(this.unit), this.unit);\n",
    "    }\n",
    "    \n",
    "    public Speed subtract(Speed that){\n",
    "        return new Speed(this.value - that.convert(this.unit), this.unit);\n",
    "    }\n",
    "    \n",
    "    public String toString() {\n",
    "        return \"\" + this.value + \" \" + this.unit;\n",
    "    }\n",
    "    \n",
    "    protected double convert(SpeedUnit target){\n",
    "        if(this.unit == SpeedUnit.KMH && target == SpeedUnit.MS){\n",
    "            return this.value / MS_TO_KMH_RATIO;\n",
    "        } else if(this.unit == SpeedUnit.MS && target == SpeedUnit.KMH){\n",
    "            return this.value * MS_TO_KMH_RATIO;\n",
    "        } else {\n",
    "            return this.value;\n",
    "        }\n",
    "    }   \n",
    "}"
   ]
  },
  {
   "cell_type": "code",
   "execution_count": 33,
   "metadata": {
    "ExecuteTime": {
     "end_time": "2022-11-03T16:19+0000",
     "start_time": "2022-11-03T16:19:55.265Z"
    },
    "slideshow": {
     "slide_type": "subslide"
    }
   },
   "outputs": [],
   "source": [
    "class SuperSonicSpeed extends Speed {\n",
    "    public SuperSonicSpeed(double value){\n",
    "        super(value, SpeedUnit.MA);\n",
    "    }\n",
    "\n",
    "    protected double convert(SpeedUnit target){\n",
    "        return 0;\n",
    "    }\n",
    "}"
   ]
  },
  {
   "cell_type": "code",
   "execution_count": 34,
   "metadata": {
    "ExecuteTime": {
     "end_time": "2022-11-03T16:19+0000",
     "start_time": "2022-11-03T16:19:58.266Z"
    },
    "slideshow": {
     "slide_type": "fragment"
    }
   },
   "outputs": [
    {
     "data": {
      "text/plain": [
       "10.0 MA"
      ]
     },
     "execution_count": 34,
     "metadata": {},
     "output_type": "execute_result"
    }
   ],
   "source": [
    "Speed speed1 = new SuperSonicSpeed(10);\n",
    "Speed speed2 = new SuperSonicSpeed(10);\n",
    "speed1.add(speed2);"
   ]
  },
  {
   "cell_type": "markdown",
   "metadata": {
    "slideshow": {
     "slide_type": "notes"
    }
   },
   "source": [
    "10 + 0 = 10"
   ]
  },
  {
   "cell_type": "markdown",
   "metadata": {
    "slideshow": {
     "slide_type": "fragment"
    }
   },
   "source": [
    "<center><img src=\"img/protected_shadowing.png\"/></center>"
   ]
  },
  {
   "cell_type": "markdown",
   "metadata": {
    "slideshow": {
     "slide_type": "notes"
    }
   },
   "source": [
    "Tylko metody prywatne zachowują się w ten sposób. Są one prywatnymi składowymi *klasy*. To nie obiekt \"ma\" metody, tylko klasa \"ma\" metody. Dostęp do metod jest zapośredniczony w klasie."
   ]
  },
  {
   "cell_type": "markdown",
   "metadata": {
    "slideshow": {
     "slide_type": "slide"
    }
   },
   "source": [
    "# Modyfikator `final`\n",
    "\n",
    "&nbsp;\n",
    "\n",
    "<center><img src=\"img/final.jpg\"/></center>"
   ]
  },
  {
   "cell_type": "code",
   "execution_count": 35,
   "metadata": {
    "ExecuteTime": {
     "end_time": "2022-11-03T16:21+0000",
     "start_time": "2022-11-03T16:21:39.236Z"
    },
    "slideshow": {
     "slide_type": "subslide"
    }
   },
   "outputs": [],
   "source": [
    "class Speed {\n",
    "    protected final double convert(SpeedUnit target){\n",
    "        if(this.unit == SpeedUnit.KMH && target == SpeedUnit.MS){\n",
    "            return this.value / MS_TO_KMH_RATIO;\n",
    "        } else if(this.unit == SpeedUnit.MS && target == SpeedUnit.KMH){\n",
    "            return this.value * MS_TO_KMH_RATIO;\n",
    "        } else {\n",
    "            return this.value;\n",
    "        }\n",
    "    }   \n",
    "}"
   ]
  },
  {
   "cell_type": "code",
   "execution_count": 36,
   "metadata": {
    "ExecuteTime": {
     "end_time": "2022-11-03T16:21+0000",
     "start_time": "2022-11-03T16:21:40.756Z"
    },
    "slideshow": {
     "slide_type": "fragment"
    }
   },
   "outputs": [
    {
     "ename": "CompilationException",
     "evalue": "",
     "output_type": "error",
     "traceback": [
      "\u001b[1m\u001b[30m|   \u001b[1m\u001b[30m        \u001b[0m\u001b[1m\u001b[30m\u001b[41msuper\u001b[0m\u001b[1m\u001b[30m(value, SpeedUnit.MA);\u001b[0m",
      "\u001b[1m\u001b[31mconstructor Speed in class Speed cannot be applied to given types;\u001b[0m",
      "\u001b[1m\u001b[31m  required: no arguments\u001b[0m",
      "\u001b[1m\u001b[31m  found:    double,SpeedUnit\u001b[0m",
      "\u001b[1m\u001b[31m  reason: actual and formal argument lists differ in length\u001b[0m",
      "",
      "\u001b[1m\u001b[30m|   \u001b[1m\u001b[30m    \u001b[0m\u001b[1m\u001b[30m\u001b[41mprotected double convert(SpeedUnit target){\u001b[0m",
      "\u001b[1m\u001b[30m|   \u001b[1m\u001b[30m\u001b[41m        return 0;\u001b[0m",
      "\u001b[1m\u001b[30m|   \u001b[1m\u001b[30m\u001b[41m    }\u001b[0m",
      "\u001b[1m\u001b[31mconvert(SpeedUnit) in SuperSonicSpeed cannot override convert(SpeedUnit) in Speed\u001b[0m",
      "\u001b[1m\u001b[31m  overridden method is final\u001b[0m",
      ""
     ]
    }
   ],
   "source": [
    "class SuperSonicSpeed extends Speed{\n",
    "    public SuperSonicSpeed(double value){\n",
    "        super(value, SpeedUnit.MA);\n",
    "    }\n",
    "\n",
    "    protected double convert(SpeedUnit target){\n",
    "        return 0;\n",
    "    }\n",
    "}"
   ]
  },
  {
   "cell_type": "markdown",
   "metadata": {
    "slideshow": {
     "slide_type": "notes"
    }
   },
   "source": [
    "Modyfikator *final* oznacza, że metoda nie może zostać nadpisana w klasie dziedziczącej. Innymi słowy taka metoda przestaje być metodą wirtualną."
   ]
  },
  {
   "cell_type": "markdown",
   "metadata": {
    "slideshow": {
     "slide_type": "slide"
    }
   },
   "source": [
    "# Modyfikator `static` (metody klasowe)\n",
    "\n",
    "&nbsp;\n",
    "\n",
    "<center><img src=\"img/barracuda.jpg\"/></center>"
   ]
  },
  {
   "cell_type": "code",
   "execution_count": 44,
   "metadata": {
    "ExecuteTime": {
     "end_time": "2022-11-03T16:26+0000",
     "start_time": "2022-11-03T16:26:40.873Z"
    },
    "slideshow": {
     "slide_type": "subslide"
    }
   },
   "outputs": [],
   "source": [
    "class Speed {\n",
    "    private double value = 10;\n",
    "    \n",
    "    public String toString(){\n",
    "        return this.value + \"\";\n",
    "    }\n",
    "    \n",
    "    public void run(){\n",
    "        main(null);\n",
    "    }\n",
    "    \n",
    "    public static void main(String[] args){\n",
    "        Speed speed1 = new Speed();\n",
    "        System.out.println(speed1);\n",
    "    }\n",
    "}"
   ]
  },
  {
   "cell_type": "code",
   "execution_count": 38,
   "metadata": {
    "ExecuteTime": {
     "end_time": "2022-11-03T16:24+0000",
     "start_time": "2022-11-03T16:24:10.677Z"
    },
    "slideshow": {
     "slide_type": "fragment"
    }
   },
   "outputs": [
    {
     "name": "stdout",
     "output_type": "stream",
     "text": [
      "10.0\n"
     ]
    }
   ],
   "source": [
    "Speed.main(null);"
   ]
  },
  {
   "cell_type": "code",
   "execution_count": 40,
   "metadata": {
    "ExecuteTime": {
     "end_time": "2022-11-03T16:25+0000",
     "start_time": "2022-11-03T16:25:23.860Z"
    },
    "slideshow": {
     "slide_type": "fragment"
    }
   },
   "outputs": [
    {
     "name": "stdout",
     "output_type": "stream",
     "text": [
      "10.0\n"
     ]
    }
   ],
   "source": [
    "Speed speed = new Speed();\n",
    "speed.run();"
   ]
  },
  {
   "cell_type": "markdown",
   "metadata": {
    "slideshow": {
     "slide_type": "notes"
    }
   },
   "source": [
    "Najbardziej powszechnie wykorzystywaną metodą statyczną jest `main`. Metoda statyczna przynależy do klasy - analogicznie jak atrybut statyczny. Dlatego może być wywołana na rzecz klasy - ale może być również wywołana w dowolnej metodzie instancyjnej."
   ]
  },
  {
   "cell_type": "code",
   "execution_count": 46,
   "metadata": {
    "ExecuteTime": {
     "end_time": "2022-11-03T16:28+0000",
     "start_time": "2022-11-03T16:28:35.803Z"
    },
    "slideshow": {
     "slide_type": "subslide"
    }
   },
   "outputs": [],
   "source": [
    "class Speed {\n",
    "    private final double value;\n",
    "    \n",
    "    private static Map<Integer, Speed> instances = new HashMap<>();\n",
    "\n",
    "    private Speed(double value){\n",
    "        this.value = value;\n",
    "    }\n",
    "\n",
    "    public static Speed create(int value){\n",
    "        if(instances.containsKey(value)){\n",
    "            return instances.get(value);\n",
    "        } else {\n",
    "            Speed instance = new Speed(value);\n",
    "            instances.put(value, instance);\n",
    "            return instance;\n",
    "        }\n",
    "    }\n",
    "}"
   ]
  },
  {
   "cell_type": "code",
   "execution_count": 47,
   "metadata": {
    "ExecuteTime": {
     "end_time": "2022-11-03T16:28+0000",
     "start_time": "2022-11-03T16:28:37.935Z"
    },
    "slideshow": {
     "slide_type": "fragment"
    }
   },
   "outputs": [
    {
     "data": {
      "text/plain": [
       "true"
      ]
     },
     "execution_count": 47,
     "metadata": {},
     "output_type": "execute_result"
    }
   ],
   "source": [
    "Speed speed1 = Speed.create(10);\n",
    "Speed speed2 = Speed.create(10);\n",
    "\n",
    "speed1 == speed2"
   ]
  },
  {
   "cell_type": "markdown",
   "metadata": {
    "slideshow": {
     "slide_type": "notes"
    }
   },
   "source": [
    "W metodzie statycznej mamy dostęp tylko do statycznych atrybutów klasy!\n",
    "\n",
    "Ten przykład jest dość  problematyczny, ponieważ metody statyczne **nie mogą być nadpisane**. W konsekwencji wiążemy implementację na wieki wieków z klasą Speed - tzn. jeśli chcielibyśmy zmienić implementację, to musimy zmienić kod, w miejscu, w którym jest odwołanie do tej metody. "
   ]
  },
  {
   "cell_type": "markdown",
   "metadata": {
    "slideshow": {
     "slide_type": "subslide"
    }
   },
   "source": [
    "# Dziedziczenie a metody statyczne"
   ]
  },
  {
   "cell_type": "code",
   "execution_count": 49,
   "metadata": {
    "ExecuteTime": {
     "end_time": "2022-11-03T16:30+0000",
     "start_time": "2022-11-03T16:30:46.876Z"
    },
    "slideshow": {
     "slide_type": "fragment"
    }
   },
   "outputs": [],
   "source": [
    "class Speed {\n",
    "    private double value;\n",
    "\n",
    "    private static HashMap<Double,Speed> instances = new HashMap<>();\n",
    "\n",
    "    protected Speed(double value){\n",
    "        this.value = value;\n",
    "    }\n",
    "    \n",
    "    public String toString(){\n",
    "        return \"\" + this.value;\n",
    "    }\n",
    "\n",
    "    public static Speed create(double value){\n",
    "        if(instances.containsKey(value)){\n",
    "            return (Speed)instances.get(value);\n",
    "        } else {\n",
    "            Speed instance = createInstance(value);\n",
    "            instances.put(value, instance);\n",
    "            return instance;\n",
    "        }\n",
    "    }\n",
    "    \n",
    "    protected static Speed createInstance(double value){\n",
    "        return new Speed(value);\n",
    "    }\n",
    "}"
   ]
  },
  {
   "cell_type": "code",
   "execution_count": 50,
   "metadata": {
    "ExecuteTime": {
     "end_time": "2022-11-03T16:31+0000",
     "start_time": "2022-11-03T16:31:07.996Z"
    },
    "slideshow": {
     "slide_type": "subslide"
    }
   },
   "outputs": [],
   "source": [
    "class SuperSonicSpeed extends Speed {\n",
    "    private SuperSonicSpeed(double value){\n",
    "        super(value);\n",
    "    }\n",
    "    \n",
    "    protected static SuperSonicSpeed createInstance(double value){\n",
    "        return new SuperSonicSpeed(value * 10);\n",
    "    }\n",
    "}"
   ]
  },
  {
   "cell_type": "code",
   "execution_count": 51,
   "metadata": {
    "ExecuteTime": {
     "end_time": "2022-11-03T16:31+0000",
     "start_time": "2022-11-03T16:31:09.740Z"
    },
    "slideshow": {
     "slide_type": "fragment"
    }
   },
   "outputs": [
    {
     "data": {
      "text/plain": [
       "10.0"
      ]
     },
     "execution_count": 51,
     "metadata": {},
     "output_type": "execute_result"
    }
   ],
   "source": [
    "Speed speed = SuperSonicSpeed.create(10);\n",
    "speed"
   ]
  },
  {
   "cell_type": "markdown",
   "metadata": {
    "slideshow": {
     "slide_type": "fragment"
    }
   },
   "source": [
    "<center><img src=\"img/static_override.png\"/></center>"
   ]
  },
  {
   "cell_type": "markdown",
   "metadata": {
    "slideshow": {
     "slide_type": "subslide"
    }
   },
   "source": [
    "## Wzorzec Factory\n",
    "\n",
    "&nbsp;\n",
    "\n",
    "<center><img src=\"img/cartoon-factory.jpg\" width=\"1000px\" /></center>"
   ]
  },
  {
   "cell_type": "code",
   "execution_count": 53,
   "metadata": {
    "ExecuteTime": {
     "end_time": "2022-11-03T16:34+0000",
     "start_time": "2022-11-03T16:34:29.567Z"
    },
    "slideshow": {
     "slide_type": "subslide"
    }
   },
   "outputs": [],
   "source": [
    "class Speed {\n",
    "    private double value;\n",
    "    \n",
    "    // modyfikator domyślny dla konstruktora\n",
    "    Speed(double value){\n",
    "        this.value = value;\n",
    "    }\n",
    "}\n",
    "\n",
    "class SpeedFactory {\n",
    "    private HashMap<Double, Speed> instances = new HashMap<>();\n",
    "    \n",
    "    public Speed create(double value){\n",
    "        if(instances.containsKey(value)){\n",
    "            return instances.get(value);\n",
    "        } else {\n",
    "            Speed instance = new Speed(value);\n",
    "            instances.put(value, instance);\n",
    "            return instance;\n",
    "        }\n",
    "    }\n",
    "}"
   ]
  },
  {
   "cell_type": "code",
   "execution_count": 54,
   "metadata": {
    "ExecuteTime": {
     "end_time": "2022-11-03T16:34+0000",
     "start_time": "2022-11-03T16:34:32.574Z"
    },
    "slideshow": {
     "slide_type": "fragment"
    }
   },
   "outputs": [
    {
     "data": {
      "text/plain": [
       "true"
      ]
     },
     "execution_count": 54,
     "metadata": {},
     "output_type": "execute_result"
    }
   ],
   "source": [
    "SpeedFactory factory = new SpeedFactory();\n",
    "Speed speed1 = factory.create(10);\n",
    "Speed speed2 = factory.create(10);\n",
    "speed1 == speed2;"
   ]
  },
  {
   "cell_type": "markdown",
   "metadata": {
    "slideshow": {
     "slide_type": "notes"
    }
   },
   "source": [
    "Dlaczego? Ponieważ możemy podmienić implementację `SpeedFactory`!"
   ]
  },
  {
   "cell_type": "markdown",
   "metadata": {
    "slideshow": {
     "slide_type": "subslide"
    }
   },
   "source": [
    "# Antywzorzec"
   ]
  },
  {
   "cell_type": "code",
   "execution_count": 55,
   "metadata": {
    "ExecuteTime": {
     "end_time": "2022-11-03T16:37+0000",
     "start_time": "2022-11-03T16:37:45.297Z"
    },
    "slideshow": {
     "slide_type": "fragment"
    }
   },
   "outputs": [
    {
     "ename": "CompilationException",
     "evalue": "",
     "output_type": "error",
     "traceback": [
      "\u001b[1m\u001b[30m|   \u001b[1m\u001b[30mSpeed speed1 = \u001b[0m\u001b[1m\u001b[30m\u001b[41mnew Speed(10, SpeedUnit.MS)\u001b[0m\u001b[1m\u001b[30m;\u001b[0m",
      "\u001b[1m\u001b[31mconstructor Speed in class Speed cannot be applied to given types;\u001b[0m",
      "\u001b[1m\u001b[31m  required: no arguments\u001b[0m",
      "\u001b[1m\u001b[31m  found:    int,SpeedUnit\u001b[0m",
      "\u001b[1m\u001b[31m  reason: actual and formal argument lists differ in length\u001b[0m",
      ""
     ]
    }
   ],
   "source": [
    "class Speed {\n",
    "    public static Speed toMs(Speed speed1){\n",
    "        return new Speed(speed1.convert(SpeedUnit.MS), SpeedUnit.MS);\n",
    "    }\n",
    "}\n",
    "\n",
    "Speed speed1 = new Speed(10, SpeedUnit.MS);\n",
    "Speed.toMs(speed1);\n",
    "\n",
    "// vs.\n",
    "\n",
    "speed1.toMs();"
   ]
  },
  {
   "cell_type": "markdown",
   "metadata": {
    "slideshow": {
     "slide_type": "notes"
    }
   },
   "source": [
    "W językach obiektowych jeśli mamy metodę statyczną akceptująca pojedynczy argument tej samej klasy, to jest to błąd. Metoda ta powinna być metodą *instancyjną* a nie *statyczną* (klasową)."
   ]
  },
  {
   "cell_type": "markdown",
   "metadata": {
    "slideshow": {
     "slide_type": "slide"
    }
   },
   "source": [
    "# Modyfikator `abstract`\n",
    "\n",
    "&nbsp;\n",
    "\n",
    "<center><img src=\"img/abstract.jpg\" width=\"1000px\"/></center>"
   ]
  },
  {
   "cell_type": "code",
   "execution_count": 56,
   "metadata": {
    "ExecuteTime": {
     "end_time": "2022-11-03T16:39+0000",
     "start_time": "2022-11-03T16:39:07.439Z"
    },
    "slideshow": {
     "slide_type": "subslide"
    }
   },
   "outputs": [],
   "source": [
    "class Speed {\n",
    "    private double value;\n",
    "    private SpeedUnit unit;\n",
    "    \n",
    "    public Speed(double value, SpeedUnit unit){\n",
    "        this.value = value;\n",
    "        this.unit = unit;\n",
    "    }\n",
    "}"
   ]
  },
  {
   "cell_type": "code",
   "execution_count": 57,
   "metadata": {
    "ExecuteTime": {
     "end_time": "2022-11-03T16:41+0000",
     "start_time": "2022-11-03T16:41:07.207Z"
    },
    "slideshow": {
     "slide_type": "subslide"
    }
   },
   "outputs": [],
   "source": [
    "abstract class AbstractSpaceShip {\n",
    "    private Speed speed;\n",
    "    \n",
    "    public AbstractSpaceShip(){\n",
    "        this.speed = new Speed(0, SpeedUnit.MS);\n",
    "    }\n",
    "    \n",
    "    public abstract void start();\n",
    "    \n",
    "    public abstract void land();\n",
    "}"
   ]
  },
  {
   "cell_type": "markdown",
   "metadata": {
    "slideshow": {
     "slide_type": "notes"
    }
   },
   "source": [
    "Klasa abstrakcyjna może posiadać metody abstrakcyjne, tzn. metody które nie posiadaja implementacji. Klasa taka nie może mieć instancji, więc ma sens tylko w kontekście dziedziczenia. Jej utworzenie ma sens pod warunkiem, że możemy w ten sposób uniknąć duplikacji kodu, w klasach, które z niej dziedziczą."
   ]
  },
  {
   "cell_type": "code",
   "execution_count": 58,
   "metadata": {
    "ExecuteTime": {
     "end_time": "2022-11-03T16:41+0000",
     "start_time": "2022-11-03T16:41:08.914Z"
    },
    "slideshow": {
     "slide_type": "subslide"
    }
   },
   "outputs": [
    {
     "ename": "CompilationException",
     "evalue": "",
     "output_type": "error",
     "traceback": [
      "\u001b[1m\u001b[30m|   \u001b[1m\u001b[30mclass Rocket extends AbstractSpaceShip {\u001b[0m",
      "\u001b[1m\u001b[30m|   \u001b[1m\u001b[30m    private Engine engine;\u001b[0m",
      "\u001b[1m\u001b[30m|   \u001b[1m\u001b[30m    private Parachute parachute;\u001b[0m",
      "\u001b[1m\u001b[30m|   \u001b[1m\u001b[30m\u001b[0m",
      "\u001b[1m\u001b[30m|   \u001b[1m\u001b[30m    public void start(){\u001b[0m",
      "\u001b[1m\u001b[30m|   \u001b[1m\u001b[30m        engine.start();\u001b[0m",
      "\u001b[1m\u001b[30m|   \u001b[1m\u001b[30m    }\u001b[0m",
      "\u001b[1m\u001b[30m|   \u001b[1m\u001b[30m    \u001b[0m",
      "\u001b[1m\u001b[30m|   \u001b[1m\u001b[30m    public void land(){\u001b[0m",
      "\u001b[1m\u001b[30m|   \u001b[1m\u001b[30m        parachute.open();\u001b[0m",
      "\u001b[1m\u001b[30m|   \u001b[1m\u001b[30m    }\u001b[0m",
      "\u001b[1m\u001b[30m|   \u001b[1m\u001b[30m}\u001b[0m",
      "\u001b[1m\u001b[31mUnresolved dependencies:\u001b[0m",
      "\u001b[1m\u001b[31m   - class Engine\u001b[0m",
      "\u001b[1m\u001b[31m   - class Parachute\u001b[0m"
     ]
    }
   ],
   "source": [
    "class Rocket extends AbstractSpaceShip {\n",
    "    private Engine engine;\n",
    "    private Parachute parachute;\n",
    "\n",
    "    public void start(){\n",
    "        engine.start();\n",
    "    }\n",
    "    \n",
    "    public void land(){\n",
    "        parachute.open();\n",
    "    }\n",
    "}"
   ]
  },
  {
   "cell_type": "code",
   "execution_count": null,
   "metadata": {
    "slideshow": {
     "slide_type": "subslide"
    }
   },
   "outputs": [],
   "source": [
    "class SpaceShuttle extends AbstractSpaceShip {\n",
    "    private List<Booster> boosters;\n",
    "    \n",
    "    public void start(){\n",
    "        for(Booster booster : boosters){\n",
    "            booster.start();\n",
    "        }\n",
    "    }\n",
    "    \n",
    "    public void land(){\n",
    "        descend(new Distance(10, DistanceUnit.KM));\n",
    "    }\n",
    "    \n",
    "    private void descend(Distance distance){\n",
    "        //...\n",
    "    }\n",
    "}"
   ]
  },
  {
   "cell_type": "markdown",
   "metadata": {
    "slideshow": {
     "slide_type": "subslide"
    }
   },
   "source": [
    "<center><img src=\"img/aliens.jpg\" width=\"1100\"/></center>"
   ]
  },
  {
   "cell_type": "code",
   "execution_count": null,
   "metadata": {
    "slideshow": {
     "slide_type": "subslide"
    }
   },
   "outputs": [],
   "source": [
    "// aliens are coming... \n",
    "\n",
    "List<AbstractSpaceShip> spaceFleet = new LinkedList<>();\n",
    "spaceFleet.add(new Rocket());\n",
    "spaceFleet.add(new SpaceShuttle());\n",
    "\n",
    "for(AbstractSpaceShip ship : spaceFleet){\n",
    "    ship.start();\n",
    "}\n",
    "\n",
    "// rescue the World, then...\n",
    "\n",
    "for(AbstractSpaceShip ship : spaceFleet){\n",
    "    ship.land();\n",
    "}"
   ]
  },
  {
   "cell_type": "markdown",
   "metadata": {
    "slideshow": {
     "slide_type": "subslide"
    }
   },
   "source": [
    "# Przykład metody szablonowej"
   ]
  },
  {
   "cell_type": "code",
   "execution_count": 59,
   "metadata": {
    "ExecuteTime": {
     "end_time": "2022-11-03T16:44+0000",
     "start_time": "2022-11-03T16:44:58.578Z"
    },
    "slideshow": {
     "slide_type": "fragment"
    }
   },
   "outputs": [
    {
     "name": "stdout",
     "output_type": "stream",
     "text": [
      "Map with size 100x100 of type Constrained map\n"
     ]
    }
   ],
   "source": [
    "abstract class WorldMap {\n",
    "    private int size = 100;\n",
    "    \n",
    "    public String toString(){\n",
    "            return \"Map with size \" + size + \"x\" + size + \" of type \" + getType();\n",
    "    }\n",
    "    \n",
    "    protected abstract String getType();\n",
    "}\n",
    "\n",
    "class ConstrainedMap extends WorldMap {\n",
    "    protected String getType(){\n",
    "        return \"Constrained map\";\n",
    "    }\n",
    "}\n",
    "\n",
    "System.out.println(new ConstrainedMap());"
   ]
  },
  {
   "cell_type": "markdown",
   "metadata": {
    "slideshow": {
     "slide_type": "slide"
    }
   },
   "source": [
    "# Interfejs (aka międzygębie)\n",
    "&nbsp;\n",
    "<center><img src=\"img/interface.jpg\"/></center>"
   ]
  },
  {
   "cell_type": "code",
   "execution_count": 60,
   "metadata": {
    "ExecuteTime": {
     "end_time": "2022-11-03T16:46+0000",
     "start_time": "2022-11-03T16:46:43.277Z"
    },
    "slideshow": {
     "slide_type": "subslide"
    }
   },
   "outputs": [],
   "source": [
    "interface ISpaceShip {\n",
    "    void start();\n",
    "    void land();\n",
    "}"
   ]
  },
  {
   "cell_type": "markdown",
   "metadata": {
    "slideshow": {
     "slide_type": "notes"
    }
   },
   "source": [
    "W interfejsie *zasadniczo* wszystkie metody są abstrakcyjne i publiczne. Jest on podobny do klasy abstrakcyjnej, ale interfejsy się implementuje (`implements`), a klasy rozszerza (`extends`). Co więcej interfejs nie może mieć żadnych atrybutów instancyjnych (od pewnego czasu może mieć atrybuty statyczne, które mają modyfikator `final`). "
   ]
  },
  {
   "cell_type": "code",
   "execution_count": 61,
   "metadata": {
    "ExecuteTime": {
     "end_time": "2022-11-03T16:47+0000",
     "start_time": "2022-11-03T16:47:02.403Z"
    },
    "slideshow": {
     "slide_type": "fragment"
    }
   },
   "outputs": [],
   "source": [
    "class Rocket implements ISpaceShip {\n",
    "    public void start(){\n",
    "        //...\n",
    "    }\n",
    "    \n",
    "    public void land(){\n",
    "        //...\n",
    "    }\n",
    "}"
   ]
  },
  {
   "cell_type": "code",
   "execution_count": 62,
   "metadata": {
    "ExecuteTime": {
     "end_time": "2022-11-03T16:47+0000",
     "start_time": "2022-11-03T16:47:03.318Z"
    },
    "slideshow": {
     "slide_type": "fragment"
    }
   },
   "outputs": [],
   "source": [
    "class SpaceShuttle implements ISpaceShip {\n",
    "    public void start(){\n",
    "        //...\n",
    "    }\n",
    "\n",
    "    public void land(){\n",
    "        //...\n",
    "    }\n",
    "}"
   ]
  },
  {
   "cell_type": "code",
   "execution_count": 63,
   "metadata": {
    "ExecuteTime": {
     "end_time": "2022-11-03T16:47+0000",
     "start_time": "2022-11-03T16:47:19.093Z"
    },
    "slideshow": {
     "slide_type": "subslide"
    }
   },
   "outputs": [],
   "source": [
    "// aliens are coming... \n",
    "\n",
    "List<ISpaceShip> spaceFleet = new LinkedList<>();\n",
    "spaceFleet.add(new Rocket());\n",
    "spaceFleet.add(new SpaceShuttle());\n",
    "\n",
    "for(ISpaceShip ship : spaceFleet){\n",
    "    ship.start();\n",
    "}\n",
    "\n",
    "// rescue the World, then...\n",
    "\n",
    "for(ISpaceShip ship : spaceFleet){\n",
    "    ship.land();\n",
    "}"
   ]
  },
  {
   "cell_type": "markdown",
   "metadata": {
    "slideshow": {
     "slide_type": "notes"
    }
   },
   "source": [
    "Jedyne co łączy obie klasy to implementacja tego samego interfejsu. Dzięki temu można je traktować tak jakby należały do jednego **typu**. Implementowanie nowego interfejsu jest dużo łatwiejsze do zrobienia niż zmiana klasy, z której się dziedziczy. Dlatego zasadniczo interfejs ma powszechniejsze zastosowanie."
   ]
  },
  {
   "cell_type": "code",
   "execution_count": null,
   "metadata": {
    "slideshow": {
     "slide_type": "slide"
    }
   },
   "outputs": [],
   "source": [
    "interface ISpaceShip {\n",
    "    void start();\n",
    "    void land();\n",
    "    // nowa metoda\n",
    "    void launchMissile();\n",
    "}"
   ]
  },
  {
   "cell_type": "markdown",
   "metadata": {
    "slideshow": {
     "slide_type": "notes"
    }
   },
   "source": [
    "Z szeroko wykorzystywanymi interfejsami wiąże się problem polegający na tym, że dodanie nowej metody - w szczególności w interfejsie, który jest zdefiniowany w JVM - oznacza konieczność doimplementowania tej metody w dziesiątka, tysiącach, a może i setkach tysięcy klas..."
   ]
  },
  {
   "cell_type": "markdown",
   "metadata": {
    "slideshow": {
     "slide_type": "subslide"
    }
   },
   "source": [
    "# Modyfikator `default`"
   ]
  },
  {
   "cell_type": "code",
   "execution_count": null,
   "metadata": {
    "slideshow": {
     "slide_type": "fragment"
    }
   },
   "outputs": [],
   "source": [
    "interface ISpaceShip {\n",
    "    void start();\n",
    "    void land();\n",
    "    \n",
    "    // nowość w Javie 8.0\n",
    "    default void launchMissile(){\n",
    "        InterplanetarySystem.out.\n",
    "            println(\"Włamujemy się emacsem przez sendmeila\");\n",
    "        InterplanetarySystem.out.\n",
    "            println(\"omijając potrójną ścianę ogniową\");\n",
    "    }\n",
    "}"
   ]
  },
  {
   "cell_type": "markdown",
   "metadata": {
    "slideshow": {
     "slide_type": "fragment"
    }
   },
   "source": [
    "https://www.youtube.com/watch?v=2yk5Gsqr7bM"
   ]
  },
  {
   "cell_type": "markdown",
   "metadata": {
    "slideshow": {
     "slide_type": "slide"
    }
   },
   "source": [
    "# Dziedziczenie vs. kompozycja \n",
    "\n",
    "&nbsp;\n",
    "\n",
    "<center><img src=\"img/composition.jpg\" width=\"1000px\"/></center>"
   ]
  },
  {
   "cell_type": "code",
   "execution_count": null,
   "metadata": {
    "slideshow": {
     "slide_type": "subslide"
    }
   },
   "outputs": [],
   "source": [
    "abstract class Car {\n",
    "    public void openDoor(DoorSpecification doorSpec){\n",
    "        doors.get(doorSpec).open();\n",
    "    }\n",
    "    \n",
    "    public abstract void drive();\n",
    "}"
   ]
  },
  {
   "cell_type": "code",
   "execution_count": null,
   "metadata": {
    "slideshow": {
     "slide_type": "fragment"
    }
   },
   "outputs": [],
   "source": [
    "class GasolineCar extends Car {\n",
    "    private GasolineEngine engine;\n",
    "    \n",
    "    public void drive(){\n",
    "        engine.deliverGasoline();\n",
    "        engine.igniteGasoline();\n",
    "        //...\n",
    "    }\n",
    "}"
   ]
  },
  {
   "cell_type": "code",
   "execution_count": null,
   "metadata": {
    "slideshow": {
     "slide_type": "fragment"
    }
   },
   "outputs": [],
   "source": [
    "class ElectricCar extends Car {\n",
    "    private List<WheelMotor> motors;\n",
    "    \n",
    "    public void drive(){\n",
    "        for(WheelMotor motor : motors){\n",
    "            motor.rotate();\n",
    "        }\n",
    "    }\n",
    "}"
   ]
  },
  {
   "cell_type": "markdown",
   "metadata": {
    "slideshow": {
     "slide_type": "notes"
    }
   },
   "source": [
    "Nie zawsze dziedziczenie jest najbardziej odpowiednim rozwiązaniem. W znacznie większej klasie problemów - w których chcemy uzależnić zachowanie od różnych \"czynników zewnętrznych bądź wewnętrznych\" - lepszym rozwiązaniem jest kompozycja, czyli \"składanie całości z różnych klocków\", które choć mają ten sam kształt (interfejs), to przejawiają różne zachowanie (implementacja)."
   ]
  },
  {
   "cell_type": "code",
   "execution_count": null,
   "metadata": {
    "slideshow": {
     "slide_type": "subslide"
    }
   },
   "outputs": [],
   "source": [
    "class Car {\n",
    "    private IDriveSystem driveSystem;\n",
    "    \n",
    "    public Car(IDriveSystem driveSystem){\n",
    "        this.driveSystem = driveSystem;\n",
    "    }\n",
    "    \n",
    "    public void drive(){\n",
    "        this.driveSystem.drive();\n",
    "    }\n",
    "}"
   ]
  },
  {
   "cell_type": "code",
   "execution_count": null,
   "metadata": {
    "slideshow": {
     "slide_type": "fragment"
    }
   },
   "outputs": [],
   "source": [
    "interface IDriveSystem {\n",
    "    void drive();\n",
    "}\n",
    "\n",
    "class ElectricDriveSystem implements IDriveSystem {\n",
    "    //...\n",
    "}\n",
    "\n",
    "class GasolineDriveSystem implements IDriveSystem {\n",
    "    //...\n",
    "}"
   ]
  },
  {
   "cell_type": "code",
   "execution_count": null,
   "metadata": {
    "scrolled": true,
    "slideshow": {
     "slide_type": "fragment"
    }
   },
   "outputs": [],
   "source": [
    "Car car = new Car(new GasolineDriveSystem());"
   ]
  },
  {
   "cell_type": "markdown",
   "metadata": {
    "slideshow": {
     "slide_type": "slide"
    }
   },
   "source": [
    "<center><img src=\"img/ruby-horizontal.svg\" style=\"width: 800px\" /></center>"
   ]
  },
  {
   "cell_type": "markdown",
   "metadata": {
    "slideshow": {
     "slide_type": "fragment"
    }
   },
   "source": [
    "* brak modyfikatora `abstract`\n",
    "* brak interfejsów"
   ]
  },
  {
   "cell_type": "markdown",
   "metadata": {
    "slideshow": {
     "slide_type": "subslide"
    }
   },
   "source": [
    "# Makra"
   ]
  },
  {
   "cell_type": "code",
   "execution_count": null,
   "metadata": {
    "slideshow": {
     "slide_type": "fragment"
    }
   },
   "outputs": [],
   "source": [
    "class User < ActiveRecrod::Base\n",
    "  has_many :posts\n",
    "end\n",
    "\n",
    "user = User.new\n",
    "\n",
    "user.posts\n",
    "user.posts << Post.new\n",
    "user.post_ids\n",
    "# ..."
   ]
  },
  {
   "cell_type": "markdown",
   "metadata": {
    "slideshow": {
     "slide_type": "subslide"
    }
   },
   "source": [
    "# Rozszerzanie klas wbudowanych"
   ]
  },
  {
   "cell_type": "code",
   "execution_count": null,
   "metadata": {
    "slideshow": {
     "slide_type": "fragment"
    }
   },
   "outputs": [],
   "source": [
    "class String\n",
    "  HIGHLIGHT = {\n",
    "    :end => \"\u001b[0m\",\n",
    "    :gray => \"\u001b[30;1m\",\n",
    "    :red => \"\u001b[31;1m\",\n",
    "    :green => \"\u001b[32;1m\",\n",
    "    :yellow => \"\u001b[33;1m\",\n",
    "    :blue => \"\u001b[34;1m\",\n",
    "    :purple => \"\u001b[35;1m\",\n",
    "    :lightblue => \"\u001b[36;1m\",\n",
    "    :white => \"\u001b[37;1m\",\n",
    "    :red_bg => \"\u001b[30;101m\",\n",
    "    :green_bg => \"\u001b[30;101m\",\n",
    "    :yellow_bg => \"\u001b[30;101m\",\n",
    "    :blue_bg => \"\u001b[30;101m\",\n",
    "    :purple_bg => \"\u001b[30;101m\",\n",
    "    :lightblue_bg => \"\u001b[30;101m\",\n",
    "    :white_bg => \"\u001b[30;101m\",\n",
    "    :bold => \"\u001b[1m\",\n",
    "    :default => \"\u001b[1m\"\n",
    "  }\n",
    "\n",
    "\n",
    "  def hl(type=:bold,word=nil)\n",
    "    if word\n",
    "      self.gsub(/(\\s|\\A|[[:punct:]])#{word}(\\s|\\Z|[[:punct:]])/,\n",
    "        \"\\\\1\" + HIGHLIGHT[type] + word.to_s + HIGHLIGHT[:end] + \"\\\\2\")\n",
    "    else\n",
    "      HIGHLIGHT[type] + self.to_s + HIGHLIGHT[:end]\n",
    "    end\n",
    "  end\n",
    "end"
   ]
  },
  {
   "cell_type": "markdown",
   "metadata": {
    "ExecuteTime": {
     "end_time": "2022-01-19T14:34+0000",
     "start_time": "2022-01-19T14:34:38.241Z"
    },
    "slideshow": {
     "slide_type": "slide"
    }
   },
   "source": [
    "![Pytania? ](img/question.jpg)"
   ]
  }
 ],
 "metadata": {
  "celltoolbar": "Slideshow",
  "kernelspec": {
   "display_name": "Java",
   "language": "java",
   "name": "java"
  },
  "language_info": {
   "codemirror_mode": "java",
   "file_extension": ".jshell",
   "mimetype": "text/x-java-source",
   "name": "Java",
   "pygments_lexer": "java",
   "version": "17.0.2+8-86"
  },
  "toc": {
   "base_numbering": 1,
   "nav_menu": {},
   "number_sections": false,
   "sideBar": true,
   "skip_h1_title": false,
   "title_cell": "Table of Contents",
   "title_sidebar": "Contents",
   "toc_cell": false,
   "toc_position": {},
   "toc_section_display": true,
   "toc_window_display": false
  }
 },
 "nbformat": 4,
 "nbformat_minor": 2
}
