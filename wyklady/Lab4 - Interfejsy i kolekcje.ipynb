{
 "cells": [
  {
   "cell_type": "markdown",
   "id": "253ffe71",
   "metadata": {},
   "source": [
    "# Wiele konstruktorów\n",
    "\n",
    "Jeśli klasa posiada więcej niż jeden konstruktor to najczęściej każdy z nich prędzej czy później przypisuje wartości do tych samych atrybutów. Czasem te wartości są podawane przez parametry metody, czasem tworzone jako wartości domyślne a czasem są wynikiem bardziej skomplikowanych obliczeń. W efekcie dostajemy taką sytuację: "
   ]
  },
  {
   "cell_type": "code",
   "execution_count": null,
   "id": "158d1406",
   "metadata": {},
   "outputs": [],
   "source": [
    "public Animal(IWorldMap map) {\n",
    "   this.map = map;\n",
    "   this.orientation = MapDirection.NORTH;\n",
    "   this.position = new Vector2d(2 ,2);\n",
    "}\n",
    "\n",
    "public Animal(IWorldMap map, Vector2d position) {\n",
    "    this.map = map;\n",
    "    this.orientation = MapDirection.NORTH;\n",
    "    this.position = position;\n",
    "}"
   ]
  },
  {
   "cell_type": "markdown",
   "id": "385dc57e",
   "metadata": {},
   "source": [
    "Widzimy, że same przypisania powtarzają się, co więcej niektóre są wręcz zduplikowane w obu konstruktorach. Żeby tego uniknąć i nie popełnić błędu np. zapominając o przypisaniu jednego z atrybutów możemy wywołać konstruktor z innego konstrutkora używając instrukcji `this()`."
   ]
  },
  {
   "cell_type": "code",
   "execution_count": null,
   "id": "f8996adb",
   "metadata": {},
   "outputs": [],
   "source": [
    "public Animal(IWorldMap map) {\n",
    "   this(map, new Vector2d(2, 2));\n",
    "}"
   ]
  },
  {
   "cell_type": "markdown",
   "id": "15b1bb9f",
   "metadata": {},
   "source": [
    "Gdyby konstruktorów było jeszcze więcej, moglibyśmy kontynuować takie \"zagnieżdżanie\". Generalna zasada jest taka, że zawsze **mniejszy konstruktor wywołuje większy**."
   ]
  },
  {
   "cell_type": "code",
   "execution_count": null,
   "id": "b0abd9d2",
   "metadata": {},
   "outputs": [],
   "source": [
    "public Animal() {\n",
    "    this(new RectangularMap(4, 4)); // tylko na potrzeby przykładu, w zadaniu raczej tak nie chcemy ;)\n",
    "}\n",
    "\n",
    "public Animal(IWorldMap map) {\n",
    "   this(map, new Vector2d(2, 2));\n",
    "}\n",
    "\n",
    "public Animal(IWorldMap map, Vector2d position) {\n",
    "    this.map = map;\n",
    "    this.orientation = MapDirection.NORTH;\n",
    "    this.position = position;\n",
    "}"
   ]
  },
  {
   "cell_type": "markdown",
   "id": "b7643e27",
   "metadata": {},
   "source": [
    "# Domyślne metody interfejsów\n",
    "\n",
    "Czasem zdarza się, że metody, które realizują interfejs zależą tak naprawdę tylko od siebie nawzajem. Jeśli przyjrzymy się metodom w naszej klasie `RectangularMap`:"
   ]
  },
  {
   "cell_type": "code",
   "execution_count": null,
   "id": "d0b35567",
   "metadata": {},
   "outputs": [],
   "source": [
    "public interface IWorldMap {\n",
    "\n",
    "    boolean isOccupied(Vector2d position);\n",
    "    \n",
    "    Object objectAt(Vector2d position);\n",
    "}\n",
    "\n",
    "public class RectangularMap implements IWorldMap {\n",
    "\n",
    "    private List<Animal> animals = new ArrayList<>();\n",
    "\n",
    "\n",
    "    @Override\n",
    "    public boolean isOccupied(Vector2d position) {\n",
    "        return objectAt(position) != null;\n",
    "    }\n",
    "\n",
    "\n",
    "    @Override\n",
    "    public Object objectAt(Vector2d position) {\n",
    "        for (Animal animal : animals) {\n",
    "            if (animal.isAt(position)) {\n",
    "                return animal;\n",
    "            }\n",
    "        }\n",
    "        return null;\n",
    "    }\n",
    "}"
   ]
  },
  {
   "cell_type": "markdown",
   "id": "49b38030",
   "metadata": {},
   "source": [
    "to zauważymy, że metoda `isOccupied()` nie korzysta w ogóle ze stanu mapy, tj. z żadnego z jej atrybutów. Nie korzysta również z żadnej z metod specyficznych tylko dla `RectangularMap`. Wywołuje jedynie inną metodę z interfejsu, którego sama jest częścią. W tego typu sytuacji możemy przenieść taką implementację do interfejsu - wystarczy tylko oznaczyć ją słowem `default` i Java pozwoli nam zdefiniować ciało metody, pomimo że jest to interfejs."
   ]
  },
  {
   "cell_type": "code",
   "execution_count": null,
   "id": "6440a8c2",
   "metadata": {},
   "outputs": [],
   "source": [
    "public interface IWorldMap {\n",
    "\n",
    "    default boolean isOccupied(Vector2d position) {\n",
    "        return objectAt(position) != null;\n",
    "    }\n",
    "    \n",
    "    Object objectAt(Vector2d position);\n",
    "}\n"
   ]
  },
  {
   "cell_type": "markdown",
   "id": "ddcc15f8",
   "metadata": {},
   "source": [
    "# Hermetyzacja a kolekcje\n",
    "\n",
    "Wiemy już, że w przypadku atrybutów powinniśmy pamiętać by ustawiać ich modyfikatory na prywatne i ewentualnie dostarczać metod dostępu (getterów i/lub setterów). W przypadku kolekcji w teorii sprawa wygląda podobnie. Przyjrzymy się przykładowi:"
   ]
  },
  {
   "cell_type": "code",
   "execution_count": null,
   "id": "e818fecd",
   "metadata": {},
   "outputs": [],
   "source": [
    "public class RectangularMap implements IWorldMap {\n",
    "\n",
    "    private List<Animal> animals = new ArrayList<>();\n",
    "    \n",
    "    public List<Animal> getAnimals() {\n",
    "        return animals;\n",
    "    }\n",
    "    \n",
    "    public boolean place(Animal animal) {\n",
    "        if (canMoveTo(animal.getPosition())) {\n",
    "            animals.add(animal);\n",
    "            return true;\n",
    "        }\n",
    "        return false;\n",
    "  }\n",
    "}"
   ]
  },
  {
   "cell_type": "markdown",
   "id": "b6727267",
   "metadata": {},
   "source": [
    "Wydaje się, że wszystko jest ok. Zabezpieczyliśmy naszą listę przed publicznym dostępem, nikt nam jej nie podmieni... Co jednak z jej zawartością? Z kodu wynika, że umieszczenie czegoś w liście może nastąpić tylko pod pewnymi warunkami (metoda `place()`), a tymczasem nikt nam nie zabroni zrobić tak:"
   ]
  },
  {
   "cell_type": "code",
   "execution_count": null,
   "id": "1b7c249d",
   "metadata": {},
   "outputs": [],
   "source": [
    "RectangularMap map = new RectangularMap();\n",
    "map.getAnimals().add(new Animal(map, new Vector2d(666, 666)));"
   ]
  },
  {
   "cell_type": "markdown",
   "id": "d093ad84",
   "metadata": {},
   "source": [
    "Jesli mapa miałaby np. rozmiar 10x10 to w ten sposób \"zhakowalibyśmy\" nasze własne rozwiązanie dodając zwierzę niemieszczące się na mapie. Jak sobie z tym poradzić? Najprostsze rozwiązanie to zwrócić kopię listy:"
   ]
  },
  {
   "cell_type": "code",
   "execution_count": null,
   "id": "c9ccb2b9",
   "metadata": {},
   "outputs": [],
   "source": [
    "public List<Animal> getAnimals() {\n",
    "    return List.copyOf(animals); // uwaga: zwraca niemodyfikowalną listę, jesli chcemy modyfikować to new ArrayList<>(animals)\n",
    "}"
   ]
  },
  {
   "cell_type": "markdown",
   "id": "d99f5a3c",
   "metadata": {},
   "source": [
    "W ten sposób uchronimy się przed niechcianymi zmianami. Jeśli dodatkowo zależy nam na wydajności i nie chcemy za każdym razem kopiować listy to możemy zamiast tego zwrócić tzw. niemodyfikowalny widok, który jedynie opakowuje listę i przy próbie wywołania metod typu `add()` rzuca błędem."
   ]
  },
  {
   "cell_type": "code",
   "execution_count": null,
   "id": "00de3adb",
   "metadata": {},
   "outputs": [],
   "source": [
    "public List<Animal> getAnimals() {\n",
    "    return Collections.unmodifiableList(animals);\n",
    "}"
   ]
  },
  {
   "cell_type": "markdown",
   "id": "f541976c",
   "metadata": {},
   "source": [
    "# Strumienie dla kolekcji\n",
    "\n",
    "Strumienie (Streams), które pokazywaliśmy już przy okazji omawiania poprzednich laborek można tworzyć na bazie różnych elementów. Najczęściej jednak będziemy z nich korzystać właśnie w połączeniu z kolekcjami. Każda z javowych kolekcji posiada metodę `stream()`, która przekształca kolekcję elementów typu `T` w `Stream<T>`. Możemy potem dowolnie dokładać do takiego strumienia operatory. Gdy w końcu dołożymy tzw. operator terminalny (np. `collect()` albo inny zwracający wartość a nie strumień), elementy kolekcji są kolejno przepuszczane przez wszystkie operatory napotkane po drodze. Sama źródłowa kolekcja nie jest przy tym w żaden sposób modyfikowana. \n",
    "\n",
    "W naszych zadaniach mieliśmy dwie czytelne sytuacje, gdzie strumienie mogły zostać użyte. Pierwsza z nich to metoda `isOccupied()`: "
   ]
  },
  {
   "cell_type": "code",
   "execution_count": null,
   "id": "7dcf352b",
   "metadata": {},
   "outputs": [],
   "source": [
    "public boolean isOccupied(Vector2d position) {\n",
    "    for (Animal animal : animals) {\n",
    "        if (animal.isAt(position)) {\n",
    "            return true;\n",
    "        }\n",
    "    }\n",
    "    return false;\n",
    "}"
   ]
  },
  {
   "cell_type": "markdown",
   "id": "8404580e",
   "metadata": {},
   "source": [
    "Całość metody sprowadza się do typowego \"sprawdź czy którykolwiek element spełnia warunek\". Korzystając ze streamów moglibymy tu zastosować operator `anyMatch()`, który dla każdego napotkanego elementu odpala predykat (funkcję zwracającą true/false) i zatrzymuje się gdy znajdzie pierwszy, dla którego predykat zwróci true."
   ]
  },
  {
   "cell_type": "code",
   "execution_count": null,
   "id": "b2b7f4ee",
   "metadata": {},
   "outputs": [],
   "source": [
    "public boolean isOccupied(Vector2d position) {\n",
    "    return animals.stream()\n",
    "                  .anyMatch(animal -> animal.isAt(position));\n",
    "}"
   ]
  },
  {
   "cell_type": "markdown",
   "id": "9d023cfa",
   "metadata": {},
   "source": [
    "Zwróćmy uwagę, że `anyMatch()` jest operatorem terminalnym, bo zwraca nie `Stream` tylko `boolean`. \n",
    "\n",
    "Oczywiście w naszym zadaniu można było również zaimplementować `isOccupied()` z wykorzystaniem `objectAt()` (jak w przykładach wyżej).\n",
    "\n",
    "Nieco bardziej złożonym przypadkiem jest wspomniana metoda `objectAt()`. Jeśli chcielibyśmy napisać ją używając streamów, musimy zauważyć, że tu problem sprowadza się do \"znajdź pierwszy element, który spełnia warunek\". A więc wynikiem jest tu nie true/false tylko cały obiekt. Będziemy tu potrzebowali dwóch operatorów:\n",
    "- `filter()` - przyjmujący predykat i przepuszczający dalej jedynie elementy, które go spełniają\n",
    "- `findFirst()` - zatrzymujący strumień po pierwszym napotkanym elemencie (operacja terminalna)"
   ]
  },
  {
   "cell_type": "code",
   "execution_count": null,
   "id": "2c6ef56e",
   "metadata": {},
   "outputs": [],
   "source": [
    "public Object objectAt(Vector2d position) {\n",
    "    return animals.stream()\n",
    "            .filter(animal -> animal.isAt(position))\n",
    "            .findFirst()\n",
    "            .orElse(null);\n",
    "}"
   ]
  },
  {
   "cell_type": "markdown",
   "id": "f69375de",
   "metadata": {},
   "source": [
    "Po uruchomieniu strumień będzie wrzucał kolejne zwierzątka do filtra. Pierwsze z nich które przejdzie pomyślnie przez filtr (jego pozycja będzie zgodna) wpadnie do operatora `findFirst()`, który zakończy strumień i zwróci rezultat.\n",
    "\n",
    "### Optional\n",
    "\n",
    "Byłby to koniec przykładu, ale widzimy, że pojawia się tu jeszcze `orElse(null)`. Bierze się to z faktu, że `findFirst()` nie zwraca po prostu obiektu `Animal` tylko obiekt `Optional<Animal>`. Typ `Optional` wprowadzono w Javie 8 żeby usprawnić kontrolę nad sytuacjami gdy metoda może zwrócić `null`. Normalnie nic nas nie chroni przed nullami - jeśli nie spodziewamy się, że gdzieś pojawi się `null` i nie sprawdzimy tego to najprawdopodobniej prędzej czy później zobaczymy ulubiony komunikat programistów Javy, czyli `NullPointerException`. Stanie się tak, gdy spróbujemy wywołać na zmiennej wskazującej na `null` dowolną metodę.\n",
    "Optionale mają za zadanie przede wszystkim uświadamiać nas, że dana metoda może nic nie zwrócić i należy taką sytuację obsłużyć. Mają też szereg metod podobnych do tych, które znamy ze Streamów (np. `map()`, `filter()`), co sprawia że często nawet nie musimy w ogóle takiego optionala rozpakowywać żeby przeprowadzić operacje na danych, które przechowuje. \n",
    "\n",
    "Ogólna zasada brzmi: **jeśli metoda może zwrócić null, powinna zamiast tego zwrócić `Optional`**. Jeśli będziemy trzymać się tej zasady, nasze programy staną się znacznie czytelniejsze i bardziej odporne na nasze błędy. \n",
    "\n",
    "Kierując się tą zasadą powinniśmy tak naprawdę zmienić nasz interfejs i przerobić metodę `objectAt()` tak by zwracała `Optional`:"
   ]
  },
  {
   "cell_type": "code",
   "execution_count": null,
   "id": "c2192821",
   "metadata": {},
   "outputs": [],
   "source": [
    "public Optional<? extends Object> objectAt(Vector2d position) {\n",
    "    return animals.stream()\n",
    "            .filter(animal -> animal.isAt(position))\n",
    "            .findFirst();\n",
    "}"
   ]
  },
  {
   "cell_type": "markdown",
   "id": "b443e65e",
   "metadata": {},
   "source": [
    "Wtedy z kolei metoda `isOccupied()` powinna sprawdzić, czy zwrócony `Optional` zawiera coś w środku (nie sprawdzamy już nulla, bo nigdy nulla nie dostaniemy!):"
   ]
  },
  {
   "cell_type": "code",
   "execution_count": null,
   "id": "dd8f81ae",
   "metadata": {},
   "outputs": [],
   "source": [
    "public boolean isOccupied(Vector2d position) {\n",
    "    return objectAt(position).isPresent();\n",
    "}"
   ]
  },
  {
   "cell_type": "markdown",
   "id": "543a68a4",
   "metadata": {},
   "source": [
    "Inne przydatne metody na `Optionalu` to: `ifPresent(element -> ...)`, `orElse(wartośćJesliNull)` czy `get()` (pobiera wartość - powinna być używana tylko po sprawdzeniu, inaczej poleci NullPointerException). \n",
    "\n",
    "Jeśli z kolei chcemy opakować obiekt w `Optional` możemy użyć: `Optional.ofNullable(obiekt)` lub `Optional.of(obiekt)` w zalezności od tego, czy dopuszczamy by przekazany tam obiekt był nullem czy nie. "
   ]
  }
 ],
 "metadata": {
  "kernelspec": {
   "display_name": "Java",
   "language": "java",
   "name": "java"
  },
  "language_info": {
   "codemirror_mode": "java",
   "file_extension": ".jshell",
   "mimetype": "text/x-java-source",
   "name": "Java",
   "pygments_lexer": "java",
   "version": "17.0.3+7"
  }
 },
 "nbformat": 4,
 "nbformat_minor": 5
}
