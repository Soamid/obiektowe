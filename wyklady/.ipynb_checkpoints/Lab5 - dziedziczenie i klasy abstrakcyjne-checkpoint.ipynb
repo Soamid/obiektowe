{
 "cells": [
  {
   "cell_type": "markdown",
   "id": "c192050a",
   "metadata": {},
   "source": [
    "# Co może, a czego nie powinna zawierać klasa bazowa?"
   ]
  },
  {
   "cell_type": "markdown",
   "id": "47b3f1cb",
   "metadata": {},
   "source": [
    "W naszym przykładzie hierarchia dziedziczenia wyglądała następująco:\n",
    "\n",
    "Pierwsze podstawowe pytanie, jakie się tu pojawia to co właściwie umieścić w klasie `AbstractWorldMap`? Generalna zasada, której powinniśmy się trzymać to: **klasa bazowa zawiera jedynie elementy wspólne dla wszystkich klas dziedziczących. I nic więcej.** Ta zasada dotyczy zarówno klas abstrakcyjnych, jak i zwyklych klas, z których dziedziczymy.\n",
    "\n",
    "Jeśli więc mamy dwa rodzaje obiektów, trzymane w dwóch listach: `List<Animal>` oraz `List<Grass>` to w klasie bazowej możemy umieścić jedynie `List<Animal>`, bo tylko zwierzęta występują we wszystkich mapach. Umieszczenie w klasie bazowej listy traw sprawiłoby, że np. klasa `RectangularMap` też by ją odziedziczyła i trochę nie wiadomo co miałaby z nią zrobić. \n",
    "\n",
    "Inaczej będzie to wszystko wyglądać, jeśli wprowadzimy wspólny typ dla samych elementów mapy - jeśli zarówno `Grass`, jak i `Animal` będą implementowały `IMapElement` to w klasie `AbstractWorldMap` możemy umieścić `List<IMapElement>`. Wtedy z kolei `RectangularMap` może tam umieszczać obiekty typu `Animal`, a `GrassField` obiekty typu `Animal` oraz obiekty typu `Grass` i nie ma żadnych niepotrzebnych zależności w dziedziczeniu. \n",
    "**Uwaga:** nie oznacza to, że rozwiązanie z jedną listą wszystkich obiektów jest tutaj lepsze, ponieważ w kilku przypadkach musielibyśmy i tak sprawdzać czy dany `IMapElement` jest zwierzęciem czy trawą za pomocą operatora `instanceof`. Tego typu sytuacja narusza tzw. [zasadę LSP(https://pl.wikipedia.org/wiki/Zasada_podstawienia_Liskov)] i powinniśmy jej unikać. "
   ]
  },
  {
   "cell_type": "markdown",
   "id": "a0b5c0e8",
   "metadata": {},
   "source": [
    "# Kiedy i jak nadpisywać metody?"
   ]
  },
  {
   "cell_type": "markdown",
   "id": "99e7c1e2",
   "metadata": {},
   "source": [
    "## Domyślne metody w interfejsach"
   ]
  },
  {
   "cell_type": "markdown",
   "id": "2a3b9a4c",
   "metadata": {},
   "source": [
    "## Adnotacja `@Override`"
   ]
  },
  {
   "cell_type": "markdown",
   "id": "7630434d",
   "metadata": {},
   "source": [
    "# Nadmiarowe atrybuty"
   ]
  },
  {
   "cell_type": "markdown",
   "id": "e4d0966e",
   "metadata": {},
   "source": [
    "# Rekordy jako krotki "
   ]
  },
  {
   "cell_type": "code",
   "execution_count": null,
   "id": "33aeeadf",
   "metadata": {},
   "outputs": [],
   "source": []
  }
 ],
 "metadata": {
  "kernelspec": {
   "display_name": "Java",
   "language": "java",
   "name": "java"
  },
  "language_info": {
   "codemirror_mode": "java",
   "file_extension": ".jshell",
   "mimetype": "text/x-java-source",
   "name": "Java",
   "pygments_lexer": "java",
   "version": "16.0.2+7"
  }
 },
 "nbformat": 4,
 "nbformat_minor": 5
}
