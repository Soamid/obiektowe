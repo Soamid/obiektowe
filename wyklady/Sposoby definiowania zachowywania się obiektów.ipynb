{
 "cells": [
  {
   "cell_type": "markdown",
   "metadata": {
    "slideshow": {
     "slide_type": "slide"
    }
   },
   "source": [
    "# Sposoby definiowania zachowania się obiektów\n",
    "## Metody instancyjne i klasowe, klasy abstrakcyjne, interfejsy\n",
    "\n",
    "<br/>\n",
    "\n",
    "## dr inż. Aleksander Smywiński-Pohl\n",
    "\n",
    "## apohllo@o2.pl\n",
    "\n",
    "## http://apohllo.pl/dydaktyka/programowanie-obiektowe\n"
   ]
  },
  {
   "cell_type": "markdown",
   "metadata": {
    "slideshow": {
     "slide_type": "slide"
    }
   },
   "source": [
    "# Definiowanie zachowania\n",
    "\n",
    "```java\n",
    "class Speed {\n",
    "    private final double value;\n",
    "    private final SpeedUnit unit;\n",
    "\n",
    "    public Speed(double value, SpeedUnit unit){\n",
    "        this.value = value;\n",
    "        this.unit = unit;\n",
    "    }\n",
    "    \n",
    "    public Speed add(Speed that){\n",
    "        if(this.unit == that.unit){\n",
    "            return new Speed(this.value + that.value, this.unit)\n",
    "        } else {\n",
    "            //...\n",
    "        }\n",
    "    }\n",
    "    \n",
    "    public boolean isAboveZero(){\n",
    "        return value > 0;\n",
    "    }\n",
    "}\n",
    "```"
   ]
  },
  {
   "cell_type": "markdown",
   "metadata": {
    "slideshow": {
     "slide_type": "notes"
    }
   },
   "source": [
    "Metody pozwalają na definiowanie zachowania obiektów *w określonej dziedzinie problemu*. Różnica względm języków proceduralnych polega na tym, że metody są ściśle związane z danymi (stanem) obiektów i pozwalają na wyrażanie kodu programu w *języku dziedziny problemu*."
   ]
  },
  {
   "cell_type": "markdown",
   "metadata": {
    "slideshow": {
     "slide_type": "subslide"
    }
   },
   "source": [
    "```java\n",
    "class SpaceShip {\n",
    "    private Speed speed;\n",
    "\n",
    "    public SpaceShip(){\n",
    "        this.speed = new Speed(0, SpeedUnit.MS);\n",
    "    }\n",
    "\n",
    "    public void accelerate(Speed delta){\n",
    "        if(delta.isAboveZero()) {\n",
    "            this.speed = this.speed.add(delta);\n",
    "        }\n",
    "    }\n",
    "}\n",
    "```"
   ]
  },
  {
   "cell_type": "markdown",
   "metadata": {
    "slideshow": {
     "slide_type": "fragment"
    }
   },
   "source": [
    "<img src=\"img/public_methods.png\"/>"
   ]
  },
  {
   "cell_type": "markdown",
   "metadata": {
    "slideshow": {
     "slide_type": "slide"
    }
   },
   "source": [
    "# Modyfikacja zachowania w klasie dziedziczącej\n",
    "\n",
    "```java\n",
    "class Speed {\n",
    "    private final double value;\n",
    "    private final SpeedUnit unit;\n",
    "    \n",
    "    public Speed(double value, SpeedUnit unit){\n",
    "        this.value = value;\n",
    "        this.unit = unit;\n",
    "    }\n",
    "    \n",
    "    @Override\n",
    "    public String toString(){\n",
    "        return \"\" + value + \" \" + unit;\n",
    "    }\n",
    "}\n",
    "```"
   ]
  },
  {
   "cell_type": "markdown",
   "metadata": {
    "slideshow": {
     "slide_type": "fragment"
    }
   },
   "source": [
    "```java\n",
    "Speed speed1 = new Speed(10, SpeedUnit.KMH);\n",
    "speed1.toString();\n",
    "```"
   ]
  },
  {
   "cell_type": "markdown",
   "metadata": {
    "slideshow": {
     "slide_type": "fragment"
    }
   },
   "source": [
    "```java\n",
    "Object speed2 = new Speed(10, SpeedUnit.KMH);\n",
    "speed2.toString();\n",
    "```"
   ]
  },
  {
   "cell_type": "markdown",
   "metadata": {
    "slideshow": {
     "slide_type": "subslide"
    }
   },
   "source": [
    "<img src=\"img/override.png\"/>"
   ]
  },
  {
   "cell_type": "markdown",
   "metadata": {
    "slideshow": {
     "slide_type": "notes"
    }
   },
   "source": [
    "Innymi słowy zasadniczo metody w Javie są wirtualne.\n",
    "\n",
    "TODO - obrazek: jak to działa."
   ]
  },
  {
   "cell_type": "markdown",
   "metadata": {
    "slideshow": {
     "slide_type": "subslide"
    }
   },
   "source": [
    "# Rozszerzenie zachowania klasy nadrzędnej\n",
    "\n",
    "```java\n",
    "class Speed {\n",
    "    private final double value;\n",
    "    private final SpeedUnit unit;\n",
    "\n",
    "    public Speed(double value, SpeedUnit unit){\n",
    "        this.value = value;\n",
    "        this.unit = unit;\n",
    "    }\n",
    "\n",
    "    @Override\n",
    "    public String toString(){\n",
    "        return super.toString() + \" \" + value + \" \" + unit;\n",
    "    }\n",
    "}\n",
    "```"
   ]
  },
  {
   "cell_type": "markdown",
   "metadata": {
    "slideshow": {
     "slide_type": "fragment"
    }
   },
   "source": [
    "```java\n",
    "Speed speed1 = new Speed(10, SpeedUnit.KMH);\n",
    "speed1.toString();\n",
    "```"
   ]
  },
  {
   "cell_type": "markdown",
   "metadata": {
    "slideshow": {
     "slide_type": "subslide"
    }
   },
   "source": [
    "<img src=\"img/super.png\"/>"
   ]
  },
  {
   "cell_type": "markdown",
   "metadata": {
    "slideshow": {
     "slide_type": "subslide"
    }
   },
   "source": [
    "# Pola vs. metody\n",
    "\n",
    "```java\n",
    "enum SpeedUnit {\n",
    "    MS, KMH, MA\n",
    "}\n",
    "```"
   ]
  },
  {
   "cell_type": "markdown",
   "metadata": {
    "slideshow": {
     "slide_type": "fragment"
    }
   },
   "source": [
    "```java\n",
    "class Speed {\n",
    "    public double value;\n",
    "    public SpeedUnit unit;\n",
    "\n",
    "    public Speed(double value, SpeedUnit unit){\n",
    "        this.value = value;\n",
    "        this.unit = unit;\n",
    "    }\n",
    "}\n",
    "```"
   ]
  },
  {
   "cell_type": "markdown",
   "metadata": {
    "slideshow": {
     "slide_type": "subslide"
    }
   },
   "source": [
    "```java\n",
    "class SuperSonicSpeed extends Speed {\n",
    "    public double value;\n",
    "    public SpeedUnit unit = SpeedUnit.MA;\n",
    "\n",
    "    public SuperSonicSpeed(double value){\n",
    "        super(value, SpeedUnit.MS);\n",
    "    }\n",
    "}\n",
    "```"
   ]
  },
  {
   "cell_type": "markdown",
   "metadata": {
    "slideshow": {
     "slide_type": "fragment"
    }
   },
   "source": [
    "```java\n",
    "Speed speed1 = new Speed(10, SpeedUnit.MS);\n",
    "speed1.unit;\n",
    "```"
   ]
  },
  {
   "cell_type": "markdown",
   "metadata": {
    "slideshow": {
     "slide_type": "fragment"
    }
   },
   "source": [
    "```java\n",
    "Speed speed2 = new SuperSonicSpeed(10);\n",
    "speed2.unit;\n",
    "```"
   ]
  },
  {
   "cell_type": "markdown",
   "metadata": {
    "slideshow": {
     "slide_type": "fragment"
    }
   },
   "source": [
    "```java\n",
    "SuperSonicSpeed speed3 = new SuperSonicSpeed(10);\n",
    "speed3.unit;\n",
    "```"
   ]
  },
  {
   "cell_type": "markdown",
   "metadata": {
    "slideshow": {
     "slide_type": "subslide"
    }
   },
   "source": [
    "<img src=\"img/shadowing2.png\"/>"
   ]
  },
  {
   "cell_type": "markdown",
   "metadata": {
    "slideshow": {
     "slide_type": "notes"
    }
   },
   "source": [
    "Jest to podstawowa różnica między polami w klasie, a metodami. Klasa dziedzicząca może nadpisać metodę i ta zmiana jest \"widoczna\" w klasie nadrzędnej."
   ]
  },
  {
   "cell_type": "markdown",
   "metadata": {
    "slideshow": {
     "slide_type": "slide"
    }
   },
   "source": [
    "# Modyfikator `private`\n",
    "\n",
    "```java\n",
    "class Speed {\n",
    "    private static final double MS_TO_KMH_RATIO = 3.6;\n",
    " \n",
    "    public Speed add(Speed that){\n",
    "        return new Speed(this.value + that.convert(this.unit), this.unit);\n",
    "    }\n",
    "    \n",
    "    public Speed subtract(Speed that){\n",
    "        return new Speed(this.value - that.convert(this.unit), this.unit);\n",
    "    }\n",
    "\n",
    "    private double convert(SpeedUnit target){\n",
    "        if(this.unit == SpeedUnit.KMH && target == SpeedUnit.MS){\n",
    "            return this.value / MS_TO_KMH_RATIO;\n",
    "        } else if(this.unit == SpeedUnit.MS && target == SpeedUnit.KMH){\n",
    "            return this.value * MS_TO_KMH_RATIO;\n",
    "        } else {\n",
    "            return this.value;\n",
    "        }\n",
    "    }   \n",
    "}\n",
    "```"
   ]
  },
  {
   "cell_type": "markdown",
   "metadata": {
    "slideshow": {
     "slide_type": "subslide"
    }
   },
   "source": [
    "```java\n",
    "Speed speed1 = new Speed(10, SpeedUnit.MS);\n",
    "Speed speed2 = new Speed(36, SpeedUnit.KMH);\n",
    "speed1.add(speed2);\n",
    "```"
   ]
  },
  {
   "cell_type": "markdown",
   "metadata": {
    "slideshow": {
     "slide_type": "fragment"
    }
   },
   "source": [
    "```java\n",
    "speed1.convert(SpeedUnit.MS);     // niedozwolone\n",
    "```"
   ]
  },
  {
   "cell_type": "markdown",
   "metadata": {
    "slideshow": {
     "slide_type": "fragment"
    }
   },
   "source": [
    "<img src=\"img/private_method.png\"/>"
   ]
  },
  {
   "cell_type": "markdown",
   "metadata": {
    "slideshow": {
     "slide_type": "notes"
    }
   },
   "source": [
    "zasadniczo metody prywatne są szczegółami implementacji, więc nie można ich wywoływać \"z zewnątrz\""
   ]
  },
  {
   "cell_type": "markdown",
   "metadata": {
    "slideshow": {
     "slide_type": "subslide"
    }
   },
   "source": [
    "```java\n",
    "class SuperSonicSpeed extends Speed{\n",
    "    public SuperSonicSpeed(double value){\n",
    "        super(value, SpeedUnit.MA);\n",
    "    }\n",
    "\n",
    "    private double convert(SpeedUnit target){\n",
    "        return 0;\n",
    "    }\n",
    "}\n",
    "```"
   ]
  },
  {
   "cell_type": "markdown",
   "metadata": {
    "slideshow": {
     "slide_type": "notes"
    }
   },
   "source": [
    "Wywołanie `super` powoduje wywołanie konstruktora z klasy nadrzędnej."
   ]
  },
  {
   "cell_type": "markdown",
   "metadata": {
    "slideshow": {
     "slide_type": "fragment"
    }
   },
   "source": [
    "```java\n",
    "SuperSonicSpeed speed1 = new SuperSonicSpeed(10);\n",
    "SuperSonicSpeed speed2 = new SuperSonicSpeed(10);\n",
    "speed1.add(speed2);\n",
    "```"
   ]
  },
  {
   "cell_type": "markdown",
   "metadata": {
    "slideshow": {
     "slide_type": "fragment"
    }
   },
   "source": [
    "<img src=\"img/private_shadowing.png\"/>"
   ]
  },
  {
   "cell_type": "markdown",
   "metadata": {
    "slideshow": {
     "slide_type": "slide"
    }
   },
   "source": [
    "# Modyfikator `protected`\n",
    "\n",
    "```java\n",
    "class Speed {\n",
    "    protected double convert(SpeedUnit target){\n",
    "        if(this.unit == SpeedUnit.KMH && target == SpeedUnit.MS){\n",
    "            return this.value / MS_TO_KMH_RATIO;\n",
    "        } else if(this.unit == SpeedUnit.MS && target == SpeedUnit.KMH){\n",
    "            return this.value * MS_TO_KMH_RATIO;\n",
    "        } else {\n",
    "            return this.value;\n",
    "        }\n",
    "    }   \n",
    "}\n",
    "```"
   ]
  },
  {
   "cell_type": "markdown",
   "metadata": {
    "slideshow": {
     "slide_type": "fragment"
    }
   },
   "source": [
    "```java\n",
    "class SuperSonicSpeed extends Speed{\n",
    "    public SuperSonicSpeed(double value){\n",
    "        super(value, SpeedUnit.MA);\n",
    "    }\n",
    "\n",
    "    protected double convert(SpeedUnit target){\n",
    "        return 0;\n",
    "    }\n",
    "}\n",
    "```"
   ]
  },
  {
   "cell_type": "markdown",
   "metadata": {
    "slideshow": {
     "slide_type": "subslide"
    }
   },
   "source": [
    "```java\n",
    "SuperSonicSpeed speed1 = new SuperSonicSpeed(10);\n",
    "SuperSonicSpeed speed2 = new SuperSonicSpeed(10);\n",
    "speed1.add(speed2);\n",
    "```"
   ]
  },
  {
   "cell_type": "markdown",
   "metadata": {
    "slideshow": {
     "slide_type": "fragment"
    }
   },
   "source": [
    "<img src=\"img/protected_shadowing.png\"/>"
   ]
  },
  {
   "cell_type": "markdown",
   "metadata": {
    "slideshow": {
     "slide_type": "notes"
    }
   },
   "source": [
    "Tylko metody prywatne zachowują się w ten sposób. Są one prywatnymi składowymi klasy."
   ]
  },
  {
   "cell_type": "markdown",
   "metadata": {
    "slideshow": {
     "slide_type": "slide"
    }
   },
   "source": [
    "# Modyfikator `final`\n",
    "\n",
    "```java\n",
    "class Speed {\n",
    "    private final double convert(SpeedUnit target){\n",
    "        if(this.unit == SpeedUnit.KMH && target == SpeedUnit.MS){\n",
    "            return this.value / MS_TO_KMH_RATIO;\n",
    "        } else if(this.unit == SpeedUnit.MS && target == SpeedUnit.KMH){\n",
    "            return this.value * MS_TO_KMH_RATIO;\n",
    "        } else {\n",
    "            return this.value;\n",
    "        }\n",
    "    }   \n",
    "}\n",
    "```"
   ]
  },
  {
   "cell_type": "markdown",
   "metadata": {
    "slideshow": {
     "slide_type": "fragment"
    }
   },
   "source": [
    "```java\n",
    "class SuperSonicSpeed extends Speed{\n",
    "    public SuperSonicSpeed(double value){\n",
    "        super(value, SpeedUnit.MA);\n",
    "    }\n",
    "\n",
    "    //niedozwolone\n",
    "    private double convert(SpeedUnit target){\n",
    "        return 0;\n",
    "    }\n",
    "}\n",
    "```"
   ]
  },
  {
   "cell_type": "markdown",
   "metadata": {
    "slideshow": {
     "slide_type": "slide"
    }
   },
   "source": [
    "# Modyfikator `static`\n",
    "\n",
    "```java\n",
    "class Speed {\n",
    "    private double value;\n",
    "    \n",
    "    private static Map<Double, Speed> instances =\n",
    "        new HashMap<>();\n",
    "\n",
    "    private Speed(double value){\n",
    "        this.value = value;\n",
    "    }\n",
    "\n",
    "    public static Speed create(double value){\n",
    "        if(instances.containsKey(value)){\n",
    "            return instances.get(value);\n",
    "        } else {\n",
    "            Speed instance = new Speed(value);\n",
    "            instances.put(value, instance);\n",
    "            return instance;\n",
    "        }\n",
    "    }\n",
    "}\n",
    "```"
   ]
  },
  {
   "cell_type": "markdown",
   "metadata": {
    "slideshow": {
     "slide_type": "fragment"
    }
   },
   "source": [
    "```java\n",
    "Speed speed1 = Speed.create(10);\n",
    "Speed speed2 = Speed.create(10);\n",
    "\n",
    "speed1 == speed2\n",
    "```"
   ]
  },
  {
   "cell_type": "markdown",
   "metadata": {
    "slideshow": {
     "slide_type": "notes"
    }
   },
   "source": [
    "To jest problematyczne, ponieważ metody statyczne nie mogą być nadpisane. Ponadto wiążemy implementację na wieki wieków z klasą Speed."
   ]
  },
  {
   "cell_type": "markdown",
   "metadata": {
    "slideshow": {
     "slide_type": "subslide"
    }
   },
   "source": [
    "# Dziedziczenie a metody statyczne\n",
    "\n",
    "```java\n",
    "class Speed {\n",
    "    private double value;\n",
    "\n",
    "    private static Map<Double, Speed> instances =\n",
    "        new HashMap<>();\n",
    "\n",
    "    private Speed(double value){\n",
    "        this.value = value;\n",
    "    }\n",
    "\n",
    "    public static Speed create(double value){\n",
    "        if(instances.containsKey(value)){\n",
    "            return instances.get(value);\n",
    "        } else {\n",
    "            Speed instance = createInstance(value);\n",
    "            instances.put(value, instance);\n",
    "            return instance;\n",
    "        }\n",
    "    }\n",
    "    \n",
    "    protected static Speed createInstance(double value){\n",
    "        return new Speed(value);\n",
    "    }\n",
    "}\n",
    "```"
   ]
  },
  {
   "cell_type": "markdown",
   "metadata": {
    "slideshow": {
     "slide_type": "subslide"
    }
   },
   "source": [
    "```java\n",
    "class SuperSonicSpeed extends Speed {\n",
    "    private SuperSonicSpeed(double value){\n",
    "        super(value);\n",
    "    }\n",
    "    \n",
    "    protected static SuperSonicSpeed createInstance(double value){\n",
    "        return new SuperSonicSpeed(value * 10);\n",
    "    }\n",
    "}\n",
    "```"
   ]
  },
  {
   "cell_type": "markdown",
   "metadata": {
    "slideshow": {
     "slide_type": "fragment"
    }
   },
   "source": [
    "```java\n",
    "SuperSonicSpeed speed = SuperSonicSpeed.create(10);\n",
    "```"
   ]
  },
  {
   "cell_type": "markdown",
   "metadata": {
    "slideshow": {
     "slide_type": "fragment"
    }
   },
   "source": [
    "<img src=\"img/static_override.png\"/>"
   ]
  },
  {
   "cell_type": "markdown",
   "metadata": {
    "slideshow": {
     "slide_type": "notes"
    }
   },
   "source": [
    "TODO speed factory"
   ]
  },
  {
   "cell_type": "markdown",
   "metadata": {
    "slideshow": {
     "slide_type": "subslide"
    }
   },
   "source": [
    "# Antywzorzec\n",
    "\n",
    "```java\n",
    "class Speed {\n",
    "    public static Speed toMs(Speed speed1){\n",
    "        return new Speed(speed1.convert(SpeedUnit.MS), SpeedUnit.MS);\n",
    "    }\n",
    "}\n",
    "\n",
    "Speed speed1 = new Speed(10, SpeedUnit.MS);\n",
    "Speed.toMs(speed1);\n",
    "\n",
    "// vs.\n",
    "\n",
    "speed1.toMs();\n",
    "```"
   ]
  },
  {
   "cell_type": "markdown",
   "metadata": {
    "slideshow": {
     "slide_type": "slide"
    }
   },
   "source": [
    "# Modyfikator `abstract`\n",
    "\n",
    "```java\n",
    "abstract class AbstractSpaceShip {\n",
    "    private Speed speed;\n",
    "    \n",
    "    public AbstractSpaceShip(){\n",
    "        this.speed = new Speed(0, SpeedUnit.MS);\n",
    "    }\n",
    "    \n",
    "    public abstract void start();\n",
    "    \n",
    "    public abstract void land();\n",
    "}\n",
    "```"
   ]
  },
  {
   "cell_type": "markdown",
   "metadata": {
    "slideshow": {
     "slide_type": "subslide"
    }
   },
   "source": [
    "```java\n",
    "class Rocket extends AbstractSpaceShip {\n",
    "    private Engine engine;\n",
    "    private Parachute parachute;\n",
    "\n",
    "    public void start(){\n",
    "        engine.start();\n",
    "    }\n",
    "    \n",
    "    public void land(){\n",
    "        parachute.open();\n",
    "    }\n",
    "}\n",
    "```"
   ]
  },
  {
   "cell_type": "markdown",
   "metadata": {
    "slideshow": {
     "slide_type": "subslide"
    }
   },
   "source": [
    "```java\n",
    "class SpaceShuttle extends AbstractSpaceShip {\n",
    "    private List<Booster> boosters;\n",
    "    \n",
    "    public void start(){\n",
    "        for(Booster booster : boosters){\n",
    "            booster.start();\n",
    "        }\n",
    "    }\n",
    "    \n",
    "    public void land(){\n",
    "        descend(new Distance(10, DistanceUnit.KM));\n",
    "    }\n",
    "    \n",
    "    private void descend(Distance distance){\n",
    "        //...\n",
    "    }\n",
    "}\n",
    "```"
   ]
  },
  {
   "cell_type": "markdown",
   "metadata": {
    "slideshow": {
     "slide_type": "subslide"
    }
   },
   "source": [
    "<img src=\"img/aliens.jpg\" width=\"1100\"/>"
   ]
  },
  {
   "cell_type": "markdown",
   "metadata": {
    "slideshow": {
     "slide_type": "subslide"
    }
   },
   "source": [
    "```java\n",
    "// aliens are coming... \n",
    "\n",
    "List<AbstractSpaceShip> spaceFleet = new LinkedList<>();\n",
    "spaceFleet.add(new Rocket());\n",
    "spaceFleet.add(new SpaceShuttle());\n",
    "\n",
    "for(AbstractSpaceShip ship : spaceFleet){\n",
    "    ship.start();\n",
    "}\n",
    "\n",
    "// rescue then World, then...\n",
    "\n",
    "for(AbstractSpaceShip ship : spaceFleet){\n",
    "    ship.land();\n",
    "}\n",
    "```"
   ]
  },
  {
   "cell_type": "markdown",
   "metadata": {
    "slideshow": {
     "slide_type": "slide"
    }
   },
   "source": [
    "# Interfejs\n",
    "\n",
    "```java\n",
    "interface ISpaceShip {\n",
    "    void start();\n",
    "    void land();\n",
    "}\n",
    "```"
   ]
  },
  {
   "cell_type": "markdown",
   "metadata": {
    "slideshow": {
     "slide_type": "fragment"
    }
   },
   "source": [
    "```java\n",
    "class Rocket implements ISpaceShip {\n",
    "    public void start(){\n",
    "        //...\n",
    "    }\n",
    "    \n",
    "    public void land(){\n",
    "        //...\n",
    "    }\n",
    "}\n",
    "```"
   ]
  },
  {
   "cell_type": "markdown",
   "metadata": {
    "slideshow": {
     "slide_type": "fragment"
    }
   },
   "source": [
    "```java\n",
    "class SpaceShuttle implements ISpaceShip {\n",
    "    public void start(){\n",
    "        //...\n",
    "    }\n",
    "\n",
    "    public void land(){\n",
    "        //...\n",
    "    }\n",
    "}\n",
    "```"
   ]
  },
  {
   "cell_type": "markdown",
   "metadata": {
    "slideshow": {
     "slide_type": "subslide"
    }
   },
   "source": [
    "```java\n",
    "// aliens are coming... \n",
    "\n",
    "List<ISpaceShip> spaceFleet = new LinkedList<>();\n",
    "spaceFleet.add(new Rocket());\n",
    "spaceFleet.add(new SpaceShuttle());\n",
    "\n",
    "for(AbstractSpaceShip ship : spaceFleet){\n",
    "    ship.start();\n",
    "}\n",
    "\n",
    "// rescue then World, then...\n",
    "\n",
    "for(AbstractSpaceShip ship : spaceFleet){\n",
    "    ship.land();\n",
    "}\n",
    "```"
   ]
  },
  {
   "cell_type": "markdown",
   "metadata": {
    "slideshow": {
     "slide_type": "slide"
    }
   },
   "source": [
    "```java\n",
    "interface ISpaceShip {\n",
    "    void start();\n",
    "    void land();\n",
    "    // nowa metoda\n",
    "    void launchMissile();\n",
    "}\n",
    "```"
   ]
  },
  {
   "cell_type": "markdown",
   "metadata": {
    "slideshow": {
     "slide_type": "subslide"
    }
   },
   "source": [
    "# Modyfikator `default`\n",
    "\n",
    "```java\n",
    "interface ISpaceShip {\n",
    "    void start();\n",
    "    void land();\n",
    "    \n",
    "    // nowość w Javie 8.0\n",
    "    default void launchMissile(){\n",
    "        InterplanetarySystem.out.\n",
    "            println(\"Włamujemy się emacsem przez sendmeila\");\n",
    "        InterplanetarySystem.out.\n",
    "            println(\"omijając potrójną ścianę ogniową\");\n",
    "    }\n",
    "}\n",
    "```"
   ]
  },
  {
   "cell_type": "markdown",
   "metadata": {
    "slideshow": {
     "slide_type": "slide"
    }
   },
   "source": [
    "# Dziedziczenie vs. kompozycja \n",
    "\n",
    "```java\n",
    "abstract class Car {\n",
    "    public void openDoor(DoorSpecification doorSpec){\n",
    "        doors.get(doorSpec).open();\n",
    "    }\n",
    "    \n",
    "    public abstract void drive();\n",
    "}\n",
    "```"
   ]
  },
  {
   "cell_type": "markdown",
   "metadata": {
    "slideshow": {
     "slide_type": "fragment"
    }
   },
   "source": [
    "```java\n",
    "class GasolineCar extends Car {\n",
    "    private GasolineEngine engine;\n",
    "    \n",
    "    public void drive(){\n",
    "        engine.deliverGasoline();\n",
    "        engine.igniteGasoline();\n",
    "        //...\n",
    "    }\n",
    "}\n",
    "```"
   ]
  },
  {
   "cell_type": "markdown",
   "metadata": {
    "slideshow": {
     "slide_type": "fragment"
    }
   },
   "source": [
    "```java\n",
    "\n",
    "class ElectricCar extends Car {\n",
    "    private List<WheelMotor> motors;\n",
    "    \n",
    "    public void drive(){\n",
    "        for(WheelMotor motor : motors){\n",
    "            motor.rotate();\n",
    "        }\n",
    "    }\n",
    "}\n",
    "```"
   ]
  },
  {
   "cell_type": "markdown",
   "metadata": {
    "slideshow": {
     "slide_type": "subslide"
    }
   },
   "source": [
    "```java\n",
    "class Car {\n",
    "    private IDriveSystem driveSystem;\n",
    "    \n",
    "    public Car(IDriveSystem driveSystem){\n",
    "        this.driveSystem = driveSystem;\n",
    "    }\n",
    "    \n",
    "    public drive(){\n",
    "        this.driveSystem.drive();\n",
    "    }\n",
    "}\n",
    "```"
   ]
  },
  {
   "cell_type": "markdown",
   "metadata": {
    "slideshow": {
     "slide_type": "fragment"
    }
   },
   "source": [
    "```java\n",
    "interface IDriveSystem {\n",
    "    void drive();\n",
    "}\n",
    "\n",
    "class ElectricDriveSystem implements IDriveSystem {\n",
    "    //...\n",
    "}\n",
    "\n",
    "class GasolineDriveSystem implements IDriveSystem {\n",
    "    //...\n",
    "}\n",
    "```"
   ]
  },
  {
   "cell_type": "markdown",
   "metadata": {
    "slideshow": {
     "slide_type": "fragment"
    }
   },
   "source": [
    "```java\n",
    "Car car = new Car(new GasolineDriveSystem());\n",
    "```"
   ]
  },
  {
   "cell_type": "markdown",
   "metadata": {
    "slideshow": {
     "slide_type": "slide"
    }
   },
   "source": [
    "![Pytania? ](http://cliparts.co/cliparts/qcB/jqg/qcBjqgxc5.jpg)"
   ]
  }
 ],
 "metadata": {
  "celltoolbar": "Slideshow",
  "kernelspec": {
   "display_name": "Java 9",
   "language": "java",
   "name": "java"
  },
  "language_info": {
   "file_extension": ".class",
   "mimetype": "application/java-vm",
   "name": "java"
  }
 },
 "nbformat": 4,
 "nbformat_minor": 1
}
