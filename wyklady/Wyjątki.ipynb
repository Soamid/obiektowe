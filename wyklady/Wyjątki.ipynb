{
 "cells": [
  {
   "cell_type": "markdown",
   "metadata": {
    "slideshow": {
     "slide_type": "slide"
    }
   },
   "source": [
    "# Wyjątki\n",
    "\n",
    "## Obsługa błędów z użyciem mechanizmu wyjątków\n",
    "\n",
    "<br/>\n",
    "\n",
    "## apohllo@agh.edu.pl\n",
    "\n",
    "## http://apohllo.pl/dydaktyka/programowanie-obiektowe\n",
    "\n",
    "## konsultacje: wtorek 15:30 - 18:00, pokój 4.61\n"
   ]
  },
  {
   "cell_type": "markdown",
   "metadata": {
    "slideshow": {
     "slide_type": "slide"
    }
   },
   "source": [
    "# Wyjątki \n",
    "\n",
    "<img src=\"img/monster1.jpg\" />"
   ]
  },
  {
   "cell_type": "markdown",
   "metadata": {
    "slideshow": {
     "slide_type": "slide"
    }
   },
   "source": [
    "# Obsługa błędów w języku C\n",
    "\n",
    "<img src=\"img/c-logo.png\"/>"
   ]
  },
  {
   "cell_type": "code",
   "execution_count": null,
   "metadata": {
    "slideshow": {
     "slide_type": "subslide"
    }
   },
   "outputs": [],
   "source": [
    "FILE * open_file(const char * file_name){\n",
    "    FILE * file;\n",
    "    if( access( file_name, F_OK ) != -1 ) {\n",
    "        return fopen(file_name, \"r\");\n",
    "    } else {\n",
    "        return (FILE *)-1;\n",
    "    }\n",
    "}"
   ]
  },
  {
   "cell_type": "code",
   "execution_count": null,
   "metadata": {
    "slideshow": {
     "slide_type": "fragment"
    }
   },
   "outputs": [],
   "source": [
    "char * read_file(const char * file_name, int count){\n",
    "    FILE * file = open_file(file_name);\n",
    "    char * result = (char*) malloc(sizeof(char) * count);\n",
    "    if(file == -1){\n",
    "        printf(\"Nie można otworzyć pliku %s\\n\", file_name);\n",
    "        return (char *) -1;\n",
    "    } else {\n",
    "        fread(result, sizeof(char), count, file);\n",
    "        fclose(file);\n",
    "        retrun result;\n",
    "    }\n",
    "}"
   ]
  },
  {
   "cell_type": "code",
   "execution_count": null,
   "metadata": {
    "slideshow": {
     "slide_type": "subslide"
    }
   },
   "outputs": [],
   "source": [
    "void read_files(){\n",
    "    char * text = read_file(\"file1.txt\", 10);\n",
    "    if(text != -1){ \n",
    "        printf(\"%s\", text);\n",
    "    } else {\n",
    "        return;\n",
    "    }\n",
    "\n",
    "    text = read_file(\"file2.txt\", 20);\n",
    "    if(text != -1){\n",
    "        printf(\"%s\", text);\n",
    "    } else {\n",
    "        return;\n",
    "    }\n",
    "}"
   ]
  },
  {
   "cell_type": "markdown",
   "metadata": {
    "slideshow": {
     "slide_type": "subslide"
    }
   },
   "source": [
    "<img src=\"img/exceptions.png\"/>"
   ]
  },
  {
   "cell_type": "markdown",
   "metadata": {
    "slideshow": {
     "slide_type": "slide"
    }
   },
   "source": [
    "# Wyjątki w Javie\n",
    "\n",
    "<img src=\"img/java_log.png\" style=\"height: 600px;\"/>"
   ]
  },
  {
   "cell_type": "code",
   "execution_count": 55,
   "metadata": {
    "slideshow": {
     "slide_type": "subslide"
    }
   },
   "outputs": [],
   "source": [
    "import java.io.FileReader; \n",
    "import java.io.IOException;\n",
    "\n",
    "class FileOpener {\n",
    "    public static FileReader openFile(String fileName) throws IOException {\n",
    "        return new FileReader(fileName);\n",
    "    }\n",
    "}"
   ]
  },
  {
   "cell_type": "code",
   "execution_count": 56,
   "metadata": {
    "slideshow": {
     "slide_type": "fragment"
    }
   },
   "outputs": [],
   "source": [
    "import java.io.FileReader; \n",
    "import java.io.IOException;\n",
    "\n",
    "class SingleFileReader {\n",
    "    public static char[] readFile(String fileName, int count) throws IOException {\n",
    "        FileReader reader = FileOpener.openFile(fileName);\n",
    "        char[] buffer = new char[count];\n",
    "        reader.read(buffer, 0, count);\n",
    "        return buffer;\n",
    "    }\n",
    "}"
   ]
  },
  {
   "cell_type": "code",
   "execution_count": 65,
   "metadata": {
    "slideshow": {
     "slide_type": "subslide"
    }
   },
   "outputs": [],
   "source": [
    "import java.io.FileReader; \n",
    "\n",
    "class MultipleFileReader {\n",
    "    public static void readFiles(){\n",
    "        char[] buffer;\n",
    "        try {\n",
    "            buffer = SingleFileReader.readFile(\".\",10);\n",
    "            System.out.println(buffer);\n",
    "            buffer = SingleFileReader.readFile(\"plik2.txt\",20);\n",
    "            System.out.println(buffer);\n",
    "        } catch (IOException ex) {\n",
    "            System.out.println(\"Problem z odczytaniem pliku \" + ex.getMessage());\n",
    "            ex.printStackTrace();\n",
    "        }\n",
    "    }\n",
    "}"
   ]
  },
  {
   "cell_type": "code",
   "execution_count": 66,
   "metadata": {
    "slideshow": {
     "slide_type": "subslide"
    }
   },
   "outputs": [
    {
     "name": "stdout",
     "output_type": "stream",
     "text": [
      "Problem z odczytaniem pliku . (Is a directory)\n"
     ]
    },
    {
     "name": "stderr",
     "output_type": "stream",
     "text": [
      "java.io.FileNotFoundException: . (Is a directory)\n",
      "\tat java.base/java.io.FileInputStream.open0(Native Method)\n",
      "\tat java.base/java.io.FileInputStream.open(FileInputStream.java:220)\n",
      "\tat java.base/java.io.FileInputStream.<init>(FileInputStream.java:158)\n",
      "\tat java.base/java.io.FileInputStream.<init>(FileInputStream.java:113)\n",
      "\tat java.base/java.io.FileReader.<init>(FileReader.java:58)\n",
      "\tat REPL.$JShell$16M$FileOpener.openFile($JShell$16M.java:31)\n",
      "\tat REPL.$JShell$17T$SingleFileReader.readFile($JShell$17T.java:31)\n",
      "\tat REPL.$JShell$18X$MultipleFileReader.readFiles($JShell$18X.java:33)\n",
      "\tat REPL.$JShell$53.do_it$($JShell$53.java:28)\n",
      "\tat java.base/jdk.internal.reflect.NativeMethodAccessorImpl.invoke0(Native Method)\n",
      "\tat java.base/jdk.internal.reflect.NativeMethodAccessorImpl.invoke(NativeMethodAccessorImpl.java:62)\n",
      "\tat java.base/jdk.internal.reflect.DelegatingMethodAccessorImpl.invoke(DelegatingMethodAccessorImpl.java:43)\n",
      "\tat java.base/java.lang.reflect.Method.invoke(Method.java:564)\n",
      "\tat io.github.spencerpark.ijava.execution.IJavaExecutionControl.lambda$execute$1(IJavaExecutionControl.java:85)\n",
      "\tat java.base/java.util.concurrent.FutureTask.run(FutureTask.java:264)\n",
      "\tat java.base/java.util.concurrent.ThreadPoolExecutor.runWorker(ThreadPoolExecutor.java:1135)\n",
      "\tat java.base/java.util.concurrent.ThreadPoolExecutor$Worker.run(ThreadPoolExecutor.java:635)\n",
      "\tat java.base/java.lang.Thread.run(Thread.java:844)\n"
     ]
    }
   ],
   "source": [
    "MultipleFileReader.readFiles();"
   ]
  },
  {
   "cell_type": "markdown",
   "metadata": {
    "slideshow": {
     "slide_type": "subslide"
    }
   },
   "source": [
    "<img src=\"img/exceptions_java.png\"/>"
   ]
  },
  {
   "cell_type": "markdown",
   "metadata": {
    "slideshow": {
     "slide_type": "slide"
    }
   },
   "source": [
    "# Instrukcja `throw`"
   ]
  },
  {
   "cell_type": "code",
   "execution_count": 67,
   "metadata": {
    "slideshow": {
     "slide_type": "-"
    }
   },
   "outputs": [
    {
     "ename": "EvalException",
     "evalue": "some_file.txt nie istnieje",
     "output_type": "error",
     "traceback": [
      "\u001b[1m\u001b[31m---------------------------------------------------------------------------\u001b[0m",
      "\u001b[1m\u001b[31mjava.io.FileNotFoundException: some_file.txt nie istnieje\u001b[0m",
      "\u001b[1m\u001b[31m\tat .(#54:1)\u001b[0m"
     ]
    }
   ],
   "source": [
    "import java.nio.file.Files;\n",
    "import java.nio.file.Paths;\n",
    "import java.io.FileNotFoundException;\n",
    "\n",
    "\n",
    "String fileName = \"some_file.txt\";\n",
    "if(Files.exists(Paths.get(fileName))){\n",
    "    // do the work\n",
    "} else {\n",
    "    throw new FileNotFoundException(fileName + \" nie istnieje\");\n",
    "}"
   ]
  },
  {
   "cell_type": "markdown",
   "metadata": {
    "slideshow": {
     "slide_type": "subslide"
    }
   },
   "source": [
    "# Instrukcja `throws`"
   ]
  },
  {
   "cell_type": "code",
   "execution_count": null,
   "metadata": {
    "slideshow": {
     "slide_type": "-"
    }
   },
   "outputs": [],
   "source": [
    "public FileReader openFile(String fileName) throws FileNotFoundException {\n",
    "    // ...\n",
    "    throw new FileNotFoundException(fileName + \" nie istnieje\");\n",
    "    // ...\n",
    "}"
   ]
  },
  {
   "cell_type": "markdown",
   "metadata": {
    "slideshow": {
     "slide_type": "subslide"
    }
   },
   "source": [
    "# Instrukcja `try ... catch ... finally`"
   ]
  },
  {
   "cell_type": "code",
   "execution_count": null,
   "metadata": {
    "slideshow": {
     "slide_type": "-"
    }
   },
   "outputs": [],
   "source": [
    "try {\n",
    "    // kod, który może rzucić wyjątek\n",
    "} catch (FileNotFoundException ex) {\n",
    "    // kod obsługi błędu\n",
    "} finally {\n",
    "    // kod wykonywany niezależnie od wystąpienia wyjątku\n",
    "}"
   ]
  },
  {
   "cell_type": "code",
   "execution_count": 68,
   "metadata": {
    "slideshow": {
     "slide_type": "fragment"
    }
   },
   "outputs": [
    {
     "name": "stdout",
     "output_type": "stream",
     "text": [
      "some_file.txt nie istnieje. Sprawdź nazwę pliku.\n"
     ]
    },
    {
     "ename": "EvalException",
     "evalue": "null",
     "output_type": "error",
     "traceback": [
      "\u001b[1m\u001b[31m---------------------------------------------------------------------------\u001b[0m",
      "\u001b[1m\u001b[31mjava.lang.NullPointerException: null\u001b[0m",
      "\u001b[1m\u001b[31m\tat .(#55:1)\u001b[0m"
     ]
    }
   ],
   "source": [
    "FileReader reader = null;\n",
    "char[] buffer = new char[100];\n",
    "try {\n",
    "    reader = new FileReader(fileName);\n",
    "    reader.read(buffer, 0, 100);\n",
    "} catch (FileNotFoundException ex) {\n",
    "    System.out.println(fileName + \" nie istnieje. Sprawdź nazwę pliku.\");\n",
    "} finally {\n",
    "    reader.close();\n",
    "}"
   ]
  },
  {
   "cell_type": "markdown",
   "metadata": {
    "slideshow": {
     "slide_type": "notes"
    }
   },
   "source": [
    "Ten kod jest niepoprawny - zmienna reader może mieć wartość `null`."
   ]
  },
  {
   "cell_type": "markdown",
   "metadata": {
    "slideshow": {
     "slide_type": "slide"
    }
   },
   "source": [
    "# Resource acquisition is initialization (RAII)\n",
    "\n",
    "<img src=\"img/sheeps.jpg\" width=\"1000\"/>"
   ]
  },
  {
   "cell_type": "code",
   "execution_count": null,
   "metadata": {
    "slideshow": {
     "slide_type": "subslide"
    }
   },
   "outputs": [],
   "source": [
    "FileReader reader = null;\n",
    "char[] buffer = new char[100];\n",
    "try {\n",
    "    reader = new FileReader(fileName);\n",
    "    reader.read(buffer, 0, 100);\n",
    "} finally {\n",
    "    if(reader != null){\n",
    "        try {\n",
    "            reader.close();\n",
    "        } catch (IOException ex) {\n",
    "            //obsługa błędu zamknięcia pliku\n",
    "        }\n",
    "    }\n",
    "}"
   ]
  },
  {
   "cell_type": "markdown",
   "metadata": {
    "slideshow": {
     "slide_type": "notes"
    }
   },
   "source": [
    "Resource acquisition is initialization (RAII) - wzorzec z C++"
   ]
  },
  {
   "cell_type": "markdown",
   "metadata": {
    "slideshow": {
     "slide_type": "subslide"
    }
   },
   "source": [
    "# Instrukcja `try` z zasobami"
   ]
  },
  {
   "cell_type": "code",
   "execution_count": null,
   "metadata": {
    "slideshow": {
     "slide_type": "-"
    }
   },
   "outputs": [],
   "source": [
    "char[] buffer = new char[100];\n",
    "try(reader = new FileReader(\"file1.txt\")) {\n",
    "    reader.read(buffer, 0, 100);\n",
    "}"
   ]
  },
  {
   "cell_type": "markdown",
   "metadata": {
    "slideshow": {
     "slide_type": "-"
    }
   },
   "source": [
    "**Obiekty użyte w tej konstrukcji muszą implementować interfejs `AutoCloseable`**"
   ]
  },
  {
   "cell_type": "markdown",
   "metadata": {
    "slideshow": {
     "slide_type": "slide"
    }
   },
   "source": [
    "# Rodzaje wyjątków\n",
    "\n",
    "<img src=\"img/butterfiles.jpg\"/>"
   ]
  },
  {
   "cell_type": "markdown",
   "metadata": {
    "slideshow": {
     "slide_type": "subslide"
    }
   },
   "source": [
    "# Przyczyny wyjątków\n",
    "\n",
    "###  błąd w kodzie programu \n",
    "np. `NullPointerException`\n",
    "\n",
    "### błąd związany ze złamaniem kontraktu \n",
    "np. niepoprawny plik JSON, brakujący wymagane pole w bazie danych\n",
    "\n",
    "### błąd związany z dostępem do zasobów\n",
    "np. brak połączenia z internetem, z bazą danych, problem z dostępem do pliku"
   ]
  },
  {
   "cell_type": "markdown",
   "metadata": {
    "slideshow": {
     "slide_type": "subslide"
    }
   },
   "source": [
    "# Typy wyjątków\n",
    "\n",
    "### *unchecked exceptions* \n",
    "* klasy dziedziczące z `RuntimeException`\n",
    "* nie muszą być deklarowane, np. `NullPointerException`\n",
    "\n",
    "### *checked exceptions* \n",
    "* klasy dziedziczące z `Exception` i **niedziedziczące** z `RuntimeException` \n",
    "* muszą być deklarowane w sekcji `throws` lub obsłużone w bloku `try...catch`, np. `FileNotFoundException`"
   ]
  },
  {
   "cell_type": "markdown",
   "metadata": {
    "slideshow": {
     "slide_type": "subslide"
    }
   },
   "source": [
    "<img src=\"img/runtime_exception.png\"/>"
   ]
  },
  {
   "cell_type": "markdown",
   "metadata": {
    "slideshow": {
     "slide_type": "subslide"
    }
   },
   "source": [
    "# Łapanie wielu wyjątków\n",
    "\n",
    "<img src=\"img/exception_hierarchy.png\">"
   ]
  },
  {
   "cell_type": "code",
   "execution_count": 69,
   "metadata": {
    "slideshow": {
     "slide_type": "subslide"
    }
   },
   "outputs": [
    {
     "name": "stdout",
     "output_type": "stream",
     "text": [
      "Obsługa w sekcji 1\n"
     ]
    }
   ],
   "source": [
    "try {\n",
    "    throw new EOFException();\n",
    "} catch (EOFException ex) {\n",
    "    System.out.println(\"Obsługa w sekcji 1\");\n",
    "} catch (IOException ex) {\n",
    "    System.out.println(\"Obsługa w sekcji 2\");\n",
    "} catch (Exception ex) {\n",
    "    System.out.println(\"Obsługa w sekcji 3\");\n",
    "}"
   ]
  },
  {
   "cell_type": "code",
   "execution_count": 70,
   "metadata": {
    "slideshow": {
     "slide_type": "fragment"
    }
   },
   "outputs": [
    {
     "name": "stdout",
     "output_type": "stream",
     "text": [
      "Obsługa w sekcji 2\n"
     ]
    }
   ],
   "source": [
    "try {\n",
    "    throw new IOException();\n",
    "} catch (EOFException ex) {\n",
    "    System.out.println(\"Obsługa w sekcji 1\");\n",
    "} catch (IOException ex) {\n",
    "    System.out.println(\"Obsługa w sekcji 2\");\n",
    "} catch (Exception ex) {\n",
    "    System.out.println(\"Obsługa w sekcji 3\");\n",
    "}"
   ]
  },
  {
   "cell_type": "code",
   "execution_count": 71,
   "metadata": {
    "slideshow": {
     "slide_type": "subslide"
    }
   },
   "outputs": [
    {
     "ename": "CompilationException",
     "evalue": "",
     "output_type": "error",
     "traceback": [
      "\u001b[1m\u001b[30m|   \u001b[1m\u001b[30m} \u001b[0m\u001b[1m\u001b[30m\u001b[41mcatch (IOException ex) {\u001b[0m",
      "\u001b[1m\u001b[30m|   \u001b[1m\u001b[30m\u001b[41m    System.out.println(\"Obsługa w sekcji 2\");\u001b[0m",
      "\u001b[1m\u001b[30m|   \u001b[1m\u001b[30m\u001b[41m}\u001b[0m\u001b[1m\u001b[30m catch (EOFException ex) {\u001b[0m",
      "\u001b[1m\u001b[31mexception java.io.IOException has already been caught\u001b[0m",
      "",
      "\u001b[1m\u001b[30m|   \u001b[1m\u001b[30m} \u001b[0m\u001b[1m\u001b[30m\u001b[41mcatch (EOFException ex) {\u001b[0m",
      "\u001b[1m\u001b[30m|   \u001b[1m\u001b[30m\u001b[41m    System.out.println(\"Obsługa w sekcji 3\");\u001b[0m",
      "\u001b[1m\u001b[30m|   \u001b[1m\u001b[30m\u001b[41m}\u001b[0m",
      "\u001b[1m\u001b[31mexception java.io.EOFException has already been caught\u001b[0m",
      ""
     ]
    }
   ],
   "source": [
    "try {\n",
    "    throw new EOFException();\n",
    "} catch (Exception ex) {\n",
    "    System.out.println(\"Obsługa w sekcji 1\");\n",
    "} catch (IOException ex) {\n",
    "    System.out.println(\"Obsługa w sekcji 2\");\n",
    "} catch (EOFException ex) {\n",
    "    System.out.println(\"Obsługa w sekcji 3\");\n",
    "}"
   ]
  },
  {
   "cell_type": "code",
   "execution_count": null,
   "metadata": {
    "slideshow": {
     "slide_type": "subslide"
    }
   },
   "outputs": [],
   "source": [
    "try {\n",
    "    // ...\n",
    "} catch (FileNotFoundException | EOFException ex) {\n",
    "    // wspólny kod obsługi błędów FileNotFoundException i EOFException\n",
    "}"
   ]
  },
  {
   "cell_type": "markdown",
   "metadata": {
    "slideshow": {
     "slide_type": "slide"
    }
   },
   "source": [
    "# Praktyczne zalecenia\n",
    "\n",
    "## 1. Obsługa wyjątków musi być faktycznie realizowana\n",
    "\n",
    "* W realnie działających systemach wyjątki faktycznie występują. \n",
    "* Ich obsługa nie może sprwadzać się do tego, że kod w ogóle się kompiluje."
   ]
  },
  {
   "cell_type": "markdown",
   "metadata": {
    "slideshow": {
     "slide_type": "subslide"
    }
   },
   "source": [
    "## 2. Rzucaj wyjątki wcześnie, łap późno\n",
    "\n",
    "### Im wcześniej **zgłosisz** sytuację nietypową, tym lepiej\n",
    "* Możesz podać więcej szczegółów na temat przyczyny błędu.\n",
    "\n",
    "### Im później **obsłużysz** sytuację nietypową, tym lepiej\n",
    "* Możesz obsłużyć wiele wyjątków za pomocą jednego mechanizmu.\n",
    "* Jesteś bliżej interfejsu użytkownika, co pozwala na wyprodukowanie stosownego komunikatu."
   ]
  },
  {
   "cell_type": "markdown",
   "metadata": {
    "slideshow": {
     "slide_type": "subslide"
    }
   },
   "source": [
    "## 3. Dbaj o wszystkie otwierane zasoby\n",
    "\n",
    "* Zbyt duża liczba otwartych plików lub połączeń do bazy danych może spowodować zatrzymanie programu lub blokadę systemu operacyjnego."
   ]
  },
  {
   "cell_type": "markdown",
   "metadata": {
    "slideshow": {
     "slide_type": "subslide"
    }
   },
   "source": [
    "## 4. Spróbuj znaleźć rozwiązanie problemu\n",
    "* `FileNotFoundException` - poproś użytkownika o poprawienie nazwy pliku, \n",
    "   pokaż zawartość katalogu lub poinformuj, że ścieżka jest niepoprawna\n",
    "* `ConnectException` - spróbuj ponownie wysłać zapytanie do zdalnego serwisu, \n",
    "   poproś użytkownika o sprawdzenie połączenia internetowego\n",
    "* `InterruptedException` - zakończ albo zrestartuj wątek przetwarzający zadanie"
   ]
  },
  {
   "cell_type": "markdown",
   "metadata": {
    "slideshow": {
     "slide_type": "subslide"
    }
   },
   "source": [
    "# Antywzorce\n",
    "\n",
    "<img src=\"img/pizza.jpg\"/>"
   ]
  },
  {
   "cell_type": "markdown",
   "metadata": {
    "slideshow": {
     "slide_type": "subslide"
    }
   },
   "source": [
    "# Ad. 1 - antywzorce"
   ]
  },
  {
   "cell_type": "code",
   "execution_count": null,
   "metadata": {
    "slideshow": {
     "slide_type": "-"
    }
   },
   "outputs": [],
   "source": [
    "try { \n",
    "    // kod rzucający wyjątki\n",
    "} catch(Exception ex) {\n",
    "    // nic nie rób\n",
    "}"
   ]
  },
  {
   "cell_type": "markdown",
   "metadata": {
    "slideshow": {
     "slide_type": "notes"
    }
   },
   "source": [
    "Żadne wyjątek nie może się zamanifestować, nawet `NullPointerException`."
   ]
  },
  {
   "cell_type": "code",
   "execution_count": null,
   "metadata": {
    "slideshow": {
     "slide_type": "fragment"
    }
   },
   "outputs": [],
   "source": [
    "try {\n",
    "    // kod rzucający wyjątki\n",
    "} catch (FileNotFoundException ex) {\n",
    "    logger.error(ex.getMessage());\n",
    "    throw ex;\n",
    "}"
   ]
  },
  {
   "cell_type": "markdown",
   "metadata": {
    "slideshow": {
     "slide_type": "notes"
    }
   },
   "source": [
    "Istnieje ryzyko, że ten sam błąd będzie wielokrotnie zapisywany w logu."
   ]
  },
  {
   "cell_type": "markdown",
   "metadata": {
    "slideshow": {
     "slide_type": "subslide"
    }
   },
   "source": [
    "# Ad. 2 - antywzorce"
   ]
  },
  {
   "cell_type": "code",
   "execution_count": null,
   "metadata": {
    "slideshow": {
     "slide_type": "-"
    }
   },
   "outputs": [],
   "source": [
    "try {\n",
    "    // kod rzucający wyjątki\n",
    "} catch (FileNotFoundException ex) {\n",
    "    logger.error(ex.getMessage());\n",
    "    return null;\n",
    "}"
   ]
  },
  {
   "cell_type": "markdown",
   "metadata": {
    "slideshow": {
     "slide_type": "notes"
    }
   },
   "source": [
    "Zamiast zwracać `null` pozwól by wyjątek obsłużono wyżej."
   ]
  },
  {
   "cell_type": "code",
   "execution_count": null,
   "metadata": {
    "slideshow": {
     "slide_type": "fragment"
    }
   },
   "outputs": [],
   "source": [
    "public TransferDetails parse(String transferSpecification) throws InvalidTransferSpecification {\n",
    "    try {\n",
    "        // kod rzucający wyjątek XMLParserError\n",
    "    } catch (XMLParserError ex) {\n",
    "        throw new InvalidTransferSpecification(transferSpecification);\n",
    "    }\n",
    "}"
   ]
  },
  {
   "cell_type": "markdown",
   "metadata": {
    "slideshow": {
     "slide_type": "notes"
    }
   },
   "source": [
    "tracona jest dokładna informacja o wyjątku"
   ]
  },
  {
   "cell_type": "markdown",
   "metadata": {
    "slideshow": {
     "slide_type": "subslide"
    }
   },
   "source": [
    "# *exception chaining* - poprawne rozwiązanie"
   ]
  },
  {
   "cell_type": "code",
   "execution_count": null,
   "metadata": {
    "slideshow": {
     "slide_type": "-"
    }
   },
   "outputs": [],
   "source": [
    "class Parser {\n",
    "    public TransferDetails parse(String transferSpecification) throws InvalidTransferSpecification {\n",
    "        try {\n",
    "            // kod rzucający wyjątek XMLParserError\n",
    "        } catch (XMLParserError ex) {\n",
    "            //                                                          vvvvvv\n",
    "            throw new InvalidTransferSpecification(transferSpecification, ex);\n",
    "        }\n",
    "    }\n",
    "}"
   ]
  },
  {
   "cell_type": "code",
   "execution_count": null,
   "metadata": {
    "slideshow": {
     "slide_type": "fragment"
    }
   },
   "outputs": [],
   "source": [
    "InvalidTransferSpecification: ...\n",
    "at Parser.parse()\n",
    "at System.main()\n",
    "Caused by: XMLParserError: ...\n",
    "at XMLParser.readHeader()\n",
    "at XMLParser.parse()"
   ]
  },
  {
   "cell_type": "markdown",
   "metadata": {
    "slideshow": {
     "slide_type": "subslide"
    }
   },
   "source": [
    "# Ad. 2 - antywzroce"
   ]
  },
  {
   "cell_type": "code",
   "execution_count": null,
   "metadata": {
    "slideshow": {
     "slide_type": "-"
    }
   },
   "outputs": [],
   "source": [
    "public void doSomeCalculation(){\n",
    "    try {\n",
    "        for(Element element : elements) {\n",
    "            if(element == null){\n",
    "                throw EmptyElementException();\n",
    "            }\n",
    "        }\n",
    "    } catch (EmptyElementException ex) {\n",
    "        // ...\n",
    "    }\n",
    "}"
   ]
  },
  {
   "cell_type": "markdown",
   "metadata": {
    "slideshow": {
     "slide_type": "notes"
    }
   },
   "source": [
    "Wyjątki nie służą do kontroli sterowania - ten mechanizm jest kosztowy w użyciu. Ponadto są one zarezerwowane do sygnalizowania sytuacji błędnych."
   ]
  },
  {
   "cell_type": "markdown",
   "metadata": {
    "slideshow": {
     "slide_type": "subslide"
    }
   },
   "source": [
    "# Ad. 3 - obsługa zasobów\n",
    "\n",
    "Najprościej zrobić to używając konstrukcji `try` z zasobami:"
   ]
  },
  {
   "cell_type": "code",
   "execution_count": null,
   "metadata": {
    "slideshow": {
     "slide_type": "-"
    }
   },
   "outputs": [],
   "source": [
    "char[] buffer = new char[100];\n",
    "try(reader = new FileReader(\"file1.txt\")) {\n",
    "    reader.read(buffer, 0, 100);\n",
    "}"
   ]
  },
  {
   "cell_type": "markdown",
   "metadata": {
    "slideshow": {
     "slide_type": "slide"
    }
   },
   "source": [
    "# Uwaga na sekcję `finally`"
   ]
  },
  {
   "cell_type": "code",
   "execution_count": null,
   "metadata": {
    "slideshow": {
     "slide_type": "-"
    }
   },
   "outputs": [],
   "source": [
    "try {\n",
    "    // kod z wyjątkami\n",
    "} finally {\n",
    "    return 1;\n",
    "}"
   ]
  },
  {
   "cell_type": "markdown",
   "metadata": {
    "slideshow": {
     "slide_type": "notes"
    }
   },
   "source": [
    "Rzucenie wyjątku lub wyjście z metody w `finally` powoduje nadpisanie wcześniejszego wyjątku!"
   ]
  },
  {
   "cell_type": "code",
   "execution_count": null,
   "metadata": {
    "slideshow": {
     "slide_type": "subslide"
    }
   },
   "outputs": [],
   "source": [
    "char[] buffer = new char[100];\n",
    "try(reader = new FileReader(\"file1.txt\")) {\n",
    "    reader.read(buffer, 0, 100);\n",
    "} catch(SomeException ex){\n",
    "    ex.getSuppressed();\n",
    "}"
   ]
  },
  {
   "cell_type": "markdown",
   "metadata": {
    "slideshow": {
     "slide_type": "subslide"
    }
   },
   "source": [
    "# Nie deklaruj (bardzo) wielu wyjątków"
   ]
  },
  {
   "cell_type": "code",
   "execution_count": null,
   "metadata": {
    "slideshow": {
     "slide_type": "-"
    }
   },
   "outputs": [],
   "source": [
    "public launchICBM() throws IOException, DatabaseException, NetworkException, \n",
    "    NullPointerException, ArithmeticException, WorldDoesNotExistException {\n",
    "    // launch ICBM\n",
    "}"
   ]
  },
  {
   "cell_type": "code",
   "execution_count": null,
   "metadata": {
    "slideshow": {
     "slide_type": "fragment"
    }
   },
   "outputs": [],
   "source": [
    "public launchICBM() throws LaunchException {\n",
    "    try {\n",
    "        // lanuch ICBM\n",
    "    } catch(IOException | DatabaseException | ... ex) {\n",
    "        throw new LaunchException(\"Something went wrong...\", ex);\n",
    "    }\n",
    "}"
   ]
  },
  {
   "cell_type": "markdown",
   "metadata": {
    "slideshow": {
     "slide_type": "subslide"
    }
   },
   "source": [
    "<img src=\"img/atomic_bomb.jpg\"/>"
   ]
  },
  {
   "cell_type": "markdown",
   "metadata": {
    "slideshow": {
     "slide_type": "slide"
    }
   },
   "source": [
    "![Pytania? ](http://cliparts.co/cliparts/qcB/jqg/qcBjqgxc5.jpg)"
   ]
  }
 ],
 "metadata": {
  "celltoolbar": "Slideshow",
  "kernelspec": {
   "display_name": "Java",
   "language": "java",
   "name": "java"
  },
  "language_info": {
   "codemirror_mode": "java",
   "file_extension": ".java",
   "mimetype": "text/x-java-source",
   "name": "Java",
   "pygments_lexer": "java",
   "version": "10.0.2+13-Ubuntu-1ubuntu0.18.04.3"
  }
 },
 "nbformat": 4,
 "nbformat_minor": 1
}
