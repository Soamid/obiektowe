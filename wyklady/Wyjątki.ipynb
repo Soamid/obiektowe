{
 "cells": [
  {
   "cell_type": "markdown",
   "metadata": {
    "slideshow": {
     "slide_type": "slide"
    }
   },
   "source": [
    "# Wyjątki\n",
    "\n",
    "## Obsługa błędów z użyciem mechanizmu wyjątków\n",
    "\n",
    "<br/>\n",
    "\n",
    "## dr inż. Aleksander Smywiński-Pohl\n",
    "\n",
    "## apohllo@o2.pl\n",
    "\n",
    "## http://apohllo.pl/dydaktyka/programowanie-obiektowe"
   ]
  },
  {
   "cell_type": "markdown",
   "metadata": {
    "slideshow": {
     "slide_type": "slide"
    }
   },
   "source": [
    "# Obsługa błędów w języku C\n",
    "\n",
    "```c\n",
    "FILE * open_file(const char * file_name){\n",
    "    FILE * file;\n",
    "    if( access( file_name, F_OK ) != -1 ) {\n",
    "        fopen(file_name, \"r\");\n",
    "    } else {\n",
    "        return (FILE *)-1;\n",
    "    }\n",
    "}\n",
    "```"
   ]
  },
  {
   "cell_type": "markdown",
   "metadata": {
    "slideshow": {
     "slide_type": "fragment"
    }
   },
   "source": [
    "```c\n",
    "char * read_file(const char * file_name, count){\n",
    "    FILE * file = open_file(file_name);\n",
    "    char * result = (char*) malloc(sizeof(char) * count);\n",
    "    if(file == -1){\n",
    "        printf(\"Nie można otworzyć pliku %s\\n\", file_name);\n",
    "        return (char *) -1;\n",
    "    } else {\n",
    "        fread(result, sizeof(char), count, file);\n",
    "        fclose(file);\n",
    "        retrun result;\n",
    "    }\n",
    "}\n",
    "```"
   ]
  },
  {
   "cell_type": "markdown",
   "metadata": {
    "slideshow": {
     "slide_type": "subslide"
    }
   },
   "source": [
    "```c\n",
    "void read_files(){\n",
    "    char * text = read_file(\"file1.txt\", 10);\n",
    "    if(text == -1){ \n",
    "        printf(\"%s\", text);\n",
    "    } else {\n",
    "        return;\n",
    "    }\n",
    "\n",
    "    text = read_file(\"file2.txt\", 20);\n",
    "    if(text == -1){\n",
    "        printf(\"%s\", text);\n",
    "    } else {\n",
    "        return;\n",
    "    }\n",
    "}\n",
    "```"
   ]
  },
  {
   "cell_type": "markdown",
   "metadata": {
    "slideshow": {
     "slide_type": "subslide"
    }
   },
   "source": [
    "<img src=\"img/exceptions.png\"/>"
   ]
  },
  {
   "cell_type": "markdown",
   "metadata": {
    "slideshow": {
     "slide_type": "slide"
    }
   },
   "source": [
    "# Wyjątki w Javie\n",
    "\n",
    "```java\n",
    "public FileReader openFile(String fileName) throws IOException {\n",
    "    return new FileReader(fileName);\n",
    "}\n",
    "```"
   ]
  },
  {
   "cell_type": "markdown",
   "metadata": {
    "slideshow": {
     "slide_type": "fragment"
    }
   },
   "source": [
    "```java\n",
    "public char[] readFile(String fileName, int count) throws IOException {\n",
    "\tFileReader reader = openFile(fileName);\n",
    "\tchar[] buffer = new char[count];\n",
    "\treader.read(buffer, 0, count);\n",
    "\treturn buffer;\n",
    "}\n",
    "```"
   ]
  },
  {
   "cell_type": "markdown",
   "metadata": {
    "slideshow": {
     "slide_type": "subslide"
    }
   },
   "source": [
    "```java\n",
    "public void readFiles(){\n",
    "\tchar[] buffer;\n",
    "\ttry {\n",
    "\t\tbuffer = readFile(\"plik1.txt\",10);\n",
    "\t\tSystem.out.println(buffer);\n",
    "\t\tbuffer = readFile(\"plik2.txt\",20);\n",
    "\t\tSystem.out.println(buffer);\n",
    "\t} catch (IOException e) {\n",
    "\t\tSystem.out.println(\"Problem z odczytaniem pliku \" + e.getMessage());\n",
    "\t}\n",
    "}\n",
    "```"
   ]
  },
  {
   "cell_type": "markdown",
   "metadata": {
    "slideshow": {
     "slide_type": "fragment"
    }
   },
   "source": [
    "<img src=\"img/exceptions_java.png\"/>"
   ]
  },
  {
   "cell_type": "markdown",
   "metadata": {
    "slideshow": {
     "slide_type": "slide"
    }
   },
   "source": [
    "# Instrukcja `throw`\n",
    "\n",
    "```java\n",
    "if(Files.exists(Paths.get(fileName))){\n",
    "    // do the work\n",
    "} else {\n",
    "    throw new FileNotFoundException(fileName + \" nie istnieje\");\n",
    "}\n",
    "```"
   ]
  },
  {
   "cell_type": "markdown",
   "metadata": {
    "slideshow": {
     "slide_type": "subslide"
    }
   },
   "source": [
    "# Instrukcja `throws`\n",
    "\n",
    "```java\n",
    "public FileReader openFile(String fileName) thorws FileNotFoundException {\n",
    "    // ...\n",
    "    throw new FileNotFoundException(fileName + \" nie istnieje\");\n",
    "    // ...\n",
    "}\n",
    "```"
   ]
  },
  {
   "cell_type": "markdown",
   "metadata": {
    "slideshow": {
     "slide_type": "subslide"
    }
   },
   "source": [
    "# Instrukcja `try ... catch ... finally`\n",
    "\n",
    "```java\n",
    "try {\n",
    "    // kod, który może rzucić wyjątek\n",
    "} catch (FileNotFoundException ex) {\n",
    "    // kod obsługi błędu\n",
    "} finally {\n",
    "    // kod wykonywany niezależnie od wystąpienia wyjątku\n",
    "}\n",
    "```"
   ]
  },
  {
   "cell_type": "markdown",
   "metadata": {
    "slideshow": {
     "slide_type": "fragment"
    }
   },
   "source": [
    "```java\n",
    "FileReader reader = null;\n",
    "char[] buffer = new char[100];\n",
    "try {\n",
    "    reader = new FileReader(fileName);\n",
    "    reader.read(buffer, 0, 100);\n",
    "} catch (FileNotFoundException ex) {\n",
    "    System.out.println(fileName + \" nie istnieje. Sprawdź nazwę pliku.\");\n",
    "} finally {\n",
    "    reader.close();\n",
    "}\n",
    "```"
   ]
  },
  {
   "cell_type": "markdown",
   "metadata": {
    "slideshow": {
     "slide_type": "notes"
    }
   },
   "source": [
    "Ten kod jest niepoprawny - zmienna reader może mieć wartość `null`."
   ]
  },
  {
   "cell_type": "markdown",
   "metadata": {
    "slideshow": {
     "slide_type": "subslide"
    }
   },
   "source": [
    "# Resource acquisition is initialization (RAII)\n",
    "\n",
    "```java\n",
    "FileReader reader = null;\n",
    "char[] buffer = new char[100];\n",
    "try {\n",
    "    reader = new FileReader(fileName);\n",
    "    reader.read(buffer, 0, 100);\n",
    "} finally {\n",
    "    if(reader != null){\n",
    "        try {\n",
    "            reader.close();\n",
    "        } catch (IOException ex) {\n",
    "            //obsługa błędu zamknięcia pliku\n",
    "        }\n",
    "    }\n",
    "}\n",
    "```"
   ]
  },
  {
   "cell_type": "markdown",
   "metadata": {
    "slideshow": {
     "slide_type": "notes"
    }
   },
   "source": [
    "Resource acquisition is initialization (RAII) - wzorzec z C++"
   ]
  },
  {
   "cell_type": "markdown",
   "metadata": {
    "slideshow": {
     "slide_type": "subslide"
    }
   },
   "source": [
    "# Instrukcja `try` z zasobami\n",
    "\n",
    "```java\n",
    "char[] buffer = new char[100];\n",
    "try(reader = new FileReader(\"file1.txt\")) {\n",
    "    reader.read(buffer, 0, 100);\n",
    "}\n",
    "```\n",
    "\n",
    "**Obiekty użyte w tej konstrukcji muszą implementować interfejs `AutoCloseable`**"
   ]
  },
  {
   "cell_type": "markdown",
   "metadata": {
    "slideshow": {
     "slide_type": "slide"
    }
   },
   "source": [
    "# Rodzaje wyjątków\n",
    "\n",
    "###  błąd w kodzie programu \n",
    "np. `NullPointerException`\n",
    "\n",
    "### błąd związany ze złamaniem kontraktu \n",
    "np. niepoprawny plik JSON, brakujący wymagane pole w bazie danych\n",
    "\n",
    "### błąd związany z dostępem do zasobów\n",
    "np. brak połączenia z internetem, z bazą danych, problem z dostępem do pliku"
   ]
  },
  {
   "cell_type": "markdown",
   "metadata": {
    "slideshow": {
     "slide_type": "subslide"
    }
   },
   "source": [
    "# Typy wyjątków\n",
    "\n",
    "### *unchecked exceptions* \n",
    "* klasy dziedziczące z `RuntimeException`\n",
    "* nie muszą być deklarowane, np. `NullPointerException`\n",
    "\n",
    "### *checked exceptions* \n",
    "* klasy dziedziczące z `Exception` i **niedziedziczące** z `RuntimeException` \n",
    "* muszą być deklarowane w sekcji `throws` lub obsłużone w bloku `try...catch`, np. `FileNotFoundException`"
   ]
  },
  {
   "cell_type": "markdown",
   "metadata": {
    "slideshow": {
     "slide_type": "subslide"
    }
   },
   "source": [
    "<img src=\"img/runtime_exception.png\"/>"
   ]
  },
  {
   "cell_type": "markdown",
   "metadata": {
    "slideshow": {
     "slide_type": "subslide"
    }
   },
   "source": [
    "# Łapanie wielu wyjątków\n",
    "\n",
    "<img src=\"img/exception_hierarchy.png\">"
   ]
  },
  {
   "cell_type": "markdown",
   "metadata": {
    "slideshow": {
     "slide_type": "fragment"
    }
   },
   "source": [
    "```java\n",
    "try {\n",
    "    // ...\n",
    "} catch (EOFException ex) {\n",
    "    // obsługa błędu EOFException\n",
    "} catch (IOException ex) {\n",
    "    // obsługa błędu IOException\n",
    "} catch (Exception ex) {\n",
    "    // obsługa pozostałych wyjątków\n",
    "}\n",
    "```"
   ]
  },
  {
   "cell_type": "markdown",
   "metadata": {
    "slideshow": {
     "slide_type": "subslide"
    }
   },
   "source": [
    "```java\n",
    "try {\n",
    "    // ...\n",
    "} catch (Exception ex) {\n",
    "    // obsługa wszystkich wyjątków\n",
    "} catch (IOException ex) {\n",
    "    // ten kod nigdy się nie wykona\n",
    "} catch (EOFException ex) {\n",
    "    // ten kod nigdy się nie wykona\n",
    "}\n",
    "```"
   ]
  },
  {
   "cell_type": "markdown",
   "metadata": {
    "slideshow": {
     "slide_type": "subslide"
    }
   },
   "source": [
    "```java\n",
    "try {\n",
    "    // ...\n",
    "} catch (FileNotFoundException | EOFException ex) {\n",
    "    // wspólny kod obsługi błędów FileNotFoundException i EOFException\n",
    "}\n",
    "```"
   ]
  },
  {
   "cell_type": "markdown",
   "metadata": {
    "slideshow": {
     "slide_type": "slide"
    }
   },
   "source": [
    "# Praktyczne zalecenia\n",
    "\n",
    "## 1. Obsługa wyjątków musi być faktycznie realizowana\n",
    "\n",
    "* W realnie działających systemach wyjątki faktycznie występują. \n",
    "* Ich obsługa nie może sprwadzać się do tego, że kod w ogóle się kompiluje."
   ]
  },
  {
   "cell_type": "markdown",
   "metadata": {
    "slideshow": {
     "slide_type": "fragment"
    }
   },
   "source": [
    "## 2. Rzucaj wyjątki wcześnie, obsługuj późno\n",
    "\n",
    "### Im wcześniej **zgłosisz** sytuację nietypową, tym lepiej\n",
    "* Możesz podać więcej szczegółów na temat przyczyny błędu.\n",
    "\n",
    "### Im później **obsłużysz** sytuację nietypową, tym lepiej\n",
    "* Możesz obsłużyć wiele wyjątków za pomocą jednego mechanizmu.\n",
    "* Jesteś bliżej interfejsu użytkownika, co pozwala na wyprodukowanie stosownego komunikatu."
   ]
  },
  {
   "cell_type": "markdown",
   "metadata": {
    "slideshow": {
     "slide_type": "fragment"
    }
   },
   "source": [
    "## 3. Dbaj o wszystkie otwierane zasoby\n",
    "\n",
    "* Zbyt duża liczba otwartych plików lub połączeń do bazy danych może spowodować zatrzymanie programu lub blokadę systemu operacyjnego."
   ]
  },
  {
   "cell_type": "markdown",
   "metadata": {
    "slideshow": {
     "slide_type": "fragment"
    }
   },
   "source": [
    "## 4. Spróbuj znaleźć rozwiązanie problemu\n",
    "* `FileNotFoundException` - poproś użytkownika o poprawienie nazwy pliku\n",
    "* `ConnectException` - spróbuj ponownie wysłać zapytanie do zdalnego serwisu\n",
    "* `InterruptedException` - zakończ albo zrestartuj wątek przetwarzający zadanie"
   ]
  },
  {
   "cell_type": "markdown",
   "metadata": {
    "slideshow": {
     "slide_type": "subslide"
    }
   },
   "source": [
    "# Ad. 1 - antywzorce\n",
    "\n",
    "```java\n",
    "try { \n",
    "    // kod rzucający wyjątki\n",
    "} catch(Exception ex) {\n",
    "    // nic nie rób\n",
    "}\n",
    "```"
   ]
  },
  {
   "cell_type": "markdown",
   "metadata": {
    "slideshow": {
     "slide_type": "notes"
    }
   },
   "source": [
    "Żadne wyjątek nie może się zamanifestować, nawet `NullPointerException`."
   ]
  },
  {
   "cell_type": "markdown",
   "metadata": {
    "slideshow": {
     "slide_type": "fragment"
    }
   },
   "source": [
    "```java\n",
    "try {\n",
    "    // kod rzucający wyjątki\n",
    "} catch (FileNotFoundException ex) {\n",
    "    logger.error(ex.getMessage());\n",
    "    throw ex;\n",
    "}\n",
    "```"
   ]
  },
  {
   "cell_type": "markdown",
   "metadata": {
    "slideshow": {
     "slide_type": "notes"
    }
   },
   "source": [
    "Istnieje ryzyko, że ten sam błąd będzie wielokrotnie logowany."
   ]
  },
  {
   "cell_type": "markdown",
   "metadata": {
    "slideshow": {
     "slide_type": "subslide"
    }
   },
   "source": [
    "# Ad. 2 - antywzorce\n",
    "\n",
    "```java\n",
    "try {\n",
    "    // kod rzucający wyjątki\n",
    "} catch (FileNotFoundException ex) {\n",
    "    logger.error(ex.getMessage());\n",
    "    return null;\n",
    "}\n",
    "```"
   ]
  },
  {
   "cell_type": "markdown",
   "metadata": {
    "slideshow": {
     "slide_type": "notes"
    }
   },
   "source": [
    "Zamiast zwracać `null` pozwól by wyjątek obsłużono wyżej."
   ]
  },
  {
   "cell_type": "markdown",
   "metadata": {
    "slideshow": {
     "slide_type": "fragment"
    }
   },
   "source": [
    "```java\n",
    "public TransferDetails parse(String transferSpecification) \n",
    "        throws InvalidTransferSpecification {\n",
    "    try {\n",
    "        // kod rzucający wyjątek XMLParserError\n",
    "    } catch (XMLParserError ex) {\n",
    "        throw new InvalidTransferSpecification(transferSpecification);\n",
    "    }\n",
    "}\n",
    "```"
   ]
  },
  {
   "cell_type": "markdown",
   "metadata": {
    "slideshow": {
     "slide_type": "notes"
    }
   },
   "source": [
    "tracona jest dokładna informacja o wyjątku"
   ]
  },
  {
   "cell_type": "markdown",
   "metadata": {
    "slideshow": {
     "slide_type": "subslide"
    }
   },
   "source": [
    "# *exception chaining* - poprawne rozwiązanie\n",
    "\n",
    "```java\n",
    "class Parser {\n",
    "    public TransferDetails parse(String transferSpecification) \n",
    "            throws InvalidTransferSpecification {\n",
    "        try {\n",
    "            // kod rzucający wyjątek XMLParserError\n",
    "        } catch (XMLParserError ex) {\n",
    "            //                                                          vvvvvv\n",
    "            throw new InvalidTransferSpecification(transferSpecification, ex);\n",
    "        }\n",
    "    }\n",
    "}\n",
    "```"
   ]
  },
  {
   "cell_type": "markdown",
   "metadata": {
    "slideshow": {
     "slide_type": "fragment"
    }
   },
   "source": [
    "```\n",
    "InvalidTransferSpecification: ...\n",
    "at Parser.parse()\n",
    "at System.main()\n",
    "Caused by: XMLParserError: ...\n",
    "at XMLParser.readHeader()\n",
    "at XMLParser.parse()\n",
    "```"
   ]
  },
  {
   "cell_type": "markdown",
   "metadata": {
    "slideshow": {
     "slide_type": "subslide"
    }
   },
   "source": [
    "# Ad. 2 - antywzroce\n",
    "\n",
    "```java\n",
    "public void doSomeCalculation(){\n",
    "    try {\n",
    "        for(Element element : elements) {\n",
    "            if(element == null){\n",
    "                throw EmptyElementException();\n",
    "            }\n",
    "        }\n",
    "    } catch (EmptyElementException ex) {\n",
    "        // ...\n",
    "    }\n",
    "}\n",
    "```"
   ]
  },
  {
   "cell_type": "markdown",
   "metadata": {
    "slideshow": {
     "slide_type": "subslide"
    }
   },
   "source": [
    "# Ad. 3 obsługa zasobów\n",
    "\n",
    "Najprościej zrobić to używając konstrukcji `try` z zasobami:\n",
    "\n",
    "```java\n",
    "char[] buffer = new char[100];\n",
    "try(reader = new FileReader(\"file1.txt\")) {\n",
    "    reader.read(buffer, 0, 100);\n",
    "}\n",
    "```"
   ]
  },
  {
   "cell_type": "markdown",
   "metadata": {
    "slideshow": {
     "slide_type": "slide"
    }
   },
   "source": [
    "# Uwaga na sekcję `finally`\n",
    "\n",
    "```java\n",
    "try {\n",
    "    // kod z wyjątkami\n",
    "} finally {\n",
    "    return 1;\n",
    "}\n",
    "```"
   ]
  },
  {
   "cell_type": "markdown",
   "metadata": {
    "slideshow": {
     "slide_type": "notes"
    }
   },
   "source": [
    "Rzucenie wyjątku lub wyjście z metody w `finally` powoduje nadpisanie wcześniejszego wyjątku."
   ]
  },
  {
   "cell_type": "markdown",
   "metadata": {
    "slideshow": {
     "slide_type": "fragment"
    }
   },
   "source": [
    "```java\n",
    "try {\n",
    "    // kod z wyjątkami\n",
    "} catch(SomeException ex){\n",
    "    ex.getSuppressedException();\n",
    "}\n",
    "```"
   ]
  },
  {
   "cell_type": "markdown",
   "metadata": {
    "slideshow": {
     "slide_type": "subslide"
    }
   },
   "source": [
    "# Nie deklaruj (bardzo) wielu wyjątków\n",
    "\n",
    "```java\n",
    "public launchICBM() thorws IOException, DatabaseException, NetworkException, \n",
    "    NullPointerException, ArithmeticException, WorldDoesNotExistException {\n",
    "    // launch ICBM\n",
    "}\n",
    "```"
   ]
  },
  {
   "cell_type": "markdown",
   "metadata": {
    "slideshow": {
     "slide_type": "fragment"
    }
   },
   "source": [
    "```java\n",
    "public launchICBM() thorws LaunchException {\n",
    "    try {\n",
    "        // lanuch ICBM\n",
    "    } catch(IOException | DatabaseException | ... ex) {\n",
    "        throw new LaunchException(\"Something went wrong...\", ex);\n",
    "    }\n",
    "}\n",
    "```"
   ]
  },
  {
   "cell_type": "markdown",
   "metadata": {
    "slideshow": {
     "slide_type": "subslide"
    }
   },
   "source": [
    "<img src=\"img/atomic_bomb.jpg\"/>"
   ]
  },
  {
   "cell_type": "markdown",
   "metadata": {
    "slideshow": {
     "slide_type": "slide"
    }
   },
   "source": [
    "![Pytania? ](http://cliparts.co/cliparts/qcB/jqg/qcBjqgxc5.jpg)"
   ]
  }
 ],
 "metadata": {
  "celltoolbar": "Slideshow",
  "kernelspec": {
   "display_name": "Java 9",
   "language": "java",
   "name": "java"
  },
  "language_info": {
   "file_extension": ".class",
   "mimetype": "application/java-vm",
   "name": "java"
  }
 },
 "nbformat": 4,
 "nbformat_minor": 1
}
