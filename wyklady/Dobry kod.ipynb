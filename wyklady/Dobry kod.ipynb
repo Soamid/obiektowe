{
 "cells": [
  {
   "cell_type": "markdown",
   "metadata": {
    "slideshow": {
     "slide_type": "slide"
    }
   },
   "source": [
    "# Cechy dobrego kodu\n",
    "\n",
    "## Nazewnictwo, \"suszenie\" kodu, złożoność kodu, \n",
    "## prawo Demeter, SOLIDne zasady\n",
    "\n",
    "<br/>\n",
    "\n",
    "## dr inż. Aleksander Smywiński-Pohl\n",
    "\n",
    "## apohllo@o2.pl\n",
    "\n",
    "## http://apohllo.pl/dydaktyka/programowanie-obiektowe"
   ]
  },
  {
   "cell_type": "markdown",
   "metadata": {
    "slideshow": {
     "slide_type": "slide"
    }
   },
   "source": [
    "# Nazewnictwo\n",
    "\n",
    "_There are only two hard things in Computer Science: cache invalidation and naming things._\n",
    "\n",
    "-- Phil Karlton"
   ]
  },
  {
   "cell_type": "code",
   "execution_count": null,
   "metadata": {
    "slideshow": {
     "slide_type": "slide"
    }
   },
   "outputs": [],
   "source": [
    "$.fn.zakupBiletu = function(options) {\n",
    "    var zakup_biletu_form = $(\"#zakup_biletu_form\"); \n",
    "    var nr_biletu_osoby_towarzyszacej = $(\"#nr_biletu_osoby_towarzyszacej\");          \n",
    "    var rodzaj_wagonu = $(\"#rodzaj_wagonu\");    \n",
    "    var dalej_button = $(\".dalej_button\");    \n",
    "    var klasa_wagonu = $(\"#klasa_wagonu\");\n",
    "    var tryb_posel = $(\"#tryb_posel\");\n",
    "    var przesiadkaPrev = $(\".przesiadka_prev\");\n",
    "    var przesiadkaNext = $(\".przesiadka_next\");     \n",
    "    var arrow_box_ext_info = $(\".arrow_box_ext_info\");\n",
    "\n",
    "    var nextStepPrzesiadka = 0; \n",
    "    var ODCINEK = {\n",
    "        PIERWSZY : 1,\n",
    "        DRUGI : 2              \n",
    "    };\n",
    "    // events \n",
    "    dalej_button.unbind('click').click(function (e) {\n",
    "\n",
    "      var self = $(this);\n",
    "\n",
    "      var strefaCiszyArr = [52, 11];\n",
    "      var dlaPodrzDzieckiDoLat6Arr = [3];\n",
    "      var rowerOferta = 15;\n",
    "      var SIEDZACE = 1;\n",
    "\n",
    "      var rodzajWagonu = parseInt($(\"#rodzaj_wagonu\").find(\"option:selected\").val());            \n",
    "      var rodzajWagonuOdcinek_1 = parseInt($(\"#rodzaj_wagonu_odcinek_2\").val());\n",
    "      var rower = $(\"#rodzaj_wagonu\").find(\"option:selected\").val();\n",
    "    }\n",
    "    //...\n",
    "}"
   ]
  },
  {
   "cell_type": "code",
   "execution_count": null,
   "metadata": {
    "slideshow": {
     "slide_type": "subslide"
    }
   },
   "outputs": [],
   "source": [
    "if(BilDodatkoweService().czyNieWybranoCalegoPrzedzialuDlaPsa())"
   ]
  },
  {
   "cell_type": "markdown",
   "metadata": {
    "slideshow": {
     "slide_type": "fragment"
    }
   },
   "source": [
    "<img src=\"img/lol.png\" style=\"height: 600px\"/>\n",
    "https://bilet.intercity.pl/eic_js/zakup_biletu_plugin.js"
   ]
  },
  {
   "cell_type": "code",
   "execution_count": null,
   "metadata": {
    "slideshow": {
     "slide_type": "subslide"
    }
   },
   "outputs": [],
   "source": [
    "public void contents(String s){\n",
    "    char l = s.toLowerCase().charAt(1);\n",
    "    if(l == 'd'){\n",
    "        sectionSearch(s);\n",
    "    } else if(l == 'r'){\n",
    "        searchChapter(s);\n",
    "    } else if(l == 'a'){\n",
    "        artileSearch(s);\n",
    "    } else if(l == 'z'){\n",
    "        betweenSearch(s);\n",
    "    }\n",
    "}"
   ]
  },
  {
   "cell_type": "markdown",
   "metadata": {
    "slideshow": {
     "slide_type": "notes"
    }
   },
   "source": [
    "Kod wymaga poprawy ponieważ występują w nim zmienne, które nie są pełnymi słowami lub zwrotami.\n",
    "Ponadto metoda `contents` nie jest czasownikiem i nie oddaje intencji związanej z tym, co kod ma zrobić."
   ]
  },
  {
   "cell_type": "code",
   "execution_count": null,
   "metadata": {
    "slideshow": {
     "slide_type": "subslide"
    }
   },
   "outputs": [],
   "source": [
    "public void executeCommand(String command){\n",
    "    char commandCode = command.toLowerCase().charAt(1);\n",
    "    if(commandCode == 'd'){\n",
    "        sectionSearch(command);\n",
    "    } else if(commandCode == 'r'){\n",
    "        searchChapter(command);\n",
    "    } else if(commandCode == 'a'){\n",
    "        artileSearch(command);\n",
    "    } else if(commandCode == 'z'){\n",
    "        betweenSearch(command);\n",
    "    }\n",
    "}"
   ]
  },
  {
   "cell_type": "markdown",
   "metadata": {
    "slideshow": {
     "slide_type": "notes"
    }
   },
   "source": [
    "Kod wymaga poprawy, ponieważ nazwy metod nie są konsekwentne."
   ]
  },
  {
   "cell_type": "code",
   "execution_count": null,
   "metadata": {
    "slideshow": {
     "slide_type": "subslide"
    }
   },
   "outputs": [],
   "source": [
    "public void executeCommand(String command){\n",
    "    char commandCode = command.toLowerCase().charAt(1);\n",
    "    if(commandCode == 'd'){\n",
    "        searchSection(command);\n",
    "    } else if(commandCode == 'r'){\n",
    "        searchChapter(command);\n",
    "    } else if(commandCode == 'a'){\n",
    "        searchArticle(command);\n",
    "    } else if(commandCode == 'z'){\n",
    "        searchBetweenArticles(command);\n",
    "    }\n",
    "}"
   ]
  },
  {
   "cell_type": "markdown",
   "metadata": {
    "slideshow": {
     "slide_type": "notes"
    }
   },
   "source": [
    "Poprawiony kod - możliwe jest jeszcze uproszczenie związane z wykorzystaniem konstrukcji `switch`."
   ]
  },
  {
   "cell_type": "markdown",
   "metadata": {
    "slideshow": {
     "slide_type": "slide"
    }
   },
   "source": [
    "# DRY, czyli wysusz swój kod\n",
    "\n",
    "* DRY = don't repeat yourself\n",
    "* nie twórz kodu porzez stosowanie metody kopiuj-wklej"
   ]
  },
  {
   "cell_type": "code",
   "execution_count": null,
   "metadata": {
    "slideshow": {
     "slide_type": "subslide"
    }
   },
   "outputs": [],
   "source": [
    "String command = \"r10\";\n",
    "\n",
    "if(command.toLowerCase().charAt(1) == 'd'){\n",
    "    searchSection(command);\n",
    "} else if(command.toLowerCase().charAt(1) == 'r'){\n",
    "    searchChapter(command);\n",
    "} else if(command.toLowerCase().charAt(1) == 'a'){\n",
    "    searchArticle(command);\n",
    "} else if(command.toLowerCase().charAt(1) == 'z'){\n",
    "    searchBetweenArticles(command);\n",
    "}"
   ]
  },
  {
   "cell_type": "markdown",
   "metadata": {
    "slideshow": {
     "slide_type": "notes"
    }
   },
   "source": [
    "W kodzie wielokrotnie wydobywana jest ta sama informacja `command.toLowerCase.charAt(1)`."
   ]
  },
  {
   "cell_type": "code",
   "execution_count": null,
   "metadata": {
    "slideshow": {
     "slide_type": "subslide"
    }
   },
   "outputs": [],
   "source": [
    "String command = \"r10\";\n",
    "char commandCode = command.toLowerCase().charAt(1);\n",
    "\n",
    "if(commandCode == 'd') {\n",
    "    searchSection(command);\n",
    "} else if(commandCode = 'r') {\n",
    "    searchChapter(command);\n",
    "} else if(commandCode = 'a') {\n",
    "    searchArticle(command);\n",
    "} else if(commandCode = 'z') {\n",
    "    searchBetweenArticles(command);\n",
    "}"
   ]
  },
  {
   "cell_type": "markdown",
   "metadata": {
    "slideshow": {
     "slide_type": "notes"
    }
   },
   "source": [
    "Zamiast wielu `if`-ów lepiej zastosować konstrukcję `switch`."
   ]
  },
  {
   "cell_type": "code",
   "execution_count": null,
   "metadata": {
    "slideshow": {
     "slide_type": "subslide"
    }
   },
   "outputs": [],
   "source": [
    "String command = \"r10\";\n",
    "char commandCode = command.toLowerCase().charAt(1);\n",
    "\n",
    "switch(commanCode) {\n",
    "    case 'd' :\n",
    "        searchSection(command);\n",
    "        break;\n",
    "\n",
    "    case 'r' :\n",
    "        searchChapter(command);\n",
    "        break;\n",
    "\n",
    "    case 'a' :\n",
    "        searchArticle(command);\n",
    "        break;\n",
    "\n",
    "    case 'z' :\n",
    "        searchBetweenArticles(command);\n",
    "        break;\n",
    "}"
   ]
  },
  {
   "cell_type": "markdown",
   "metadata": {
    "slideshow": {
     "slide_type": "notes"
    }
   },
   "source": [
    "Ulepszony, przejrzysty kod."
   ]
  },
  {
   "cell_type": "code",
   "execution_count": null,
   "metadata": {
    "slideshow": {
     "slide_type": "subslide"
    }
   },
   "outputs": [],
   "source": [
    "switch(options[0]) {\n",
    "    case \"konstytucja\" :\n",
    "        ParserKonstytucja parserK = new ParserKonstytucja(options);\n",
    "        parserK.parse();\n",
    "        if(options.getWhatToDisplay().equals(\"całość\"))\n",
    "            parserK.write();\n",
    "        if(options.getWhatToDisplay().equals(\"element\")){\n",
    "            Element element = parserK.konstytucja;\n",
    "            // ...\n",
    "        break;\n",
    "    case \"uokik\":\n",
    "        ParserUokik parserU = new ParserUokik(options);\n",
    "        parserU.parse();\n",
    "        if(options.getWhatToDisplay().equals(\"całość\"))\n",
    "            parserU.write();\n",
    "        if(options.getWhatToDisplay().equals(\"element\")){\n",
    "            Element element = parserU.uokik;\n",
    "            // ...\n",
    "        break;\n",
    "}"
   ]
  },
  {
   "cell_type": "markdown",
   "metadata": {
    "slideshow": {
     "slide_type": "notes"
    }
   },
   "source": [
    "W kodzie występuje powtórzenie wynikające z faktu użycia dwóch różnych klas parsera, które nie posiadają wspólnego interfejsu lub klasy, z której mogłyby dziedziczyć. "
   ]
  },
  {
   "cell_type": "code",
   "execution_count": null,
   "metadata": {
    "slideshow": {
     "slide_type": "subslide"
    }
   },
   "outputs": [],
   "source": [
    "interface BillParser {\n",
    "    parse();\n",
    "    displayAll();\n",
    "    displaySingleElement(ElementId elementId);\n",
    "    //...\n",
    "}\n",
    "\n",
    "class ConstitutionParser implements BillParser {\n",
    "    //...\n",
    "}\n",
    "\n",
    "class RegularBillParser implements BillParser {\n",
    "    //...\n",
    "}"
   ]
  },
  {
   "cell_type": "markdown",
   "metadata": {
    "slideshow": {
     "slide_type": "notes"
    }
   },
   "source": [
    "Wspólny interfejs."
   ]
  },
  {
   "cell_type": "code",
   "execution_count": null,
   "metadata": {
    "slideshow": {
     "slide_type": "subslide"
    }
   },
   "outputs": [],
   "source": [
    "BillParser parser;\n",
    "\n",
    "switch(options[0]) {\n",
    "    case \"konstytucja\" :\n",
    "        parser = new ConstitutionParser(options);\n",
    "        break;\n",
    "    case \"uokik\":\n",
    "        parser = new RegularBillParser(options);\n",
    "        break;\n",
    "}\n",
    "        \n",
    "parser.parse();\n",
    "if(options.getWhatToDisplay().equals(\"całość\"))\n",
    "    parser.displayAll();\n",
    "if(options.getWhatToDisplay().equals(\"element\")){\n",
    "    ElementId id = getElementId(options);\n",
    "    parser.displaySingleElement(id);"
   ]
  },
  {
   "cell_type": "markdown",
   "metadata": {
    "slideshow": {
     "slide_type": "notes"
    }
   },
   "source": [
    "Ulepszony kod - dzięki wspólnemu interfejsowi, wystarczy zbudować instancję odpowiedniej klasy, ktróą później można używać dokładnie w ten sam sposób."
   ]
  },
  {
   "cell_type": "markdown",
   "metadata": {
    "slideshow": {
     "slide_type": "slide"
    }
   },
   "source": [
    "# Złożoność kodu "
   ]
  },
  {
   "cell_type": "code",
   "execution_count": null,
   "metadata": {
    "slideshow": {
     "slide_type": "subslide"
    }
   },
   "outputs": [],
   "source": [
    "case 4:{\n",
    "    for(Chapter chapter : chapters){\n",
    "        for(Article article : chapter.getArticles()){\n",
    "            if(article.getName().equals(arguments.get(0))){\n",
    "                for(Section section : article.getSections()){\n",
    "                    if(section.getName().equals(arguments.get(1))){\n",
    "                        for(SubSection subSection : section.getSubSections()){\n",
    "                            if(subSection.getName().equals(arguments.get(2))){\n",
    "                                for(Letter letter : subSection.getLetters()){\n",
    "                                    if(letter.getName().equals(arguments.get(3))){\n",
    "                                        letter.writeList(0);\n",
    "                                    }\n",
    "                                }\n",
    "                            }\n",
    "                        }\n",
    "                    }\n",
    "                }\n",
    "            }\n",
    "        }\n",
    "    }\n",
    "    break;\n",
    "}"
   ]
  },
  {
   "cell_type": "markdown",
   "metadata": {
    "slideshow": {
     "slide_type": "notes"
    }
   },
   "source": [
    "W kodzie wielokrtonie powtarza się ta sama para wywołań - iterowanie po elementach niższego rzędu oraz porównywanie nazwy z selektorem. "
   ]
  },
  {
   "cell_type": "code",
   "execution_count": null,
   "metadata": {
    "slideshow": {
     "slide_type": "subslide"
    }
   },
   "outputs": [],
   "source": [
    "class Node {\n",
    "    private String id;\n",
    "    private List<Node> children; \n",
    "    \n",
    "    public void print(List<String> path) {\n",
    "        if(path.length <= 0) {\n",
    "            return;\n",
    "        }\n",
    "        if(this.id.equals(path.get(0))) {\n",
    "            if(path.length > 1) {\n",
    "                for(Node child : children) {\n",
    "                    child.print(path.subList(1, path.length-1));\n",
    "                }\n",
    "            } else {\n",
    "                this.printContent();                \n",
    "            }\n",
    "        }\n",
    "    }\n",
    "    \n",
    "    private void printContent() {\n",
    "        //...\n",
    "    }\n",
    "}"
   ]
  },
  {
   "cell_type": "markdown",
   "metadata": {
    "slideshow": {
     "slide_type": "notes"
    }
   },
   "source": [
    "Dzięki wprowadzeniu wspólnego typu oraz wykorzystaniu funkcji rekurencyjnej kod uległ znacznemu uproszczeniu."
   ]
  },
  {
   "cell_type": "code",
   "execution_count": null,
   "metadata": {
    "slideshow": {
     "slide_type": "subslide"
    }
   },
   "outputs": [],
   "source": [
    "if(args[0].equals(\"konstytucja\") || args[0].equals(\"uokik\")){\n",
    "    if(args[1].equals(\"treść\")) {\n",
    "        parsedOptions.setContentOrTable(true);\n",
    "    } else if(args[1].equals(\"spis\")){\n",
    "        parsedOptions.setContentOrTable(false);\n",
    "    } else {\n",
    "        throw new IllegalArgumentException(\"Bledne dane: \" + args[1]);\n",
    "    }\n",
    "    if(args[2].equals(\"całość\") || args[2].equals(\"element\") ||  args[2].equals(\"przedział\")){\n",
    "        parsedOptions.setWhatToDisplay(args[2]);\n",
    "        // ...\n",
    "    } else {\n",
    "        throw new IllegalArgumentException(\"Bledne dane: \" + args[2]);\n",
    "    }\n",
    "} else {\n",
    "    throw new IllegalArgumentException(\"Bledne dane: \" + args[0]);\n",
    "}"
   ]
  },
  {
   "cell_type": "markdown",
   "metadata": {
    "slideshow": {
     "slide_type": "notes"
    }
   },
   "source": [
    "Obsługa błedów przeplata się ze zwykłym kodem, co powoduje zagnieżdżenie wielu `if`-ów."
   ]
  },
  {
   "cell_type": "code",
   "execution_count": null,
   "metadata": {
    "slideshow": {
     "slide_type": "subslide"
    }
   },
   "outputs": [],
   "source": [
    "if(!(args[0].equals(\"konstytucja\") || args[0].equals(\"uokik\"))){\n",
    "    throw new IllegalArgumentException(\"Arg 0 should be one of 'konstytucja' 'uokik', but was: \" + args[0]);\n",
    "}\n",
    "if(!(args[1].equals(\"treść\") || args[1].equals(\"spis\"))) {\n",
    "    throw new IllegalArgumentException(\"Arg 1 should be one of 'treść' 'spis', but was: \" + args[1]);\n",
    "}\n",
    "\n",
    "if(!(args[2].equals(\"całość\") || args[2].equals(\"element\") ||  args[2].equals(\"przedział\"))){\n",
    "    throw new IllegalArgumentException(\"Arg 2 should be one of 'całość' 'element' 'przedział', but was: \" + args[1]);\n",
    "}\n",
    "\n",
    "parsedOptions.setContentOrTable(args[1].equals(\"treść\"));\n",
    "parsedOptions.setWhatToDisplay(args[2]);"
   ]
  },
  {
   "cell_type": "markdown",
   "metadata": {
    "slideshow": {
     "slide_type": "notes"
    }
   },
   "source": [
    "Dzięki przesunięciu obsługi błędów na początek metody, możliwe jest znaczne uproszczenie kodu, ponieważ można założyć, że wszystkie warunki poprawności argumentów zostały już zweryfikowane. "
   ]
  },
  {
   "cell_type": "markdown",
   "metadata": {
    "slideshow": {
     "slide_type": "slide"
    }
   },
   "source": [
    "# Prawo Demeter (Law of Demeter = LoD)\n",
    "\n",
    "Inaczej:\n",
    "* Zasada minimalnej wiedzy\n",
    "* Reguła ograniczonej interakcji"
   ]
  },
  {
   "cell_type": "code",
   "execution_count": null,
   "metadata": {
    "slideshow": {
     "slide_type": "subslide"
    }
   },
   "outputs": [],
   "source": [
    "if(matchPatterns(lines.get(i)).getStructure().getGrading() > prev.getData().getStructure().getGrading()) {\n",
    "    // ...\n",
    "}"
   ]
  },
  {
   "cell_type": "markdown",
   "metadata": {
    "slideshow": {
     "slide_type": "notes"
    }
   },
   "source": [
    "Klasa, w której występuje to porównanie musi znać strukturę klasy `Tree.Node`, `Act` oraz `Structure`.\n",
    "To zdecydowanie zbyt wiele. W myśl zasady LoD, powinna wykorzystać wiedzę wyłącznie do obiektów, które zostały do niej przekazana, bądź są składowymi klasy."
   ]
  },
  {
   "cell_type": "code",
   "execution_count": null,
   "metadata": {
    "slideshow": {
     "slide_type": "subslide"
    }
   },
   "outputs": [],
   "source": [
    "class Tree {\n",
    "    class Node<T> {\n",
    "        private T data;\n",
    "        \n",
    "        public T getData() {\n",
    "            return data;\n",
    "        }\n",
    "    }\n",
    "}\n",
    "\n",
    "class Act {\n",
    "    private Structure structure;\n",
    "    \n",
    "    public Structure getStructure() {\n",
    "        return structure;\n",
    "    }\n",
    "}\n",
    "\n",
    "class Structure {\n",
    "    private int grading;\n",
    "    \n",
    "    public int getGrading() {\n",
    "        return grading;\n",
    "    }\n",
    "}"
   ]
  },
  {
   "cell_type": "markdown",
   "metadata": {
    "slideshow": {
     "slide_type": "notes"
    }
   },
   "source": [
    "Istniejące klasy w klasyczny sposób udostępniają swoje dane zewnętrzne, poprzez metody dostępowe.\n",
    "W istocie rzeczy, klasy takie nie są obiektami, ale strukturami danych, ponieważ nie przejawiają \n",
    "złożonego zachowania."
   ]
  },
  {
   "cell_type": "code",
   "execution_count": null,
   "metadata": {
    "slideshow": {
     "slide_type": "subslide"
    }
   },
   "outputs": [],
   "source": [
    "class Act {\n",
    "    public int compare(Act other) {\n",
    "        this.structure.compare(other.structure);\n",
    "    }\n",
    "}\n",
    "\n",
    "class Structure {\n",
    "    public int compare(Structure other) {\n",
    "        if(this.grading > other.grading) {\n",
    "            return 1;\n",
    "        } else if(this.grading < other.grading) {\n",
    "            return -1\n",
    "        } else {\n",
    "            return 0;\n",
    "        }\n",
    "    }\n",
    "}\n",
    "\n",
    "if(matchPatterns(lines.get(i)).compare(prev.getData()) > 0) {\n",
    "    // ...\n",
    "}"
   ]
  },
  {
   "cell_type": "markdown",
   "metadata": {
    "slideshow": {
     "slide_type": "notes"
    }
   },
   "source": [
    "Rozwiązanie polega na delegowaniu wywołania `compare` do własnych składowych. Dzięki temu - jeśli np. w klasie `Act` nastąpiłaby jakaś zmiana związana z polem `structure`, klasa, która wywołała metodę `compare` nie musiałaby ulec zmianie."
   ]
  },
  {
   "cell_type": "markdown",
   "metadata": {
    "slideshow": {
     "slide_type": "slide"
    }
   },
   "source": [
    "# SOLIDne zasady\n",
    "\n",
    "* **S**ingle responsibility principle\n",
    "* **O**pen/close principle\n",
    "* **L**iskov substitution principle\n",
    "* **I**nterface segregation principle\n",
    "* **D**ependency inversion principle"
   ]
  },
  {
   "cell_type": "markdown",
   "metadata": {
    "slideshow": {
     "slide_type": "slide"
    }
   },
   "source": [
    "# Single responsibility principle - zasada pojedynczej odpowiedzialności\n",
    "\n",
    "*a class should have only a single responsibility (i.e. changes to only one part of the software's specification should be able to affect the specification of the class).*\n",
    "\n",
    "* klasa powinna ulegać zmianie tylko z powodu zmiany pojedynczego wymagania\n",
    "* jeśli zmiana dwóch wymagań może doprowadzić do zmiany jednej klasy to łamie ona zasadę SRP"
   ]
  },
  {
   "cell_type": "code",
   "execution_count": null,
   "metadata": {
    "slideshow": {
     "slide_type": "subslide"
    }
   },
   "outputs": [],
   "source": [
    "class ActNode {\n",
    "    private NodeType type;\n",
    "    private String title;\n",
    "    private List<String> content;\n",
    "    private List<ActNode> children;\n",
    "    \n",
    "    public ActNode getChild(String id) {\n",
    "        // ...\n",
    "    }\n",
    "    \n",
    "    public List<ActNode> getChildren() {\n",
    "        ///\n",
    "    }\n",
    "    \n",
    "    public String contentWithChildren() {\n",
    "        // ...\n",
    "    }\n",
    "    \n",
    "    public String tableOfContents() {\n",
    "        // ...\n",
    "    }\n",
    "    \n",
    "    // ... after some time\n",
    "    \n",
    "    public String htmlTableOfContents() {\n",
    "        // ...\n",
    "    }\n",
    "    \n",
    "    public String jsonTableOfContents() {\n",
    "        // ...\n",
    "    }\n",
    "}"
   ]
  },
  {
   "cell_type": "code",
   "execution_count": null,
   "metadata": {
    "slideshow": {
     "slide_type": "subslide"
    }
   },
   "outputs": [],
   "source": [
    "interface ActPresenter {\n",
    "    public String content();\n",
    "    \n",
    "    public String contentWithChildren(int level);\n",
    "}\n",
    "\n",
    "class TextActPresenter implements ActPresenter {\n",
    "    public TextActPresenter(ActNode node){\n",
    "        // ...\n",
    "    }\n",
    "    \n",
    "    public String content() {\n",
    "        // ...\n",
    "    }\n",
    "    \n",
    "    public String contentWithChildren(int level) {\n",
    "        // ...\n",
    "    }\n",
    "}"
   ]
  },
  {
   "cell_type": "code",
   "execution_count": null,
   "metadata": {
    "slideshow": {
     "slide_type": "fragment"
    }
   },
   "outputs": [],
   "source": [
    "class TocTextActPresenter implements ActPresenter {\n",
    "    public TocTextActPresenter(ActNode node) {\n",
    "        // ...\n",
    "    }\n",
    "    \n",
    "    public String content() {\n",
    "        // ...\n",
    "    }\n",
    "    \n",
    "    public String contentWithChildren(int level) {\n",
    "        // ...\n",
    "    }\n",
    "}"
   ]
  },
  {
   "cell_type": "code",
   "execution_count": null,
   "metadata": {
    "slideshow": {
     "slide_type": "subslide"
    }
   },
   "outputs": [],
   "source": [
    "class HtmlActPresenter implements ActPresenter {\n",
    "    public HtmlActPresenter(ActNode node) {\n",
    "        // ...\n",
    "    }\n",
    "    \n",
    "    public String content() {\n",
    "        // ...\n",
    "    }\n",
    "    \n",
    "    public String contentWithChildren(int level) {\n",
    "        // ...\n",
    "    }\n",
    "}"
   ]
  },
  {
   "cell_type": "markdown",
   "metadata": {
    "slideshow": {
     "slide_type": "slide"
    }
   },
   "source": [
    "# Open/closed principle\n",
    "\n",
    "*\"software entities … should be open for extension, but closed for modification.\"*\n",
    "\n",
    "* typ powinien być otwarty na rozszerzanie, czyli dodanie nowej implementacji tego typu\n",
    "* typ powinien być zamknięty z względu na modyfikację, czyli modyfikację istniejących cechy użytkowych tego typu"
   ]
  },
  {
   "cell_type": "code",
   "execution_count": null,
   "metadata": {
    "slideshow": {
     "slide_type": "subslide"
    }
   },
   "outputs": [],
   "source": [
    "class LegalActParser {\n",
    "    private Options options;\n",
    "    \n",
    "    public LegaActParser(Options options) {\n",
    "        this.options = options;\n",
    "    }\n",
    "    \n",
    "    public ActNode parse(List<String> text) {\n",
    "        if(this.options.type == ActType.Constitution) { \n",
    "            parseContitution();\n",
    "        } else if(this.options.type == ActType.Uokik) {\n",
    "            parseUokik();\n",
    "        }\n",
    "    }\n",
    "    // ...\n",
    "}"
   ]
  },
  {
   "cell_type": "markdown",
   "metadata": {
    "slideshow": {
     "slide_type": "notes"
    }
   },
   "source": [
    "Ten typ nie jest zamknięty ze względu na modyfikację, ponieważ dodanie nowego rodzaju ustawy będzie wymagało zmiany istniejącej implementacji."
   ]
  },
  {
   "cell_type": "code",
   "execution_count": null,
   "metadata": {
    "slideshow": {
     "slide_type": "subslide"
    }
   },
   "outputs": [],
   "source": [
    "abstract class LegalActParser {\n",
    "    private Options options;\n",
    "    \n",
    "    public LegalActParser(Options options) {\n",
    "        this.options = options;\n",
    "    }\n",
    "    \n",
    "    public abstract ActNode parse();\n",
    "}"
   ]
  },
  {
   "cell_type": "code",
   "execution_count": null,
   "metadata": {
    "slideshow": {
     "slide_type": "fragment"
    }
   },
   "outputs": [],
   "source": [
    "class ConstitutionActParser extends LegalActParser {\n",
    "    public ActNode parse() {\n",
    "        // ...\n",
    "    }\n",
    "}\n",
    "\n",
    "class UokikActParser extends LegalActParser {\n",
    "    public ActNode parse() {\n",
    "        // ...\n",
    "    }\n",
    "}"
   ]
  },
  {
   "cell_type": "code",
   "execution_count": null,
   "metadata": {
    "slideshow": {
     "slide_type": "subslide"
    }
   },
   "outputs": [],
   "source": [
    "interface Collection<E> {\n",
    "    // \"złamanie\" zasady Open/Close\n",
    "    public default Stream<E> stream() {\n",
    "        // ...\n",
    "    }\n",
    "}"
   ]
  },
  {
   "cell_type": "markdown",
   "metadata": {
    "slideshow": {
     "slide_type": "slide"
    }
   },
   "source": [
    "# Liskov substitution principle\n",
    "\n",
    "*\"objects in a program should be replaceable with instances of their subtypes without altering the correctness of that program.\"*\n",
    "\n",
    "* powinna istnieć możliwość zamiany obiektów jednej klasy, obiektami klasy z niej dziedziczącej \n",
    "  bez utraty poprawności działania programu\n",
    "* klasa nadrzędna powinna być zastępowalna klasami, które z niej dziedziczą"
   ]
  },
  {
   "cell_type": "code",
   "execution_count": null,
   "metadata": {
    "slideshow": {
     "slide_type": "subslide"
    }
   },
   "outputs": [],
   "source": [
    "interface List<E> {\n",
    "    /**\n",
    "    * Inserts the specified element at the specified position in this list (optional operation).\n",
    "    */\n",
    "    public boolean add(int index, E element);\n",
    "} "
   ]
  },
  {
   "cell_type": "code",
   "execution_count": null,
   "metadata": {
    "slideshow": {
     "slide_type": "fragment"
    }
   },
   "outputs": [],
   "source": [
    "class Collections {\n",
    "    static <T> List<T> unmodifiableList(List<? extends T> list) {\n",
    "        // ...\n",
    "    }\n",
    "}"
   ]
  },
  {
   "cell_type": "code",
   "execution_count": null,
   "metadata": {
    "slideshow": {
     "slide_type": "subslide"
    }
   },
   "outputs": [],
   "source": [
    "class ActNode {\n",
    "    private List<ActNode> children;\n",
    "    \n",
    "    public ActNode(List<ActNode> children) {\n",
    "        this.children = children;\n",
    "    }\n",
    "    \n",
    "    public add(Child node) {\n",
    "        this.children.add(node);\n",
    "    }\n",
    "}"
   ]
  },
  {
   "cell_type": "code",
   "execution_count": null,
   "metadata": {
    "slideshow": {
     "slide_type": "fragment"
    }
   },
   "outputs": [],
   "source": [
    "class ActNode {\n",
    "    // ???\n",
    "    public add(Child node) {\n",
    "        try {\n",
    "            this.children.add(node);\n",
    "        } catch(UnsupportedOperationException ex) {\n",
    "            System.out.println(\"Cannot add children to the node\");\n",
    "        }\n",
    "    }\n",
    "}"
   ]
  },
  {
   "cell_type": "markdown",
   "metadata": {
    "slideshow": {
     "slide_type": "slide"
    }
   },
   "source": [
    "# Interface segregation principle\n",
    "\n",
    "*\"many client-specific interfaces are better than one general-purpose interface.\"*\n",
    "\n",
    "* interfejsy powinny być zorganizowane w taki sposób, aby zbiory cech potrzebnych w różnych, \n",
    "  niezależnych kontekstach nie były zgromadzone w jednym interfejsie"
   ]
  },
  {
   "cell_type": "code",
   "execution_count": null,
   "metadata": {
    "slideshow": {
     "slide_type": "subslide"
    }
   },
   "outputs": [],
   "source": [
    "public interface IWorldMap {\n",
    "    boolean canMoveTo(Position position);\n",
    "    boolean place(Car car);\n",
    "    void run(MoveDirection[] directions);\n",
    "    boolean isOccupied(Position position);\n",
    "    Object objectAt(Position position);\n",
    "}"
   ]
  },
  {
   "cell_type": "code",
   "execution_count": null,
   "metadata": {
    "slideshow": {
     "slide_type": "subslide"
    }
   },
   "outputs": [],
   "source": [
    "public interface IWorldMap {\n",
    "    boolean canMoveTo(Position position);\n",
    "    boolean place(Car car);\n",
    "    boolean isOccupied(Position position);\n",
    "    Object objectAt(Position position);\n",
    "}\n",
    "\n",
    "public interface ICarRunner {\n",
    "    void run(MoveDirection[] directions);\n",
    "}"
   ]
  },
  {
   "cell_type": "markdown",
   "metadata": {
    "slideshow": {
     "slide_type": "slide"
    }
   },
   "source": [
    "# Dependency inversion principle\n",
    "\n",
    "*one should \"depend upon abstractions, (not) concretions.\"*\n",
    "\n",
    "* jeśli interfejs ma wiele implementacji, to klasa korzystająca z nich powinna deklarować ten interfejs, a nie \n",
    "  odwoływać się do konkretnych implementacji"
   ]
  },
  {
   "cell_type": "code",
   "execution_count": null,
   "metadata": {
    "slideshow": {
     "slide_type": "subslide"
    }
   },
   "outputs": [],
   "source": [
    "switch(options[0]) {\n",
    "    case \"konstytucja\" :\n",
    "        ParserKonstytucja parserK = new ParserKonstytucja(options);\n",
    "        // ...\n",
    "        break;\n",
    "    case \"uokik\":\n",
    "        ParserUokik parserU = new ParserUokik(options);\n",
    "        // ...\n",
    "        break;\n",
    "}"
   ]
  },
  {
   "cell_type": "code",
   "execution_count": null,
   "metadata": {},
   "outputs": [],
   "source": [
    "BillParser parser;\n",
    "\n",
    "switch(options[0]) {\n",
    "    case \"konstytucja\" :\n",
    "        parser = new ConstitutionParser(options);\n",
    "        break;\n",
    "    case \"uokik\":\n",
    "        parser = new RegularBillParser(options);\n",
    "        break;\n",
    "}"
   ]
  }
 ],
 "metadata": {
  "celltoolbar": "Slideshow",
  "kernelspec": {
   "display_name": "Python 3",
   "language": "python",
   "name": "python3"
  },
  "language_info": {
   "codemirror_mode": {
    "name": "ipython",
    "version": 3
   },
   "file_extension": ".py",
   "mimetype": "text/x-python",
   "name": "python",
   "nbconvert_exporter": "python",
   "pygments_lexer": "ipython3",
   "version": "3.6.4"
  }
 },
 "nbformat": 4,
 "nbformat_minor": 2
}
