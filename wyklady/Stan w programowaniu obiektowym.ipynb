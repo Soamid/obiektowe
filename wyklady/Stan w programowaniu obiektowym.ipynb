{
 "cells": [
  {
   "cell_type": "markdown",
   "metadata": {
    "slideshow": {
     "slide_type": "slide"
    }
   },
   "source": [
    "# Stan w programowaniu obiektowym\n",
    "\n",
    "## Zmienne instancyjne i klasowe, zasady dostępu do danych\n",
    "\n",
    "<br/>\n",
    "\n",
    "## dr inż. Aleksander Smywiński-Pohl\n",
    "\n",
    "## apohllo@agh.edu.pl\n",
    "\n",
    "## http://apohllo.pl/dydaktyka/programowanie-obiektowe\n",
    "\n",
    "## konsultacje: czwartek 14:45-15:45"
   ]
  },
  {
   "cell_type": "markdown",
   "metadata": {
    "slideshow": {
     "slide_type": "slide"
    }
   },
   "source": [
    "<center><img src=\"img/java_log.png\" style=\"height: 600px\" /></center>"
   ]
  },
  {
   "cell_type": "markdown",
   "metadata": {
    "slideshow": {
     "slide_type": "subslide"
    }
   },
   "source": [
    "# Sonda Mars Climate Orbiter\n",
    "\n",
    "&nbsp;\n",
    "\n",
    "<center><img src=\"img/mars.jpg\" width=\"700\"/></center>"
   ]
  },
  {
   "cell_type": "markdown",
   "metadata": {
    "slideshow": {
     "slide_type": "notes"
    }
   },
   "source": [
    "Przyczyną katastrofy sondo były użycie amerykańskich jednostek miar (funtów) w modelu odpowiedzialnym za obliczanie trajektorii lotu sondy. Pozostałe moduły używały jednostek SI i ciąg obliczany był w niutonach. Ta różnica doprowadziła do niewłaściwej korekty lotu i w efekcie katastrofy. Koszt misji wyniósł 326 milionów dolarów."
   ]
  },
  {
   "cell_type": "markdown",
   "metadata": {
    "slideshow": {
     "slide_type": "subslide"
    }
   },
   "source": [
    "# Program strukturalny"
   ]
  },
  {
   "cell_type": "code",
   "execution_count": null,
   "metadata": {
    "slideshow": {
     "slide_type": "fragment"
    }
   },
   "outputs": [],
   "source": [
    "struct SpaceProbe {\n",
    "    double spaceProbeSpeed;\n",
    "    double spaceProbeWeight;\n",
    "}\n",
    "\n",
    "double thrustCorrectionForX(struct SpaceProbe spaceProbe){\n",
    "    // operowanie na polach spaceProbeSpeed oraz spaceProbeWeight\n",
    "}\n",
    "\n",
    "double thrustCorrectionForY(struct SpaceProbe spaceProbe){\n",
    "    // ...\n",
    "}\n",
    "\n",
    "double thrustCorrectionForZ(struct SpaceProbe spaceProbe){\n",
    "    // ...\n",
    "}"
   ]
  },
  {
   "cell_type": "markdown",
   "metadata": {
    "slideshow": {
     "slide_type": "subslide"
    }
   },
   "source": [
    "# Primitive obsession"
   ]
  },
  {
   "cell_type": "code",
   "execution_count": null,
   "metadata": {
    "slideshow": {
     "slide_type": "fragment"
    }
   },
   "outputs": [],
   "source": [
    "class SpaceProbe {\n",
    "    private double speedX;\n",
    "    private double speedY;\n",
    "    private double speedZ;\n",
    "    private double weight;\n",
    "    \n",
    "    public double thrustCorrectionForX(double positionX, \n",
    "                      double positionY, double positionZ){\n",
    "        //...\n",
    "    }\n",
    "}"
   ]
  },
  {
   "cell_type": "markdown",
   "metadata": {
    "slideshow": {
     "slide_type": "notes"
    }
   },
   "source": [
    "Używanie typów prymitywnych tam, gdzie mamy do czynienia z wartościami domenowymi. Tutaj składowe wektora prędkości są osobnymi polami i nie mają jednostki. Masa też nie ma jednostki."
   ]
  },
  {
   "cell_type": "markdown",
   "metadata": {
    "slideshow": {
     "slide_type": "slide"
    }
   },
   "source": [
    "# Klasa `Speed`"
   ]
  },
  {
   "cell_type": "code",
   "execution_count": null,
   "metadata": {
    "ExecuteTime": {
     "end_time": "2021-10-27T06:25+0000",
     "start_time": "2021-10-27T06:25:16.286Z"
    },
    "cell_style": "split",
    "slideshow": {
     "slide_type": "fragment"
    }
   },
   "outputs": [],
   "source": [
    "class Speed {\n",
    "    public int value;\n",
    "    public String unit;\n",
    "    \n",
    "    public Speed(int value, String unit){\n",
    "        this.value = value;\n",
    "        this.unit = unit;\n",
    "    }\n",
    "}"
   ]
  },
  {
   "cell_type": "markdown",
   "metadata": {
    "cell_style": "split",
    "slideshow": {
     "slide_type": "notes"
    }
   },
   "source": [
    "* Klasa `Speed` definiuje dwa **pola**: value oraz unit. Służą one do przechowywania stanu obiektów klasy Speed. \n",
    "* Oba pola są *publiczne* oznacza to, że można je odczytywać i zapisywać *na zewnątrz* klasy. Oznacza to dokładnie, że każda inna klasa ma dostęp do tych pól.\n",
    "* Klasa posiada również publiczny konstruktor, który akceptuje dwa parametry. Te parametry wykorzystywane są do\n",
    "  *inicjalizacji* obiektów klasy `Speed`.\n",
    "* W konstruktorze występuje słowo kluczowe `this` - pozwala ono odróżnić zmienne lokalne `value` i `unit` od \n",
    "  zmiennych *instancyjnych* `value` i `unit`. Poprzedzenie nazwy zmiennej tym słowem, oznacza, że odnosimy się \n",
    "  do zmiennych, których właścicielem jest obiekt.\n",
    "* Jedna składowa wektora typu int została wprowadzona dla uproszczenia przykładu."
   ]
  },
  {
   "cell_type": "code",
   "execution_count": null,
   "metadata": {
    "ExecuteTime": {
     "end_time": "2021-10-27T06:25+0000",
     "start_time": "2021-10-27T06:25:18.203Z"
    },
    "cell_style": "split",
    "slideshow": {
     "slide_type": "fragment"
    }
   },
   "outputs": [],
   "source": [
    "Speed speed1 = new Speed(10, \"km/h\");\n",
    "Speed speed2 = new Speed(20, \"m/s\");"
   ]
  },
  {
   "cell_type": "markdown",
   "metadata": {
    "slideshow": {
     "slide_type": "notes"
    }
   },
   "source": [
    "* Dalej widzimy wykorzystanie konstruktora - słowo `new` służy do tworzenia nowych obiektów. \n",
    "  Wywołuje ono konstruktor z takimi samymi parametrami jak te zdefiniowane w klasie.\n",
    "* Wywołanie `speed1.value = 20` zmienia **stan** obiektu `speed1`."
   ]
  },
  {
   "cell_type": "markdown",
   "metadata": {
    "slideshow": {
     "slide_type": "fragment"
    }
   },
   "source": [
    "<center><img src=\"img/instance_variables.png\" /></center>"
   ]
  },
  {
   "cell_type": "code",
   "execution_count": null,
   "metadata": {
    "ExecuteTime": {
     "end_time": "2021-10-27T06:28+0000",
     "start_time": "2021-10-27T06:28:55.746Z"
    },
    "slideshow": {
     "slide_type": "subslide"
    }
   },
   "outputs": [],
   "source": [
    "speed1.value = 20;\n",
    "speed2.unit = \"km/h\";"
   ]
  },
  {
   "cell_type": "markdown",
   "metadata": {
    "slideshow": {
     "slide_type": "fragment"
    }
   },
   "source": [
    "<center><img src=\"img/instance_variables_2.png\"/></center>"
   ]
  },
  {
   "cell_type": "code",
   "execution_count": null,
   "metadata": {
    "slideshow": {
     "slide_type": "subslide"
    }
   },
   "outputs": [],
   "source": [
    "speed1.value = -10;\n",
    "speed2.unit = \"ala ma kota\";"
   ]
  },
  {
   "cell_type": "markdown",
   "metadata": {
    "slideshow": {
     "slide_type": "fragment"
    }
   },
   "source": [
    "<center><img src=\"img/public_1.png\"/></center>"
   ]
  },
  {
   "cell_type": "markdown",
   "metadata": {
    "slideshow": {
     "slide_type": "slide"
    }
   },
   "source": [
    "## 1 ulepszenie - użycie typu wyliczeniowego"
   ]
  },
  {
   "cell_type": "code",
   "execution_count": 2,
   "metadata": {
    "ExecuteTime": {
     "end_time": "2021-11-03T07:15+0000",
     "start_time": "2021-11-03T07:15:03.418Z"
    },
    "slideshow": {
     "slide_type": "fragment"
    }
   },
   "outputs": [],
   "source": [
    "enum SpeedUnit {\n",
    "    MS, KMH;\n",
    "}"
   ]
  },
  {
   "cell_type": "code",
   "execution_count": null,
   "metadata": {
    "ExecuteTime": {
     "end_time": "2021-10-27T06:39+0000",
     "start_time": "2021-10-27T06:39:12.146Z"
    },
    "cell_style": "split",
    "slideshow": {
     "slide_type": "fragment"
    }
   },
   "outputs": [],
   "source": [
    "class Speed {\n",
    "    public int value;\n",
    "    public SpeedUnit unit;\n",
    "    \n",
    "    public Speed(int value, SpeedUnit unit){\n",
    "        this.value = value;\n",
    "        this.unit = unit;\n",
    "    }\n",
    "    \n",
    "    public String toString(){\n",
    "        return this.value + \" \" + this.unit;\n",
    "    }\n",
    "}"
   ]
  },
  {
   "cell_type": "code",
   "execution_count": null,
   "metadata": {
    "ExecuteTime": {
     "end_time": "2021-10-27T06:39+0000",
     "start_time": "2021-10-27T06:39:15.822Z"
    },
    "cell_style": "split",
    "slideshow": {
     "slide_type": "fragment"
    }
   },
   "outputs": [],
   "source": [
    "Speed speed1 = new Speed(10, SpeedUnit.KMH);\n",
    "Speed speed2 = new Speed(20, SpeedUnit.MS);\n",
    "System.out.println(speed1);"
   ]
  },
  {
   "cell_type": "markdown",
   "metadata": {
    "slideshow": {
     "slide_type": "fragment"
    }
   },
   "source": [
    "<center><img src=\"img/instance_variables_5.png\"/></center>"
   ]
  },
  {
   "cell_type": "markdown",
   "metadata": {
    "slideshow": {
     "slide_type": "subslide"
    }
   },
   "source": [
    "# 2 ulepszenie - użycie modyfikatora `private`"
   ]
  },
  {
   "cell_type": "code",
   "execution_count": null,
   "metadata": {
    "ExecuteTime": {
     "end_time": "2021-10-27T06:41+0000",
     "start_time": "2021-10-27T06:41:51.145Z"
    },
    "slideshow": {
     "slide_type": "fragment"
    }
   },
   "outputs": [],
   "source": [
    "class SpaceProbe {\n",
    "    private Speed speed;\n",
    "    \n",
    "    public SpaceProbe(Speed speed){\n",
    "        this.speed = speed;\n",
    "    }\n",
    "    \n",
    "    public Speed getSpeed(){\n",
    "        return this.speed;\n",
    "    }\n",
    "}"
   ]
  },
  {
   "cell_type": "code",
   "execution_count": null,
   "metadata": {
    "ExecuteTime": {
     "end_time": "2021-10-27T06:42+0000",
     "start_time": "2021-10-27T06:42:08.994Z"
    },
    "slideshow": {
     "slide_type": "fragment"
    }
   },
   "outputs": [],
   "source": [
    "SpaceProbe probe1 = new SpaceProbe(new Speed(10, SpeedUnit.KMH));\n",
    "\n",
    "probe1.speed = new Speed(10, SpeedUnit.MS);"
   ]
  },
  {
   "cell_type": "code",
   "execution_count": null,
   "metadata": {
    "ExecuteTime": {
     "end_time": "2021-10-27T06:44+0000",
     "start_time": "2021-10-27T06:44:03.894Z"
    },
    "slideshow": {
     "slide_type": "fragment"
    }
   },
   "outputs": [],
   "source": [
    "SpaceProbe probe1 = new SpaceProbe(new Speed(10, SpeedUnit.KMH));\n",
    "Speed speed1 = probe1.getSpeed();\n",
    "\n",
    "speed1.unit = SpeedUnit.MS;\n",
    "\n",
    "System.out.println(probe1.getSpeed().unit);"
   ]
  },
  {
   "cell_type": "markdown",
   "metadata": {
    "slideshow": {
     "slide_type": "notes"
    }
   },
   "source": [
    "W Javie wszystkie wartoście z wyjątkiem prymitywnych są zawsze przekazywane przez referencję."
   ]
  },
  {
   "cell_type": "markdown",
   "metadata": {
    "slideshow": {
     "slide_type": "slide"
    }
   },
   "source": [
    "# 3 ulepszenie -  modyfikator `final` - `Speed` jako ValueObject"
   ]
  },
  {
   "cell_type": "code",
   "execution_count": null,
   "metadata": {
    "ExecuteTime": {
     "end_time": "2021-10-27T06:52+0000",
     "start_time": "2021-10-27T06:52:17.348Z"
    },
    "slideshow": {
     "slide_type": "fragment"
    }
   },
   "outputs": [],
   "source": [
    "class Speed {\n",
    "    public final int value;\n",
    "    public final SpeedUnit unit;\n",
    "    \n",
    "    public Speed(int value, SpeedUnit unit){\n",
    "        this.value = value;\n",
    "        this.unit = unit;\n",
    "    }\n",
    "}"
   ]
  },
  {
   "cell_type": "code",
   "execution_count": null,
   "metadata": {
    "ExecuteTime": {
     "end_time": "2021-10-27T06:53+0000",
     "start_time": "2021-10-27T06:53:52.983Z"
    },
    "slideshow": {
     "slide_type": "fragment"
    }
   },
   "outputs": [],
   "source": [
    "SpaceProbe probe1 = new SpaceProbe(new Speed(10, SpeedUnit.KMH));\n",
    "Speed speed1 = probe1.getSpeed();\n",
    "//System.out.println(speed1.unit);\n",
    "speed1.unit = SpeedUnit.MS;"
   ]
  },
  {
   "cell_type": "markdown",
   "metadata": {
    "slideshow": {
     "slide_type": "subslide"
    }
   },
   "source": [
    "# Value Object\n",
    "\n",
    "<center><img src=\"img/room_temperature.png\" width=\"300\"/></center>"
   ]
  },
  {
   "cell_type": "markdown",
   "metadata": {
    "slideshow": {
     "slide_type": "notes"
    }
   },
   "source": [
    "* ValueObject nie może zmienić swojej wartości - jest jak liczba, znak, etc. Przykładem może być konkretna temperatura 20 stopni C.\n",
    "* Inny obiekt korzystający z ValueObject może zminić wartość *parametru wyrażanego za pomocą* ValueObject. Np. temperatura pokoju moze zmienić się z 20 na 22. Ale same valueObjects się nie zmienią. "
   ]
  },
  {
   "cell_type": "markdown",
   "metadata": {
    "slideshow": {
     "slide_type": "slide"
    }
   },
   "source": [
    "# Jak działa modyfikator `private`?"
   ]
  },
  {
   "cell_type": "code",
   "execution_count": null,
   "metadata": {
    "ExecuteTime": {
     "end_time": "2021-10-27T06:56+0000",
     "start_time": "2021-10-27T06:56:59.210Z"
    },
    "cell_style": "split",
    "slideshow": {
     "slide_type": "fragment"
    }
   },
   "outputs": [],
   "source": [
    "class Speed {\n",
    "    private int value;\n",
    "    private SpeedUnit unit;\n",
    "\n",
    "    public Speed(int value, SpeedUnit unit){\n",
    "        this.value = value;\n",
    "        this.unit = unit;\n",
    "    }\n",
    "}"
   ]
  },
  {
   "cell_type": "markdown",
   "metadata": {
    "cell_style": "split",
    "slideshow": {
     "slide_type": "notes"
    }
   },
   "source": [
    "Tutaj usunęliśmy modyfikator `final` żeby pokazać jak działa modyfikator `private`."
   ]
  },
  {
   "cell_type": "code",
   "execution_count": null,
   "metadata": {
    "ExecuteTime": {
     "end_time": "2021-10-27T06:57+0000",
     "start_time": "2021-10-27T06:57:02.750Z"
    },
    "cell_style": "split",
    "slideshow": {
     "slide_type": "fragment"
    }
   },
   "outputs": [],
   "source": [
    "class SpaceProbe {\n",
    "    private Speed speed;\n",
    "    \n",
    "    public void accelerate(Speed delta){\n",
    "        speed.value += delta.value;\n",
    "    }\n",
    "}"
   ]
  },
  {
   "cell_type": "markdown",
   "metadata": {
    "slideshow": {
     "slide_type": "notes"
    }
   },
   "source": [
    "* Obiekty \"zewnętrzne\" nie mogą **odczytywać** ani **zapisywać** wartości pól prywatnych. Ale co to znaczy?"
   ]
  },
  {
   "cell_type": "code",
   "execution_count": null,
   "metadata": {
    "ExecuteTime": {
     "end_time": "2021-10-27T07:02+0000",
     "start_time": "2021-10-27T07:02:50.436Z"
    },
    "cell_style": "split",
    "slideshow": {
     "slide_type": "subslide"
    }
   },
   "outputs": [],
   "source": [
    "class Speed {\n",
    "    private int value;\n",
    "    private SpeedUnit unit;\n",
    "\n",
    "    public Speed(int value, SpeedUnit unit){\n",
    "        this.value = value;\n",
    "        this.unit = unit;\n",
    "    }\n",
    "    \n",
    "    public Speed add(Speed that){\n",
    "        if(this.unit == that.unit){\n",
    "            return new Speed(this.value + that.value,\n",
    "                             this.unit);\n",
    "        } else {\n",
    "            return null;\n",
    "        }\n",
    "    }\n",
    "    \n",
    "    public boolean isLower(int value){\n",
    "        return this.value < value;\n",
    "    }\n",
    "}"
   ]
  },
  {
   "cell_type": "code",
   "execution_count": null,
   "metadata": {
    "ExecuteTime": {
     "end_time": "2021-10-27T07:02+0000",
     "start_time": "2021-10-27T07:02:51.681Z"
    },
    "cell_style": "split",
    "slideshow": {
     "slide_type": "fragment"
    }
   },
   "outputs": [],
   "source": [
    "class SpaceProbe {\n",
    "    private Speed speed;\n",
    "    private static final int MAXIMUM_SPEED = 100;\n",
    "\n",
    "    public void accelerate(Speed delta){\n",
    "        Speed newSpeed = this.speed.add(delta);\n",
    "        if(newSpeed.isLower(MAXIMUM_SPEED)){\n",
    "            this.speed = newSpeed;\n",
    "        }\n",
    "    }\n",
    "}"
   ]
  },
  {
   "cell_type": "markdown",
   "metadata": {
    "slideshow": {
     "slide_type": "subslide"
    }
   },
   "source": [
    "<center><img src=\"img/private.png\"/></center>"
   ]
  },
  {
   "cell_type": "markdown",
   "metadata": {
    "slideshow": {
     "slide_type": "subslide"
    }
   },
   "source": [
    "# Type `record`"
   ]
  },
  {
   "cell_type": "code",
   "execution_count": 11,
   "metadata": {
    "ExecuteTime": {
     "end_time": "2021-11-03T07:18+0000",
     "start_time": "2021-11-03T07:18:08.293Z"
    },
    "slideshow": {
     "slide_type": "fragment"
    }
   },
   "outputs": [
    {
     "name": "stdout",
     "output_type": "stream",
     "text": [
      "10\n",
      "Speed[value=10, unit=MS]\n",
      "true\n",
      "920044988\n",
      "920044988\n"
     ]
    }
   ],
   "source": [
    "import static java.lang.System.out;\n",
    "\n",
    "record Speed(int value, SpeedUnit unit){};\n",
    "\n",
    "Speed speed1 = new Speed(10, SpeedUnit.MS);\n",
    "Speed speed2 = new Speed(10, SpeedUnit.MS);\n",
    "\n",
    "out.println(speed1.value());\n",
    "out.println(speed1);\n",
    "out.println(speed1.equals(speed2));\n",
    "out.println(speed1.hashCode());\n",
    "out.println(speed2.hashCode());"
   ]
  },
  {
   "cell_type": "markdown",
   "metadata": {
    "slideshow": {
     "slide_type": "slide"
    }
   },
   "source": [
    "# Modyfikator `protected`\n",
    "\n",
    "<center><img src=\"img/protection.png\" width=\"500px\"/></center>"
   ]
  },
  {
   "cell_type": "code",
   "execution_count": null,
   "metadata": {
    "ExecuteTime": {
     "end_time": "2021-10-27T07:07+0000",
     "start_time": "2021-10-27T07:07:33.755Z"
    },
    "cell_style": "split",
    "slideshow": {
     "slide_type": "subslide"
    }
   },
   "outputs": [],
   "source": [
    "class Speed {\n",
    "    protected SpeedUnit unit;\n",
    "    \n",
    "    public Speed(SpeedUnit unit){\n",
    "        this.unit = unit;\n",
    "    }\n",
    "    \n",
    "    public Speed add(Speed delta){\n",
    "        // dimensionless speed just reproduces itself\n",
    "        return this; \n",
    "    }\n",
    "}"
   ]
  },
  {
   "cell_type": "code",
   "execution_count": null,
   "metadata": {
    "ExecuteTime": {
     "end_time": "2021-10-27T07:10+0000",
     "start_time": "2021-10-27T07:10:28.914Z"
    },
    "cell_style": "split",
    "slideshow": {
     "slide_type": "fragment"
    }
   },
   "outputs": [],
   "source": [
    "class Speed1D extends Speed {\n",
    "    protected int value;\n",
    "\n",
    "    public Speed1D(int value, SpeedUnit unit){\n",
    "        super(unit);\n",
    "        this.value = value;\n",
    "    }\n",
    "    \n",
    "    public Speed1D add(Speed delta){\n",
    "        if(!(delta instanceof Speed1D))\n",
    "            return this;\n",
    "        \n",
    "        Speed1D delta1d = (Speed1D) delta;\n",
    "        if(this.unit != delta1d.unit)\n",
    "            return this;\n",
    "        \n",
    "        return new Speed1D(this.value + delta1d.value,\n",
    "                                  this.unit);\n",
    "    }\n",
    "    \n",
    "    public String toString(){\n",
    "        return \"(\" + this.value + \") \" + \n",
    "            this.unit;\n",
    "    }\n",
    "}"
   ]
  },
  {
   "cell_type": "code",
   "execution_count": null,
   "metadata": {
    "ExecuteTime": {
     "end_time": "2021-10-27T07:10+0000",
     "start_time": "2021-10-27T07:10:37.044Z"
    },
    "slideshow": {
     "slide_type": "subslide"
    }
   },
   "outputs": [],
   "source": [
    "Speed speed1 = new Speed1D(10, SpeedUnit.KMH);\n",
    "Speed speed2 = new Speed1D(20, SpeedUnit.KMH);\n",
    "\n",
    "Speed speed3 = speed1.add(speed2);\n",
    "System.out.println(speed3);"
   ]
  },
  {
   "cell_type": "code",
   "execution_count": null,
   "metadata": {
    "ExecuteTime": {
     "end_time": "2021-10-27T07:12+0000",
     "start_time": "2021-10-27T07:12:37.360Z"
    },
    "slideshow": {
     "slide_type": "subslide"
    }
   },
   "outputs": [],
   "source": [
    "class Speed3D extends Speed {\n",
    "    protected int valueX;\n",
    "    protected int valueY;\n",
    "    protected int valueZ;\n",
    "\n",
    "    public Speed3D(int x, int y, int z, SpeedUnit unit){\n",
    "        super(unit);\n",
    "        this.valueX = x;\n",
    "        this.valueY = y;\n",
    "        this.valueZ = z;\n",
    "    }\n",
    "    \n",
    "    public Speed add(Speed delta){\n",
    "        if(!(delta instanceof Speed3D))\n",
    "            return this;    \n",
    "        \n",
    "        Speed3D delta3d = (Speed3D) delta;\n",
    "        if(this.unit != delta3d.unit)\n",
    "            return this;\n",
    "            \n",
    "        return new Speed3D(this.valueX + delta3d.valueX, this.valueY + delta3d.valueY,\n",
    "                           this.valueZ + delta3d.valueZ, this.unit);\n",
    "    }\n",
    "    \n",
    "    public String toString(){\n",
    "        return \"(\" + this.valueX + \",\" + this.valueY + \",\" + this.valueZ + \") \" + this.unit;\n",
    "    }\n",
    "}"
   ]
  },
  {
   "cell_type": "code",
   "execution_count": null,
   "metadata": {
    "ExecuteTime": {
     "end_time": "2021-10-27T07:12+0000",
     "start_time": "2021-10-27T07:12:47.734Z"
    },
    "slideshow": {
     "slide_type": "subslide"
    }
   },
   "outputs": [],
   "source": [
    "Speed speed1 = new Speed3D(10, 10, 10, SpeedUnit.KMH);\n",
    "Speed speed2 = new Speed3D(30, 40, 50, SpeedUnit.KMH);\n",
    "\n",
    "Speed speed3 = speed1.add(speed2);\n",
    "System.out.println(speed3);"
   ]
  },
  {
   "cell_type": "code",
   "execution_count": null,
   "metadata": {
    "ExecuteTime": {
     "end_time": "2021-10-27T07:14+0000",
     "start_time": "2021-10-27T07:14:11.192Z"
    },
    "slideshow": {
     "slide_type": "subslide"
    }
   },
   "outputs": [],
   "source": [
    "class Speed3D extends Speed {\n",
    "    protected int valueX;\n",
    "    protected int valueY;\n",
    "    protected int valueZ;\n",
    "\n",
    "    public Speed3D(int x, int y, int z, SpeedUnit unit){\n",
    "        super(unit);\n",
    "        this.valueX = x;\n",
    "        this.valueY = y;\n",
    "        this.valueZ = z;\n",
    "    }\n",
    "    \n",
    "    public Speed add(Speed delta){\n",
    "        if(!(delta instanceof Speed1D))\n",
    "            return this;\n",
    "        \n",
    "        Speed1D delta1d = (Speed1D) delta;\n",
    "        if(this.unit != delta1d.unit)\n",
    "            return this;\n",
    "        \n",
    "        return new Speed3D(this.valueX + delta1d.value, this.valueY + delta1d.value,\n",
    "            this.valueZ + delta1d.value, this.unit);\n",
    "    }\n",
    "    \n",
    "    public String toString(){\n",
    "        return \"(\" + this.valueX + \",\" + this.valueY + \",\" + this.valueZ + \") \" + this.unit;\n",
    "    }\n",
    "}"
   ]
  },
  {
   "cell_type": "code",
   "execution_count": null,
   "metadata": {
    "ExecuteTime": {
     "end_time": "2021-10-27T07:14+0000",
     "start_time": "2021-10-27T07:14:12.907Z"
    },
    "slideshow": {
     "slide_type": "subslide"
    }
   },
   "outputs": [],
   "source": [
    "Speed speed1 = new Speed3D(10, 10, 10, SpeedUnit.KMH);\n",
    "Speed speed2 = new Speed1D(30, SpeedUnit.KMH);\n",
    "\n",
    "Speed speed3 = speed1.add(speed2);\n",
    "System.out.println(speed3);"
   ]
  },
  {
   "cell_type": "markdown",
   "metadata": {
    "slideshow": {
     "slide_type": "subslide"
    }
   },
   "source": [
    "<center><img src=\"img/protected.png\"/></center>"
   ]
  },
  {
   "cell_type": "markdown",
   "metadata": {
    "slideshow": {
     "slide_type": "notes"
    }
   },
   "source": [
    "Nie ma dostępu pod warunkiem, że klasa Speed3D jest w innym pakiecie. Jeśli są w tym samym pakiecie, to klasa \n",
    "Speed3D ma nadal dostęp do pól klasy Speed1D, ponieważ dostęp chroniony implikuje dostęp pakietowy."
   ]
  },
  {
   "cell_type": "markdown",
   "metadata": {
    "slideshow": {
     "slide_type": "slide"
    }
   },
   "source": [
    "# Dostęp pakietowy\n",
    "\n",
    "<center><img src=\"img/parcel.jpg\"/></center>"
   ]
  },
  {
   "cell_type": "code",
   "execution_count": null,
   "metadata": {
    "ExecuteTime": {
     "end_time": "2021-10-27T07:15+0000",
     "start_time": "2021-10-27T07:15:59.319Z"
    },
    "slideshow": {
     "slide_type": "subslide"
    }
   },
   "outputs": [],
   "source": [
    "//package agh.cs.lecture;\n",
    "\n",
    "class Speed {\n",
    "    /* package */ int value;\n",
    "    /* package */ SpeedUnit unit;\n",
    "    \n",
    "    public Speed(int value, SpeedUnit unit){\n",
    "        this.value = value;\n",
    "        this.unit = unit;\n",
    "    }\n",
    "}"
   ]
  },
  {
   "cell_type": "code",
   "execution_count": null,
   "metadata": {
    "ExecuteTime": {
     "end_time": "2021-10-27T07:16+0000",
     "start_time": "2021-10-27T07:16:03.161Z"
    },
    "slideshow": {
     "slide_type": "fragment"
    }
   },
   "outputs": [],
   "source": [
    "//package agh.cs.lecture;\n",
    "\n",
    "class SpaceProbe {\n",
    "    private Speed speed;\n",
    "    \n",
    "    public void accelerate(Speed delta){\n",
    "        if(this.speed.unit == delta.unit){           // dozwolone\n",
    "            //..\n",
    "        }\n",
    "    }\n",
    "}"
   ]
  },
  {
   "cell_type": "code",
   "execution_count": null,
   "metadata": {
    "slideshow": {
     "slide_type": "subslide"
    }
   },
   "outputs": [],
   "source": [
    "//package com.mycompany;\n",
    "\n",
    "class SpaceShip {\n",
    "    private Speed speed;\n",
    "\n",
    "    public void accelerate(Speed delta){\n",
    "        if(this.speed.unit == delta.unit){           // niedozwolone!\n",
    "            //..\n",
    "        }\n",
    "    }\n",
    "}"
   ]
  },
  {
   "cell_type": "markdown",
   "metadata": {
    "slideshow": {
     "slide_type": "subslide"
    }
   },
   "source": [
    "<center><img src=\"img/package_access.png\"/></center>"
   ]
  },
  {
   "cell_type": "markdown",
   "metadata": {
    "slideshow": {
     "slide_type": "subslide"
    }
   },
   "source": [
    "# Podsumowanie modyfikatorów dostępu\n",
    "\n",
    "&nbsp;\n",
    "\n",
    "\n",
    "| &nbsp;                                | private | default   | protected | public |\n",
    "|---------------------------------------|---------|-----------|-----------|--------|\n",
    "| ta sama klasa                         | +       | +         | +         | +      |\n",
    "| klasa w tym samym pakiecie            | -       | +         | +         | +      |\n",
    "| klasa dziedzicząca (z innego pakietu) | -       | -         | +         | +      |\n",
    "| pozostałe klasy                       | -       | -         | -         | +      |"
   ]
  },
  {
   "cell_type": "markdown",
   "metadata": {
    "cell_style": "split",
    "slideshow": {
     "slide_type": "slide"
    }
   },
   "source": [
    "# Metody dostępowe - \"gettery\"\n",
    "\n",
    "&nbsp;\n",
    "\n",
    "<center><img src=\"img/getter.jpg\"/></center>"
   ]
  },
  {
   "cell_type": "markdown",
   "metadata": {
    "cell_style": "split",
    "slideshow": {
     "slide_type": "-"
    }
   },
   "source": [
    "# &nbsp;"
   ]
  },
  {
   "cell_type": "code",
   "execution_count": null,
   "metadata": {
    "cell_style": "split",
    "slideshow": {
     "slide_type": "fragment"
    }
   },
   "outputs": [],
   "source": [
    "class Speed {\n",
    "    private final int value;\n",
    "    private final SpeedUnit unit;\n",
    "    \n",
    "    public Speed(int value, SpeedUnit unit){\n",
    "        this.value = value;\n",
    "        this.unit = unit;\n",
    "    }\n",
    "    \n",
    "    public int getValue(){\n",
    "        return this.value;\n",
    "    }\n",
    "    \n",
    "    public SpeedUnit getUnit(){\n",
    "        return this.unit;\n",
    "    }\n",
    "}"
   ]
  },
  {
   "cell_type": "markdown",
   "metadata": {
    "slideshow": {
     "slide_type": "notes"
    }
   },
   "source": [
    "Użycie getterów jest ok, pod warunkiem, że zwracamy wartości niemodyfikowalne. Dlatego tak ważne są ValueObjects."
   ]
  },
  {
   "cell_type": "markdown",
   "metadata": {
    "slideshow": {
     "slide_type": "subslide"
    }
   },
   "source": [
    "# Dostęp dziedzinowy"
   ]
  },
  {
   "cell_type": "code",
   "execution_count": null,
   "metadata": {
    "slideshow": {
     "slide_type": "fragment"
    }
   },
   "outputs": [],
   "source": [
    "class Speed {\n",
    "    private final int value;\n",
    "    private final SpeedUnit unit;\n",
    "    \n",
    "    public Speed(int value, SpeedUnit unit){\n",
    "        this.value = value;\n",
    "        this.unit = unit;\n",
    "    }\n",
    "    \n",
    "    public int getValueInMS(){\n",
    "        if(this.unit == SpeedUnit.MS){\n",
    "            return value;\n",
    "        } else {\n",
    "            return convert(this.unit, SpeedUnit.MS, this.value);\n",
    "        }\n",
    "    }\n",
    "    \n",
    "    public int getValueInKMH(){\n",
    "        //...\n",
    "        return 0;\n",
    "    }\n",
    "    \n",
    "    private int convert(SpeedUnit from, SpeedUnit to, int value){\n",
    "        if(from == SpeedUnit.KMH && to == SpeedUnit.MS) {\n",
    "            return (int)Math.round(value / 3.6);\n",
    "        } else {\n",
    "            //...\n",
    "            return 0;\n",
    "        }\n",
    "    }\n",
    "}"
   ]
  },
  {
   "cell_type": "markdown",
   "metadata": {
    "slideshow": {
     "slide_type": "notes"
    }
   },
   "source": [
    "Znacznie lepiej jednak wyposażyć gettery w dodatkowe własności, które ułatwiają używanie danej klasy.\n",
    "Np. w odniesieniu do prędkości można pobrać jej wartość w określonej jednostce, co wpływa na czytelność kodu.\n",
    "Z drugiej jednak strony, warto pamiętać o tym, że najlepiej jest rozwinąć API w taki sposób, żeby nie trzeba było\n",
    "\"majstrować\" z wewnętrznym stanem."
   ]
  },
  {
   "cell_type": "markdown",
   "metadata": {
    "cell_style": "split",
    "slideshow": {
     "slide_type": "subslide"
    }
   },
   "source": [
    "# Metody dostępowe - \"settery\"\n",
    "\n",
    "&nbsp;\n",
    "<center><img src=\"img/setter.jpg\" /></center>"
   ]
  },
  {
   "cell_type": "markdown",
   "metadata": {
    "cell_style": "split",
    "slideshow": {
     "slide_type": "-"
    }
   },
   "source": [
    "&nbsp;"
   ]
  },
  {
   "cell_type": "code",
   "execution_count": null,
   "metadata": {
    "cell_style": "split",
    "slideshow": {
     "slide_type": "fragment"
    }
   },
   "outputs": [],
   "source": [
    "class Speed {\n",
    "    private int value;\n",
    "    private SpeedUnit unit;\n",
    "    \n",
    "    public void setValue(int value){\n",
    "        this.value = value;\n",
    "    }\n",
    "    \n",
    "    public void setUnit(SpeedUnit unit){\n",
    "        this.value = convert(this.unit, unit, \n",
    "                             this.value);\n",
    "        this.unit = unit;\n",
    "    }\n",
    "}"
   ]
  },
  {
   "cell_type": "markdown",
   "metadata": {
    "slideshow": {
     "slide_type": "notes"
    }
   },
   "source": [
    "To już nie jest \"value object\" !!"
   ]
  },
  {
   "cell_type": "markdown",
   "metadata": {
    "slideshow": {
     "slide_type": "subslide"
    }
   },
   "source": [
    "# Utrzymywanie jednolitej reprezentacji"
   ]
  },
  {
   "cell_type": "code",
   "execution_count": null,
   "metadata": {
    "slideshow": {
     "slide_type": "fragment"
    }
   },
   "outputs": [],
   "source": [
    "class Speed {\n",
    "    private int valueInMs;\n",
    "    private SpeedUnit unit;\n",
    "    \n",
    "    public Speed(int value, SpeedUnit unit){\n",
    "        this.valueInMs = convert(unit, SpeedUnit.MS, value);\n",
    "        this.unit = unit;\n",
    "    }\n",
    "    \n",
    "    public int getValue(){\n",
    "        return convert(SpeedUnit.MS, this.unit, this.valueInMs);\n",
    "    }\n",
    "    \n",
    "    public void setValue(int value){\n",
    "        this.valueInMs = convert(unit, SpeedUnit.MS, value);\n",
    "    }\n",
    "    \n",
    "    public void setUnit(SpeedUnit unit){\n",
    "        this.unit = unit;\n",
    "    }\n",
    "    \n",
    "    private int convert(SpeedUnit fromUnit, SpeedUnit toUnit, int value){\n",
    "        //...\n",
    "        return 0;\n",
    "    }\n",
    "}"
   ]
  },
  {
   "cell_type": "markdown",
   "metadata": {
    "slideshow": {
     "slide_type": "subslide"
    }
   },
   "source": [
    "# ValueObject - konwersja"
   ]
  },
  {
   "cell_type": "code",
   "execution_count": null,
   "metadata": {
    "slideshow": {
     "slide_type": "fragment"
    }
   },
   "outputs": [],
   "source": [
    "class Speed {\n",
    "    private final int value;\n",
    "    private final SpeedUnit unit;\n",
    "    \n",
    "    public Speed(int value, SpeedUnit unit){\n",
    "        this.value = value;\n",
    "        this.unit = unit;\n",
    "    }\n",
    "    \n",
    "    public Speed convertToMs(){\n",
    "        if(this.unit == SpeedUnit.MS){\n",
    "            return this;\n",
    "        } else {\n",
    "            return new Speed(convert(this.unit, SpeedUnit.MS, this.value), \n",
    "                             SpeedUnit.MS);\n",
    "        }\n",
    "    }\n",
    "}"
   ]
  },
  {
   "cell_type": "markdown",
   "metadata": {
    "slideshow": {
     "slide_type": "slide"
    }
   },
   "source": [
    "# Shadowing\n",
    "\n",
    "<center><img src=\"img/shadow.jpg\" width=\"900px\"/></center>"
   ]
  },
  {
   "cell_type": "code",
   "execution_count": null,
   "metadata": {
    "ExecuteTime": {
     "end_time": "2021-10-27T07:27+0000",
     "start_time": "2021-10-27T07:27:33.331Z"
    },
    "cell_style": "center",
    "slideshow": {
     "slide_type": "subslide"
    }
   },
   "outputs": [],
   "source": [
    "enum SpeedUnit { MS, KMH }"
   ]
  },
  {
   "cell_type": "code",
   "execution_count": null,
   "metadata": {
    "ExecuteTime": {
     "end_time": "2021-10-27T07:28+0000",
     "start_time": "2021-10-27T07:28:23.648Z"
    },
    "cell_style": "split",
    "slideshow": {
     "slide_type": "fragment"
    }
   },
   "outputs": [],
   "source": [
    "class Speed {\n",
    "    private SpeedUnit unit;\n",
    "    \n",
    "    public Speed(SpeedUnit unit){\n",
    "        this.unit = unit;\n",
    "    }\n",
    "    \n",
    "    public SpeedUnit getSuperUnit(){\n",
    "        return this.unit;\n",
    "    }\n",
    "    \n",
    "    public SpeedUnit getUnit(){\n",
    "        return this.unit;\n",
    "    }\n",
    "}"
   ]
  },
  {
   "cell_type": "code",
   "execution_count": null,
   "metadata": {
    "ExecuteTime": {
     "end_time": "2021-10-27T07:29+0000",
     "start_time": "2021-10-27T07:29:33.792Z"
    },
    "cell_style": "split",
    "slideshow": {
     "slide_type": "fragment"
    }
   },
   "outputs": [],
   "source": [
    "class Speed1D extends Speed{\n",
    "    private SpeedUnit unit = SpeedUnit.KMH; // <--!\n",
    "    private int value;\n",
    "    \n",
    "    public Speed1D(int value, SpeedUnit unit){\n",
    "        super(unit);\n",
    "        this.value = value;\n",
    "    }\n",
    "    \n",
    "    public SpeedUnit getUnit(){\n",
    "        return this.unit;\n",
    "    }\n",
    "}"
   ]
  },
  {
   "cell_type": "code",
   "execution_count": null,
   "metadata": {
    "ExecuteTime": {
     "end_time": "2021-10-27T07:29+0000",
     "start_time": "2021-10-27T07:29:38.873Z"
    },
    "slideshow": {
     "slide_type": "fragment"
    }
   },
   "outputs": [],
   "source": [
    "Speed speed1 = new Speed1D(10, SpeedUnit.MS);\n",
    "System.out.println(speed1.getUnit());\n",
    "System.out.println(speed1.getSuperUnit());"
   ]
  },
  {
   "cell_type": "markdown",
   "metadata": {
    "slideshow": {
     "slide_type": "notes"
    }
   },
   "source": [
    "Metoda jest wirtualna, ale to co \"widzi\" zależne jest od klasy, w której jest zdefiniowana."
   ]
  },
  {
   "cell_type": "markdown",
   "metadata": {
    "slideshow": {
     "slide_type": "subslide"
    }
   },
   "source": [
    "<center><img src=\"img/shadowing.png\"/></center>"
   ]
  },
  {
   "cell_type": "code",
   "execution_count": 12,
   "metadata": {
    "ExecuteTime": {
     "end_time": "2021-11-03T07:21+0000",
     "start_time": "2021-11-03T07:21:23.814Z"
    },
    "slideshow": {
     "slide_type": "subslide"
    }
   },
   "outputs": [
    {
     "name": "stdout",
     "output_type": "stream",
     "text": [
      "MS\n",
      "KMH\n"
     ]
    }
   ],
   "source": [
    "class Speed {\n",
    "    public SpeedUnit unit;\n",
    "    \n",
    "    public Speed(SpeedUnit unit){\n",
    "        this.unit = unit;\n",
    "    }\n",
    "}\n",
    "\n",
    "class Speed1D extends Speed {\n",
    "    public SpeedUnit unit = SpeedUnit.KMH; // <-----!\n",
    "    public int value;\n",
    "    \n",
    "    public Speed1D(SpeedUnit unit, int value){\n",
    "        super(unit);\n",
    "        this.value = value;\n",
    "    }\n",
    "}\n",
    "\n",
    "Speed speed1 = new Speed1D(SpeedUnit.MS, 10);\n",
    "System.out.println(speed1.unit);\n",
    "\n",
    "Speed1D speed2 = (Speed1D) speed1;\n",
    "System.out.println(speed2.unit);"
   ]
  },
  {
   "cell_type": "markdown",
   "metadata": {
    "slideshow": {
     "slide_type": "notes"
    }
   },
   "source": [
    "Atrybuty, w przeciwieństwie do metod, nie są wirtualne - to co \"widzimy\", zależne jest od zadeklarowanego typu zmiennej.\n",
    "\n",
    "**TUTAJ SKOŃCZYŁEM**"
   ]
  },
  {
   "cell_type": "markdown",
   "metadata": {
    "cell_style": "split",
    "slideshow": {
     "slide_type": "slide"
    }
   },
   "source": [
    "# Zmienne statyczne\n",
    "\n",
    "<center><img src=\"img/static.jpg\" /></center>"
   ]
  },
  {
   "cell_type": "code",
   "execution_count": null,
   "metadata": {
    "cell_style": "split",
    "slideshow": {
     "slide_type": "fragment"
    }
   },
   "outputs": [],
   "source": [
    "class Speed {\n",
    "    private int value;\n",
    "    private SpeedUnit unit;\n",
    "    \n",
    "    private double convert(SpeedUnit from, \n",
    "                           SpeedUnit to, \n",
    "                           int value){\n",
    "        if(from == SpeedUnit.MS && \n",
    "           to == SpeedUnit.KMH){\n",
    "            return value * 3.6;\n",
    "        } else if(from == SpeedUnit.KMH && \n",
    "                  to == SpeedUnit.MS){\n",
    "            return value / 3.6;\n",
    "        } else {\n",
    "            //...\n",
    "            return 0;\n",
    "        }\n",
    "    }\n",
    "}"
   ]
  },
  {
   "cell_type": "code",
   "execution_count": null,
   "metadata": {
    "slideshow": {
     "slide_type": "subslide"
    }
   },
   "outputs": [],
   "source": [
    "class Speed {\n",
    "    private double ms2kmhRatio = 3.6;\n",
    "    \n",
    "    private int value;\n",
    "    private SpeedUnit unit;\n",
    "    \n",
    "    private double convert(SpeedUnit from, SpeedUnit to, int value){\n",
    "        if(from == SpeedUnit.MS && to == SpeedUnit.KMH){\n",
    "            return value * ms2kmhRatio;\n",
    "        } else if(from == SpeedUnit.KMH && to == SpeedUnit.MS){\n",
    "            return value / ms2kmhRatio;\n",
    "        } else {\n",
    "            //...\n",
    "            return 0;\n",
    "        }\n",
    "    }\n",
    "}"
   ]
  },
  {
   "cell_type": "markdown",
   "metadata": {
    "slideshow": {
     "slide_type": "subslide"
    }
   },
   "source": [
    "<center><img src=\"img/static1.png\"/></center>"
   ]
  },
  {
   "cell_type": "markdown",
   "metadata": {
    "slideshow": {
     "slide_type": "subslide"
    }
   },
   "source": [
    "# Modyfikator `static`"
   ]
  },
  {
   "cell_type": "code",
   "execution_count": null,
   "metadata": {
    "slideshow": {
     "slide_type": "fragment"
    }
   },
   "outputs": [],
   "source": [
    "class Speed {\n",
    "    private static final double MS_2_KMH_RATIO = 3.6;\n",
    "    \n",
    "    private int value;\n",
    "    private SpeedUnit unit;\n",
    "    \n",
    "    private double convert(SpeedUnit from, SpeedUnit to, int value){\n",
    "        if(from == SpeedUnit.MS && to == SpeedUnit.KMH){\n",
    "            return value * MS_2_KMH_RATIO;\n",
    "        } else if(from == SpeedUnit.KMH && to == SpeedUnit.MS){\n",
    "            return value / MS_2_KMH_RATIO;\n",
    "        } else {\n",
    "            //...\n",
    "            return 0;\n",
    "        }\n",
    "    }\n",
    "}"
   ]
  },
  {
   "cell_type": "markdown",
   "metadata": {
    "slideshow": {
     "slide_type": "subslide"
    }
   },
   "source": [
    "<center><img src=\"img/static2.png\"/></center>"
   ]
  },
  {
   "cell_type": "markdown",
   "metadata": {
    "slideshow": {
     "slide_type": "notes"
    }
   },
   "source": [
    "Modyfikator `static` oznacza, że dany atrubyt jest wspólny dla wszystkich obiektów, należących do klasy `Speed`.\n",
    "Istnieje zatem jedna \"kopia\" tego atrybutu."
   ]
  },
  {
   "cell_type": "markdown",
   "metadata": {
    "cell_style": "split",
    "slideshow": {
     "slide_type": "subslide"
    }
   },
   "source": [
    "# Antywzorzec\n",
    "\n",
    "<center><img src=\"img/convoluted.jpg\"/></center>"
   ]
  },
  {
   "cell_type": "markdown",
   "metadata": {
    "cell_style": "split",
    "slideshow": {
     "slide_type": "-"
    }
   },
   "source": [
    "# &nbsp;"
   ]
  },
  {
   "cell_type": "code",
   "execution_count": null,
   "metadata": {
    "cell_style": "split",
    "slideshow": {
     "slide_type": "fragment"
    }
   },
   "outputs": [],
   "source": [
    "class SpaceShip {\n",
    "    public static List<SpaceShip> ships = \n",
    "        new LinkedList<>();\n",
    "    \n",
    "    public SpaceShip(){\n",
    "        ships.add(this);\n",
    "    }\n",
    "}"
   ]
  },
  {
   "cell_type": "markdown",
   "metadata": {
    "slideshow": {
     "slide_type": "notes"
    }
   },
   "source": [
    "Jednym z częstych błędów popełnianych w odniesieniu do modytifkatora `static` jest wykorzystanie go jako\n",
    "\"pojemnika\" na wszystkie obiekty utworzone w programie. Jest to zdecydowanie niepoprawne użycie tego modyfikatora\n",
    "z wielu względów. Utrudnia to m.in. testowanie kodu, ponieważ testy nie mogą być wykonywane równolegle."
   ]
  },
  {
   "cell_type": "code",
   "execution_count": 13,
   "metadata": {
    "ExecuteTime": {
     "end_time": "2021-11-03T07:35+0000",
     "start_time": "2021-11-03T07:35:04.584Z"
    },
    "slideshow": {
     "slide_type": "subslide"
    }
   },
   "outputs": [],
   "source": [
    "class SpaceShip {}\n",
    "\n",
    "class Space {\n",
    "    private List<SpaceShip> ships = new LinkedList<>();\n",
    "    \n",
    "    public SpaceShip createShip(){\n",
    "        SpaceShip ship = new SpaceShip(this);\n",
    "        ships.add(ship);\n",
    "        return ship;\n",
    "    }\n",
    "}\n",
    "\n",
    "class SpaceShip {\n",
    "    private Space space;\n",
    "    \n",
    "    SpaceShip(Space space){\n",
    "        this.space = space;\n",
    "    }\n",
    "}"
   ]
  },
  {
   "cell_type": "code",
   "execution_count": 14,
   "metadata": {
    "ExecuteTime": {
     "end_time": "2021-11-03T07:35+0000",
     "start_time": "2021-11-03T07:35:05.492Z"
    },
    "slideshow": {
     "slide_type": "fragment"
    }
   },
   "outputs": [],
   "source": [
    "Space thisWorld = new Space();\n",
    "SpaceShip rocket = thisWorld.createShip();\n",
    "SpaceShip spaceShuttle = thisWorld.createShip();\n",
    "\n",
    "Space alienWorld = new Space();\n",
    "SpaceShip ufo = alienWorld.createShip();"
   ]
  },
  {
   "cell_type": "markdown",
   "metadata": {
    "slideshow": {
     "slide_type": "notes"
    }
   },
   "source": [
    "Jeśli chcemy mieć \"pojemnik\" na obiekty możemy np. utrudnić ich tworzenie poprzez uczynienie konstruktora \n",
    "niepublicznym. Wtedy jedynym sposobem na tworzenie nowych obiektów (o ile robią to klasy z innych pakietów)\n",
    "jest pośrednictwo \"fabryki\", która sama zadba o to, żeby tworzone obiekty od razu trafiały do odpowiedniego\n",
    "kontenera. Możemy jednak tworzyć wiele fabryk, co bardzo ułatwia np. testowanie kodu."
   ]
  },
  {
   "cell_type": "markdown",
   "metadata": {
    "slideshow": {
     "slide_type": "slide"
    }
   },
   "source": [
    "![Pytania? ](img/question.jpg)"
   ]
  },
  {
   "cell_type": "code",
   "execution_count": null,
   "metadata": {},
   "outputs": [],
   "source": []
  }
 ],
 "metadata": {
  "celltoolbar": "Slideshow",
  "kernelspec": {
   "display_name": "Java",
   "language": "java",
   "name": "java"
  },
  "language_info": {
   "codemirror_mode": "java",
   "file_extension": ".jshell",
   "mimetype": "text/x-java-source",
   "name": "Java",
   "pygments_lexer": "java",
   "version": "17+35-2724"
  },
  "toc": {
   "base_numbering": 1,
   "nav_menu": {},
   "number_sections": false,
   "sideBar": false,
   "skip_h1_title": false,
   "title_cell": "Table of Contents",
   "title_sidebar": "Contents",
   "toc_cell": false,
   "toc_position": {},
   "toc_section_display": false,
   "toc_window_display": false
  }
 },
 "nbformat": 4,
 "nbformat_minor": 2
}
