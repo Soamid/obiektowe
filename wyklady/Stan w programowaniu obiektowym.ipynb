{
 "cells": [
  {
   "cell_type": "markdown",
   "metadata": {
    "slideshow": {
     "slide_type": "slide"
    }
   },
   "source": [
    "# Stan w programowaniu obiektowym\n",
    "\n",
    "## Zmienne instancyjne i klasowe, zasady dostępu do danych\n",
    "\n",
    "<br/>\n",
    "\n",
    "## dr inż. Aleksander Smywiński-Pohl\n",
    "\n",
    "## apohllo@o2.pl\n",
    "\n",
    "## http://apohllo.pl/dydaktyka/programowanie-obiektowe"
   ]
  },
  {
   "cell_type": "markdown",
   "metadata": {
    "slideshow": {
     "slide_type": "slide"
    }
   },
   "source": [
    "<img src=\"img/java_log.png\" style=\"height: 600px\" />"
   ]
  },
  {
   "cell_type": "markdown",
   "metadata": {
    "slideshow": {
     "slide_type": "subslide"
    }
   },
   "source": [
    "# Sonda Mars Climate Orbiter\n",
    "\n",
    "<img src=\"img/mars.jpg\" width=\"700\"/>"
   ]
  },
  {
   "cell_type": "markdown",
   "metadata": {
    "slideshow": {
     "slide_type": "notes"
    }
   },
   "source": [
    "Przyczyną katastrofy sondy były użycie amerykańskich jednostek miar (funtów) w modelu odpowiedzialnym za obliczanie trajektorii lotu sondy. Pozostałe moduły używały jednostek SI i ciąg obliczany był w niutonach. Ta różnica doprowadziła do niewłaściwej korekty lotu i w efekcie katastrofy. Koszt misji wyniósł 326 milnionów dolarów."
   ]
  },
  {
   "cell_type": "markdown",
   "metadata": {
    "slideshow": {
     "slide_type": "subslide"
    }
   },
   "source": [
    "# Program strukturalny"
   ]
  },
  {
   "cell_type": "code",
   "execution_count": null,
   "metadata": {
    "slideshow": {
     "slide_type": "fragment"
    }
   },
   "outputs": [],
   "source": [
    "struct SpaceProbe {\n",
    "    double spaceProbeSpeed;\n",
    "    double spaceProbeWeight;\n",
    "}\n",
    "\n",
    "double thrustCorrectionForX(struct SpaceProbe spaceProbe){\n",
    "    // operowanie na polach spaceProbeSpeed oraz spaceProbeWeight\n",
    "}\n",
    "\n",
    "double thrustCorrectionForY(struct SpaceProbe spaceProbe){\n",
    "    // ...\n",
    "}\n",
    "\n",
    "double thrustCorrectionForZ(struct SpaceProbe spaceProbe){\n",
    "    // ...\n",
    "}"
   ]
  },
  {
   "cell_type": "markdown",
   "metadata": {
    "slideshow": {
     "slide_type": "subslide"
    }
   },
   "source": [
    "# Primitive obsession"
   ]
  },
  {
   "cell_type": "code",
   "execution_count": null,
   "metadata": {
    "slideshow": {
     "slide_type": "fragment"
    }
   },
   "outputs": [],
   "source": [
    "class SpaceProbe {\n",
    "    private double speedX;\n",
    "    private double speedY;\n",
    "    private double speedZ;\n",
    "    private double weight;\n",
    "    \n",
    "    public double thrustCorrectionForX(double positionX, \n",
    "                      double positionY, double positionZ){\n",
    "        //...\n",
    "    }\n",
    "}"
   ]
  },
  {
   "cell_type": "markdown",
   "metadata": {
    "slideshow": {
     "slide_type": "notes"
    }
   },
   "source": [
    "Używanie typów prymitywnych tam, gdzie mamy do czynienia z wartościami domenowymi. Tutaj składowe wektora prędkości są osobnymi polami i nie mają jednostki. Masa też nie ma jednostki."
   ]
  },
  {
   "cell_type": "markdown",
   "metadata": {
    "slideshow": {
     "slide_type": "slide"
    }
   },
   "source": [
    "# Klasa `Speed`"
   ]
  },
  {
   "cell_type": "code",
   "execution_count": null,
   "metadata": {
    "slideshow": {
     "slide_type": "fragment"
    }
   },
   "outputs": [],
   "source": [
    "class Speed {\n",
    "    public int value;\n",
    "    public String unit;\n",
    "    \n",
    "    public Speed(int value, String unit){\n",
    "        this.value = value;\n",
    "        this.unit = unit;\n",
    "    }\n",
    "}"
   ]
  },
  {
   "cell_type": "markdown",
   "metadata": {
    "slideshow": {
     "slide_type": "notes"
    }
   },
   "source": [
    "* Klasa `Speed` definiuje dwa **pola**: value oraz unit. Służą one do przechowywania stanu obiektów klasy Speed. \n",
    "* Oba pola są *publiczne* oznacza to, że można je odczytywać i zapisywać *na zewnątrz* klasy. Oznacza to dokładnie, że każda inna klasa ma dostęp do tych pól.\n",
    "* Klasa posiada również publiczny konstruktor, który akceptuje dwa parametry. Te parametry wykorzystywane są do\n",
    "  *inicjalizacji* obiektów klasy `Speed`.\n",
    "* W konstruktorze występuje słowo kluczowe `this` - pozwala ono odróżnić zmienne lokalne `value` i `unit` od \n",
    "  zmiennych *instancyjnych* `value` i `unit`. Poprzedzenie nazwy zmiennej tym słowem, oznacza, że odnosimy się \n",
    "  do zmiennych, których właścicielem jest obiekt.\n",
    "* Jedna składowa wektora typu int została wprowadzona dla uproszczenia przykładu."
   ]
  },
  {
   "cell_type": "code",
   "execution_count": null,
   "metadata": {
    "slideshow": {
     "slide_type": "fragment"
    }
   },
   "outputs": [],
   "source": [
    "Speed speed1 = new Speed(10, \"km/h\");\n",
    "Speed speed2 = new Speed(20, \"m/s\");"
   ]
  },
  {
   "cell_type": "markdown",
   "metadata": {
    "slideshow": {
     "slide_type": "notes"
    }
   },
   "source": [
    "* Dalej widzimy wykorzystanie konstruktora - słowo `new` służy do tworzenia nowych obiektów. \n",
    "  Wywołuje ono konstruktor z takimi samymi parametrami jak te zdefiniowane w klasie.\n",
    "* Wywołanie `speed1.value = 20` zmienia **stan** obiektu `speed1`."
   ]
  },
  {
   "cell_type": "markdown",
   "metadata": {
    "slideshow": {
     "slide_type": "fragment"
    }
   },
   "source": [
    "<img src=\"img/instance_variables.png\" />"
   ]
  },
  {
   "cell_type": "markdown",
   "metadata": {
    "slideshow": {
     "slide_type": "subslide"
    }
   },
   "source": [
    "speed1.value = 20;\n",
    "speed2.unit = \"km/h\";"
   ]
  },
  {
   "cell_type": "markdown",
   "metadata": {
    "slideshow": {
     "slide_type": "fragment"
    }
   },
   "source": [
    "<img src=\"img/instance_variables_2.png\"/>"
   ]
  },
  {
   "cell_type": "markdown",
   "metadata": {
    "slideshow": {
     "slide_type": "subslide"
    }
   },
   "source": [
    "speed1.value = -10;\n",
    "speed2.unit = \"ala ma kota\";"
   ]
  },
  {
   "cell_type": "markdown",
   "metadata": {
    "slideshow": {
     "slide_type": "fragment"
    }
   },
   "source": [
    "<img src=\"img/public_1.png\"/>"
   ]
  },
  {
   "cell_type": "code",
   "execution_count": null,
   "metadata": {
    "slideshow": {
     "slide_type": "subslide"
    }
   },
   "outputs": [],
   "source": [
    "enum SpeedUnit {\n",
    "    MS,\n",
    "    KMH\n",
    "}"
   ]
  },
  {
   "cell_type": "code",
   "execution_count": null,
   "metadata": {
    "slideshow": {
     "slide_type": "fragment"
    }
   },
   "outputs": [],
   "source": [
    "class Speed {\n",
    "    public int value;\n",
    "    public SpeedUnit unit;\n",
    "    \n",
    "    public Speed(int value, SpeedUnit unit){\n",
    "        this.value = value;\n",
    "        this.unit = unit;\n",
    "    }\n",
    "}"
   ]
  },
  {
   "cell_type": "markdown",
   "metadata": {
    "slideshow": {
     "slide_type": "fragment"
    }
   },
   "source": [
    "Speed speed1 = new Speed(10, SpeedUnit.KMH);\n",
    "Speed speed2 = new Speed(20, SpeedUnit.MS);"
   ]
  },
  {
   "cell_type": "markdown",
   "metadata": {
    "slideshow": {
     "slide_type": "fragment"
    }
   },
   "source": [
    "<img src=\"img/instance_variables_5.png\"/>"
   ]
  },
  {
   "cell_type": "markdown",
   "metadata": {
    "slideshow": {
     "slide_type": "subslide"
    }
   },
   "source": [
    "# Modyfikator `private`"
   ]
  },
  {
   "cell_type": "code",
   "execution_count": null,
   "metadata": {
    "slideshow": {
     "slide_type": "fragment"
    }
   },
   "outputs": [],
   "source": [
    "class SpaceProbe {\n",
    "    private Speed speed;\n",
    "    \n",
    "    public SpaceProbe(Speed speed){\n",
    "        this.speed = speed;\n",
    "    }\n",
    "    \n",
    "    public getSpeed(){\n",
    "        return this.speed;\n",
    "    }\n",
    "}"
   ]
  },
  {
   "cell_type": "code",
   "execution_count": null,
   "metadata": {
    "slideshow": {
     "slide_type": "fragment"
    }
   },
   "outputs": [],
   "source": [
    "SpaceProbe probe1 = new SpaceProbe(new Speed(10, SpeedUnit.KMH));\n",
    "\n",
    "probe1.speed = new Speed(10, SpeedUnit.MS); // niedozwolone, pole jest prywatne!"
   ]
  },
  {
   "cell_type": "code",
   "execution_count": null,
   "metadata": {
    "slideshow": {
     "slide_type": "fragment"
    }
   },
   "outputs": [],
   "source": [
    "Speed speed1 = probe1.getSpeed();\n",
    "\n",
    "speed1.unit = SpeedUnit.MS;         // zmienia się jednostka prędkości sondy!"
   ]
  },
  {
   "cell_type": "markdown",
   "metadata": {
    "slideshow": {
     "slide_type": "notes"
    }
   },
   "source": [
    "W Javie wszystkie wartoście z wyjątkiem prymitywnych są zawsze przekazywane przez referencję."
   ]
  },
  {
   "cell_type": "markdown",
   "metadata": {
    "slideshow": {
     "slide_type": "slide"
    }
   },
   "source": [
    "# Modyfikator `final` - `Speed` jako ValueObject"
   ]
  },
  {
   "cell_type": "code",
   "execution_count": null,
   "metadata": {
    "slideshow": {
     "slide_type": "fragment"
    }
   },
   "outputs": [],
   "source": [
    "class Speed {\n",
    "    public final int value;\n",
    "    public final SpeedUnit unit;\n",
    "    \n",
    "    public Speed(int value, SpeedUnit unit){\n",
    "        this.value = value;\n",
    "        this.unit = unit;\n",
    "    }\n",
    "}"
   ]
  },
  {
   "cell_type": "code",
   "execution_count": null,
   "metadata": {
    "slideshow": {
     "slide_type": "fragment"
    }
   },
   "outputs": [],
   "source": [
    "SpaceProbe probe1 = newSpaceProbe(new Speed(10, SpeedUnit.KMH));\n",
    "Speed speed1 = probe1.getSpeed();\n",
    "\n",
    "speed1.unit = SpeedUnit.MS;                 // niedozwolone!!!"
   ]
  },
  {
   "cell_type": "markdown",
   "metadata": {
    "slideshow": {
     "slide_type": "fragment"
    }
   },
   "source": [
    " <img src=\"img/room_temperature.png\" width=\"300\"/>"
   ]
  },
  {
   "cell_type": "markdown",
   "metadata": {
    "slideshow": {
     "slide_type": "notes"
    }
   },
   "source": [
    "* ValueObject nie może zmienić swojej wartości - jest jak liczba, znak, etc. Przykładem może być konkretna temperatura 20 stopni C.\n",
    "* Inny obiekt korzystający z ValueObject może zminić wartość *parametru wyrażanego za pomocą* ValueObject. Np. temperatura pokoju moze zmienić się z 20 na 22. Ale same valueObjects się nie zmienią. "
   ]
  },
  {
   "cell_type": "markdown",
   "metadata": {
    "slideshow": {
     "slide_type": "subslide"
    }
   },
   "source": [
    "# Ale po co?"
   ]
  },
  {
   "cell_type": "markdown",
   "metadata": {
    "slideshow": {
     "slide_type": "fragment"
    }
   },
   "source": [
    "# TODO :-)"
   ]
  },
  {
   "cell_type": "markdown",
   "metadata": {
    "slideshow": {
     "slide_type": "notes"
    }
   },
   "source": [
    "Zwrócenie wartości modyfikowalnej z obiektu. Zmodyfikowanie jej poza obiektem."
   ]
  },
  {
   "cell_type": "markdown",
   "metadata": {
    "slideshow": {
     "slide_type": "slide"
    }
   },
   "source": [
    "# Modyfikator `private`"
   ]
  },
  {
   "cell_type": "code",
   "execution_count": null,
   "metadata": {
    "slideshow": {
     "slide_type": "fragment"
    }
   },
   "outputs": [],
   "source": [
    "class Speed {\n",
    "    private int value;\n",
    "    private SpeedUnit unit;\n",
    "\n",
    "    public Speed(int value, SpeedUnit unit){\n",
    "        this.value = value;\n",
    "        this.unit = unit;\n",
    "    }\n",
    "}"
   ]
  },
  {
   "cell_type": "code",
   "execution_count": null,
   "metadata": {
    "slideshow": {
     "slide_type": "fragment"
    }
   },
   "outputs": [],
   "source": [
    "class SpaceProbe {\n",
    "    private Speed speed;\n",
    "    \n",
    "    public void accelerate(Speed delta){\n",
    "        speed.value += delta.value;                              // niedozwolone!\n",
    "    }\n",
    "}"
   ]
  },
  {
   "cell_type": "markdown",
   "metadata": {
    "slideshow": {
     "slide_type": "notes"
    }
   },
   "source": [
    "* Obiekty \"zewnętrzne\" nie mogą **odczytywać** ani **zapisywać** wartości pól prywatnych. Ale co to znaczy?"
   ]
  },
  {
   "cell_type": "code",
   "execution_count": null,
   "metadata": {
    "slideshow": {
     "slide_type": "subslide"
    }
   },
   "outputs": [],
   "source": [
    "class Speed {\n",
    "    public Speed add(Speed that){\n",
    "        if(this.unit == that.unit){\n",
    "            return new Speed(this.value + that.value, this.unit);\n",
    "        } else {\n",
    "            return null;\n",
    "        }\n",
    "    }\n",
    "}"
   ]
  },
  {
   "cell_type": "code",
   "execution_count": null,
   "metadata": {
    "slideshow": {
     "slide_type": "fragment"
    }
   },
   "outputs": [],
   "source": [
    "class SpaceProbe\n",
    "    private Speed speed;\n",
    "    private static int MAXIMUM_SPEED = 100;\n",
    "\n",
    "    public void accelerate(Speed delta){\n",
    "        Speed newSpeed = this.speed.add(delta);\n",
    "        if(newSpeed.value < MAXIMUM_SPEED){\n",
    "            this.speed = newSpeed;\n",
    "        }\n",
    "    }\n",
    "}"
   ]
  },
  {
   "cell_type": "markdown",
   "metadata": {
    "slideshow": {
     "slide_type": "fragment"
    }
   },
   "source": [
    "<img src=\"img/private.png\"/>"
   ]
  },
  {
   "cell_type": "markdown",
   "metadata": {
    "slideshow": {
     "slide_type": "slide"
    }
   },
   "source": [
    "# Modyfikator `protected`"
   ]
  },
  {
   "cell_type": "code",
   "execution_count": null,
   "metadata": {
    "slideshow": {
     "slide_type": "fragment"
    }
   },
   "outputs": [],
   "source": [
    "class Speed {\n",
    "    protected SpeedUnit unit;\n",
    "    \n",
    "    public Speed(SpeedUnit unit){\n",
    "        this.unit = unit;\n",
    "    }\n",
    "}"
   ]
  },
  {
   "cell_type": "code",
   "execution_count": null,
   "metadata": {
    "slideshow": {
     "slide_type": "fragment"
    }
   },
   "outputs": [],
   "source": [
    "class Speed1D extends Speed {\n",
    "    protected int value;\n",
    "\n",
    "    public Speed1D(int value, SpeedUnit unit){\n",
    "        super(unit);\n",
    "        this.value = value\n",
    "    }\n",
    "    \n",
    "    public Speed1D add(Speed1D delta){\n",
    "        if(this.unit == delta.unit){\n",
    "            return new Speed1D(this.value + delta.value, this.unit);\n",
    "        } else {\n",
    "            return null;\n",
    "        }\n",
    "    }\n",
    "}"
   ]
  },
  {
   "cell_type": "code",
   "execution_count": null,
   "metadata": {
    "slideshow": {
     "slide_type": "subslide"
    }
   },
   "outputs": [],
   "source": [
    "Speed1D speed1 = new Speed1D(10, SpeedUnit.KMH);\n",
    "Speed1D speed2 = new Speed1D(20, SpeedUnit.KMH);\n",
    "\n",
    "Speed1D speed3 = speed1.add(speed2);"
   ]
  },
  {
   "cell_type": "code",
   "execution_count": null,
   "metadata": {
    "slideshow": {
     "slide_type": "subslide"
    }
   },
   "outputs": [],
   "source": [
    "class Speed3D extends Speed {\n",
    "    protected int valueX;\n",
    "    protected int valueY;\n",
    "    protected int valueZ;\n",
    "\n",
    "    public Speed3D(int x, int y, int z, SpeedUnit unit){\n",
    "        super(value);\n",
    "        this.valueX = x;\n",
    "        this.valueY = y;\n",
    "        this.valueZ = z;\n",
    "    }\n",
    "    \n",
    "    public Speed3D add(Speed3D delta){\n",
    "        if(this.unit == delta.unit){\n",
    "            return new Speed3D(this.valueX + delta.valueX, \n",
    "                this.valueY + delta.valueY,\n",
    "                this.valueZ + delta.valueZ, \n",
    "                this.unit);\n",
    "        } else {\n",
    "            return null;\n",
    "        }\n",
    "    }\n",
    "}"
   ]
  },
  {
   "cell_type": "markdown",
   "metadata": {
    "slideshow": {
     "slide_type": "subslide"
    }
   },
   "source": [
    "<img src=\"img/protected.png\"/>"
   ]
  },
  {
   "cell_type": "markdown",
   "metadata": {
    "slideshow": {
     "slide_type": "slide"
    }
   },
   "source": [
    "# Dostęp pakietowy"
   ]
  },
  {
   "cell_type": "code",
   "execution_count": null,
   "metadata": {},
   "outputs": [],
   "source": [
    "package agh.cs.lecture;\n",
    "\n",
    "class Speed {\n",
    "    int value;\n",
    "    SpeedUnit unit;\n",
    "    \n",
    "    public Speed(int value, SpeedUnit unit){\n",
    "        this.value = value;\n",
    "        this.unit = unit;\n",
    "    }\n",
    "}"
   ]
  },
  {
   "cell_type": "code",
   "execution_count": null,
   "metadata": {
    "slideshow": {
     "slide_type": "fragment"
    }
   },
   "outputs": [],
   "source": [
    "package agh.cs.lecture;\n",
    "\n",
    "class SpaceProbe {\n",
    "    private Speed speed;\n",
    "    \n",
    "    public void accelerate(Speed delta){\n",
    "        if(this.speed.unit == delta.unit){           // dozwolone\n",
    "            //..\n",
    "        }\n",
    "    }\n",
    "}"
   ]
  },
  {
   "cell_type": "code",
   "execution_count": null,
   "metadata": {
    "slideshow": {
     "slide_type": "subslide"
    }
   },
   "outputs": [],
   "source": [
    "package com.mycompany;\n",
    "\n",
    "class SpaceShip {\n",
    "    private Speed speed;\n",
    "\n",
    "    public void accelerate(Speed delta){\n",
    "        if(this.speed.unit == delta.unit){           // niedozwolone!\n",
    "            //..\n",
    "        }\n",
    "    }\n",
    "}"
   ]
  },
  {
   "cell_type": "markdown",
   "metadata": {
    "slideshow": {
     "slide_type": "subslide"
    }
   },
   "source": [
    "<img src=\"img/package_access.png\"/>"
   ]
  },
  {
   "cell_type": "markdown",
   "metadata": {
    "slideshow": {
     "slide_type": "slide"
    }
   },
   "source": [
    "# Metody dostępowe - \"gettery\""
   ]
  },
  {
   "cell_type": "code",
   "execution_count": null,
   "metadata": {
    "slideshow": {
     "slide_type": "fragment"
    }
   },
   "outputs": [],
   "source": [
    "class Speed {\n",
    "    private int value;\n",
    "    private SpeedUnit unit;\n",
    "    \n",
    "    public int getValue(){\n",
    "        return this.value;\n",
    "    }\n",
    "    \n",
    "    public SpeedUnit getUnit(){\n",
    "        return this.unit;\n",
    "    }\n",
    "}"
   ]
  },
  {
   "cell_type": "markdown",
   "metadata": {
    "slideshow": {
     "slide_type": "subslide"
    }
   },
   "source": [
    "# Dostęp dziedzinowy"
   ]
  },
  {
   "cell_type": "code",
   "execution_count": null,
   "metadata": {
    "slideshow": {
     "slide_type": "fragment"
    }
   },
   "outputs": [],
   "source": [
    "class Speed {\n",
    "    private int value;\n",
    "    private SpeedUnit unit;\n",
    "    \n",
    "    public int getValueInMS(){\n",
    "        if(this.unit == SpeedUnit.MS){\n",
    "            return value;\n",
    "        } else {\n",
    "            return convert(this.unit, SpeedUnit.MS, this.value);\n",
    "        }\n",
    "    }\n",
    "    \n",
    "    public int getValueInKMH(){\n",
    "        //...\n",
    "    }\n",
    "    \n",
    "    private int convert(SpeedUnit from, SpeedUnit to, int value){\n",
    "        if(from == SpeedUnit.KMS && to == SpeedUnit.MS) {\n",
    "            return Math.round(value / 3.6);\n",
    "        } else if(...){\n",
    "            //...\n",
    "            \n",
    "        }\n",
    "    }\n",
    "}"
   ]
  },
  {
   "cell_type": "markdown",
   "metadata": {
    "slideshow": {
     "slide_type": "subslide"
    }
   },
   "source": [
    "# Metody dostępowe - \"settery\""
   ]
  },
  {
   "cell_type": "code",
   "execution_count": null,
   "metadata": {
    "slideshow": {
     "slide_type": "fragment"
    }
   },
   "outputs": [],
   "source": [
    "class Speed {\n",
    "    private int value;\n",
    "    private SpeedUnit unit;\n",
    "    \n",
    "    public setValue(int value){\n",
    "        this.value = value;\n",
    "    }\n",
    "    \n",
    "    public setUnit(SpeedUnit unit){\n",
    "        this.value = convert(this.unit, unit, this.value);\n",
    "        this.unit = unit;\n",
    "    }\n",
    "}"
   ]
  },
  {
   "cell_type": "markdown",
   "metadata": {
    "slideshow": {
     "slide_type": "notes"
    }
   },
   "source": [
    "To już nie jest \"value object\" !!"
   ]
  },
  {
   "cell_type": "markdown",
   "metadata": {
    "slideshow": {
     "slide_type": "subslide"
    }
   },
   "source": [
    "# Utrzymywanie jednolitej reprezentacji"
   ]
  },
  {
   "cell_type": "code",
   "execution_count": null,
   "metadata": {
    "slideshow": {
     "slide_type": "fragment"
    }
   },
   "outputs": [],
   "source": [
    "class Speed {\n",
    "    private int valueInMs;\n",
    "    private SpeedUnit unit;\n",
    "    \n",
    "    public Speed(int value, SpeedUnit unit){\n",
    "        this.valueInMs = convert(unit, SpeedUnit.MS, value);\n",
    "        this.unit = unit;\n",
    "    }\n",
    "    \n",
    "    public getValue(){\n",
    "        return convert(SpeedUnit.MS, this.unit, this.valueInMs);\n",
    "    }\n",
    "    \n",
    "    public setValue(int value){\n",
    "        this.valueInMs = convert(unit, SpeedUnit.MS, value);\n",
    "    }\n",
    "    \n",
    "    public setUnit(SpeedUnit unit){\n",
    "        this.unit = unit;\n",
    "    }\n",
    "}"
   ]
  },
  {
   "cell_type": "markdown",
   "metadata": {
    "slideshow": {
     "slide_type": "subslide"
    }
   },
   "source": [
    "# ValueObject - konwersja"
   ]
  },
  {
   "cell_type": "code",
   "execution_count": null,
   "metadata": {
    "slideshow": {
     "slide_type": "fragment"
    }
   },
   "outputs": [],
   "source": [
    "class Speed {\n",
    "    private final int value;\n",
    "    private final SpeedUnit unit;\n",
    "    \n",
    "    public Speed(int value, SpeedUnit unit){\n",
    "        this.value = value;\n",
    "        this.unit = unit;\n",
    "    }\n",
    "    \n",
    "    public Speed convertToMs(){\n",
    "        if(this.unit == SpeedUnit.MS){\n",
    "            return this;\n",
    "        } else {\n",
    "            return new Speed(convert(this.unit, SpeedUnit.MS, this.value), \n",
    "                             SpeedUnit.MS);\n",
    "        }\n",
    "    }\n",
    "}"
   ]
  },
  {
   "cell_type": "markdown",
   "metadata": {
    "slideshow": {
     "slide_type": "slide"
    }
   },
   "source": [
    "# Shadowing"
   ]
  },
  {
   "cell_type": "code",
   "execution_count": null,
   "metadata": {
    "slideshow": {
     "slide_type": "fragment"
    }
   },
   "outputs": [],
   "source": [
    "enum SpeedUnit { MS, KMH }"
   ]
  },
  {
   "cell_type": "code",
   "execution_count": null,
   "metadata": {
    "slideshow": {
     "slide_type": "fragment"
    }
   },
   "outputs": [],
   "source": [
    "class Speed {\n",
    "    private SpeedUnit unit;\n",
    "    \n",
    "    public Speed(SpeedUnit unit){\n",
    "        this.unit = unit;\n",
    "    }\n",
    "    \n",
    "    public SpeedUnit getSuperUnit(){\n",
    "        return this.unit;\n",
    "    }\n",
    "    \n",
    "    public SpeedUnit getUnit(){\n",
    "        return this.unit;\n",
    "    }\n",
    "}"
   ]
  },
  {
   "cell_type": "code",
   "execution_count": null,
   "metadata": {
    "slideshow": {
     "slide_type": "subslide"
    }
   },
   "outputs": [],
   "source": [
    "class Speed1D extends Speed{\n",
    "    private SpeedUnit unit;\n",
    "    private int value;\n",
    "    \n",
    "    public Speed1D(int value, SpeedUnit unit){\n",
    "        super(unit);\n",
    "        this.value = value;\n",
    "        this.unit = SpeedUnit.KMH;\n",
    "    }\n",
    "    \n",
    "    public SpeedUnit getUnit(){\n",
    "        return this.unit;\n",
    "    }\n",
    "}"
   ]
  },
  {
   "cell_type": "code",
   "execution_count": null,
   "metadata": {
    "slideshow": {
     "slide_type": "fragment"
    }
   },
   "outputs": [],
   "source": [
    "Speed1D speed1 = new Speed1D(10, SpeedUnit.MS);\n",
    "speed1.getUnit();\n",
    "speed1.getSuperUnit();"
   ]
  },
  {
   "cell_type": "markdown",
   "metadata": {
    "slideshow": {
     "slide_type": "subslide"
    }
   },
   "source": [
    "<img src=\"img/shadowing.png\"/>"
   ]
  },
  {
   "cell_type": "code",
   "execution_count": null,
   "metadata": {
    "slideshow": {
     "slide_type": "subslide"
    }
   },
   "outputs": [],
   "source": [
    "class Speed {\n",
    "    public String unit;\n",
    "    \n",
    "    public Speed(String unit){\n",
    "        this.unit = unit;\n",
    "    }\n",
    "}\n",
    "\n",
    "class Speed1D extends Speed{\n",
    "    public String unit;\n",
    "    public int value;\n",
    "    \n",
    "    public Speed1D(String unit, int value){\n",
    "        super(unit);\n",
    "        this.unit = \"KMH\";\n",
    "        this.value = value;\n",
    "    }\n",
    "}\n",
    "\n",
    "Speed speed1 = new Speed1D(\"MPH\", 10);\n",
    "out.println(speed1.unit);\n",
    "Speed1D speed2 = (Speed1D) speed1;\n",
    "out.println(speed2.unit);"
   ]
  },
  {
   "cell_type": "markdown",
   "metadata": {
    "slideshow": {
     "slide_type": "slide"
    }
   },
   "source": [
    "# Zmienne statyczne"
   ]
  },
  {
   "cell_type": "code",
   "execution_count": null,
   "metadata": {
    "slideshow": {
     "slide_type": "fragment"
    }
   },
   "outputs": [],
   "source": [
    "class Speed {\n",
    "    private int value;\n",
    "    private SpeedUnit unit;\n",
    "    \n",
    "    private int convert(SpeedUnit from, SpeedUnit to, int value){\n",
    "        if(from == SpeedUnit.MS && to == SpeedUnit.KMH){\n",
    "            return value * 3.6;\n",
    "        } else if(from == SpeedUnit.KMH && to == SpeedUnit.MS){\n",
    "            return value / 3.6;\n",
    "        } else {\n",
    "            //...\n",
    "        }\n",
    "    }\n",
    "}"
   ]
  },
  {
   "cell_type": "code",
   "execution_count": null,
   "metadata": {
    "slideshow": {
     "slide_type": "subslide"
    }
   },
   "outputs": [],
   "source": [
    "class Speed {\n",
    "    private final double ms2kmhRatio = 3.6;\n",
    "    \n",
    "    private int value;\n",
    "    private SpeedUnit unit;\n",
    "    \n",
    "    private int convert(SpeedUnit from, SpeedUnit to, int value){\n",
    "        if(from == SpeedUnit.MS && to == SpeedUnit.KMH){\n",
    "            return value * ms2kmhRatio;\n",
    "        } else if(from == SpeedUnit.KMH && to == SpeedUnit.MS){\n",
    "            return value / ms2kmhRatio;\n",
    "        } else {\n",
    "            //...\n",
    "        }\n",
    "    }\n",
    "}"
   ]
  },
  {
   "cell_type": "markdown",
   "metadata": {
    "slideshow": {
     "slide_type": "subslide"
    }
   },
   "source": [
    "<img src=\"img/static1.png\"/>"
   ]
  },
  {
   "cell_type": "markdown",
   "metadata": {
    "slideshow": {
     "slide_type": "subslide"
    }
   },
   "source": [
    "# Modyfikator `static`"
   ]
  },
  {
   "cell_type": "code",
   "execution_count": null,
   "metadata": {
    "slideshow": {
     "slide_type": "fragment"
    }
   },
   "outputs": [],
   "source": [
    "class Speed {\n",
    "    private static final double ms2kmhRatio = 3.6;\n",
    "    \n",
    "    private int value;\n",
    "    private SpeedUnit unit;\n",
    "    \n",
    "    private int convert(SpeedUnit from, SpeedUnit to, int value){\n",
    "        if(from == SpeedUnit.MS && to == SpeedUnit.KMH){\n",
    "            return value * ms2kmhRatio;\n",
    "        } else if(from == SpeedUnit.KMH && to == SpeedUnit.MS){\n",
    "            return value / ms2kmhRatio;\n",
    "        } else {\n",
    "            //...\n",
    "        }\n",
    "    }\n",
    "}"
   ]
  },
  {
   "cell_type": "markdown",
   "metadata": {
    "slideshow": {
     "slide_type": "subslide"
    }
   },
   "source": [
    "<img src=\"img/static2.png\"/>"
   ]
  },
  {
   "cell_type": "markdown",
   "metadata": {
    "slideshow": {
     "slide_type": "subslide"
    }
   },
   "source": [
    "# Antywzorzec"
   ]
  },
  {
   "cell_type": "code",
   "execution_count": null,
   "metadata": {
    "slideshow": {
     "slide_type": "fragment"
    }
   },
   "outputs": [],
   "source": [
    "class SpaceShip {\n",
    "    public static List<SpaceShip> ships = new LinkedList<>();\n",
    "    \n",
    "    public SpaceShip(){\n",
    "        ships.add(this);\n",
    "    }\n",
    "}"
   ]
  },
  {
   "cell_type": "code",
   "execution_count": null,
   "metadata": {
    "slideshow": {
     "slide_type": "fragment"
    }
   },
   "outputs": [],
   "source": [
    "class Space() {\n",
    "    private List<SpaceShip> ships = new LinkedList<>();\n",
    "    \n",
    "    public void add(SpaceShip ship){\n",
    "        ships.add(ship);\n",
    "    }\n",
    "}\n",
    "\n",
    "class SpaceShip {\n",
    "    public SpaceShip(Space space){\n",
    "        space.add(this);\n",
    "    }\n",
    "}"
   ]
  },
  {
   "cell_type": "markdown",
   "metadata": {
    "slideshow": {
     "slide_type": "slide"
    }
   },
   "source": [
    "<img src=\"img/ruby-horizontal.svg\" style=\"width: 800px\" />"
   ]
  },
  {
   "cell_type": "markdown",
   "metadata": {
    "slideshow": {
     "slide_type": "subslide"
    }
   },
   "source": [
    "# Model prywatności w Rubim"
   ]
  },
  {
   "cell_type": "code",
   "execution_count": null,
   "metadata": {
    "slideshow": {
     "slide_type": "fragment"
    }
   },
   "outputs": [],
   "source": [
    "class Speed\n",
    "  def initialize(value, unit)\n",
    "    @value = value\n",
    "    @unit = unit\n",
    "  end\n",
    "  \n",
    "  def to_s\n",
    "    \"#{@value} #{@unit}\"\n",
    "  end\n",
    "  \n",
    "  def +(other)\n",
    "    if @unit == other.@unit\n",
    "      Speed.new(@value + other.@value, @unit) # to nie zadziała!\n",
    "    else\n",
    "      self # lepiej rzucić wyjątek\n",
    "    end\n",
    "  end\n",
    "end"
   ]
  },
  {
   "cell_type": "markdown",
   "metadata": {
    "slideshow": {
     "slide_type": "fragment"
    }
   },
   "source": [
    "<img src=\"img/ruby_variable.png\" />"
   ]
  },
  {
   "cell_type": "code",
   "execution_count": null,
   "metadata": {
    "slideshow": {
     "slide_type": "subslide"
    }
   },
   "outputs": [],
   "source": [
    "class Speed\n",
    "  attr_reader :unit, :value\n",
    "    \n",
    "  def initialize(value, unit)\n",
    "    @value = value\n",
    "    @unit = unit\n",
    "  end\n",
    "    \n",
    "  def +(other)\n",
    "    if @unit == other.unit\n",
    "      Speed.new(@value + other.value, @unit)\n",
    "    else\n",
    "      self\n",
    "    end\n",
    "  end\n",
    "end"
   ]
  },
  {
   "cell_type": "markdown",
   "metadata": {
    "slideshow": {
     "slide_type": "fragment"
    }
   },
   "source": [
    "<img src=\"img/ruby_variable_1.png\" />"
   ]
  },
  {
   "cell_type": "code",
   "execution_count": null,
   "metadata": {
    "slideshow": {
     "slide_type": "subslide"
    }
   },
   "outputs": [],
   "source": [
    "class SpaceShip\n",
    "  def initalize(speed)\n",
    "    @speed = speed\n",
    "  end\n",
    "    \n",
    "  def accelerate(speed)\n",
    "    @speed += speed\n",
    "  end\n",
    "end"
   ]
  },
  {
   "cell_type": "code",
   "execution_count": null,
   "metadata": {
    "slideshow": {
     "slide_type": "subslide"
    }
   },
   "outputs": [],
   "source": [
    "class Speed\n",
    "  attr_reader :unit\n",
    "  \n",
    "  def initialize(unit)\n",
    "    @unit = unit\n",
    "  end\n",
    "end"
   ]
  },
  {
   "cell_type": "code",
   "execution_count": null,
   "metadata": {
    "slideshow": {
     "slide_type": "fragment"
    }
   },
   "outputs": [],
   "source": [
    "class Speed1D < Speed\n",
    "  attr_reader :value\n",
    "  \n",
    "  def initialize(unit, value)\n",
    "    super(unit)\n",
    "    @value = value\n",
    "    @unit = :KMH\n",
    "  end\n",
    "end"
   ]
  },
  {
   "cell_type": "code",
   "execution_count": null,
   "metadata": {
    "slideshow": {
     "slide_type": "fragment"
    }
   },
   "outputs": [],
   "source": [
    "speed1 = Speed1D.new(10, :MS)\n",
    "speed1.unit #=> :KMH"
   ]
  },
  {
   "cell_type": "markdown",
   "metadata": {
    "slideshow": {
     "slide_type": "fragment"
    }
   },
   "source": [
    "<img src=\"img/ruby_class.png\" />"
   ]
  },
  {
   "cell_type": "markdown",
   "metadata": {
    "slideshow": {
     "slide_type": "subslide"
    }
   },
   "source": [
    "## Zunifikowany dostęp do atrybutów"
   ]
  },
  {
   "cell_type": "code",
   "execution_count": null,
   "metadata": {
    "slideshow": {
     "slide_type": "fragment"
    }
   },
   "outputs": [],
   "source": [
    "class Speed\n",
    "  attr_accessor :unit\n",
    "  \n",
    "  def initialize(unit)\n",
    "    @unit = unit\n",
    "  end\n",
    "end"
   ]
  },
  {
   "cell_type": "code",
   "execution_count": null,
   "metadata": {
    "slideshow": {
     "slide_type": "fragment"
    }
   },
   "outputs": [],
   "source": [
    "speed1 = Speed(:KMH)\n",
    "speed1.unit #=> :KMH\n",
    "speed1.unit = :MPH\n",
    "speed1.unit = \"abc\"\n",
    "speed1.unit #=> \"abc\""
   ]
  },
  {
   "cell_type": "code",
   "execution_count": null,
   "metadata": {
    "slideshow": {
     "slide_type": "subslide"
    }
   },
   "outputs": [],
   "source": [
    "class Speed\n",
    "  attr_reader :unit\n",
    "  VALID_UNITS = [:KMH, :MPH]\n",
    "\n",
    "  def initialize(unit)\n",
    "    @unit = unit\n",
    "  end\n",
    "\n",
    "  def unit=(new_value)\n",
    "    if VALID_UNITS.include?(new_value)\n",
    "      @unit = new_value\n",
    "    end\n",
    "  end\n",
    "end"
   ]
  },
  {
   "cell_type": "code",
   "execution_count": null,
   "metadata": {
    "slideshow": {
     "slide_type": "fragment"
    }
   },
   "outputs": [],
   "source": [
    "speed1 = Speed(:KMH)\n",
    "speed1.unit = :MPH\n",
    "speed1.unit = \"abc\"\n",
    "speed1.unit #=> :MPH"
   ]
  },
  {
   "cell_type": "markdown",
   "metadata": {
    "slideshow": {
     "slide_type": "slide"
    }
   },
   "source": [
    "![Pytania? ](http://cliparts.co/cliparts/qcB/jqg/qcBjqgxc5.jpg)"
   ]
  },
  {
   "cell_type": "markdown",
   "metadata": {
    "slideshow": {
     "slide_type": "skip"
    }
   },
   "source": [
    "TODO\n",
    "* dostęp do pól w C#"
   ]
  }
 ],
 "metadata": {
  "celltoolbar": "Slideshow",
  "kernelspec": {
   "display_name": "SciJava",
   "language": "groovy",
   "name": "scijava"
  },
  "language_info": {
   "codemirror_mode": "groovy",
   "file_extension": "",
   "mimetype": "",
   "name": "scijava",
   "nbconverter_exporter": "",
   "pygments_lexer": "groovy",
   "version": "1.0"
  }
 },
 "nbformat": 4,
 "nbformat_minor": 1
}
