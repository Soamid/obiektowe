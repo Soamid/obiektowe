{
 "cells": [
  {
   "cell_type": "markdown",
   "metadata": {},
   "source": [
    "# Refleksja w Rubim\n",
    "\n",
    "\n",
    "## Struktura dostęp do informacji o typie, polach i metodach\n",
    "## Dynamiczne ładowanie klas\n",
    "    \n",
    "<br/>\n",
    "\n",
    "## dr inż. Aleksander Smywiński-Pohl\n",
    "\n",
    "## apohllo@agh.edu.pl\n",
    "\n",
    "## http://apohllo.pl/dydaktyka/programowanie-obiektowe\n",
    "\n",
    "## konsultacje: wtorek 15:30 - 18:00, pokój 4.61\n",
    "\n"
   ]
  },
  {
   "cell_type": "markdown",
   "metadata": {
    "slideshow": {
     "slide_type": "subslide"
    }
   },
   "source": [
    "# Pytanie 1\n",
    "\n",
    "Do czego najbardziej mogą przydać się nam zagnieżdżone klasy i interfejsy?"
   ]
  },
  {
   "cell_type": "markdown",
   "metadata": {
    "slideshow": {
     "slide_type": "subslide"
    }
   },
   "source": [
    "# Pytanie 2\n",
    "\n",
    "Czy Java Developer powinien się zaznajamiać głęboko z wyrażeniami lambda wprowadzonymi w Java 8 pomimo spadków wydajności przy używaniu paralelizmu, utrudnionego debugowania ze względu na wydłużone \"stack trace\"?"
   ]
  },
  {
   "cell_type": "markdown",
   "metadata": {
    "slideshow": {
     "slide_type": "subslide"
    }
   },
   "source": [
    "# Pytanie 3\n",
    "\n",
    "Jeśli w klasie wewnętrznej zostanie zadeklarowana zmienna tego samego typu i o tej samej nazwie co w klasie otaczającej to czy przesłoni ona tę z otaczającej?"
   ]
  },
  {
   "cell_type": "markdown",
   "metadata": {
    "slideshow": {
     "slide_type": "slide"
    }
   },
   "source": [
    "<img src=\"img/ruby-horizontal.svg\" width=\"800\"/>"
   ]
  },
  {
   "cell_type": "markdown",
   "metadata": {
    "slideshow": {
     "slide_type": "subslide"
    }
   },
   "source": [
    "# Pomoc wbudowana w REPLa"
   ]
  },
  {
   "cell_type": "code",
   "execution_count": null,
   "metadata": {
    "slideshow": {
     "slide_type": "-"
    }
   },
   "outputs": [],
   "source": [
    "[1] pry(main)> require 'dry/types'\n",
    "=> true\n",
    "[2] pry(main)> ls Dry\n",
    "constants: Configurable  Container  Core  Equalizer  Logic  Types\n",
    "Dry.methods: Equalizer\n",
    "[3] pry(main)> ls Dry::Equalizer\n",
    "constants: Methods\n",
    "Object.methods: yaml_tag\n",
    "Module.methods: constants  nesting  used_modules\n",
    "[4] pry(main)> ? Dry::Equalizer#constants\n",
    "\n",
    "From: variable.c (C Method):\n",
    "Owner: Module\n",
    "Visibility: public\n",
    "Signature: constants(*arg1)\n",
    "Number of lines: 12\n",
    "\n",
    "Returns an array of the names of the constants accessible in\n",
    "mod. This includes the names of constants in any included\n",
    "modules (example at start of section), unless the inherit\n",
    "parameter is set to false.\n",
    "\n",
    "The implementation makes no guarantees about the order in which the\n",
    "constants are yielded.\n",
    "\n",
    "  IO.constants.include?(:SYNC)        #=> true\n",
    "  IO.constants(false).include?(:SYNC) #=> false\n",
    "\n",
    "Also see Module::const_defined?.\n"
   ]
  },
  {
   "cell_type": "markdown",
   "metadata": {
    "slideshow": {
     "slide_type": "subslide"
    }
   },
   "source": [
    "# Informacja o typie"
   ]
  },
  {
   "cell_type": "code",
   "execution_count": 29,
   "metadata": {
    "slideshow": {
     "slide_type": "-"
    }
   },
   "outputs": [
    {
     "name": "stdout",
     "output_type": "stream",
     "text": [
      "Integer\n",
      "String\n"
     ]
    }
   ],
   "source": [
    "puts 1.class()\n",
    "puts \"Ala ma kota\".class()"
   ]
  },
  {
   "cell_type": "markdown",
   "metadata": {
    "slideshow": {
     "slide_type": "subslide"
    }
   },
   "source": [
    "# Weryfikacja przynależności do typu"
   ]
  },
  {
   "cell_type": "code",
   "execution_count": 30,
   "metadata": {
    "slideshow": {
     "slide_type": "-"
    }
   },
   "outputs": [
    {
     "name": "stdout",
     "output_type": "stream",
     "text": [
      "Obiekt jest łańcuchem znaków\n"
     ]
    }
   ],
   "source": [
    "object = \"Ala ma kota\"\n",
    "\n",
    "if(object.is_a?(String))\n",
    "    puts \"Obiekt jest łańcuchem znaków\"\n",
    "end"
   ]
  },
  {
   "cell_type": "code",
   "execution_count": 31,
   "metadata": {
    "slideshow": {
     "slide_type": "fragment"
    }
   },
   "outputs": [
    {
     "name": "stdout",
     "output_type": "stream",
     "text": [
      "Obiekt jest łańcuchem znaków\n"
     ]
    }
   ],
   "source": [
    "object = \"Ala ma kota\"\n",
    "\n",
    "if(String === object)\n",
    "    puts \"Obiekt jest łańcuchem znaków\"\n",
    "end"
   ]
  },
  {
   "cell_type": "code",
   "execution_count": 32,
   "metadata": {
    "slideshow": {
     "slide_type": "fragment"
    }
   },
   "outputs": [
    {
     "name": "stdout",
     "output_type": "stream",
     "text": [
      "Obiekt jest tablicą\n"
     ]
    }
   ],
   "source": [
    "object = [1,2,3]\n",
    "\n",
    "case(object)\n",
    "when String\n",
    "  puts \"Obiekt jest łańuchem znaków\"\n",
    "when Array\n",
    "  puts \"Obiekt jest tablicą\"\n",
    "end"
   ]
  },
  {
   "cell_type": "markdown",
   "metadata": {
    "slideshow": {
     "slide_type": "subslide"
    }
   },
   "source": [
    "# Informacje o hierarchii klas"
   ]
  },
  {
   "cell_type": "code",
   "execution_count": 41,
   "metadata": {
    "slideshow": {
     "slide_type": "-"
    }
   },
   "outputs": [
    {
     "name": "stdout",
     "output_type": "stream",
     "text": [
      "#<Cat:0x000055874badf160>\n",
      "Cat\n",
      "Mammal\n",
      "Class\n",
      "\n"
     ]
    }
   ],
   "source": [
    "class Animal\n",
    "end\n",
    "\n",
    "class Mammal < Animal\n",
    "end\n",
    "\n",
    "class Cat < Mammal\n",
    "end\n",
    "\n",
    "class Bat < Mammal\n",
    "end\n",
    "\n",
    "puts Cat.new\n",
    "puts Cat.new.class\n",
    "puts Cat.new.class.superclass\n",
    "puts Cat.new.class.class\n",
    "puts Cat.new.class.class.class.superclass.superclass.superclass.superclass"
   ]
  },
  {
   "cell_type": "code",
   "execution_count": 42,
   "metadata": {
    "slideshow": {
     "slide_type": "fragment"
    }
   },
   "outputs": [
    {
     "name": "stdout",
     "output_type": "stream",
     "text": [
      "[Object, Animal, Mammal, Bat]\n"
     ]
    }
   ],
   "source": [
    "def ancestors(klass, chain=[])\n",
    "  klass.superclass ? ancestors(klass.superclass, chain + [klass]) : chain.reverse\n",
    "end\n",
    "\n",
    "puts ancestors(Bat)"
   ]
  },
  {
   "cell_type": "code",
   "execution_count": 43,
   "metadata": {
    "slideshow": {
     "slide_type": "subslide"
    }
   },
   "outputs": [],
   "source": [
    "class Whale < Mammal\n",
    "end\n",
    "\n",
    "class Reptile < Animal\n",
    "end\n",
    "\n",
    "class Snake < Reptile\n",
    "end"
   ]
  },
  {
   "cell_type": "code",
   "execution_count": 44,
   "metadata": {
    "slideshow": {
     "slide_type": "fragment"
    }
   },
   "outputs": [
    {
     "data": {
      "text/plain": [
       "[[1, \"a\"], [2, \"b\"], [3, \"c\"]]"
      ]
     },
     "execution_count": 44,
     "metadata": {},
     "output_type": "execute_result"
    }
   ],
   "source": [
    "[1,2,3].zip([\"a\", \"b\", \"c\"]).to_a"
   ]
  },
  {
   "cell_type": "code",
   "execution_count": 45,
   "metadata": {
    "slideshow": {
     "slide_type": "fragment"
    }
   },
   "outputs": [
    {
     "data": {
      "text/plain": [
       "[[1, 2], [2, 3], [3, 4], [4, 5], [5, 6]]"
      ]
     },
     "execution_count": 45,
     "metadata": {},
     "output_type": "execute_result"
    }
   ],
   "source": [
    "[1,2,3,4,5,6].each_cons(2).to_a"
   ]
  },
  {
   "cell_type": "code",
   "execution_count": 46,
   "metadata": {
    "slideshow": {
     "slide_type": "fragment"
    }
   },
   "outputs": [
    {
     "name": "stdout",
     "output_type": "stream",
     "text": [
      "1 - a : 2 - b\n",
      "2 - b : 3 - c\n",
      "3 - c : 4 - d\n",
      "4 - d : 5 - e\n"
     ]
    }
   ],
   "source": [
    "[1,2,3,4,5].\n",
    "  zip([\"a\", \"b\", \"c\", \"d\", \"e\"]).\n",
    "  each_cons(2).\n",
    "  each{|(a1, b1), (a2,b2)| puts \"#{a1} - #{b1} : #{a2} - #{b2}\"}"
   ]
  },
  {
   "cell_type": "code",
   "execution_count": 47,
   "metadata": {
    "slideshow": {
     "slide_type": "subslide"
    }
   },
   "outputs": [
    {
     "data": {
      "text/plain": [
       ":commonAncestor"
      ]
     },
     "execution_count": 47,
     "metadata": {},
     "output_type": "execute_result"
    }
   ],
   "source": [
    "def commonAncestor(klass1, klass2)\n",
    "  ancestors(klass1).zip(ancestors(klass2)).each_cons(2) do |(grandparent1, grandparent2), (parent1, parent2)|\n",
    "    return grandparent1 if parent1 != parent2 \n",
    "  end\n",
    "end"
   ]
  },
  {
   "cell_type": "code",
   "execution_count": 48,
   "metadata": {
    "slideshow": {
     "slide_type": "fragment"
    }
   },
   "outputs": [
    {
     "name": "stdout",
     "output_type": "stream",
     "text": [
      "Mammal\n",
      "Animal\n",
      "Reptile\n",
      "Object\n"
     ]
    }
   ],
   "source": [
    "puts commonAncestor(Bat, Whale)\n",
    "puts commonAncestor(Snake, Bat)\n",
    "puts commonAncestor(Snake, Reptile)\n",
    "puts commonAncestor(1.class, Bat)"
   ]
  },
  {
   "cell_type": "markdown",
   "metadata": {
    "slideshow": {
     "slide_type": "subslide"
    }
   },
   "source": [
    "# Dynamiczne ładowanie klas"
   ]
  },
  {
   "cell_type": "code",
   "execution_count": 49,
   "metadata": {
    "slideshow": {
     "slide_type": "-"
    }
   },
   "outputs": [
    {
     "data": {
      "text/plain": [
       ":go"
      ]
     },
     "execution_count": 49,
     "metadata": {},
     "output_type": "execute_result"
    }
   ],
   "source": [
    "class Car\n",
    "  def go\n",
    "    puts \"Brum brum\"\n",
    "  end\n",
    "end\n",
    "\n",
    "class Airplane\n",
    "  def go\n",
    "    puts \"Bzzzzz\"\n",
    "  end\n",
    "end\n",
    "\n",
    "class Rocket\n",
    "  def go\n",
    "    puts \"BUUUUUUM\"\n",
    "  end\n",
    "end"
   ]
  },
  {
   "cell_type": "code",
   "execution_count": 50,
   "metadata": {
    "slideshow": {
     "slide_type": "fragment"
    }
   },
   "outputs": [
    {
     "name": "stdout",
     "output_type": "stream",
     "text": [
      "Brum brum\n",
      "Brum brum\n",
      "BUUUUUUM\n",
      "Bzzzzz\n"
     ]
    },
    {
     "data": {
      "text/plain": [
       "[\"Car\", \"Car\", \"Rocket\", \"Airplane\"]"
      ]
     },
     "execution_count": 50,
     "metadata": {},
     "output_type": "execute_result"
    }
   ],
   "source": [
    "[\"Car\", \"Car\", \"Rocket\", \"Airplane\"].each do |classname|\n",
    "  Class.const_get(classname).new.go\n",
    "end"
   ]
  },
  {
   "cell_type": "markdown",
   "metadata": {
    "slideshow": {
     "slide_type": "subslide"
    }
   },
   "source": [
    "# Refleksja"
   ]
  },
  {
   "cell_type": "code",
   "execution_count": 51,
   "metadata": {
    "slideshow": {
     "slide_type": "-"
    }
   },
   "outputs": [
    {
     "name": "stdout",
     "output_type": "stream",
     "text": [
      "[:!, :!=, :!~, :<=>, :==, :===, :=~, :__binding__, :__id__, :__send__, :byebug, :class, :clone, :debugger, :define_singleton_method, :display, :dup, :enum_for, :eql?, :equal?, :extend, :freeze, :frozen?, :go, :hash, :inspect, :instance_eval, :instance_exec, :instance_of?, :instance_variable_defined?, :instance_variable_get, :instance_variable_set, :instance_variables, :is_a?, :itself, :kind_of?, :method, :methods, :nil?, :object_id, :pretty_inspect, :pretty_print, :pretty_print_cycle, :pretty_print_inspect, :pretty_print_instance_variables, :private_methods, :protected_methods, :pry, :public_method, :public_methods, :public_send, :remote_byebug, :remove_instance_variable, :respond_to?, :send, :singleton_class, :singleton_method, :singleton_methods, :taint, :tainted?, :tap, :to_enum, :to_json, :to_s, :to_yaml, :trust, :untaint, :untrust, :untrusted?]\n"
     ]
    }
   ],
   "source": [
    "puts Car.new.public_methods.sort"
   ]
  },
  {
   "cell_type": "code",
   "execution_count": 52,
   "metadata": {
    "slideshow": {
     "slide_type": "fragment"
    }
   },
   "outputs": [
    {
     "name": "stdout",
     "output_type": "stream",
     "text": [
      "[:go]\n"
     ]
    }
   ],
   "source": [
    "puts (Car.new.public_methods - 1.public_methods).sort"
   ]
  },
  {
   "cell_type": "code",
   "execution_count": 53,
   "metadata": {
    "slideshow": {
     "slide_type": "subslide"
    }
   },
   "outputs": [
    {
     "data": {
      "text/plain": [
       ":riding?"
      ]
     },
     "execution_count": 53,
     "metadata": {},
     "output_type": "execute_result"
    }
   ],
   "source": [
    "class Bike\n",
    "  def initialize\n",
    "    @speed = 0\n",
    "  end\n",
    "\n",
    "  def go\n",
    "    @speed = 10\n",
    "  end\n",
    "\n",
    "  def stop\n",
    "    @speed = 0\n",
    "  end\n",
    "\n",
    "  def riding?\n",
    "    @speed > 0\n",
    "  end\n",
    "end"
   ]
  },
  {
   "cell_type": "code",
   "execution_count": 54,
   "metadata": {
    "slideshow": {
     "slide_type": "fragment"
    }
   },
   "outputs": [
    {
     "name": "stdout",
     "output_type": "stream",
     "text": [
      "[:@speed]\n"
     ]
    }
   ],
   "source": [
    "puts Bike.new.instance_variables"
   ]
  },
  {
   "cell_type": "markdown",
   "metadata": {
    "slideshow": {
     "slide_type": "subslide"
    }
   },
   "source": [
    "# Dynamiczne wywoływanie metod"
   ]
  },
  {
   "cell_type": "code",
   "execution_count": 55,
   "metadata": {
    "slideshow": {
     "slide_type": "-"
    }
   },
   "outputs": [
    {
     "name": "stdout",
     "output_type": "stream",
     "text": [
      "false\n",
      "true\n"
     ]
    }
   ],
   "source": [
    "bike = Bike.new\n",
    "puts bike.public_send(\"riding?\")\n",
    "bike.public_send(\"go\")\n",
    "puts bike.public_send(\"riding?\")"
   ]
  },
  {
   "cell_type": "code",
   "execution_count": 57,
   "metadata": {
    "slideshow": {
     "slide_type": "fragment"
    }
   },
   "outputs": [
    {
     "data": {
      "text/plain": [
       "0"
      ]
     },
     "execution_count": 57,
     "metadata": {},
     "output_type": "execute_result"
    }
   ],
   "source": [
    "bike = Bike.new\n",
    "#bike.public_send(\"initialize\")\n",
    "bike.send(\"initialize\")"
   ]
  },
  {
   "cell_type": "markdown",
   "metadata": {
    "slideshow": {
     "slide_type": "subslide"
    }
   },
   "source": [
    "# Dynamiczny dostęp do pól"
   ]
  },
  {
   "cell_type": "code",
   "execution_count": 62,
   "metadata": {
    "slideshow": {
     "slide_type": "-"
    }
   },
   "outputs": [
    {
     "name": "stdout",
     "output_type": "stream",
     "text": [
      "0\n"
     ]
    },
    {
     "ename": "RuntimeError",
     "evalue": "Don't do it!",
     "output_type": "error",
     "traceback": [
      "\u001b[31mRuntimeError\u001b[0m: Don't do it!",
      "\u001b[37m(pry):419:in `instance_variable_set'\u001b[0m",
      "\u001b[37m(pry):424:in `<main>'\u001b[0m",
      "\u001b[37m/home/apohllo/.rvm/gems/ruby-2.4.2/gems/pry-0.11.3/lib/pry/pry_instance.rb:355:in `eval'\u001b[0m",
      "\u001b[37m/home/apohllo/.rvm/gems/ruby-2.4.2/gems/pry-0.11.3/lib/pry/pry_instance.rb:355:in `evaluate_ruby'\u001b[0m",
      "\u001b[37m/home/apohllo/.rvm/gems/ruby-2.4.2/gems/pry-0.11.3/lib/pry/pry_instance.rb:323:in `handle_line'\u001b[0m",
      "\u001b[37m/home/apohllo/.rvm/gems/ruby-2.4.2/gems/pry-0.11.3/lib/pry/pry_instance.rb:243:in `block (2 levels) in eval'\u001b[0m",
      "\u001b[37m/home/apohllo/.rvm/gems/ruby-2.4.2/gems/pry-0.11.3/lib/pry/pry_instance.rb:242:in `catch'\u001b[0m",
      "\u001b[37m/home/apohllo/.rvm/gems/ruby-2.4.2/gems/pry-0.11.3/lib/pry/pry_instance.rb:242:in `block in eval'\u001b[0m",
      "\u001b[37m/home/apohllo/.rvm/gems/ruby-2.4.2/gems/pry-0.11.3/lib/pry/pry_instance.rb:241:in `catch'\u001b[0m",
      "\u001b[37m/home/apohllo/.rvm/gems/ruby-2.4.2/gems/pry-0.11.3/lib/pry/pry_instance.rb:241:in `eval'\u001b[0m",
      "\u001b[37m/home/apohllo/.rvm/gems/ruby-2.4.2/gems/iruby-0.3/lib/iruby/backend.rb:66:in `eval'\u001b[0m",
      "\u001b[37m/home/apohllo/.rvm/gems/ruby-2.4.2/gems/iruby-0.3/lib/iruby/backend.rb:12:in `eval'\u001b[0m",
      "\u001b[37m/home/apohllo/.rvm/gems/ruby-2.4.2/gems/iruby-0.3/lib/iruby/kernel.rb:87:in `execute_request'\u001b[0m",
      "\u001b[37m/home/apohllo/.rvm/gems/ruby-2.4.2/gems/iruby-0.3/lib/iruby/kernel.rb:47:in `dispatch'\u001b[0m",
      "\u001b[37m/home/apohllo/.rvm/gems/ruby-2.4.2/gems/iruby-0.3/lib/iruby/kernel.rb:37:in `run'\u001b[0m",
      "\u001b[37m/home/apohllo/.rvm/gems/ruby-2.4.2/gems/iruby-0.3/lib/iruby/command.rb:70:in `run_kernel'\u001b[0m",
      "\u001b[37m/home/apohllo/.rvm/gems/ruby-2.4.2/gems/iruby-0.3/lib/iruby/command.rb:34:in `run'\u001b[0m",
      "\u001b[37m/home/apohllo/.rvm/gems/ruby-2.4.2/gems/iruby-0.3/bin/iruby:5:in `<top (required)>'\u001b[0m",
      "\u001b[37m/home/apohllo/.rvm/gems/ruby-2.4.2/bin/iruby:23:in `load'\u001b[0m",
      "\u001b[37m/home/apohllo/.rvm/gems/ruby-2.4.2/bin/iruby:23:in `<main>'\u001b[0m",
      "\u001b[37m/home/apohllo/.rvm/gems/ruby-2.4.2/bin/ruby_executable_hooks:15:in `eval'\u001b[0m",
      "\u001b[37m/home/apohllo/.rvm/gems/ruby-2.4.2/bin/ruby_executable_hooks:15:in `<main>'\u001b[0m"
     ]
    }
   ],
   "source": [
    "bike = Bike.new\n",
    "puts bike.instance_variable_get(\"@speed\")\n",
    "bike.instance_variable_set(\"@speed\", 10)\n",
    "puts bike.instance_variable_get(\"@speed\")"
   ]
  },
  {
   "cell_type": "code",
   "execution_count": 61,
   "metadata": {
    "slideshow": {
     "slide_type": "fragment"
    }
   },
   "outputs": [
    {
     "data": {
      "text/plain": [
       ":instance_variable_set"
      ]
     },
     "execution_count": 61,
     "metadata": {},
     "output_type": "execute_result"
    }
   ],
   "source": [
    "class Bike\n",
    "  def instance_variable_set(name, value)\n",
    "    raise \"Don't do it!\"\n",
    "  end\n",
    "end"
   ]
  },
  {
   "cell_type": "code",
   "execution_count": null,
   "metadata": {
    "slideshow": {
     "slide_type": "fragment"
    }
   },
   "outputs": [],
   "source": [
    "bike = Bike.new\n",
    "puts bike.instance_variable_get(\"@speed\")\n",
    "bike.instance_variable_set(\"@speed\", 10)\n",
    "puts bike.instance_variable_get(\"@speed\")"
   ]
  },
  {
   "cell_type": "markdown",
   "metadata": {
    "slideshow": {
     "slide_type": "subslide"
    }
   },
   "source": [
    "# Dynamiczne proxy"
   ]
  },
  {
   "cell_type": "code",
   "execution_count": 63,
   "metadata": {
    "slideshow": {
     "slide_type": "-"
    }
   },
   "outputs": [
    {
     "data": {
      "text/plain": [
       ":replay"
      ]
     },
     "execution_count": 63,
     "metadata": {},
     "output_type": "execute_result"
    }
   ],
   "source": [
    "class Wrapper\n",
    "  def initialize(object)\n",
    "    @object = object\n",
    "    @invocations = []\n",
    "  end\n",
    "\n",
    "  def method_missing(*arguments)\n",
    "    @invocations << arguments \n",
    "    @object.public_send(*arguments)\n",
    "  end\n",
    "\n",
    "  def replay\n",
    "    @invocations.each do |arguments|\n",
    "      @object.public_send(*arguments)\n",
    "    end\n",
    "  end\n",
    "end"
   ]
  },
  {
   "cell_type": "code",
   "execution_count": 64,
   "metadata": {
    "slideshow": {
     "slide_type": "subslide"
    }
   },
   "outputs": [
    {
     "name": "stdout",
     "output_type": "stream",
     "text": [
      "1, 2, 3\n",
      "1, 2, 3, 1, 2, 3\n"
     ]
    }
   ],
   "source": [
    "wrapper = Wrapper.new([])\n",
    "wrapper << 1\n",
    "wrapper << 2\n",
    "wrapper << 3\n",
    "puts wrapper.to_a.join(\", \")\n",
    "\n",
    "wrapper.replay\n",
    "\n",
    "puts wrapper.to_a.join(\", \")"
   ]
  }
 ],
 "metadata": {
  "celltoolbar": "Slideshow",
  "kernelspec": {
   "display_name": "Ruby 2.4.2",
   "language": "ruby",
   "name": "ruby"
  },
  "language_info": {
   "file_extension": ".rb",
   "mimetype": "application/x-ruby",
   "name": "ruby",
   "version": "2.4.2"
  },
  "toc": {
   "base_numbering": 1,
   "nav_menu": {},
   "number_sections": false,
   "sideBar": true,
   "skip_h1_title": false,
   "title_cell": "Table of Contents",
   "title_sidebar": "Contents",
   "toc_cell": false,
   "toc_position": {},
   "toc_section_display": true,
   "toc_window_display": false
  }
 },
 "nbformat": 4,
 "nbformat_minor": 2
}
