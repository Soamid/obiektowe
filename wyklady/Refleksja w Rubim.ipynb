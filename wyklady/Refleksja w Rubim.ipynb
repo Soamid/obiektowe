{
 "cells": [
  {
   "cell_type": "markdown",
   "metadata": {
    "slideshow": {
     "slide_type": "slide"
    }
   },
   "source": [
    "# Refleksja w Rubim\n",
    "\n",
    "\n",
    "## Struktura dostęp do informacji o typie, polach i metodach\n",
    "## Dynamiczne ładowanie klas\n",
    "    \n",
    "<br/>\n",
    "\n",
    "## dr inż. Aleksander Smywiński-Pohl\n",
    "\n",
    "## apohllo@agh.edu.pl\n",
    "\n",
    "## http://apohllo.pl/dydaktyka/programowanie-obiektowe\n",
    "\n",
    "## konsultacje: czwartek 14:45 - 15:45, pokój 4.61\n",
    "\n"
   ]
  },
  {
   "cell_type": "markdown",
   "metadata": {
    "slideshow": {
     "slide_type": "slide"
    }
   },
   "source": [
    "<img src=\"img/ruby-horizontal.svg\" width=\"800\"/>"
   ]
  },
  {
   "cell_type": "markdown",
   "metadata": {
    "slideshow": {
     "slide_type": "subslide"
    }
   },
   "source": [
    "# Pomoc wbudowana w REPLa"
   ]
  },
  {
   "cell_type": "code",
   "execution_count": null,
   "metadata": {
    "slideshow": {
     "slide_type": "-"
    }
   },
   "outputs": [],
   "source": [
    "[1] pry(main)> require 'dry/types'\n",
    "=> true\n",
    "[2] pry(main)> ls Dry\n",
    "constants: Configurable  Container  Core  Equalizer  Logic  Types\n",
    "Dry.methods: Equalizer\n",
    "[3] pry(main)> ls Dry::Equalizer\n",
    "constants: Methods\n",
    "Object.methods: yaml_tag\n",
    "Module.methods: constants  nesting  used_modules\n",
    "[4] pry(main)> ? Dry::Equalizer#constants\n",
    "\n",
    "From: variable.c (C Method):\n",
    "Owner: Module\n",
    "Visibility: public\n",
    "Signature: constants(*arg1)\n",
    "Number of lines: 12\n",
    "\n",
    "Returns an array of the names of the constants accessible in\n",
    "mod. This includes the names of constants in any included\n",
    "modules (example at start of section), unless the inherit\n",
    "parameter is set to false.\n",
    "\n",
    "The implementation makes no guarantees about the order in which the\n",
    "constants are yielded.\n",
    "\n",
    "  IO.constants.include?(:SYNC)        #=> true\n",
    "  IO.constants(false).include?(:SYNC) #=> false\n",
    "\n",
    "Also see Module::const_defined?.\n"
   ]
  },
  {
   "cell_type": "markdown",
   "metadata": {
    "slideshow": {
     "slide_type": "subslide"
    }
   },
   "source": [
    "# Informacja o typie"
   ]
  },
  {
   "cell_type": "code",
   "execution_count": 2,
   "metadata": {
    "ExecuteTime": {
     "end_time": "2022-01-19T07:25:03.892715Z",
     "start_time": "2022-01-19T07:25:03.888Z"
    },
    "slideshow": {
     "slide_type": "-"
    }
   },
   "outputs": [
    {
     "name": "stdout",
     "output_type": "stream",
     "text": [
      "Integer\n",
      "String\n",
      "NilClass\n"
     ]
    }
   ],
   "source": [
    "puts 1.class()\n",
    "puts \"Ala ma kota\".class()\n",
    "puts nil.class()"
   ]
  },
  {
   "cell_type": "markdown",
   "metadata": {
    "slideshow": {
     "slide_type": "subslide"
    }
   },
   "source": [
    "# Weryfikacja przynależności do typu"
   ]
  },
  {
   "cell_type": "code",
   "execution_count": 3,
   "metadata": {
    "ExecuteTime": {
     "end_time": "2022-01-19T07:28:20.847441Z",
     "start_time": "2022-01-19T07:28:20.833Z"
    },
    "slideshow": {
     "slide_type": "-"
    }
   },
   "outputs": [
    {
     "name": "stdout",
     "output_type": "stream",
     "text": [
      "Obiekt jest łańcuchem znaków\n"
     ]
    }
   ],
   "source": [
    "object = \"Ala ma kota\"\n",
    "\n",
    "if(object.is_a?(String))\n",
    "  puts \"Obiekt jest łańcuchem znaków\"\n",
    "end"
   ]
  },
  {
   "cell_type": "code",
   "execution_count": 4,
   "metadata": {
    "ExecuteTime": {
     "end_time": "2022-01-19T07:28:36.360223Z",
     "start_time": "2022-01-19T07:28:36.351Z"
    },
    "slideshow": {
     "slide_type": "fragment"
    }
   },
   "outputs": [
    {
     "name": "stdout",
     "output_type": "stream",
     "text": [
      "Obiekt jest łańcuchem znaków\n"
     ]
    }
   ],
   "source": [
    "object = \"Ala ma kota\"\n",
    "\n",
    "if(String === object)\n",
    "    puts \"Obiekt jest łańcuchem znaków\"\n",
    "end"
   ]
  },
  {
   "cell_type": "code",
   "execution_count": 5,
   "metadata": {
    "ExecuteTime": {
     "end_time": "2022-01-19T07:29:21.747424Z",
     "start_time": "2022-01-19T07:29:21.740Z"
    },
    "slideshow": {
     "slide_type": "fragment"
    }
   },
   "outputs": [
    {
     "name": "stdout",
     "output_type": "stream",
     "text": [
      "Obiekt jest tablicą\n"
     ]
    }
   ],
   "source": [
    "object = [1,2,3]\n",
    "\n",
    "case(object)\n",
    "when String\n",
    "  puts \"Obiekt jest łańuchem znaków\"\n",
    "when Array\n",
    "  puts \"Obiekt jest tablicą\"\n",
    "end"
   ]
  },
  {
   "cell_type": "markdown",
   "metadata": {
    "slideshow": {
     "slide_type": "subslide"
    }
   },
   "source": [
    "# Informacje o hierarchii klas"
   ]
  },
  {
   "cell_type": "code",
   "execution_count": 17,
   "metadata": {
    "ExecuteTime": {
     "end_time": "2022-01-19T07:36:26.106059Z",
     "start_time": "2022-01-19T07:36:26.096Z"
    },
    "slideshow": {
     "slide_type": "-"
    }
   },
   "outputs": [
    {
     "name": "stdout",
     "output_type": "stream",
     "text": [
      "#<Cat:0x000055dcc3cf2038>\n",
      "Cat\n",
      "Mammal\n",
      "Class\n",
      "nil\n"
     ]
    }
   ],
   "source": [
    "class Animal\n",
    "end\n",
    "\n",
    "class Mammal < Animal\n",
    "end\n",
    "\n",
    "class Cat < Mammal\n",
    "end\n",
    "\n",
    "class Bat < Mammal\n",
    "end\n",
    "\n",
    "p Cat.new\n",
    "p Cat.new.class\n",
    "p Cat.new.class.superclass\n",
    "p Cat.new.class.class.class\n",
    "p Cat.new.class.class.class.superclass.superclass.superclass.superclass"
   ]
  },
  {
   "cell_type": "code",
   "execution_count": 18,
   "metadata": {
    "ExecuteTime": {
     "end_time": "2022-01-19T07:38:54.112171Z",
     "start_time": "2022-01-19T07:38:54.108Z"
    },
    "slideshow": {
     "slide_type": "subslide"
    }
   },
   "outputs": [
    {
     "name": "stdout",
     "output_type": "stream",
     "text": [
      "[BasicObject, Object, Animal, Mammal, Bat]\n"
     ]
    }
   ],
   "source": [
    "def ancestors(klass, chain=[])\n",
    "  klass.superclass ? ancestors(klass.superclass, [klass] + chain) : [klass] + chain\n",
    "end\n",
    "\n",
    "puts ancestors(Bat)"
   ]
  },
  {
   "cell_type": "code",
   "execution_count": 19,
   "metadata": {
    "ExecuteTime": {
     "end_time": "2022-01-19T07:39:35.825908Z",
     "start_time": "2022-01-19T07:39:35.821Z"
    },
    "slideshow": {
     "slide_type": "subslide"
    }
   },
   "outputs": [],
   "source": [
    "class Whale < Mammal\n",
    "end\n",
    "\n",
    "class Reptile < Animal\n",
    "end\n",
    "\n",
    "class Snake < Reptile\n",
    "end"
   ]
  },
  {
   "cell_type": "code",
   "execution_count": 20,
   "metadata": {
    "ExecuteTime": {
     "end_time": "2022-01-19T07:39:59.760557Z",
     "start_time": "2022-01-19T07:39:59.756Z"
    },
    "slideshow": {
     "slide_type": "fragment"
    }
   },
   "outputs": [
    {
     "data": {
      "text/plain": [
       "[[1, \"a\"], [2, \"b\"], [3, \"c\"]]"
      ]
     },
     "execution_count": 20,
     "metadata": {},
     "output_type": "execute_result"
    }
   ],
   "source": [
    "[1,2,3].zip([\"a\", \"b\", \"c\"]).to_a"
   ]
  },
  {
   "cell_type": "code",
   "execution_count": 23,
   "metadata": {
    "ExecuteTime": {
     "end_time": "2022-01-19T07:40:30.881318Z",
     "start_time": "2022-01-19T07:40:30.876Z"
    },
    "slideshow": {
     "slide_type": "fragment"
    }
   },
   "outputs": [
    {
     "data": {
      "text/plain": [
       "[[1, 2], [2, 3], [3, 4], [4, 5], [5, 6]]"
      ]
     },
     "execution_count": 23,
     "metadata": {},
     "output_type": "execute_result"
    }
   ],
   "source": [
    "[1,2,3,4,5,6].each_cons(2).to_a"
   ]
  },
  {
   "cell_type": "code",
   "execution_count": 24,
   "metadata": {
    "ExecuteTime": {
     "end_time": "2022-01-19T07:41:14.790810Z",
     "start_time": "2022-01-19T07:41:14.781Z"
    },
    "scrolled": true,
    "slideshow": {
     "slide_type": "fragment"
    }
   },
   "outputs": [
    {
     "name": "stdout",
     "output_type": "stream",
     "text": [
      "1 - a : 2 - b\n",
      "2 - b : 3 - c\n",
      "3 - c : 4 - d\n",
      "4 - d : 5 - e\n"
     ]
    }
   ],
   "source": [
    "[1,2,3,4,5].\n",
    "  zip([\"a\", \"b\", \"c\", \"d\", \"e\"]).\n",
    "  each_cons(2).\n",
    "  each{|(a1, b1), (a2, b2)| puts \"#{a1} - #{b1} : #{a2} - #{b2}\"}"
   ]
  },
  {
   "cell_type": "code",
   "execution_count": 25,
   "metadata": {
    "ExecuteTime": {
     "end_time": "2022-01-19T07:42:50.981022Z",
     "start_time": "2022-01-19T07:42:50.975Z"
    },
    "slideshow": {
     "slide_type": "subslide"
    }
   },
   "outputs": [
    {
     "data": {
      "text/plain": [
       ":commonAncestor"
      ]
     },
     "execution_count": 25,
     "metadata": {},
     "output_type": "execute_result"
    }
   ],
   "source": [
    "def commonAncestor(klass1, klass2)\n",
    "  ancestors(klass1).zip(ancestors(klass2)).each_cons(2) do |(grandparent1, grandparent2), (parent1, parent2)|\n",
    "    return grandparent1 if parent1 != parent2 \n",
    "  end\n",
    "end"
   ]
  },
  {
   "cell_type": "code",
   "execution_count": 26,
   "metadata": {
    "ExecuteTime": {
     "end_time": "2022-01-19T07:43:35.635388Z",
     "start_time": "2022-01-19T07:43:35.629Z"
    },
    "slideshow": {
     "slide_type": "fragment"
    }
   },
   "outputs": [
    {
     "name": "stdout",
     "output_type": "stream",
     "text": [
      "Mammal\n",
      "Animal\n",
      "Reptile\n",
      "Object\n"
     ]
    }
   ],
   "source": [
    "puts commonAncestor(Bat, Whale)\n",
    "puts commonAncestor(Snake, Bat)\n",
    "puts commonAncestor(Snake, Reptile)\n",
    "puts commonAncestor(1.class, Bat)"
   ]
  },
  {
   "cell_type": "markdown",
   "metadata": {
    "slideshow": {
     "slide_type": "subslide"
    }
   },
   "source": [
    "# Dynamiczne ładowanie klas"
   ]
  },
  {
   "cell_type": "code",
   "execution_count": 28,
   "metadata": {
    "ExecuteTime": {
     "end_time": "2022-01-19T07:50:28.251178Z",
     "start_time": "2022-01-19T07:50:28.165Z"
    },
    "slideshow": {
     "slide_type": "-"
    }
   },
   "outputs": [
    {
     "data": {
      "text/plain": [
       ":go"
      ]
     },
     "execution_count": 28,
     "metadata": {},
     "output_type": "execute_result"
    }
   ],
   "source": [
    "class Car\n",
    "  def go\n",
    "    puts \"Brum brum\"\n",
    "  end\n",
    "end\n",
    "\n",
    "class Airplane\n",
    "  def go\n",
    "    puts \"Bzzzzz\"\n",
    "  end\n",
    "end\n",
    "\n",
    "class Rocket\n",
    "  def go\n",
    "    puts \"BUUUUUUM\"\n",
    "  end\n",
    "end"
   ]
  },
  {
   "cell_type": "code",
   "execution_count": 29,
   "metadata": {
    "ExecuteTime": {
     "end_time": "2022-01-19T07:50:30.421402Z",
     "start_time": "2022-01-19T07:50:30.414Z"
    },
    "slideshow": {
     "slide_type": "fragment"
    }
   },
   "outputs": [
    {
     "name": "stdout",
     "output_type": "stream",
     "text": [
      "Brum brum\n",
      "Brum brum\n",
      "BUUUUUUM\n",
      "Bzzzzz\n"
     ]
    },
    {
     "data": {
      "text/plain": [
       "[\"Car\", \"Car\", \"Rocket\", \"Airplane\"]"
      ]
     },
     "execution_count": 29,
     "metadata": {},
     "output_type": "execute_result"
    }
   ],
   "source": [
    "[\"Car\", \"Car\", \"Rocket\", \"Airplane\"].each do |classname|\n",
    "  Class.const_get(classname).new.go\n",
    "end"
   ]
  },
  {
   "cell_type": "markdown",
   "metadata": {
    "slideshow": {
     "slide_type": "subslide"
    }
   },
   "source": [
    "# Refleksja"
   ]
  },
  {
   "cell_type": "code",
   "execution_count": 30,
   "metadata": {
    "ExecuteTime": {
     "end_time": "2022-01-19T07:53:14.403375Z",
     "start_time": "2022-01-19T07:53:14.397Z"
    },
    "slideshow": {
     "slide_type": "-"
    }
   },
   "outputs": [
    {
     "name": "stdout",
     "output_type": "stream",
     "text": [
      "[:!, :!=, :!~, :<=>, :==, :===, :=~, :__binding__, :__id__, :__send__, :class, :clone, :define_singleton_method, :display, :dup, :enum_for, :eql?, :equal?, :extend, :freeze, :frozen?, :go, :hash, :inspect, :instance_eval, :instance_exec, :instance_of?, :instance_variable_defined?, :instance_variable_get, :instance_variable_set, :instance_variables, :is_a?, :itself, :kind_of?, :method, :methods, :nil?, :object_id, :pretty_inspect, :pretty_print, :pretty_print_cycle, :pretty_print_inspect, :pretty_print_instance_variables, :private_methods, :protected_methods, :pry, :public_method, :public_methods, :public_send, :remove_instance_variable, :respond_to?, :send, :singleton_class, :singleton_method, :singleton_methods, :taint, :tainted?, :tap, :then, :to_enum, :to_json, :to_s, :trust, :untaint, :untrust, :untrusted?, :yield_self]\n"
     ]
    }
   ],
   "source": [
    "puts Car.new.public_methods.sort"
   ]
  },
  {
   "cell_type": "code",
   "execution_count": 31,
   "metadata": {
    "ExecuteTime": {
     "end_time": "2022-01-19T07:54:31.691808Z",
     "start_time": "2022-01-19T07:54:31.683Z"
    },
    "slideshow": {
     "slide_type": "fragment"
    }
   },
   "outputs": [
    {
     "name": "stdout",
     "output_type": "stream",
     "text": [
      "[:go]\n"
     ]
    }
   ],
   "source": [
    "puts (Car.new.public_methods - 1.public_methods).sort"
   ]
  },
  {
   "cell_type": "code",
   "execution_count": 43,
   "metadata": {
    "ExecuteTime": {
     "end_time": "2022-01-19T07:59:54.550107Z",
     "start_time": "2022-01-19T07:59:54.544Z"
    },
    "slideshow": {
     "slide_type": "subslide"
    }
   },
   "outputs": [
    {
     "data": {
      "text/plain": [
       ":speed"
      ]
     },
     "execution_count": 43,
     "metadata": {},
     "output_type": "execute_result"
    }
   ],
   "source": [
    "class Bike\n",
    "  #def initialize\n",
    "  #  @speed = 0\n",
    "  #end\n",
    "\n",
    "  def go\n",
    "    @speed = 10\n",
    "  end\n",
    "\n",
    "  def stop\n",
    "    @speed = 0\n",
    "  end\n",
    "\n",
    "  def riding?\n",
    "    @speed > 0\n",
    "  end\n",
    "  \n",
    "  def speed\n",
    "    @speed\n",
    "  end\n",
    "end"
   ]
  },
  {
   "cell_type": "code",
   "execution_count": 44,
   "metadata": {
    "ExecuteTime": {
     "end_time": "2022-01-19T08:00:01.317473Z",
     "start_time": "2022-01-19T08:00:01.311Z"
    },
    "scrolled": true,
    "slideshow": {
     "slide_type": "fragment"
    }
   },
   "outputs": [
    {
     "name": "stdout",
     "output_type": "stream",
     "text": [
      "[:@speed]\n",
      "0\n"
     ]
    },
    {
     "data": {
      "text/plain": [
       "[:@speed]"
      ]
     },
     "execution_count": 44,
     "metadata": {},
     "output_type": "execute_result"
    }
   ],
   "source": [
    "puts Bike.new.instance_variables\n",
    "bike = Bike.new\n",
    "p bike.speed\n",
    "bike.go\n",
    "bike.instance_variables"
   ]
  },
  {
   "cell_type": "markdown",
   "metadata": {
    "slideshow": {
     "slide_type": "subslide"
    }
   },
   "source": [
    "# Dynamiczne wywoływanie metod"
   ]
  },
  {
   "cell_type": "code",
   "execution_count": 45,
   "metadata": {
    "ExecuteTime": {
     "end_time": "2022-01-19T08:01:12.200806Z",
     "start_time": "2022-01-19T08:01:12.194Z"
    },
    "slideshow": {
     "slide_type": "-"
    }
   },
   "outputs": [
    {
     "name": "stdout",
     "output_type": "stream",
     "text": [
      "false\n",
      "true\n"
     ]
    }
   ],
   "source": [
    "bike = Bike.new\n",
    "\n",
    "puts bike.public_send(:riding?)\n",
    "bike.public_send(\"go\")\n",
    "puts bike.public_send(\"riding?\")"
   ]
  },
  {
   "cell_type": "code",
   "execution_count": 47,
   "metadata": {
    "ExecuteTime": {
     "end_time": "2022-01-19T08:06:15.005994Z",
     "start_time": "2022-01-19T08:06:15.002Z"
    },
    "slideshow": {
     "slide_type": "fragment"
    }
   },
   "outputs": [
    {
     "data": {
      "text/plain": [
       "0"
      ]
     },
     "execution_count": 47,
     "metadata": {},
     "output_type": "execute_result"
    }
   ],
   "source": [
    "bike = Bike.new\n",
    "#bike.public_send(\"initialize\")\n",
    "bike.send(\"initialize\")"
   ]
  },
  {
   "cell_type": "markdown",
   "metadata": {
    "slideshow": {
     "slide_type": "subslide"
    }
   },
   "source": [
    "# Dynamiczny dostęp do pól"
   ]
  },
  {
   "cell_type": "code",
   "execution_count": 48,
   "metadata": {
    "ExecuteTime": {
     "end_time": "2022-01-19T08:07:28.741826Z",
     "start_time": "2022-01-19T08:07:28.736Z"
    },
    "slideshow": {
     "slide_type": "-"
    }
   },
   "outputs": [
    {
     "name": "stdout",
     "output_type": "stream",
     "text": [
      "0\n",
      "10\n",
      "10\n"
     ]
    }
   ],
   "source": [
    "bike = Bike.new\n",
    "puts bike.instance_variable_get(\"@speed\")\n",
    "bike.instance_variable_set(\"@speed\", 10)\n",
    "puts bike.instance_variable_get(\"@speed\")\n",
    "puts bike.speed"
   ]
  },
  {
   "cell_type": "code",
   "execution_count": 49,
   "metadata": {
    "ExecuteTime": {
     "end_time": "2022-01-19T08:13:27.255203Z",
     "start_time": "2022-01-19T08:13:27.248Z"
    },
    "slideshow": {
     "slide_type": "fragment"
    }
   },
   "outputs": [
    {
     "data": {
      "text/plain": [
       ":instance_variable_set"
      ]
     },
     "execution_count": 49,
     "metadata": {},
     "output_type": "execute_result"
    }
   ],
   "source": [
    "class Bike\n",
    "  def instance_variable_set(name, value)\n",
    "    raise \"Don't do it!\"\n",
    "  end\n",
    "end"
   ]
  },
  {
   "cell_type": "code",
   "execution_count": null,
   "metadata": {
    "ExecuteTime": {
     "end_time": "2022-01-19T08:13:31.046006Z",
     "start_time": "2022-01-19T08:13:31.032Z"
    },
    "slideshow": {
     "slide_type": "fragment"
    }
   },
   "outputs": [
    {
     "name": "stdout",
     "output_type": "stream",
     "text": [
      "0\n"
     ]
    },
    {
     "ename": "RuntimeError",
     "evalue": "Don't do it!",
     "output_type": "error",
     "traceback": [
      "\u001b[31mRuntimeError\u001b[0m: Don't do it!",
      "(pry):455:in `instance_variable_set'",
      "(pry):460:in `<main>'",
      "/home/apohllo/.rvm/gems/ruby-2.7.2/gems/pry-0.14.1/lib/pry/pry_instance.rb:290:in `eval'",
      "/home/apohllo/.rvm/gems/ruby-2.7.2/gems/pry-0.14.1/lib/pry/pry_instance.rb:290:in `evaluate_ruby'",
      "/home/apohllo/.rvm/gems/ruby-2.7.2/gems/pry-0.14.1/lib/pry/pry_instance.rb:659:in `handle_line'",
      "/home/apohllo/.rvm/gems/ruby-2.7.2/gems/pry-0.14.1/lib/pry/pry_instance.rb:261:in `block (2 levels) in eval'",
      "/home/apohllo/.rvm/gems/ruby-2.7.2/gems/pry-0.14.1/lib/pry/pry_instance.rb:260:in `catch'",
      "/home/apohllo/.rvm/gems/ruby-2.7.2/gems/pry-0.14.1/lib/pry/pry_instance.rb:260:in `block in eval'",
      "/home/apohllo/.rvm/gems/ruby-2.7.2/gems/pry-0.14.1/lib/pry/pry_instance.rb:259:in `catch'",
      "/home/apohllo/.rvm/gems/ruby-2.7.2/gems/pry-0.14.1/lib/pry/pry_instance.rb:259:in `eval'",
      "/home/apohllo/.rvm/gems/ruby-2.7.2/gems/iruby-0.4.0/lib/iruby/backend.rb:66:in `eval'",
      "/home/apohllo/.rvm/gems/ruby-2.7.2/gems/iruby-0.4.0/lib/iruby/backend.rb:12:in `eval'",
      "/home/apohllo/.rvm/gems/ruby-2.7.2/gems/iruby-0.4.0/lib/iruby/kernel.rb:90:in `execute_request'",
      "/home/apohllo/.rvm/gems/ruby-2.7.2/gems/iruby-0.4.0/lib/iruby/kernel.rb:49:in `dispatch'",
      "/home/apohllo/.rvm/gems/ruby-2.7.2/gems/iruby-0.4.0/lib/iruby/kernel.rb:38:in `run'",
      "/home/apohllo/.rvm/gems/ruby-2.7.2/gems/iruby-0.4.0/lib/iruby/command.rb:110:in `run_kernel'",
      "/home/apohllo/.rvm/gems/ruby-2.7.2/gems/iruby-0.4.0/lib/iruby/command.rb:40:in `run'",
      "/home/apohllo/.rvm/gems/ruby-2.7.2/gems/iruby-0.4.0/bin/iruby:5:in `<top (required)>'",
      "/home/apohllo/.rvm/gems/ruby-2.4.2/bin/iruby:23:in `load'",
      "/home/apohllo/.rvm/gems/ruby-2.4.2/bin/iruby:23:in `<main>'",
      "/home/apohllo/.rvm/gems/ruby-2.7.2/bin/ruby_executable_hooks:24:in `eval'",
      "/home/apohllo/.rvm/gems/ruby-2.7.2/bin/ruby_executable_hooks:24:in `<main>'"
     ]
    }
   ],
   "source": [
    "bike = Bike.new\n",
    "puts bike.instance_variable_get(\"@speed\")\n",
    "bike.instance_variable_set(\"@speed\", 10)\n",
    "puts bike.instance_variable_get(\"@speed\")"
   ]
  },
  {
   "cell_type": "markdown",
   "metadata": {
    "slideshow": {
     "slide_type": "subslide"
    }
   },
   "source": [
    "# Dynamiczne proxy"
   ]
  },
  {
   "cell_type": "code",
   "execution_count": 51,
   "metadata": {
    "ExecuteTime": {
     "end_time": "2022-01-19T08:20:19.589885Z",
     "start_time": "2022-01-19T08:20:19.584Z"
    },
    "slideshow": {
     "slide_type": "-"
    }
   },
   "outputs": [
    {
     "data": {
      "text/plain": [
       ":replay"
      ]
     },
     "execution_count": 51,
     "metadata": {},
     "output_type": "execute_result"
    }
   ],
   "source": [
    "class Wrapper\n",
    "  def initialize(object)\n",
    "    @object = object\n",
    "    @invocations = []\n",
    "  end\n",
    "\n",
    "  def method_missing(*arguments)\n",
    "    @invocations << arguments \n",
    "    @object.public_send(*arguments)\n",
    "  end\n",
    "\n",
    "  def replay\n",
    "    @invocations.each do |arguments|\n",
    "      @object.public_send(*arguments)\n",
    "    end\n",
    "  end\n",
    "end"
   ]
  },
  {
   "cell_type": "code",
   "execution_count": 55,
   "metadata": {
    "ExecuteTime": {
     "end_time": "2022-01-19T08:21:24.665391Z",
     "start_time": "2022-01-19T08:21:24.659Z"
    },
    "slideshow": {
     "slide_type": "subslide"
    }
   },
   "outputs": [
    {
     "name": "stdout",
     "output_type": "stream",
     "text": [
      "1, 2, 3\n",
      "1, 2, 3, 1, 2, 3\n",
      "1, 2, 3, 1, 2, 3, 1, 2, 3\n"
     ]
    }
   ],
   "source": [
    "wrapper = Wrapper.new([])\n",
    "wrapper << 1\n",
    "wrapper << 2\n",
    "wrapper << 3\n",
    "puts wrapper.to_a.join(\", \")\n",
    "\n",
    "wrapper.replay\n",
    "\n",
    "puts wrapper.to_a.join(\", \")\n",
    "\n",
    "wrapper.replay\n",
    "\n",
    "puts wrapper.to_a.join(\", \")"
   ]
  },
  {
   "cell_type": "code",
   "execution_count": 56,
   "metadata": {
    "ExecuteTime": {
     "end_time": "2022-01-19T08:21:39.226553Z",
     "start_time": "2022-01-19T08:21:39.220Z"
    }
   },
   "outputs": [
    {
     "name": "stdout",
     "output_type": "stream",
     "text": [
      "{:a=>1, :b=>2}\n",
      "{:a=>1, :b=>2}\n"
     ]
    }
   ],
   "source": [
    "wrapper = Wrapper.new({})\n",
    "wrapper[:a] = 1\n",
    "wrapper[:b] = 2\n",
    "\n",
    "puts wrapper.to_h\n",
    "\n",
    "wrapper.replay\n",
    "\n",
    "puts wrapper.to_h"
   ]
  },
  {
   "cell_type": "markdown",
   "metadata": {},
   "source": [
    "![Pytania? ](img/question.jpg)"
   ]
  },
  {
   "cell_type": "code",
   "execution_count": null,
   "metadata": {},
   "outputs": [],
   "source": []
  }
 ],
 "metadata": {
  "celltoolbar": "Slideshow",
  "kernelspec": {
   "display_name": "Ruby 2.4.2",
   "language": "ruby",
   "name": "ruby"
  },
  "language_info": {
   "file_extension": ".rb",
   "mimetype": "application/x-ruby",
   "name": "ruby",
   "version": "2.7.2"
  },
  "toc": {
   "base_numbering": 1,
   "nav_menu": {},
   "number_sections": false,
   "sideBar": true,
   "skip_h1_title": false,
   "title_cell": "Table of Contents",
   "title_sidebar": "Contents",
   "toc_cell": false,
   "toc_position": {},
   "toc_section_display": true,
   "toc_window_display": false
  }
 },
 "nbformat": 4,
 "nbformat_minor": 2
}
