{
 "cells": [
  {
   "cell_type": "markdown",
   "metadata": {
    "slideshow": {
     "slide_type": "slide"
    }
   },
   "source": [
    "# Typy zagnieżdżone i techniki funkcyjne w Javie\n",
    "\n",
    "## Statyczne typy składowe, klasy wewnętrzne, lokalne, anonimowe oraz wyrażenia lambda\n",
    "\n",
    "<br/>\n",
    "\n",
    "## apohllo@agh.edu.pl\n",
    "\n",
    "## http://apohllo.pl/dydaktyka/programowanie-obiektowe\n",
    "\n",
    "## konsultacje: wtorek 15:30 - 18:00, pokój 4.61"
   ]
  },
  {
   "cell_type": "markdown",
   "metadata": {
    "slideshow": {
     "slide_type": "subslide"
    }
   },
   "source": [
    "## Pytanie 1\n",
    "\n",
    "\n",
    "mam jedno pytanie odnośnie interfejsu map:\n",
    "nie implementuje on interfejsu iterable, natomiast posiada widoki takie jak `entrySet`, `keySet`, `values`, które zwracają wszystkie jego elementy w jakiejś kolejności. Na stronie Oracle napisano *\"The order of a map is defined as the order in which the iterators on the map's collection views return their elements.\"*. Czy znaczy to, że te metody tworzą jakieś kolekcję po to, żeby zwrócić nam pożądane wyniki? Czym różniłby się w przeciwnym wypadku collection view od zwykłego collection?"
   ]
  },
  {
   "cell_type": "markdown",
   "metadata": {
    "slideshow": {
     "slide_type": "subslide"
    }
   },
   "source": [
    "## Pytanie 2\n",
    "\n",
    "Czy brak odwzorowania klucza przez mapę jest tym samym co odwzorowanie klucza na wartość `null`? \n",
    "Dlaczego w interfejsie `Map` metoda `get(Object key)`, w przypadku gdy klucz nie zostanie znaleziony, zwraca null, a nie rzuca wyjątek? \n",
    "\n",
    "Warto zauważyć, że może być to mylące dla początkujących programistów Javy, którzy zamiast użyć metody `containsKey(Object key)` zastosują mniej czytelny warunek: `map.get(key) != null`. Ponadto, jeśli mapa nie \n",
    "odwzorowuje pewnych dwóch różnych kluczy foo i bar, to wyrażenie \n",
    "`map.get(foo) == map.get(bar)` jest prawdziwe. \n",
    "\n",
    "Podobne przemyślenia dotyczą również metody `indexOf(int ch)` w klasie \n",
    "String, która zwraca \"sztuczną\" wartość -1, w przypadku gdy znak nie \n",
    "występuje w łańcuchu. Nieuważny programista może łatwo zapomnieć o \n",
    "sprawdzeniu tego przypadku. Co więcej, na zwrócona wartość -1 może \n",
    "zostać wykorzystana w wyrażeniu arytmetycznym (np. ...+1, któremu \n",
    "odpowiada przejście o jeden znak w prawo). A to może doprowadzić do \n",
    "niepożądanego zachowania implementowanej funkcjonalności. \n",
    "\n",
    "Ciekawi mnie również, dlaczego metoda `substring(int beginIndex, int endIndex)` w klasie String ma taką nieintuicyjną sygnaturę, zamiast `substring(int beginIndex, int length)`. "
   ]
  },
  {
   "cell_type": "markdown",
   "metadata": {
    "slideshow": {
     "slide_type": "slide"
    }
   },
   "source": [
    "# Plan\n",
    "\n",
    "* statyczne typy składowe: interfejsy, wyliczenia, adnotacje\n",
    "* klasy wewnętrzne\n",
    "* klasy lokalne\n",
    "* klasy anonimowe\n",
    "* wyrażenia lambda\n",
    "* interfejs `Stream`"
   ]
  },
  {
   "cell_type": "markdown",
   "metadata": {
    "slideshow": {
     "slide_type": "slide"
    }
   },
   "source": [
    "# Statyczne typy składowe (zagnieżdżone) - interfejs wewnętrzny\n",
    "\n",
    "<img src=\"img/babushka1.jpg\" width=\"600\" />"
   ]
  },
  {
   "cell_type": "code",
   "execution_count": null,
   "metadata": {
    "slideshow": {
     "slide_type": "subslide"
    }
   },
   "outputs": [],
   "source": [
    "class LinkedStack {\n",
    "    static interface Linkable {\n",
    "        public Linkable getNext();\n",
    "        public void setNext(Linkable next);\n",
    "    }\n",
    "    \n",
    "    private Linkable head;\n",
    "    \n",
    "    public void push(Linkable node) {\n",
    "        Objects.requireNonNull(node, \"Stack element cannot be null!\");\n",
    "        node.setNext(head);\n",
    "        this.head = node;\n",
    "    }\n",
    "    \n",
    "    public Linkable pop() {\n",
    "        Linkable result = this.head;\n",
    "        if(result != null){\n",
    "            this.head = result.getNext();\n",
    "        }\n",
    "        return result;\n",
    "    }\n",
    "}"
   ]
  },
  {
   "cell_type": "markdown",
   "metadata": {
    "slideshow": {
     "slide_type": "notes"
    }
   },
   "source": [
    "W przypadku interfejsów deklaracja `static` nie ma żadnego skutku, ponieważ każdy interfejs zagnieżdżony jest statyczny."
   ]
  },
  {
   "cell_type": "code",
   "execution_count": null,
   "metadata": {
    "slideshow": {
     "slide_type": "subslide"
    }
   },
   "outputs": [],
   "source": [
    "class LinkableInteger implements LinkedStack.Linkable {\n",
    "    private int value;\n",
    "    \n",
    "    private LinkedStack.Linkable next;\n",
    "    \n",
    "    public LinkableInteger(int i) { this.value = i; }\n",
    "    \n",
    "    public LinkedStack.Linkable getNext() { return next; }\n",
    "    \n",
    "    public void setNext(LinkedStack.Linkable next) { this.next = next; }\n",
    "    \n",
    "    public int getValue() { return this.value; }\n",
    "}"
   ]
  },
  {
   "cell_type": "code",
   "execution_count": 101,
   "metadata": {
    "slideshow": {
     "slide_type": "fragment"
    }
   },
   "outputs": [
    {
     "name": "stdout",
     "output_type": "stream",
     "text": [
      "1\n"
     ]
    }
   ],
   "source": [
    "import static java.lang.System.out;\n",
    "\n",
    "var stack = new LinkedStack();\n",
    "stack.push(new LinkableInteger(1));\n",
    "var linkedInteger = (LinkableInteger) stack.pop();\n",
    "out.println(linkedInteger.getValue());"
   ]
  },
  {
   "cell_type": "code",
   "execution_count": 102,
   "metadata": {
    "slideshow": {
     "slide_type": "fragment"
    }
   },
   "outputs": [
    {
     "ename": "EvalException",
     "evalue": "Stack element cannot be null!",
     "output_type": "error",
     "traceback": [
      "\u001b[1m\u001b[31m---------------------------------------------------------------------------\u001b[0m",
      "\u001b[1m\u001b[31mjava.lang.NullPointerException: Stack element cannot be null!\u001b[0m",
      "\u001b[1m\u001b[31m\tat java.base/java.util.Objects.requireNonNull(Objects.java:246)\u001b[0m",
      "\u001b[1m\u001b[31m\tat LinkedStack.push(#110:10)\u001b[0m",
      "\u001b[1m\u001b[31m\tat .(#171:1)\u001b[0m"
     ]
    }
   ],
   "source": [
    "stack.push(null);"
   ]
  },
  {
   "cell_type": "markdown",
   "metadata": {
    "slideshow": {
     "slide_type": "subslide"
    }
   },
   "source": [
    "# Własności statycznego typu składowego\n",
    "\n",
    "* dostęp do prywatnych statycznych składowych typu otaczającego\n",
    "* dostęp typu otaczającego do prywatnych składowych typu statycznego\n",
    "* *brak dostępu* statycznego typu do składowych instacyjnych typu otaczającego"
   ]
  },
  {
   "cell_type": "markdown",
   "metadata": {
    "slideshow": {
     "slide_type": "subslide"
    }
   },
   "source": [
    "# Map.Entry - przykład statycznego zagnieżdżonego interfejsu"
   ]
  },
  {
   "cell_type": "code",
   "execution_count": 103,
   "metadata": {
    "slideshow": {
     "slide_type": "-"
    }
   },
   "outputs": [
    {
     "name": "stdout",
     "output_type": "stream",
     "text": [
      "jeden : 1\n",
      "trzy : 3\n",
      "dwa : 2\n"
     ]
    }
   ],
   "source": [
    "Map<String,Integer> numbers = new HashMap<>();\n",
    "numbers.put(\"jeden\", 1);\n",
    "numbers.put(\"dwa\", 2);\n",
    "numbers.put(\"trzy\", 3);\n",
    "for(Map.Entry<String,Integer> entry : numbers.entrySet()){\n",
    "    System.out.println(\"\" + entry.getKey() + \" : \" + entry.getValue());\n",
    "}"
   ]
  },
  {
   "cell_type": "markdown",
   "metadata": {
    "slideshow": {
     "slide_type": "slide"
    }
   },
   "source": [
    "# Instancyjne typy składowe - klasa wewnętrzna\n",
    "\n",
    "<img src=\"img/alien.jpg\"/>"
   ]
  },
  {
   "cell_type": "code",
   "execution_count": 105,
   "metadata": {
    "slideshow": {
     "slide_type": "subslide"
    }
   },
   "outputs": [],
   "source": [
    "class BoundedArrayList {\n",
    "    protected Object[] array;\n",
    "    protected int pointer = 0;\n",
    "    \n",
    "    public BoundedArrayList(int size){\n",
    "        array = new Object[size];\n",
    "    }\n",
    "    \n",
    "    public boolean add(Object element){\n",
    "        if(pointer < array.length){\n",
    "            array[pointer] = element;\n",
    "            pointer++;\n",
    "            return true;\n",
    "        } else {\n",
    "            return false;\n",
    "        }\n",
    "    }\n",
    "}"
   ]
  },
  {
   "cell_type": "code",
   "execution_count": 106,
   "metadata": {
    "slideshow": {
     "slide_type": "subslide"
    }
   },
   "outputs": [],
   "source": [
    "class BoundedArrayListWithIterator extends BoundedArrayList {\n",
    "    protected class ForwardIterator implements Iterator {\n",
    "        private int index = 0;\n",
    "        public boolean hasNext(){\n",
    "            return index < pointer;\n",
    "        }\n",
    "        public Object next(){\n",
    "            if(index >= pointer){\n",
    "                throw new NoSuchElementException();\n",
    "            }\n",
    "            Object result = array[index];\n",
    "            index++;\n",
    "            return result;\n",
    "        }\n",
    "    }\n",
    "    \n",
    "    public BoundedArrayListWithIterator(int size){\n",
    "        super(size);\n",
    "    }\n",
    "\n",
    "    public Iterator forwardIterator(){\n",
    "        return new ForwardIterator();\n",
    "    }\n",
    "}"
   ]
  },
  {
   "cell_type": "code",
   "execution_count": 111,
   "metadata": {
    "slideshow": {
     "slide_type": "subslide"
    }
   },
   "outputs": [],
   "source": [
    "class BoundedArrayListWithBackwardIterator extends BoundedArrayListWithIterator {\n",
    "    public class BackwardIterator implements Iterator {\n",
    "        private int index = pointer-1;\n",
    "        public boolean hasNext(){\n",
    "            return index >= 0;\n",
    "        }\n",
    "        public Object next(){\n",
    "            if(index < 0){\n",
    "                throw new NoSuchElementException();\n",
    "            }\n",
    "            Object result = array[index];\n",
    "            index--;\n",
    "            return result;\n",
    "        }\n",
    "    }\n",
    "    \n",
    "    public BoundedArrayListWithBackwardIterator(int size){\n",
    "        super(size);\n",
    "    }\n",
    "\n",
    "    public Iterator backwardIterator(){\n",
    "        return new BackwardIterator();\n",
    "    }\n",
    "}"
   ]
  },
  {
   "cell_type": "code",
   "execution_count": 115,
   "metadata": {
    "slideshow": {
     "slide_type": "subslide"
    }
   },
   "outputs": [
    {
     "name": "stdout",
     "output_type": "stream",
     "text": [
      "Ala\n",
      "ma\n",
      "kota\n",
      "kota\n",
      "ma\n",
      "Ala\n"
     ]
    }
   ],
   "source": [
    "var list = new BoundedArrayListWithBackwardIterator(10);\n",
    "\n",
    "list.add(\"Ala\");\n",
    "list.add(\"ma\");\n",
    "list.add(\"kota\");\n",
    "\n",
    "Iterator iterator = list.forwardIterator();\n",
    "while(iterator.hasNext()){\n",
    "    System.out.println(iterator.next());\n",
    "}\n",
    "\n",
    "iterator = list.backwardIterator();\n",
    "while(iterator.hasNext()){\n",
    "    System.out.println(iterator.next());\n",
    "}"
   ]
  },
  {
   "cell_type": "code",
   "execution_count": 109,
   "metadata": {
    "slideshow": {
     "slide_type": "subslide"
    }
   },
   "outputs": [
    {
     "name": "stdout",
     "output_type": "stream",
     "text": [
      "REPL.$JShell$18K$BoundedArrayListWithIterator$ForwardIterator@7e2ef0b1\n"
     ]
    }
   ],
   "source": [
    "System.out.println(list.forwardIterator());"
   ]
  },
  {
   "cell_type": "code",
   "execution_count": 112,
   "metadata": {
    "slideshow": {
     "slide_type": "fragment"
    }
   },
   "outputs": [
    {
     "ename": "CompilationException",
     "evalue": "",
     "output_type": "error",
     "traceback": [
      "\u001b[1m\u001b[30m|   \u001b[1m\u001b[30m\u001b[0m\u001b[1m\u001b[30m\u001b[41mnew BoundedArrayListWithBackwardIterator.BackwardIterator()\u001b[0m\u001b[1m\u001b[30m;\u001b[0m",
      "\u001b[1m\u001b[31man enclosing instance that contains BoundedArrayListWithBackwardIterator.BackwardIterator is required\u001b[0m",
      ""
     ]
    }
   ],
   "source": [
    "new BoundedArrayListWithBackwardIterator.BackwardIterator();"
   ]
  },
  {
   "cell_type": "code",
   "execution_count": 116,
   "metadata": {
    "slideshow": {
     "slide_type": "subslide"
    }
   },
   "outputs": [
    {
     "data": {
      "text/plain": [
       "false"
      ]
     },
     "execution_count": 116,
     "metadata": {},
     "output_type": "execute_result"
    }
   ],
   "source": [
    "list.add(\"A\");\n",
    "list.add(\"Ania\");\n",
    "list.add(\"nie\");\n",
    "list.add(\"ma\");\n",
    "list.add(\"kota\");\n",
    "list.add(\",\");\n",
    "list.add(\"ona\");\n",
    "list.add(\"ma\");\n",
    "list.add(\"psa\");"
   ]
  },
  {
   "cell_type": "code",
   "execution_count": 117,
   "metadata": {
    "slideshow": {
     "slide_type": "fragment"
    }
   },
   "outputs": [
    {
     "name": "stdout",
     "output_type": "stream",
     "text": [
      "ona\n",
      ",\n",
      "kota\n",
      "ma\n",
      "nie\n",
      "Ania\n",
      "A\n",
      "kota\n",
      "ma\n",
      "Ala\n"
     ]
    }
   ],
   "source": [
    "iterator = list.backwardIterator();\n",
    "while(iterator.hasNext()){\n",
    "    System.out.println(iterator.next());\n",
    "}"
   ]
  },
  {
   "cell_type": "markdown",
   "metadata": {
    "slideshow": {
     "slide_type": "subslide"
    }
   },
   "source": [
    "# Własności instancyjnego typu składowego\n",
    "\n",
    "* dostęp do prywatnych własności (atrybutów i metod) typu otaczającego\n",
    "* dostęp typu otaczającego do prywatnych własnościu typu składowego\n",
    "* klasa składowa nie może mieć takiej samej nazwy jak jakaś klasa nadrzędna lub pakiet\n",
    "* klasa składowa nie może zawierać składowych statycznych, z wyjątkiem wartości stałych"
   ]
  },
  {
   "cell_type": "markdown",
   "metadata": {
    "slideshow": {
     "slide_type": "slide"
    }
   },
   "source": [
    "# Klasy lokalne\n",
    "\n",
    "<img src=\"img/sandbox.jpg\"/>"
   ]
  },
  {
   "cell_type": "code",
   "execution_count": 118,
   "metadata": {
    "slideshow": {
     "slide_type": "subslide"
    }
   },
   "outputs": [],
   "source": [
    "class LocalExample {\n",
    "    public static interface IntHolder { int getValue(); }\n",
    "    \n",
    "    public void run(){\n",
    "        IntHolder[] holders = new IntHolder[10];\n",
    "        for(int i = 0; i < 10; i++){\n",
    "            final int fi = i;\n",
    "            class MyIntHolder implements IntHolder {\n",
    "                public int getValue() { return fi; }\n",
    "            }\n",
    "            holders[i] = new MyIntHolder();\n",
    "        }\n",
    "        \n",
    "        for(int i = 0; i < 10; i++){\n",
    "            System.out.println(holders[i].getValue());\n",
    "        }\n",
    "    }\n",
    "}"
   ]
  },
  {
   "cell_type": "markdown",
   "metadata": {
    "slideshow": {
     "slide_type": "fragment"
    }
   },
   "source": [
    "http://kahoot.it"
   ]
  },
  {
   "cell_type": "code",
   "execution_count": 119,
   "metadata": {
    "slideshow": {
     "slide_type": "subslide"
    }
   },
   "outputs": [
    {
     "name": "stdout",
     "output_type": "stream",
     "text": [
      "0\n",
      "1\n",
      "2\n",
      "3\n",
      "4\n",
      "5\n",
      "6\n",
      "7\n",
      "8\n",
      "9\n"
     ]
    }
   ],
   "source": [
    "new LocalExample().run();"
   ]
  },
  {
   "cell_type": "markdown",
   "metadata": {
    "slideshow": {
     "slide_type": "subslide"
    }
   },
   "source": [
    "# Własności klas lokalnych\n",
    "\n",
    "* klasy lokalne mają dostęp do własności prywatnych klas otaczających\n",
    "* klasy lokalne mają dostep do finalnych zmiennych (inaczej stałych) lokalnych (w tym argumentów metod oraz wyjątków)\n",
    "* odwołanie do zmiennych lokalnych tworzy *domknięcie* (closure)\n",
    "* nazwa klasy lokalnej jest dostępna tylko w bloku, w którym jest ona zdefiniowana\n"
   ]
  },
  {
   "cell_type": "markdown",
   "metadata": {
    "slideshow": {
     "slide_type": "slide"
    }
   },
   "source": [
    "# Klasy anonimowe\n",
    "\n",
    "<img src=\"img/anonymous.jpg\"/>"
   ]
  },
  {
   "cell_type": "code",
   "execution_count": 120,
   "metadata": {
    "slideshow": {
     "slide_type": "subslide"
    }
   },
   "outputs": [],
   "source": [
    "class BoundedArrayList {\n",
    "    private Object[] array;\n",
    "    private int pointer = 0;\n",
    "\n",
    "    public Iterator backwardIterator(){\n",
    "        return new Iterator() {\n",
    "            private int index = pointer-1;\n",
    "            public boolean hasNext(){\n",
    "                return index >= 0;\n",
    "            }\n",
    "            public Object next(){\n",
    "                if(index < 0){\n",
    "                    throw new NoSuchElementException();\n",
    "                }\n",
    "                Object result = array[index];\n",
    "                index--;\n",
    "                return result;\n",
    "            }\n",
    "        };\n",
    "    }\n",
    "}"
   ]
  },
  {
   "cell_type": "markdown",
   "metadata": {
    "slideshow": {
     "slide_type": "subslide"
    }
   },
   "source": [
    "# Comparator - przykład często wykorzystywanej klasy anonimowej\n",
    "\n",
    "<img src=\"img/scale.jpg\" width=\"400\"/>"
   ]
  },
  {
   "cell_type": "code",
   "execution_count": 121,
   "metadata": {
    "slideshow": {
     "slide_type": "subslide"
    }
   },
   "outputs": [],
   "source": [
    "class NumberCollection {\n",
    "    private SortedSet<String> numbers;\n",
    "    public NumberCollection(){\n",
    "        numbers = new TreeSet<>(new Comparator<String>(){\n",
    "            public int compare(String a, String b){\n",
    "                return a.length() - b.length();\n",
    "            }\n",
    "        });\n",
    "    }\n",
    "\n",
    "    public boolean add(String number){\n",
    "        return numbers.add(number);\n",
    "    }\n",
    "\n",
    "    public String toString(){\n",
    "        return numbers.toString();\n",
    "    }\n",
    "}"
   ]
  },
  {
   "cell_type": "code",
   "execution_count": 125,
   "metadata": {
    "slideshow": {
     "slide_type": "subslide"
    }
   },
   "outputs": [
    {
     "name": "stdout",
     "output_type": "stream",
     "text": [
      "[1, zz, 1111, 111111]\n"
     ]
    }
   ],
   "source": [
    "NumberCollection numbers = new NumberCollection();\n",
    "numbers.add(\"1111\");\n",
    "numbers.add(\"1\");\n",
    "numbers.add(\"111111\");\n",
    "numbers.add(\"zz\");\n",
    "\n",
    "System.out.println(numbers);"
   ]
  },
  {
   "cell_type": "markdown",
   "metadata": {
    "slideshow": {
     "slide_type": "subslide"
    }
   },
   "source": [
    "# \"Instancja\" klasy abstrakcyjnej\n",
    "\n",
    "<img src=\"img/monster2.jpg\" />"
   ]
  },
  {
   "cell_type": "code",
   "execution_count": null,
   "metadata": {
    "slideshow": {
     "slide_type": "subslide"
    }
   },
   "outputs": [],
   "source": [
    "abstract class AbstractClass {\n",
    "}\n",
    "\n",
    "AbstractClass abstractValue = new AbstractClass(){};"
   ]
  },
  {
   "cell_type": "markdown",
   "metadata": {
    "slideshow": {
     "slide_type": "slide"
    }
   },
   "source": [
    "# Wyrażenia lambda\n",
    "\n",
    "<img src=\"img/lambda.png\"/>"
   ]
  },
  {
   "cell_type": "code",
   "execution_count": 126,
   "metadata": {
    "slideshow": {
     "slide_type": "subslide"
    }
   },
   "outputs": [
    {
     "name": "stdout",
     "output_type": "stream",
     "text": [
      ".java\n",
      "Wyklad.java\n"
     ]
    }
   ],
   "source": [
    "import java.io.*;\n",
    "\n",
    "File dir = new File(\"/home/apohllo\");\n",
    "\n",
    "String[] fileList = dir.list(new FilenameFilter() {\n",
    "    public boolean accept(File file, String fileName){\n",
    "        return fileName.endsWith(\".java\");\n",
    "    }\n",
    "});\n",
    "for(String s : fileList){\n",
    "    System.out.println(s);\n",
    "}"
   ]
  },
  {
   "cell_type": "markdown",
   "metadata": {
    "slideshow": {
     "slide_type": "subslide"
    }
   },
   "source": [
    "# Wyrażenie lambda zamiast klasy anonimowej"
   ]
  },
  {
   "cell_type": "code",
   "execution_count": 127,
   "metadata": {
    "slideshow": {
     "slide_type": "-"
    }
   },
   "outputs": [
    {
     "name": "stdout",
     "output_type": "stream",
     "text": [
      ".java\n",
      "Wyklad.java\n"
     ]
    }
   ],
   "source": [
    "import java.io.*;\n",
    "\n",
    "String[] fileList = new File(\"/home/apohllo\").list((f,s) -> { return s.endsWith(\".java\"); });\n",
    "for(String s : fileList){\n",
    "    System.out.println(s);\n",
    "}"
   ]
  },
  {
   "cell_type": "code",
   "execution_count": 128,
   "metadata": {
    "slideshow": {
     "slide_type": "subslide"
    }
   },
   "outputs": [
    {
     "name": "stdout",
     "output_type": "stream",
     "text": [
      ".java\n",
      "Wyklad.java\n"
     ]
    }
   ],
   "source": [
    "import java.io.*;\n",
    "\n",
    "String[] fileList = new File(\"/home/apohllo\").\n",
    "    // można pominąć słowo return\n",
    "    list((f,s) -> s.endsWith(\".java\"));\n",
    "\n",
    "for(String s : fileList){\n",
    "    System.out.println(s);\n",
    "}"
   ]
  },
  {
   "cell_type": "code",
   "execution_count": 129,
   "metadata": {
    "slideshow": {
     "slide_type": "fragment"
    }
   },
   "outputs": [
    {
     "name": "stdout",
     "output_type": "stream",
     "text": [
      ".java\n",
      "Wyklad.java\n"
     ]
    }
   ],
   "source": [
    "Arrays.asList(new File(\"/home/apohllo\").list((f,s) -> s.endsWith(\".java\"))).\n",
    "    stream().forEach(System.out::println);"
   ]
  },
  {
   "cell_type": "markdown",
   "metadata": {
    "slideshow": {
     "slide_type": "slide"
    }
   },
   "source": [
    "# Interfejs `Stream` i techniki funkcyjne\n",
    "\n",
    "<img src=\"img/stream.jpg\" width=\"600\"/>"
   ]
  },
  {
   "cell_type": "markdown",
   "metadata": {
    "slideshow": {
     "slide_type": "subslide"
    }
   },
   "source": [
    "* interfejs `Collection` został rozszerzony o metodę `stream`\n",
    "* metoda ta została wprowadzona aby ograniczyć wsteczną niekompatybilność\n",
    "* metoda ta jest **domyślna** w interfejsie `Collection`\n",
    "* metoda zwraca elemet typu `Stream`"
   ]
  },
  {
   "cell_type": "markdown",
   "metadata": {
    "slideshow": {
     "slide_type": "subslide"
    }
   },
   "source": [
    "* interfejs `Stream` umożliwia wykonywania metod funkcyjnych:\n",
    "  * `allMatch`\n",
    "  * `anyMatch`\n",
    "  * `collect`\n",
    "  * `concat`\n",
    "  * `count`\n",
    "  * `distinct`\n",
    "  * `empty`\n",
    "  * `filter`\n",
    "  * `findAny`\n",
    "  * `findFirst`\n",
    "  * `flatMap`\n",
    "  * `forEach`\n",
    "  * `map`\n",
    "  * itd."
   ]
  },
  {
   "cell_type": "markdown",
   "metadata": {
    "slideshow": {
     "slide_type": "subslide"
    }
   },
   "source": [
    "# `fliter`, `map` i `collect`"
   ]
  },
  {
   "cell_type": "code",
   "execution_count": 130,
   "metadata": {
    "slideshow": {
     "slide_type": "-"
    }
   },
   "outputs": [
    {
     "data": {
      "text/plain": [
       "[2, 4, 6]"
      ]
     },
     "execution_count": 130,
     "metadata": {},
     "output_type": "execute_result"
    }
   ],
   "source": [
    "import java.util.stream.*;\n",
    "\n",
    "var numbers = Arrays.asList(1, 2, 3, 4, 5, 6);\n",
    "numbers.stream().filter(e -> e % 2 == 0).\n",
    "                 map(e -> e.toString()).\n",
    "                 collect(Collectors.toList());"
   ]
  },
  {
   "cell_type": "markdown",
   "metadata": {
    "slideshow": {
     "slide_type": "subslide"
    }
   },
   "source": [
    "# `map`"
   ]
  },
  {
   "cell_type": "code",
   "execution_count": 131,
   "metadata": {
    "slideshow": {
     "slide_type": "-"
    }
   },
   "outputs": [
    {
     "data": {
      "text/plain": [
       "5, 3, 4, 6"
      ]
     },
     "execution_count": 131,
     "metadata": {},
     "output_type": "execute_result"
    }
   ],
   "source": [
    "import java.util.stream.*;\n",
    "\n",
    "var numbers = Arrays.asList(\"jeden\", \"dwa\", \"trzy\", \"cztery\");\n",
    "numbers.stream().map(String::length).map(Object::toString).collect(Collectors.joining(\", \"));"
   ]
  },
  {
   "cell_type": "markdown",
   "metadata": {
    "slideshow": {
     "slide_type": "subslide"
    }
   },
   "source": [
    "# `forEach`"
   ]
  },
  {
   "cell_type": "code",
   "execution_count": 132,
   "metadata": {
    "slideshow": {
     "slide_type": "-"
    }
   },
   "outputs": [
    {
     "name": "stdout",
     "output_type": "stream",
     "text": [
      "jeden\n",
      "dwa\n",
      "trzy\n",
      "cztery\n"
     ]
    }
   ],
   "source": [
    "var numbers = Arrays.asList(\"jeden\", \"dwa\", \"trzy\", \"cztery\");\n",
    "numbers.stream().forEach(System.out::println);"
   ]
  },
  {
   "cell_type": "markdown",
   "metadata": {
    "slideshow": {
     "slide_type": "subslide"
    }
   },
   "source": [
    "# `map` i `reduce`"
   ]
  },
  {
   "cell_type": "code",
   "execution_count": 133,
   "metadata": {
    "slideshow": {
     "slide_type": "-"
    }
   },
   "outputs": [
    {
     "name": "stdout",
     "output_type": "stream",
     "text": [
      "4.5\n"
     ]
    }
   ],
   "source": [
    "var numbers = Arrays.asList(\"jeden\", \"dwa\", \"trzy\", \"cztery\");\n",
    "double sum = numbers.stream().map(String::length).reduce(0, (x,y) -> { return x + y; });\n",
    "System.out.println(sum / numbers.size());"
   ]
  },
  {
   "cell_type": "markdown",
   "metadata": {
    "slideshow": {
     "slide_type": "subslide"
    }
   },
   "source": [
    "# Wartościowanie leniwe\n",
    "\n",
    "<img src=\"img/leniwiec.jpg\" />"
   ]
  },
  {
   "cell_type": "code",
   "execution_count": 134,
   "metadata": {
    "slideshow": {
     "slide_type": "subslide"
    }
   },
   "outputs": [],
   "source": [
    "import java.util.function.*;\n",
    "import java.util.stream.*;\n",
    "\n",
    "public class SquareGenerator implements IntSupplier {\n",
    "    private int current = 1;\n",
    "    \n",
    "    @Override\n",
    "    public synchronized int getAsInt(){\n",
    "        int thisResult = current * current;\n",
    "        current++;\n",
    "        return thisResult;\n",
    "    }\n",
    "}"
   ]
  },
  {
   "cell_type": "code",
   "execution_count": 135,
   "metadata": {
    "slideshow": {
     "slide_type": "subslide"
    }
   },
   "outputs": [
    {
     "name": "stdout",
     "output_type": "stream",
     "text": [
      "1\n",
      "4\n",
      "9\n",
      "16\n",
      "25\n",
      "36\n",
      "49\n",
      "64\n",
      "81\n",
      "100\n",
      "-----------\n",
      "121\n",
      "144\n",
      "169\n",
      "196\n",
      "225\n",
      "256\n",
      "289\n",
      "324\n",
      "361\n",
      "400\n"
     ]
    }
   ],
   "source": [
    "var squares = IntStream.generate(new SquareGenerator());\n",
    "var stepThrough = squares.iterator();\n",
    "\n",
    "for(int i = 0; i < 10; i++){\n",
    "    System.out.println(stepThrough.nextInt());\n",
    "}\n",
    "\n",
    "System.out.println(\"-----------\");\n",
    "\n",
    "for(int i = 0; i < 10; i++){\n",
    "    System.out.println(stepThrough.nextInt());\n",
    "}"
   ]
  },
  {
   "cell_type": "code",
   "execution_count": 136,
   "metadata": {
    "slideshow": {
     "slide_type": "subslide"
    }
   },
   "outputs": [
    {
     "name": "stdout",
     "output_type": "stream",
     "text": [
      "1\n",
      "2\n",
      "3\n",
      "4\n",
      "5\n",
      "6\n",
      "7\n",
      "8\n",
      "9\n",
      "10\n",
      "11\n",
      "12\n",
      "13\n",
      "14\n",
      "15\n",
      "16\n",
      "17\n",
      "18\n",
      "19\n",
      "20\n"
     ]
    }
   ],
   "source": [
    "var squares = IntStream.generate(new SquareGenerator());\n",
    "squares.map(e -> (int) Math.sqrt(e)).limit(20).forEach(System.out::println);"
   ]
  },
  {
   "cell_type": "markdown",
   "metadata": {
    "slideshow": {
     "slide_type": "subslide"
    }
   },
   "source": [
    "# Wyjątki\n",
    "\n",
    "<img src=\"img/hose.jpg\" />"
   ]
  },
  {
   "cell_type": "code",
   "execution_count": 137,
   "metadata": {
    "slideshow": {
     "slide_type": "subslide"
    }
   },
   "outputs": [
    {
     "ename": "CompilationException",
     "evalue": "",
     "output_type": "error",
     "traceback": [
      "\u001b[1m\u001b[30m|   \u001b[1m\u001b[30m    forEach((element) -> { out.println(\u001b[0m\u001b[1m\u001b[30m\u001b[41mconverter.convertToInt(element)\u001b[0m\u001b[1m\u001b[30m); });\u001b[0m",
      "\u001b[1m\u001b[31munreported exception java.lang.Exception; must be caught or declared to be thrown\u001b[0m",
      ""
     ]
    }
   ],
   "source": [
    "import static java.lang.System.out;\n",
    "\n",
    "public class StringConverter {\n",
    "    public int convertToInt(String value) throws Exception {\n",
    "        return Integer.parseInt(value);\n",
    "    }\n",
    "}\n",
    "\n",
    "var converter = new StringConverter();\n",
    "Arrays.asList(\"10\", \"zz\").stream().\n",
    "    forEach((element) -> { out.println(converter.convertToInt(element)); });"
   ]
  },
  {
   "cell_type": "code",
   "execution_count": 139,
   "metadata": {
    "slideshow": {
     "slide_type": "subslide"
    }
   },
   "outputs": [
    {
     "name": "stdout",
     "output_type": "stream",
     "text": [
      "10\n"
     ]
    },
    {
     "ename": "EvalException",
     "evalue": "java.lang.NumberFormatException: For input string: \"zz\"",
     "output_type": "error",
     "traceback": [
      "\u001b[1m\u001b[31m---------------------------------------------------------------------------\u001b[0m",
      "\u001b[1m\u001b[31mjava.lang.RuntimeException: java.lang.NumberFormatException: For input string: \"zz\"\u001b[0m",
      "\u001b[1m\u001b[31m\tat .lambda$do_it$$0(#239:1)\u001b[0m",
      "\u001b[1m\u001b[31m\tat java.base/java.util.Spliterators$ArraySpliterator.forEachRemaining(Spliterators.java:948)\u001b[0m",
      "\u001b[1m\u001b[31m\tat java.base/java.util.stream.ReferencePipeline$Head.forEach(ReferencePipeline.java:658)\u001b[0m",
      "\u001b[1m\u001b[31m\tat .(#239:1)\u001b[0m"
     ]
    }
   ],
   "source": [
    "public class StringConverter {\n",
    "    public int convertToInt(String value) throws Exception {\n",
    "        return Integer.parseInt(value);\n",
    "    }\n",
    "}\n",
    "\n",
    "StringConverter converter = new StringConverter();\n",
    "Arrays.asList(\"10\", \"zz\", \"20\").stream().\n",
    "    forEach((element) -> { \n",
    "        try {\n",
    "            out.println(converter.convertToInt(element)); \n",
    "        } catch(Exception ex) {\n",
    "            throw new RuntimeException(ex);\n",
    "        }\n",
    "    });"
   ]
  },
  {
   "cell_type": "code",
   "execution_count": 141,
   "metadata": {
    "slideshow": {
     "slide_type": "subslide"
    }
   },
   "outputs": [
    {
     "name": "stdout",
     "output_type": "stream",
     "text": [
      "10\n",
      "20\n"
     ]
    },
    {
     "name": "stderr",
     "output_type": "stream",
     "text": [
      "java.lang.RuntimeException: java.lang.NumberFormatException: For input string: \"z\"\n",
      "\tat REPL.$JShell$241.lambda$do_it$$0($JShell$241.java:122)\n",
      "\tat java.base/java.util.stream.ReferencePipeline$7$1.accept(ReferencePipeline.java:271)\n",
      "\tat java.base/java.util.Spliterators$ArraySpliterator.forEachRemaining(Spliterators.java:948)\n",
      "\tat java.base/java.util.stream.AbstractPipeline.copyInto(AbstractPipeline.java:484)\n",
      "\tat java.base/java.util.stream.AbstractPipeline.wrapAndCopyInto(AbstractPipeline.java:474)\n",
      "\tat java.base/java.util.stream.ReduceOps$ReduceOp.evaluateSequential(ReduceOps.java:913)\n",
      "\tat java.base/java.util.stream.AbstractPipeline.evaluate(AbstractPipeline.java:234)\n",
      "\tat java.base/java.util.stream.ReferencePipeline.reduce(ReferencePipeline.java:558)\n",
      "\tat REPL.$JShell$241.do_it$($JShell$241.java:125)\n",
      "\tat java.base/jdk.internal.reflect.NativeMethodAccessorImpl.invoke0(Native Method)\n",
      "\tat java.base/jdk.internal.reflect.NativeMethodAccessorImpl.invoke(NativeMethodAccessorImpl.java:62)\n",
      "\tat java.base/jdk.internal.reflect.DelegatingMethodAccessorImpl.invoke(DelegatingMethodAccessorImpl.java:43)\n",
      "\tat java.base/java.lang.reflect.Method.invoke(Method.java:564)\n",
      "\tat io.github.spencerpark.ijava.execution.IJavaExecutionControl.lambda$execute$1(IJavaExecutionControl.java:85)\n",
      "\tat java.base/java.util.concurrent.FutureTask.run(FutureTask.java:264)\n",
      "\tat java.base/java.util.concurrent.ThreadPoolExecutor.runWorker(ThreadPoolExecutor.java:1135)\n",
      "\tat java.base/java.util.concurrent.ThreadPoolExecutor$Worker.run(ThreadPoolExecutor.java:635)\n",
      "\tat java.base/java.lang.Thread.run(Thread.java:844)\n",
      "\tSuppressed: java.lang.RuntimeException: java.lang.NumberFormatException: For input string: \"c\"\n",
      "\t\t... 18 more\n",
      "\tCaused by: java.lang.NumberFormatException: For input string: \"c\"\n",
      "\t\tat java.base/java.lang.NumberFormatException.forInputString(NumberFormatException.java:65)\n",
      "\t\tat java.base/java.lang.Integer.parseInt(Integer.java:652)\n",
      "\t\tat java.base/java.lang.Integer.parseInt(Integer.java:770)\n",
      "\t\tat REPL.$JShell$87O$StringConverter.convertToInt($JShell$87O.java:116)\n",
      "\t\tat REPL.$JShell$241.lambda$do_it$$0($JShell$241.java:119)\n",
      "\t\t... 17 more\n",
      "Caused by: java.lang.NumberFormatException: For input string: \"z\"\n",
      "\tat java.base/java.lang.NumberFormatException.forInputString(NumberFormatException.java:65)\n",
      "\tat java.base/java.lang.Integer.parseInt(Integer.java:652)\n",
      "\tat java.base/java.lang.Integer.parseInt(Integer.java:770)\n",
      "\tat REPL.$JShell$87O$StringConverter.convertToInt($JShell$87O.java:116)\n",
      "\tat REPL.$JShell$241.lambda$do_it$$0($JShell$241.java:119)\n",
      "\t... 17 more\n"
     ]
    }
   ],
   "source": [
    "try {\n",
    "    Arrays.asList(\"10\", \"z\", \"20\", \"c\").stream()\n",
    "                .flatMap((element) -> {\n",
    "                    try {\n",
    "                        out.println(converter.convertToInt(element));\n",
    "                        return null;\n",
    "                    } catch (Exception ex) {\n",
    "                        return Stream.of(new RuntimeException(ex));\n",
    "                    }\n",
    "                })\n",
    "                .reduce((ex1, ex2) -> {\n",
    "                    ex1.addSuppressed(ex2);\n",
    "                    return ex1;\n",
    "                })\n",
    "                .ifPresent(ex -> {\n",
    "                    throw ex;\n",
    "                });\n",
    "} catch(Exception ex) {\n",
    "    ex.printStackTrace();\n",
    "}\n",
    "// Na podstawie: https://stackoverflow.com/questions/30117134/aggregate-runtime-exceptions-in-java-8-streams"
   ]
  },
  {
   "cell_type": "markdown",
   "metadata": {
    "slideshow": {
     "slide_type": "notes"
    }
   },
   "source": [
    "TODO\n",
    "\n",
    "* narysować relacje pomiędzy typem składowym a otaczającym"
   ]
  },
  {
   "cell_type": "markdown",
   "metadata": {
    "slideshow": {
     "slide_type": "slide"
    }
   },
   "source": [
    "![Pytania? ](http://cliparts.co/cliparts/qcB/jqg/qcBjqgxc5.jpg)"
   ]
  }
 ],
 "metadata": {
  "celltoolbar": "Slideshow",
  "kernelspec": {
   "display_name": "Java",
   "language": "java",
   "name": "java"
  },
  "language_info": {
   "codemirror_mode": "java",
   "file_extension": ".java",
   "mimetype": "text/x-java-source",
   "name": "Java",
   "pygments_lexer": "java",
   "version": "10.0.2+13-Ubuntu-1ubuntu0.18.04.3"
  }
 },
 "nbformat": 4,
 "nbformat_minor": 1
}
