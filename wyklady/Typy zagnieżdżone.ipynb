{
 "cells": [
  {
   "cell_type": "markdown",
   "metadata": {
    "slideshow": {
     "slide_type": "slide"
    }
   },
   "source": [
    "# Typy zagnieżdżone i techniki funkcyjne w Javie\n",
    "\n",
    "## Statyczne typy składowe, klasy wewnętrzne, lokalne, anonimowe oraz wyrażenia lambda\n",
    "\n",
    "<br/>\n",
    "\n",
    "## apohllo@agh.edu.pl\n",
    "\n",
    "## http://apohllo.pl/dydaktyka/programowanie-obiektowe\n",
    "\n",
    "## konsultacje: po konsultacji mejlowej, optymalnie w czwartek"
   ]
  },
  {
   "cell_type": "markdown",
   "metadata": {
    "slideshow": {
     "slide_type": "slide"
    }
   },
   "source": [
    "# Plan\n",
    "\n",
    "* statyczne typy składowe: interfejsy, wyliczenia, adnotacje\n",
    "* klasy wewnętrzne\n",
    "* klasy lokalne\n",
    "* klasy anonimowe\n",
    "* wyrażenia lambda\n",
    "* interfejs `Stream`"
   ]
  },
  {
   "cell_type": "markdown",
   "metadata": {
    "slideshow": {
     "slide_type": "slide"
    }
   },
   "source": [
    "# Statyczne typy składowe (zagnieżdżone) - interfejs wewnętrzny\n",
    "\n",
    "<img src=\"img/babushka1.jpg\" width=\"600\" />"
   ]
  },
  {
   "cell_type": "code",
   "execution_count": null,
   "metadata": {
    "ExecuteTime": {
     "end_time": "2022-01-12T07:00+0000",
     "start_time": "2022-01-12T07:00:09.696Z"
    },
    "slideshow": {
     "slide_type": "subslide"
    }
   },
   "outputs": [],
   "source": [
    "class LinkedStack {\n",
    "    static interface Linkable {\n",
    "        public Linkable getNext();\n",
    "        public void setNext(Linkable next);\n",
    "    }\n",
    "    \n",
    "    private Linkable head;\n",
    "    \n",
    "    public void push(Linkable node) {\n",
    "        Objects.requireNonNull(node, \"Stack element cannot be null!\");\n",
    "        node.setNext(head);\n",
    "        this.head = node;\n",
    "    }\n",
    "    \n",
    "    public Linkable pop() {\n",
    "        Linkable result = this.head;\n",
    "        if(result != null){\n",
    "            this.head = result.getNext();\n",
    "        }\n",
    "        return result;\n",
    "    }\n",
    "}"
   ]
  },
  {
   "cell_type": "markdown",
   "metadata": {
    "slideshow": {
     "slide_type": "notes"
    }
   },
   "source": [
    "W przypadku interfejsów deklaracja `static` nie ma żadnego skutku, ponieważ każdy interfejs zagnieżdżony jest statyczny."
   ]
  },
  {
   "cell_type": "code",
   "execution_count": null,
   "metadata": {
    "ExecuteTime": {
     "end_time": "2022-01-05T07:59+0000",
     "start_time": "2022-01-05T07:59:55.542Z"
    },
    "slideshow": {
     "slide_type": "subslide"
    }
   },
   "outputs": [],
   "source": [
    "\n",
    "\n",
    "class LinkableInteger implements LinkedStack.Linkable {\n",
    "    private int value;\n",
    "    \n",
    "    private LinkedStack.Linkable next;\n",
    "    \n",
    "    public LinkableInteger(int i) { this.value = i; }\n",
    "    \n",
    "    public LinkedStack.Linkable getNext() { return next; }\n",
    "    \n",
    "    public void setNext(LinkedStack.Linkable next) { this.next = next; }\n",
    "    \n",
    "    public int getValue() { return this.value; }\n",
    "}"
   ]
  },
  {
   "cell_type": "code",
   "execution_count": null,
   "metadata": {
    "ExecuteTime": {
     "end_time": "2022-01-05T08:01+0000",
     "start_time": "2022-01-05T08:01:18.327Z"
    },
    "slideshow": {
     "slide_type": "fragment"
    }
   },
   "outputs": [],
   "source": [
    "import static java.lang.System.out;\n",
    "\n",
    "var stack = new LinkedStack();\n",
    "stack.push(new LinkableInteger(1));\n",
    "var linkedInteger = (LinkableInteger) stack.pop();\n",
    "out.println(linkedInteger.getValue());"
   ]
  },
  {
   "cell_type": "code",
   "execution_count": null,
   "metadata": {
    "ExecuteTime": {
     "end_time": "2022-01-05T08:01+0000",
     "start_time": "2022-01-05T08:01:52.761Z"
    },
    "slideshow": {
     "slide_type": "fragment"
    }
   },
   "outputs": [],
   "source": [
    "stack.push(null);"
   ]
  },
  {
   "cell_type": "markdown",
   "metadata": {
    "slideshow": {
     "slide_type": "subslide"
    }
   },
   "source": [
    "# Własności statycznego typu składowego\n",
    "\n",
    "* dostęp do prywatnych statycznych składowych typu otaczającego\n",
    "* dostęp typu otaczającego do prywatnych składowych typu statycznego\n",
    "* *brak dostępu* statycznego typu do składowych instacyjnych typu otaczającego"
   ]
  },
  {
   "cell_type": "markdown",
   "metadata": {
    "slideshow": {
     "slide_type": "subslide"
    }
   },
   "source": [
    "# Map.Entry - przykład statycznego zagnieżdżonego interfejsu"
   ]
  },
  {
   "cell_type": "code",
   "execution_count": null,
   "metadata": {
    "ExecuteTime": {
     "end_time": "2020-12-14T17:16+0000",
     "start_time": "2020-12-14T17:16:34.945Z"
    },
    "slideshow": {
     "slide_type": "-"
    }
   },
   "outputs": [],
   "source": [
    "Map<String,Integer> numbers = new HashMap<>();\n",
    "numbers.put(\"jeden\", 1);\n",
    "numbers.put(\"dwa\", 2);\n",
    "numbers.put(\"trzy\", 3);\n",
    "for(Map.Entry<String,Integer> entry : numbers.entrySet()){\n",
    "    System.out.println(\"\" + entry.getKey() + \" : \" + entry.getValue());\n",
    "}"
   ]
  },
  {
   "cell_type": "markdown",
   "metadata": {
    "slideshow": {
     "slide_type": "slide"
    }
   },
   "source": [
    "# Instancyjne typy składowe - klasa wewnętrzna\n",
    "\n",
    "<img src=\"img/alien.jpg\"/>"
   ]
  },
  {
   "cell_type": "code",
   "execution_count": null,
   "metadata": {
    "ExecuteTime": {
     "end_time": "2022-01-05T08:07+0000",
     "start_time": "2022-01-05T08:07:49.993Z"
    },
    "slideshow": {
     "slide_type": "subslide"
    }
   },
   "outputs": [],
   "source": [
    "class BoundedArrayList {\n",
    "    protected Object[] array;\n",
    "    protected int pointer = 0;\n",
    "    \n",
    "    public BoundedArrayList(int size){\n",
    "        array = new Object[size];\n",
    "    }\n",
    "    \n",
    "    public boolean add(Object element){\n",
    "        if(pointer < array.length){\n",
    "            array[pointer] = element;\n",
    "            pointer++;\n",
    "            return true;\n",
    "        } else {\n",
    "            return false;\n",
    "        }\n",
    "    }\n",
    "}"
   ]
  },
  {
   "cell_type": "code",
   "execution_count": null,
   "metadata": {
    "ExecuteTime": {
     "end_time": "2022-01-05T08:10+0000",
     "start_time": "2022-01-05T08:10:06.504Z"
    },
    "slideshow": {
     "slide_type": "subslide"
    }
   },
   "outputs": [],
   "source": [
    "class BoundedArrayListWithIterator extends BoundedArrayList {\n",
    "    protected class ForwardIterator implements Iterator {\n",
    "        private int index = 0;\n",
    "        public boolean hasNext(){\n",
    "            return index < pointer;\n",
    "        }\n",
    "        public Object next(){\n",
    "            if(index >= pointer){\n",
    "                throw new NoSuchElementException();\n",
    "            }\n",
    "            Object result = array[index];\n",
    "            index++;\n",
    "            return result;\n",
    "        }\n",
    "    }\n",
    "    \n",
    "    public BoundedArrayListWithIterator(int size){\n",
    "        super(size);\n",
    "    }\n",
    "\n",
    "    public Iterator forwardIterator(){\n",
    "        return new ForwardIterator();\n",
    "    }\n",
    "}"
   ]
  },
  {
   "cell_type": "code",
   "execution_count": null,
   "metadata": {
    "ExecuteTime": {
     "end_time": "2022-01-05T08:12+0000",
     "start_time": "2022-01-05T08:12:41.599Z"
    },
    "slideshow": {
     "slide_type": "subslide"
    }
   },
   "outputs": [],
   "source": [
    "class BoundedArrayListWithBackwardIterator extends BoundedArrayListWithIterator {\n",
    "    public class BackwardIterator implements Iterator {\n",
    "        private int index = pointer-1;\n",
    "        public boolean hasNext(){\n",
    "            return index >= 0;\n",
    "        }\n",
    "        public Object next(){\n",
    "            if(index < 0){\n",
    "                throw new NoSuchElementException();\n",
    "            }\n",
    "            Object result = array[index];\n",
    "            index--;\n",
    "            return result;\n",
    "        }\n",
    "    }\n",
    "    \n",
    "    public BoundedArrayListWithBackwardIterator(int size){\n",
    "        super(size);\n",
    "    }\n",
    "\n",
    "    public Iterator backwardIterator(){\n",
    "        return new BackwardIterator();\n",
    "    }\n",
    "}"
   ]
  },
  {
   "cell_type": "code",
   "execution_count": null,
   "metadata": {
    "ExecuteTime": {
     "end_time": "2022-01-05T08:12+0000",
     "start_time": "2022-01-05T08:12:45.686Z"
    },
    "slideshow": {
     "slide_type": "subslide"
    }
   },
   "outputs": [],
   "source": [
    "var list = new BoundedArrayListWithBackwardIterator(10);\n",
    "\n",
    "list.add(\"Ala\");\n",
    "list.add(\"ma\");\n",
    "list.add(\"kota\");\n",
    "\n",
    "Iterator iterator = list.forwardIterator();\n",
    "while(iterator.hasNext()){\n",
    "    System.out.println(iterator.next());\n",
    "}\n",
    "\n",
    "iterator = list.backwardIterator();\n",
    "while(iterator.hasNext()){\n",
    "    System.out.println(iterator.next());\n",
    "}"
   ]
  },
  {
   "cell_type": "code",
   "execution_count": null,
   "metadata": {
    "ExecuteTime": {
     "end_time": "2022-01-05T08:14+0000",
     "start_time": "2022-01-05T08:14:38.499Z"
    },
    "slideshow": {
     "slide_type": "subslide"
    }
   },
   "outputs": [],
   "source": [
    "System.out.println(list.forwardIterator());"
   ]
  },
  {
   "cell_type": "code",
   "execution_count": null,
   "metadata": {
    "ExecuteTime": {
     "end_time": "2022-01-05T08:15+0000",
     "start_time": "2022-01-05T08:15:17.282Z"
    },
    "slideshow": {
     "slide_type": "fragment"
    }
   },
   "outputs": [],
   "source": [
    "new BoundedArrayListWithBackwardIterator.BackwardIterator();"
   ]
  },
  {
   "cell_type": "code",
   "execution_count": null,
   "metadata": {
    "ExecuteTime": {
     "end_time": "2022-01-05T08:15+0000",
     "start_time": "2022-01-05T08:15:46.955Z"
    },
    "slideshow": {
     "slide_type": "subslide"
    }
   },
   "outputs": [],
   "source": [
    "list.add(\"A\");\n",
    "list.add(\"Ania\");\n",
    "list.add(\"nie\");\n",
    "list.add(\"ma\");\n",
    "list.add(\"kota\");\n",
    "list.add(\",\");\n",
    "list.add(\"ona\");\n",
    "list.add(\"ma\");\n",
    "list.add(\"psa\");"
   ]
  },
  {
   "cell_type": "code",
   "execution_count": null,
   "metadata": {
    "ExecuteTime": {
     "end_time": "2022-01-05T08:15+0000",
     "start_time": "2022-01-05T08:15:53.163Z"
    },
    "slideshow": {
     "slide_type": "fragment"
    }
   },
   "outputs": [],
   "source": [
    "iterator = list.backwardIterator();\n",
    "while(iterator.hasNext()){\n",
    "    System.out.println(iterator.next());\n",
    "}"
   ]
  },
  {
   "cell_type": "markdown",
   "metadata": {
    "slideshow": {
     "slide_type": "subslide"
    }
   },
   "source": [
    "# Własności instancyjnego typu składowego\n",
    "\n",
    "* dostęp do prywatnych własności (atrybutów i metod) typu otaczającego\n",
    "* dostęp typu otaczającego do prywatnych własnościu typu składowego\n",
    "* klasa składowa nie może mieć takiej samej nazwy jak jakaś klasa nadrzędna lub pakiet\n",
    "* klasa składowa nie może zawierać składowych statycznych, z wyjątkiem wartości stałych"
   ]
  },
  {
   "cell_type": "markdown",
   "metadata": {
    "slideshow": {
     "slide_type": "slide"
    }
   },
   "source": [
    "# Klasy lokalne\n",
    "\n",
    "<img src=\"img/sandbox.jpg\"/>"
   ]
  },
  {
   "cell_type": "code",
   "execution_count": null,
   "metadata": {
    "ExecuteTime": {
     "end_time": "2022-01-05T08:20+0000",
     "start_time": "2022-01-05T08:20:51.617Z"
    },
    "slideshow": {
     "slide_type": "subslide"
    }
   },
   "outputs": [],
   "source": [
    "class LocalExample {\n",
    "    public static interface IntHolder { int getValue(); }\n",
    "    \n",
    "    public void run(){\n",
    "        IntHolder[] holders = new IntHolder[10];\n",
    "        for(int i = 0; i < 10; i++){\n",
    "            final int fi = i;\n",
    "            class MyIntHolder implements IntHolder {\n",
    "                public int getValue() { return fi; }\n",
    "            }\n",
    "            holders[i] = new MyIntHolder();\n",
    "        }\n",
    "        \n",
    "        for(int i = 0; i < 10; i++){\n",
    "            System.out.println(holders[i].getValue());\n",
    "            System.out.println(holders[i]);\n",
    "        }\n",
    "    }\n",
    "}"
   ]
  },
  {
   "cell_type": "code",
   "execution_count": null,
   "metadata": {
    "ExecuteTime": {
     "end_time": "2022-01-05T08:21+0000",
     "start_time": "2022-01-05T08:21:29.910Z"
    },
    "slideshow": {
     "slide_type": "subslide"
    }
   },
   "outputs": [],
   "source": [
    "new LocalExample().run();"
   ]
  },
  {
   "cell_type": "markdown",
   "metadata": {
    "slideshow": {
     "slide_type": "subslide"
    }
   },
   "source": [
    "# Własności klas lokalnych\n",
    "\n",
    "* klasy lokalne mają dostęp do własności prywatnych klas otaczających\n",
    "* klasy lokalne mają dostep do finalnych zmiennych (inaczej stałych) lokalnych (w tym argumentów metod oraz wyjątków)\n",
    "* odwołanie do zmiennych lokalnych tworzy *domknięcie* (closure)\n",
    "* nazwa klasy lokalnej jest dostępna tylko w bloku, w którym jest ona zdefiniowana\n"
   ]
  },
  {
   "cell_type": "markdown",
   "metadata": {
    "slideshow": {
     "slide_type": "slide"
    }
   },
   "source": [
    "# Klasy anonimowe\n",
    "\n",
    "<img src=\"img/anonymous.jpg\"/>"
   ]
  },
  {
   "cell_type": "code",
   "execution_count": null,
   "metadata": {
    "ExecuteTime": {
     "end_time": "2022-01-05T08:25+0000",
     "start_time": "2022-01-05T08:25:19.124Z"
    },
    "slideshow": {
     "slide_type": "subslide"
    }
   },
   "outputs": [],
   "source": [
    "class BoundedArrayList {\n",
    "    private Object[] array;\n",
    "    private int pointer = 0;\n",
    "\n",
    "    public Iterator backwardIterator(){\n",
    "        return new Iterator() {\n",
    "            private int index = pointer-1;\n",
    "            public boolean hasNext(){\n",
    "                return index >= 0;\n",
    "            }\n",
    "            public Object next(){\n",
    "                if(index < 0){\n",
    "                    throw new NoSuchElementException();\n",
    "                }\n",
    "                Object result = array[index];\n",
    "                index--;\n",
    "                return result;\n",
    "            }\n",
    "        };\n",
    "    }\n",
    "}"
   ]
  },
  {
   "cell_type": "markdown",
   "metadata": {
    "slideshow": {
     "slide_type": "subslide"
    }
   },
   "source": [
    "# Comparator - przykład klasy anonimowej\n",
    "\n",
    "<img src=\"img/scale.jpg\" width=\"400\"/>"
   ]
  },
  {
   "cell_type": "code",
   "execution_count": null,
   "metadata": {
    "ExecuteTime": {
     "end_time": "2022-01-05T08:25+0000",
     "start_time": "2022-01-05T08:25:46.038Z"
    },
    "slideshow": {
     "slide_type": "subslide"
    }
   },
   "outputs": [],
   "source": [
    "class NumberCollection {\n",
    "    private SortedSet<String> numbers;\n",
    "    public NumberCollection(){\n",
    "        numbers = new TreeSet<>(new Comparator<String>(){\n",
    "            public int compare(String a, String b){\n",
    "                return a.length() - b.length();\n",
    "            }\n",
    "        });\n",
    "    }\n",
    "\n",
    "    public boolean add(String number){\n",
    "        return numbers.add(number);\n",
    "    }\n",
    "\n",
    "    public String toString(){\n",
    "        return numbers.toString();\n",
    "    }\n",
    "}"
   ]
  },
  {
   "cell_type": "code",
   "execution_count": null,
   "metadata": {
    "ExecuteTime": {
     "end_time": "2022-01-05T08:25+0000",
     "start_time": "2022-01-05T08:25:47.524Z"
    },
    "slideshow": {
     "slide_type": "subslide"
    }
   },
   "outputs": [],
   "source": [
    "NumberCollection numbers = new NumberCollection();\n",
    "numbers.add(\"1111\");\n",
    "numbers.add(\"1\");\n",
    "numbers.add(\"111111\");\n",
    "numbers.add(\"zz\");\n",
    "\n",
    "System.out.println(numbers);"
   ]
  },
  {
   "cell_type": "code",
   "execution_count": null,
   "metadata": {
    "ExecuteTime": {
     "end_time": "2022-01-05T08:26+0000",
     "start_time": "2022-01-05T08:26:13.264Z"
    },
    "slideshow": {
     "slide_type": "subslide"
    }
   },
   "outputs": [],
   "source": [
    "class NumberCollection {\n",
    "    private SortedSet<String> numbers;\n",
    "    public NumberCollection(){\n",
    "        numbers = new TreeSet<>(Comparator.comparing(String::length));\n",
    "    }\n",
    "\n",
    "    public boolean add(String number){\n",
    "        return numbers.add(number);\n",
    "    }\n",
    "\n",
    "    public String toString(){\n",
    "        return numbers.toString();\n",
    "    }\n",
    "}"
   ]
  },
  {
   "cell_type": "code",
   "execution_count": null,
   "metadata": {
    "ExecuteTime": {
     "end_time": "2022-01-05T08:26+0000",
     "start_time": "2022-01-05T08:26:20.599Z"
    }
   },
   "outputs": [],
   "source": [
    "NumberCollection numbers = new NumberCollection();\n",
    "numbers.add(\"1111\");\n",
    "numbers.add(\"1\");\n",
    "numbers.add(\"111111\");\n",
    "numbers.add(\"zz\");\n",
    "\n",
    "System.out.println(numbers);"
   ]
  },
  {
   "cell_type": "markdown",
   "metadata": {
    "slideshow": {
     "slide_type": "subslide"
    }
   },
   "source": [
    "# \"Instancja\" klasy abstrakcyjnej\n",
    "\n",
    "<img src=\"img/monster2.jpg\" />"
   ]
  },
  {
   "cell_type": "code",
   "execution_count": null,
   "metadata": {
    "ExecuteTime": {
     "end_time": "2022-01-05T08:27+0000",
     "start_time": "2022-01-05T08:27:01.842Z"
    },
    "slideshow": {
     "slide_type": "subslide"
    }
   },
   "outputs": [],
   "source": [
    "abstract class AbstractClass {\n",
    "}\n",
    "\n",
    "AbstractClass abstractValue = new AbstractClass(){};"
   ]
  },
  {
   "cell_type": "markdown",
   "metadata": {
    "slideshow": {
     "slide_type": "slide"
    }
   },
   "source": [
    "# Wyrażenia lambda\n",
    "\n",
    "<img src=\"img/lambda.png\"/>"
   ]
  },
  {
   "cell_type": "code",
   "execution_count": null,
   "metadata": {
    "ExecuteTime": {
     "end_time": "2022-01-05T08:28+0000",
     "start_time": "2022-01-05T08:28:45.733Z"
    },
    "slideshow": {
     "slide_type": "subslide"
    }
   },
   "outputs": [],
   "source": [
    "import java.io.*;\n",
    "\n",
    "File dir = new File(\"/home/apohllo\");\n",
    "\n",
    "String[] fileList = dir.list(new FilenameFilter() {\n",
    "    public boolean accept(File file, String fileName){\n",
    "        return fileName.endsWith(\".java\");\n",
    "    }\n",
    "});\n",
    "for(String s : fileList){\n",
    "    System.out.println(s);\n",
    "}"
   ]
  },
  {
   "cell_type": "markdown",
   "metadata": {
    "slideshow": {
     "slide_type": "subslide"
    }
   },
   "source": [
    "# Wyrażenie lambda zamiast klasy anonimowej"
   ]
  },
  {
   "cell_type": "code",
   "execution_count": 5,
   "metadata": {
    "ExecuteTime": {
     "end_time": "2022-01-12T07:15+0000",
     "start_time": "2022-01-12T07:15:42.916Z"
    },
    "slideshow": {
     "slide_type": "-"
    }
   },
   "outputs": [
    {
     "name": "stdout",
     "output_type": "stream",
     "text": [
      "Wyklad.java\n",
      ".java\n"
     ]
    }
   ],
   "source": [
    "import java.io.*;\n",
    "\n",
    "String extension = \".java\";\n",
    "\n",
    "String[] fileList = new File(\"/home/apohllo\").list((f,s) -> { return s.endsWith(extension); });\n",
    "for(String fileName : fileList){\n",
    "    System.out.println(fileName);\n",
    "}"
   ]
  },
  {
   "cell_type": "code",
   "execution_count": 6,
   "metadata": {
    "ExecuteTime": {
     "end_time": "2022-01-12T07:15+0000",
     "start_time": "2022-01-12T07:15:58.738Z"
    },
    "slideshow": {
     "slide_type": "subslide"
    }
   },
   "outputs": [
    {
     "name": "stdout",
     "output_type": "stream",
     "text": [
      "Wyklad.java\n",
      ".java\n"
     ]
    }
   ],
   "source": [
    "import java.io.*;\n",
    "\n",
    "String[] fileList = new File(\"/home/apohllo\").\n",
    "    // można pominąć słowo return\n",
    "    list((f,s) -> s.endsWith(\".java\"));\n",
    "\n",
    "for(String s : fileList){\n",
    "    System.out.println(s);\n",
    "}"
   ]
  },
  {
   "cell_type": "code",
   "execution_count": 7,
   "metadata": {
    "ExecuteTime": {
     "end_time": "2022-01-12T07:16+0000",
     "start_time": "2022-01-12T07:16:28.852Z"
    },
    "slideshow": {
     "slide_type": "fragment"
    }
   },
   "outputs": [
    {
     "name": "stdout",
     "output_type": "stream",
     "text": [
      "Wyklad.java\n",
      ".java\n"
     ]
    }
   ],
   "source": [
    "Arrays.asList(new File(\"/home/apohllo\").list((f,s) -> s.endsWith(\".java\"))).\n",
    "    forEach(System.out::println);"
   ]
  },
  {
   "cell_type": "markdown",
   "metadata": {
    "slideshow": {
     "slide_type": "slide"
    }
   },
   "source": [
    "# Interfejs `Stream` i techniki funkcyjne\n",
    "\n",
    "&nbsp;\n",
    "\n",
    "<center>\n",
    "<img src=\"img/stream.jpg\" width=\"600\"/>\n",
    "</center>"
   ]
  },
  {
   "cell_type": "markdown",
   "metadata": {
    "slideshow": {
     "slide_type": "subslide"
    }
   },
   "source": [
    "* interfejs `Collection` został rozszerzony o metodę `stream`\n",
    "* metoda ta została wprowadzona aby ograniczyć wsteczną niekompatybilność\n",
    "* metoda ta jest **domyślna** w interfejsie `Collection`\n",
    "* metoda zwraca elemet typu `Stream`"
   ]
  },
  {
   "cell_type": "markdown",
   "metadata": {
    "slideshow": {
     "slide_type": "subslide"
    }
   },
   "source": [
    "* interfejs `Stream` umożliwia wykonywania metod funkcyjnych:\n",
    "  * `allMatch`\n",
    "  * `anyMatch`\n",
    "  * `collect`\n",
    "  * `concat`\n",
    "  * `count`\n",
    "  * `distinct`\n",
    "  * `empty`\n",
    "  * `filter`\n",
    "  * `findAny`\n",
    "  * `findFirst`\n",
    "  * `flatMap`\n",
    "  * `forEach`\n",
    "  * `map`\n",
    "  * itd."
   ]
  },
  {
   "cell_type": "markdown",
   "metadata": {
    "slideshow": {
     "slide_type": "subslide"
    }
   },
   "source": [
    "# `fliter`, `map` i `collect`"
   ]
  },
  {
   "cell_type": "code",
   "execution_count": 8,
   "metadata": {
    "ExecuteTime": {
     "end_time": "2022-01-12T07:21+0000",
     "start_time": "2022-01-12T07:21:47.047Z"
    },
    "slideshow": {
     "slide_type": "-"
    }
   },
   "outputs": [
    {
     "data": {
      "text/plain": [
       "[2aaa, 4aaa, 6aaa]"
      ]
     },
     "execution_count": 8,
     "metadata": {},
     "output_type": "execute_result"
    }
   ],
   "source": [
    "import java.util.stream.*;\n",
    "\n",
    "var numbers = Arrays.asList(1, 2, 3, 4, 5, 6);\n",
    "numbers.stream().filter(e -> e % 2 == 0).\n",
    "                 map(e -> e + \"aaa\").\n",
    "                 collect(Collectors.toList());"
   ]
  },
  {
   "cell_type": "markdown",
   "metadata": {
    "slideshow": {
     "slide_type": "subslide"
    }
   },
   "source": [
    "# `map`"
   ]
  },
  {
   "cell_type": "code",
   "execution_count": 11,
   "metadata": {
    "ExecuteTime": {
     "end_time": "2022-01-12T07:25+0000",
     "start_time": "2022-01-12T07:25:38.933Z"
    },
    "slideshow": {
     "slide_type": "-"
    }
   },
   "outputs": [
    {
     "data": {
      "text/plain": [
       "5, 3, 4, 6"
      ]
     },
     "execution_count": 11,
     "metadata": {},
     "output_type": "execute_result"
    }
   ],
   "source": [
    "import java.util.stream.*;\n",
    "\n",
    "var numbers = Arrays.asList(\"jeden\", \"dwa\", \"trzy\", \"cztery\");\n",
    "numbers.stream().\n",
    "    map(String::length).\n",
    "    map(Object::toString).\n",
    "    collect(Collectors.joining(\", \"));"
   ]
  },
  {
   "cell_type": "markdown",
   "metadata": {
    "slideshow": {
     "slide_type": "subslide"
    }
   },
   "source": [
    "# `forEach`"
   ]
  },
  {
   "cell_type": "code",
   "execution_count": 12,
   "metadata": {
    "ExecuteTime": {
     "end_time": "2022-01-12T07:25+0000",
     "start_time": "2022-01-12T07:25:54.747Z"
    },
    "slideshow": {
     "slide_type": "-"
    }
   },
   "outputs": [
    {
     "name": "stdout",
     "output_type": "stream",
     "text": [
      "jeden\n",
      "dwa\n",
      "trzy\n",
      "cztery\n"
     ]
    }
   ],
   "source": [
    "var numbers = Arrays.asList(\"jeden\", \"dwa\", \"trzy\", \"cztery\");\n",
    "numbers.forEach(System.out::println);"
   ]
  },
  {
   "cell_type": "markdown",
   "metadata": {
    "slideshow": {
     "slide_type": "subslide"
    }
   },
   "source": [
    "# `map` i `reduce`"
   ]
  },
  {
   "cell_type": "code",
   "execution_count": 13,
   "metadata": {
    "ExecuteTime": {
     "end_time": "2022-01-12T07:27+0000",
     "start_time": "2022-01-12T07:27:01.094Z"
    },
    "slideshow": {
     "slide_type": "-"
    }
   },
   "outputs": [
    {
     "name": "stdout",
     "output_type": "stream",
     "text": [
      "4.5\n"
     ]
    }
   ],
   "source": [
    "var numbers = Arrays.asList(\"jeden\", \"dwa\", \"trzy\", \"cztery\");\n",
    "double sum = numbers.stream().map(String::length).reduce(0, (x,y) -> x + y);\n",
    "System.out.println(sum / numbers.size());"
   ]
  },
  {
   "cell_type": "markdown",
   "metadata": {
    "slideshow": {
     "slide_type": "subslide"
    }
   },
   "source": [
    "# Wartościowanie leniwe\n",
    "\n",
    "&nbsp;\n",
    "\n",
    "<center>\n",
    "<img src=\"img/leniwiec.jpg\" />\n",
    "</center>"
   ]
  },
  {
   "cell_type": "code",
   "execution_count": 14,
   "metadata": {
    "ExecuteTime": {
     "end_time": "2022-01-12T07:28+0000",
     "start_time": "2022-01-12T07:28:19.636Z"
    },
    "slideshow": {
     "slide_type": "subslide"
    }
   },
   "outputs": [],
   "source": [
    "import java.util.function.*;\n",
    "import java.util.stream.*;\n",
    "\n",
    "public class SquareGenerator implements IntSupplier {\n",
    "    private int current = 1;\n",
    "    \n",
    "    @Override\n",
    "    public synchronized int getAsInt(){\n",
    "        int thisResult = current * current;\n",
    "        current++;\n",
    "        return thisResult;\n",
    "    }\n",
    "}"
   ]
  },
  {
   "cell_type": "code",
   "execution_count": 15,
   "metadata": {
    "ExecuteTime": {
     "end_time": "2022-01-12T07:28+0000",
     "start_time": "2022-01-12T07:28:23.161Z"
    },
    "slideshow": {
     "slide_type": "subslide"
    }
   },
   "outputs": [
    {
     "name": "stdout",
     "output_type": "stream",
     "text": [
      "1\n",
      "4\n",
      "9\n",
      "16\n",
      "25\n",
      "36\n",
      "49\n",
      "64\n",
      "81\n",
      "100\n",
      "-----------\n",
      "121\n",
      "144\n",
      "169\n",
      "196\n",
      "225\n",
      "256\n",
      "289\n",
      "324\n",
      "361\n",
      "400\n"
     ]
    }
   ],
   "source": [
    "var squares = IntStream.generate(new SquareGenerator());\n",
    "var stepThrough = squares.iterator();\n",
    "\n",
    "for(int i = 0; i < 10; i++){\n",
    "    System.out.println(stepThrough.nextInt());\n",
    "}\n",
    "\n",
    "System.out.println(\"-----------\");\n",
    "\n",
    "for(int i = 0; i < 10; i++){\n",
    "    System.out.println(stepThrough.nextInt());\n",
    "}"
   ]
  },
  {
   "cell_type": "code",
   "execution_count": 17,
   "metadata": {
    "ExecuteTime": {
     "end_time": "2022-01-12T07:30+0000",
     "start_time": "2022-01-12T07:30:06.140Z"
    },
    "slideshow": {
     "slide_type": "subslide"
    }
   },
   "outputs": [
    {
     "name": "stdout",
     "output_type": "stream",
     "text": [
      "1\n",
      "2\n",
      "3\n",
      "4\n",
      "5\n",
      "6\n",
      "7\n",
      "8\n",
      "9\n",
      "10\n",
      "11\n",
      "12\n",
      "13\n",
      "14\n",
      "15\n",
      "16\n",
      "17\n",
      "18\n",
      "19\n",
      "20\n"
     ]
    }
   ],
   "source": [
    "var squares = IntStream.generate(new SquareGenerator());\n",
    "squares.map(e -> (int) Math.sqrt(e)).limit(20).forEach(System.out::println);"
   ]
  },
  {
   "cell_type": "markdown",
   "metadata": {
    "slideshow": {
     "slide_type": "subslide"
    }
   },
   "source": [
    "# Wyjątki\n",
    "&nbsp;\n",
    "\n",
    "<center>\n",
    "<img src=\"img/hose.jpg\" />\n",
    "    </center>"
   ]
  },
  {
   "cell_type": "code",
   "execution_count": 18,
   "metadata": {
    "ExecuteTime": {
     "end_time": "2022-01-12T07:31+0000",
     "start_time": "2022-01-12T07:31:51.302Z"
    },
    "slideshow": {
     "slide_type": "subslide"
    }
   },
   "outputs": [
    {
     "ename": "CompilationException",
     "evalue": "",
     "output_type": "error",
     "traceback": [
      "\u001b[1m\u001b[30m|   \u001b[1m\u001b[30m        forEach((element) -> { out.println(\u001b[0m\u001b[1m\u001b[30m\u001b[41mconverter.convertToInt(element)\u001b[0m\u001b[1m\u001b[30m); });\u001b[0m",
      "\u001b[1m\u001b[31munreported exception java.lang.Exception; must be caught or declared to be thrown\u001b[0m",
      ""
     ]
    }
   ],
   "source": [
    "import static java.lang.System.out;\n",
    "\n",
    "public class StringConverter {\n",
    "    public int convertToInt(String value) throws Exception {\n",
    "        return Integer.parseInt(value);\n",
    "    }\n",
    "}\n",
    "\n",
    "try {\n",
    "    var converter = new StringConverter();\n",
    "    Arrays.asList(\"10\", \"zz\").stream().\n",
    "        forEach((element) -> { out.println(converter.convertToInt(element)); });\n",
    "} catch(Exception ex) {\n",
    "    System.out.println(ex);\n",
    "}"
   ]
  },
  {
   "cell_type": "code",
   "execution_count": 20,
   "metadata": {
    "ExecuteTime": {
     "end_time": "2022-01-12T07:33+0000",
     "start_time": "2022-01-12T07:33:56.091Z"
    },
    "slideshow": {
     "slide_type": "subslide"
    }
   },
   "outputs": [
    {
     "name": "stdout",
     "output_type": "stream",
     "text": [
      "10\n"
     ]
    },
    {
     "ename": "EvalException",
     "evalue": "java.lang.NumberFormatException: For input string: \"zz\"",
     "output_type": "error",
     "traceback": [
      "\u001b[1m\u001b[31m---------------------------------------------------------------------------\u001b[0m",
      "\u001b[1m\u001b[31mjava.lang.RuntimeException: java.lang.NumberFormatException: For input string: \"zz\"\u001b[0m",
      "\u001b[1m\u001b[31m\tat .lambda$do_it$$0(#44:1)\u001b[0m",
      "\u001b[1m\u001b[31m\tat java.base/java.util.Spliterators$ArraySpliterator.forEachRemaining(Spliterators.java:992)\u001b[0m",
      "\u001b[1m\u001b[31m\tat java.base/java.util.stream.ReferencePipeline$Head.forEach(ReferencePipeline.java:762)\u001b[0m",
      "\u001b[1m\u001b[31m\tat .(#44:1)\u001b[0m"
     ]
    }
   ],
   "source": [
    "public class StringConverter {\n",
    "    public int convertToInt(String value) throws Exception {\n",
    "        return Integer.parseInt(value);\n",
    "    }\n",
    "}\n",
    "\n",
    "StringConverter converter = new StringConverter();\n",
    "Arrays.asList(\"10\", \"zz\", \"20\").stream().\n",
    "    forEach((element) -> { \n",
    "        try {\n",
    "            out.println(converter.convertToInt(element)); \n",
    "        } catch(Exception ex) {\n",
    "            throw new RuntimeException(ex);\n",
    "        }\n",
    "    });"
   ]
  },
  {
   "cell_type": "code",
   "execution_count": 22,
   "metadata": {
    "ExecuteTime": {
     "end_time": "2022-01-12T07:35+0000",
     "start_time": "2022-01-12T07:35:58.869Z"
    },
    "slideshow": {
     "slide_type": "subslide"
    }
   },
   "outputs": [
    {
     "name": "stdout",
     "output_type": "stream",
     "text": [
      "10\n",
      "20\n"
     ]
    },
    {
     "name": "stderr",
     "output_type": "stream",
     "text": [
      "java.lang.RuntimeException: java.lang.NumberFormatException: For input string: \"z\"\n",
      "\tat REPL.$JShell$46.lambda$do_it$$0($JShell$46.java:22)\n",
      "\tat java.base/java.util.stream.ReferencePipeline$7$1.accept(ReferencePipeline.java:273)\n",
      "\tat java.base/java.util.Spliterators$ArraySpliterator.forEachRemaining(Spliterators.java:992)\n",
      "\tat java.base/java.util.stream.AbstractPipeline.copyInto(AbstractPipeline.java:509)\n",
      "\tat java.base/java.util.stream.AbstractPipeline.wrapAndCopyInto(AbstractPipeline.java:499)\n",
      "\tat java.base/java.util.stream.ReduceOps$ReduceOp.evaluateSequential(ReduceOps.java:921)\n",
      "\tat java.base/java.util.stream.AbstractPipeline.evaluate(AbstractPipeline.java:234)\n",
      "\tat java.base/java.util.stream.ReferencePipeline.reduce(ReferencePipeline.java:662)\n",
      "\tat REPL.$JShell$46.do_it$($JShell$46.java:25)\n",
      "\tat java.base/jdk.internal.reflect.NativeMethodAccessorImpl.invoke0(Native Method)\n",
      "\tat java.base/jdk.internal.reflect.NativeMethodAccessorImpl.invoke(NativeMethodAccessorImpl.java:77)\n",
      "\tat java.base/jdk.internal.reflect.DelegatingMethodAccessorImpl.invoke(DelegatingMethodAccessorImpl.java:43)\n",
      "\tat java.base/java.lang.reflect.Method.invoke(Method.java:568)\n",
      "\tat io.github.spencerpark.ijava.execution.IJavaExecutionControl.lambda$execute$1(IJavaExecutionControl.java:95)\n",
      "\tat java.base/java.util.concurrent.FutureTask.run(FutureTask.java:264)\n",
      "\tat java.base/java.util.concurrent.ThreadPoolExecutor.runWorker(ThreadPoolExecutor.java:1136)\n",
      "\tat java.base/java.util.concurrent.ThreadPoolExecutor$Worker.run(ThreadPoolExecutor.java:635)\n",
      "\tat java.base/java.lang.Thread.run(Thread.java:833)\n",
      "\tSuppressed: java.lang.RuntimeException: java.lang.NumberFormatException: For input string: \"c\"\n",
      "\t\t... 18 more\n",
      "\tCaused by: java.lang.NumberFormatException: For input string: \"c\"\n",
      "\t\tat java.base/java.lang.NumberFormatException.forInputString(NumberFormatException.java:67)\n",
      "\t\tat java.base/java.lang.Integer.parseInt(Integer.java:668)\n",
      "\t\tat java.base/java.lang.Integer.parseInt(Integer.java:786)\n",
      "\t\tat REPL.$JShell$40B$StringConverter.convertToInt($JShell$40B.java:17)\n",
      "\t\tat REPL.$JShell$46.lambda$do_it$$0($JShell$46.java:19)\n",
      "\t\t... 17 more\n",
      "Caused by: java.lang.NumberFormatException: For input string: \"z\"\n",
      "\tat java.base/java.lang.NumberFormatException.forInputString(NumberFormatException.java:67)\n",
      "\tat java.base/java.lang.Integer.parseInt(Integer.java:668)\n",
      "\tat java.base/java.lang.Integer.parseInt(Integer.java:786)\n",
      "\tat REPL.$JShell$40B$StringConverter.convertToInt($JShell$40B.java:17)\n",
      "\tat REPL.$JShell$46.lambda$do_it$$0($JShell$46.java:19)\n",
      "\t... 17 more\n"
     ]
    }
   ],
   "source": [
    "try {\n",
    "    Arrays.asList(\"10\", \"z\", \"20\", \"c\").stream()\n",
    "                .flatMap((element) -> {\n",
    "                    try {\n",
    "                        out.println(converter.convertToInt(element));\n",
    "                        return null;\n",
    "                    } catch (Exception ex) {\n",
    "                        return Stream.of(new RuntimeException(ex));\n",
    "                    }\n",
    "                })\n",
    "                .reduce((ex1, ex2) -> {\n",
    "                    ex1.addSuppressed(ex2);\n",
    "                    return ex1;\n",
    "                })\n",
    "                .ifPresent(ex -> {\n",
    "                    throw ex;\n",
    "                });\n",
    "} catch(Exception ex) {\n",
    "    ex.printStackTrace();\n",
    "}\n",
    "// Na podstawie: https://stackoverflow.com/questions/30117134/aggregate-runtime-exceptions-in-java-8-streams"
   ]
  },
  {
   "cell_type": "markdown",
   "metadata": {
    "slideshow": {
     "slide_type": "notes"
    }
   },
   "source": [
    "TODO\n",
    "\n",
    "* narysować relacje pomiędzy typem składowym a otaczającym"
   ]
  },
  {
   "cell_type": "markdown",
   "metadata": {
    "slideshow": {
     "slide_type": "slide"
    }
   },
   "source": [
    "![Pytania? ](img/question.jpg)"
   ]
  },
  {
   "cell_type": "code",
   "execution_count": null,
   "metadata": {},
   "outputs": [],
   "source": []
  }
 ],
 "metadata": {
  "celltoolbar": "Slideshow",
  "kernelspec": {
   "display_name": "Java",
   "language": "java",
   "name": "java"
  },
  "language_info": {
   "codemirror_mode": "java",
   "file_extension": ".jshell",
   "mimetype": "text/x-java-source",
   "name": "Java",
   "pygments_lexer": "java",
   "version": "17+35-2724"
  },
  "toc": {
   "base_numbering": 1,
   "nav_menu": {},
   "number_sections": false,
   "sideBar": true,
   "skip_h1_title": false,
   "title_cell": "Table of Contents",
   "title_sidebar": "Contents",
   "toc_cell": false,
   "toc_position": {},
   "toc_section_display": true,
   "toc_window_display": false
  }
 },
 "nbformat": 4,
 "nbformat_minor": 1
}
