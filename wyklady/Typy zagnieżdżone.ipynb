{
 "cells": [
  {
   "cell_type": "markdown",
   "metadata": {
    "slideshow": {
     "slide_type": "slide"
    }
   },
   "source": [
    "# Typy zagnieżdżone\n",
    "\n",
    "## Statyczne typy składowe, klasy wewnętrzne, lokalne, anonimowe oraz wyrażenia lambda\n",
    "\n",
    "<br/>\n",
    "\n",
    "## dr inż. Aleksander Smywiński-Pohl\n",
    "\n",
    "## apohllo@o2.pl\n",
    "\n",
    "## http://apohllo.pl/dydaktyka/programowanie-obiektowe"
   ]
  },
  {
   "cell_type": "markdown",
   "metadata": {
    "slideshow": {
     "slide_type": "slide"
    }
   },
   "source": [
    "# Plan\n",
    "\n",
    "* statyczne typy składowe: interfejsy, wyliczenia, adnotacje\n",
    "* klasy wewnętrzne\n",
    "* klasy lokalne\n",
    "* klasy anonimowe\n",
    "* wyrażenia lambda\n",
    "* interfejs `Stream`"
   ]
  },
  {
   "cell_type": "markdown",
   "metadata": {
    "slideshow": {
     "slide_type": "slide"
    }
   },
   "source": [
    "# Statyczny zagnieżdżony interfejs\n",
    "\n",
    "```java\n",
    "class LinkedStack {\n",
    "    static interface Linkable {\n",
    "        public Linkable getNext();\n",
    "        public void setNext();\n",
    "    }\n",
    "    \n",
    "    Linkable head;\n",
    "    \n",
    "    public void push(Linkable node) {\n",
    "        if(node == null){\n",
    "            throw new InvalidArgumentException(\"Element cannot be null!\");\n",
    "        }\n",
    "        node.setNext(head);\n",
    "        this.head = node;\n",
    "    }\n",
    "    \n",
    "    public Linkable pop() {\n",
    "        Linkable result = this.head;\n",
    "        if(result != null){\n",
    "            this.head = result.getNext();\n",
    "        }\n",
    "        return result;\n",
    "    }\n",
    "}\n",
    "```"
   ]
  },
  {
   "cell_type": "markdown",
   "metadata": {
    "slideshow": {
     "slide_type": "subslide"
    }
   },
   "source": [
    "```java\n",
    "// import LinkedStack.Linkable;\n",
    "\n",
    "class LinkableInteger implements LinkedStack.Linkable {\n",
    "    int i;\n",
    "    LinkedStack.Linkable next;\n",
    "    \n",
    "    public LinkableInteger(int i) { this.i = i; }\n",
    "    \n",
    "    public LinkedStack.Linkable getNext() { return next; }\n",
    "    \n",
    "    public void setNext(LinkedStack.Linkable next) { this.next = next; }\n",
    "}\n",
    "```"
   ]
  },
  {
   "cell_type": "markdown",
   "metadata": {
    "slideshow": {
     "slide_type": "subslide"
    }
   },
   "source": [
    "# Własności statycznego typu składowego\n",
    "\n",
    "* dostęp do prywatnych statycznych składowych typu otaczającego\n",
    "* dostęp typu otaczającego do prywatnych składowych typu statycznego"
   ]
  },
  {
   "cell_type": "markdown",
   "metadata": {
    "slideshow": {
     "slide_type": "subslide"
    }
   },
   "source": [
    "# Map.Entry - przykład statycznego zagnieżdżonego interfejsu\n",
    "\n",
    "```java\n",
    "Map<String,Integer> numbers = new HashMap<>();\n",
    "numbers.put(\"jeden\", 1);\n",
    "numbers.put(\"dwa\", 2);\n",
    "numbers.put(\"trzy\", 3);\n",
    "for(Map.Entry<String,Integer> entry : numbers.entrySet()){\n",
    "    System.out.println(\"\" + entry.key + \" : \" + entry.value);\n",
    "}\n",
    "```"
   ]
  },
  {
   "cell_type": "markdown",
   "metadata": {
    "slideshow": {
     "slide_type": "slide"
    }
   },
   "source": [
    "# Klasa wewnętrzna\n",
    "\n",
    "```java\n",
    "class BoundedArrayList {\n",
    "    private Object[] array;\n",
    "    private int pointer = 0;\n",
    "    \n",
    "    public BoundedArrayList(int size){\n",
    "        array = new Object[size];\n",
    "    }\n",
    "    \n",
    "    public boolean add(Object element){\n",
    "        if(pointer < array.length){\n",
    "            array[pointer] = element;\n",
    "            pointer++;\n",
    "            return true;\n",
    "        } else {\n",
    "            return false;\n",
    "        }\n",
    "    }\n",
    "}\n",
    "```"
   ]
  },
  {
   "cell_type": "markdown",
   "metadata": {
    "slideshow": {
     "slide_type": "subslide"
    }
   },
   "source": [
    "```java\n",
    "class BoundedArrayList {\n",
    "    protected class ForwardIterator implements Iterator {\n",
    "        private int index = 0;\n",
    "        public boolean hasNext(){\n",
    "            return index < pointer;\n",
    "        }\n",
    "        public Object next(){\n",
    "            if(index >= pointer){\n",
    "                throw new NoSuchElementException();\n",
    "            }\n",
    "            Object result = array[index];\n",
    "            index++;\n",
    "            return result;\n",
    "        }\n",
    "    }\n",
    "\n",
    "    public Iterator forwardIterator(){\n",
    "        return new ForwardIterator();\n",
    "    }\n",
    "}\n",
    "```"
   ]
  },
  {
   "cell_type": "markdown",
   "metadata": {
    "slideshow": {
     "slide_type": "subslide"
    }
   },
   "source": [
    "```java\n",
    "class BoundedArrayList {\n",
    "    protected class BackwardIterator implements Iterator {\n",
    "        private int index = pointer-1;\n",
    "        public boolean hasNext(){\n",
    "            return index >= 0;\n",
    "        }\n",
    "        public Object next(){\n",
    "            if(index < 0){\n",
    "                throw new NoSuchElementException();\n",
    "            }\n",
    "            Object result = array[index];\n",
    "            index--;\n",
    "            return result;\n",
    "        }\n",
    "    }\n",
    "\n",
    "    public Iterator backwardIterator(){\n",
    "        return new BackwardIterator();\n",
    "    }\n",
    "}\n",
    "```"
   ]
  },
  {
   "cell_type": "markdown",
   "metadata": {
    "slideshow": {
     "slide_type": "subslide"
    }
   },
   "source": [
    "```java\n",
    "BoundedArrayList list = new BoundedArrayList(10);\n",
    "\n",
    "list.add(\"Ala\");\n",
    "list.add(\"ma\");\n",
    "list.add(\"kota\");\n",
    "\n",
    "for(Iterator iterator = list.forwardIterator(); iterator.hasNext(); ){\n",
    "    System.out.println(iterator.next());\n",
    "}\n",
    "\n",
    "for(Iterator iterator = list.backwardIterator(); iterator.hasNext(); ){\n",
    "    System.out.println(iterator.next());\n",
    "}\n",
    "new BoundedArrayList.BackwardIterator();          // niedozwolone\n",
    "```"
   ]
  },
  {
   "cell_type": "markdown",
   "metadata": {
    "slideshow": {
     "slide_type": "fragment"
    }
   },
   "source": [
    "```java\n",
    "System.out.println(list.forwardIterator());\n",
    "\n",
    "BoundedArrayList$ForwardIterator@67784306\n",
    "```"
   ]
  },
  {
   "cell_type": "markdown",
   "metadata": {
    "slideshow": {
     "slide_type": "fragment"
    }
   },
   "source": [
    "```java\n",
    "new BoundedArrayList.BackwardIterator();\n",
    "\n",
    "|  Error:\n",
    "|  an enclosing instance that contains BoundedArrayList.BackwardIterator \n",
    "|     is required\n",
    "|  new BoundedArrayList.BackwardIterator();\n",
    "|  ^-------------------------------------^\n",
    "```"
   ]
  },
  {
   "cell_type": "markdown",
   "metadata": {
    "slideshow": {
     "slide_type": "subslide"
    }
   },
   "source": [
    "# Własności niestatycznego typu składowego\n",
    "\n",
    "* dostęp do prywatnych składowych typu otaczającego\n",
    "* dostęp typu otaczającego do prywatnych składowych typu niestatycznego\n",
    "* klasa składowa nie może mieć takiej samej nazwy jak jakaś klasa nadrzędna lub pakiet\n",
    "* klasa składowa nie może zawierać składowych statycznych, z wyjątkiem wartości stałych"
   ]
  },
  {
   "cell_type": "markdown",
   "metadata": {
    "slideshow": {
     "slide_type": "slide"
    }
   },
   "source": [
    "# Klasy lokalne\n",
    "\n",
    "```java\n",
    "class LocalExample {\n",
    "    public static interface IntHolder { int getValue(); }\n",
    "    \n",
    "    public void run(){\n",
    "        IntHolder[] holders = new IntHolder[10];\n",
    "        for(int i = 0; i < 10; i++){\n",
    "            final int fi = i;\n",
    "            class MyIntHolder implements IntHolder {\n",
    "                public int getValue() { return fi; }\n",
    "            }\n",
    "            holders[i] = new MyIntHolder();\n",
    "        }\n",
    "        \n",
    "        for(int i = 0; i < 10; i++){\n",
    "            System.out.println(holders[i].getValue());\n",
    "        }\n",
    "    }\n",
    "}\n",
    "\n",
    "new LocalExample().run();\n",
    "```"
   ]
  },
  {
   "cell_type": "markdown",
   "metadata": {
    "slideshow": {
     "slide_type": "subslide"
    }
   },
   "source": [
    "```\n",
    "0\n",
    "1\n",
    "2\n",
    "3\n",
    "4\n",
    "5\n",
    "6\n",
    "7\n",
    "8\n",
    "9\n",
    "```"
   ]
  },
  {
   "cell_type": "markdown",
   "metadata": {
    "slideshow": {
     "slide_type": "subslide"
    }
   },
   "source": [
    "# Własności klas lokalnych\n",
    "\n",
    "* klasy lokalne mają dostęp do zmiennych prywatnych klas otaczających\n",
    "* klasy lokalne mają dostep do finalnych zmiennych lokalnych (w tym argumentów metod oraz wyjątków)\n",
    "* odwołanie do zmiennych lokalnych tworzy *domknięcie*\n",
    "* nazwa klasy lokalnej jest dostępna tylko w bloku, w którym jest ona zdefiniowana\n"
   ]
  },
  {
   "cell_type": "markdown",
   "metadata": {
    "slideshow": {
     "slide_type": "slide"
    }
   },
   "source": [
    "# Klasy anonimowe\n",
    "\n",
    "```java\n",
    "class BoundedArrayList {\n",
    "    private Object[] array;\n",
    "    private int pointer = 0;\n",
    "\n",
    "    public Iterator backwardIterator(){\n",
    "        return new Iterator() {\n",
    "            private int index = pointer-1;\n",
    "            public boolean hasNext(){\n",
    "                return index >= 0;\n",
    "            }\n",
    "            public Object next(){\n",
    "                if(index < 0){\n",
    "                    throw new NoSuchElementException();\n",
    "                }\n",
    "                Object result = array[index];\n",
    "                index--;\n",
    "                return result;\n",
    "            }\n",
    "        };\n",
    "    }\n",
    "}\n",
    "```"
   ]
  },
  {
   "cell_type": "markdown",
   "metadata": {
    "slideshow": {
     "slide_type": "subslide"
    }
   },
   "source": [
    "# Comparator\n",
    "\n",
    "```java\n",
    "class NumberCollection {\n",
    "    private SortedSet<String> numbers;\n",
    "    public NumberCollection(){\n",
    "        numbers = new TreeSet<>(new Comparator<String>(){\n",
    "            public int compare(String a, String b){\n",
    "                return a.length() - b.length();\n",
    "            }\n",
    "        });\n",
    "    }\n",
    "\n",
    "    public boolean add(String number){\n",
    "        return numbers.add(number);\n",
    "    }\n",
    "\n",
    "    public String toString(){\n",
    "        return numbers.toString();\n",
    "    }\n",
    "}\n",
    "```"
   ]
  },
  {
   "cell_type": "markdown",
   "metadata": {
    "slideshow": {
     "slide_type": "fragment"
    }
   },
   "source": [
    "```java\n",
    "NumberCollection numbers = new NumberCollection();\n",
    "numbers.add(\"1111\");\n",
    "numbers.add(\"1\");\n",
    "numbers.add(\"111111\");\n",
    "\n",
    "System.out.println(numbers);\n",
    "```"
   ]
  },
  {
   "cell_type": "markdown",
   "metadata": {
    "slideshow": {
     "slide_type": "subslide"
    }
   },
   "source": [
    "# \"Instancja\" klasy abstrakcyjnej\n",
    "\n",
    "```java\n",
    "abstract class AbstractClass {\n",
    "}\n",
    "\n",
    "AbstractClass abstractValue = new AbstractClass(){};\n",
    "```"
   ]
  },
  {
   "cell_type": "markdown",
   "metadata": {
    "slideshow": {
     "slide_type": "slide"
    }
   },
   "source": [
    "# Wyrażenia lambda - motywacja\n",
    "\n",
    "```java\n",
    "import java.io.*;\n",
    "\n",
    "File dir = new File(\"/home/apohllo\");\n",
    "\n",
    "String[] fileList = dir.list(new FilenameFilter() {\n",
    "    public boolean accept(File file, String fileName){\n",
    "        return fileName.endsWith(\".java\");\n",
    "    }\n",
    "});\n",
    "for(String s : fileList){\n",
    "    System.out.println(s);\n",
    "}\n",
    "```"
   ]
  },
  {
   "cell_type": "markdown",
   "metadata": {
    "slideshow": {
     "slide_type": "subslide"
    }
   },
   "source": [
    "# Wyrażenie lambda zamiast klasy anonimowej\n",
    "\n",
    "```java\n",
    "import java.io.*;\n",
    "\n",
    "String[] fileList = new File(\"/home/apohllo\").\n",
    "    list((f,s) -> { return s.endsWith(\".java\"); });\n",
    "for(String s : fileList){\n",
    "    System.out.println(s);\n",
    "}\n",
    "```"
   ]
  },
  {
   "cell_type": "markdown",
   "metadata": {
    "slideshow": {
     "slide_type": "subslide"
    }
   },
   "source": [
    "```java\n",
    "import java.io.*;\n",
    "\n",
    "String[] fileList = new File(\"/home/apohllo\").\n",
    "    list((f,s) -> s.endsWith(\".java\"));\n",
    "for(String s : fileList){\n",
    "    System.out.println(s);\n",
    "}\n",
    "```"
   ]
  },
  {
   "cell_type": "markdown",
   "metadata": {
    "slideshow": {
     "slide_type": "fragment"
    }
   },
   "source": [
    "```java\n",
    "Arrays.asList(new File(\"/home/apohllo\").list((f,s) -> s.endsWith(\".java\"))).\n",
    "    stream().forEach(System.out::println);\n",
    "```"
   ]
  },
  {
   "cell_type": "markdown",
   "metadata": {
    "slideshow": {
     "slide_type": "slide"
    }
   },
   "source": [
    "# Interfejs `Stream` i techniki funkcyjne\n",
    "\n",
    "* interfejs `Collection` został rozszerzony o metodę `stream`\n",
    "* metoda ta została wprowadzona aby ograniczyć wsteczną niekompatybilność\n",
    "* metoda ta jest domyślna w interfejsie `Collection`\n",
    "* metoda zwraca elemet typu `Stream`\n",
    "* interfejs `Stream` umożliwia wykonywania metod funkcyjnych:\n",
    "  * `allMatch`\n",
    "  * `anyMatch`\n",
    "  * `collect`\n",
    "  * `concat`\n",
    "  * `count`\n",
    "  * `distinct`\n",
    "  * `empty`\n",
    "  * `filter`\n",
    "  * `findAny`\n",
    "  * `findFirst`\n",
    "  * `flatMap`\n",
    "  * `forEach`\n",
    "  * `map`\n",
    "  * itd."
   ]
  },
  {
   "cell_type": "markdown",
   "metadata": {
    "slideshow": {
     "slide_type": "subslide"
    }
   },
   "source": [
    "# `fliter`, `map` i `collect`\n",
    "\n",
    "```java\n",
    "import java.util.stream.*;\n",
    "\n",
    "Collection<String> numbers = Arrays.asList(1, 2, 3, 4, 5, 6);\n",
    "numbers.stream().filter(e -> e % 2 == 0).\n",
    "                 map(e -> e.toString()).\n",
    "                 collect(Collectors.toList());\n",
    "```"
   ]
  },
  {
   "cell_type": "markdown",
   "metadata": {
    "slideshow": {
     "slide_type": "subslide"
    }
   },
   "source": [
    "# `map`\n",
    "\n",
    "```java\n",
    "import java.util.stream.*;\n",
    "\n",
    "Collection<String> numbers = Arrays.asList(\"jeden\", \"dwa\", \"trzy\", \"cztery\");\n",
    "numbers.stream().map(String::length).\n",
    "                 collect(Collectors.joining(\", \"));\n",
    "```"
   ]
  },
  {
   "cell_type": "markdown",
   "metadata": {
    "slideshow": {
     "slide_type": "subslide"
    }
   },
   "source": [
    "# `forEach`\n",
    "\n",
    "```java\n",
    "Collection<String> numbers = Arrays.asList(\"jeden\", \"dwa\", \"trzy\", \"cztery\");\n",
    "numbers.stream().forEach(System.out::println);\n",
    "// jeden\n",
    "// dwa\n",
    "// trzy\n",
    "// cztery\n",
    "```"
   ]
  },
  {
   "cell_type": "markdown",
   "metadata": {
    "slideshow": {
     "slide_type": "subslide"
    }
   },
   "source": [
    "# `map` i `reduce`\n",
    "\n",
    "```java\n",
    "Collection<String> numbers = Arrays.asList(\"jeden\", \"dwa\", \"trzy\", \"cztery\");\n",
    "double sum = numbers.stream().map(String::length).\n",
    "                              reduce(0, (x,y) -> { return x + y; });\n",
    "System.out.println(sum / numbers.size());\n",
    "```"
   ]
  },
  {
   "cell_type": "markdown",
   "metadata": {
    "slideshow": {
     "slide_type": "subslide"
    }
   },
   "source": [
    "# Wartościowanie leniwe\n",
    "\n",
    "```java\n",
    "import java.util.function.*;\n",
    "import java.util.stream.*;\n",
    "\n",
    "public class SquareGenerator implements IntSupplier {\n",
    "    private int current = 1;\n",
    "    \n",
    "    @Override\n",
    "    public synchronized int getAsInt(){\n",
    "        int thisResult = current * current;\n",
    "        current++;\n",
    "        return thisResult;\n",
    "    }\n",
    "}\n",
    "```"
   ]
  },
  {
   "cell_type": "markdown",
   "metadata": {
    "slideshow": {
     "slide_type": "fragment"
    }
   },
   "source": [
    "```java\n",
    "IntStream squares = IntStream.generate(new SquareGenerator());\n",
    "PrimitiveIterator.OfInt stepThrough = squares.iterator();\n",
    "for(int i = 0; i < 10; i++){\n",
    "    System.out.println(stepThrough.nextInt());\n",
    "}\n",
    "\n",
    "for(int i = 0; i < 10; i++){\n",
    "    System.out.println(stepThrough.nextInt());\n",
    "}\n",
    "```"
   ]
  },
  {
   "cell_type": "markdown",
   "metadata": {
    "slideshow": {
     "slide_type": "slide"
    }
   },
   "source": [
    "![Pytania? ](http://cliparts.co/cliparts/qcB/jqg/qcBjqgxc5.jpg)"
   ]
  }
 ],
 "metadata": {
  "celltoolbar": "Slideshow",
  "kernelspec": {
   "display_name": "Java 9",
   "language": "java",
   "name": "java"
  },
  "language_info": {
   "file_extension": ".class",
   "mimetype": "application/java-vm",
   "name": "java"
  }
 },
 "nbformat": 4,
 "nbformat_minor": 1
}
