{
 "cells": [
  {
   "cell_type": "markdown",
   "metadata": {
    "slideshow": {
     "slide_type": "slide"
    }
   },
   "source": [
    "# Typy zagnieżdżone\n",
    "\n",
    "## Statyczne typy składowe, klasy wewnętrzne, lokalne, anonimowe oraz wyrażenia lambda\n",
    "\n",
    "<br/>\n",
    "\n",
    "## dr inż. Aleksander Smywiński-Pohl\n",
    "\n",
    "## apohllo@o2.pl\n",
    "\n",
    "## http://apohllo.pl/dydaktyka/programowanie-obiektowe"
   ]
  },
  {
   "cell_type": "markdown",
   "metadata": {
    "slideshow": {
     "slide_type": "slide"
    }
   },
   "source": [
    "# Plan\n",
    "\n",
    "* statyczne typy składowe: interfejsy, wyliczenia, adnotacje\n",
    "* klasy wewnętrzne\n",
    "* klasy lokalne\n",
    "* klasy anonimowe\n",
    "* wyrażenia lambda\n",
    "* interfejs `Stream`"
   ]
  },
  {
   "cell_type": "markdown",
   "metadata": {
    "slideshow": {
     "slide_type": "slide"
    }
   },
   "source": [
    "# Statyczny zagnieżdżony interfejs"
   ]
  },
  {
   "cell_type": "code",
   "execution_count": null,
   "metadata": {
    "slideshow": {
     "slide_type": "-"
    }
   },
   "outputs": [],
   "source": [
    "class LinkedStack {\n",
    "    static interface Linkable {\n",
    "        public Linkable getNext();\n",
    "        public void setNext(Linkable next);\n",
    "    }\n",
    "    \n",
    "    private Linkable head;\n",
    "    \n",
    "    public void push(Linkable node) {\n",
    "        if(node == null){\n",
    "            throw new IllegalArgumentException(\"Element cannot be null!\");\n",
    "        }\n",
    "        node.setNext(head);\n",
    "        this.head = node;\n",
    "    }\n",
    "    \n",
    "    public Linkable pop() {\n",
    "        Linkable result = this.head;\n",
    "        if(result != null){\n",
    "            this.head = result.getNext();\n",
    "        }\n",
    "        return result;\n",
    "    }\n",
    "}"
   ]
  },
  {
   "cell_type": "markdown",
   "metadata": {
    "slideshow": {
     "slide_type": "notes"
    }
   },
   "source": [
    "W przypadku interfejsów deklaracja `static` nie ma żadnego skutku, ponieważ każdy interfejs zagnieżdżony jest statyczny."
   ]
  },
  {
   "cell_type": "code",
   "execution_count": null,
   "metadata": {
    "slideshow": {
     "slide_type": "subslide"
    }
   },
   "outputs": [],
   "source": [
    "import LinkedStack.Linkable;\n",
    "\n",
    "class LinkableInteger implements LinkedStack.Linkable {\n",
    "    private int i;\n",
    "    \n",
    "    private LinkedStack.Linkable next;\n",
    "    \n",
    "    public LinkableInteger(int i) { this.i = i; }\n",
    "    \n",
    "    public LinkedStack.Linkable getNext() { return next; }\n",
    "    \n",
    "    public void setNext(LinkedStack.Linkable next) { this.next = next; }\n",
    "}"
   ]
  },
  {
   "cell_type": "markdown",
   "metadata": {
    "slideshow": {
     "slide_type": "subslide"
    }
   },
   "source": [
    "# Własności statycznego typu składowego\n",
    "\n",
    "* dostęp do prywatnych statycznych składowych typu otaczającego\n",
    "* dostęp typu otaczającego do prywatnych składowych typu statycznego\n",
    "* *brak dostępu* statycznego typu do składowych instacyjnych typu otaczającego"
   ]
  },
  {
   "cell_type": "markdown",
   "metadata": {
    "slideshow": {
     "slide_type": "subslide"
    }
   },
   "source": [
    "# Map.Entry - przykład statycznego zagnieżdżonego interfejsu"
   ]
  },
  {
   "cell_type": "code",
   "execution_count": null,
   "metadata": {
    "slideshow": {
     "slide_type": "-"
    }
   },
   "outputs": [],
   "source": [
    "Map<String,Integer> numbers = new HashMap<>();\n",
    "numbers.put(\"jeden\", 1);\n",
    "numbers.put(\"dwa\", 2);\n",
    "numbers.put(\"trzy\", 3);\n",
    "for(Map.Entry<String,Integer> entry : numbers.entrySet()){\n",
    "    System.out.println(\"\" + entry.key + \" : \" + entry.value);\n",
    "}"
   ]
  },
  {
   "cell_type": "markdown",
   "metadata": {
    "slideshow": {
     "slide_type": "slide"
    }
   },
   "source": [
    "# Klasa wewnętrzna"
   ]
  },
  {
   "cell_type": "code",
   "execution_count": null,
   "metadata": {
    "slideshow": {
     "slide_type": "-"
    }
   },
   "outputs": [],
   "source": [
    "class BoundedArrayList {\n",
    "    private Object[] array;\n",
    "    private int pointer = 0;\n",
    "    \n",
    "    public BoundedArrayList(int size){\n",
    "        array = new Object[size];\n",
    "    }\n",
    "    \n",
    "    public boolean add(Object element){\n",
    "        if(pointer < array.length){\n",
    "            array[pointer] = element;\n",
    "            pointer++;\n",
    "            return true;\n",
    "        } else {\n",
    "            return false;\n",
    "        }\n",
    "    }\n",
    "}"
   ]
  },
  {
   "cell_type": "code",
   "execution_count": null,
   "metadata": {
    "slideshow": {
     "slide_type": "subslide"
    }
   },
   "outputs": [],
   "source": [
    "class BoundedArrayList {\n",
    "    protected class ForwardIterator implements Iterator {\n",
    "        private int index = 0;\n",
    "        public boolean hasNext(){\n",
    "            return index < pointer;\n",
    "        }\n",
    "        public Object next(){\n",
    "            if(index >= pointer){\n",
    "                throw new NoSuchElementException();\n",
    "            }\n",
    "            Object result = array[index];\n",
    "            index++;\n",
    "            return result;\n",
    "        }\n",
    "    }\n",
    "\n",
    "    public Iterator forwardIterator(){\n",
    "        return new ForwardIterator();\n",
    "    }\n",
    "}"
   ]
  },
  {
   "cell_type": "code",
   "execution_count": null,
   "metadata": {
    "slideshow": {
     "slide_type": "subslide"
    }
   },
   "outputs": [],
   "source": [
    "class BoundedArrayList {\n",
    "    protected class BackwardIterator implements Iterator {\n",
    "        private int index = pointer-1;\n",
    "        public boolean hasNext(){\n",
    "            return index >= 0;\n",
    "        }\n",
    "        public Object next(){\n",
    "            if(index < 0){\n",
    "                throw new NoSuchElementException();\n",
    "            }\n",
    "            Object result = array[index];\n",
    "            index--;\n",
    "            return result;\n",
    "        }\n",
    "    }\n",
    "\n",
    "    public Iterator backwardIterator(){\n",
    "        return new BackwardIterator();\n",
    "    }\n",
    "}"
   ]
  },
  {
   "cell_type": "code",
   "execution_count": null,
   "metadata": {
    "slideshow": {
     "slide_type": "subslide"
    }
   },
   "outputs": [],
   "source": [
    "BoundedArrayList list = new BoundedArrayList(10);\n",
    "\n",
    "list.add(\"Ala\");\n",
    "list.add(\"ma\");\n",
    "list.add(\"kota\");\n",
    "\n",
    "for(Iterator iterator = list.forwardIterator(); iterator.hasNext(); ){\n",
    "    System.out.println(iterator.next());\n",
    "}\n",
    "\n",
    "for(Iterator iterator = list.backwardIterator(); iterator.hasNext(); ){\n",
    "    System.out.println(iterator.next());\n",
    "}\n",
    "new BoundedArrayList.BackwardIterator();          // niedozwolone"
   ]
  },
  {
   "cell_type": "code",
   "execution_count": null,
   "metadata": {
    "slideshow": {
     "slide_type": "fragment"
    }
   },
   "outputs": [],
   "source": [
    "System.out.println(list.forwardIterator());\n",
    "\n",
    "BoundedArrayList$ForwardIterator@67784306"
   ]
  },
  {
   "cell_type": "code",
   "execution_count": null,
   "metadata": {
    "slideshow": {
     "slide_type": "fragment"
    }
   },
   "outputs": [],
   "source": [
    "new BoundedArrayList.BackwardIterator();\n",
    "\n",
    "|  Error:\n",
    "|  an enclosing instance that contains BoundedArrayList.BackwardIterator \n",
    "|     is required\n",
    "|  new BoundedArrayList.BackwardIterator();\n",
    "|  ^-------------------------------------^"
   ]
  },
  {
   "cell_type": "markdown",
   "metadata": {
    "slideshow": {
     "slide_type": "subslide"
    }
   },
   "source": [
    "# Własności niestatycznego typu składowego\n",
    "\n",
    "* dostęp do prywatnych składowych typu otaczającego\n",
    "* dostęp typu otaczającego do prywatnych składowych typu niestatycznego\n",
    "* klasa składowa nie może mieć takiej samej nazwy jak jakaś klasa nadrzędna lub pakiet\n",
    "* klasa składowa nie może zawierać składowych statycznych, z wyjątkiem wartości stałych"
   ]
  },
  {
   "cell_type": "markdown",
   "metadata": {
    "slideshow": {
     "slide_type": "slide"
    }
   },
   "source": [
    "# Klasy lokalne"
   ]
  },
  {
   "cell_type": "code",
   "execution_count": 1,
   "metadata": {
    "collapsed": true,
    "slideshow": {
     "slide_type": "-"
    }
   },
   "outputs": [
    {
     "name": "stderr",
     "output_type": "stream",
     "text": [
      "org.codehaus.groovy.control.MultipleCompilationErrorsException: startup failed:\n",
      "Script1.groovy: 8: Class definition not expected here. Please define the class at an appropriate place or perhaps try using a block/Closure instead. at line: 8 column: 13. File: Script1.groovy @ line 8, column 13.\n",
      "               class MyIntHolder implements IntHolder {\n",
      "               ^\n",
      "\n",
      "1 error\n",
      "\n",
      "\tat org.codehaus.groovy.control.ErrorCollector.failIfErrors(ErrorCollector.java:310)\n",
      "\tat org.codehaus.groovy.control.CompilationUnit.applyToSourceUnits(CompilationUnit.java:958)\n",
      "\tat org.codehaus.groovy.control.CompilationUnit.doPhaseOperation(CompilationUnit.java:605)\n",
      "\tat org.codehaus.groovy.control.CompilationUnit.processPhaseOperations(CompilationUnit.java:581)\n",
      "\tat org.codehaus.groovy.control.CompilationUnit.compile(CompilationUnit.java:558)\n",
      "\tat groovy.lang.GroovyClassLoader.doParseClass(GroovyClassLoader.java:298)\n",
      "\tat groovy.lang.GroovyClassLoader.parseClass(GroovyClassLoader.java:268)\n",
      "\tat groovy.lang.GroovyClassLoader.parseClass(GroovyClassLoader.java:254)\n",
      "\tat groovy.lang.GroovyClassLoader.parseClass(GroovyClassLoader.java:250)\n",
      "\tat org.scijava.plugins.scripting.groovy.GroovyScriptEngine.getScriptClass(GroovyScriptEngine.java:319)\n",
      "\tat org.scijava.plugins.scripting.groovy.GroovyScriptEngine.eval(GroovyScriptEngine.java:122)\n",
      "\tat javax.script.AbstractScriptEngine.eval(AbstractScriptEngine.java:264)\n",
      "\tat org.scijava.script.ScriptModule.run(ScriptModule.java:159)\n",
      "\tat org.scijava.module.ModuleRunner.run(ModuleRunner.java:167)\n",
      "\tat org.scijava.jupyter.kernel.evaluator.Worker.run(Worker.java:109)\n",
      "\tat org.scijava.thread.DefaultThreadService$2.run(DefaultThreadService.java:220)\n",
      "\tat java.util.concurrent.Executors$RunnableAdapter.call(Executors.java:511)\n",
      "\tat java.util.concurrent.FutureTask.run(FutureTask.java:266)\n",
      "\tat java.util.concurrent.ThreadPoolExecutor.runWorker(ThreadPoolExecutor.java:1142)\n",
      "\tat java.util.concurrent.ThreadPoolExecutor$Worker.run(ThreadPoolExecutor.java:617)\n",
      "\tat java.lang.Thread.run(Thread.java:745)\n"
     ]
    },
    {
     "data": {
      "text/plain": [
       "No Outputs"
      ]
     },
     "execution_count": 1,
     "metadata": {},
     "output_type": "execute_result"
    }
   ],
   "source": [
    "class LocalExample {\n",
    "    public static interface IntHolder { int getValue(); }\n",
    "    \n",
    "    public void run(){\n",
    "        IntHolder[] holders = new IntHolder[10];\n",
    "        for(int i = 0; i < 10; i++){\n",
    "            final int fi = i;\n",
    "            class MyIntHolder implements IntHolder {\n",
    "                public int getValue() { return fi; }\n",
    "            }\n",
    "            holders[i] = new MyIntHolder();\n",
    "        }\n",
    "        \n",
    "        for(int i = 0; i < 10; i++){\n",
    "            System.out.println(holders[i].getValue());\n",
    "        }\n",
    "    }\n",
    "}\n",
    "\n",
    "new LocalExample().run();"
   ]
  },
  {
   "cell_type": "code",
   "execution_count": null,
   "metadata": {
    "slideshow": {
     "slide_type": "subslide"
    }
   },
   "outputs": [],
   "source": [
    "0\n",
    "1\n",
    "2\n",
    "3\n",
    "4\n",
    "5\n",
    "6\n",
    "7\n",
    "8\n",
    "9"
   ]
  },
  {
   "cell_type": "markdown",
   "metadata": {
    "slideshow": {
     "slide_type": "subslide"
    }
   },
   "source": [
    "# Własności klas lokalnych\n",
    "\n",
    "* klasy lokalne mają dostęp do zmiennych prywatnych klas otaczających\n",
    "* klasy lokalne mają dostep do finalnych zmiennych (inaczej stałych) lokalnych (w tym argumentów metod oraz wyjątków)\n",
    "* odwołanie do zmiennych lokalnych tworzy *domknięcie*\n",
    "* nazwa klasy lokalnej jest dostępna tylko w bloku, w którym jest ona zdefiniowana\n"
   ]
  },
  {
   "cell_type": "markdown",
   "metadata": {
    "slideshow": {
     "slide_type": "slide"
    }
   },
   "source": [
    "# Klasy anonimowe"
   ]
  },
  {
   "cell_type": "code",
   "execution_count": null,
   "metadata": {
    "slideshow": {
     "slide_type": "-"
    }
   },
   "outputs": [],
   "source": [
    "class BoundedArrayList {\n",
    "    private Object[] array;\n",
    "    private int pointer = 0;\n",
    "\n",
    "    public Iterator backwardIterator(){\n",
    "        return new Iterator() {\n",
    "            private int index = pointer-1;\n",
    "            public boolean hasNext(){\n",
    "                return index >= 0;\n",
    "            }\n",
    "            public Object next(){\n",
    "                if(index < 0){\n",
    "                    throw new NoSuchElementException();\n",
    "                }\n",
    "                Object result = array[index];\n",
    "                index--;\n",
    "                return result;\n",
    "            }\n",
    "        };\n",
    "    }\n",
    "}"
   ]
  },
  {
   "cell_type": "markdown",
   "metadata": {
    "slideshow": {
     "slide_type": "subslide"
    }
   },
   "source": [
    "# Comparator"
   ]
  },
  {
   "cell_type": "code",
   "execution_count": null,
   "metadata": {
    "slideshow": {
     "slide_type": "-"
    }
   },
   "outputs": [],
   "source": [
    "class NumberCollection {\n",
    "    private SortedSet<String> numbers;\n",
    "    public NumberCollection(){\n",
    "        numbers = new TreeSet<>(new Comparator<String>(){\n",
    "            public int compare(String a, String b){\n",
    "                return a.length() - b.length();\n",
    "            }\n",
    "        });\n",
    "    }\n",
    "\n",
    "    public boolean add(String number){\n",
    "        return numbers.add(number);\n",
    "    }\n",
    "\n",
    "    public String toString(){\n",
    "        return numbers.toString();\n",
    "    }\n",
    "}"
   ]
  },
  {
   "cell_type": "code",
   "execution_count": null,
   "metadata": {
    "slideshow": {
     "slide_type": "subslide"
    }
   },
   "outputs": [],
   "source": [
    "NumberCollection numbers = new NumberCollection();\n",
    "numbers.add(\"1111\");\n",
    "numbers.add(\"1\");\n",
    "numbers.add(\"111111\");\n",
    "\n",
    "System.out.println(numbers);"
   ]
  },
  {
   "cell_type": "code",
   "execution_count": null,
   "metadata": {
    "slideshow": {
     "slide_type": "fragment"
    }
   },
   "outputs": [],
   "source": [
    "[1, 1111, 111111]"
   ]
  },
  {
   "cell_type": "markdown",
   "metadata": {
    "slideshow": {
     "slide_type": "subslide"
    }
   },
   "source": [
    "# \"Instancja\" klasy abstrakcyjnej"
   ]
  },
  {
   "cell_type": "code",
   "execution_count": null,
   "metadata": {
    "slideshow": {
     "slide_type": "-"
    }
   },
   "outputs": [],
   "source": [
    "abstract class AbstractClass {\n",
    "}\n",
    "\n",
    "AbstractClass abstractValue = new AbstractClass(){};"
   ]
  },
  {
   "cell_type": "markdown",
   "metadata": {
    "slideshow": {
     "slide_type": "slide"
    }
   },
   "source": [
    "# Wyrażenia lambda - motywacja"
   ]
  },
  {
   "cell_type": "code",
   "execution_count": null,
   "metadata": {
    "slideshow": {
     "slide_type": "-"
    }
   },
   "outputs": [],
   "source": [
    "import java.io.*;\n",
    "\n",
    "File dir = new File(\"/home/apohllo\");\n",
    "\n",
    "String[] fileList = dir.list(new FilenameFilter() {\n",
    "    public boolean accept(File file, String fileName){\n",
    "        return fileName.endsWith(\".java\");\n",
    "    }\n",
    "});\n",
    "for(String s : fileList){\n",
    "    System.out.println(s);\n",
    "}"
   ]
  },
  {
   "cell_type": "markdown",
   "metadata": {
    "slideshow": {
     "slide_type": "subslide"
    }
   },
   "source": [
    "# Wyrażenie lambda zamiast klasy anonimowej"
   ]
  },
  {
   "cell_type": "code",
   "execution_count": null,
   "metadata": {
    "slideshow": {
     "slide_type": "-"
    }
   },
   "outputs": [],
   "source": [
    "import java.io.*;\n",
    "\n",
    "String[] fileList = new File(\"/home/apohllo\").\n",
    "    list((f,s) -> { return s.endsWith(\".java\"); });\n",
    "for(String s : fileList){\n",
    "    System.out.println(s);\n",
    "}"
   ]
  },
  {
   "cell_type": "code",
   "execution_count": null,
   "metadata": {
    "slideshow": {
     "slide_type": "subslide"
    }
   },
   "outputs": [],
   "source": [
    "import java.io.*;\n",
    "\n",
    "String[] fileList = new File(\"/home/apohllo\").\n",
    "    // można pominąć słowo return\n",
    "    list((f,s) -> s.endsWith(\".java\"));\n",
    "for(String s : fileList){\n",
    "    System.out.println(s);\n",
    "}"
   ]
  },
  {
   "cell_type": "code",
   "execution_count": null,
   "metadata": {
    "slideshow": {
     "slide_type": "fragment"
    }
   },
   "outputs": [],
   "source": [
    "Arrays.asList(new File(\"/home/apohllo\").list((f,s) -> s.endsWith(\".java\"))).\n",
    "    stream().forEach(System.out::println);"
   ]
  },
  {
   "cell_type": "markdown",
   "metadata": {
    "slideshow": {
     "slide_type": "slide"
    }
   },
   "source": [
    "# Interfejs `Stream` i techniki funkcyjne\n",
    "\n",
    "* interfejs `Collection` został rozszerzony o metodę `stream`\n",
    "* metoda ta została wprowadzona aby ograniczyć wsteczną niekompatybilność\n",
    "* metoda ta jest domyślna w interfejsie `Collection`\n",
    "* metoda zwraca elemet typu `Stream`"
   ]
  },
  {
   "cell_type": "markdown",
   "metadata": {
    "slideshow": {
     "slide_type": "subslide"
    }
   },
   "source": [
    "* interfejs `Stream` umożliwia wykonywania metod funkcyjnych:\n",
    "  * `allMatch`\n",
    "  * `anyMatch`\n",
    "  * `collect`\n",
    "  * `concat`\n",
    "  * `count`\n",
    "  * `distinct`\n",
    "  * `empty`\n",
    "  * `filter`\n",
    "  * `findAny`\n",
    "  * `findFirst`\n",
    "  * `flatMap`\n",
    "  * `forEach`\n",
    "  * `map`\n",
    "  * itd."
   ]
  },
  {
   "cell_type": "markdown",
   "metadata": {
    "slideshow": {
     "slide_type": "subslide"
    }
   },
   "source": [
    "# `fliter`, `map` i `collect`"
   ]
  },
  {
   "cell_type": "code",
   "execution_count": null,
   "metadata": {
    "slideshow": {
     "slide_type": "-"
    }
   },
   "outputs": [],
   "source": [
    "import java.util.stream.*;\n",
    "\n",
    "Collection<String> numbers = Arrays.asList(1, 2, 3, 4, 5, 6);\n",
    "numbers.stream().filter(e -> e % 2 == 0).\n",
    "                 map(e -> e.toString()).\n",
    "                 collect(Collectors.toList());"
   ]
  },
  {
   "cell_type": "markdown",
   "metadata": {
    "slideshow": {
     "slide_type": "subslide"
    }
   },
   "source": [
    "# `map`"
   ]
  },
  {
   "cell_type": "code",
   "execution_count": null,
   "metadata": {
    "slideshow": {
     "slide_type": "-"
    }
   },
   "outputs": [],
   "source": [
    "import java.util.stream.*;\n",
    "\n",
    "Collection<String> numbers = Arrays.asList(\"jeden\", \"dwa\", \"trzy\", \"cztery\");\n",
    "numbers.stream().map(String::length).\n",
    "                 collect(Collectors.joining(\", \"));"
   ]
  },
  {
   "cell_type": "markdown",
   "metadata": {
    "slideshow": {
     "slide_type": "subslide"
    }
   },
   "source": [
    "# `forEach`"
   ]
  },
  {
   "cell_type": "code",
   "execution_count": null,
   "metadata": {
    "slideshow": {
     "slide_type": "-"
    }
   },
   "outputs": [],
   "source": [
    "Collection<String> numbers = Arrays.asList(\"jeden\", \"dwa\", \"trzy\", \"cztery\");\n",
    "numbers.stream().forEach(System.out::println);\n",
    "// jeden\n",
    "// dwa\n",
    "// trzy\n",
    "// cztery\n",
    "```"
   ]
  },
  {
   "cell_type": "markdown",
   "metadata": {
    "slideshow": {
     "slide_type": "subslide"
    }
   },
   "source": [
    "# `map` i `reduce`"
   ]
  },
  {
   "cell_type": "code",
   "execution_count": null,
   "metadata": {
    "slideshow": {
     "slide_type": "-"
    }
   },
   "outputs": [],
   "source": [
    "Collection<String> numbers = Arrays.asList(\"jeden\", \"dwa\", \"trzy\", \"cztery\");\n",
    "double sum = numbers.stream().map(String::length).\n",
    "                              reduce(0, (x,y) -> { return x + y; });\n",
    "System.out.println(sum / numbers.size());"
   ]
  },
  {
   "cell_type": "markdown",
   "metadata": {
    "slideshow": {
     "slide_type": "subslide"
    }
   },
   "source": [
    "# Wartościowanie leniwe"
   ]
  },
  {
   "cell_type": "code",
   "execution_count": null,
   "metadata": {
    "slideshow": {
     "slide_type": "-"
    }
   },
   "outputs": [],
   "source": [
    "import java.util.function.*;\n",
    "import java.util.stream.*;\n",
    "\n",
    "public class SquareGenerator implements IntSupplier {\n",
    "    private int current = 1;\n",
    "    \n",
    "    @Override\n",
    "    public synchronized int getAsInt(){\n",
    "        int thisResult = current * current;\n",
    "        current++;\n",
    "        return thisResult;\n",
    "    }\n",
    "}"
   ]
  },
  {
   "cell_type": "code",
   "execution_count": null,
   "metadata": {
    "slideshow": {
     "slide_type": "fragment"
    }
   },
   "outputs": [],
   "source": [
    "IntStream squares = IntStream.generate(new SquareGenerator());\n",
    "PrimitiveIterator.OfInt stepThrough = squares.iterator();\n",
    "for(int i = 0; i < 10; i++){\n",
    "    System.out.println(stepThrough.nextInt());\n",
    "}\n",
    "\n",
    "for(int i = 0; i < 10; i++){\n",
    "    System.out.println(stepThrough.nextInt());\n",
    "}"
   ]
  },
  {
   "cell_type": "markdown",
   "metadata": {
    "slideshow": {
     "slide_type": "subslide"
    }
   },
   "source": [
    "# Wyjątki"
   ]
  },
  {
   "cell_type": "code",
   "execution_count": 2,
   "metadata": {
    "collapsed": true,
    "slideshow": {
     "slide_type": "-"
    }
   },
   "outputs": [
    {
     "name": "stderr",
     "output_type": "stream",
     "text": [
      "org.codehaus.groovy.control.MultipleCompilationErrorsException: startup failed:\n",
      "Script2.groovy: 9: unexpected token: -> @ line 9, column 23.\n",
      "       forEach((element) -> { out.println(ee.convertToInt(element)); }); // błąd kompilacji\n",
      "                         ^\n",
      "\n",
      "1 error\n",
      "\n",
      "\tat org.codehaus.groovy.control.ErrorCollector.failIfErrors(ErrorCollector.java:310)\n",
      "\tat org.codehaus.groovy.control.ErrorCollector.addFatalError(ErrorCollector.java:150)\n",
      "\tat org.codehaus.groovy.control.ErrorCollector.addError(ErrorCollector.java:120)\n",
      "\tat org.codehaus.groovy.control.ErrorCollector.addError(ErrorCollector.java:132)\n",
      "\tat org.codehaus.groovy.control.SourceUnit.addError(SourceUnit.java:350)\n",
      "\tat org.codehaus.groovy.antlr.AntlrParserPlugin.transformCSTIntoAST(AntlrParserPlugin.java:144)\n",
      "\tat org.codehaus.groovy.antlr.AntlrParserPlugin.parseCST(AntlrParserPlugin.java:110)\n",
      "\tat org.codehaus.groovy.control.SourceUnit.parse(SourceUnit.java:234)\n",
      "\tat org.codehaus.groovy.control.CompilationUnit$1.call(CompilationUnit.java:168)\n",
      "\tat org.codehaus.groovy.control.CompilationUnit.applyToSourceUnits(CompilationUnit.java:943)\n",
      "\tat org.codehaus.groovy.control.CompilationUnit.doPhaseOperation(CompilationUnit.java:605)\n",
      "\tat org.codehaus.groovy.control.CompilationUnit.processPhaseOperations(CompilationUnit.java:581)\n",
      "\tat org.codehaus.groovy.control.CompilationUnit.compile(CompilationUnit.java:558)\n",
      "\tat groovy.lang.GroovyClassLoader.doParseClass(GroovyClassLoader.java:298)\n",
      "\tat groovy.lang.GroovyClassLoader.parseClass(GroovyClassLoader.java:268)\n",
      "\tat groovy.lang.GroovyClassLoader.parseClass(GroovyClassLoader.java:254)\n",
      "\tat groovy.lang.GroovyClassLoader.parseClass(GroovyClassLoader.java:250)\n",
      "\tat org.scijava.plugins.scripting.groovy.GroovyScriptEngine.getScriptClass(GroovyScriptEngine.java:319)\n",
      "\tat org.scijava.plugins.scripting.groovy.GroovyScriptEngine.eval(GroovyScriptEngine.java:122)\n",
      "\tat javax.script.AbstractScriptEngine.eval(AbstractScriptEngine.java:264)\n",
      "\tat org.scijava.script.ScriptModule.run(ScriptModule.java:159)\n",
      "\tat org.scijava.module.ModuleRunner.run(ModuleRunner.java:167)\n",
      "\tat org.scijava.jupyter.kernel.evaluator.Worker.run(Worker.java:109)\n",
      "\tat org.scijava.thread.DefaultThreadService$2.run(DefaultThreadService.java:220)\n",
      "\tat java.util.concurrent.Executors$RunnableAdapter.call(Executors.java:511)\n",
      "\tat java.util.concurrent.FutureTask.run(FutureTask.java:266)\n",
      "\tat java.util.concurrent.ThreadPoolExecutor.runWorker(ThreadPoolExecutor.java:1142)\n",
      "\tat java.util.concurrent.ThreadPoolExecutor$Worker.run(ThreadPoolExecutor.java:617)\n",
      "\tat java.lang.Thread.run(Thread.java:745)\n"
     ]
    },
    {
     "data": {
      "text/plain": [
       "No Outputs"
      ]
     },
     "execution_count": 2,
     "metadata": {},
     "output_type": "execute_result"
    }
   ],
   "source": [
    "public class ExceptionExample {\n",
    "    public int convertToInt(String value) throws Exception {\n",
    "        return Integer.parseInt(value);\n",
    "    }\n",
    "}\n",
    "\n",
    "ExceptionExample ee = new ExceptionExample();\n",
    "Arrays.asList(\"10\", \"zz\").stream().\n",
    "    forEach((element) -> { out.println(ee.convertToInt(element)); }); // błąd kompilacji"
   ]
  },
  {
   "cell_type": "code",
   "execution_count": null,
   "metadata": {
    "slideshow": {
     "slide_type": "subslide"
    }
   },
   "outputs": [],
   "source": [
    "public class ExceptionExample {\n",
    "    public int convertToInt(String value) throws Exception {\n",
    "        return Integer.parseInt(value);\n",
    "    }\n",
    "}\n",
    "\n",
    "ExceptionExample ee = new ExceptionExample();\n",
    "Arrays.asList(\"10\", \"zz\", \"20\").stream().\n",
    "    forEach((element) -> { \n",
    "        try {\n",
    "            out.println(ee.convertToInt(element)); \n",
    "        } catch(Exception ex) {\n",
    "            throw new RuntimeException(ex);\n",
    "        }\n",
    "    });"
   ]
  },
  {
   "cell_type": "code",
   "execution_count": null,
   "metadata": {
    "slideshow": {
     "slide_type": "subslide"
    }
   },
   "outputs": [],
   "source": [
    "Arrays.asList(\"10\", \"zz\", \"20\", \"xx\").stream()\n",
    "                .flatMap((element) -> {\n",
    "                    try {\n",
    "                        out.println(ee.convertToInt(element));\n",
    "                        return null;\n",
    "                    } catch (RuntimeException ex) {\n",
    "                        return Stream.of(ex);\n",
    "                    }\n",
    "                })\n",
    "                .reduce((ex1, ex2) -> {\n",
    "                    ex1.addSuppressed(ex2);\n",
    "                    return ex1;\n",
    "                })\n",
    "                .ifPresent(ex -> {\n",
    "                    throw ex;\n",
    "                });\n",
    "\n",
    "// Na podstawie: https://stackoverflow.com/questions/30117134/aggregate-runtime-exceptions-in-java-8-streams"
   ]
  },
  {
   "cell_type": "markdown",
   "metadata": {
    "slideshow": {
     "slide_type": "slide"
    }
   },
   "source": [
    "![Pytania? ](http://cliparts.co/cliparts/qcB/jqg/qcBjqgxc5.jpg)"
   ]
  }
 ],
 "metadata": {
  "celltoolbar": "Slideshow",
  "kernelspec": {
   "display_name": "SciJava",
   "language": "groovy",
   "name": "scijava"
  },
  "language_info": {
   "codemirror_mode": "groovy",
   "file_extension": "",
   "mimetype": "",
   "name": "scijava",
   "nbconverter_exporter": "",
   "pygments_lexer": "groovy",
   "version": "1.0"
  }
 },
 "nbformat": 4,
 "nbformat_minor": 1
}
