{
 "cells": [
  {
   "cell_type": "markdown",
   "metadata": {
    "collapsed": true,
    "slideshow": {
     "slide_type": "slide"
    }
   },
   "source": [
    "# Język Java i wirtualna maszyna Javy (JVM)\n",
    "\n",
    "<br/>\n",
    "\n",
    "## dr inż. Aleksander Smywiński-Pohl\n",
    "\n",
    "## apohllo@o2.pl\n",
    "\n",
    "## http://apohllo.pl"
   ]
  },
  {
   "cell_type": "markdown",
   "metadata": {
    "slideshow": {
     "slide_type": "skip"
    }
   },
   "source": [
    "# Java - język programowania\n",
    "\n",
    "* statycznie typizowany\n",
    "* obiektowy\n",
    "* automatyczne zarządzanie pamięcią\n",
    "* użycie programu wymaga jego kompilacji\n",
    "* program jest interpretowany w **JVM**\n",
    "* optymalizacja kodu dzięki kompilacji Just-in-Time (JiT)\n",
    "* bogata biblioteka standardowa\n",
    "* tysiące gotowych bibliotek (często darmowych)\n",
    "* różne profile języka\n",
    "* szeroko wykorzystywany na urządzeniach mobilnych\n",
    "* nacisk na bezpieczeństwo czasu wykonania\n"
   ]
  },
  {
   "cell_type": "markdown",
   "metadata": {
    "slideshow": {
     "slide_type": "skip"
    }
   },
   "source": [
    "* statyczna typizacja - w trakcie komiplacji weryfikowana jest zgodność typów obiektów, brak zgodności powoduje błąd kompilacji\n",
    "* obiektowy - patrz poprzedni wykład\n",
    "* zarządzanie pamięcią - brak jawnego zwalniania pamięci\n",
    "* kod kompilowany do *byte-codu* - instrukcje w JVM mają długość 1 bajtu\n",
    "* skompilowany program jest interpretowany w JVM (patrz dalej)\n",
    "* JiT - analizując sposób wykorzystania kodu w trakcie jego wykonania może skomilować wybrane fragmenty kodu Javy do kodu natywnego, co w teorii daje lepszą wydajność niż C, czy C++\n",
    "* biblioteka standardowa - zestaw obiektów dostępnych we wszystkich imlpementacjach Javy, które można wykorzystać w programie\n",
    "* gotowe biblioteki, np. w repozytorium Mavena, generowanie i czytanie PDFów, obliczenia z wykorzytaniem sieci neuronowych, grafika 3D, itd.\n",
    "* profile - okrojone wersje biblioteki standardowej przeznaczone na wybrane urządzenia, np. przenośne, sensory, itd.\n",
    "* Android wspiera Javę\n",
    "* możliwość wykorzystania polityk bezpieczeństwa, np. wyłączenie dostępu do systemu plików\n",
    "* Javy nie należy mylić z językiem JavaScript - to zupełnie inne języki programowania, które nie mają ze sobą zbyt wiele wspólnego!!!"
   ]
  },
  {
   "cell_type": "markdown",
   "metadata": {
    "slideshow": {
     "slide_type": "slide"
    }
   },
   "source": [
    "# Tiobe index\n",
    "\n",
    "<img src=\"img/tiobe.png\" width=\"1400\"/>"
   ]
  },
  {
   "cell_type": "markdown",
   "metadata": {
    "slideshow": {
     "slide_type": "notes"
    }
   },
   "source": [
    "Całkiem prawdopodobne, że większość z osób siedzących na tej sali będzie zarabiać na życie programując w Javie ;-)"
   ]
  },
  {
   "cell_type": "markdown",
   "metadata": {
    "slideshow": {
     "slide_type": "slide"
    }
   },
   "source": [
    "# Zarobki\n",
    "\n",
    "<img src=\"img/zarobki.png\" width=\"600\"/>"
   ]
  },
  {
   "cell_type": "markdown",
   "metadata": {
    "slideshow": {
     "slide_type": "slide"
    }
   },
   "source": [
    "# Kto używa Javy?\n",
    "\n",
    "<img src=\"img/google.png\" style=\"text-align: right\"/>\n"
   ]
  },
  {
   "cell_type": "markdown",
   "metadata": {
    "slideshow": {
     "slide_type": "notes"
    }
   },
   "source": [
    "Poza tym\n",
    "* IBM\n",
    "* Facebook\n",
    "* Amazon\n",
    "* LinkedIn\n",
    "* ..."
   ]
  },
  {
   "cell_type": "markdown",
   "metadata": {
    "slideshow": {
     "slide_type": "slide"
    }
   },
   "source": [
    "# Aplikacje napisane w Javie\n",
    "\n",
    "<img src=\"img/amazon.jpg\" style=\"text-align: right\"/>"
   ]
  },
  {
   "cell_type": "markdown",
   "metadata": {
    "slideshow": {
     "slide_type": "notes"
    }
   },
   "source": [
    "Przykładowe narzędzia i platformy\n",
    "* Google Web Toolkit\n",
    "* Android\n",
    "* Eclipse (IBM)\n",
    "* LibreOffice"
   ]
  },
  {
   "cell_type": "markdown",
   "metadata": {
    "slideshow": {
     "slide_type": "slide"
    }
   },
   "source": [
    "# Bezpieczeństwo\n",
    "\n",
    "* jedna z najbardziej bezpiecznych platform programistycznych\n",
    "* język tworzony z myślą o bezpieczeństwie\n",
    "* https://java-0day.com/ "
   ]
  },
  {
   "cell_type": "markdown",
   "metadata": {
    "slideshow": {
     "slide_type": "slide"
    }
   },
   "source": [
    "# Historia Javy\n",
    "\n",
    "* Java 1.0 - 1996, 212 klas\n",
    "* Java 1.1 - 1997\n",
    "* Java 1.2 - 1998, tzw. Java 2\n",
    "* Java 1.3 - 2000, 1842 klasy\n",
    "* Java 1.4 - 2002, 2991 klasy\n",
    "* Java 5 - 2004, 3279 klas\n",
    "* Java 6 - 2006, 3793 klasy\n",
    "* Java 7 - 2011, 4024 klasy\n",
    "* Java 8 - 2014, 4240 klasy\n",
    "* Java 9 - aktualnie rozwijana"
   ]
  },
  {
   "cell_type": "markdown",
   "metadata": {
    "slideshow": {
     "slide_type": "notes"
    }
   },
   "source": [
    "* 1.1 - klasy wewnętrze oraz refleksja\n",
    "* 1.2 - wprowadzono kolekcje jako element języka\n",
    "* 1.3 - wprowadzono JVM HotSpot\n",
    "* 1.4 - mocno rozbudowano bibliotekę standardową, regexpy, XML, XSLT, logowanie, itp.\n",
    "* 5 - największe zemiany w języku: typy ogólne, typy wyliczeniowe, adnotacje, opakowywanie typów prosytch\n",
    "* 6 - współpraca z językami skryptowymi, Swing, \n",
    "* Zastój związany z problemami firmy Sun. W 2011 roku została ona przejęta przez firmę Oracle.\n",
    "* 7 - pierwsze wydanie od Oracle, NIO, try z zasobami, uchwyty do metod\n",
    "* 8 - wyrażenia lambda, implementacja interpretera JavaScrip - Nashorn.\n",
    "* 9 - prace trwają, m.in. REPL"
   ]
  },
  {
   "cell_type": "markdown",
   "metadata": {
    "slideshow": {
     "slide_type": "slide"
    }
   },
   "source": [
    "# Java a JavaScript\n",
    "\n",
    "<img src=\"img/javascript.jpg\"/>"
   ]
  },
  {
   "cell_type": "markdown",
   "metadata": {
    "slideshow": {
     "slide_type": "slide"
    }
   },
   "source": [
    "# Java update\n",
    "\n",
    "<img src=\"img/java_update.jpg\" width=\"1200\"/>\n"
   ]
  },
  {
   "cell_type": "markdown",
   "metadata": {
    "slideshow": {
     "slide_type": "notes"
    }
   },
   "source": [
    "Kiedy pojawia się notyfikacja o możliwości aktualizacji Javy, nie chodzi o zmianę języka Java. Co prawda język się rozwija, ale nie aż tak szybko. Chodzi o aktualizację **wirtualnej maszyny Javy (JVM)**, która umożliwia uruchamianie programów napisanych w Javie. Jest interpreterem byte-codu Javy ale również dostarcza zestaw podstawowych bibliotek, które są elementami języka. Dlatego granice pomiędzy Javą (językiem) a Javą (maszyną wirtualną) nie są zbyt ostre. Istotne jest również to, że istnieje wiele wirtualnych maszyn Javy - referencyjny JVM dostarczany jest przez Oracle (kiedyś Sun), ale istnieje również OpenJDK, czy Java SDK firmy IBM.\n"
   ]
  },
  {
   "cell_type": "markdown",
   "metadata": {
    "slideshow": {
     "slide_type": "slide"
    }
   },
   "source": [
    "# Architektura JVM\n",
    "\n",
    "![Architektura JVM](img/JVM.jpg)"
   ]
  },
  {
   "cell_type": "markdown",
   "metadata": {
    "slideshow": {
     "slide_type": "notes"
    }
   },
   "source": [
    "Architektura JVM:\n",
    "* class loader - ładuje klasy, zarówno te zdefiniowane w API Javy jak i klasy zdefiniowane przez użytkownika\n",
    "* execution engine - odpowiedzialny za uruchomienie kodu bajtowego oraz zarządzanie uruchomionym kodem\n",
    "* JVM interpreter - podstawowy mechanizm uruchamiania kodu, w oparciu o interpreter języka\n",
    "* JIT compiler - alternatywny mechanizm polegający na kompilacji wybranych fragmentów kodu do kodu maszynowego\n",
    "\n",
    "JVM:\n",
    "* posiada architekturę stosową, a nie rejestrową jak realny procesor\n",
    "* udostępnia abstrakcje mechanizmów zarządzania kodem (ładowanie, garbage collector, etc.)"
   ]
  },
  {
   "cell_type": "markdown",
   "metadata": {
    "slideshow": {
     "slide_type": "slide"
    }
   },
   "source": [
    "# Języki na JVM\n",
    "\n",
    "* Scala\n",
    "* Lisp, Clojure\n",
    "* Pascal\n",
    "* JRuby (Ruby)\n",
    "* Jython (Python)\n",
    "* Groovy\n",
    "* JavaScript\n",
    "* JIProlog (Prolog)"
   ]
  },
  {
   "cell_type": "markdown",
   "metadata": {
    "slideshow": {
     "slide_type": "notes"
    }
   },
   "source": [
    "Niektóre spośród tych języków od początku były projektowane dla JVM - Scala, Clojure, Groovy. Inne posiadają swoje *podstawowe* implementacje - np. Lisp, Ruby, Python - ale opracowano również biblioteki, które pozwalają na uruchamianie tych języków na JVMie."
   ]
  },
  {
   "cell_type": "markdown",
   "metadata": {
    "slideshow": {
     "slide_type": "slide"
    }
   },
   "source": [
    "# Literatura\n",
    "\n",
    "* *Java w pigułce*, Benjamin Evans, David Flanagan\n",
    "* *Thinking in Java* (wyd. polskie), Bruce Eckel\n",
    "* *Java. Efektywne programowanie* (wyd. II), Joshua Bloch"
   ]
  },
  {
   "cell_type": "markdown",
   "metadata": {
    "slideshow": {
     "slide_type": "slide"
    }
   },
   "source": [
    "![Pytania? ](http://cliparts.co/cliparts/qcB/jqg/qcBjqgxc5.jpg)"
   ]
  }
 ],
 "metadata": {
  "celltoolbar": "Slideshow",
  "kernelspec": {
   "display_name": "Java 9",
   "language": "java",
   "name": "java"
  },
  "language_info": {
   "file_extension": ".class",
   "mimetype": "application/java-vm",
   "name": "java"
  }
 },
 "nbformat": 4,
 "nbformat_minor": 1
}
