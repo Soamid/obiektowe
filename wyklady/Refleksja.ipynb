{
 "cells": [
  {
   "cell_type": "markdown",
   "metadata": {
    "slideshow": {
     "slide_type": "slide"
    }
   },
   "source": [
    "# Refleksja w Javie\n",
    "\n",
    "## Dostęp do informacji o typie, polach i metodach, dynamiczne ładowanie klas\n",
    "\n",
    "<br/>\n",
    "\n",
    "## dr inż. Aleksander Smywiński-Pohl\n",
    "\n",
    "## apohllo@agh.edu.pl\n",
    "\n",
    "## http://apohllo.pl/dydaktyka/programowanie-obiektowe\n",
    "\n",
    "## konsultacje: środa 16:00 - 17:30, pokój 4.61"
   ]
  },
  {
   "cell_type": "markdown",
   "metadata": {
    "slideshow": {
     "slide_type": "slide"
    }
   },
   "source": [
    "<img src=\"img/java_log.png\" style=\"height: 700px\"/>"
   ]
  },
  {
   "cell_type": "code",
   "execution_count": 1,
   "metadata": {
    "ExecuteTime": {
     "end_time": "2021-01-18T17:22+0000",
     "start_time": "2021-01-18T17:22:21.497Z"
    },
    "slideshow": {
     "slide_type": "subslide"
    }
   },
   "outputs": [],
   "source": [
    "class DummyIterator implements Iterator {\n",
    "    private int index = 0;\n",
    "    \n",
    "    @Override\n",
    "    public boolean hasNext(){\n",
    "        return false;\n",
    "    }\n",
    "    \n",
    "    @Override\n",
    "    public Object next(){\n",
    "        return null;\n",
    "    }\n",
    "}"
   ]
  },
  {
   "cell_type": "code",
   "execution_count": null,
   "metadata": {
    "slideshow": {
     "slide_type": "fragment"
    }
   },
   "outputs": [],
   "source": [
    "javac DummyIterator.java"
   ]
  },
  {
   "cell_type": "code",
   "execution_count": null,
   "metadata": {
    "slideshow": {
     "slide_type": "subslide"
    }
   },
   "outputs": [],
   "source": [
    "cat DummyIterator.class"
   ]
  },
  {
   "cell_type": "markdown",
   "metadata": {
    "slideshow": {
     "slide_type": "fragment"
    }
   },
   "source": [
    "```\n",
    "����4\u0017\n",
    "\u0004\u0012\t\u0003\u0013\u0014\u0015\u0016\u0001index\u0001\u0001I\u0001\u0006<init>\u0001\u0003()V\u0001\u0004Code\u0001LineNumberTable\u0001hasNext\u0001\u0003()Z\u0001\u0004next\u0001\u0014()Ljava/lang/Object;\u0001\n",
    "SourceFile\u0001\u0012DummyIterator.java\n",
    "                             \t\n",
    "DummyIterator\u0001\u0010java/lang/Object\u0001\u0012java/util/Iterator \u0003\u0004\u0001\u0001\u0002\u0006\u0003     \u0001\n",
    "&\u0002\u0001\n",
    "*�\u0001*\u0003�\u0002�\u0001\n",
    "\n",
    "\u0002\u0003\u0004\u0004\u0001\n",
    "\u0001\n",
    "\u001a\u0001\u0001\u0002\u0003�\u0001\n",
    "       \u0006\u0001\u0001\n",
    "\u001a\u0001\u0001\u0002\u0001�\u0001\n",
    "\u0001\u0010\u0002\u0011%        \n",
    "```"
   ]
  },
  {
   "cell_type": "code",
   "execution_count": null,
   "metadata": {
    "slideshow": {
     "slide_type": "subslide"
    }
   },
   "outputs": [],
   "source": [
    "javap DummyIterator"
   ]
  },
  {
   "cell_type": "code",
   "execution_count": null,
   "metadata": {
    "slideshow": {
     "slide_type": "fragment"
    }
   },
   "outputs": [],
   "source": [
    "Compiled from \"DummyIterator.java\"\n",
    "class DummyIterator implements java.util.Iterator {\n",
    "  DummyIterator();\n",
    "  public boolean hasNext();\n",
    "  public java.lang.Object next();\n",
    "}"
   ]
  },
  {
   "cell_type": "markdown",
   "metadata": {
    "slideshow": {
     "slide_type": "slide"
    }
   },
   "source": [
    "# Informacje o typie"
   ]
  },
  {
   "cell_type": "code",
   "execution_count": 2,
   "metadata": {
    "ExecuteTime": {
     "end_time": "2021-01-18T17:22+0000",
     "start_time": "2021-01-18T17:22:28.679Z"
    },
    "slideshow": {
     "slide_type": "-"
    }
   },
   "outputs": [
    {
     "name": "stdout",
     "output_type": "stream",
     "text": [
      "int\n",
      "class java.lang.Integer\n",
      "class java.lang.String\n",
      "class [Ljava.lang.String;\n",
      "class REPL.$JShell$12$DummyIterator\n"
     ]
    }
   ],
   "source": [
    "import static java.lang.System.out;\n",
    "\n",
    "out.println(int.class);\n",
    "out.println(Integer.class);\n",
    "out.println(\"Ala ma kota\".getClass());\n",
    "out.println(new String[0].getClass());\n",
    "out.println(new DummyIterator().getClass());"
   ]
  },
  {
   "cell_type": "markdown",
   "metadata": {
    "slideshow": {
     "slide_type": "subslide"
    }
   },
   "source": [
    "# Weryfikacja przynależności do typu"
   ]
  },
  {
   "cell_type": "code",
   "execution_count": 3,
   "metadata": {
    "ExecuteTime": {
     "end_time": "2021-01-18T17:23+0000",
     "start_time": "2021-01-18T17:23:43.484Z"
    },
    "slideshow": {
     "slide_type": "-"
    }
   },
   "outputs": [
    {
     "name": "stdout",
     "output_type": "stream",
     "text": [
      "Obiekt jest stringiem\n"
     ]
    }
   ],
   "source": [
    "Object text = \"To kot, a to Ala\";\n",
    "if(text.getClass().equals(String.class)){\n",
    "   out.println(\"Obiekt jest stringiem\");\n",
    "}"
   ]
  },
  {
   "cell_type": "code",
   "execution_count": 4,
   "metadata": {
    "ExecuteTime": {
     "end_time": "2021-01-18T17:24+0000",
     "start_time": "2021-01-18T17:24:45.530Z"
    },
    "slideshow": {
     "slide_type": "subslide"
    }
   },
   "outputs": [],
   "source": [
    "Object iterator = new DummyIterator();\n",
    "if(iterator.getClass().equals(Iterator.class)) {\n",
    "    out.println(\"Obiekt jest iteratorem\");\n",
    "}"
   ]
  },
  {
   "cell_type": "code",
   "execution_count": 5,
   "metadata": {
    "ExecuteTime": {
     "end_time": "2021-01-18T17:25+0000",
     "start_time": "2021-01-18T17:25:00.772Z"
    },
    "slideshow": {
     "slide_type": "fragment"
    }
   },
   "outputs": [
    {
     "name": "stdout",
     "output_type": "stream",
     "text": [
      "Obiekt implementuje interfejs iterator\n"
     ]
    }
   ],
   "source": [
    "if(iterator instanceof Iterator) {\n",
    "    out.println(\"Obiekt implementuje interfejs iterator\");\n",
    "}"
   ]
  },
  {
   "cell_type": "markdown",
   "metadata": {
    "slideshow": {
     "slide_type": "subslide"
    }
   },
   "source": [
    "# Klasa nadrzędna"
   ]
  },
  {
   "cell_type": "code",
   "execution_count": 7,
   "metadata": {
    "ExecuteTime": {
     "end_time": "2021-01-18T17:26+0000",
     "start_time": "2021-01-18T17:26:55.505Z"
    },
    "slideshow": {
     "slide_type": "-"
    }
   },
   "outputs": [
    {
     "name": "stdout",
     "output_type": "stream",
     "text": [
      "class REPL.$JShell$12$DummyIterator\n",
      "class java.lang.Class\n",
      "class java.lang.Class\n",
      "class java.lang.Class\n",
      "class java.lang.Object\n",
      "null\n"
     ]
    }
   ],
   "source": [
    "out.println(new DummyIterator().getClass());\n",
    "out.println(new DummyIterator().getClass().getClass());\n",
    "out.println(new DummyIterator().getClass().getClass().getClass());\n",
    "out.println(new DummyIterator().getClass().getClass().getClass().getClass());\n",
    "out.println(new DummyIterator().getClass().getClass().getClass().getClass().getSuperclass());\n",
    "out.println(new DummyIterator().getClass().getClass().getClass().getClass().getSuperclass().getSuperclass());"
   ]
  },
  {
   "cell_type": "markdown",
   "metadata": {
    "slideshow": {
     "slide_type": "subslide"
    }
   },
   "source": [
    "# Wspólna klasa nadrzędna"
   ]
  },
  {
   "cell_type": "code",
   "execution_count": 8,
   "metadata": {
    "ExecuteTime": {
     "end_time": "2021-01-18T17:31+0000",
     "start_time": "2021-01-18T17:31:29.371Z"
    },
    "slideshow": {
     "slide_type": "-"
    }
   },
   "outputs": [],
   "source": [
    "class Animal {}\n",
    "class Mammal extends Animal {}\n",
    "class Cat extends Mammal {}\n",
    "class Whale extends Mammal {}\n",
    "class Reptile extends Animal {}\n",
    "class Snake extends Reptile {}"
   ]
  },
  {
   "cell_type": "code",
   "execution_count": 9,
   "metadata": {
    "ExecuteTime": {
     "end_time": "2021-01-18T17:32+0000",
     "start_time": "2021-01-18T17:32:29.095Z"
    },
    "slideshow": {
     "slide_type": "fragment"
    }
   },
   "outputs": [],
   "source": [
    "List<Class<?>> ancestors(Class<?> klass){\n",
    "    var result = new LinkedList<Class<?>>();\n",
    "    while(klass != Object.class){\n",
    "        result.add(klass);\n",
    "        klass = klass.getSuperclass();\n",
    "    }\n",
    "    result.add(Object.class);\n",
    "    Collections.reverse(result);\n",
    "    return result;\n",
    "}"
   ]
  },
  {
   "cell_type": "code",
   "execution_count": 10,
   "metadata": {
    "ExecuteTime": {
     "end_time": "2021-01-18T17:32+0000",
     "start_time": "2021-01-18T17:32:32.483Z"
    },
    "slideshow": {
     "slide_type": "fragment"
    }
   },
   "outputs": [
    {
     "data": {
      "text/plain": [
       "[class java.lang.Object, class REPL.$JShell$35$Animal, class REPL.$JShell$39$Reptile, class REPL.$JShell$40$Snake]"
      ]
     },
     "execution_count": 10,
     "metadata": {},
     "output_type": "execute_result"
    }
   ],
   "source": [
    "ancestors(Snake.class);"
   ]
  },
  {
   "cell_type": "code",
   "execution_count": 11,
   "metadata": {
    "ExecuteTime": {
     "end_time": "2021-01-18T17:35+0000",
     "start_time": "2021-01-18T17:35:12.237Z"
    },
    "slideshow": {
     "slide_type": "subslide"
    }
   },
   "outputs": [],
   "source": [
    "Class<?> commonAncestor(Class<?> aClass, Class<?> bClass){\n",
    "    var aAncestors = ancestors(aClass);\n",
    "    var bAncestors = ancestors(bClass);\n",
    "    for(int i = 0; i < aAncestors.size() && i < bAncestors.size(); i++){\n",
    "        if(aAncestors.get(i) != bAncestors.get(i)){\n",
    "            return aAncestors.get(i-1);\n",
    "        }\n",
    "    }\n",
    "    if(aAncestors.size() < bAncestors.size()){\n",
    "        return aAncestors.get(aAncestors.size()-1);\n",
    "    } else {\n",
    "        return bAncestors.get(bAncestors.size()-1);\n",
    "    }\n",
    "}"
   ]
  },
  {
   "cell_type": "code",
   "execution_count": 13,
   "metadata": {
    "ExecuteTime": {
     "end_time": "2021-01-18T17:35+0000",
     "start_time": "2021-01-18T17:35:46.357Z"
    },
    "slideshow": {
     "slide_type": "fragment"
    }
   },
   "outputs": [
    {
     "name": "stdout",
     "output_type": "stream",
     "text": [
      "class REPL.$JShell$35$Animal\n",
      "class REPL.$JShell$36$Mammal\n",
      "class REPL.$JShell$35$Animal\n",
      "class REPL.$JShell$35$Animal\n"
     ]
    }
   ],
   "source": [
    "out.println(commonAncestor(Cat.class, Snake.class));\n",
    "out.println(commonAncestor(Cat.class, Whale.class));\n",
    "out.println(commonAncestor(Cat.class, Animal.class));\n",
    "out.println(commonAncestor(Animal.class, Cat.class));"
   ]
  },
  {
   "cell_type": "markdown",
   "metadata": {
    "slideshow": {
     "slide_type": "subslide"
    }
   },
   "source": [
    "<img src=\"img/cat1.jpg\" width=\"800\"/>"
   ]
  },
  {
   "cell_type": "markdown",
   "metadata": {
    "slideshow": {
     "slide_type": "slide"
    }
   },
   "source": [
    "# Dynamiczne ładowanie klas"
   ]
  },
  {
   "cell_type": "code",
   "execution_count": 14,
   "metadata": {
    "ExecuteTime": {
     "end_time": "2021-01-18T17:37+0000",
     "start_time": "2021-01-18T17:37:19.598Z"
    },
    "slideshow": {
     "slide_type": "slide"
    }
   },
   "outputs": [],
   "source": [
    "interface IVehicle {\n",
    "    void go();\n",
    "}"
   ]
  },
  {
   "cell_type": "code",
   "execution_count": 15,
   "metadata": {
    "ExecuteTime": {
     "end_time": "2021-01-18T17:37+0000",
     "start_time": "2021-01-18T17:37:27.726Z"
    },
    "slideshow": {
     "slide_type": "fragment"
    }
   },
   "outputs": [
    {
     "data": {
      "text/plain": [
       "class REPL.$JShell$51$Car"
      ]
     },
     "execution_count": 15,
     "metadata": {},
     "output_type": "execute_result"
    }
   ],
   "source": [
    "class Car implements IVehicle {\n",
    "    public void go(){\n",
    "        out.println(\"Brum, brum\");\n",
    "    }\n",
    "}\n",
    "Car.class"
   ]
  },
  {
   "cell_type": "code",
   "execution_count": 16,
   "metadata": {
    "ExecuteTime": {
     "end_time": "2021-01-18T17:37+0000",
     "start_time": "2021-01-18T17:37:32.926Z"
    },
    "slideshow": {
     "slide_type": "fragment"
    }
   },
   "outputs": [
    {
     "data": {
      "text/plain": [
       "class REPL.$JShell$53$Airplane"
      ]
     },
     "execution_count": 16,
     "metadata": {},
     "output_type": "execute_result"
    }
   ],
   "source": [
    "class Airplane implements IVehicle {\n",
    "    public void go(){\n",
    "        out.println(\"Bzzzzzz\");\n",
    "    }\n",
    "}\n",
    "Airplane.class"
   ]
  },
  {
   "cell_type": "code",
   "execution_count": 17,
   "metadata": {
    "ExecuteTime": {
     "end_time": "2021-01-18T17:37+0000",
     "start_time": "2021-01-18T17:37:40.007Z"
    },
    "slideshow": {
     "slide_type": "fragment"
    }
   },
   "outputs": [
    {
     "data": {
      "text/plain": [
       "class REPL.$JShell$55$Rocket"
      ]
     },
     "execution_count": 17,
     "metadata": {},
     "output_type": "execute_result"
    }
   ],
   "source": [
    "class Rocket implements IVehicle {\n",
    "    public void go(){\n",
    "        out.println(\"BUUUUUUUUUUUM\");\n",
    "    }\n",
    "}\n",
    "Rocket.class"
   ]
  },
  {
   "cell_type": "code",
   "execution_count": 18,
   "metadata": {
    "ExecuteTime": {
     "end_time": "2021-01-18T17:41+0000",
     "start_time": "2021-01-18T17:41:00.988Z"
    },
    "slideshow": {
     "slide_type": "subslide"
    }
   },
   "outputs": [],
   "source": [
    "class VehicleSystem {\n",
    "    public static void main(String[] args){\n",
    "        var vehicles = new LinkedList<IVehicle>();\n",
    "        for(String vehicleName : args){\n",
    "            try {\n",
    "                var klass = (Class<IVehicle>) Class.forName(vehicleName);\n",
    "                vehicles.add(klass.newInstance());\n",
    "            } catch(ClassNotFoundException ex) {\n",
    "                System.out.println(\"The class \" + vehicleName +  \n",
    "                                   \" has not been found. \");\n",
    "                return;\n",
    "            } catch(InstantiationException | IllegalAccessException ex) {\n",
    "                System.out.println(\"The class \" + vehicleName +  \n",
    "                                   \" cannot be instantiated. \");\n",
    "                return;\n",
    "            }\n",
    "            \n",
    "        }\n",
    "        for(IVehicle vehicle : vehicles) {\n",
    "            vehicle.go();\n",
    "        }\n",
    "    }\n",
    "}"
   ]
  },
  {
   "cell_type": "code",
   "execution_count": 21,
   "metadata": {
    "ExecuteTime": {
     "end_time": "2021-01-18T17:42+0000",
     "start_time": "2021-01-18T17:42:41.366Z"
    },
    "slideshow": {
     "slide_type": "fragment"
    }
   },
   "outputs": [
    {
     "name": "stdout",
     "output_type": "stream",
     "text": [
      "Brum, brum\n",
      "BUUUUUUUUUUUM\n",
      "Bzzzzzz\n",
      "Brum, brum\n"
     ]
    }
   ],
   "source": [
    "String[] classes = {\"REPL.$JShell$51$Car\", \"REPL.$JShell$55$Rocket\", \n",
    "                    \"REPL.$JShell$53$Airplane\", \"REPL.$JShell$51$Car\"};\n",
    "VehicleSystem.main(classes);"
   ]
  },
  {
   "cell_type": "markdown",
   "metadata": {
    "slideshow": {
     "slide_type": "subslide"
    }
   },
   "source": [
    "<img src=\"img/cat2.jpg\"/>"
   ]
  },
  {
   "cell_type": "markdown",
   "metadata": {
    "slideshow": {
     "slide_type": "slide"
    }
   },
   "source": [
    "# Dostęp do składowych\n",
    "\n",
    "* newInstance()\n",
    "* getMethod(...)\n",
    "* getMethods()\n",
    "* getConstructor(...)\n",
    "* getConstructors()\n",
    "* getField(...)\n",
    "* getFields()"
   ]
  },
  {
   "cell_type": "code",
   "execution_count": 22,
   "metadata": {
    "ExecuteTime": {
     "end_time": "2021-01-18T17:43+0000",
     "start_time": "2021-01-18T17:43:28.099Z"
    },
    "slideshow": {
     "slide_type": "subslide"
    }
   },
   "outputs": [],
   "source": [
    "void prettyPrint(Object[] elements){\n",
    "    for(Object element : elements)\n",
    "        out.println(element);\n",
    "}"
   ]
  },
  {
   "cell_type": "code",
   "execution_count": 23,
   "metadata": {
    "ExecuteTime": {
     "end_time": "2021-01-18T17:43+0000",
     "start_time": "2021-01-18T17:43:37.995Z"
    },
    "slideshow": {
     "slide_type": "fragment"
    }
   },
   "outputs": [
    {
     "name": "stdout",
     "output_type": "stream",
     "text": [
      "public boolean REPL.$JShell$12$DummyIterator.hasNext()\n",
      "public java.lang.Object REPL.$JShell$12$DummyIterator.next()\n",
      "public final void java.lang.Object.wait(long,int) throws java.lang.InterruptedException\n",
      "public final void java.lang.Object.wait() throws java.lang.InterruptedException\n",
      "public final native void java.lang.Object.wait(long) throws java.lang.InterruptedException\n",
      "public boolean java.lang.Object.equals(java.lang.Object)\n",
      "public java.lang.String java.lang.Object.toString()\n",
      "public native int java.lang.Object.hashCode()\n",
      "public final native java.lang.Class java.lang.Object.getClass()\n",
      "public final native void java.lang.Object.notify()\n",
      "public final native void java.lang.Object.notifyAll()\n",
      "public default void java.util.Iterator.remove()\n",
      "public default void java.util.Iterator.forEachRemaining(java.util.function.Consumer)\n"
     ]
    }
   ],
   "source": [
    "Class<?> klass = DummyIterator.class;\n",
    "\n",
    "prettyPrint(klass.getMethods());"
   ]
  },
  {
   "cell_type": "code",
   "execution_count": 24,
   "metadata": {
    "ExecuteTime": {
     "end_time": "2021-01-18T17:44+0000",
     "start_time": "2021-01-18T17:44:37.883Z"
    },
    "slideshow": {
     "slide_type": "fragment"
    }
   },
   "outputs": [
    {
     "name": "stdout",
     "output_type": "stream",
     "text": [
      "public REPL.$JShell$12$DummyIterator()\n"
     ]
    }
   ],
   "source": [
    "prettyPrint(klass.getConstructors());"
   ]
  },
  {
   "cell_type": "code",
   "execution_count": 25,
   "metadata": {
    "ExecuteTime": {
     "end_time": "2021-01-18T17:45+0000",
     "start_time": "2021-01-18T17:45:03.794Z"
    },
    "slideshow": {
     "slide_type": "fragment"
    }
   },
   "outputs": [],
   "source": [
    "prettyPrint(klass.getFields());"
   ]
  },
  {
   "cell_type": "markdown",
   "metadata": {
    "slideshow": {
     "slide_type": "subslide"
    }
   },
   "source": [
    "# Dynamiczne tworzenie instancji"
   ]
  },
  {
   "cell_type": "code",
   "execution_count": 26,
   "metadata": {
    "ExecuteTime": {
     "end_time": "2021-01-18T17:47+0000",
     "start_time": "2021-01-18T17:47:12.152Z"
    },
    "slideshow": {
     "slide_type": "-"
    }
   },
   "outputs": [
    {
     "name": "stdout",
     "output_type": "stream",
     "text": [
      "REPL.$JShell$12$DummyIterator@68c989e0\n"
     ]
    }
   ],
   "source": [
    "import java.lang.reflect.*;\n",
    "\n",
    "Class<?> klass = DummyIterator.class;\n",
    "Constructor constructor = klass.getConstructor(new Class<?>[0]);\n",
    "Iterator dummyIterator = (Iterator) constructor.newInstance();\n",
    "\n",
    "System.out.println(dummyIterator);"
   ]
  },
  {
   "cell_type": "code",
   "execution_count": 27,
   "metadata": {
    "ExecuteTime": {
     "end_time": "2021-01-18T17:47+0000",
     "start_time": "2021-01-18T17:47:31.726Z"
    },
    "slideshow": {
     "slide_type": "subslide"
    }
   },
   "outputs": [],
   "source": [
    "class DummyIterator implements Iterator {\n",
    "    private int index = 0;\n",
    "    \n",
    "    public DummyIterator(){\n",
    "    }\n",
    "    \n",
    "    public DummyIterator(int index){\n",
    "        this.index = index;\n",
    "    }\n",
    "\n",
    "    @Override\n",
    "    public boolean hasNext(){\n",
    "        return false;\n",
    "    }\n",
    "\n",
    "    @Override\n",
    "    public Object next(){\n",
    "        return null;\n",
    "    }\n",
    "    \n",
    "    public String toString(){\n",
    "        return \"DummyIterator[\" + this.index + \"]\";\n",
    "    }\n",
    "}"
   ]
  },
  {
   "cell_type": "code",
   "execution_count": 28,
   "metadata": {
    "ExecuteTime": {
     "end_time": "2021-01-18T17:48+0000",
     "start_time": "2021-01-18T17:48:17.470Z"
    },
    "slideshow": {
     "slide_type": "subslide"
    }
   },
   "outputs": [
    {
     "name": "stdout",
     "output_type": "stream",
     "text": [
      "DummyIterator[1]\n"
     ]
    }
   ],
   "source": [
    "Class<?> klass = DummyIterator.class;\n",
    "\n",
    "Constructor constructor = klass.getConstructor(new Class<?>[]{int.class});\n",
    "Iterator dummyIterator = (Iterator) constructor.newInstance(1);\n",
    "\n",
    "System.out.println(dummyIterator);"
   ]
  },
  {
   "cell_type": "markdown",
   "metadata": {
    "slideshow": {
     "slide_type": "subslide"
    }
   },
   "source": [
    "# Dynamiczne wywołanie metody"
   ]
  },
  {
   "cell_type": "code",
   "execution_count": 30,
   "metadata": {
    "ExecuteTime": {
     "end_time": "2021-01-18T17:50+0000",
     "start_time": "2021-01-18T17:50:01.016Z"
    },
    "slideshow": {
     "slide_type": "-"
    }
   },
   "outputs": [
    {
     "name": "stdout",
     "output_type": "stream",
     "text": [
      "hasNext\n"
     ]
    }
   ],
   "source": [
    "Method hasNextMethod = klass.getMethod(\"hasNext\", new Class<?>[0]);\n",
    "System.out.println(hasNextMethod.getName());\n",
    "prettyPrint(hasNextMethod.getParameterTypes());"
   ]
  },
  {
   "cell_type": "code",
   "execution_count": 31,
   "metadata": {
    "ExecuteTime": {
     "end_time": "2021-01-18T17:51+0000",
     "start_time": "2021-01-18T17:51:39.052Z"
    },
    "slideshow": {
     "slide_type": "fragment"
    }
   },
   "outputs": [
    {
     "data": {
      "text/plain": [
       "false"
      ]
     },
     "execution_count": 31,
     "metadata": {},
     "output_type": "execute_result"
    }
   ],
   "source": [
    "Constructor constructor = klass.getConstructor(new Class<?>[]{int.class});\n",
    "Iterator dummyIterator = (Iterator) constructor.newInstance(1);\n",
    "\n",
    "Method hasNextMethod = klass.getMethod(\"hasNext\", new Class<?>[0]);\n",
    "hasNextMethod.invoke(dummyIterator);"
   ]
  },
  {
   "cell_type": "markdown",
   "metadata": {
    "slideshow": {
     "slide_type": "subslide"
    }
   },
   "source": [
    "# Dynamiczny dostęp do pól"
   ]
  },
  {
   "cell_type": "code",
   "execution_count": 32,
   "metadata": {
    "ExecuteTime": {
     "end_time": "2021-01-18T17:52+0000",
     "start_time": "2021-01-18T17:52:45.056Z"
    },
    "slideshow": {
     "slide_type": "-"
    }
   },
   "outputs": [
    {
     "ename": "EvalException",
     "evalue": "index",
     "output_type": "error",
     "traceback": [
      "\u001b[1m\u001b[31m---------------------------------------------------------------------------\u001b[0m",
      "\u001b[1m\u001b[31mjava.lang.NoSuchFieldException: index\u001b[0m",
      "\u001b[1m\u001b[31m\tat java.base/java.lang.Class.getField(Class.java:2092)\u001b[0m",
      "\u001b[1m\u001b[31m\tat .(#78:1)\u001b[0m"
     ]
    }
   ],
   "source": [
    "Field indexField = klass.getField(\"index\");\n",
    "indexField.getName();\n",
    "indexField.getModifiers();"
   ]
  },
  {
   "cell_type": "code",
   "execution_count": 33,
   "metadata": {
    "ExecuteTime": {
     "end_time": "2021-01-18T17:53+0000",
     "start_time": "2021-01-18T17:53:29.312Z"
    },
    "slideshow": {
     "slide_type": "fragment"
    }
   },
   "outputs": [
    {
     "name": "stdout",
     "output_type": "stream",
     "text": [
      "index\n",
      "2\n"
     ]
    }
   ],
   "source": [
    "Field indexField = klass.getDeclaredField(\"index\");\n",
    "System.out.println(indexField.getName());\n",
    "System.out.println(indexField.getModifiers());"
   ]
  },
  {
   "cell_type": "code",
   "execution_count": 34,
   "metadata": {
    "ExecuteTime": {
     "end_time": "2021-01-18T17:54+0000",
     "start_time": "2021-01-18T17:54:22.495Z"
    },
    "slideshow": {
     "slide_type": "subslide"
    }
   },
   "outputs": [
    {
     "ename": "EvalException",
     "evalue": "class REPL.$JShell$81 cannot access a member of class REPL.$JShell$12B$DummyIterator with modifiers \"private\"",
     "output_type": "error",
     "traceback": [
      "\u001b[1m\u001b[31m---------------------------------------------------------------------------\u001b[0m",
      "\u001b[1m\u001b[31mjava.lang.IllegalAccessException: class REPL.$JShell$81 cannot access a member of class REPL.$JShell$12B$DummyIterator with modifiers \"private\"\u001b[0m",
      "\u001b[1m\u001b[31m\tat java.base/jdk.internal.reflect.Reflection.newIllegalAccessException(Reflection.java:385)\u001b[0m",
      "\u001b[1m\u001b[31m\tat java.base/java.lang.reflect.AccessibleObject.checkAccess(AccessibleObject.java:693)\u001b[0m",
      "\u001b[1m\u001b[31m\tat java.base/java.lang.reflect.Field.checkAccess(Field.java:1096)\u001b[0m",
      "\u001b[1m\u001b[31m\tat java.base/java.lang.reflect.Field.get(Field.java:417)\u001b[0m",
      "\u001b[1m\u001b[31m\tat .(#81:1)\u001b[0m"
     ]
    }
   ],
   "source": [
    "Constructor constructor = klass.getConstructor(new Class<?>[]{int.class});\n",
    "Iterator dummyIterator = (Iterator) constructor.newInstance(1);\n",
    "\n",
    "Field indexField = klass.getDeclaredField(\"index\");\n",
    "indexField.get(dummyIterator);"
   ]
  },
  {
   "cell_type": "code",
   "execution_count": 35,
   "metadata": {
    "ExecuteTime": {
     "end_time": "2021-01-18T17:55+0000",
     "start_time": "2021-01-18T17:55:09.099Z"
    },
    "slideshow": {
     "slide_type": "subslide"
    }
   },
   "outputs": [
    {
     "name": "stdout",
     "output_type": "stream",
     "text": [
      "1\n",
      "2\n"
     ]
    }
   ],
   "source": [
    "indexField.setAccessible(true);\n",
    "System.out.println(indexField.get(dummyIterator));\n",
    "indexField.set(dummyIterator,2);\n",
    "System.out.println(indexField.get(dummyIterator));"
   ]
  },
  {
   "cell_type": "markdown",
   "metadata": {
    "slideshow": {
     "slide_type": "fragment"
    }
   },
   "source": [
    "<img src=\"img/mouth.jpg\" width=\"800\"/>"
   ]
  },
  {
   "cell_type": "markdown",
   "metadata": {
    "slideshow": {
     "slide_type": "subslide"
    }
   },
   "source": [
    "# Dostęp do wszystkich składowych prywatnych\n",
    "\n",
    "* getDeclaredMethod(...)\n",
    "* getDeclaredMethods()\n",
    "* getDeclaredConstructor(...)\n",
    "* getDeclaredConstructors()\n",
    "* getDeclaredField(...)\n",
    "* getDeclaredFields()\n",
    "\n",
    "Uwaga: składowe dziedziczone nie są zwracane"
   ]
  },
  {
   "cell_type": "markdown",
   "metadata": {
    "slideshow": {
     "slide_type": "slide"
    }
   },
   "source": [
    "# Dynamiczne proxy"
   ]
  },
  {
   "cell_type": "code",
   "execution_count": 36,
   "metadata": {
    "ExecuteTime": {
     "end_time": "2021-01-18T18:02+0000",
     "start_time": "2021-01-18T18:02:24.530Z"
    },
    "slideshow": {
     "slide_type": "slide"
    }
   },
   "outputs": [],
   "source": [
    "import java.lang.reflect.*;\n",
    "\n",
    "class MethodReplayer implements InvocationHandler {\n",
    "    private List<String> list = new LinkedList<>();\n",
    "    private List<Method> invokedMethods = new LinkedList<>();\n",
    "    private List<Object[]> invokedArguments = new LinkedList<>();\n",
    "\n",
    "    public Object invoke(Object proxy, Method method, Object[] args) \n",
    "            throws Throwable{\n",
    "        if(!method.getName().equals(\"toString\")){\n",
    "            invokedMethods.add(method);\n",
    "            invokedArguments.add(args);\n",
    "        }\n",
    "        return method.invoke(list, args);\n",
    "    }\n",
    "\n",
    "    public void replay() throws Throwable {\n",
    "        for(int i = 0; i < invokedMethods.size(); i++){\n",
    "            invokedMethods.get(i).invoke(list, invokedArguments.get(i));\n",
    "        }\n",
    "    }\n",
    "}"
   ]
  },
  {
   "cell_type": "code",
   "execution_count": 37,
   "metadata": {
    "ExecuteTime": {
     "end_time": "2021-01-18T18:04+0000",
     "start_time": "2021-01-18T18:04:22.835Z"
    },
    "slideshow": {
     "slide_type": "subslide"
    }
   },
   "outputs": [
    {
     "name": "stdout",
     "output_type": "stream",
     "text": [
      "[dog, cat]\n",
      "[dog, cat, dog, cat]\n"
     ]
    }
   ],
   "source": [
    "import static java.lang.reflect.Proxy.newProxyInstance;\n",
    "\n",
    "MethodReplayer replayer = new MethodReplayer();\n",
    "List<String> list = (List<String>) newProxyInstance(List.class.getClassLoader(),\n",
    "        new Class[] { List.class },\n",
    "        replayer);\n",
    "\n",
    "list.add(\"dog\");\n",
    "list.add(\"cat\");\n",
    "\n",
    "System.out.println(list);\n",
    "\n",
    "\n",
    "replayer.replay();\n",
    "System.out.println(list);"
   ]
  },
  {
   "cell_type": "markdown",
   "metadata": {
    "slideshow": {
     "slide_type": "subslide"
    }
   },
   "source": [
    "<img src=\"img/cat3.jpg\"/>"
   ]
  },
  {
   "cell_type": "markdown",
   "metadata": {
    "slideshow": {
     "slide_type": "slide"
    }
   },
   "source": [
    "# Uchwyty do metod\n",
    "\n",
    "* w API refleksji sygnatura argumentów metody jest wskazywana przez `Class[]`\n",
    "* w nowym API mamy nowy typ `MethodType`:\n",
    "  * brak nazwy metody\n",
    "  * brak typu adresata\n",
    "  * tylko typy argumentów oraz typ zwracanej wartości"
   ]
  },
  {
   "cell_type": "code",
   "execution_count": 38,
   "metadata": {
    "ExecuteTime": {
     "end_time": "2021-01-18T18:07+0000",
     "start_time": "2021-01-18T18:07:45.272Z"
    },
    "slideshow": {
     "slide_type": "subslide"
    }
   },
   "outputs": [],
   "source": [
    "import java.lang.invoke.*;\n",
    "import java.lang.invoke.MethodHandles.Lookup;\n",
    "\n",
    "// np. String toString()\n",
    "MethodType toStringType = MethodType.methodType(String.class);\n",
    "\n",
    "// np. Integer parseInt(String str)\n",
    "MethodType fromStringToInt = MethodType.methodType(Integer.class, String.class);"
   ]
  },
  {
   "cell_type": "code",
   "execution_count": 39,
   "metadata": {
    "ExecuteTime": {
     "end_time": "2021-01-18T18:08+0000",
     "start_time": "2021-01-18T18:08:12.913Z"
    },
    "slideshow": {
     "slide_type": "fragment"
    }
   },
   "outputs": [],
   "source": [
    "class CallMeMaybe1 {\n",
    "    public String toString(){\n",
    "        return \"call me maybe\";\n",
    "    }\n",
    "   \n",
    "    private String privateMethod(){\n",
    "        return \"Private string\";\n",
    "    }\n",
    "    \n",
    "    public Lookup getLookup(){\n",
    "        return MethodHandles.lookup();\n",
    "    }\n",
    "}"
   ]
  },
  {
   "cell_type": "code",
   "execution_count": 40,
   "metadata": {
    "ExecuteTime": {
     "end_time": "2021-01-18T18:09+0000",
     "start_time": "2021-01-18T18:09:27.700Z"
    },
    "slideshow": {
     "slide_type": "fragment"
    }
   },
   "outputs": [
    {
     "data": {
      "text/plain": [
       "call me maybe"
      ]
     },
     "execution_count": 40,
     "metadata": {},
     "output_type": "execute_result"
    }
   ],
   "source": [
    "CallMeMaybe1 maybe = new CallMeMaybe1();\n",
    "Lookup maybeLookup = maybe.getLookup();\n",
    "\n",
    "MethodHandle maybeHandle = maybeLookup.findVirtual(CallMeMaybe1.class, \"toString\", toStringType);\n",
    "maybeHandle.invoke(maybe);"
   ]
  },
  {
   "cell_type": "code",
   "execution_count": 41,
   "metadata": {
    "ExecuteTime": {
     "end_time": "2021-01-18T18:09+0000",
     "start_time": "2021-01-18T18:09:49.889Z"
    },
    "slideshow": {
     "slide_type": "subslide"
    }
   },
   "outputs": [
    {
     "data": {
      "text/plain": [
       "Private string"
      ]
     },
     "execution_count": 41,
     "metadata": {},
     "output_type": "execute_result"
    }
   ],
   "source": [
    "maybeHandle = maybeLookup.findSpecial(CallMeMaybe1.class, \"privateMethod\", toStringType, CallMeMaybe1.class);\n",
    "maybeHandle.invoke(maybe);"
   ]
  },
  {
   "cell_type": "code",
   "execution_count": 42,
   "metadata": {
    "ExecuteTime": {
     "end_time": "2021-01-18T18:10+0000",
     "start_time": "2021-01-18T18:10:13.434Z"
    },
    "slideshow": {
     "slide_type": "fragment"
    }
   },
   "outputs": [
    {
     "ename": "EvalException",
     "evalue": "no private access for invokespecial: class REPL.$JShell$99$CallMeMaybe1, from class REPL.$JShell$106 (unnamed module @6bcf54bf)",
     "output_type": "error",
     "traceback": [
      "\u001b[1m\u001b[31m---------------------------------------------------------------------------\u001b[0m",
      "\u001b[1m\u001b[31mjava.lang.IllegalAccessException: no private access for invokespecial: class REPL.$JShell$99$CallMeMaybe1, from class REPL.$JShell$106 (unnamed module @6bcf54bf)\u001b[0m",
      "\u001b[1m\u001b[31m\tat java.base/java.lang.invoke.MemberName.makeAccessException(MemberName.java:957)\u001b[0m",
      "\u001b[1m\u001b[31m\tat java.base/java.lang.invoke.MethodHandles$Lookup.checkSpecialCaller(MethodHandles.java:3660)\u001b[0m",
      "\u001b[1m\u001b[31m\tat java.base/java.lang.invoke.MethodHandles$Lookup.findSpecial(MethodHandles.java:2777)\u001b[0m",
      "\u001b[1m\u001b[31m\tat .(#106:1)\u001b[0m"
     ]
    }
   ],
   "source": [
    "maybeHandle = MethodHandles.lookup().findSpecial(CallMeMaybe1.class, \"privateMethod\", toStringType, CallMeMaybe1.class);\n",
    "maybeHandle.invoke(maybe);"
   ]
  },
  {
   "cell_type": "markdown",
   "metadata": {
    "slideshow": {
     "slide_type": "slide"
    }
   },
   "source": [
    "![Pytania? ](img/question.jpg)"
   ]
  },
  {
   "cell_type": "code",
   "execution_count": null,
   "metadata": {},
   "outputs": [],
   "source": []
  }
 ],
 "metadata": {
  "celltoolbar": "Slideshow",
  "kernelspec": {
   "display_name": "Java",
   "language": "java",
   "name": "java"
  },
  "language_info": {
   "codemirror_mode": "java",
   "file_extension": ".jshell",
   "mimetype": "text/x-java-source",
   "name": "Java",
   "pygments_lexer": "java",
   "version": "17+35-2724"
  },
  "toc": {
   "base_numbering": 1,
   "nav_menu": {},
   "number_sections": false,
   "sideBar": true,
   "skip_h1_title": false,
   "title_cell": "Table of Contents",
   "title_sidebar": "Contents",
   "toc_cell": false,
   "toc_position": {},
   "toc_section_display": true,
   "toc_window_display": false
  }
 },
 "nbformat": 4,
 "nbformat_minor": 2
}
