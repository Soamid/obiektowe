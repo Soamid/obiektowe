{
 "cells": [
  {
   "cell_type": "markdown",
   "metadata": {
    "slideshow": {
     "slide_type": "slide"
    }
   },
   "source": [
    "# Refleksja\n",
    "\n",
    "## Struktura pliku .class, dostęp do informacji o typie, polach i metodach\n",
    "## Dynamiczne ładowanie klas\n",
    "\n",
    "<br/>\n",
    "\n",
    "## dr inż. Aleksander Smywiński-Pohl\n",
    "\n",
    "## apohllo@o2.pl\n",
    "\n",
    "## http://apohllo.pl/dydaktyka/programowanie-obiektowe"
   ]
  },
  {
   "cell_type": "markdown",
   "metadata": {
    "slideshow": {
     "slide_type": "slide"
    }
   },
   "source": [
    "```java\n",
    "class DummyIterator implements Iterator {\n",
    "    private int index = 0;\n",
    "    \n",
    "    @Override\n",
    "    public boolean hasNext(){\n",
    "        return false;\n",
    "    }\n",
    "    \n",
    "    @Override\n",
    "    public Object next(){\n",
    "        return null;\n",
    "    }\n",
    "}\n",
    "```"
   ]
  },
  {
   "cell_type": "markdown",
   "metadata": {
    "slideshow": {
     "slide_type": "fragment"
    }
   },
   "source": [
    "```\n",
    "javac DummyIterator.java\n",
    "```"
   ]
  },
  {
   "cell_type": "markdown",
   "metadata": {
    "slideshow": {
     "slide_type": "subslide"
    }
   },
   "source": [
    "```\n",
    "cat DummyIterator.class\n",
    "```"
   ]
  },
  {
   "cell_type": "markdown",
   "metadata": {
    "slideshow": {
     "slide_type": "fragment"
    }
   },
   "source": [
    "```\n",
    "����4\u0017\n",
    "\u0004\u0012\t\u0003\u0013\u0014\u0015\u0016\u0001index\u0001\u0001I\u0001\u0006<init>\u0001\u0003()V\u0001\u0004Code\u0001LineNumberTable\u0001hasNext\u0001\u0003()Z\u0001\u0004next\u0001\u0014()Ljava/lang/Object;\u0001\n",
    "SourceFile\u0001\u0012DummyIterator.java\n",
    "                             \t\n",
    "DummyIterator\u0001\u0010java/lang/Object\u0001\u0012java/util/Iterator \u0003\u0004\u0001\u0001\u0002\u0006\u0003     \u0001\n",
    "&\u0002\u0001\n",
    "*�\u0001*\u0003�\u0002�\u0001\n",
    "\n",
    "\u0002\u0003\u0004\u0004\u0001\n",
    "\u0001\n",
    "\u001a\u0001\u0001\u0002\u0003�\u0001\n",
    "       \u0006\u0001\u0001\n",
    "\u001a\u0001\u0001\u0002\u0001�\u0001\n",
    "\u0001\u0010\u0002\u0011%        \n",
    "```"
   ]
  },
  {
   "cell_type": "markdown",
   "metadata": {
    "slideshow": {
     "slide_type": "subslide"
    }
   },
   "source": [
    "```\n",
    "javap DummyIterator\n",
    "```"
   ]
  },
  {
   "cell_type": "markdown",
   "metadata": {
    "slideshow": {
     "slide_type": "fragment"
    }
   },
   "source": [
    "```java\n",
    "Compiled from \"DummyIterator.java\"\n",
    "class DummyIterator implements java.util.Iterator {\n",
    "  DummyIterator();\n",
    "  public boolean hasNext();\n",
    "  public java.lang.Object next();\n",
    "}\n",
    "\n",
    "```"
   ]
  },
  {
   "cell_type": "markdown",
   "metadata": {
    "slideshow": {
     "slide_type": "subslide"
    }
   },
   "source": [
    "<img src=\"img/cat4.jpg\"/>"
   ]
  },
  {
   "cell_type": "markdown",
   "metadata": {
    "slideshow": {
     "slide_type": "slide"
    }
   },
   "source": [
    "# Informacje o typie\n",
    "\n",
    "```java\n",
    "Class<?> klass = null;\n",
    "klass = int.class;\n",
    "klass = Integer.class;\n",
    "klass = \"Ala ma kota\".getClass();\n",
    "klass = new String[0].getClass();\n",
    "klass = new DummyIterator().getClass();\n",
    "```"
   ]
  },
  {
   "cell_type": "markdown",
   "metadata": {
    "slideshow": {
     "slide_type": "subslide"
    }
   },
   "source": [
    "# Klasa nadrzędna\n",
    "\n",
    "```java\n",
    "Class<?> klass = null;\n",
    "klass = new DummyIterator().getClass();\n",
    "klass = klass.getSuperclass();\n",
    "```"
   ]
  },
  {
   "cell_type": "markdown",
   "metadata": {
    "slideshow": {
     "slide_type": "subslide"
    }
   },
   "source": [
    "# Wspólna klasa nadrzędna\n",
    "\n",
    "```java\n",
    "class A {}\n",
    "class B1 extends A {}\n",
    "class C1 extends B1 {}\n",
    "class B2 extends A {}\n",
    "class C2 extends B2 {}\n",
    "```"
   ]
  },
  {
   "cell_type": "markdown",
   "metadata": {
    "slideshow": {
     "slide_type": "fragment"
    }
   },
   "source": [
    "```java\n",
    "List<Class<?>> ancestors(Class<?> klass){\n",
    "    List<Class<?>> result = new LinkedList<>();\n",
    "    while(klass != Object.class){\n",
    "        result.add(klass);\n",
    "        klass = klass.getSuperclass();\n",
    "    }\n",
    "    result.add(Object.class);\n",
    "    Collections.reverse(result);\n",
    "    return result;\n",
    "}\n",
    "```"
   ]
  },
  {
   "cell_type": "markdown",
   "metadata": {
    "slideshow": {
     "slide_type": "fragment"
    }
   },
   "source": [
    "```java\n",
    "ancestors(C2.class);\n",
    "```"
   ]
  },
  {
   "cell_type": "markdown",
   "metadata": {
    "slideshow": {
     "slide_type": "subslide"
    }
   },
   "source": [
    "```java\n",
    "Class<?> commonAncestor(Class<?> aClass, Class<?> bClass){\n",
    "    List<Class<?>> aAncestors = ancestors(aClass);\n",
    "    List<Class<?>> bAncestors = ancestors(bClass);\n",
    "    for(int i = 0; i < aAncestors.size() && i < bAncestors.size(); i++){\n",
    "        if(aAncestors.get(i) != bAncestors.get(i)){\n",
    "            return aAncestors.get(i-1);\n",
    "        }\n",
    "    }\n",
    "    return aAncestors.get(aAncestors.size()-1);\n",
    "}\n",
    "```"
   ]
  },
  {
   "cell_type": "markdown",
   "metadata": {
    "slideshow": {
     "slide_type": "fragment"
    }
   },
   "source": [
    "```java\n",
    "commonAncestor(C1.class, C2.class);\n",
    "```"
   ]
  },
  {
   "cell_type": "markdown",
   "metadata": {
    "slideshow": {
     "slide_type": "subslide"
    }
   },
   "source": [
    "<img src=\"img/cat1.jpg\"/>"
   ]
  },
  {
   "cell_type": "markdown",
   "metadata": {
    "slideshow": {
     "slide_type": "slide"
    }
   },
   "source": [
    "# Dynamiczne ładowanie klas\n",
    "\n",
    "```java\n",
    "interface IVehicle {\n",
    "    void go();\n",
    "}\n",
    "```"
   ]
  },
  {
   "cell_type": "markdown",
   "metadata": {
    "slideshow": {
     "slide_type": "fragment"
    }
   },
   "source": [
    "```java\n",
    "class Car implements IVehicle {\n",
    "    public void go(){\n",
    "        System.out.println(\"Brum, brum\");\n",
    "    }\n",
    "}\n",
    "```"
   ]
  },
  {
   "cell_type": "markdown",
   "metadata": {
    "slideshow": {
     "slide_type": "fragment"
    }
   },
   "source": [
    "```java\n",
    "class Airplane implements IVehicle {\n",
    "    public void go(){\n",
    "        System.out.println(\"Bzzzzzz\");\n",
    "    }\n",
    "}\n",
    "```"
   ]
  },
  {
   "cell_type": "markdown",
   "metadata": {
    "slideshow": {
     "slide_type": "fragment"
    }
   },
   "source": [
    "```java\n",
    "class Rocket implements IVehicle {\n",
    "    public void go(){\n",
    "        System.out.println(\"BUUUUUUUUUUUM\");\n",
    "    }\n",
    "}\n",
    "```"
   ]
  },
  {
   "cell_type": "markdown",
   "metadata": {
    "slideshow": {
     "slide_type": "subslide"
    }
   },
   "source": [
    "```java\n",
    "class VehicleSystem {\n",
    "    public static void main(String[] args){\n",
    "        List<IVehicle> vehicles = new LinkedList<>();\n",
    "        for(String vehicleName : args){\n",
    "            try {\n",
    "                Class<IVehicle> klass = (Class<IVehicle>) Class.forName(vehicleName);\n",
    "                vehicles.add(klass.newInstance());\n",
    "            } catch(ClassNotFoundException ex) {\n",
    "                System.out.println(\"The class \" + vehicleName + \n",
    "                    \" has not been found. \");\n",
    "                return;\n",
    "            } catch(InstantiationException | IllegalAccessException ex) {\n",
    "                System.out.println(\"The class \" + vehicleName + \n",
    "                    \" cannot be instantiated. \");\n",
    "                return;\n",
    "            }\n",
    "            \n",
    "        }\n",
    "        for(IVehicle vehicle : vehicles) {\n",
    "            vehicle.go();\n",
    "        }\n",
    "    }\n",
    "}\n",
    "\n",
    "```"
   ]
  },
  {
   "cell_type": "markdown",
   "metadata": {
    "slideshow": {
     "slide_type": "fragment"
    }
   },
   "source": [
    "```\n",
    "java VehicleSystem Car Rocket Airplane Car\n",
    "```"
   ]
  },
  {
   "cell_type": "markdown",
   "metadata": {
    "slideshow": {
     "slide_type": "subslide"
    }
   },
   "source": [
    "<img src=\"img/cat2.jpg\"/>"
   ]
  },
  {
   "cell_type": "markdown",
   "metadata": {
    "slideshow": {
     "slide_type": "slide"
    }
   },
   "source": [
    "# Dostęp do składowych\n",
    "\n",
    "* newInstance()\n",
    "* getMethod(...)\n",
    "* getMethods()\n",
    "* getConstructor(...)\n",
    "* getConstructors()\n",
    "* getField(...)\n",
    "* getFields()"
   ]
  },
  {
   "cell_type": "markdown",
   "metadata": {
    "slideshow": {
     "slide_type": "subslide"
    }
   },
   "source": [
    "```java\n",
    "void prettyPrint(Object[] elements){\n",
    "    for(Object element : elements)\n",
    "        System.out.println(element);\n",
    "}\n",
    "```"
   ]
  },
  {
   "cell_type": "markdown",
   "metadata": {
    "slideshow": {
     "slide_type": "fragment"
    }
   },
   "source": [
    "```java\n",
    "Class<?> klass = DummyIterator.class;\n",
    "\n",
    "prettyPrint(klass.getMethods());\n",
    "prettyPrint(klass.getConstructors());\n",
    "prettyPrint(klass.getFields());\n",
    "```"
   ]
  },
  {
   "cell_type": "markdown",
   "metadata": {
    "slideshow": {
     "slide_type": "subslide"
    }
   },
   "source": [
    "# Dynamiczna instancjacja\n",
    "\n",
    "```java\n",
    "import java.lang.reflect.*;\n",
    "\n",
    "Constructor constructor = klass.getConstructor(new Class<?>[0]);\n",
    "Iterator dummyIterator = (Iterator) constructor.newInstance();\n",
    "```"
   ]
  },
  {
   "cell_type": "markdown",
   "metadata": {
    "slideshow": {
     "slide_type": "fragment"
    }
   },
   "source": [
    "```java\n",
    "class DummyIterator implements Iterator {\n",
    "    private int index = 0;\n",
    "    \n",
    "    public DummyIterator(){\n",
    "    }\n",
    "    \n",
    "    public DummyIterator(int index){\n",
    "        this.index = index;\n",
    "    }\n",
    "\n",
    "    @Override\n",
    "    public boolean hasNext(){\n",
    "        return false;\n",
    "    }\n",
    "\n",
    "    @Override\n",
    "    public Object next(){\n",
    "        return null;\n",
    "    }\n",
    "}\n",
    "```"
   ]
  },
  {
   "cell_type": "markdown",
   "metadata": {
    "slideshow": {
     "slide_type": "subslide"
    }
   },
   "source": [
    "```java\n",
    "Class<?> klass = DummyIterator.class;\n",
    "\n",
    "Constructor constructor = klass.getConstructor(new Class<?>[]{int.class});\n",
    "Iterator dummyIterator = (Iterator) constructor.newInstance(1);\n",
    "```"
   ]
  },
  {
   "cell_type": "markdown",
   "metadata": {
    "slideshow": {
     "slide_type": "subslide"
    }
   },
   "source": [
    "# Dynamiczne wywołanie metody\n",
    "\n",
    "```java\n",
    "Method hasNextMethod = klass.getMethod(\"hasNext\", new Class<?>[0]);\n",
    "hasNextMethod.getName();\n",
    "hasNextMethod.getParameterTypes();\n",
    "```"
   ]
  },
  {
   "cell_type": "markdown",
   "metadata": {
    "slideshow": {
     "slide_type": "fragment"
    }
   },
   "source": [
    "```java\n",
    "Constructor constructor = klass.getConstructor(new Class<?>[]{int.class});\n",
    "Iterator dummyIterator = (Iterator) constructor.newInstance(1);\n",
    "\n",
    "Method hasNextMethod = klass.getMethod(\"hasNext\", new Class<?>[0]);\n",
    "hasNextMethod.invoke(dummyIterator);\n",
    "```"
   ]
  },
  {
   "cell_type": "markdown",
   "metadata": {
    "slideshow": {
     "slide_type": "subslide"
    }
   },
   "source": [
    "# Dynamiczny dostęp do pól\n",
    "\n",
    "```java\n",
    "Field indexField = klass.getField(\"index\");\n",
    "indexField.getName();\n",
    "indexField.getModifiers();\n",
    "```"
   ]
  },
  {
   "cell_type": "markdown",
   "metadata": {
    "slideshow": {
     "slide_type": "fragment"
    }
   },
   "source": [
    "```\n",
    "Field indexField = klass.getField(\"index\");\n",
    "|  java.lang.NoSuchFieldException thrown: index\n",
    "|        at Class.getField (Class.java:1891)\n",
    "|        at (#300:1)\n",
    "```"
   ]
  },
  {
   "cell_type": "markdown",
   "metadata": {
    "slideshow": {
     "slide_type": "fragment"
    }
   },
   "source": [
    "```java\n",
    "Field indexField = klass.getDeclaredField(\"index\");\n",
    "indexField.getName();\n",
    "indexField.getModifiers();\n",
    "```"
   ]
  },
  {
   "cell_type": "markdown",
   "metadata": {
    "slideshow": {
     "slide_type": "subslide"
    }
   },
   "source": [
    "```java\n",
    "Constructor constructor = klass.getConstructor(new Class<?>[]{int.class});\n",
    "Iterator dummyIterator = (Iterator) constructor.newInstance(1);\n",
    "\n",
    "Field indexField = klass.getDeclaredField(\"index\");\n",
    "indexField.get(dummyIterator);\n",
    "```"
   ]
  },
  {
   "cell_type": "markdown",
   "metadata": {
    "slideshow": {
     "slide_type": "fragment"
    }
   },
   "source": [
    "```\n",
    "indexField.get(dummyIterator);\n",
    "|  java.lang.IllegalAccessException thrown: class REPL.$JShell$151 cannot access a member of class REPL.$JShell$19D$DummyIterator with modifiers \"private\"\n",
    "|        at Reflection.throwIllegalAccessException (Reflection.java:405)\n",
    "|        at Reflection.throwIllegalAccessException (Reflection.java:396)\n",
    "|        at Reflection.ensureMemberAccess (Reflection.java:98)\n",
    "|        at AccessibleObject.slowCheckMemberAccess (AccessibleObject.java:355)\n",
    "|        at AccessibleObject.checkAccess (AccessibleObject.java:347)\n",
    "|        at Field.get (Field.java:406)\n",
    "|        at (#313:1)\n",
    "```"
   ]
  },
  {
   "cell_type": "markdown",
   "metadata": {
    "slideshow": {
     "slide_type": "subslide"
    }
   },
   "source": [
    "```java\n",
    "indexField.setAccessible(true);\n",
    "indexField.get(dummyIterator);\n",
    "indexField.set(dummyIterator,2);\n",
    "```"
   ]
  },
  {
   "cell_type": "markdown",
   "metadata": {
    "slideshow": {
     "slide_type": "fragment"
    }
   },
   "source": [
    "<img src=\"img/mouth.jpg\"/>"
   ]
  },
  {
   "cell_type": "markdown",
   "metadata": {
    "slideshow": {
     "slide_type": "subslide"
    }
   },
   "source": [
    "# Dostęp do wszystkich składowych prywatnych\n",
    "\n",
    "* getDeclaredMethod(...)\n",
    "* getDeclaredMethods()\n",
    "* getDeclaredConstructor(...)\n",
    "* getDeclaredConstructors()\n",
    "* getDeclaredField(...)\n",
    "* getDeclaredFields()\n",
    "\n",
    "Uwaga: składowe dziedziczone nie są zwracane"
   ]
  },
  {
   "cell_type": "markdown",
   "metadata": {
    "slideshow": {
     "slide_type": "slide"
    }
   },
   "source": [
    "# Dynamiczne proxy\n",
    "\n",
    "```java\n",
    "import java.lang.reflect.*;\n",
    "\n",
    "class MethodReplayer implements InvocationHandler {\n",
    "    private List<Object> instances = new LinkedList<>();\n",
    "    private List<Method> invokedMethods = new LinkedList<>();\n",
    "    private List<Object[]> invokedArguments = new LinkedList<>();\n",
    "    \n",
    "    public Object invoke(Object proxy, Method method, Object[] args) throws Throwable{\n",
    "        if(!method.getName().equals(\"toString\")){\n",
    "            instances.add(proxy);\n",
    "            invokedMethods.add(method);\n",
    "            invokedArguments.add(args);\n",
    "        }\n",
    "        return method.invoke(proxy, args);\n",
    "    }\n",
    "    \n",
    "    public void replay() throws Throwable {\n",
    "        for(int i = 0; i < invokedMethods.size(); i++){\n",
    "            invokedMethods.get(i).invoke(instances.get(i), invokedArguments.get(i));\n",
    "        }\n",
    "    }\n",
    "}\n",
    "```"
   ]
  },
  {
   "cell_type": "markdown",
   "metadata": {
    "slideshow": {
     "slide_type": "subslide"
    }
   },
   "source": [
    "```java\n",
    "MethodReplayer replayer = new MethodReplayer();\n",
    "List<String> list = (List<String>) java.lang.reflect.Proxy.newProxyInstance(List.class.getClassLoader(),\n",
    "        new Class[] { List.class },\n",
    "        replayer);\n",
    "\n",
    "list.add(\"dog\");\n",
    "list.add(\"cat\");\n",
    "System.out.println(list);\n",
    "\n",
    "replayer.replay();\n",
    "System.out.println(list);\n",
    "```"
   ]
  },
  {
   "cell_type": "markdown",
   "metadata": {
    "slideshow": {
     "slide_type": "subslide"
    }
   },
   "source": [
    "<img src=\"img/cat3.jpg\"/>"
   ]
  },
  {
   "cell_type": "markdown",
   "metadata": {
    "slideshow": {
     "slide_type": "slide"
    }
   },
   "source": [
    "# Uchwyty do metod\n",
    "\n",
    "* w API refleksji sygnatura argumentów metody jest wskazywana przez `Class[]`\n",
    "* w nowym API mamy nowy typ `MethodType`:\n",
    "  * brak nazwy metody\n",
    "  * brak typu adresata\n",
    "  * tylko typy argumentów oraz typ zwracanej wartości"
   ]
  },
  {
   "cell_type": "markdown",
   "metadata": {
    "slideshow": {
     "slide_type": "subslide"
    }
   },
   "source": [
    "```java\n",
    "import java.lang.invoke.*;\n",
    "import java.lang.invoke.MethodHandles.Lookup;\n",
    "\n",
    "// np. String toString()\n",
    "MethodType toStringType = MethodType.methodType(String.class);\n",
    "\n",
    "// np. Integer parseInt(String str)\n",
    "MethodType fromStringToInt = MethodType.methodType(Integer.class, String.class);\n",
    "```"
   ]
  },
  {
   "cell_type": "markdown",
   "metadata": {
    "slideshow": {
     "slide_type": "fragment"
    }
   },
   "source": [
    "```java\n",
    "class CallMeMaybe {\n",
    "    public String toString(){\n",
    "        return \"call me maybe\";\n",
    "    }\n",
    "    \n",
    "    public Lookup getLookup(){\n",
    "        return MethodHandles.lookup();\n",
    "    }\n",
    "}\n",
    "```"
   ]
  },
  {
   "cell_type": "markdown",
   "metadata": {
    "slideshow": {
     "slide_type": "fragment"
    }
   },
   "source": [
    "```java\n",
    "CallMeMaybe maybe = new CallMeMaybe();\n",
    "Lookup maybeLookup = maybe.getLookup();\n",
    "\n",
    "MethodHandle maybeHandle = maybeLookup.findVirtual(CallMeMaybe.class, \"toString\", toStringType);\n",
    "maybeHandle.invoke(maybe);\n",
    "```"
   ]
  },
  {
   "cell_type": "markdown",
   "metadata": {
    "slideshow": {
     "slide_type": "slide"
    }
   },
   "source": [
    "![Pytania? ](http://cliparts.co/cliparts/qcB/jqg/qcBjqgxc5.jpg)"
   ]
  }
 ],
 "metadata": {
  "celltoolbar": "Slideshow",
  "kernelspec": {
   "display_name": "Java 9",
   "language": "java",
   "name": "java"
  },
  "language_info": {
   "file_extension": ".class",
   "mimetype": "application/java-vm",
   "name": "java"
  }
 },
 "nbformat": 4,
 "nbformat_minor": 1
}
