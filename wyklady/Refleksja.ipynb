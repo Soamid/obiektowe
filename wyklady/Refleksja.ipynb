{
 "cells": [
  {
   "cell_type": "markdown",
   "metadata": {
    "slideshow": {
     "slide_type": "slide"
    }
   },
   "source": [
    "# Refleksja\n",
    "\n",
    "## Struktura pliku .class, dostęp do informacji o typie, polach i metodach\n",
    "## Dynamiczne ładowanie klas\n",
    "\n",
    "<br/>\n",
    "\n",
    "## dr inż. Aleksander Smywiński-Pohl\n",
    "\n",
    "## apohllo@o2.pl\n",
    "\n",
    "## http://apohllo.pl/dydaktyka/programowanie-obiektowe"
   ]
  },
  {
   "cell_type": "markdown",
   "metadata": {
    "slideshow": {
     "slide_type": "slide"
    }
   },
   "source": [
    "<img src=\"img/monster_mirror.jpg\"/>"
   ]
  },
  {
   "cell_type": "markdown",
   "metadata": {
    "slideshow": {
     "slide_type": "slide"
    }
   },
   "source": [
    "<img src=\"img/java_log.png\" style=\"height: 700px\"/>"
   ]
  },
  {
   "cell_type": "code",
   "execution_count": null,
   "metadata": {
    "slideshow": {
     "slide_type": "subslide"
    }
   },
   "outputs": [],
   "source": [
    "class DummyIterator implements Iterator {\n",
    "    private int index = 0;\n",
    "    \n",
    "    @Override\n",
    "    public boolean hasNext(){\n",
    "        return false;\n",
    "    }\n",
    "    \n",
    "    @Override\n",
    "    public Object next(){\n",
    "        return null;\n",
    "    }\n",
    "}"
   ]
  },
  {
   "cell_type": "code",
   "execution_count": null,
   "metadata": {
    "slideshow": {
     "slide_type": "fragment"
    }
   },
   "outputs": [],
   "source": [
    "javac DummyIterator.java"
   ]
  },
  {
   "cell_type": "code",
   "execution_count": null,
   "metadata": {
    "slideshow": {
     "slide_type": "subslide"
    }
   },
   "outputs": [],
   "source": [
    "cat DummyIterator.class"
   ]
  },
  {
   "cell_type": "markdown",
   "metadata": {
    "slideshow": {
     "slide_type": "fragment"
    }
   },
   "source": [
    "```\n",
    "����4\u0017\n",
    "\u0004\u0012\t\u0003\u0013\u0014\u0015\u0016\u0001index\u0001\u0001I\u0001\u0006<init>\u0001\u0003()V\u0001\u0004Code\u0001LineNumberTable\u0001hasNext\u0001\u0003()Z\u0001\u0004next\u0001\u0014()Ljava/lang/Object;\u0001\n",
    "SourceFile\u0001\u0012DummyIterator.java\n",
    "                             \t\n",
    "DummyIterator\u0001\u0010java/lang/Object\u0001\u0012java/util/Iterator \u0003\u0004\u0001\u0001\u0002\u0006\u0003     \u0001\n",
    "&\u0002\u0001\n",
    "*�\u0001*\u0003�\u0002�\u0001\n",
    "\n",
    "\u0002\u0003\u0004\u0004\u0001\n",
    "\u0001\n",
    "\u001a\u0001\u0001\u0002\u0003�\u0001\n",
    "       \u0006\u0001\u0001\n",
    "\u001a\u0001\u0001\u0002\u0001�\u0001\n",
    "\u0001\u0010\u0002\u0011%        \n",
    "```"
   ]
  },
  {
   "cell_type": "code",
   "execution_count": null,
   "metadata": {
    "slideshow": {
     "slide_type": "subslide"
    }
   },
   "outputs": [],
   "source": [
    "javap DummyIterator"
   ]
  },
  {
   "cell_type": "code",
   "execution_count": null,
   "metadata": {
    "slideshow": {
     "slide_type": "fragment"
    }
   },
   "outputs": [],
   "source": [
    "Compiled from \"DummyIterator.java\"\n",
    "class DummyIterator implements java.util.Iterator {\n",
    "  DummyIterator();\n",
    "  public boolean hasNext();\n",
    "  public java.lang.Object next();\n",
    "}"
   ]
  },
  {
   "cell_type": "markdown",
   "metadata": {
    "slideshow": {
     "slide_type": "slide"
    }
   },
   "source": [
    "# Informacje o typie"
   ]
  },
  {
   "cell_type": "code",
   "execution_count": null,
   "metadata": {
    "slideshow": {
     "slide_type": "-"
    }
   },
   "outputs": [],
   "source": [
    "Class<?> klass = null;\n",
    "klass = int.class;\n",
    "klass = Integer.class;\n",
    "klass = \"Ala ma kota\".getClass();\n",
    "klass = new String[0].getClass();\n",
    "klass = new DummyIterator().getClass();"
   ]
  },
  {
   "cell_type": "markdown",
   "metadata": {
    "slideshow": {
     "slide_type": "subslide"
    }
   },
   "source": [
    "# Weryfikacja przynależności do typu"
   ]
  },
  {
   "cell_type": "code",
   "execution_count": null,
   "metadata": {
    "slideshow": {
     "slide_type": "-"
    }
   },
   "outputs": [],
   "source": [
    "Object text = \"To kot, a to Ala\"\n",
    "if(text.getClass().equals(String.class)){\n",
    "    String textAsString = (String) text;\n",
    "}"
   ]
  },
  {
   "cell_type": "code",
   "execution_count": null,
   "metadata": {
    "slideshow": {
     "slide_type": "subslide"
    }
   },
   "outputs": [],
   "source": [
    "Object iterator = new DummyIterator();\n",
    "if(iterator.getClass.equals(Iterator.class)) {\n",
    "    out.println(\"Obiekt jest iteratorem\")\n",
    "}"
   ]
  },
  {
   "cell_type": "code",
   "execution_count": null,
   "metadata": {
    "slideshow": {
     "slide_type": "fragment"
    }
   },
   "outputs": [],
   "source": [
    "if(iterator instanceof Iterator) {\n",
    "    for(Object element : (Iterator) iterator) {\n",
    "        out.println(element)\n",
    "    }\n",
    "}"
   ]
  },
  {
   "cell_type": "markdown",
   "metadata": {
    "slideshow": {
     "slide_type": "subslide"
    }
   },
   "source": [
    "# Klasa nadrzędna"
   ]
  },
  {
   "cell_type": "code",
   "execution_count": null,
   "metadata": {
    "slideshow": {
     "slide_type": "-"
    }
   },
   "outputs": [],
   "source": [
    "Class<?> klass = null;\n",
    "klass = new DummyIterator().getClass();\n",
    "klass = klass.getSuperclass();"
   ]
  },
  {
   "cell_type": "markdown",
   "metadata": {
    "slideshow": {
     "slide_type": "subslide"
    }
   },
   "source": [
    "# Wspólna klasa nadrzędna"
   ]
  },
  {
   "cell_type": "code",
   "execution_count": null,
   "metadata": {
    "slideshow": {
     "slide_type": "-"
    }
   },
   "outputs": [],
   "source": [
    "class A {}\n",
    "class B1 extends A {}\n",
    "class C1 extends B1 {}\n",
    "class B2 extends A {}\n",
    "class C2 extends B2 {}"
   ]
  },
  {
   "cell_type": "code",
   "execution_count": null,
   "metadata": {
    "slideshow": {
     "slide_type": "fragment"
    }
   },
   "outputs": [],
   "source": [
    "List<Class<?>> ancestors(Class<?> klass){\n",
    "    List<Class<?>> result = new LinkedList<>();\n",
    "    while(klass != Object.class){\n",
    "        result.add(klass);\n",
    "        klass = klass.getSuperclass();\n",
    "    }\n",
    "    result.add(Object.class);\n",
    "    Collections.reverse(result);\n",
    "    return result;\n",
    "}"
   ]
  },
  {
   "cell_type": "code",
   "execution_count": null,
   "metadata": {
    "slideshow": {
     "slide_type": "fragment"
    }
   },
   "outputs": [],
   "source": [
    "ancestors(C2.class);"
   ]
  },
  {
   "cell_type": "code",
   "execution_count": null,
   "metadata": {
    "slideshow": {
     "slide_type": "subslide"
    }
   },
   "outputs": [],
   "source": [
    "Class<?> commonAncestor(Class<?> aClass, Class<?> bClass){\n",
    "    List<Class<?>> aAncestors = ancestors(aClass);\n",
    "    List<Class<?>> bAncestors = ancestors(bClass);\n",
    "    for(int i = 0; i < aAncestors.size() && i < bAncestors.size(); i++){\n",
    "        if(aAncestors.get(i) != bAncestors.get(i)){\n",
    "            return aAncestors.get(i-1);\n",
    "        }\n",
    "    }\n",
    "    return aAncestors.get(aAncestors.size()-1);\n",
    "}"
   ]
  },
  {
   "cell_type": "code",
   "execution_count": null,
   "metadata": {
    "slideshow": {
     "slide_type": "fragment"
    }
   },
   "outputs": [],
   "source": [
    "commonAncestor(C1.class, C2.class);"
   ]
  },
  {
   "cell_type": "markdown",
   "metadata": {
    "slideshow": {
     "slide_type": "subslide"
    }
   },
   "source": [
    "<img src=\"img/cat1.jpg\"/>"
   ]
  },
  {
   "cell_type": "markdown",
   "metadata": {
    "slideshow": {
     "slide_type": "slide"
    }
   },
   "source": [
    "# Dynamiczne ładowanie klas"
   ]
  },
  {
   "cell_type": "code",
   "execution_count": null,
   "metadata": {
    "slideshow": {
     "slide_type": "slide"
    }
   },
   "outputs": [],
   "source": [
    "interface IVehicle {\n",
    "    void go();\n",
    "}"
   ]
  },
  {
   "cell_type": "code",
   "execution_count": null,
   "metadata": {
    "slideshow": {
     "slide_type": "fragment"
    }
   },
   "outputs": [],
   "source": [
    "class Car implements IVehicle {\n",
    "    public void go(){\n",
    "        System.out.println(\"Brum, brum\");\n",
    "    }\n",
    "}"
   ]
  },
  {
   "cell_type": "code",
   "execution_count": null,
   "metadata": {
    "slideshow": {
     "slide_type": "fragment"
    }
   },
   "outputs": [],
   "source": [
    "class Airplane implements IVehicle {\n",
    "    public void go(){\n",
    "        System.out.println(\"Bzzzzzz\");\n",
    "    }\n",
    "}"
   ]
  },
  {
   "cell_type": "code",
   "execution_count": null,
   "metadata": {
    "slideshow": {
     "slide_type": "fragment"
    }
   },
   "outputs": [],
   "source": [
    "class Rocket implements IVehicle {\n",
    "    public void go(){\n",
    "        System.out.println(\"BUUUUUUUUUUUM\");\n",
    "    }\n",
    "}"
   ]
  },
  {
   "cell_type": "code",
   "execution_count": null,
   "metadata": {
    "slideshow": {
     "slide_type": "subslide"
    }
   },
   "outputs": [],
   "source": [
    "class VehicleSystem {\n",
    "    public static void main(String[] args){\n",
    "        List<IVehicle> vehicles = new LinkedList<>();\n",
    "        for(String vehicleName : args){\n",
    "            try {\n",
    "                Class<IVehicle> klass = \n",
    "                    (Class<IVehicle>) Class.forName(vehicleName);\n",
    "                vehicles.add(klass.newInstance());\n",
    "            } catch(ClassNotFoundException ex) {\n",
    "                System.out.println(\"The class \" + vehicleName +  \n",
    "                                   \" has not been found. \");\n",
    "                return;\n",
    "            } catch(InstantiationException | IllegalAccessException ex) {\n",
    "                System.out.println(\"The class \" + vehicleName +  \n",
    "                                   \" cannot be instantiated. \");\n",
    "                return;\n",
    "            }\n",
    "            \n",
    "        }\n",
    "        for(IVehicle vehicle : vehicles) {\n",
    "            vehicle.go();\n",
    "        }\n",
    "    }\n",
    "}"
   ]
  },
  {
   "cell_type": "code",
   "execution_count": null,
   "metadata": {
    "slideshow": {
     "slide_type": "fragment"
    }
   },
   "outputs": [],
   "source": [
    "java VehicleSystem Car Rocket Airplane Car"
   ]
  },
  {
   "cell_type": "markdown",
   "metadata": {
    "slideshow": {
     "slide_type": "subslide"
    }
   },
   "source": [
    "<img src=\"img/cat2.jpg\"/>"
   ]
  },
  {
   "cell_type": "markdown",
   "metadata": {
    "slideshow": {
     "slide_type": "slide"
    }
   },
   "source": [
    "# Dostęp do składowych\n",
    "\n",
    "* newInstance()\n",
    "* getMethod(...)\n",
    "* getMethods()\n",
    "* getConstructor(...)\n",
    "* getConstructors()\n",
    "* getField(...)\n",
    "* getFields()"
   ]
  },
  {
   "cell_type": "code",
   "execution_count": null,
   "metadata": {
    "slideshow": {
     "slide_type": "subslide"
    }
   },
   "outputs": [],
   "source": [
    "void prettyPrint(Object[] elements){\n",
    "    for(Object element : elements)\n",
    "        System.out.println(element);\n",
    "}"
   ]
  },
  {
   "cell_type": "code",
   "execution_count": null,
   "metadata": {
    "slideshow": {
     "slide_type": "fragment"
    }
   },
   "outputs": [],
   "source": [
    "Class<?> klass = DummyIterator.class;\n",
    "\n",
    "prettyPrint(klass.getMethods());\n",
    "prettyPrint(klass.getConstructors());\n",
    "prettyPrint(klass.getFields());"
   ]
  },
  {
   "cell_type": "markdown",
   "metadata": {
    "slideshow": {
     "slide_type": "subslide"
    }
   },
   "source": [
    "# Dynamiczna instancjacja"
   ]
  },
  {
   "cell_type": "code",
   "execution_count": null,
   "metadata": {
    "slideshow": {
     "slide_type": "-"
    }
   },
   "outputs": [],
   "source": [
    "import java.lang.reflect.*;\n",
    "\n",
    "Constructor constructor = klass.getConstructor(new Class<?>[0]);\n",
    "Iterator dummyIterator = (Iterator) constructor.newInstance();"
   ]
  },
  {
   "cell_type": "code",
   "execution_count": null,
   "metadata": {
    "slideshow": {
     "slide_type": "fragment"
    }
   },
   "outputs": [],
   "source": [
    "class DummyIterator implements Iterator {\n",
    "    private int index = 0;\n",
    "    \n",
    "    public DummyIterator(){\n",
    "    }\n",
    "    \n",
    "    public DummyIterator(int index){\n",
    "        this.index = index;\n",
    "    }\n",
    "\n",
    "    @Override\n",
    "    public boolean hasNext(){\n",
    "        return false;\n",
    "    }\n",
    "\n",
    "    @Override\n",
    "    public Object next(){\n",
    "        return null;\n",
    "    }\n",
    "}"
   ]
  },
  {
   "cell_type": "code",
   "execution_count": null,
   "metadata": {
    "slideshow": {
     "slide_type": "subslide"
    }
   },
   "outputs": [],
   "source": [
    "Class<?> klass = DummyIterator.class;\n",
    "\n",
    "Constructor constructor = klass.getConstructor(new Class<?>[]{int.class});\n",
    "iterator dummyIterator = (Iterator) constructor.newInstance(1);"
   ]
  },
  {
   "cell_type": "markdown",
   "metadata": {
    "slideshow": {
     "slide_type": "subslide"
    }
   },
   "source": [
    "# Dynamiczne wywołanie metody"
   ]
  },
  {
   "cell_type": "code",
   "execution_count": null,
   "metadata": {
    "slideshow": {
     "slide_type": "-"
    }
   },
   "outputs": [],
   "source": [
    "Method hasNextMethod = klass.getMethod(\"hasNext\", new Class<?>[0]);\n",
    "hasNextMethod.getName();\n",
    "hasNextMethod.getParameterTypes();"
   ]
  },
  {
   "cell_type": "code",
   "execution_count": null,
   "metadata": {
    "slideshow": {
     "slide_type": "fragment"
    }
   },
   "outputs": [],
   "source": [
    "Constructor constructor = klass.getConstructor(new Class<?>[]{int.class});\n",
    "Iterator dummyIterator = (Iterator) constructor.newInstance(1);\n",
    "\n",
    "Method hasNextMethod = klass.getMethod(\"hasNext\", new Class<?>[0]);\n",
    "hasNextMethod.invoke(dummyIterator);"
   ]
  },
  {
   "cell_type": "markdown",
   "metadata": {
    "slideshow": {
     "slide_type": "subslide"
    }
   },
   "source": [
    "# Dynamiczny dostęp do pól"
   ]
  },
  {
   "cell_type": "code",
   "execution_count": null,
   "metadata": {
    "slideshow": {
     "slide_type": "-"
    }
   },
   "outputs": [],
   "source": [
    "Field indexField = klass.getField(\"index\");\n",
    "indexField.getName();\n",
    "indexField.getModifiers();"
   ]
  },
  {
   "cell_type": "code",
   "execution_count": null,
   "metadata": {
    "slideshow": {
     "slide_type": "fragment"
    }
   },
   "outputs": [],
   "source": [
    "Field indexField = klass.getField(\"index\");\n",
    "|  java.lang.NoSuchFieldException thrown: index\n",
    "|        at Class.getField (Class.java:1891)\n",
    "|        at (#300:1)"
   ]
  },
  {
   "cell_type": "code",
   "execution_count": null,
   "metadata": {
    "slideshow": {
     "slide_type": "fragment"
    }
   },
   "outputs": [],
   "source": [
    "Field indexField = klass.getDeclaredField(\"index\");\n",
    "indexField.getName();\n",
    "indexField.getModifiers();"
   ]
  },
  {
   "cell_type": "code",
   "execution_count": null,
   "metadata": {
    "slideshow": {
     "slide_type": "subslide"
    }
   },
   "outputs": [],
   "source": [
    "Constructor constructor = klass.getConstructor(new Class<?>[]{int.class});\n",
    "Iterator dummyIterator = (Iterator) constructor.newInstance(1);\n",
    "\n",
    "Field indexField = klass.getDeclaredField(\"index\");\n",
    "indexField.get(dummyIterator);"
   ]
  },
  {
   "cell_type": "code",
   "execution_count": null,
   "metadata": {
    "slideshow": {
     "slide_type": "fragment"
    }
   },
   "outputs": [],
   "source": [
    "indexField.get(dummyIterator);\n",
    "|  java.lang.IllegalAccessException thrown: class REPL.$JShell$151 cannot access a member of class REPL.$JShell$19D$DummyIterator with modifiers \"private\"\n",
    "|        at Reflection.throwIllegalAccessException (Reflection.java:405)\n",
    "|        at Reflection.throwIllegalAccessException (Reflection.java:396)\n",
    "|        at Reflection.ensureMemberAccess (Reflection.java:98)\n",
    "|        at AccessibleObject.slowCheckMemberAccess (AccessibleObject.java:355)\n",
    "|        at AccessibleObject.checkAccess (AccessibleObject.java:347)\n",
    "|        at Field.get (Field.java:406)\n",
    "|        at (#313:1)"
   ]
  },
  {
   "cell_type": "code",
   "execution_count": null,
   "metadata": {
    "slideshow": {
     "slide_type": "subslide"
    }
   },
   "outputs": [],
   "source": [
    "indexField.setAccessible(true);\n",
    "indexField.get(dummyIterator);\n",
    "indexField.set(dummyIterator,2);"
   ]
  },
  {
   "cell_type": "markdown",
   "metadata": {
    "slideshow": {
     "slide_type": "fragment"
    }
   },
   "source": [
    "<img src=\"img/mouth.jpg\"/>"
   ]
  },
  {
   "cell_type": "markdown",
   "metadata": {
    "slideshow": {
     "slide_type": "subslide"
    }
   },
   "source": [
    "# Dostęp do wszystkich składowych prywatnych\n",
    "\n",
    "* getDeclaredMethod(...)\n",
    "* getDeclaredMethods()\n",
    "* getDeclaredConstructor(...)\n",
    "* getDeclaredConstructors()\n",
    "* getDeclaredField(...)\n",
    "* getDeclaredFields()\n",
    "\n",
    "Uwaga: składowe dziedziczone nie są zwracane"
   ]
  },
  {
   "cell_type": "markdown",
   "metadata": {
    "slideshow": {
     "slide_type": "slide"
    }
   },
   "source": [
    "# Dynamiczne proxy"
   ]
  },
  {
   "cell_type": "code",
   "execution_count": null,
   "metadata": {
    "slideshow": {
     "slide_type": "slide"
    }
   },
   "outputs": [],
   "source": [
    "import java.lang.reflect.*;\n",
    "\n",
    "class MethodReplayer implements InvocationHandler {\n",
    "    private List<String> list = new LinkedList<>();\n",
    "    private List<Method> invokedMethods = new LinkedList<>();\n",
    "    private List<Object[]> invokedArguments = new LinkedList<>();\n",
    "\n",
    "    public Object invoke(Object proxy, Method method, Object[] args) \n",
    "            throws Throwable{\n",
    "        if(!method.getName().equals(\"toString\")){\n",
    "            invokedMethods.add(method);\n",
    "            invokedArguments.add(args);\n",
    "        }\n",
    "        return method.invoke(list, args);\n",
    "    }\n",
    "\n",
    "    public void replay() throws Throwable {\n",
    "        for(int i = 0; i < invokedMethods.size(); i++){\n",
    "            invokedMethods.get(i).invoke(list, invokedArguments.get(i));\n",
    "        }\n",
    "    }\n",
    "}"
   ]
  },
  {
   "cell_type": "code",
   "execution_count": null,
   "metadata": {
    "slideshow": {
     "slide_type": "subslide"
    }
   },
   "outputs": [],
   "source": [
    "import static java.lang.reflect.Proxy.newProxyInstance;\n",
    "\n",
    "MethodReplayer replayer = new MethodReplayer();\n",
    "List<String> list = (List<String>) newProxyInstance(List.class.getClassLoader(),\n",
    "        new Class[] { List.class },\n",
    "        replayer);\n",
    "\n",
    "list.add(\"dog\");\n",
    "list.add(\"cat\");\n",
    "System.out.println(list);\n",
    "\n",
    "replayer.replay();\n",
    "System.out.println(list);"
   ]
  },
  {
   "cell_type": "markdown",
   "metadata": {
    "slideshow": {
     "slide_type": "subslide"
    }
   },
   "source": [
    "<img src=\"img/cat3.jpg\"/>"
   ]
  },
  {
   "cell_type": "markdown",
   "metadata": {
    "slideshow": {
     "slide_type": "slide"
    }
   },
   "source": [
    "# Uchwyty do metod\n",
    "\n",
    "* w API refleksji sygnatura argumentów metody jest wskazywana przez `Class[]`\n",
    "* w nowym API mamy nowy typ `MethodType`:\n",
    "  * brak nazwy metody\n",
    "  * brak typu adresata\n",
    "  * tylko typy argumentów oraz typ zwracanej wartości"
   ]
  },
  {
   "cell_type": "code",
   "execution_count": null,
   "metadata": {
    "slideshow": {
     "slide_type": "subslide"
    }
   },
   "outputs": [],
   "source": [
    "import java.lang.invoke.*;\n",
    "import java.lang.invoke.MethodHandles.Lookup;\n",
    "\n",
    "// np. String toString()\n",
    "MethodType toStringType = MethodType.methodType(String.class);\n",
    "\n",
    "// np. Integer parseInt(String str)\n",
    "MethodType fromStringToInt = MethodType.methodType(Integer.class, String.class);"
   ]
  },
  {
   "cell_type": "code",
   "execution_count": null,
   "metadata": {
    "slideshow": {
     "slide_type": "fragment"
    }
   },
   "outputs": [],
   "source": [
    "class CallMeMaybe {\n",
    "    public String toString(){\n",
    "        return \"call me maybe\";\n",
    "    }\n",
    "    \n",
    "    public Lookup getLookup(){\n",
    "        return MethodHandles.lookup();\n",
    "    }\n",
    "}"
   ]
  },
  {
   "cell_type": "code",
   "execution_count": null,
   "metadata": {
    "slideshow": {
     "slide_type": "fragment"
    }
   },
   "outputs": [],
   "source": [
    "CallMeMaybe maybe = new CallMeMaybe();\n",
    "Lookup maybeLookup = maybe.getLookup();\n",
    "\n",
    "MethodHandle maybeHandle = maybeLookup.findVirtual(CallMeMaybe.class, \n",
    "    \"toString\", toStringType);\n",
    "maybeHandle.invoke(maybe);"
   ]
  },
  {
   "cell_type": "markdown",
   "metadata": {
    "slideshow": {
     "slide_type": "slide"
    }
   },
   "source": [
    "<img src=\"img/ruby-horizontal.svg\"/>"
   ]
  },
  {
   "cell_type": "markdown",
   "metadata": {
    "slideshow": {
     "slide_type": "subslide"
    }
   },
   "source": [
    "# Pomoc wbudowana w REPLa"
   ]
  },
  {
   "cell_type": "code",
   "execution_count": null,
   "metadata": {
    "slideshow": {
     "slide_type": "-"
    }
   },
   "outputs": [],
   "source": [
    "[1] pry(main)> require 'hanami/model'\n",
    "=> true\n",
    "[2] pry(main)> ls Hanami::Entity\n",
    "constants: ClassMethods  Schema  Types\n",
    "Hanami::Entity.methods: inherited\n",
    "Hanami::Entity#methods: ==  freeze  hash  id  method_missing  to_h  to_hash\n",
    "[3] pry(main)>"
   ]
  },
  {
   "cell_type": "markdown",
   "metadata": {
    "slideshow": {
     "slide_type": "subslide"
    }
   },
   "source": [
    "# Informacja o typie"
   ]
  },
  {
   "cell_type": "code",
   "execution_count": null,
   "metadata": {
    "slideshow": {
     "slide_type": "-"
    }
   },
   "outputs": [],
   "source": [
    "#!ruby\n",
    "puts 1.class\n",
    "puts \"Ala ma kota\".class"
   ]
  },
  {
   "cell_type": "markdown",
   "metadata": {
    "slideshow": {
     "slide_type": "subslide"
    }
   },
   "source": [
    "# Weryfikacja przynależności do typu"
   ]
  },
  {
   "cell_type": "code",
   "execution_count": null,
   "metadata": {
    "slideshow": {
     "slide_type": "-"
    }
   },
   "outputs": [],
   "source": [
    "object = \"Ala ma kota\"\n",
    "if(object.is_a?(String))\n",
    "    puts \"Obiekt jest lancuchem znakow\"\n",
    "end"
   ]
  },
  {
   "cell_type": "code",
   "execution_count": null,
   "metadata": {
    "slideshow": {
     "slide_type": "fragment"
    }
   },
   "outputs": [],
   "source": [
    "# encoding: utf-8\n",
    "object = \"Ala ma kota\"\n",
    "if(String === object)\n",
    "    puts \"Obiekt jest łańcuchem znaków\"\n",
    "end"
   ]
  },
  {
   "cell_type": "code",
   "execution_count": null,
   "metadata": {
    "slideshow": {
     "slide_type": "fragment"
    }
   },
   "outputs": [],
   "source": [
    "# encoding: utf-8\n",
    "object = [1,2,3]\n",
    "case(object)\n",
    "when String\n",
    "  puts \"Obiekt jest łańuchem znaków\"\n",
    "when Array\n",
    "  puts \"Obiekt jest tablicą\"\n",
    "end"
   ]
  },
  {
   "cell_type": "markdown",
   "metadata": {
    "slideshow": {
     "slide_type": "subslide"
    }
   },
   "source": [
    "# Informacje o hierarchii klas"
   ]
  },
  {
   "cell_type": "code",
   "execution_count": null,
   "metadata": {
    "slideshow": {
     "slide_type": "-"
    }
   },
   "outputs": [],
   "source": [
    "class Animal\n",
    "end\n",
    "\n",
    "class Mammal < Animal\n",
    "end\n",
    "\n",
    "class Cat < Mammal\n",
    "end\n",
    "\n",
    "puts Cat.new.class.superclass"
   ]
  },
  {
   "cell_type": "code",
   "execution_count": null,
   "metadata": {
    "slideshow": {
     "slide_type": "fragment"
    }
   },
   "outputs": [],
   "source": [
    "def ancestors(klass, chain=[])\n",
    "  klass.superclass ? ancestors(klass.superclass, chain + [klass]) : chain.reverse\n",
    "end\n",
    "\n",
    "puts ancestors(Bat)"
   ]
  },
  {
   "cell_type": "code",
   "execution_count": null,
   "metadata": {
    "slideshow": {
     "slide_type": "subslide"
    }
   },
   "outputs": [],
   "source": [
    "class Whale < Mammal\n",
    "end\n",
    "\n",
    "class Reptile < Animal\n",
    "end\n",
    "\n",
    "class Snake < Reptile\n",
    "end"
   ]
  },
  {
   "cell_type": "code",
   "execution_count": null,
   "metadata": {
    "slideshow": {
     "slide_type": "fragment"
    }
   },
   "outputs": [],
   "source": [
    "def commonAncestor(klass1, klass2)\n",
    "  ancestors(klass1).zip(ancestors(klass2)).each_cons(2) do |(grandparent1, grandparent2), (parent1, parent2)|\n",
    "    return grandparent1 if parent1 != parent2 \n",
    "  end\n",
    "end"
   ]
  },
  {
   "cell_type": "code",
   "execution_count": null,
   "metadata": {
    "slideshow": {
     "slide_type": "fragment"
    }
   },
   "outputs": [],
   "source": [
    "puts commonAncestor(Bat, Whale)\n",
    "puts commonAncestor(Snake, Bat)\n",
    "puts commonAncestor(1.class, Bat)"
   ]
  },
  {
   "cell_type": "markdown",
   "metadata": {
    "slideshow": {
     "slide_type": "subslide"
    }
   },
   "source": [
    "# Dynamiczne ładowanie klas"
   ]
  },
  {
   "cell_type": "code",
   "execution_count": null,
   "metadata": {
    "slideshow": {
     "slide_type": "-"
    }
   },
   "outputs": [],
   "source": [
    "class Car\n",
    "  def go\n",
    "    puts \"Brum brum\"\n",
    "  end\n",
    "end\n",
    "\n",
    "class Airplane\n",
    "  def go\n",
    "    puts \"Bzzzzz\"\n",
    "  end\n",
    "end\n",
    "\n",
    "class Rocket\n",
    "  def go\n",
    "    puts \"BUUUUUUM\"\n",
    "  end\n",
    "end"
   ]
  },
  {
   "cell_type": "code",
   "execution_count": null,
   "metadata": {
    "slideshow": {
     "slide_type": "fragment"
    }
   },
   "outputs": [],
   "source": [
    "[\"Car\", \"Car\", \"Rocket\", \"Airplane\"].each do |classname|\n",
    "  Class.const_get(classname).new.go\n",
    "end"
   ]
  },
  {
   "cell_type": "markdown",
   "metadata": {
    "slideshow": {
     "slide_type": "subslide"
    }
   },
   "source": [
    "# Refleksja"
   ]
  },
  {
   "cell_type": "code",
   "execution_count": null,
   "metadata": {
    "slideshow": {
     "slide_type": "-"
    }
   },
   "outputs": [],
   "source": [
    "puts Car.new.public_methods.sort"
   ]
  },
  {
   "cell_type": "code",
   "execution_count": null,
   "metadata": {
    "slideshow": {
     "slide_type": "fragment"
    }
   },
   "outputs": [],
   "source": [
    "puts (Car.new.public_methods - 1.public_methods).sort"
   ]
  },
  {
   "cell_type": "code",
   "execution_count": null,
   "metadata": {
    "slideshow": {
     "slide_type": "subslide"
    }
   },
   "outputs": [],
   "source": [
    "class Bike\n",
    "  def initialize\n",
    "    @speed = 0\n",
    "  end\n",
    "\n",
    "  def go\n",
    "    @speed = 10\n",
    "  end\n",
    "\n",
    "  def stop\n",
    "    @speed = 0\n",
    "  end\n",
    "\n",
    "  def riding?\n",
    "    @speed > 0\n",
    "  end\n",
    "\n",
    "  def instance_variable_set(name, value)\n",
    "    raise \"Don't do it!\"\n",
    "  end\n",
    "end"
   ]
  },
  {
   "cell_type": "code",
   "execution_count": null,
   "metadata": {
    "slideshow": {
     "slide_type": "fragment"
    }
   },
   "outputs": [],
   "source": [
    "puts Bike.new.instance_variables"
   ]
  },
  {
   "cell_type": "markdown",
   "metadata": {
    "slideshow": {
     "slide_type": "subslide"
    }
   },
   "source": [
    "# Dynamiczne wywoływanie metod"
   ]
  },
  {
   "cell_type": "code",
   "execution_count": null,
   "metadata": {
    "slideshow": {
     "slide_type": "-"
    }
   },
   "outputs": [],
   "source": [
    "bike = Bike.new\n",
    "puts bike.public_send(\"riding?\")\n",
    "bike.public_send(\"go\")\n",
    "puts bike.public_send(\"riding?\")"
   ]
  },
  {
   "cell_type": "code",
   "execution_count": null,
   "metadata": {
    "slideshow": {
     "slide_type": "fragment"
    }
   },
   "outputs": [],
   "source": [
    "bike = Bike.new\n",
    "#bike.public_send(\"initialize\")\n",
    "bike.send(\"initialize\")"
   ]
  },
  {
   "cell_type": "code",
   "execution_count": null,
   "metadata": {
    "slideshow": {
     "slide_type": "fragment"
    }
   },
   "outputs": [],
   "source": [
    "bike = Bike.new\n",
    "bike.send(\"initialize\")"
   ]
  },
  {
   "cell_type": "markdown",
   "metadata": {
    "slideshow": {
     "slide_type": "subslide"
    }
   },
   "source": [
    "# Dynamiczny dostęp do pól"
   ]
  },
  {
   "cell_type": "code",
   "execution_count": null,
   "metadata": {
    "slideshow": {
     "slide_type": "-"
    }
   },
   "outputs": [],
   "source": [
    "bike = Bike.new\n",
    "puts bike.instance_variable_get(\"@speed\")\n",
    "bike.instance_variable_set(\"@speed\", 10)\n",
    "puts bike.instance_variable_get(\"@speed\")"
   ]
  },
  {
   "cell_type": "markdown",
   "metadata": {
    "slideshow": {
     "slide_type": "subslide"
    }
   },
   "source": [
    "# Dynamiczne proxy"
   ]
  },
  {
   "cell_type": "code",
   "execution_count": null,
   "metadata": {
    "slideshow": {
     "slide_type": "-"
    }
   },
   "outputs": [],
   "source": [
    "class Wrapper\n",
    "  def initialize(object)\n",
    "    @object = object\n",
    "    @invocations = []\n",
    "  end\n",
    "\n",
    "  def method_missing(*arguments)\n",
    "    @invocations << arguments \n",
    "    @object.public_send(*arguments)\n",
    "  end\n",
    "\n",
    "  def replay\n",
    "    @invocations.each do |arguments|\n",
    "      @object.public_send(*arguments)\n",
    "    end\n",
    "  end\n",
    "end"
   ]
  },
  {
   "cell_type": "code",
   "execution_count": null,
   "metadata": {
    "slideshow": {
     "slide_type": "fragment"
    }
   },
   "outputs": [],
   "source": [
    "wrapper = Wrapper.new([])\n",
    "wrapper << 1\n",
    "wrapper << 2\n",
    "wrapper << 3\n",
    "puts wrapper.to_a.join(\", \")\n",
    "\n",
    "wrapper.replay\n",
    "\n",
    "puts wrapper.to_a.join(\", \")"
   ]
  },
  {
   "cell_type": "markdown",
   "metadata": {
    "slideshow": {
     "slide_type": "slide"
    }
   },
   "source": [
    "![Pytania? ](http://cliparts.co/cliparts/qcB/jqg/qcBjqgxc5.jpg)"
   ]
  }
 ],
 "metadata": {
  "celltoolbar": "Slideshow",
  "kernelspec": {
   "display_name": "SciJava",
   "language": "groovy",
   "name": "scijava"
  },
  "language_info": {
   "codemirror_mode": "groovy",
   "file_extension": "",
   "mimetype": "",
   "name": "scijava",
   "nbconverter_exporter": "",
   "pygments_lexer": "groovy",
   "version": "1.0"
  }
 },
 "nbformat": 4,
 "nbformat_minor": 1
}
