{
 "cells": [
  {
   "cell_type": "markdown",
   "metadata": {
    "slideshow": {
     "slide_type": "slide"
    }
   },
   "source": [
    "# Refleksja w Javie\n",
    "\n",
    "## Dostęp do informacji o typie, polach i metodach, dynamiczne ładowanie klas\n",
    "\n",
    "<br/>\n",
    "\n",
    "## dr inż. Aleksander Smywiński-Pohl\n",
    "\n",
    "## apohllo@agh.edu.pl\n",
    "\n",
    "## http://apohllo.pl/dydaktyka/programowanie-obiektowe\n",
    "\n",
    "## konsultacje: wtorek 15:30 - 18:00, pokój 4.61"
   ]
  },
  {
   "cell_type": "code",
   "execution_count": null,
   "metadata": {
    "slideshow": {
     "slide_type": "subslide"
    }
   },
   "outputs": [],
   "source": [
    "class A {\n",
    "    private int a = 0;\n",
    "    class B {\n",
    "        private int a = 10;\n",
    "        \n",
    "        public void print(){\n",
    "            System.out.println(a);\n",
    "            System.out.println(this.a);\n",
    "        }\n",
    "    }\n",
    "    \n",
    "    public void print(){\n",
    "        new B().print();\n",
    "    }\n",
    "}\n",
    "\n",
    "new A().print();"
   ]
  },
  {
   "cell_type": "markdown",
   "metadata": {
    "slideshow": {
     "slide_type": "slide"
    }
   },
   "source": [
    "## *Ignoratia juris nocet*\n",
    "\n",
    "### Nieznajomość prawa szkodzi (sentencja łacińska)"
   ]
  },
  {
   "cell_type": "markdown",
   "metadata": {
    "slideshow": {
     "slide_type": "subslide"
    }
   },
   "source": [
    "<img src=\"img/artemida.jpg\" width=\"900\"/>"
   ]
  },
  {
   "cell_type": "markdown",
   "metadata": {
    "slideshow": {
     "slide_type": "subslide"
    }
   },
   "source": [
    "# Kodeks wykroczeń\n",
    "\n",
    "Art. 124. § 1. Kto cudzą rzecz umyślnie niszczy, uszkadza lub czyni niezdatną do użytku, jeżeli szkoda nie przekracza 250 złotych,podlega karze aresztu, ograniczenia wolności albo grzywny.\n",
    "\n",
    "§ 2. Usiłowanie, podżeganie i pomocnictwo są karalne.\n",
    "\n",
    "§ 3. Ściganie następuje na żądanie pokrzywdzonego.\n",
    "\n",
    "§ 4. W razie popełnienia wykroczenia można orzec obowiązek zapłaty równowartości wyrządzonej szkody lub obowiązek przywrócenia do stanu poprzedniego."
   ]
  },
  {
   "cell_type": "markdown",
   "metadata": {
    "slideshow": {
     "slide_type": "subslide"
    }
   },
   "source": [
    "# Kodeks karny\n",
    "\n",
    "Art. 267. § 1. Kto bez uprawnienia uzyskuje dostęp do informacji dla niego nieprzeznaczonej, otwierając zamknięte pismo, podłączając się do sieci telekomunikacyjnej lub przełamując albo omijając elektroniczne, magnetyczne, informatyczne lub inne szczególne jej zabezpieczenie, podlega grzywnie, karze ograniczenia wolności albo pozbawienia wolności do lat 2.\n",
    "\n",
    "§ 2. Tej samej karze podlega, kto bez uprawnienia uzyskuje dostęp do całości lub części systemu informatycznego.\n",
    "\n",
    "§ 3. Tej samej karze podlega, kto w celu uzyskania informacji, do której nie jest uprawniony, zakłada lub posługuje się urządzeniem podsłuchowym, wizualnym albo innym urządzeniem lub oprogramowaniem.\n",
    "\n",
    "§ 4. Tej samej karze podlega, kto informację uzyskaną w sposób określony w § 1-3 ujawnia innej osobie.\n",
    "\n",
    "§ 5. Ściganie przestępstwa określonego w § 1-4 następuje na wniosek pokrzywdzonego."
   ]
  },
  {
   "cell_type": "markdown",
   "metadata": {
    "slideshow": {
     "slide_type": "subslide"
    }
   },
   "source": [
    "Art. 268. § 1. Kto, nie będąc do tego uprawnionym, niszczy, uszkadza, usuwa lub zmienia zapis istotnej informacji albo w inny sposób udaremnia lub znacznie utrudnia osobie uprawnionej zapoznanie się z nią, podlega grzywnie, karze ograniczenia wolności albo pozbawienia wolności do lat 2.\n",
    "\n",
    "§ 2. Jeżeli czyn określony w § 1 dotyczy zapisu na informatycznym nośniku danych, sprawca podlega karze pozbawienia wolności do lat 3.\n",
    "\n",
    "§ 3. Kto, dopuszczając się czynu określonego w § 1 lub 2, wyrządza znaczną szkodę majątkową, podlega karze pozbawienia wolności od 3 miesięcy do lat 5."
   ]
  },
  {
   "cell_type": "markdown",
   "metadata": {
    "slideshow": {
     "slide_type": "subslide"
    }
   },
   "source": [
    "Art. 268a. § 1. Kto, nie będąc do tego uprawnionym, niszczy, uszkadza, usuwa, zmienia lub utrudnia dostęp do danych informatycznych albo w istotnym stopniu zakłóca lub uniemożliwia automatyczne przetwarzanie, gromadzenie lub przekazywanie takich danych, podlega karze pozbawienia wolności do lat 3.\n",
    "\n",
    "§ 2. Kto, dopuszczając się czynu określonego w § 1, wyrządza znaczną szkodę majątkową, podlega karze pozbawienia wolności od 3 miesięcy do lat 5."
   ]
  },
  {
   "cell_type": "markdown",
   "metadata": {
    "slideshow": {
     "slide_type": "subslide"
    }
   },
   "source": [
    "Art. 269b. § 1. Kto wytwarza, pozyskuje, zbywa lub udostępnia innym osobom urządzenia lub programy komputerowe przystosowane do popełnienia przestępstwa określonego w art. 165 § 1 pkt 4, art. 267 § 3, art. 268a § 1 albo § 2 w związku z § 1, art. 269 § 2 albo art. 269a, a także hasła komputerowe, kody dostępu lub inne dane umożliwiające dostęp do informacji przechowywanych w systemie komputerowym lub sieci teleinformatycznej, podlega karze pozbawienia wolności do lat 3.\n",
    "\n",
    "§ 2. W razie skazania za przestępstwo określone w § 1, sąd orzeka przepadek określonych w nim przedmiotów, a może orzec ich przepadek, jeżeli nie stanowiły własności sprawcy"
   ]
  },
  {
   "cell_type": "markdown",
   "metadata": {
    "slideshow": {
     "slide_type": "subslide"
    }
   },
   "source": [
    "<img src=\"img/wypadki.jpg\" width=\"800\"/>"
   ]
  },
  {
   "cell_type": "markdown",
   "metadata": {
    "slideshow": {
     "slide_type": "slide"
    }
   },
   "source": [
    "<img src=\"img/java_log.png\" style=\"height: 700px\"/>"
   ]
  },
  {
   "cell_type": "code",
   "execution_count": null,
   "metadata": {
    "slideshow": {
     "slide_type": "subslide"
    }
   },
   "outputs": [],
   "source": [
    "class DummyIterator implements Iterator {\n",
    "    private int index = 0;\n",
    "    \n",
    "    @Override\n",
    "    public boolean hasNext(){\n",
    "        return false;\n",
    "    }\n",
    "    \n",
    "    @Override\n",
    "    public Object next(){\n",
    "        return null;\n",
    "    }\n",
    "}"
   ]
  },
  {
   "cell_type": "code",
   "execution_count": null,
   "metadata": {
    "slideshow": {
     "slide_type": "fragment"
    }
   },
   "outputs": [],
   "source": [
    "javac DummyIterator.java"
   ]
  },
  {
   "cell_type": "code",
   "execution_count": null,
   "metadata": {
    "slideshow": {
     "slide_type": "subslide"
    }
   },
   "outputs": [],
   "source": [
    "cat DummyIterator.class"
   ]
  },
  {
   "cell_type": "markdown",
   "metadata": {
    "slideshow": {
     "slide_type": "fragment"
    }
   },
   "source": [
    "```\n",
    "����4\u0017\n",
    "\u0004\u0012\t\u0003\u0013\u0014\u0015\u0016\u0001index\u0001\u0001I\u0001\u0006<init>\u0001\u0003()V\u0001\u0004Code\u0001LineNumberTable\u0001hasNext\u0001\u0003()Z\u0001\u0004next\u0001\u0014()Ljava/lang/Object;\u0001\n",
    "SourceFile\u0001\u0012DummyIterator.java\n",
    "                             \t\n",
    "DummyIterator\u0001\u0010java/lang/Object\u0001\u0012java/util/Iterator \u0003\u0004\u0001\u0001\u0002\u0006\u0003     \u0001\n",
    "&\u0002\u0001\n",
    "*�\u0001*\u0003�\u0002�\u0001\n",
    "\n",
    "\u0002\u0003\u0004\u0004\u0001\n",
    "\u0001\n",
    "\u001a\u0001\u0001\u0002\u0003�\u0001\n",
    "       \u0006\u0001\u0001\n",
    "\u001a\u0001\u0001\u0002\u0001�\u0001\n",
    "\u0001\u0010\u0002\u0011%        \n",
    "```"
   ]
  },
  {
   "cell_type": "code",
   "execution_count": null,
   "metadata": {
    "slideshow": {
     "slide_type": "subslide"
    }
   },
   "outputs": [],
   "source": [
    "javap DummyIterator"
   ]
  },
  {
   "cell_type": "code",
   "execution_count": null,
   "metadata": {
    "slideshow": {
     "slide_type": "fragment"
    }
   },
   "outputs": [],
   "source": [
    "Compiled from \"DummyIterator.java\"\n",
    "class DummyIterator implements java.util.Iterator {\n",
    "  DummyIterator();\n",
    "  public boolean hasNext();\n",
    "  public java.lang.Object next();\n",
    "}"
   ]
  },
  {
   "cell_type": "markdown",
   "metadata": {
    "slideshow": {
     "slide_type": "slide"
    }
   },
   "source": [
    "# Informacje o typie"
   ]
  },
  {
   "cell_type": "code",
   "execution_count": null,
   "metadata": {
    "slideshow": {
     "slide_type": "-"
    }
   },
   "outputs": [],
   "source": [
    "import static java.lang.System.out;\n",
    "\n",
    "out.println(int.class);\n",
    "out.println(Integer.class);\n",
    "out.println(\"Ala ma kota\".getClass());\n",
    "out.println(new String[0].getClass());\n",
    "out.println(new DummyIterator().getClass());"
   ]
  },
  {
   "cell_type": "markdown",
   "metadata": {
    "slideshow": {
     "slide_type": "subslide"
    }
   },
   "source": [
    "# Weryfikacja przynależności do typu"
   ]
  },
  {
   "cell_type": "code",
   "execution_count": null,
   "metadata": {
    "slideshow": {
     "slide_type": "-"
    }
   },
   "outputs": [],
   "source": [
    "Object text = \"To kot, a to Ala\";\n",
    "if(text.getClass().equals(String.class)){\n",
    "   out.println(\"Obiekt jest stringiem\");\n",
    "}"
   ]
  },
  {
   "cell_type": "code",
   "execution_count": null,
   "metadata": {
    "slideshow": {
     "slide_type": "subslide"
    }
   },
   "outputs": [],
   "source": [
    "Object iterator = new DummyIterator();\n",
    "if(iterator.getClass().equals(Iterator.class)) {\n",
    "    out.println(\"Obiekt jest iteratorem\");\n",
    "}"
   ]
  },
  {
   "cell_type": "code",
   "execution_count": null,
   "metadata": {
    "slideshow": {
     "slide_type": "fragment"
    }
   },
   "outputs": [],
   "source": [
    "if(iterator instanceof Iterator) {\n",
    "    out.println(\"Obiekt implementuje interfejs iterator\");\n",
    "}"
   ]
  },
  {
   "cell_type": "markdown",
   "metadata": {
    "slideshow": {
     "slide_type": "subslide"
    }
   },
   "source": [
    "# Klasa nadrzędna"
   ]
  },
  {
   "cell_type": "code",
   "execution_count": null,
   "metadata": {
    "slideshow": {
     "slide_type": "-"
    }
   },
   "outputs": [],
   "source": [
    "out.println(new DummyIterator().getClass());\n",
    "out.println(new DummyIterator().getClass().getClass().getClass().getSuperclass());"
   ]
  },
  {
   "cell_type": "markdown",
   "metadata": {
    "slideshow": {
     "slide_type": "subslide"
    }
   },
   "source": [
    "# Wspólna klasa nadrzędna"
   ]
  },
  {
   "cell_type": "code",
   "execution_count": null,
   "metadata": {
    "slideshow": {
     "slide_type": "-"
    }
   },
   "outputs": [],
   "source": [
    "class Animal {}\n",
    "class Mammal extends Animal {}\n",
    "class Cat extends Mammal {}\n",
    "class Whale extends Mammal {}\n",
    "class Reptile extends Animal {}\n",
    "class Snake extends Reptile {}"
   ]
  },
  {
   "cell_type": "code",
   "execution_count": null,
   "metadata": {
    "slideshow": {
     "slide_type": "fragment"
    }
   },
   "outputs": [],
   "source": [
    "List<Class<?>> ancestors(Class<?> klass){\n",
    "    var result = new LinkedList<Class<?>>();\n",
    "    while(klass != Object.class){\n",
    "        result.add(klass);\n",
    "        klass = klass.getSuperclass();\n",
    "    }\n",
    "    result.add(Object.class);\n",
    "    Collections.reverse(result);\n",
    "    return result;\n",
    "}"
   ]
  },
  {
   "cell_type": "code",
   "execution_count": null,
   "metadata": {
    "slideshow": {
     "slide_type": "fragment"
    }
   },
   "outputs": [],
   "source": [
    "ancestors(Snake.class);"
   ]
  },
  {
   "cell_type": "code",
   "execution_count": null,
   "metadata": {
    "slideshow": {
     "slide_type": "subslide"
    }
   },
   "outputs": [],
   "source": [
    "Class<?> commonAncestor(Class<?> aClass, Class<?> bClass){\n",
    "    var aAncestors = ancestors(aClass);\n",
    "    var bAncestors = ancestors(bClass);\n",
    "    for(int i = 0; i < aAncestors.size() && i < bAncestors.size(); i++){\n",
    "        if(aAncestors.get(i) != bAncestors.get(i)){\n",
    "            return aAncestors.get(i-1);\n",
    "        }\n",
    "    }\n",
    "    return aAncestors.get(aAncestors.size()-1);\n",
    "}"
   ]
  },
  {
   "cell_type": "code",
   "execution_count": null,
   "metadata": {
    "slideshow": {
     "slide_type": "fragment"
    }
   },
   "outputs": [],
   "source": [
    "out.println(commonAncestor(Cat.class, Snake.class));\n",
    "out.println(commonAncestor(Cat.class, Whale.class));"
   ]
  },
  {
   "cell_type": "markdown",
   "metadata": {
    "slideshow": {
     "slide_type": "subslide"
    }
   },
   "source": [
    "<img src=\"img/cat1.jpg\" width=\"800\"/>"
   ]
  },
  {
   "cell_type": "markdown",
   "metadata": {
    "slideshow": {
     "slide_type": "slide"
    }
   },
   "source": [
    "# Dynamiczne ładowanie klas"
   ]
  },
  {
   "cell_type": "code",
   "execution_count": null,
   "metadata": {
    "slideshow": {
     "slide_type": "slide"
    }
   },
   "outputs": [],
   "source": [
    "interface IVehicle {\n",
    "    void go();\n",
    "}"
   ]
  },
  {
   "cell_type": "code",
   "execution_count": null,
   "metadata": {
    "slideshow": {
     "slide_type": "fragment"
    }
   },
   "outputs": [],
   "source": [
    "class Car implements IVehicle {\n",
    "    public void go(){\n",
    "        out.println(\"Brum, brum\");\n",
    "    }\n",
    "}\n",
    "Car.class"
   ]
  },
  {
   "cell_type": "code",
   "execution_count": null,
   "metadata": {
    "slideshow": {
     "slide_type": "fragment"
    }
   },
   "outputs": [],
   "source": [
    "class Airplane implements IVehicle {\n",
    "    public void go(){\n",
    "        out.println(\"Bzzzzzz\");\n",
    "    }\n",
    "}\n",
    "Airplane.class"
   ]
  },
  {
   "cell_type": "code",
   "execution_count": null,
   "metadata": {
    "slideshow": {
     "slide_type": "fragment"
    }
   },
   "outputs": [],
   "source": [
    "class Rocket implements IVehicle {\n",
    "    public void go(){\n",
    "        out.println(\"BUUUUUUUUUUUM\");\n",
    "    }\n",
    "}\n",
    "Rocket.class"
   ]
  },
  {
   "cell_type": "code",
   "execution_count": null,
   "metadata": {
    "slideshow": {
     "slide_type": "subslide"
    }
   },
   "outputs": [],
   "source": [
    "class VehicleSystem {\n",
    "    public static void main(String[] args){\n",
    "        var vehicles = new LinkedList<IVehicle>();\n",
    "        for(String vehicleName : args){\n",
    "            try {\n",
    "                var klass = (Class<IVehicle>) Class.forName(vehicleName);\n",
    "                vehicles.add(klass.newInstance());\n",
    "            } catch(ClassNotFoundException ex) {\n",
    "                System.out.println(\"The class \" + vehicleName +  \n",
    "                                   \" has not been found. \");\n",
    "                return;\n",
    "            } catch(InstantiationException | IllegalAccessException ex) {\n",
    "                System.out.println(\"The class \" + vehicleName +  \n",
    "                                   \" cannot be instantiated. \");\n",
    "                return;\n",
    "            }\n",
    "            \n",
    "        }\n",
    "        for(IVehicle vehicle : vehicles) {\n",
    "            vehicle.go();\n",
    "        }\n",
    "    }\n",
    "}"
   ]
  },
  {
   "cell_type": "code",
   "execution_count": null,
   "metadata": {
    "slideshow": {
     "slide_type": "fragment"
    }
   },
   "outputs": [],
   "source": [
    "String[] classes = {\"REPL.$JShell$55G$Car\", \"REPL.$JShell$57J$Rocket\", \n",
    "                    \"REPL.$JShell$56J$Airplane\", \"REPL.$JShell$55G$Car\"};\n",
    "VehicleSystem.main(classes);"
   ]
  },
  {
   "cell_type": "markdown",
   "metadata": {
    "slideshow": {
     "slide_type": "subslide"
    }
   },
   "source": [
    "<img src=\"img/cat2.jpg\"/>"
   ]
  },
  {
   "cell_type": "markdown",
   "metadata": {
    "slideshow": {
     "slide_type": "slide"
    }
   },
   "source": [
    "# Dostęp do składowych\n",
    "\n",
    "* newInstance()\n",
    "* getMethod(...)\n",
    "* getMethods()\n",
    "* getConstructor(...)\n",
    "* getConstructors()\n",
    "* getField(...)\n",
    "* getFields()"
   ]
  },
  {
   "cell_type": "code",
   "execution_count": null,
   "metadata": {
    "slideshow": {
     "slide_type": "subslide"
    }
   },
   "outputs": [],
   "source": [
    "void prettyPrint(Object[] elements){\n",
    "    for(Object element : elements)\n",
    "        out.println(element);\n",
    "}"
   ]
  },
  {
   "cell_type": "code",
   "execution_count": null,
   "metadata": {
    "slideshow": {
     "slide_type": "fragment"
    }
   },
   "outputs": [],
   "source": [
    "Class<?> klass = DummyIterator.class;\n",
    "\n",
    "prettyPrint(klass.getMethods());"
   ]
  },
  {
   "cell_type": "code",
   "execution_count": null,
   "metadata": {
    "slideshow": {
     "slide_type": "fragment"
    }
   },
   "outputs": [],
   "source": [
    "prettyPrint(klass.getConstructors());"
   ]
  },
  {
   "cell_type": "code",
   "execution_count": null,
   "metadata": {
    "slideshow": {
     "slide_type": "fragment"
    }
   },
   "outputs": [],
   "source": [
    "prettyPrint(klass.getFields());"
   ]
  },
  {
   "cell_type": "markdown",
   "metadata": {
    "slideshow": {
     "slide_type": "subslide"
    }
   },
   "source": [
    "# Dynamiczne tworzenie instancji"
   ]
  },
  {
   "cell_type": "code",
   "execution_count": null,
   "metadata": {
    "slideshow": {
     "slide_type": "-"
    }
   },
   "outputs": [],
   "source": [
    "import java.lang.reflect.*;\n",
    "\n",
    "Class<?> klass = DummyIterator.class;\n",
    "Constructor constructor = klass.getConstructor(new Class<?>[0]);\n",
    "Iterator dummyIterator = (Iterator) constructor.newInstance();\n",
    "\n",
    "out.println(dummyIterator);"
   ]
  },
  {
   "cell_type": "code",
   "execution_count": null,
   "metadata": {
    "slideshow": {
     "slide_type": "subslide"
    }
   },
   "outputs": [],
   "source": [
    "class DummyIterator implements Iterator {\n",
    "    private int index = 0;\n",
    "    \n",
    "    public DummyIterator(){\n",
    "    }\n",
    "    \n",
    "    public DummyIterator(int index){\n",
    "        this.index = index;\n",
    "    }\n",
    "\n",
    "    @Override\n",
    "    public boolean hasNext(){\n",
    "        return false;\n",
    "    }\n",
    "\n",
    "    @Override\n",
    "    public Object next(){\n",
    "        return null;\n",
    "    }\n",
    "    \n",
    "    public String toString(){\n",
    "        return \"DummyIterator[\" + this.index + \"]\";\n",
    "    }\n",
    "}"
   ]
  },
  {
   "cell_type": "code",
   "execution_count": null,
   "metadata": {
    "slideshow": {
     "slide_type": "subslide"
    }
   },
   "outputs": [],
   "source": [
    "Class<?> klass = DummyIterator.class;\n",
    "\n",
    "Constructor constructor = klass.getConstructor(new Class<?>[]{int.class});\n",
    "Iterator dummyIterator = (Iterator) constructor.newInstance(1);\n",
    "\n",
    "out.println(dummyIterator);"
   ]
  },
  {
   "cell_type": "markdown",
   "metadata": {
    "slideshow": {
     "slide_type": "subslide"
    }
   },
   "source": [
    "# Dynamiczne wywołanie metody"
   ]
  },
  {
   "cell_type": "code",
   "execution_count": null,
   "metadata": {
    "slideshow": {
     "slide_type": "-"
    }
   },
   "outputs": [],
   "source": [
    "Method hasNextMethod = klass.getMethod(\"hasNext\", new Class<?>[0]);\n",
    "out.println(hasNextMethod.getName());\n",
    "out.println(hasNextMethod.getParameterTypes());"
   ]
  },
  {
   "cell_type": "code",
   "execution_count": null,
   "metadata": {
    "slideshow": {
     "slide_type": "fragment"
    }
   },
   "outputs": [],
   "source": [
    "Constructor constructor = klass.getConstructor(new Class<?>[]{int.class});\n",
    "Iterator dummyIterator = (Iterator) constructor.newInstance(1);\n",
    "\n",
    "Method hasNextMethod = klass.getMethod(\"hasNext\", new Class<?>[0]);\n",
    "hasNextMethod.invoke(dummyIterator);"
   ]
  },
  {
   "cell_type": "markdown",
   "metadata": {
    "slideshow": {
     "slide_type": "subslide"
    }
   },
   "source": [
    "# Dynamiczny dostęp do pól"
   ]
  },
  {
   "cell_type": "code",
   "execution_count": null,
   "metadata": {
    "slideshow": {
     "slide_type": "-"
    }
   },
   "outputs": [],
   "source": [
    "Field indexField = klass.getField(\"index\");\n",
    "indexField.getName();\n",
    "indexField.getModifiers();"
   ]
  },
  {
   "cell_type": "code",
   "execution_count": null,
   "metadata": {
    "slideshow": {
     "slide_type": "fragment"
    }
   },
   "outputs": [],
   "source": [
    "Field indexField = klass.getDeclaredField(\"index\");\n",
    "out.println(indexField.getName());\n",
    "out.println(indexField.getModifiers());"
   ]
  },
  {
   "cell_type": "code",
   "execution_count": null,
   "metadata": {
    "slideshow": {
     "slide_type": "subslide"
    }
   },
   "outputs": [],
   "source": [
    "Constructor constructor = klass.getConstructor(new Class<?>[]{int.class});\n",
    "Iterator dummyIterator = (Iterator) constructor.newInstance(1);\n",
    "\n",
    "Field indexField = klass.getDeclaredField(\"index\");\n",
    "indexField.get(dummyIterator);"
   ]
  },
  {
   "cell_type": "markdown",
   "metadata": {
    "slideshow": {
     "slide_type": "fragment"
    }
   },
   "source": [
    "http://kahoot.com"
   ]
  },
  {
   "cell_type": "code",
   "execution_count": null,
   "metadata": {
    "slideshow": {
     "slide_type": "subslide"
    }
   },
   "outputs": [],
   "source": [
    "indexField.setAccessible(true);\n",
    "out.println(indexField.get(dummyIterator));\n",
    "indexField.set(dummyIterator,2);\n",
    "out.println(indexField.get(dummyIterator));"
   ]
  },
  {
   "cell_type": "markdown",
   "metadata": {
    "slideshow": {
     "slide_type": "fragment"
    }
   },
   "source": [
    "<img src=\"img/mouth.jpg\" width=\"800\"/>"
   ]
  },
  {
   "cell_type": "markdown",
   "metadata": {
    "slideshow": {
     "slide_type": "subslide"
    }
   },
   "source": [
    "# Dostęp do wszystkich składowych prywatnych\n",
    "\n",
    "* getDeclaredMethod(...)\n",
    "* getDeclaredMethods()\n",
    "* getDeclaredConstructor(...)\n",
    "* getDeclaredConstructors()\n",
    "* getDeclaredField(...)\n",
    "* getDeclaredFields()\n",
    "\n",
    "Uwaga: składowe dziedziczone nie są zwracane"
   ]
  },
  {
   "cell_type": "markdown",
   "metadata": {
    "slideshow": {
     "slide_type": "slide"
    }
   },
   "source": [
    "# Dynamiczne proxy"
   ]
  },
  {
   "cell_type": "code",
   "execution_count": 1,
   "metadata": {
    "slideshow": {
     "slide_type": "slide"
    }
   },
   "outputs": [],
   "source": [
    "import java.lang.reflect.*;\n",
    "\n",
    "class MethodReplayer implements InvocationHandler {\n",
    "    private List<String> list = new LinkedList<>();\n",
    "    private List<Method> invokedMethods = new LinkedList<>();\n",
    "    private List<Object[]> invokedArguments = new LinkedList<>();\n",
    "\n",
    "    public Object invoke(Object proxy, Method method, Object[] args) \n",
    "            throws Throwable{\n",
    "        if(!method.getName().equals(\"toString\")){\n",
    "            invokedMethods.add(method);\n",
    "            invokedArguments.add(args);\n",
    "        }\n",
    "        return method.invoke(list, args);\n",
    "    }\n",
    "\n",
    "    public void replay() throws Throwable {\n",
    "        for(int i = 0; i < invokedMethods.size(); i++){\n",
    "            invokedMethods.get(i).invoke(list, invokedArguments.get(i));\n",
    "        }\n",
    "    }\n",
    "}"
   ]
  },
  {
   "cell_type": "code",
   "execution_count": 9,
   "metadata": {
    "slideshow": {
     "slide_type": "subslide"
    }
   },
   "outputs": [
    {
     "name": "stdout",
     "output_type": "stream",
     "text": [
      "[dog, cat]\n",
      "[dog, cat, dog, cat]\n"
     ]
    }
   ],
   "source": [
    "import static java.lang.reflect.Proxy.newProxyInstance;\n",
    "\n",
    "MethodReplayer replayer = new MethodReplayer();\n",
    "List<String> list = (List<String>) newProxyInstance(List.class.getClassLoader(),\n",
    "        new Class[] { List.class },\n",
    "        replayer);\n",
    "\n",
    "list.add(\"dog\");\n",
    "list.add(\"cat\");\n",
    "\n",
    "System.out.println(list);\n",
    "\n",
    "\n",
    "replayer.replay();\n",
    "System.out.println(list);"
   ]
  },
  {
   "cell_type": "markdown",
   "metadata": {
    "slideshow": {
     "slide_type": "subslide"
    }
   },
   "source": [
    "<img src=\"img/cat3.jpg\"/>"
   ]
  },
  {
   "cell_type": "markdown",
   "metadata": {
    "slideshow": {
     "slide_type": "slide"
    }
   },
   "source": [
    "# Uchwyty do metod\n",
    "\n",
    "* w API refleksji sygnatura argumentów metody jest wskazywana przez `Class[]`\n",
    "* w nowym API mamy nowy typ `MethodType`:\n",
    "  * brak nazwy metody\n",
    "  * brak typu adresata\n",
    "  * tylko typy argumentów oraz typ zwracanej wartości"
   ]
  },
  {
   "cell_type": "code",
   "execution_count": 12,
   "metadata": {
    "slideshow": {
     "slide_type": "subslide"
    }
   },
   "outputs": [],
   "source": [
    "import java.lang.invoke.*;\n",
    "import java.lang.invoke.MethodHandles.Lookup;\n",
    "\n",
    "// np. String toString()\n",
    "MethodType toStringType = MethodType.methodType(String.class);\n",
    "\n",
    "// np. Integer parseInt(String str)\n",
    "MethodType fromStringToInt = MethodType.methodType(Integer.class, String.class);"
   ]
  },
  {
   "cell_type": "code",
   "execution_count": 14,
   "metadata": {
    "slideshow": {
     "slide_type": "fragment"
    }
   },
   "outputs": [],
   "source": [
    "class CallMeMaybe {\n",
    "    public String toString(){\n",
    "        return \"call me maybe\";\n",
    "    }\n",
    "    \n",
    "    public Lookup getLookup(){\n",
    "        return MethodHandles.lookup();\n",
    "    }\n",
    "}"
   ]
  },
  {
   "cell_type": "code",
   "execution_count": 15,
   "metadata": {
    "slideshow": {
     "slide_type": "fragment"
    }
   },
   "outputs": [
    {
     "data": {
      "text/plain": [
       "call me maybe"
      ]
     },
     "execution_count": 15,
     "metadata": {},
     "output_type": "execute_result"
    }
   ],
   "source": [
    "CallMeMaybe maybe = new CallMeMaybe();\n",
    "Lookup maybeLookup = maybe.getLookup();\n",
    "\n",
    "MethodHandle maybeHandle = maybeLookup.findVirtual(CallMeMaybe.class, \"toString\", toStringType);\n",
    "maybeHandle.invoke(maybe);"
   ]
  },
  {
   "cell_type": "markdown",
   "metadata": {
    "slideshow": {
     "slide_type": "slide"
    }
   },
   "source": [
    "![Pytania? ](http://cliparts.co/cliparts/qcB/jqg/qcBjqgxc5.jpg)"
   ]
  }
 ],
 "metadata": {
  "celltoolbar": "Slideshow",
  "kernelspec": {
   "display_name": "Java",
   "language": "java",
   "name": "java"
  },
  "language_info": {
   "codemirror_mode": "java",
   "file_extension": ".java",
   "mimetype": "text/x-java-source",
   "name": "Java",
   "pygments_lexer": "java",
   "version": "10.0.2+13-Ubuntu-1ubuntu0.18.04.4"
  },
  "toc": {
   "base_numbering": 1,
   "nav_menu": {},
   "number_sections": false,
   "sideBar": true,
   "skip_h1_title": false,
   "title_cell": "Table of Contents",
   "title_sidebar": "Contents",
   "toc_cell": false,
   "toc_position": {},
   "toc_section_display": true,
   "toc_window_display": false
  }
 },
 "nbformat": 4,
 "nbformat_minor": 2
}
