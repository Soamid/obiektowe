{
 "cells": [
  {
   "cell_type": "markdown",
   "metadata": {
    "slideshow": {
     "slide_type": "slide"
    }
   },
   "source": [
    "# Podstawowe typy danych w Rubim\n",
    "\n",
    "<br/>\n",
    "\n",
    "## dr inż. Aleksander Smywiński-Pohl\n",
    "\n",
    "## apohllo@agh.edu.pl\n",
    "\n",
    "## http://apohllo.pl/dydaktyka/programowanie-obiektowe\n",
    "\n",
    "## konsultacje: środa 17-18"
   ]
  },
  {
   "cell_type": "markdown",
   "metadata": {
    "slideshow": {
     "slide_type": "slide"
    }
   },
   "source": [
    "<img src=\"img/ruby-horizontal.svg\" style=\"width: 800px\" />"
   ]
  },
  {
   "cell_type": "markdown",
   "metadata": {
    "slideshow": {
     "slide_type": "slide"
    }
   },
   "source": [
    "# Typ logiczny w Rubim"
   ]
  },
  {
   "cell_type": "code",
   "execution_count": 2,
   "metadata": {
    "ExecuteTime": {
     "end_time": "2022-10-20T14:57:51.444724Z",
     "start_time": "2022-10-20T14:57:51.428Z"
    },
    "slideshow": {
     "slide_type": "fragment"
    }
   },
   "outputs": [
    {
     "name": "stdout",
     "output_type": "stream",
     "text": [
      "Nil jest fałszem\n",
      "Fałsz jest fałszem\n"
     ]
    }
   ],
   "source": [
    "if(nil)\n",
    "  puts \"Nil jest prawdą\"\n",
    "else\n",
    "  puts \"Nil jest fałszem\"\n",
    "end\n",
    "  \n",
    "if(false)\n",
    "  puts \"Fałsz jest prawdą\"\n",
    "else\n",
    "  puts \"Fałsz jest fałszem\"\n",
    "end"
   ]
  },
  {
   "cell_type": "code",
   "execution_count": 3,
   "metadata": {
    "ExecuteTime": {
     "end_time": "2022-10-20T14:58:30.021392Z",
     "start_time": "2022-10-20T14:58:30.007Z"
    },
    "slideshow": {
     "slide_type": "subslide"
    }
   },
   "outputs": [
    {
     "name": "stderr",
     "output_type": "stream",
     "text": [
      "(pry):29: warning: string literal in condition\n"
     ]
    },
    {
     "name": "stdout",
     "output_type": "stream",
     "text": [
      "Prawda jest prawdą\n",
      "Łańcuch 'false' jest prawdą\n",
      "Zero jest prawdą\n"
     ]
    }
   ],
   "source": [
    "if(true)\n",
    "  puts \"Prawda jest prawdą\"\n",
    "end\n",
    "  \n",
    "if(\"false\")\n",
    "  puts \"Łańcuch 'false' jest prawdą\"\n",
    "end\n",
    "  \n",
    "if(0)\n",
    "  puts \"Zero jest prawdą\"\n",
    "end"
   ]
  },
  {
   "cell_type": "code",
   "execution_count": 5,
   "metadata": {
    "ExecuteTime": {
     "end_time": "2022-10-20T14:59:50.236776Z",
     "start_time": "2022-10-20T14:59:50.228Z"
    },
    "slideshow": {
     "slide_type": "fragment"
    }
   },
   "outputs": [
    {
     "name": "stdout",
     "output_type": "stream",
     "text": [
      "true\n",
      "\n"
     ]
    }
   ],
   "source": [
    "puts(true.to_s)\n",
    "puts(nil.to_s)"
   ]
  },
  {
   "cell_type": "markdown",
   "metadata": {
    "slideshow": {
     "slide_type": "slide"
    }
   },
   "source": [
    "# Wartości liczbowe"
   ]
  },
  {
   "cell_type": "code",
   "execution_count": 6,
   "metadata": {
    "ExecuteTime": {
     "end_time": "2022-10-20T15:01:08.546975Z",
     "start_time": "2022-10-20T15:01:08.538Z"
    },
    "slideshow": {
     "slide_type": "fragment"
    }
   },
   "outputs": [
    {
     "name": "stdout",
     "output_type": "stream",
     "text": [
      "100000000000000000000000000000000000000000000000000000000000000000000000000000000000000000000000000000000000000000000000000000000000000000000000000000000000000000000000000000000000000000000000000000000000000000000000000000000000000000000000000000000000000000000000000000000000000000000000000000000000000000000000000000000000000000000000000000000000000000000000000000000000000000000000000000000000000000000000000000000000000000000000000000000000000000000000000000000000000000000000000000000000000000000000000000000000000000000000000000000000000000000000000000000000000000000000000000000000000000000000000000000000000000000000000000000000000000000000000000000000000000000000000000000000000000000000000000000000000000000000000000000000000000000000000000000000000000000000000000000000000000000000000000000000000000000000000000000000000000000000000000000000000000000000000000000000000000000000000000000000000000000000000000000000000000000000000000000000000000000000000000000000000000000000000000000000000000000000000000000000000000000000000000000000000000000000000000000000000000000000000000000000000000000000000000000000000000000000000000000000000000000000000000000000000000000000000000000000000000000000000000000000000000000000000000000000000000000000000000000000000000000000000000000000000000000000000000000000000000000000000000000000000000000000000000000000000000000000000000000000000000000000000000000000000000000000000000000000000000000000000000000000000000000000000000000000000000000000000000000000000000000000000000000000000000000000000000000000000000000000000000000000000000000000000000000000000000000000000000000000000000000000000000000000000000000000000000000000000000000000000000000000000000000000000000000000000000000000000000000000000000000000000000000000000000000000000000000000000000000000000000000000000000000000000000000000000000000000000000000000000000000000000000000000000000000000000000000000000000000000000000000000000000000000000000000000000000000000000000000000000000000000000000000\n"
     ]
    }
   ],
   "source": [
    "puts 100 ** 1000"
   ]
  },
  {
   "cell_type": "code",
   "execution_count": 7,
   "metadata": {
    "ExecuteTime": {
     "end_time": "2022-10-20T15:02:01.326525Z",
     "start_time": "2022-10-20T15:02:01.317Z"
    },
    "slideshow": {
     "slide_type": "fragment"
    }
   },
   "outputs": [
    {
     "name": "stdout",
     "output_type": "stream",
     "text": [
      "11\n",
      "11.11111111111111\n"
     ]
    },
    {
     "data": {
      "text/plain": [
       "11.11111111111111"
      ]
     },
     "execution_count": 7,
     "metadata": {},
     "output_type": "execute_result"
    }
   ],
   "source": [
    "p(100 / 9)\n",
    "p(100 / 9.0)"
   ]
  },
  {
   "cell_type": "code",
   "execution_count": 8,
   "metadata": {
    "ExecuteTime": {
     "end_time": "2022-10-20T15:02:49.533268Z",
     "start_time": "2022-10-20T15:02:49.525Z"
    },
    "scrolled": true,
    "slideshow": {
     "slide_type": "subslide"
    }
   },
   "outputs": [
    {
     "name": "stdout",
     "output_type": "stream",
     "text": [
      "xxxxxxxxxx"
     ]
    },
    {
     "data": {
      "text/plain": [
       "10"
      ]
     },
     "execution_count": 8,
     "metadata": {},
     "output_type": "execute_result"
    }
   ],
   "source": [
    "10.times { print \"x\" }"
   ]
  },
  {
   "cell_type": "code",
   "execution_count": 9,
   "metadata": {
    "ExecuteTime": {
     "end_time": "2022-10-20T15:06:44.513838Z",
     "start_time": "2022-10-20T15:06:44.505Z"
    },
    "scrolled": true,
    "slideshow": {
     "slide_type": "subslide"
    }
   },
   "outputs": [
    {
     "name": "stdout",
     "output_type": "stream",
     "text": [
      "10\n"
     ]
    }
   ],
   "source": [
    "puts 10"
   ]
  },
  {
   "cell_type": "code",
   "execution_count": 10,
   "metadata": {
    "ExecuteTime": {
     "end_time": "2022-10-20T15:06:47.714363Z",
     "start_time": "2022-10-20T15:06:47.705Z"
    }
   },
   "outputs": [
    {
     "data": {
      "text/plain": [
       "\"1010\""
      ]
     },
     "execution_count": 10,
     "metadata": {},
     "output_type": "execute_result"
    }
   ],
   "source": [
    "\"10\" + \"10\""
   ]
  },
  {
   "cell_type": "code",
   "execution_count": 11,
   "metadata": {
    "ExecuteTime": {
     "end_time": "2022-10-20T15:08:18.966761Z",
     "start_time": "2022-10-20T15:08:18.956Z"
    },
    "slideshow": {
     "slide_type": "fragment"
    }
   },
   "outputs": [
    {
     "name": "stdout",
     "output_type": "stream",
     "text": [
      "2\n",
      "192\n"
     ]
    },
    {
     "data": {
      "text/plain": [
       "192"
      ]
     },
     "execution_count": 11,
     "metadata": {},
     "output_type": "execute_result"
    }
   ],
   "source": [
    "p \"10\".to_i(2)\n",
    "p \"c0\".to_i(16)"
   ]
  },
  {
   "cell_type": "code",
   "execution_count": 12,
   "metadata": {
    "ExecuteTime": {
     "end_time": "2022-10-20T15:12:05.783630Z",
     "start_time": "2022-10-20T15:12:05.774Z"
    },
    "slideshow": {
     "slide_type": "fragment"
    }
   },
   "outputs": [
    {
     "name": "stdout",
     "output_type": "stream",
     "text": [
      "16\n",
      "16\n"
     ]
    },
    {
     "data": {
      "text/plain": [
       "16"
      ]
     },
     "execution_count": 12,
     "metadata": {},
     "output_type": "execute_result"
    }
   ],
   "source": [
    "p 10 + 2 * 3\n",
    "p 10.+(2.*(3))"
   ]
  },
  {
   "cell_type": "markdown",
   "metadata": {
    "slideshow": {
     "slide_type": "slide"
    }
   },
   "source": [
    "# Tablice"
   ]
  },
  {
   "cell_type": "code",
   "execution_count": 13,
   "metadata": {
    "ExecuteTime": {
     "end_time": "2022-10-20T15:13:09.161400Z",
     "start_time": "2022-10-20T15:13:09.152Z"
    },
    "slideshow": {
     "slide_type": "fragment"
    }
   },
   "outputs": [
    {
     "name": "stdout",
     "output_type": "stream",
     "text": [
      "1\n",
      "[1, 2]\n",
      "[1, 2, 3]\n",
      "[2, 3]\n"
     ]
    },
    {
     "data": {
      "text/plain": [
       "[2, 3]"
      ]
     },
     "execution_count": 13,
     "metadata": {},
     "output_type": "execute_result"
    }
   ],
   "source": [
    "a = [1,2,3]\n",
    "p a[0]\n",
    "p a[0..1]\n",
    "p a[0..2]\n",
    "p a[-2..-1]"
   ]
  },
  {
   "cell_type": "code",
   "execution_count": 14,
   "metadata": {
    "ExecuteTime": {
     "end_time": "2022-10-20T15:14:11.160386Z",
     "start_time": "2022-10-20T15:14:11.151Z"
    },
    "slideshow": {
     "slide_type": "fragment"
    }
   },
   "outputs": [
    {
     "name": "stdout",
     "output_type": "stream",
     "text": [
      "[\"a\", nil, 3]\n",
      "[\"a\", nil, 3]\n"
     ]
    },
    {
     "data": {
      "text/plain": [
       "[\"a\", nil, 3]"
      ]
     },
     "execution_count": 14,
     "metadata": {},
     "output_type": "execute_result"
    }
   ],
   "source": [
    "b = [\"a\", nil, 3]\n",
    "puts b\n",
    "p(b)"
   ]
  },
  {
   "cell_type": "code",
   "execution_count": 15,
   "metadata": {
    "ExecuteTime": {
     "end_time": "2022-10-20T15:14:48.408980Z",
     "start_time": "2022-10-20T15:14:48.399Z"
    },
    "slideshow": {
     "slide_type": "fragment"
    }
   },
   "outputs": [
    {
     "name": "stdout",
     "output_type": "stream",
     "text": [
      "[-10, 0, 1.1, 3, 7, 11]\n"
     ]
    },
    {
     "data": {
      "text/plain": [
       "[-10, 0, 1.1, 3, 7, 11]"
      ]
     },
     "execution_count": 15,
     "metadata": {},
     "output_type": "execute_result"
    }
   ],
   "source": [
    "c = [3, 7, 0, -10, 11, 1.1]\n",
    "p(c.sort)"
   ]
  },
  {
   "cell_type": "code",
   "execution_count": 18,
   "metadata": {
    "ExecuteTime": {
     "end_time": "2022-10-20T15:17:53.665652Z",
     "start_time": "2022-10-20T15:17:53.652Z"
    },
    "slideshow": {
     "slide_type": "subslide"
    }
   },
   "outputs": [
    {
     "name": "stdout",
     "output_type": "stream",
     "text": [
      "[1, 1, 1, 1, 1, 1, 1, 1, 1, 1]\n"
     ]
    },
    {
     "data": {
      "text/plain": [
       "[1, 1, 1, 1, 1, 1, 1, 1, 1, 1]"
      ]
     },
     "execution_count": 18,
     "metadata": {},
     "output_type": "execute_result"
    }
   ],
   "source": [
    "d = Array.new(10,1)\n",
    "p(d)"
   ]
  },
  {
   "cell_type": "code",
   "execution_count": 23,
   "metadata": {
    "ExecuteTime": {
     "end_time": "2022-10-20T15:20:02.223080Z",
     "start_time": "2022-10-20T15:20:02.210Z"
    },
    "slideshow": {
     "slide_type": "subslide"
    }
   },
   "outputs": [
    {
     "name": "stdout",
     "output_type": "stream",
     "text": [
      "[\n",
      "    \u001b[1;37m[0] \u001b[0m[\n",
      "        \u001b[1;37m[0] \u001b[0m\u001b[1;34m2\u001b[0m,\n",
      "        \u001b[1;37m[1] \u001b[0m\u001b[1;34m1\u001b[0m,\n",
      "        \u001b[1;37m[2] \u001b[0m\u001b[1;34m1\u001b[0m\n",
      "    ],\n",
      "    \u001b[1;37m[1] \u001b[0m[\n",
      "        \u001b[1;37m[0] \u001b[0m\u001b[1;34m2\u001b[0m,\n",
      "        \u001b[1;37m[1] \u001b[0m\u001b[1;34m1\u001b[0m,\n",
      "        \u001b[1;37m[2] \u001b[0m\u001b[1;34m1\u001b[0m\n",
      "    ],\n",
      "    \u001b[1;37m[2] \u001b[0m[\n",
      "        \u001b[1;37m[0] \u001b[0m\u001b[1;34m2\u001b[0m,\n",
      "        \u001b[1;37m[1] \u001b[0m\u001b[1;34m1\u001b[0m,\n",
      "        \u001b[1;37m[2] \u001b[0m\u001b[1;34m1\u001b[0m\n",
      "    ]\n",
      "]\n"
     ]
    },
    {
     "data": {
      "text/plain": [
       "2"
      ]
     },
     "execution_count": 23,
     "metadata": {},
     "output_type": "execute_result"
    }
   ],
   "source": [
    "require 'awesome_print'\n",
    "\n",
    "a = Array.new(3,1)\n",
    "e = Array.new(3, a)\n",
    "e[0][0] = 2\n",
    "ap(e)\n",
    "\n",
    "a[0]"
   ]
  },
  {
   "cell_type": "code",
   "execution_count": 26,
   "metadata": {
    "ExecuteTime": {
     "end_time": "2022-10-20T15:23:27.724563Z",
     "start_time": "2022-10-20T15:23:27.715Z"
    },
    "slideshow": {
     "slide_type": "subslide"
    }
   },
   "outputs": [
    {
     "name": "stdout",
     "output_type": "stream",
     "text": [
      "0\n",
      "1\n",
      "2\n",
      "[\n",
      "    \u001b[1;37m[0] \u001b[0m[\n",
      "        \u001b[1;37m[0] \u001b[0m\u001b[1;34m2\u001b[0m,\n",
      "        \u001b[1;37m[1] \u001b[0m\u001b[1;34m1\u001b[0m,\n",
      "        \u001b[1;37m[2] \u001b[0m\u001b[1;34m1\u001b[0m\n",
      "    ],\n",
      "    \u001b[1;37m[1] \u001b[0m[\n",
      "        \u001b[1;37m[0] \u001b[0m\u001b[1;34m1\u001b[0m,\n",
      "        \u001b[1;37m[1] \u001b[0m\u001b[1;34m1\u001b[0m,\n",
      "        \u001b[1;37m[2] \u001b[0m\u001b[1;34m1\u001b[0m\n",
      "    ],\n",
      "    \u001b[1;37m[2] \u001b[0m[\n",
      "        \u001b[1;37m[0] \u001b[0m\u001b[1;34m1\u001b[0m,\n",
      "        \u001b[1;37m[1] \u001b[0m\u001b[1;34m1\u001b[0m,\n",
      "        \u001b[1;37m[2] \u001b[0m\u001b[1;34m1\u001b[0m\n",
      "    ]\n",
      "]\n"
     ]
    }
   ],
   "source": [
    "f = Array.new(3) { |t| Array.new(3,1) }\n",
    "#ap(f)\n",
    "f[0][0] = 2\n",
    "ap(f)"
   ]
  },
  {
   "cell_type": "markdown",
   "metadata": {
    "slideshow": {
     "slide_type": "slide"
    }
   },
   "source": [
    "# Porównywanie wartości"
   ]
  },
  {
   "cell_type": "code",
   "execution_count": 27,
   "metadata": {
    "ExecuteTime": {
     "end_time": "2022-10-20T15:24:21.231432Z",
     "start_time": "2022-10-20T15:24:21.221Z"
    },
    "slideshow": {
     "slide_type": "fragment"
    }
   },
   "outputs": [
    {
     "name": "stdout",
     "output_type": "stream",
     "text": [
      "Wartości liczbowe są sobie równe\n"
     ]
    }
   ],
   "source": [
    "x = 200\n",
    "y = 200\n",
    "\n",
    "if(x == y)\n",
    "  puts \"Wartości liczbowe są sobie równe\"\n",
    "else\n",
    "  puts \"Wartości liczbowe nie są sobie równe\"\n",
    "end"
   ]
  },
  {
   "cell_type": "code",
   "execution_count": 29,
   "metadata": {
    "ExecuteTime": {
     "end_time": "2022-10-20T15:25:16.439787Z",
     "start_time": "2022-10-20T15:25:16.424Z"
    },
    "slideshow": {
     "slide_type": "fragment"
    }
   },
   "outputs": [
    {
     "name": "stdout",
     "output_type": "stream",
     "text": [
      "Łańcuchy są sobie równe\n"
     ]
    }
   ],
   "source": [
    "a = \"Ala\"\n",
    "b = \"Al\" + \"a\"\n",
    "if(a == b)\n",
    "  puts \"Łańcuchy są sobie równe\"\n",
    "else\n",
    "  puts \"Łańcuchy nie są sobie równe\"\n",
    "end"
   ]
  },
  {
   "cell_type": "code",
   "execution_count": 30,
   "metadata": {
    "ExecuteTime": {
     "end_time": "2022-10-20T15:25:44.155359Z",
     "start_time": "2022-10-20T15:25:44.149Z"
    },
    "slideshow": {
     "slide_type": "subslide"
    }
   },
   "outputs": [
    {
     "name": "stdout",
     "output_type": "stream",
     "text": [
      "Tablice są sobie równe\n"
     ]
    }
   ],
   "source": [
    "a = [1,2,3]\n",
    "b = [1,2,3]\n",
    "\n",
    "if(a == b)\n",
    "  puts \"Tablice są sobie równe\"\n",
    "else\n",
    "  puts \"Tablice nie są sobie równe\"\n",
    "end"
   ]
  },
  {
   "cell_type": "code",
   "execution_count": 31,
   "metadata": {
    "ExecuteTime": {
     "end_time": "2022-10-20T15:25:55.342807Z",
     "start_time": "2022-10-20T15:25:55.333Z"
    },
    "slideshow": {
     "slide_type": "fragment"
    }
   },
   "outputs": [
    {
     "name": "stdout",
     "output_type": "stream",
     "text": [
      "Tablice wielowymiarowe są sobie równe\n"
     ]
    }
   ],
   "source": [
    "c = [\n",
    "        [1,2,3],\n",
    "        [2,3,4]\n",
    "    ]\n",
    "d = [\n",
    "        [1,2,3],\n",
    "        [2,3,4]\n",
    "    ]\n",
    "\n",
    "if(c == d)\n",
    "  puts \"Tablice wielowymiarowe są sobie równe\"\n",
    "end"
   ]
  },
  {
   "cell_type": "markdown",
   "metadata": {
    "slideshow": {
     "slide_type": "subslide"
    }
   },
   "source": [
    "# Wartość pusta `nil`"
   ]
  },
  {
   "cell_type": "code",
   "execution_count": 37,
   "metadata": {
    "ExecuteTime": {
     "end_time": "2022-10-20T15:30:53.358426Z",
     "start_time": "2022-10-20T15:30:53.353Z"
    },
    "slideshow": {
     "slide_type": "fragment"
    }
   },
   "outputs": [
    {
     "name": "stdout",
     "output_type": "stream",
     "text": [
      "true\n",
      "false\n"
     ]
    }
   ],
   "source": [
    "puts nil.nil?\n",
    "puts 1.nil?"
   ]
  },
  {
   "cell_type": "code",
   "execution_count": 40,
   "metadata": {
    "ExecuteTime": {
     "end_time": "2022-10-20T15:31:47.958465Z",
     "start_time": "2022-10-20T15:31:47.947Z"
    },
    "slideshow": {
     "slide_type": "fragment"
    }
   },
   "outputs": [
    {
     "name": "stdout",
     "output_type": "stream",
     "text": [
      "Wartość pusta/niepoprawna\n",
      "\"\"\n"
     ]
    },
    {
     "data": {
      "text/plain": [
       "\"\""
      ]
     },
     "execution_count": 40,
     "metadata": {},
     "output_type": "execute_result"
    },
    {
     "ename": "Interrupt",
     "evalue": "",
     "output_type": "error",
     "traceback": [
      "\u001b[31mInterrupt\u001b[0m: ",
      "/home/apohllo/.rvm/gems/ruby-2.7.2/gems/ffi-rzmq-2.0.7/lib/ffi-rzmq/socket.rb:584:in `zmq_recvmsg'",
      "/home/apohllo/.rvm/gems/ruby-2.7.2/gems/ffi-rzmq-2.0.7/lib/ffi-rzmq/socket.rb:584:in `__recvmsg__'",
      "/home/apohllo/.rvm/gems/ruby-2.7.2/gems/ffi-rzmq-2.0.7/lib/ffi-rzmq/socket.rb:321:in `recvmsg'",
      "/home/apohllo/.rvm/gems/ruby-2.7.2/gems/ffi-rzmq-2.0.7/lib/ffi-rzmq/socket.rb:342:in `recv_string'",
      "/home/apohllo/.rvm/gems/ruby-2.7.2/gems/iruby-0.4.0/lib/iruby/session_adapter/ffirzmq_adapter.rb:19:in `recv'",
      "/home/apohllo/.rvm/gems/ruby-2.7.2/gems/iruby-0.4.0/lib/iruby/session.rb:90:in `recv'",
      "/home/apohllo/.rvm/gems/ruby-2.7.2/gems/iruby-0.4.0/lib/iruby/kernel.rb:43:in `dispatch'",
      "/home/apohllo/.rvm/gems/ruby-2.7.2/gems/iruby-0.4.0/lib/iruby/kernel.rb:38:in `run'",
      "/home/apohllo/.rvm/gems/ruby-2.7.2/gems/iruby-0.4.0/lib/iruby/command.rb:110:in `run_kernel'",
      "/home/apohllo/.rvm/gems/ruby-2.7.2/gems/iruby-0.4.0/lib/iruby/command.rb:40:in `run'",
      "/home/apohllo/.rvm/gems/ruby-2.7.2/gems/iruby-0.4.0/bin/iruby:5:in `<top (required)>'",
      "/home/apohllo/.rvm/gems/ruby-2.4.2/bin/iruby:23:in `load'",
      "/home/apohllo/.rvm/gems/ruby-2.4.2/bin/iruby:23:in `<main>'",
      "/home/apohllo/.rvm/gems/ruby-2.7.2/bin/ruby_executable_hooks:24:in `eval'",
      "/home/apohllo/.rvm/gems/ruby-2.7.2/bin/ruby_executable_hooks:24:in `<main>'"
     ]
    },
    {
     "ename": "SignalException",
     "evalue": "SIGTERM",
     "output_type": "error",
     "traceback": [
      "\u001b[31mSignalException\u001b[0m: SIGTERM",
      "/home/apohllo/.rvm/gems/ruby-2.7.2/gems/ffi-rzmq-2.0.7/lib/ffi-rzmq/socket.rb:584:in `zmq_recvmsg'",
      "/home/apohllo/.rvm/gems/ruby-2.7.2/gems/ffi-rzmq-2.0.7/lib/ffi-rzmq/socket.rb:584:in `__recvmsg__'",
      "/home/apohllo/.rvm/gems/ruby-2.7.2/gems/ffi-rzmq-2.0.7/lib/ffi-rzmq/socket.rb:321:in `recvmsg'",
      "/home/apohllo/.rvm/gems/ruby-2.7.2/gems/ffi-rzmq-2.0.7/lib/ffi-rzmq/socket.rb:342:in `recv_string'",
      "/home/apohllo/.rvm/gems/ruby-2.7.2/gems/iruby-0.4.0/lib/iruby/session_adapter/ffirzmq_adapter.rb:19:in `recv'",
      "/home/apohllo/.rvm/gems/ruby-2.7.2/gems/iruby-0.4.0/lib/iruby/session.rb:90:in `recv'",
      "/home/apohllo/.rvm/gems/ruby-2.7.2/gems/iruby-0.4.0/lib/iruby/kernel.rb:43:in `dispatch'",
      "/home/apohllo/.rvm/gems/ruby-2.7.2/gems/iruby-0.4.0/lib/iruby/kernel.rb:38:in `run'",
      "/home/apohllo/.rvm/gems/ruby-2.7.2/gems/iruby-0.4.0/lib/iruby/command.rb:110:in `run_kernel'",
      "/home/apohllo/.rvm/gems/ruby-2.7.2/gems/iruby-0.4.0/lib/iruby/command.rb:40:in `run'",
      "/home/apohllo/.rvm/gems/ruby-2.7.2/gems/iruby-0.4.0/bin/iruby:5:in `<top (required)>'",
      "/home/apohllo/.rvm/gems/ruby-2.4.2/bin/iruby:23:in `load'",
      "/home/apohllo/.rvm/gems/ruby-2.4.2/bin/iruby:23:in `<main>'",
      "/home/apohllo/.rvm/gems/ruby-2.7.2/bin/ruby_executable_hooks:24:in `eval'",
      "/home/apohllo/.rvm/gems/ruby-2.7.2/bin/ruby_executable_hooks:24:in `<main>'"
     ]
    }
   ],
   "source": [
    "a = nil\n",
    "\n",
    "if(a.nil?)\n",
    "  puts \"Wartość pusta/niepoprawna\"\n",
    "else\n",
    "  puts \"Wartość niepusta\"\n",
    "end\n",
    "\n",
    "p a.to_s"
   ]
  },
  {
   "cell_type": "markdown",
   "metadata": {
    "slideshow": {
     "slide_type": "notes"
    }
   },
   "source": [
    "**Tutaj skończyłem wykład nr 3**"
   ]
  },
  {
   "cell_type": "markdown",
   "metadata": {
    "slideshow": {
     "slide_type": "slide"
    }
   },
   "source": [
    "![Pytania? ](img/question.jpg)"
   ]
  }
 ],
 "metadata": {
  "celltoolbar": "Slideshow",
  "kernelspec": {
   "display_name": "Ruby 2.4.2",
   "language": "ruby",
   "name": "ruby"
  },
  "language_info": {
   "file_extension": ".rb",
   "mimetype": "application/x-ruby",
   "name": "ruby",
   "version": "2.7.2"
  },
  "toc": {
   "base_numbering": 1,
   "nav_menu": {},
   "number_sections": false,
   "sideBar": false,
   "skip_h1_title": false,
   "title_cell": "Table of Contents",
   "title_sidebar": "Contents",
   "toc_cell": false,
   "toc_position": {},
   "toc_section_display": false,
   "toc_window_display": false
  }
 },
 "nbformat": 4,
 "nbformat_minor": 2
}
