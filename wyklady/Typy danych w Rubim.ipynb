{
 "cells": [
  {
   "cell_type": "markdown",
   "metadata": {
    "slideshow": {
     "slide_type": "slide"
    }
   },
   "source": [
    "# Podstawowe typy danych w Rubim\n",
    "\n",
    "<br/>\n",
    "\n",
    "## dr inż. Aleksander Smywiński-Pohl\n",
    "\n",
    "## apohllo@agh.edu.pl\n",
    "\n",
    "## http://apohllo.pl/dydaktyka/programowanie-obiektowe\n",
    "\n",
    "## konsultacje: czwartek 16:30-17:30"
   ]
  },
  {
   "cell_type": "markdown",
   "metadata": {
    "slideshow": {
     "slide_type": "slide"
    }
   },
   "source": [
    "<img src=\"img/ruby-horizontal.svg\" style=\"width: 800px\" />"
   ]
  },
  {
   "cell_type": "markdown",
   "metadata": {
    "slideshow": {
     "slide_type": "slide"
    }
   },
   "source": [
    "# Typ logiczny w Rubim"
   ]
  },
  {
   "cell_type": "code",
   "execution_count": 1,
   "metadata": {
    "ExecuteTime": {
     "end_time": "2021-10-20T07:22:31.581627Z",
     "start_time": "2021-10-20T07:22:31.500Z"
    },
    "slideshow": {
     "slide_type": "fragment"
    }
   },
   "outputs": [
    {
     "name": "stdout",
     "output_type": "stream",
     "text": [
      "Nil jest fałszem\n",
      "Fałsz jest fałszem\n"
     ]
    }
   ],
   "source": [
    "if(nil)\n",
    "  puts \"Nil jest prawdą\"\n",
    "else\n",
    "  puts \"Nil jest fałszem\"\n",
    "end\n",
    "  \n",
    "if(false)\n",
    "  puts \"Fałsz jest prawdą\"\n",
    "else\n",
    "  puts \"Fałsz jest fałszem\"\n",
    "end"
   ]
  },
  {
   "cell_type": "code",
   "execution_count": 2,
   "metadata": {
    "ExecuteTime": {
     "end_time": "2021-10-20T07:22:42.992700Z",
     "start_time": "2021-10-20T07:22:42.977Z"
    },
    "slideshow": {
     "slide_type": "subslide"
    }
   },
   "outputs": [
    {
     "name": "stderr",
     "output_type": "stream",
     "text": [
      "(pry):18: warning: string literal in condition\n"
     ]
    },
    {
     "name": "stdout",
     "output_type": "stream",
     "text": [
      "Prawda jest prawdą\n",
      "Łańcuch 'false' jest prawdą\n",
      "Zero jest prawdą\n"
     ]
    }
   ],
   "source": [
    "if(true)\n",
    "  puts \"Prawda jest prawdą\"\n",
    "end\n",
    "  \n",
    "if(\"false\")\n",
    "  puts \"Łańcuch 'false' jest prawdą\"\n",
    "end\n",
    "  \n",
    "if(0)\n",
    "  puts \"Zero jest prawdą\"\n",
    "end"
   ]
  },
  {
   "cell_type": "code",
   "execution_count": 3,
   "metadata": {
    "ExecuteTime": {
     "end_time": "2021-10-20T07:23:10.716090Z",
     "start_time": "2021-10-20T07:23:10.699Z"
    },
    "slideshow": {
     "slide_type": "fragment"
    }
   },
   "outputs": [
    {
     "name": "stdout",
     "output_type": "stream",
     "text": [
      "true\n"
     ]
    }
   ],
   "source": [
    "puts(true.to_s)"
   ]
  },
  {
   "cell_type": "markdown",
   "metadata": {
    "slideshow": {
     "slide_type": "slide"
    }
   },
   "source": [
    "# Wartości liczbowe"
   ]
  },
  {
   "cell_type": "code",
   "execution_count": 4,
   "metadata": {
    "ExecuteTime": {
     "end_time": "2021-10-20T07:23:37.053792Z",
     "start_time": "2021-10-20T07:23:36.974Z"
    },
    "slideshow": {
     "slide_type": "fragment"
    }
   },
   "outputs": [
    {
     "name": "stdout",
     "output_type": "stream",
     "text": [
      "100000000000000000000000000000000000000000000000000000000000000000000000000000000000000000000000000000000000000000000000000000000000000000000000000000000000000000000000000000000000000000000000000000000000000000000000000000000000000000000000000000000000000000000000000000000000000000000000000000000000000000000000000000000000000000000000000000000000000000000000000000000000000000000000000000000000000000000000000000000000000000000000000000000000000000000000000000000000000000000000000000000000000000000000000000000000000000000000000000000000000000000000000000000000000000000000000000000000000000000000000000000000000000000000000000000000000000000000000000000000000000000000000000000000000000000000000000000000000000000000000000000000000000000000000000000000000000000000000000000000000000000000000000000000000000000000000000000000000000000000000000000000000000000000000000000000000000000000000000000000000000000000000000000000000000000000000000000000000000000000000000000000000000000000000000000000000000000000000000000000000000000000000000000000000000000000000000000000000000000000000000000000000000000000000000000000000000000000000000000000000000000000000000000000000000000000000000000000000000000000000000000000000000000000000000000000000000000000000000000000000000000000000000000000000000000000000000000000000000000000000000000000000000000000000000000000000000000000000000000000000000000000000000000000000000000000000000000000000000000000000000000000000000000000000000000000000000000000000000000000000000000000000000000000000000000000000000000000000000000000000000000000000000000000000000000000000000000000000000000000000000000000000000000000000000000000000000000000000000000000000000000000000000000000000000000000000000000000000000000000000000000000000000000000000000000000000000000000000000000000000000000000000000000000000000000000000000000000000000000000000000000000000000000000000000000000000000000000000000000000000000000000000000000000000000000000000000000000000000000000000000000000000000000\n"
     ]
    }
   ],
   "source": [
    "puts 100 ** 1000"
   ]
  },
  {
   "cell_type": "code",
   "execution_count": 5,
   "metadata": {
    "ExecuteTime": {
     "end_time": "2021-10-20T07:23:56.426166Z",
     "start_time": "2021-10-20T07:23:56.411Z"
    },
    "slideshow": {
     "slide_type": "fragment"
    }
   },
   "outputs": [
    {
     "name": "stdout",
     "output_type": "stream",
     "text": [
      "11\n",
      "11.11111111111111\n"
     ]
    },
    {
     "data": {
      "text/plain": [
       "11.11111111111111"
      ]
     },
     "execution_count": 5,
     "metadata": {},
     "output_type": "execute_result"
    }
   ],
   "source": [
    "p(100 / 9)\n",
    "p(100 / 9.0)"
   ]
  },
  {
   "cell_type": "code",
   "execution_count": 6,
   "metadata": {
    "ExecuteTime": {
     "end_time": "2021-10-20T07:24:36.369560Z",
     "start_time": "2021-10-20T07:24:36.351Z"
    },
    "scrolled": true,
    "slideshow": {
     "slide_type": "subslide"
    }
   },
   "outputs": [
    {
     "name": "stdout",
     "output_type": "stream",
     "text": [
      "xxxxxxxxxx"
     ]
    },
    {
     "data": {
      "text/plain": [
       "10"
      ]
     },
     "execution_count": 6,
     "metadata": {},
     "output_type": "execute_result"
    }
   ],
   "source": [
    "10.times { print \"x\" }"
   ]
  },
  {
   "cell_type": "code",
   "execution_count": 7,
   "metadata": {
    "ExecuteTime": {
     "end_time": "2021-10-20T07:25:00.542110Z",
     "start_time": "2021-10-20T07:25:00.528Z"
    },
    "scrolled": true,
    "slideshow": {
     "slide_type": "subslide"
    }
   },
   "outputs": [
    {
     "name": "stdout",
     "output_type": "stream",
     "text": [
      "10\n"
     ]
    }
   ],
   "source": [
    "puts 10"
   ]
  },
  {
   "cell_type": "code",
   "execution_count": 8,
   "metadata": {
    "ExecuteTime": {
     "end_time": "2021-10-20T07:25:04.553999Z",
     "start_time": "2021-10-20T07:25:04.549Z"
    }
   },
   "outputs": [
    {
     "data": {
      "text/plain": [
       "\"1010\""
      ]
     },
     "execution_count": 8,
     "metadata": {},
     "output_type": "execute_result"
    }
   ],
   "source": [
    "\"10\" + \"10\""
   ]
  },
  {
   "cell_type": "code",
   "execution_count": 9,
   "metadata": {
    "ExecuteTime": {
     "end_time": "2021-10-20T07:25:43.351808Z",
     "start_time": "2021-10-20T07:25:43.339Z"
    },
    "slideshow": {
     "slide_type": "fragment"
    }
   },
   "outputs": [
    {
     "name": "stdout",
     "output_type": "stream",
     "text": [
      "2\n",
      "192\n"
     ]
    },
    {
     "data": {
      "text/plain": [
       "192"
      ]
     },
     "execution_count": 9,
     "metadata": {},
     "output_type": "execute_result"
    }
   ],
   "source": [
    "p \"10\".to_i(2)\n",
    "p \"c0\".to_i(16)"
   ]
  },
  {
   "cell_type": "code",
   "execution_count": 10,
   "metadata": {
    "ExecuteTime": {
     "end_time": "2021-10-20T07:27:05.997888Z",
     "start_time": "2021-10-20T07:27:05.983Z"
    },
    "slideshow": {
     "slide_type": "fragment"
    }
   },
   "outputs": [
    {
     "name": "stdout",
     "output_type": "stream",
     "text": [
      "16\n",
      "16\n"
     ]
    },
    {
     "data": {
      "text/plain": [
       "16"
      ]
     },
     "execution_count": 10,
     "metadata": {},
     "output_type": "execute_result"
    }
   ],
   "source": [
    "p 10 + 2 * 3\n",
    "p 10.+(2.*(3))"
   ]
  },
  {
   "cell_type": "markdown",
   "metadata": {
    "slideshow": {
     "slide_type": "slide"
    }
   },
   "source": [
    "# Tablice"
   ]
  },
  {
   "cell_type": "code",
   "execution_count": 11,
   "metadata": {
    "ExecuteTime": {
     "end_time": "2021-10-20T07:27:42.081133Z",
     "start_time": "2021-10-20T07:27:42.070Z"
    },
    "slideshow": {
     "slide_type": "fragment"
    }
   },
   "outputs": [
    {
     "name": "stdout",
     "output_type": "stream",
     "text": [
      "1\n",
      "[1, 2]\n",
      "[1, 2, 3]\n",
      "[2, 3]\n"
     ]
    },
    {
     "data": {
      "text/plain": [
       "[2, 3]"
      ]
     },
     "execution_count": 11,
     "metadata": {},
     "output_type": "execute_result"
    }
   ],
   "source": [
    "a = [1,2,3]\n",
    "p a[0]\n",
    "p a[0..1]\n",
    "p a[0..2]\n",
    "p a[-2..-1]"
   ]
  },
  {
   "cell_type": "code",
   "execution_count": 12,
   "metadata": {
    "ExecuteTime": {
     "end_time": "2021-10-20T07:27:55.742984Z",
     "start_time": "2021-10-20T07:27:55.722Z"
    },
    "slideshow": {
     "slide_type": "fragment"
    }
   },
   "outputs": [
    {
     "name": "stdout",
     "output_type": "stream",
     "text": [
      "[\"a\", nil, 3]\n",
      "[\"a\", nil, 3]\n"
     ]
    },
    {
     "data": {
      "text/plain": [
       "[\"a\", nil, 3]"
      ]
     },
     "execution_count": 12,
     "metadata": {},
     "output_type": "execute_result"
    }
   ],
   "source": [
    "b = [\"a\", nil, 3]\n",
    "puts b\n",
    "p(b)"
   ]
  },
  {
   "cell_type": "code",
   "execution_count": 13,
   "metadata": {
    "ExecuteTime": {
     "end_time": "2021-10-20T07:28:04.707400Z",
     "start_time": "2021-10-20T07:28:04.697Z"
    },
    "slideshow": {
     "slide_type": "fragment"
    }
   },
   "outputs": [
    {
     "name": "stdout",
     "output_type": "stream",
     "text": [
      "[-10, 0, 1.1, 3, 7, 11]\n"
     ]
    },
    {
     "data": {
      "text/plain": [
       "[-10, 0, 1.1, 3, 7, 11]"
      ]
     },
     "execution_count": 13,
     "metadata": {},
     "output_type": "execute_result"
    }
   ],
   "source": [
    "c = [3, 7, 0, -10, 11, 1.1]\n",
    "p(c.sort)"
   ]
  },
  {
   "cell_type": "code",
   "execution_count": 14,
   "metadata": {
    "ExecuteTime": {
     "end_time": "2021-10-20T07:28:35.352316Z",
     "start_time": "2021-10-20T07:28:35.346Z"
    },
    "slideshow": {
     "slide_type": "subslide"
    }
   },
   "outputs": [
    {
     "name": "stdout",
     "output_type": "stream",
     "text": [
      "[1, 1, 1, 1, 1, 1, 1, 1, 1, 1]\n"
     ]
    },
    {
     "data": {
      "text/plain": [
       "[1, 1, 1, 1, 1, 1, 1, 1, 1, 1]"
      ]
     },
     "execution_count": 14,
     "metadata": {},
     "output_type": "execute_result"
    }
   ],
   "source": [
    "d = Array.new(10, 1)\n",
    "p(d)"
   ]
  },
  {
   "cell_type": "code",
   "execution_count": 24,
   "metadata": {
    "ExecuteTime": {
     "end_time": "2021-10-20T07:30:42.197871Z",
     "start_time": "2021-10-20T07:30:42.188Z"
    },
    "slideshow": {
     "slide_type": "subslide"
    }
   },
   "outputs": [
    {
     "name": "stdout",
     "output_type": "stream",
     "text": [
      "[\n",
      "    \u001b[1;37m[0] \u001b[0m[\n",
      "        \u001b[1;37m[0] \u001b[0m\u001b[1;34m2\u001b[0m,\n",
      "        \u001b[1;37m[1] \u001b[0m\u001b[1;34m1\u001b[0m,\n",
      "        \u001b[1;37m[2] \u001b[0m\u001b[1;34m1\u001b[0m\n",
      "    ],\n",
      "    \u001b[1;37m[1] \u001b[0m[\n",
      "        \u001b[1;37m[0] \u001b[0m\u001b[1;34m2\u001b[0m,\n",
      "        \u001b[1;37m[1] \u001b[0m\u001b[1;34m1\u001b[0m,\n",
      "        \u001b[1;37m[2] \u001b[0m\u001b[1;34m1\u001b[0m\n",
      "    ],\n",
      "    \u001b[1;37m[2] \u001b[0m[\n",
      "        \u001b[1;37m[0] \u001b[0m\u001b[1;34m2\u001b[0m,\n",
      "        \u001b[1;37m[1] \u001b[0m\u001b[1;34m1\u001b[0m,\n",
      "        \u001b[1;37m[2] \u001b[0m\u001b[1;34m1\u001b[0m\n",
      "    ]\n",
      "]\n"
     ]
    }
   ],
   "source": [
    "require 'awesome_print'\n",
    "\n",
    "e = Array.new(3, Array.new(3,1))\n",
    "e[0][0] = 2\n",
    "ap(e)"
   ]
  },
  {
   "cell_type": "code",
   "execution_count": 23,
   "metadata": {
    "ExecuteTime": {
     "end_time": "2021-10-20T07:30:32.566445Z",
     "start_time": "2021-10-20T07:30:32.561Z"
    },
    "slideshow": {
     "slide_type": "subslide"
    }
   },
   "outputs": [
    {
     "name": "stdout",
     "output_type": "stream",
     "text": [
      "[\n",
      "    \u001b[1;37m[0] \u001b[0m[\n",
      "        \u001b[1;37m[0] \u001b[0m\u001b[1;34m2\u001b[0m,\n",
      "        \u001b[1;37m[1] \u001b[0m\u001b[1;34m1\u001b[0m,\n",
      "        \u001b[1;37m[2] \u001b[0m\u001b[1;34m1\u001b[0m\n",
      "    ],\n",
      "    \u001b[1;37m[1] \u001b[0m[\n",
      "        \u001b[1;37m[0] \u001b[0m\u001b[1;34m1\u001b[0m,\n",
      "        \u001b[1;37m[1] \u001b[0m\u001b[1;34m1\u001b[0m,\n",
      "        \u001b[1;37m[2] \u001b[0m\u001b[1;34m1\u001b[0m\n",
      "    ],\n",
      "    \u001b[1;37m[2] \u001b[0m[\n",
      "        \u001b[1;37m[0] \u001b[0m\u001b[1;34m1\u001b[0m,\n",
      "        \u001b[1;37m[1] \u001b[0m\u001b[1;34m1\u001b[0m,\n",
      "        \u001b[1;37m[2] \u001b[0m\u001b[1;34m1\u001b[0m\n",
      "    ]\n",
      "]\n"
     ]
    }
   ],
   "source": [
    "f = Array.new(3) { |t,e| Array.new(3,1) }\n",
    "#ap(f)\n",
    "f[0][0] = 2\n",
    "ap(f)"
   ]
  },
  {
   "cell_type": "markdown",
   "metadata": {
    "slideshow": {
     "slide_type": "slide"
    }
   },
   "source": [
    "# Porównywanie wartości"
   ]
  },
  {
   "cell_type": "code",
   "execution_count": 25,
   "metadata": {
    "ExecuteTime": {
     "end_time": "2021-10-20T07:31:33.851894Z",
     "start_time": "2021-10-20T07:31:33.835Z"
    },
    "slideshow": {
     "slide_type": "fragment"
    }
   },
   "outputs": [
    {
     "name": "stdout",
     "output_type": "stream",
     "text": [
      "Wartości liczbowe są sobie równe\n"
     ]
    }
   ],
   "source": [
    "x = 200\n",
    "y = 200\n",
    "\n",
    "if(x == y)\n",
    "  puts \"Wartości liczbowe są sobie równe\"\n",
    "else\n",
    "  puts \"Wartości liczbowe nie są sobie równe\"\n",
    "end"
   ]
  },
  {
   "cell_type": "code",
   "execution_count": 27,
   "metadata": {
    "ExecuteTime": {
     "end_time": "2021-10-20T07:31:54.181383Z",
     "start_time": "2021-10-20T07:31:54.172Z"
    },
    "slideshow": {
     "slide_type": "fragment"
    }
   },
   "outputs": [
    {
     "name": "stdout",
     "output_type": "stream",
     "text": [
      "Łańcuchy są sobie równe\n"
     ]
    }
   ],
   "source": [
    "a = \"Ala\"\n",
    "b = \"Ala\"\n",
    "if(a == b)\n",
    "  puts \"Łańcuchy są sobie równe\"\n",
    "else\n",
    "  puts \"Łańcuchy nie są sobie równe\"\n",
    "end"
   ]
  },
  {
   "cell_type": "code",
   "execution_count": 28,
   "metadata": {
    "ExecuteTime": {
     "end_time": "2021-10-20T07:31:58.511434Z",
     "start_time": "2021-10-20T07:31:58.491Z"
    },
    "slideshow": {
     "slide_type": "subslide"
    }
   },
   "outputs": [
    {
     "name": "stdout",
     "output_type": "stream",
     "text": [
      "Tablice są sobie równe\n"
     ]
    }
   ],
   "source": [
    "a = [1,2,3]\n",
    "b = [1,2,3]\n",
    "\n",
    "if(a == b)\n",
    "  puts \"Tablice są sobie równe\"\n",
    "else\n",
    "  puts \"Tablice nie są sobie równe\"\n",
    "end"
   ]
  },
  {
   "cell_type": "code",
   "execution_count": 29,
   "metadata": {
    "ExecuteTime": {
     "end_time": "2021-10-20T07:32:02.473890Z",
     "start_time": "2021-10-20T07:32:02.459Z"
    },
    "slideshow": {
     "slide_type": "fragment"
    }
   },
   "outputs": [
    {
     "name": "stdout",
     "output_type": "stream",
     "text": [
      "Tablice wielowymiarowe są sobie równe\n"
     ]
    }
   ],
   "source": [
    "c = [\n",
    "        [1,2,3],\n",
    "        [2,3,4]\n",
    "    ]\n",
    "d = [\n",
    "        [1,2,3],\n",
    "        [2,3,4]\n",
    "    ]\n",
    "\n",
    "if(c == d)\n",
    "  puts \"Tablice wielowymiarowe są sobie równe\"\n",
    "end"
   ]
  },
  {
   "cell_type": "markdown",
   "metadata": {
    "slideshow": {
     "slide_type": "subslide"
    }
   },
   "source": [
    "# Wartość pusta `nil`"
   ]
  },
  {
   "cell_type": "code",
   "execution_count": 30,
   "metadata": {
    "ExecuteTime": {
     "end_time": "2021-10-20T07:32:29.304423Z",
     "start_time": "2021-10-20T07:32:29.291Z"
    },
    "slideshow": {
     "slide_type": "fragment"
    }
   },
   "outputs": [
    {
     "name": "stdout",
     "output_type": "stream",
     "text": [
      "true\n",
      "false\n"
     ]
    }
   ],
   "source": [
    "puts nil.nil?\n",
    "puts 1.nil?"
   ]
  },
  {
   "cell_type": "code",
   "execution_count": 31,
   "metadata": {
    "ExecuteTime": {
     "end_time": "2021-10-20T07:32:51.835015Z",
     "start_time": "2021-10-20T07:32:51.827Z"
    },
    "slideshow": {
     "slide_type": "fragment"
    }
   },
   "outputs": [
    {
     "name": "stdout",
     "output_type": "stream",
     "text": [
      "Wartość pusta/niepoprawna\n",
      "\"\"\n"
     ]
    },
    {
     "data": {
      "text/plain": [
       "\"\""
      ]
     },
     "execution_count": 31,
     "metadata": {},
     "output_type": "execute_result"
    }
   ],
   "source": [
    "a = nil\n",
    "\n",
    "if(a.nil?)\n",
    "  puts \"Wartość pusta/niepoprawna\"\n",
    "else\n",
    "  puts \"Wartość niepusta\"\n",
    "end\n",
    "\n",
    "p a.to_s"
   ]
  },
  {
   "cell_type": "markdown",
   "metadata": {
    "slideshow": {
     "slide_type": "notes"
    }
   },
   "source": [
    "**Tutaj skończyłem wykład nr 3**"
   ]
  },
  {
   "cell_type": "markdown",
   "metadata": {
    "slideshow": {
     "slide_type": "slide"
    }
   },
   "source": [
    "![Pytania? ](img/question.jpg)"
   ]
  },
  {
   "cell_type": "code",
   "execution_count": null,
   "metadata": {},
   "outputs": [],
   "source": []
  }
 ],
 "metadata": {
  "celltoolbar": "Slideshow",
  "kernelspec": {
   "display_name": "Ruby 2.4.2",
   "language": "ruby",
   "name": "ruby"
  },
  "language_info": {
   "file_extension": ".rb",
   "mimetype": "application/x-ruby",
   "name": "ruby",
   "version": "2.7.2"
  },
  "toc": {
   "base_numbering": 1,
   "nav_menu": {},
   "number_sections": false,
   "sideBar": false,
   "skip_h1_title": false,
   "title_cell": "Table of Contents",
   "title_sidebar": "Contents",
   "toc_cell": false,
   "toc_position": {},
   "toc_section_display": false,
   "toc_window_display": false
  }
 },
 "nbformat": 4,
 "nbformat_minor": 2
}
