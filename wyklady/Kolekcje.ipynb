{
 "cells": [
  {
   "cell_type": "markdown",
   "metadata": {
    "slideshow": {
     "slide_type": "slide"
    }
   },
   "source": [
    "  # Kolekcje\n",
    "\n",
    "## Interfejsy i klasy służące do przechowywania obiektów\n",
    "\n",
    "<br/>\n",
    "\n",
    "## dr inż. Aleksander Smywiński-Pohl\n",
    "\n",
    "## apohllo@o2.pl   \n",
    "\n",
    "## http://apohllo.pl/dydaktyka/programowanie-obiektowe \n",
    "\n",
    " "
   ]
  },
  {
   "cell_type": "markdown",
   "metadata": {
    "slideshow": {
     "slide_type": "slide"
    }
   },
   "source": [
    "<img src=\"img/collections.png\" style=\"width: 1280px;\"/>"
   ]
  },
  {
   "cell_type": "markdown",
   "metadata": {
    "slideshow": {
     "slide_type": "subslide"
    }
   },
   "source": [
    "# Plan\n",
    "\n",
    "* kolekcje - `Collection`\n",
    "* listy - `List`\n",
    "* iteratory - `Iterator`, `Iterable`\n",
    "* zbiory - `Set`\n",
    "* słowniki - `Map`"
   ]
  },
  {
   "cell_type": "markdown",
   "metadata": {
    "slideshow": {
     "slide_type": "slide"
    }
   },
   "source": [
    "# Interfejs `Collection`\n",
    "\n",
    "* najbardziej wysokopoziomowy interfejs\n",
    "* mapa nie jest kolekcją (w Javie)\n",
    "* podstawowe operacje\n",
    "  * `add`\n",
    "  * `addAll`\n",
    "  * `remove`\n",
    "  * `removeAll`\n",
    "  * `retainAll`\n",
    "  * `clear`\n",
    "  * `isEmpty`"
   ]
  },
  {
   "cell_type": "markdown",
   "metadata": {
    "slideshow": {
     "slide_type": "subslide"
    }
   },
   "source": [
    "# Interfejs `Collection` cd.\n",
    "\n",
    "* podstawowe operacje\n",
    "  * `size`\n",
    "  * `contains`\n",
    "  * `containsAll`\n",
    "  * `toArray`\n",
    "  * `singleton`\n",
    "  * `iterator`"
   ]
  },
  {
   "cell_type": "markdown",
   "metadata": {
    "slideshow": {
     "slide_type": "subslide"
    }
   },
   "source": [
    "<img src=\"img/collections-interface.png\"/>"
   ]
  },
  {
   "cell_type": "markdown",
   "metadata": {
    "slideshow": {
     "slide_type": "subslide"
    }
   },
   "source": [
    "# Kolekcje bez typu"
   ]
  },
  {
   "cell_type": "code",
   "execution_count": null,
   "metadata": {
    "slideshow": {
     "slide_type": "-"
    }
   },
   "outputs": [],
   "source": [
    "Collection cars = new LinkedList();\n",
    "Car car1 = new Car();\n",
    "Rocket rocket1 = new Rocket();\n",
    "cars.add(car1);\n",
    "cars.add(rocket1);\n",
    "cars.contains(car1);           // => true\n",
    "cars.contains(rocket1);        // => true\n",
    "cars.contains(new Rocket());   // => false"
   ]
  },
  {
   "cell_type": "markdown",
   "metadata": {
    "slideshow": {
     "slide_type": "subslide"
    }
   },
   "source": [
    "# Kolekcje z typem"
   ]
  },
  {
   "cell_type": "code",
   "execution_count": null,
   "metadata": {
    "slideshow": {
     "slide_type": "-"
    }
   },
   "outputs": [],
   "source": [
    "class Car {}\n",
    "class Rocket {}\n",
    "\n",
    "Collection<Car> cars = new LinkedList<>();\n",
    "Car car1 = new Car();\n",
    "Rocket rocket1 = new Rocket();\n",
    "cars.add(car1);\n",
    "cars.add(rocket1);         // błąd kompilacji"
   ]
  },
  {
   "cell_type": "markdown",
   "metadata": {
    "slideshow": {
     "slide_type": "subslide"
    }
   },
   "source": [
    "# `add`, `addAll`, `remove`, `removeAll`"
   ]
  },
  {
   "cell_type": "code",
   "execution_count": null,
   "metadata": {
    "slideshow": {
     "slide_type": "-"
    }
   },
   "outputs": [],
   "source": [
    "Collection<Car> cars1 = new LinkedList<>();\n",
    "cars1.add(new Car());\n",
    "cars1.add(new Car());\n",
    "cars1.add(new Car());\n",
    "Collection<Car> cars2 = new LinkedList<>();"
   ]
  },
  {
   "cell_type": "code",
   "execution_count": null,
   "metadata": {
    "slideshow": {
     "slide_type": "fragment"
    }
   },
   "outputs": [],
   "source": [
    "for(Car car : cars1){\n",
    "    cars2.add(car);\n",
    "}\n",
    "// prościej\n",
    "cars2.addAll(cars1);"
   ]
  },
  {
   "cell_type": "code",
   "execution_count": null,
   "metadata": {
    "slideshow": {
     "slide_type": "fragment"
    }
   },
   "outputs": [],
   "source": [
    "for(Car car : cars1){\n",
    "    cars2.remove(car);\n",
    "}\n",
    "// prościej\n",
    "cars2.removeAll(cars1);"
   ]
  },
  {
   "cell_type": "markdown",
   "metadata": {
    "slideshow": {
     "slide_type": "subslide"
    }
   },
   "source": [
    "# `remove`, `size`, `empty` i `singleton`"
   ]
  },
  {
   "cell_type": "code",
   "execution_count": 5,
   "metadata": {
    "slideshow": {
     "slide_type": "-"
    }
   },
   "outputs": [
    {
     "data": {
      "text/html": [
       "1"
      ]
     },
     "execution_count": 5,
     "metadata": {},
     "output_type": "execute_result"
    }
   ],
   "source": [
    "class Car {}\n",
    "Collection<Car> cars1 = new LinkedList<>();\n",
    "Car car = new Car();\n",
    "cars1.add(car);\n",
    "cars1.add(car);\n",
    "cars1.remove(car);\n",
    "cars1.size();"
   ]
  },
  {
   "cell_type": "code",
   "execution_count": 6,
   "metadata": {
    "slideshow": {
     "slide_type": "fragment"
    }
   },
   "outputs": [
    {
     "data": {
      "text/html": [
       "true"
      ]
     },
     "execution_count": 6,
     "metadata": {},
     "output_type": "execute_result"
    }
   ],
   "source": [
    "class Car {}\n",
    "Collection<Car> cars1 = new LinkedList<>();\n",
    "Car car = new Car();\n",
    "cars1.add(car);\n",
    "cars1.add(car);\n",
    "cars1.removeAll(Collections.singleton(car));\n",
    "cars1.isEmpty();"
   ]
  },
  {
   "cell_type": "markdown",
   "metadata": {
    "slideshow": {
     "slide_type": "subslide"
    }
   },
   "source": [
    "# `toArray`"
   ]
  },
  {
   "cell_type": "code",
   "execution_count": null,
   "metadata": {
    "slideshow": {
     "slide_type": "-"
    }
   },
   "outputs": [],
   "source": [
    "Collection<Car> cars1 = new LinkedList<>();\n",
    "Car car = new Car();\n",
    "cars1.add(car);\n",
    "cars1.add(car);\n",
    "cars1.add(new Car());"
   ]
  },
  {
   "cell_type": "code",
   "execution_count": null,
   "metadata": {
    "slideshow": {
     "slide_type": "fragment"
    }
   },
   "outputs": [],
   "source": [
    "Car[] carsAsArray1 = cars1.toArray();             // to nie zadziała\n",
    "Object[] carsAsArray2 = cars1.toArray();          // to zadziała\n",
    "Car[] carsAsArray3 = cars1.toArray(new Car[0]);   // i to też"
   ]
  },
  {
   "cell_type": "markdown",
   "metadata": {
    "slideshow": {
     "slide_type": "subslide"
    }
   },
   "source": [
    "# `singleton` i opcjonalne metody"
   ]
  },
  {
   "cell_type": "code",
   "execution_count": null,
   "metadata": {
    "slideshow": {
     "slide_type": "-"
    }
   },
   "outputs": [],
   "source": [
    "Collection<Car> oneCar = Collections.singleton(new Car());\n",
    "oneCar.add(new Car());"
   ]
  },
  {
   "cell_type": "code",
   "execution_count": null,
   "metadata": {
    "slideshow": {
     "slide_type": "fragment"
    }
   },
   "outputs": [],
   "source": [
    "oneCar.add(new Car());\n",
    "|  java.lang.UnsupportedOperationException thrown: \n",
    "|        at AbstractCollection.add (AbstractCollection.java:267)\n",
    "|        at (#77:1)"
   ]
  },
  {
   "cell_type": "markdown",
   "metadata": {
    "slideshow": {
     "slide_type": "slide"
    }
   },
   "source": [
    "# Interfejs `List`\n",
    "* uporządkowany zbiór obiektów\n",
    "* obiekty mogą się powtarzać\n",
    "* obiekty posiadają *indeks*"
   ]
  },
  {
   "cell_type": "markdown",
   "metadata": {
    "slideshow": {
     "slide_type": "subslide"
    }
   },
   "source": [
    "# Interfejs `List`\n",
    "* metody `List`\n",
    "  * `get`\n",
    "  * `set`\n",
    "  * `indexOf`\n",
    "  * `lastIndexOf`\n",
    "  * `subList`\n",
    "* metody `Collections`\n",
    "  * `sort`\n",
    "  * `min`, `max`\n",
    "* metody `Arrays`\n",
    "  * `asList`"
   ]
  },
  {
   "cell_type": "markdown",
   "metadata": {
    "slideshow": {
     "slide_type": "subslide"
    }
   },
   "source": [
    "<img src=\"img/list.png\"/>"
   ]
  },
  {
   "cell_type": "code",
   "execution_count": null,
   "metadata": {
    "slideshow": {
     "slide_type": "subslide"
    }
   },
   "outputs": [],
   "source": [
    "List<String> words = Arrays.asList(\"jeden\", \"dwa\", \"trzy\");\n",
    "words.get(0);          // => \"jeden\"\n",
    "words.set(0,\"zero\");   // => \"jeden\"\n",
    "words.get(0);          // => \"zero\"\n",
    "words.add(\"dwa\");      // UnsupportedOperationException"
   ]
  },
  {
   "cell_type": "code",
   "execution_count": null,
   "metadata": {
    "slideshow": {
     "slide_type": "fragment"
    }
   },
   "outputs": [],
   "source": [
    "List<String> words = Arrays.asList(\"jeden\", \"dwa\", \"jeden\");\n",
    "words.indexOf(\"jeden\");        // => 0\n",
    "words.lastIndexOf(\"jeden\");    // => 2"
   ]
  },
  {
   "cell_type": "code",
   "execution_count": 9,
   "metadata": {
    "slideshow": {
     "slide_type": "subslide"
    }
   },
   "outputs": [
    {
     "data": {
      "text/html": [
       "<style>table.converted {color: #333; font-family: Helvetica, Arial, sans-serif; border-collapse: collapse; border-spacing: 0;}table.converted td, table.converted th {border: 1px solid #C9C7C7;}table.converted th, table.converted td.rowLabel {background: #626262; color: #FFFFFF; font-weight: bold; text-align: left;}table.converted td {text-align: left;}table.converted tr:nth-child(even) {background: #F3F3F3;}table.converted tr:nth-child(odd) {background: #FFFFFF;}table.converted tbody tr:hover {background: #BDF4B5;}table.converted td.rowLabel, table.converted th.rowLabel {display: none;}</style><table class=\"converted\"><tbody><tr><td>jeden</td></tr><tr><td>sześć</td></tr><tr><td>dwa</td></tr><tr><td>jeden</td></tr></tbody></table>"
      ]
     },
     "execution_count": 9,
     "metadata": {},
     "output_type": "execute_result"
    }
   ],
   "source": [
    "List<String> words = new LinkedList<>();\n",
    "words.add(\"jeden\");\n",
    "words.add(\"dwa\");\n",
    "words.add(\"jeden\");\n",
    "//words.subList(1,3).clear();       \n",
    "//words                                     // [\"jeden\"]\n",
    "words.subList(0,1).add(\"sześć\")\n",
    "words"
   ]
  },
  {
   "cell_type": "markdown",
   "metadata": {
    "slideshow": {
     "slide_type": "subslide"
    }
   },
   "source": [
    "# `Collections`: `sort`, `min`, `max`"
   ]
  },
  {
   "cell_type": "code",
   "execution_count": null,
   "metadata": {
    "slideshow": {
     "slide_type": "-"
    }
   },
   "outputs": [],
   "source": [
    "List<String> words = Arrays.asList(\"jeden\", \"dwa\", \"trzy\");\n",
    "Collections.sort(words);           // \"dwa\", \"jeden\", \"trzy\""
   ]
  },
  {
   "cell_type": "code",
   "execution_count": null,
   "metadata": {
    "slideshow": {
     "slide_type": "skip"
    }
   },
   "outputs": [],
   "source": [
    "Collections.sort(words, new Comparator<String> {\n",
    "    int compare(String a, String b) {\n",
    "        if(a.length() == b.length()){\n",
    "            return String.compare(a,b);\n",
    "        }\n",
    "        return a.length() - b.length();\n",
    "    }\n",
    "}"
   ]
  },
  {
   "cell_type": "code",
   "execution_count": null,
   "metadata": {
    "slideshow": {
     "slide_type": "fragment"
    }
   },
   "outputs": [],
   "source": [
    "Collections.min(words);   // \"dwa\"\n",
    "Collections.max(words);   // \"trzy\""
   ]
  },
  {
   "cell_type": "markdown",
   "metadata": {
    "slideshow": {
     "slide_type": "subslide"
    }
   },
   "source": [
    "# Lista liczb"
   ]
  },
  {
   "cell_type": "code",
   "execution_count": null,
   "metadata": {
    "slideshow": {
     "slide_type": "-"
    }
   },
   "outputs": [],
   "source": [
    "List<Integer> numbers = new LinkedList<>();\n",
    "numbers.add(3);\n",
    "numbers.add(2);\n",
    "numbers.add(1);\n",
    "numbers.add(0);\n",
    "numbers.remove(0);\n",
    "numbers.remove(new Integer(0));\n",
    "numbers"
   ]
  },
  {
   "cell_type": "markdown",
   "metadata": {
    "slideshow": {
     "slide_type": "subslide"
    }
   },
   "source": [
    "# Implementacje interfejsu `List`\n",
    "\n",
    "<table style=\"align: left; font-size:32px\">\n",
    "<tr>\n",
    "    <th>Klasa</th>\n",
    "    <th>Reprezentacja</th>\n",
    "    <th>Uwagi</th>\n",
    "</tr>\n",
    "<tr>\n",
    "    <td>`ArrayList`</td>\n",
    "    <td>tablica</td>\n",
    "    <td>implementacja ogólnego przeznaczenia</td>\n",
    "</tr>\n",
    "<tr>\n",
    "    <td>`LinkedList`</td>\n",
    "    <td>lista dwukierunkowa</td>\n",
    "    <td>efektywne wstawianie i usuwanie</td>\n",
    "</tr>\n",
    "<tr>\n",
    "    <td>`CopyOnWriteArrayList`</td>\n",
    "    <td>tablica</td>\n",
    "    <td>bezpieczna zw. na wątki</td>\n",
    "</tr>\n",
    "<tr>\n",
    "    <td>`Vector`</td>\n",
    "    <td>tablica</td>\n",
    "    <td>synchronizowane metody, przestarzała</td>\n",
    "</tr>\n",
    "<tr>\n",
    "    <td>`Stack`</td>\n",
    "    <td>tablica</td>\n",
    "    <td>dodaje metody `push`, `pop`, `peek`, przestarzała</td>\n",
    "</tr>\n",
    "</table>"
   ]
  },
  {
   "cell_type": "markdown",
   "metadata": {
    "slideshow": {
     "slide_type": "slide"
    }
   },
   "source": [
    "# Wzorzec `Iterator`"
   ]
  },
  {
   "cell_type": "code",
   "execution_count": null,
   "metadata": {
    "slideshow": {
     "slide_type": "-"
    }
   },
   "outputs": [],
   "source": [
    "Collection<Car> cars1 = new LinkedList<>();\n",
    "Car car = new Car();\n",
    "cars1.add(car);\n",
    "cars1.add(car);\n",
    "Iterator<Car> iterator = cars1.iterator();\n",
    "while(iterator.hasNext()){\n",
    "    System.out.println(iterator.next());\n",
    "}"
   ]
  },
  {
   "cell_type": "code",
   "execution_count": null,
   "metadata": {
    "slideshow": {
     "slide_type": "fragment"
    }
   },
   "outputs": [],
   "source": [
    "// krócej\n",
    "for(Car car : cars1){\n",
    "    System.out.println(car);\n",
    "}"
   ]
  },
  {
   "cell_type": "markdown",
   "metadata": {
    "slideshow": {
     "slide_type": "subslide"
    }
   },
   "source": [
    "<img src=\"img/iterator.png\">"
   ]
  },
  {
   "cell_type": "markdown",
   "metadata": {
    "slideshow": {
     "slide_type": "subslide"
    }
   },
   "source": [
    "# Interfejs `Iterator<E>`\n",
    "\n",
    "* służy do definiowania iteratorów\n",
    "* metody:\n",
    "  * next\n",
    "  * hasNext\n",
    "  * remove"
   ]
  },
  {
   "cell_type": "code",
   "execution_count": null,
   "metadata": {
    "slideshow": {
     "slide_type": "-"
    }
   },
   "outputs": [],
   "source": [
    "public interface Iterator<E> {\n",
    "    boolean hasNext();\n",
    "    E next();\n",
    "    void remove();\n",
    "}"
   ]
  },
  {
   "cell_type": "markdown",
   "metadata": {
    "slideshow": {
     "slide_type": "subslide"
    }
   },
   "source": [
    "# Interfejs `Iterable<E>`\n",
    "\n",
    "* zwraca iterator\n",
    "* pozwala \"chodzić\" po swoich elementach"
   ]
  },
  {
   "cell_type": "code",
   "execution_count": null,
   "metadata": {
    "slideshow": {
     "slide_type": "-"
    }
   },
   "outputs": [],
   "source": [
    "public interface Iterable<E> {\n",
    "    java.util.Iterator<E> iterator();\n",
    "}"
   ]
  },
  {
   "cell_type": "markdown",
   "metadata": {
    "slideshow": {
     "slide_type": "subslide"
    }
   },
   "source": [
    "# Wyjątek `ConcurrentModificationException`"
   ]
  },
  {
   "cell_type": "code",
   "execution_count": 3,
   "metadata": {
    "collapsed": true,
    "slideshow": {
     "slide_type": "-"
    }
   },
   "outputs": [
    {
     "name": "stderr",
     "output_type": "stream",
     "text": [
      "java.util.ConcurrentModificationException\n",
      "\tat java.util.LinkedList$ListItr.checkForComodification(LinkedList.java:966)\n",
      "\tat java.util.LinkedList$ListItr.next(LinkedList.java:888)\n",
      "\tat java_util_ListIterator$next.call(Unknown Source)\n",
      "\tat org.codehaus.groovy.runtime.callsite.CallSiteArray.defaultCall(CallSiteArray.java:48)\n",
      "\tat org.codehaus.groovy.runtime.callsite.AbstractCallSite.call(AbstractCallSite.java:113)\n",
      "\tat org.codehaus.groovy.runtime.callsite.AbstractCallSite.call(AbstractCallSite.java:117)\n",
      "\tat Script3.run(Script3.groovy:4)\n",
      "\tat org.scijava.plugins.scripting.groovy.GroovyScriptEngine.eval(GroovyScriptEngine.java:303)\n",
      "\tat org.scijava.plugins.scripting.groovy.GroovyScriptEngine.eval(GroovyScriptEngine.java:122)\n",
      "\tat javax.script.AbstractScriptEngine.eval(AbstractScriptEngine.java:264)\n",
      "\tat org.scijava.script.ScriptModule.run(ScriptModule.java:159)\n",
      "\tat org.scijava.module.ModuleRunner.run(ModuleRunner.java:167)\n",
      "\tat org.scijava.jupyter.kernel.evaluator.Worker.run(Worker.java:109)\n",
      "\tat org.scijava.thread.DefaultThreadService$2.run(DefaultThreadService.java:220)\n",
      "\tat java.util.concurrent.Executors$RunnableAdapter.call(Executors.java:511)\n",
      "\tat java.util.concurrent.FutureTask.run(FutureTask.java:266)\n",
      "\tat java.util.concurrent.ThreadPoolExecutor.runWorker(ThreadPoolExecutor.java:1142)\n",
      "\tat java.util.concurrent.ThreadPoolExecutor$Worker.run(ThreadPoolExecutor.java:617)\n",
      "\tat java.lang.Thread.run(Thread.java:745)\n"
     ]
    },
    {
     "data": {
      "text/plain": [
       "No Outputs"
      ]
     },
     "execution_count": 3,
     "metadata": {},
     "output_type": "execute_result"
    }
   ],
   "source": [
    "List<String> cars = new LinkedList<>(Arrays.asList(\"jeden\", \"dwa\", \"trzy\"))\n",
    "Iterator<String> iterator = cars.iterator();\n",
    "cars.remove(\"jeden\");\n",
    "iterator.next();"
   ]
  },
  {
   "cell_type": "code",
   "execution_count": null,
   "metadata": {
    "slideshow": {
     "slide_type": "fragment"
    }
   },
   "outputs": [],
   "source": [
    "iterator.next();\n",
    "iterator.remove();"
   ]
  },
  {
   "cell_type": "markdown",
   "metadata": {
    "slideshow": {
     "slide_type": "slide"
    }
   },
   "source": [
    "# Interfejs `Set`\n",
    "\n",
    "* przechowuje elementy bez powtórzeń\n",
    "* wymaga poprawnej definicji metod `equals` i `hashCode`\n"
   ]
  },
  {
   "cell_type": "markdown",
   "metadata": {
    "slideshow": {
     "slide_type": "subslide"
    }
   },
   "source": [
    "<img src=\"img/set.png\"/>"
   ]
  },
  {
   "cell_type": "markdown",
   "metadata": {
    "slideshow": {
     "slide_type": "subslide"
    }
   },
   "source": [
    "# `equals` i `hashCode`"
   ]
  },
  {
   "cell_type": "code",
   "execution_count": null,
   "metadata": {
    "slideshow": {
     "slide_type": "-"
    }
   },
   "outputs": [],
   "source": [
    "class Car {\n",
    "    private String vin;\n",
    "    \n",
    "    public Car(String vin){\n",
    "        this.vin = vin;\n",
    "    }\n",
    "    \n",
    "    public boolean equals(Object other){\n",
    "        //...\n",
    "        Car that = (Car) other;\n",
    "        return this.vin.equals(that.vin);\n",
    "    }\n",
    "    \n",
    "    public int hashCode(){\n",
    "        return this.vin.hashCode();\n",
    "    }\n",
    "}\n",
    "\n",
    "Car car1 = new Car(\"ABC\");\n",
    "Car car2 = new Car(\"ABC\");\n",
    "Set<Car> cars = new HashSet<>();\n",
    "cars.add(car1);\n",
    "cars.add(car2);\n",
    "cars.size();"
   ]
  },
  {
   "cell_type": "markdown",
   "metadata": {
    "slideshow": {
     "slide_type": "subslide"
    }
   },
   "source": [
    "# Interfejs `SortedSet`\n",
    "\n",
    "* `SortedSet` przechowuje elementy w sposób uporządkowany\n",
    "* wymaga aby obiekty imeplementowały interfejs `Comparable` lub aby przekazano do niego obiekt implementujący \n",
    "  interfejs `Comparator`\n",
    "* metody:\n",
    "  * `headSet`\n",
    "  * `tailSet`\n",
    "  * `subSet`\n",
    "  * `first`\n",
    "  * `last`"
   ]
  },
  {
   "cell_type": "markdown",
   "metadata": {
    "slideshow": {
     "slide_type": "subslide"
    }
   },
   "source": [
    "# Przykład"
   ]
  },
  {
   "cell_type": "code",
   "execution_count": null,
   "metadata": {
    "slideshow": {
     "slide_type": "-"
    }
   },
   "outputs": [
    {
     "name": "stdout",
     "output_type": "stream",
     "text": [
      "[dwa]\n",
      "[jeden, trzy]\n",
      "[trzy]\n",
      "[jeden]\n"
     ]
    }
   ],
   "source": [
    "SortedSet<String> numbers = new TreeSet<>(Arrays.asList(\"dwa\", \"jeden\", \"trzy\"));\n",
    "println(numbers.headSet(\"jeden\"));\n",
    "println(numbers.tailSet(\"jeden\"));\n",
    "println(numbers.tailSet(\"jeden\\0\"));\n",
    "println(numbers.subSet(\"dwa\\0\",\"trzy\"));"
   ]
  },
  {
   "cell_type": "markdown",
   "metadata": {
    "slideshow": {
     "slide_type": "subslide"
    }
   },
   "source": [
    "# Implementacje interfejsu `Set`\n",
    "\n",
    "<table style=\"align: left; font-size:24px\">\n",
    "<tr>\n",
    "    <th>Klasa</th>\n",
    "    <th>Reprezentacja</th>\n",
    "    <th>Uporządkowanie</th>\n",
    "    <th>Ograniczenia</th>\n",
    "    <th>Wydajność dostępu</th>\n",
    "    <th>Wydajność iteracji</th>\n",
    "    <th>Uwagi</th>\n",
    "</tr>\n",
    "<tr>\n",
    "    <td>`HashSet`</td>\n",
    "    <td>tablica haszująca</td>\n",
    "    <td>brak</td>\n",
    "    <td>brak</td>\n",
    "    <td>O(1)</td>\n",
    "    <td>O(pojemność)</td>\n",
    "    <td>implementacja ogólnego przeznaczenia</td>\n",
    "</tr>\n",
    "<tr>\n",
    "    <td>`LinkedHashSet`</td>\n",
    "    <td>powiązana tablica haszująca</td>\n",
    "    <td>kolejność wstawiania</td>\n",
    "    <td>brak</td>\n",
    "    <td>O(1)</td>\n",
    "    <td>O(n)</td>\n",
    "    <td>zachowuje kolejność</td>\n",
    "</tr>\n",
    "<tr>\n",
    "    <td>`EnumSet`</td>\n",
    "    <td>pole bitowe</td>\n",
    "    <td>deklaracja</td>\n",
    "    <td>wartości `enum`</td>\n",
    "    <td>O(1)</td>\n",
    "    <td>O(n)</td>\n",
    "    <td>tylko wartości `enum`</td>\n",
    "</tr>\n",
    "<tr>\n",
    "    <td>`TreeSet`</td>\n",
    "    <td>drzewo czerwono-czarne</td>\n",
    "    <td>sortowanie rosnące</td>\n",
    "    <td>porównywalność</td>\n",
    "    <td>O(log(n))</td>\n",
    "    <td>O(n)</td>\n",
    "    <td>`Comparable` lub `Comparator`</td>\n",
    "</tr>\n",
    "<tr>\n",
    "    <td>`CopyOnWriteArraySet`</td>\n",
    "    <td>tablica</td>\n",
    "    <td>kolejność wstawiania</td>\n",
    "    <td>brak</td>\n",
    "    <td>O(n)</td>\n",
    "    <td>O(n)</td>\n",
    "    <td>bezpieczna zw. na wątki</td>\n",
    "</tr>\n",
    "</table>"
   ]
  },
  {
   "cell_type": "markdown",
   "metadata": {
    "slideshow": {
     "slide_type": "slide"
    }
   },
   "source": [
    "# Interfejs `Map`\n",
    "\n",
    "* implementuje strukturę słownika\n",
    "* odwzorowuje *klucze* na *wartości*\n",
    "* można to interpretować jako tablicę indeksowaną *kluczami*, które nie muszą być liczbami\n",
    "* (zazwyczaj) pozwala na szybki dostęp do elementów"
   ]
  },
  {
   "cell_type": "markdown",
   "metadata": {
    "slideshow": {
     "slide_type": "subslide"
    }
   },
   "source": [
    "# Interfejs `Map`\n",
    "\n",
    "* metody:\n",
    "  * `put`\n",
    "  * `get`\n",
    "  * `remove`\n",
    "  * `containsKey`\n",
    "  * `containsValue`\n",
    "  * `keySet`\n",
    "  * `values`\n",
    "  * `entrySet`"
   ]
  },
  {
   "cell_type": "markdown",
   "metadata": {
    "slideshow": {
     "slide_type": "subslide"
    }
   },
   "source": [
    "<img src=\"img/map.png\"/>"
   ]
  },
  {
   "cell_type": "markdown",
   "metadata": {
    "slideshow": {
     "slide_type": "subslide"
    }
   },
   "source": [
    "# `put`, `get`, `remove`"
   ]
  },
  {
   "cell_type": "code",
   "execution_count": null,
   "metadata": {
    "slideshow": {
     "slide_type": "-"
    }
   },
   "outputs": [],
   "source": [
    "Map<String,Integer> numbers = new HashMap<>();\n",
    "numbers.put(\"jeden\", 1);\n",
    "numbers.put(\"dwa\", 2);\n",
    "numbers.put(\"trzy\", 3);\n",
    "numbers.get(\"dwa\");            // => 2\n",
    "numbers.remove(\"dwa\");         // => 2\n",
    "numbers.get(\"dwa\")             // => null"
   ]
  },
  {
   "cell_type": "markdown",
   "metadata": {
    "slideshow": {
     "slide_type": "subslide"
    }
   },
   "source": [
    "# `containsKey`, `containsValue`"
   ]
  },
  {
   "cell_type": "code",
   "execution_count": null,
   "metadata": {
    "slideshow": {
     "slide_type": "-"
    }
   },
   "outputs": [],
   "source": [
    "Map<String,Integer> numbers = new HashMap<>();\n",
    "numbers.put(\"jeden\", 1);\n",
    "numbers.put(\"dwa\", 2);\n",
    "numbers.put(\"trzy\", 3);\n",
    "numbers.containsKey(\"jeden\");        // => true\n",
    "numbers.containsKey(\"cztery\");       // => false\n",
    "numbers.containsValue(1);            // => true\n",
    "numbers.containsValue(4);            // => false"
   ]
  },
  {
   "cell_type": "markdown",
   "metadata": {
    "slideshow": {
     "slide_type": "subslide"
    }
   },
   "source": [
    "# `keySet`, `values`, `entrySet`"
   ]
  },
  {
   "cell_type": "code",
   "execution_count": null,
   "metadata": {
    "slideshow": {
     "slide_type": "-"
    }
   },
   "outputs": [],
   "source": [
    "Map<String,Integer> numbers = new HashMap<>();\n",
    "numbers.put(\"jeden\", 1);\n",
    "numbers.put(\"dwa\", 2);\n",
    "numbers.put(\"trzy\", 3);\n",
    "numbers.keySet();                        // => Set: \"jeden\", \"trzy\", \"dwa\"\n",
    "numbers.values();                        // => Collection 1, 3, 2\n",
    "for(Map.Entry<String,Integer> entry : numbers.entrySet()){\n",
    "    System.out.println(\"\" + entry.key + \" : \" + entry.value);\n",
    "}\n",
    "// jeden : 1\n",
    "// trzy : 3\n",
    "// dwa : 2\n",
    "numbers.keySet().remove(\"jeden\")\n",
    "numbers                                  // => {trzy=3, dwa=2}"
   ]
  },
  {
   "cell_type": "markdown",
   "metadata": {
    "slideshow": {
     "slide_type": "subslide"
    }
   },
   "source": [
    "# Interfejs `SortedMap`\n",
    "\n",
    "* rozszerza interfejs `Map`\n",
    "* elementy są sortowane względem wartości kluczy\n",
    "* wymaga elementów typu `Comparable` lub przekazania obiektu `Comparator`\n",
    "* metody:\n",
    "  * `firstKey`\n",
    "  * `lastKey`\n",
    "  * `headMap`\n",
    "  * `tailMap`\n",
    "  * `subMap`"
   ]
  },
  {
   "cell_type": "markdown",
   "metadata": {
    "slideshow": {
     "slide_type": "subslide"
    }
   },
   "source": [
    "# `firstKey`, `lastKey`"
   ]
  },
  {
   "cell_type": "code",
   "execution_count": null,
   "metadata": {
    "slideshow": {
     "slide_type": "-"
    }
   },
   "outputs": [],
   "source": [
    "SortedMap<String,Integer> numbers = new TreeMap<>();\n",
    "numbers.put(\"jeden\", 1);\n",
    "numbers.put(\"dwa\", 2);\n",
    "numbers.put(\"trzy\", 3);\n",
    "numbers.firstKey();               // \"dwa\"\n",
    "numbers.lastKey();                // \"trzy\""
   ]
  },
  {
   "cell_type": "markdown",
   "metadata": {
    "slideshow": {
     "slide_type": "subslide"
    }
   },
   "source": [
    "# Implementacje interfejsu `Map`\n",
    "\n",
    "<table style=\"align: left; font-size:24px\">\n",
    "<tr>\n",
    "    <th>Klasa</th>\n",
    "    <th>Reprezentacja</th>\n",
    "    <th>klucze `null`</th>\n",
    "    <th>wartości `null`</th>\n",
    "    <th>uwagi</th>\n",
    "</tr>\n",
    "<tr>\n",
    "    <td>`HashMap`</td>\n",
    "    <td>tablica haszująca</td>\n",
    "    <td>tak</td>\n",
    "    <td>tak</td>\n",
    "    <td>implementacja ogólnego przeznaczenia</td>\n",
    "</tr>\n",
    "<tr>\n",
    "    <td>`ConcurrentHashMap`</td>\n",
    "    <td>tablica haszująca</td>\n",
    "    <td>nie</td>\n",
    "    <td>nie</td>\n",
    "    <td>implementacja bezpieczna zw. na wątki</td>\n",
    "</tr>\n",
    "<tr>\n",
    "    <td>`ConcurrentSkipListMap`</td>\n",
    "    <td>tablica haszująca</td>\n",
    "    <td>nie</td>\n",
    "    <td>nie</td>\n",
    "    <td>jw., interfejs `ConcurrentNavigableMap`</td>\n",
    "</tr>\n",
    "<tr>\n",
    "    <td>`EnumMap`</td>\n",
    "    <td>tablica</td>\n",
    "    <td>nie</td>\n",
    "    <td>nie</td>\n",
    "    <td>klucze to wartości `enum`</td>\n",
    "</tr>\n",
    "<tr>\n",
    "    <td>`LinkedHashMap`</td>\n",
    "    <td>tablica haszująca</td>\n",
    "    <td>tak</td>\n",
    "    <td>tak</td>\n",
    "    <td>zachowuje kolejność wstawiania</td>\n",
    "</tr>\n",
    "<tr>\n",
    "    <td>`TreeMap`</td>\n",
    "    <td>drzewo czerwono-czarne</td>\n",
    "    <td>nie</td>\n",
    "    <td>tak</td>\n",
    "    <td>posortowana wg wartości kluczy</td>\n",
    "</tr>\n",
    "<tr>\n",
    "    <td>`IdentityHashMap`</td>\n",
    "    <td>tablica haszująca</td>\n",
    "    <td>tak</td>\n",
    "    <td>tak</td>\n",
    "    <td>do porównywania używa ==</td>\n",
    "</tr>\n",
    "<tr>\n",
    "    <td>`WeakHashMap`</td>\n",
    "    <td>tablica haszująca</td>\n",
    "    <td>tak</td>\n",
    "    <td>tak</td>\n",
    "    <td>korzysta ze słabych referencji dla kluczy</td>\n",
    "</tr>\n",
    "<tr>\n",
    "    <td>`Hashtable`</td>\n",
    "    <td>tablica haszująca</td>\n",
    "    <td>nie</td>\n",
    "    <td>nie</td>\n",
    "    <td>przestarzała, synchronizowane metody</td>\n",
    "</tr>\n",
    "<tr>\n",
    "    <td>`Properties`</td>\n",
    "    <td>tablica haszująca</td>\n",
    "    <td>nie</td>\n",
    "    <td>nie</td>\n",
    "    <td>rozszerza `Hashtable` o metody klasy `String`</td>\n",
    "</tr>\n",
    "</table>"
   ]
  },
  {
   "cell_type": "markdown",
   "metadata": {
    "slideshow": {
     "slide_type": "skip"
    }
   },
   "source": [
    "# Metody pomocnicze `Collections`\n",
    "\n",
    "TODO"
   ]
  },
  {
   "cell_type": "markdown",
   "metadata": {
    "slideshow": {
     "slide_type": "slide"
    }
   },
   "source": [
    "![Pytania? ](http://cliparts.co/cliparts/qcB/jqg/qcBjqgxc5.jpg)"
   ]
  }
 ],
 "metadata": {
  "celltoolbar": "Slideshow",
  "kernelspec": {
   "display_name": "SciJava",
   "language": "groovy",
   "name": "scijava"
  },
  "language_info": {
   "codemirror_mode": "groovy",
   "file_extension": "",
   "mimetype": "",
   "name": "scijava",
   "nbconverter_exporter": "",
   "pygments_lexer": "groovy",
   "version": "1.0"
  }
 },
 "nbformat": 4,
 "nbformat_minor": 1
}
