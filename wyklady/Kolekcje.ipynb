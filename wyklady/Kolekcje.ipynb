{
 "cells": [
  {
   "cell_type": "markdown",
   "metadata": {
    "slideshow": {
     "slide_type": "slide"
    }
   },
   "source": [
    "# Kolekcje\n",
    "\n",
    "## Interfejsy i klasy służące do przechowywania obiektów\n",
    "\n",
    "<br/>\n",
    "\n",
    "## dr inż. Aleksander Smywiński-Pohl\n",
    "\n",
    "## apohllo@o2.pl\n",
    "\n",
    "## http://apohllo.pl/dydaktyka/programowanie-obiektowe"
   ]
  },
  {
   "cell_type": "markdown",
   "metadata": {
    "slideshow": {
     "slide_type": "slide"
    }
   },
   "source": [
    "# Plan\n",
    "\n",
    "* kolekcje - `Collection`\n",
    "* listy - `List`\n",
    "* iteratory - `Iterator`, `Iterable`\n",
    "* zbiory - `Set`\n",
    "* słowniki - `Map`\n",
    "* strumienie - `Streams`"
   ]
  },
  {
   "cell_type": "markdown",
   "metadata": {
    "slideshow": {
     "slide_type": "slide"
    }
   },
   "source": [
    "# Interfejs `Collection`\n",
    "\n",
    "* najbardziej wysokopoziomowy interfejs\n",
    "* mapa nie jest kolekcją (w Javie)\n",
    "* podstawowe operacje\n",
    "  * `add`\n",
    "  * `addAll`\n",
    "  * `remove`\n",
    "  * `removeAll`\n",
    "  * `retainAll`\n",
    "  * `clear`\n",
    "  * `isEmpty`\n",
    "  * `size`\n",
    "  * `contains`\n",
    "  * `containsAll`\n",
    "  * `toArray`\n",
    "  * `singleton`\n",
    "  * `iterator`"
   ]
  },
  {
   "cell_type": "markdown",
   "metadata": {
    "slideshow": {
     "slide_type": "subslide"
    }
   },
   "source": [
    "# Kolekcje bez typu\n",
    "\n",
    "```java\n",
    "Collection cars = new LinkedList();\n",
    "Car car1 = new Car();\n",
    "Rocket rocket1 = new Rocket();\n",
    "cars.add(car1);\n",
    "cars.add(rocket);\n",
    "cars.contains(car1);           // => true\n",
    "cars.contains(rocket1);        // => true\n",
    "cars.contains(new Rocket());   // => false\n",
    "``` "
   ]
  },
  {
   "cell_type": "markdown",
   "metadata": {
    "slideshow": {
     "slide_type": "subslide"
    }
   },
   "source": [
    "# Kolekcje z typem\n",
    "\n",
    "```java\n",
    "Collection<Car> cars = new LinkedList<>();\n",
    "Car car1 = new Car();\n",
    "Rocket rocket1 = new Rocket();\n",
    "cars.add(car1);\n",
    "cars.add(rocekt1);         // błąd kompilacji\n",
    "```"
   ]
  },
  {
   "cell_type": "markdown",
   "metadata": {
    "slideshow": {
     "slide_type": "subslide"
    }
   },
   "source": [
    "# `add`, `addAll`, `remove`, `removeAll`\n",
    "\n",
    "```java\n",
    "Collection<Car> cars1 = new LinkedList<>();\n",
    "cars1.add(new Car());\n",
    "cars1.add(new Car());\n",
    "cars1.add(new Car());\n",
    "Collection<Car> cars2 = new LinkedList<>();\n",
    "```"
   ]
  },
  {
   "cell_type": "markdown",
   "metadata": {
    "slideshow": {
     "slide_type": "fragment"
    }
   },
   "source": [
    "```java\n",
    "for(Car car : cars1){\n",
    "    cars2.add(car);\n",
    "}\n",
    "// prościej\n",
    "cars2.addAll(cars1);\n",
    "```"
   ]
  },
  {
   "cell_type": "markdown",
   "metadata": {
    "slideshow": {
     "slide_type": "fragment"
    }
   },
   "source": [
    "```java\n",
    "for(Car car : cars1){\n",
    "    cars2.remove(car);\n",
    "}\n",
    "// prościej\n",
    "cars2.removeAll(cars1);\n",
    "```"
   ]
  },
  {
   "cell_type": "markdown",
   "metadata": {
    "slideshow": {
     "slide_type": "subslide"
    }
   },
   "source": [
    "# `remove`, `size`, `empty` i `singleton`\n",
    "\n",
    "```java\n",
    "Collection<Car> cars1 = new LinkedList<>();\n",
    "Car car = new Car();\n",
    "cars1.add(car);\n",
    "cars1.add(car);\n",
    "cars1.remove(car);\n",
    "cars1.size();\n",
    "```"
   ]
  },
  {
   "cell_type": "markdown",
   "metadata": {
    "slideshow": {
     "slide_type": "fragment"
    }
   },
   "source": [
    "```java\n",
    "cars1.add(car);\n",
    "cars1.add(car);\n",
    "cars1.removeAll(Collections.singleton(car));\n",
    "cars1.isEmpty();\n",
    "```"
   ]
  },
  {
   "cell_type": "markdown",
   "metadata": {
    "slideshow": {
     "slide_type": "subslide"
    }
   },
   "source": [
    "# `toArray`\n",
    "\n",
    "```java\n",
    "Collection<Car> cars1 = new LinkedList<>();\n",
    "Car car = new Car();\n",
    "cars1.add(car);\n",
    "cars1.add(car);\n",
    "cars1.add(new Car());\n",
    "```"
   ]
  },
  {
   "cell_type": "markdown",
   "metadata": {
    "slideshow": {
     "slide_type": "fragment"
    }
   },
   "source": [
    "```java\n",
    "Car[] carsAsArray1 = cars1.toArray();             // to nie zadziała\n",
    "Object[] carsAsArray2 = cars1.toArray();          // to zadziała\n",
    "Car[] carsAsArray3 = cars1.toArray(new Car[0]);   // i to też\n",
    "```"
   ]
  },
  {
   "cell_type": "markdown",
   "metadata": {
    "slideshow": {
     "slide_type": "subslide"
    }
   },
   "source": [
    "# `singleton` i opcjonalne metody\n",
    "\n",
    "```java\n",
    "Collection<Car> oneCar = Collections.singleton(new Car());\n",
    "oneCar.add(new Car());\n",
    "```"
   ]
  },
  {
   "cell_type": "markdown",
   "metadata": {
    "slideshow": {
     "slide_type": "fragment"
    }
   },
   "source": [
    "```\n",
    "oneCar.add(new Car());\n",
    "|  java.lang.UnsupportedOperationException thrown: \n",
    "|        at AbstractCollection.add (AbstractCollection.java:267)\n",
    "|        at (#77:1)\n",
    "```"
   ]
  },
  {
   "cell_type": "markdown",
   "metadata": {
    "slideshow": {
     "slide_type": "slide"
    }
   },
   "source": [
    "# List\n",
    "* uporządkowany zbiór obiektów\n",
    "* obiekty mogą się powtarzać\n",
    "* obiekty posiadają *indeks*\n",
    "* metody `List`\n",
    "  * `get`\n",
    "  * `set`\n",
    "  * `indexOf`\n",
    "  * `lastIndexOf`\n",
    "  * `subList`\n",
    "* metody `Collections`\n",
    "  * `sort`\n",
    "  * `min`, `max`\n",
    "* metody `Arrays`\n",
    "  * `asList`"
   ]
  },
  {
   "cell_type": "markdown",
   "metadata": {
    "slideshow": {
     "slide_type": "subslide"
    }
   },
   "source": [
    "```java\n",
    "List<String> words = Arrays.asList(\"jeden\", \"dwa\", \"trzy\");\n",
    "words.get(0);          // => \"jeden\"\n",
    "words.set(0,\"zero\");   // => \"jeden\"\n",
    "words.get(0);          // => \"zero\"\n",
    "words.add(\"dwa\");      // UnsupportedOperationException\n",
    "```"
   ]
  },
  {
   "cell_type": "markdown",
   "metadata": {
    "slideshow": {
     "slide_type": "fragment"
    }
   },
   "source": [
    "```java\n",
    "List<String> words = Arrays.asList(\"jeden\", \"dwa\", \"jeden\");\n",
    "words.indexOf(\"jeden\");        // => 0\n",
    "words.lastIndexOf(\"jeden\");    // => 2\n",
    "```"
   ]
  },
  {
   "cell_type": "markdown",
   "metadata": {
    "slideshow": {
     "slide_type": "subslide"
    }
   },
   "source": [
    "```java\n",
    "List<String> words = new LinkedList<>();\n",
    "words.add(\"jeden\");\n",
    "words.add(\"dwa\");\n",
    "words.add(\"jeden\");\n",
    "words.subList(1,3).clear();       \n",
    "words                                     // [\"jeden\"]\n",
    "```"
   ]
  },
  {
   "cell_type": "markdown",
   "metadata": {
    "slideshow": {
     "slide_type": "subslide"
    }
   },
   "source": [
    "# `Collections`: `sort`, `min`, `max`\n",
    "\n",
    "```java\n",
    "List<String> words = Arrays.asList(\"jeden\", \"dwa\", \"trzy\");\n",
    "Collections.sort(words);           // \"dwa\", \"jeden\", \"trzy\"\n",
    "```"
   ]
  },
  {
   "cell_type": "markdown",
   "metadata": {
    "slideshow": {
     "slide_type": "skip"
    }
   },
   "source": [
    "```java\n",
    "Collections.sort(words, new Comparator<String> {\n",
    "    int compare(String a, String b) {\n",
    "        if(a.length() == b.length()){\n",
    "            return String.compare(a,b);\n",
    "        }\n",
    "        return a.length() - b.length();\n",
    "    }\n",
    "}\n",
    "```"
   ]
  },
  {
   "cell_type": "markdown",
   "metadata": {
    "slideshow": {
     "slide_type": "fragment"
    }
   },
   "source": [
    "```java\n",
    "Collections.min(words);   // \"dwa\"\n",
    "Collections.max(words);   // \"trzy\"\n",
    "```"
   ]
  },
  {
   "cell_type": "markdown",
   "metadata": {
    "slideshow": {
     "slide_type": "subslide"
    }
   },
   "source": [
    "# Lista liczb\n",
    "\n",
    "```java\n",
    "List<Integer> numbers = new LinkedList<>();\n",
    "numbers.add(3);\n",
    "numbers.add(2);\n",
    "numbers.add(1);\n",
    "numbers.add(0);\n",
    "numbers.remove(0);\n",
    "numbers.remove(new Integer(0));\n",
    "numbers\n",
    "```"
   ]
  },
  {
   "cell_type": "markdown",
   "metadata": {
    "slideshow": {
     "slide_type": "subslide"
    }
   },
   "source": [
    "# Implementacje interfejsu `List`\n",
    "\n",
    "<table>\n",
    "<tr>\n",
    "    <th>Klasa</th>\n",
    "    <th>Reprezentacja</th>\n",
    "    <th>Uwagi</th>\n",
    "</tr>\n",
    "<tr>\n",
    "    <td>`ArrayList`</td>\n",
    "    <td>tablica</td>\n",
    "    <td>implementacja ogólnego przeznaczenia</td>\n",
    "</tr>\n",
    "<tr>\n",
    "    <td>`LinkedList`</td>\n",
    "    <td>lista dwukierunkowa</td>\n",
    "    <td>efektywne wstawianie i usuwanie</td>\n",
    "</tr>\n",
    "<tr>\n",
    "    <td>`CopyOnWriteArrayList`</td>\n",
    "    <td>tablica</td>\n",
    "    <td>bezpieczna zw. na wątki</td>\n",
    "</tr>\n",
    "<tr>\n",
    "    <td>`Vector`</td>\n",
    "    <td>tablica</td>\n",
    "    <td>synchronizowane metody, przestarzała</td>\n",
    "</tr>\n",
    "<tr>\n",
    "    <td>`Stack`</td>\n",
    "    <td>tablica</td>\n",
    "    <td>dodaje metody `push`, `pop`, `peek`, przestarzała</td>\n",
    "</tr>\n",
    "</table>"
   ]
  },
  {
   "cell_type": "markdown",
   "metadata": {
    "slideshow": {
     "slide_type": "slide"
    }
   },
   "source": [
    "# Wzorzec `Iterator`\n",
    "\n",
    "```java\n",
    "Collection<Car> cars1 = new LinkedList<>();\n",
    "Car car = new Car();\n",
    "cars1.add(car);\n",
    "cars1.add(car);\n",
    "Iterator<Car> iterator = cars1.iterator();\n",
    "while(iterator.hasNext()){\n",
    "    System.out.println(iterator.next());\n",
    "}\n",
    "```"
   ]
  },
  {
   "cell_type": "markdown",
   "metadata": {
    "slideshow": {
     "slide_type": "fragment"
    }
   },
   "source": [
    "```java\n",
    "// krócej\n",
    "for(Car car : cars1){\n",
    "    System.out.println(car);\n",
    "}\n",
    "```"
   ]
  },
  {
   "cell_type": "markdown",
   "metadata": {
    "slideshow": {
     "slide_type": "subslide"
    }
   },
   "source": [
    "<img src=\"img/iterator.png\">"
   ]
  },
  {
   "cell_type": "markdown",
   "metadata": {
    "slideshow": {
     "slide_type": "subslide"
    }
   },
   "source": [
    "# Interfejs `Iterator<E>`\n",
    "\n",
    "* służy do definiowania iteratorów\n",
    "* metody:\n",
    "  * next\n",
    "  * hasNext\n",
    "  * remove\n",
    "  \n",
    "```java\n",
    "public interface Iterator<E> {\n",
    "    boolean hasNext();\n",
    "    E next();\n",
    "    void remove();\n",
    "}\n",
    "```"
   ]
  },
  {
   "cell_type": "markdown",
   "metadata": {
    "slideshow": {
     "slide_type": "subslide"
    }
   },
   "source": [
    "# Interfejs `Iterable<E>`\n",
    "\n",
    "* zwraca iterator\n",
    "* pozwala \"chodzić\" po swoich elementach\n",
    "\n",
    "```java\n",
    "public interface Iterable<E> {\n",
    "    java.util.Iterator<E> iterator();\n",
    "}\n",
    "```"
   ]
  },
  {
   "cell_type": "markdown",
   "metadata": {
    "slideshow": {
     "slide_type": "subslide"
    }
   },
   "source": [
    "# Wyjątek `ConcurrentModificationException`\n",
    "\n",
    "```java\n",
    "List<String> cars = new LinkedList<>(Arrays.asList(\"jeden\", \"dwa\", \"trzy\"))\n",
    "Iterator<String> iterator = cars.iterator();\n",
    "cars.remove(\"jeden\");\n",
    "iterator.next();\n",
    "```"
   ]
  },
  {
   "cell_type": "markdown",
   "metadata": {
    "slideshow": {
     "slide_type": "fragment"
    }
   },
   "source": [
    "```java\n",
    "iterator.next();\n",
    "iterator.remove();\n",
    "```"
   ]
  },
  {
   "cell_type": "markdown",
   "metadata": {
    "slideshow": {
     "slide_type": "slide"
    }
   },
   "source": [
    "# Interfejs `Set`\n",
    "\n",
    "* przechowuje elementy bez powtórzeń\n",
    "* wymaga poprawnej definicji metod `equals` i `hashCode`\n"
   ]
  },
  {
   "cell_type": "markdown",
   "metadata": {
    "slideshow": {
     "slide_type": "subslide"
    }
   },
   "source": [
    "# `equals` i `hashCode`\n",
    "\n",
    "```java\n",
    "class Car {\n",
    "    private String vin;\n",
    "    \n",
    "    public Car(String vin){\n",
    "        this.vin = vin;\n",
    "    }\n",
    "    \n",
    "    public boolean equals(Object other){\n",
    "        //...\n",
    "        Car that = (Car) other;\n",
    "        return this.vin.equals(that.vin);\n",
    "    }\n",
    "    \n",
    "    public int hashCode(){\n",
    "        return this.vin.hashCode();\n",
    "    }\n",
    "}\n",
    "\n",
    "Car car1 = new Car(\"ABC\");\n",
    "Car car2 = new Car(\"ABC\");\n",
    "Set<Car> cars = new HashSet<>();\n",
    "cars.add(car1);\n",
    "cars.add(car2);\n",
    "cars.size();\n",
    "```"
   ]
  },
  {
   "cell_type": "markdown",
   "metadata": {
    "slideshow": {
     "slide_type": "subslide"
    }
   },
   "source": [
    "# Interfejs `SortedSet`\n",
    "\n",
    "* `SortedSet` przechowuje elementy w sposób uporządkowany\n",
    "* wymaga aby obiekty imeplementowały interfejs `Comparable` lub aby przekazano do niego obiekt implementujący \n",
    "  interfejs `Comparator`\n",
    "* metody:\n",
    "  * `headSet`\n",
    "  * `tailSet`\n",
    "  * `subSet`\n",
    "  * `first`\n",
    "  * `last`"
   ]
  },
  {
   "cell_type": "markdown",
   "metadata": {
    "slideshow": {
     "slide_type": "subslide"
    }
   },
   "source": [
    "# Przykład\n",
    "\n",
    "```java\n",
    "SortedSet<String> numbers = new TreeSet<>(Arrays.asList(\"jeden\", \"dwa\", \"trzy\"));\n",
    "numbers.headSet(\"jeden\");\n",
    "numbers.tailSet(\"jeden\");\n",
    "numbers.tailSet(\"jeden\\0\");\n",
    "numbers.subSet(\"dwa\\0\",\"trzy\");\n",
    "```"
   ]
  },
  {
   "cell_type": "markdown",
   "metadata": {
    "slideshow": {
     "slide_type": "slide"
    }
   },
   "source": [
    "# Implementacje interfejsu `Set`\n",
    "\n",
    "<table>\n",
    "<tr>\n",
    "    <th>Klasa</th>\n",
    "    <th>Reprezentacja</th>\n",
    "    <th>Uporządkowanie</th>\n",
    "    <th>Ograniczenia</th>\n",
    "    <th>Wydajność dostępu</th>\n",
    "    <th>Wydajność iteracji</th>\n",
    "    <th>Uwagi</th>\n",
    "</tr>\n",
    "<tr>\n",
    "    <td>`HashSet`</td>\n",
    "    <td>tablica haszująca</td>\n",
    "    <td>brak</td>\n",
    "    <td>brak</td>\n",
    "    <td>O(1)</td>\n",
    "    <td>O(pojemność)</td>\n",
    "    <td>implementacja ogólnego przeznaczenia</td>\n",
    "</tr>\n",
    "<tr>\n",
    "    <td>`LinkedHashSet`</td>\n",
    "    <td>powiązana tablica haszująca</td>\n",
    "    <td>kolejność wstawiania</td>\n",
    "    <td>brak</td>\n",
    "    <td>O(1)</td>\n",
    "    <td>O(n)</td>\n",
    "    <td>zachowuje kolejność</td>\n",
    "</tr>\n",
    "<tr>\n",
    "    <td>`EnumSet`</td>\n",
    "    <td>pole bitowe</td>\n",
    "    <td>deklaracja</td>\n",
    "    <td>wartości `enum`</td>\n",
    "    <td>O(1)</td>\n",
    "    <td>O(n)</td>\n",
    "    <td>tylko wartości `enum`</td>\n",
    "</tr>\n",
    "<tr>\n",
    "    <td>`TreeSet`</td>\n",
    "    <td>drzewo czerwono-czarne</td>\n",
    "    <td>sortowanie rosnące</td>\n",
    "    <td>porównywalność</td>\n",
    "    <td>O(log(n))</td>\n",
    "    <td>O(n)</td>\n",
    "    <td>`Comparable` lub `Comparator`</td>\n",
    "</tr>\n",
    "<tr>\n",
    "    <td>`CopyOnWriteArraySet`</td>\n",
    "    <td>tablica</td>\n",
    "    <td>kolejność wstawiania</td>\n",
    "    <td>brak</td>\n",
    "    <td>O(n)</td>\n",
    "    <td>O(n)</td>\n",
    "    <td>bezpieczna zw. na wątki</td>\n",
    "</tr>\n",
    "</table>"
   ]
  },
  {
   "cell_type": "markdown",
   "metadata": {
    "slideshow": {
     "slide_type": "slide"
    }
   },
   "source": [
    "# Interfejs `Map`\n",
    "\n",
    "* implementuje strukturę słownika\n",
    "* odwzorowuje *klucze* na *wartości*\n",
    "* można to interpretować jako tablicę indeksowaną *kluczami*, które nie muszą być liczbami\n",
    "* pozwala na szybki dostęp do elementów\n",
    "* metody:\n",
    "  * `put`\n",
    "  * `get`\n",
    "  * `remove`\n",
    "  * `containsKey`\n",
    "  * `containsValue`\n",
    "  * `keySet`\n",
    "  * `values`\n",
    "  * `entrySet`"
   ]
  },
  {
   "cell_type": "markdown",
   "metadata": {
    "slideshow": {
     "slide_type": "subslide"
    }
   },
   "source": [
    "# `put`, `get`, `remove`\n",
    "\n",
    "```java\n",
    "Map<String,Integer> numbers = new HashMap<>();\n",
    "numbers.put(\"jeden\", 1);\n",
    "numbers.put(\"dwa\", 2);\n",
    "numbers.put(\"trzy\", 3);\n",
    "numbers.get(\"dwa\");            // => 2\n",
    "numbers.remove(\"dwa\");         // => 2\n",
    "numbers.get(\"dwa\")             // => null\n",
    "```"
   ]
  },
  {
   "cell_type": "markdown",
   "metadata": {
    "slideshow": {
     "slide_type": "subslide"
    }
   },
   "source": [
    "# `containsKey`, `containsValue`\n",
    "\n",
    "```java\n",
    "Map<String,Integer> numbers = new HashMap<>();\n",
    "numbers.put(\"jeden\", 1);\n",
    "numbers.put(\"dwa\", 2);\n",
    "numbers.put(\"trzy\", 3);\n",
    "numbers.containsKey(\"jeden\");        // => true\n",
    "numbers.containsKey(\"cztery\");       // => false\n",
    "numbers.containsValue(1);            // => true\n",
    "numbers.containsValue(4);            // => false\n",
    "```"
   ]
  },
  {
   "cell_type": "markdown",
   "metadata": {
    "slideshow": {
     "slide_type": "subslide"
    }
   },
   "source": [
    "# `keySet`, `values`, `entrySet`\n",
    "\n",
    "```java\n",
    "Map<String,Integer> numbers = new HashMap<>();\n",
    "numbers.put(\"jeden\", 1);\n",
    "numbers.put(\"dwa\", 2);\n",
    "numbers.put(\"trzy\", 3);\n",
    "numbers.keySet();                        // => Set: \"jeden\", \"trzy\", \"dwa\"\n",
    "numbers.values();                        // => Collection 1, 3, 2\n",
    "for(Map.Entry<String,Integer> entry : numbers.entrySet()){\n",
    "    System.out.println(\"\" + entry.key + \" : \" + entry.value);\n",
    "}\n",
    "// jeden : 1\n",
    "// trzy : 3\n",
    "// dwa : 2\n",
    "numbers.keySet().remove(\"jeden\")\n",
    "numbers                                  // => {trzy=3, dwa=2}\n",
    "```"
   ]
  },
  {
   "cell_type": "markdown",
   "metadata": {
    "slideshow": {
     "slide_type": "subslide"
    }
   },
   "source": [
    "# Interfejs `SortedMap`\n",
    "\n",
    "* rozszerza interfejs `Map`\n",
    "* elementy są sortowane względem wartości kluczy\n",
    "* wymaga elementów typu `Comparable` lub przekazania obiektu `Comparator`\n",
    "* metody:\n",
    "  * `firstKey`\n",
    "  * `lastKey`\n",
    "  * `headMap`\n",
    "  * `tailMap`\n",
    "  * `subMap`"
   ]
  },
  {
   "cell_type": "markdown",
   "metadata": {
    "slideshow": {
     "slide_type": "subslide"
    }
   },
   "source": [
    "# `firstKey`, `lastKey`\n",
    "\n",
    "```java\n",
    "SortedMap<String,Integer> numbers = new TreeMap<>();\n",
    "numbers.put(\"jeden\", 1);\n",
    "numbers.put(\"dwa\", 2);\n",
    "numbers.put(\"trzy\", 3);\n",
    "numbers.firstKey();               // \"dwa\"\n",
    "numbers.lastKey();                // \"trzy\"\n",
    "```"
   ]
  },
  {
   "cell_type": "markdown",
   "metadata": {
    "slideshow": {
     "slide_type": "subslide"
    }
   },
   "source": [
    "# Implementacje interfejsu `Map`\n",
    "\n",
    "<table>\n",
    "<tr>\n",
    "    <th>Klasa</th>\n",
    "    <th>Reprezentacja</th>\n",
    "    <th>klucze `null`</th>\n",
    "    <th>wartości `null`</th>\n",
    "    <th>uwagi</th>\n",
    "</tr>\n",
    "<tr>\n",
    "    <td>`HashMap`</td>\n",
    "    <td>tablica haszująca</td>\n",
    "    <td>tak</td>\n",
    "    <td>tak</td>\n",
    "    <td>implementacja ogólnego przeznaczenia</td>\n",
    "</tr>\n",
    "<tr>\n",
    "    <td>`ConcurrentHashMap`</td>\n",
    "    <td>tablica haszująca</td>\n",
    "    <td>nie</td>\n",
    "    <td>nie</td>\n",
    "    <td>implementacja bezpieczna zw. na wątki</td>\n",
    "</tr>\n",
    "<tr>\n",
    "    <td>`ConcurrentSkipListMap`</td>\n",
    "    <td>tablica haszująca</td>\n",
    "    <td>nie</td>\n",
    "    <td>nie</td>\n",
    "    <td>jw., interfejs `ConcurrentNavigableMap`</td>\n",
    "</tr>\n",
    "<tr>\n",
    "    <td>`EnumMap`</td>\n",
    "    <td>tablica</td>\n",
    "    <td>nie</td>\n",
    "    <td>nie</td>\n",
    "    <td>klucze to wartości `enum`</td>\n",
    "</tr>\n",
    "<tr>\n",
    "    <td>`LinkedHashMap`</td>\n",
    "    <td>tablica haszująca</td>\n",
    "    <td>tak</td>\n",
    "    <td>tak</td>\n",
    "    <td>zachowuje kolejność wstawiania</td>\n",
    "</tr>\n",
    "<tr>\n",
    "    <td>`TreeMap`</td>\n",
    "    <td>drzewo czerwono-czarne</td>\n",
    "    <td>nie</td>\n",
    "    <td>tak</td>\n",
    "    <td>posortowana wg wartości kluczy</td>\n",
    "</tr>\n",
    "<tr>\n",
    "    <td>`IdentityHashMap`</td>\n",
    "    <td>tablica haszująca</td>\n",
    "    <td>tak</td>\n",
    "    <td>tak</td>\n",
    "    <td>do porównywania używa ==</td>\n",
    "</tr>\n",
    "<tr>\n",
    "    <td>`WeakHashMap`</td>\n",
    "    <td>tablica haszująca</td>\n",
    "    <td>tak</td>\n",
    "    <td>tak</td>\n",
    "    <td>korzysta ze słabych referencji dla kluczy</td>\n",
    "</tr>\n",
    "<tr>\n",
    "    <td>`Hashtable`</td>\n",
    "    <td>tablica haszująca</td>\n",
    "    <td>nie</td>\n",
    "    <td>nie</td>\n",
    "    <td>przestarzała, synchronizowane metody</td>\n",
    "</tr>\n",
    "<tr>\n",
    "    <td>`Properties`</td>\n",
    "    <td>tablica haszująca</td>\n",
    "    <td>nie</td>\n",
    "    <td>nie</td>\n",
    "    <td>rozszerza `Hashtable` o metody klasy `String`</td>\n",
    "</tr>\n",
    "</table>"
   ]
  },
  {
   "cell_type": "markdown",
   "metadata": {
    "slideshow": {
     "slide_type": "skip"
    }
   },
   "source": [
    "# Metody pomocnicze `Collections`\n",
    "\n",
    "TODO"
   ]
  },
  {
   "cell_type": "markdown",
   "metadata": {
    "slideshow": {
     "slide_type": "slide"
    }
   },
   "source": [
    "# Interfejs `Stream` i techniki funkcyjne\n",
    "\n",
    "* interfejs `Collection` został rozszerzony o metodę `streams`\n",
    "* metoda ta została wprowadzona aby ograniczyć wsteczną niekompatybilność\n",
    "* metoda ta jest domyślna w interfejsie `Collection`\n",
    "* metoda zwraca elemet typu `Stream`\n",
    "* interfejs `Stream` umożliwia wykonywania metod funkcyjnych:\n",
    "  * `allMatch`\n",
    "  * `anyMatch`\n",
    "  * `collect`\n",
    "  * `concat`\n",
    "  * `count`\n",
    "  * `distinct`\n",
    "  * `empty`\n",
    "  * `filter`\n",
    "  * `findAny`\n",
    "  * `findFirst`\n",
    "  * `flatMap`\n",
    "  * `forEach`\n",
    "  * `map`\n",
    "  * itd."
   ]
  },
  {
   "cell_type": "markdown",
   "metadata": {
    "slideshow": {
     "slide_type": "subslide"
    }
   },
   "source": [
    "# `fliter`, `map` i `collect`\n",
    "\n",
    "```java\n",
    "import java.util.stream.*;\n",
    "\n",
    "Collection<String> numbers = Arrays.asList(1, 2, 3, 4, 5, 6);\n",
    "numbers.stream().filter(e -> e % 2 == 0).\n",
    "                 map(e -> e.toString()).\n",
    "                 collect(Collectors.toList());\n",
    "```"
   ]
  },
  {
   "cell_type": "markdown",
   "metadata": {
    "slideshow": {
     "slide_type": "subslide"
    }
   },
   "source": [
    "# `map`\n",
    "\n",
    "```java\n",
    "import java.util.stream.*;\n",
    "\n",
    "Collection<String> numbers = Arrays.asList(\"jeden\", \"dwa\", \"trzy\", \"cztery\");\n",
    "numbers.stream().map(String::length).\n",
    "                 collect(Collectors.joining(\", \"));\n",
    "```"
   ]
  },
  {
   "cell_type": "markdown",
   "metadata": {
    "slideshow": {
     "slide_type": "subslide"
    }
   },
   "source": [
    "# `forEach`\n",
    "\n",
    "```java\n",
    "Collection<String> numbers = Arrays.asList(\"jeden\", \"dwa\", \"trzy\", \"cztery\");\n",
    "numbers.stream().forEach(System.out::println);\n",
    "// jeden\n",
    "// dwa\n",
    "// trzy\n",
    "// cztery\n",
    "```"
   ]
  },
  {
   "cell_type": "markdown",
   "metadata": {
    "slideshow": {
     "slide_type": "subslide"
    }
   },
   "source": [
    "# `map` i `reduce`\n",
    "\n",
    "```java\n",
    "Collection<String> numbers = Arrays.asList(\"jeden\", \"dwa\", \"trzy\", \"cztery\");\n",
    "double sum = numbers.stream().map(String::length).\n",
    "                              reduce(0, (x,y) -> { return x + y; });\n",
    "System.out.println(sum / numbers.size());\n",
    "```"
   ]
  },
  {
   "cell_type": "markdown",
   "metadata": {
    "slideshow": {
     "slide_type": "slide"
    }
   },
   "source": [
    "![Pytania? ](http://cliparts.co/cliparts/qcB/jqg/qcBjqgxc5.jpg)"
   ]
  }
 ],
 "metadata": {
  "celltoolbar": "Slideshow",
  "kernelspec": {
   "display_name": "Java 9",
   "language": "java",
   "name": "java"
  },
  "language_info": {
   "file_extension": ".class",
   "mimetype": "application/java-vm",
   "name": "java"
  }
 },
 "nbformat": 4,
 "nbformat_minor": 1
}
