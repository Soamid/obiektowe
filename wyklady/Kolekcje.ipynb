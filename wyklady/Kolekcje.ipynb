{
 "cells": [
  {
   "cell_type": "markdown",
   "metadata": {
    "slideshow": {
     "slide_type": "slide"
    }
   },
   "source": [
    "  # Kolekcje\n",
    "\n",
    "## Interfejsy i klasy służące do przechowywania obiektów\n",
    "\n",
    "<br/>\n",
    "\n",
    "## Michał Idzik\n",
    "## miidzik@agh.edu.pl\n",
    "\n",
    "### Autorzy: Aleksander Smywiński-Pohl, Michał Idzik\n",
    "\n",
    " "
   ]
  },
  {
   "cell_type": "markdown",
   "metadata": {
    "slideshow": {
     "slide_type": "slide"
    }
   },
   "source": [
    "<img src=\"img/collections.png\" style=\"width: 1280px;\"/>"
   ]
  },
  {
   "cell_type": "markdown",
   "metadata": {
    "slideshow": {
     "slide_type": "notes"
    }
   },
   "source": [
    "Wykład ten ilustruje wykorzystanie interfejsów, klas abstrakcyjnych i klas konkretnych w bibliotece\n",
    "standardowej Javy. Pokazuje również odstęstwa od ogólnie przyjętych zasad programowania obiektowe."
   ]
  },
  {
   "cell_type": "markdown",
   "metadata": {
    "slideshow": {
     "slide_type": "subslide"
    }
   },
   "source": [
    "# Plan\n",
    "\n",
    "* kolekcje - `Collection`\n",
    "* listy - `List`\n",
    "* iteratory - `Iterator`, `Iterable`\n",
    "* zbiory - `Set`\n",
    "* słowniki - `Map`"
   ]
  },
  {
   "cell_type": "markdown",
   "metadata": {
    "cell_style": "split",
    "slideshow": {
     "slide_type": "slide"
    }
   },
   "source": [
    "# Interfejs `Collection`\n",
    "\n",
    "* mapa (słownik) nie jest kolekcją (w Javie)\n",
    "* podstawowe operacje\n",
    "  * `add`\n",
    "  * `addAll`\n",
    "  * `remove`\n",
    "  * `removeAll`\n",
    "  * `retainAll`\n",
    "  * `clear`\n",
    "  * `isEmpty`"
   ]
  },
  {
   "cell_type": "markdown",
   "metadata": {
    "slideshow": {
     "slide_type": "notes"
    }
   },
   "source": [
    "Interfejs `Collection` posiada najważniejsze wywołania związane z obsługą różnych typów kolekcji."
   ]
  },
  {
   "cell_type": "markdown",
   "metadata": {
    "slideshow": {
     "slide_type": "subslide"
    }
   },
   "source": [
    "# Interfejs `Collection` cd.\n",
    "\n",
    "* podstawowe operacje\n",
    "  * `size`\n",
    "  * `contains`\n",
    "  * `containsAll`\n",
    "  * `toArray`\n",
    "  * `singleton`\n",
    "  * `iterator`\n",
    "  * ..."
   ]
  },
  {
   "cell_type": "markdown",
   "metadata": {
    "slideshow": {
     "slide_type": "subslide"
    }
   },
   "source": [
    "<img src=\"img/collections-interface.png\"/>"
   ]
  },
  {
   "cell_type": "markdown",
   "metadata": {
    "slideshow": {
     "slide_type": "subslide"
    }
   },
   "source": [
    "# Kolekcje bez typu"
   ]
  },
  {
   "cell_type": "code",
   "execution_count": 1,
   "metadata": {
    "ExecuteTime": {
     "end_time": "2021-11-24T07:20+0000",
     "start_time": "2021-11-24T07:20:51.944Z"
    },
    "slideshow": {
     "slide_type": "-"
    }
   },
   "outputs": [
    {
     "name": "stdout",
     "output_type": "stream",
     "text": [
      "true\n",
      "true\n",
      "false\n"
     ]
    }
   ],
   "source": [
    "class Car {}\n",
    "class Rocket {}\n",
    "\n",
    "var cars = new LinkedList();\n",
    "Car car1 = new Car();\n",
    "Rocket rocket1 = new Rocket();\n",
    "cars.add(car1);\n",
    "cars.add(rocket1);\n",
    "\n",
    "System.out.println(cars.contains(car1));           \n",
    "System.out.println(cars.contains(rocket1));        \n",
    "System.out.println(cars.contains(new Rocket()));\n",
    "\n",
    "Car car2 = (Car)cars.get(0);"
   ]
  },
  {
   "cell_type": "markdown",
   "metadata": {
    "slideshow": {
     "slide_type": "notes"
    }
   },
   "source": [
    "Kolekcje bez typu (bez parametru w nawiasach ostrych) pozwalają przechowywać dowolne wartości referencyjne. W jednej kolekcji można zatem umieszczać obiekty z klas zupełnie ze sobą niepowiązanych. Późniejsze wykorzystanie\n",
    "obiektu z takiej kolekcji wymaga jednak rzutowania na odpowiedni typ. Ponieważ jednak nie mamy gwarancji, że w danej kolekcji są obiekty tylko tego typu, rzutowanie takie może zakończyć się błędem."
   ]
  },
  {
   "cell_type": "markdown",
   "metadata": {
    "slideshow": {
     "slide_type": "subslide"
    }
   },
   "source": [
    "# Kolekcje z typem"
   ]
  },
  {
   "cell_type": "code",
   "execution_count": 2,
   "metadata": {
    "ExecuteTime": {
     "end_time": "2021-11-24T07:24+0000",
     "start_time": "2021-11-24T07:24:01.463Z"
    },
    "slideshow": {
     "slide_type": "-"
    }
   },
   "outputs": [
    {
     "ename": "CompilationException",
     "evalue": "",
     "output_type": "error",
     "traceback": [
      "\u001b[1m\u001b[30m|   \u001b[1m\u001b[30mcars.add(\u001b[0m\u001b[1m\u001b[30m\u001b[41mrocket1\u001b[0m\u001b[1m\u001b[30m);\u001b[0m",
      "\u001b[1m\u001b[31mincompatible types: Rocket cannot be converted to Car\u001b[0m",
      ""
     ]
    }
   ],
   "source": [
    "class Car {\n",
    "    public void drive(){\n",
    "        System.out.println(\"Jadę\");\n",
    "    }\n",
    "}\n",
    "class Rocket {}\n",
    "\n",
    "var cars = new LinkedList<Car>();\n",
    "Car car1 = new Car();\n",
    "Rocket rocket1 = new Rocket();\n",
    "cars.add(car1);\n",
    "cars.add(rocket1);    \n",
    "Car car2 = cars.get(0);\n",
    "car2.drive();"
   ]
  },
  {
   "cell_type": "markdown",
   "metadata": {
    "slideshow": {
     "slide_type": "notes"
    }
   },
   "source": [
    "Kolekcje z typem (przykładowo kolekcja `cars` posiada typ `Car`) pozwalają na składowanie wyłącznie obiektów danego typu (włączając w to obiekty typów dziedziczących lub implementujących dany interfejs). Dzięki temu kompilator może określić typ zwracanego obiektu i nie ma potrzeby rzutowania go. Co więcej do takiej kolekcji nie można dodać obiektów typu niekompatybilnego."
   ]
  },
  {
   "cell_type": "markdown",
   "metadata": {
    "slideshow": {
     "slide_type": "subslide"
    }
   },
   "source": [
    "# `add`, `addAll`, `remove`, `removeAll`"
   ]
  },
  {
   "cell_type": "code",
   "execution_count": 3,
   "metadata": {
    "ExecuteTime": {
     "end_time": "2021-11-24T07:25+0000",
     "start_time": "2021-11-24T07:25:55.021Z"
    },
    "slideshow": {
     "slide_type": "-"
    }
   },
   "outputs": [],
   "source": [
    "Collection<Car> cars1 = new LinkedList<>();\n",
    "cars1.add(new Car());\n",
    "cars1.add(new Car());\n",
    "cars1.add(new Car());\n",
    "Collection<Car> cars2 = new LinkedList<>();"
   ]
  },
  {
   "cell_type": "code",
   "execution_count": 4,
   "metadata": {
    "ExecuteTime": {
     "end_time": "2021-11-24T07:26+0000",
     "start_time": "2021-11-24T07:26:39.337Z"
    },
    "slideshow": {
     "slide_type": "fragment"
    }
   },
   "outputs": [
    {
     "data": {
      "text/plain": [
       "true"
      ]
     },
     "execution_count": 4,
     "metadata": {},
     "output_type": "execute_result"
    }
   ],
   "source": [
    "for(Car car : cars1){\n",
    "    cars2.add(car);\n",
    "}\n",
    "// prościej\n",
    "cars2.addAll(cars1);"
   ]
  },
  {
   "cell_type": "markdown",
   "metadata": {
    "slideshow": {
     "slide_type": "notes"
    }
   },
   "source": [
    "Metoda `addAll` pozwala dodać do danej kolekcji wszystkie elementy z innej kolekcji."
   ]
  },
  {
   "cell_type": "code",
   "execution_count": 5,
   "metadata": {
    "ExecuteTime": {
     "end_time": "2021-11-24T07:27+0000",
     "start_time": "2021-11-24T07:27:11.122Z"
    },
    "slideshow": {
     "slide_type": "fragment"
    }
   },
   "outputs": [
    {
     "data": {
      "text/plain": [
       "true"
      ]
     },
     "execution_count": 5,
     "metadata": {},
     "output_type": "execute_result"
    }
   ],
   "source": [
    "for(Car car : cars1){\n",
    "    cars2.remove(car);\n",
    "}\n",
    "// prościej\n",
    "cars2.removeAll(cars1);\n",
    "//cars2.remove(cars1);"
   ]
  },
  {
   "cell_type": "markdown",
   "metadata": {
    "slideshow": {
     "slide_type": "subslide"
    }
   },
   "source": [
    "# `remove`, `size`, `isEmpty` i `singleton`"
   ]
  },
  {
   "cell_type": "code",
   "execution_count": 6,
   "metadata": {
    "ExecuteTime": {
     "end_time": "2021-11-24T07:28+0000",
     "start_time": "2021-11-24T07:28:39.225Z"
    },
    "slideshow": {
     "slide_type": "-"
    }
   },
   "outputs": [
    {
     "data": {
      "text/plain": [
       "1"
      ]
     },
     "execution_count": 6,
     "metadata": {},
     "output_type": "execute_result"
    }
   ],
   "source": [
    "Collection<Car> cars1 = new LinkedList<>();\n",
    "Car car = new Car();\n",
    "cars1.add(car);\n",
    "cars1.add(car);\n",
    "cars1.remove(car);\n",
    "cars1.size();"
   ]
  },
  {
   "cell_type": "code",
   "execution_count": 7,
   "metadata": {
    "ExecuteTime": {
     "end_time": "2021-11-24T07:29+0000",
     "start_time": "2021-11-24T07:29:33.510Z"
    },
    "slideshow": {
     "slide_type": "fragment"
    }
   },
   "outputs": [
    {
     "data": {
      "text/plain": [
       "true"
      ]
     },
     "execution_count": 7,
     "metadata": {},
     "output_type": "execute_result"
    }
   ],
   "source": [
    "Collection<Car> cars1 = new LinkedList<>();\n",
    "Car car = new Car();\n",
    "cars1.add(car);\n",
    "cars1.add(car);\n",
    "cars1.removeAll(Collections.singleton(car));\n",
    "cars1.isEmpty();"
   ]
  },
  {
   "cell_type": "markdown",
   "metadata": {
    "slideshow": {
     "slide_type": "notes"
    }
   },
   "source": [
    "Metoda `removeAll` ma podobną semantykę do `addAll`, ale ma inną semantykę od `remove` - tzn. w przypadku `remove` zostanie usunięte tylko jedno wystąpienie danego obiektu (nawet jeśli występuje wielokrotnie), a `removeAll` usunie wszystkie wystąpienia powtarzającego się obiektu. Warunkiem poprawności działania tych metod jest poprawne zaimplementowanie metody `equals`. \n",
    "\n",
    "Ponadto `removeAll` akceptuje kolekcję - jeśli zatem chcemy usunąć jeden powtarzający się element, musimy zamienić go na kolekcję, za pomocą wywołania `Collections.singleton`."
   ]
  },
  {
   "cell_type": "markdown",
   "metadata": {
    "slideshow": {
     "slide_type": "subslide"
    }
   },
   "source": [
    "# `toArray`"
   ]
  },
  {
   "cell_type": "code",
   "execution_count": 8,
   "metadata": {
    "ExecuteTime": {
     "end_time": "2021-11-24T07:30+0000",
     "start_time": "2021-11-24T07:30:42.411Z"
    },
    "slideshow": {
     "slide_type": "-"
    }
   },
   "outputs": [
    {
     "data": {
      "text/plain": [
       "true"
      ]
     },
     "execution_count": 8,
     "metadata": {},
     "output_type": "execute_result"
    }
   ],
   "source": [
    "Collection<Car> cars1 = new LinkedList<>();\n",
    "Car car = new Car();\n",
    "cars1.add(car);\n",
    "cars1.add(car);\n",
    "cars1.add(new Car());"
   ]
  },
  {
   "cell_type": "code",
   "execution_count": 9,
   "metadata": {
    "ExecuteTime": {
     "end_time": "2021-11-24T07:30+0000",
     "start_time": "2021-11-24T07:30:53.095Z"
    },
    "slideshow": {
     "slide_type": "fragment"
    }
   },
   "outputs": [
    {
     "ename": "CompilationException",
     "evalue": "",
     "output_type": "error",
     "traceback": [
      "\u001b[1m\u001b[30m|   \u001b[1m\u001b[30mCar[] carsAsArray1 = \u001b[0m\u001b[1m\u001b[30m\u001b[41mcars1.toArray()\u001b[0m\u001b[1m\u001b[30m;\u001b[0m",
      "\u001b[1m\u001b[31mincompatible types: java.lang.Object[] cannot be converted to Car[]\u001b[0m",
      ""
     ]
    }
   ],
   "source": [
    "Car[] carsAsArray1 = cars1.toArray();"
   ]
  },
  {
   "cell_type": "code",
   "execution_count": 10,
   "metadata": {
    "ExecuteTime": {
     "end_time": "2021-11-24T07:31+0000",
     "start_time": "2021-11-24T07:31:52.997Z"
    },
    "slideshow": {
     "slide_type": "fragment"
    }
   },
   "outputs": [],
   "source": [
    "Object[] carsAsArray2 = cars1.toArray();  \n",
    "Car[] carsAsArray3 = cars1.toArray(new Car[0]);"
   ]
  },
  {
   "cell_type": "markdown",
   "metadata": {
    "slideshow": {
     "slide_type": "notes"
    }
   },
   "source": [
    "Wywołanie `toArray`, które dostępne jest w interfejsie `Collection` pozwala zamienić daną kolekcję na tablicę.\n",
    "Jeśli jednak chcemy zrzutować na tablicę określonego typu, musimy skorzystać z wywołania z argumentem akceptującym **pustą** tablicę odpowiedniego typu."
   ]
  },
  {
   "cell_type": "markdown",
   "metadata": {
    "slideshow": {
     "slide_type": "subslide"
    }
   },
   "source": [
    "# `singleton` i opcjonalne metody"
   ]
  },
  {
   "cell_type": "code",
   "execution_count": 11,
   "metadata": {
    "ExecuteTime": {
     "end_time": "2021-11-24T07:32+0000",
     "start_time": "2021-11-24T07:32:56.870Z"
    },
    "slideshow": {
     "slide_type": "-"
    }
   },
   "outputs": [
    {
     "ename": "EvalException",
     "evalue": "null",
     "output_type": "error",
     "traceback": [
      "\u001b[1m\u001b[31m---------------------------------------------------------------------------\u001b[0m",
      "\u001b[1m\u001b[31mjava.lang.UnsupportedOperationException: null\u001b[0m",
      "\u001b[1m\u001b[31m\tat java.base/java.util.AbstractCollection.add(AbstractCollection.java:251)\u001b[0m",
      "\u001b[1m\u001b[31m\tat .(#50:1)\u001b[0m"
     ]
    }
   ],
   "source": [
    "Collection<Car> oneCar = Collections.singleton(new Car());\n",
    "oneCar.add(new Car());"
   ]
  },
  {
   "cell_type": "markdown",
   "metadata": {
    "slideshow": {
     "slide_type": "notes"
    }
   },
   "source": [
    "Nie wszystkie metody w interfejsach są realnie dostępne. Metody opcjonalne mogą rzucić wyjątek `UnsupportedOperationException`."
   ]
  },
  {
   "cell_type": "markdown",
   "metadata": {
    "slideshow": {
     "slide_type": "slide"
    }
   },
   "source": [
    "# Interfejs `List`\n",
    "* uporządkowana kolekcja obiektów\n",
    "* obiekty mogą się powtarzać\n",
    "* obiekty posiadają *indeks*"
   ]
  },
  {
   "cell_type": "markdown",
   "metadata": {
    "slideshow": {
     "slide_type": "subslide"
    }
   },
   "source": [
    "# Interfejs `List`\n",
    "* metody `List`\n",
    "  * `get`\n",
    "  * `set`\n",
    "  * `indexOf`\n",
    "  * `lastIndexOf`\n",
    "  * `subList`\n",
    "* metody `Collections`\n",
    "  * `sort`\n",
    "  * `min`, `max`\n",
    "* metody `Arrays`\n",
    "  * `asList`"
   ]
  },
  {
   "cell_type": "markdown",
   "metadata": {
    "slideshow": {
     "slide_type": "subslide"
    }
   },
   "source": [
    "<img src=\"img/list.png\"/>"
   ]
  },
  {
   "cell_type": "code",
   "execution_count": 12,
   "metadata": {
    "ExecuteTime": {
     "end_time": "2021-11-24T07:39+0000",
     "start_time": "2021-11-24T07:39:58.785Z"
    },
    "slideshow": {
     "slide_type": "subslide"
    }
   },
   "outputs": [
    {
     "name": "stdout",
     "output_type": "stream",
     "text": [
      "jeden\n",
      "jeden\n",
      "zero\n"
     ]
    }
   ],
   "source": [
    "List<String> words = Arrays.asList(\"jeden\", \"dwa\", \"trzy\");\n",
    "System.out.println(words.get(0));          \n",
    "System.out.println(words.set(0,\"zero\"));   \n",
    "System.out.println(words.get(0));          \n",
    "//System.out.println(words.add(\"cztery\"));"
   ]
  },
  {
   "cell_type": "code",
   "execution_count": 13,
   "metadata": {
    "slideshow": {
     "slide_type": "fragment"
    }
   },
   "outputs": [
    {
     "name": "stdout",
     "output_type": "stream",
     "text": [
      "jeden\n",
      "jeden\n"
     ]
    }
   ],
   "source": [
    "List<String> words = List.of(\"jeden\", \"dwa\", \"trzy\");\n",
    "System.out.println(words.get(0));          \n",
    "// System.out.println(words.set(0,\"zero\"));   \n",
    "System.out.println(words.get(0));          \n",
    "//System.out.println(words.add(\"cztery\"));"
   ]
  },
  {
   "cell_type": "code",
   "execution_count": 14,
   "metadata": {
    "ExecuteTime": {
     "end_time": "2021-11-24T07:40+0000",
     "start_time": "2021-11-24T07:40:14.026Z"
    },
    "slideshow": {
     "slide_type": "fragment"
    }
   },
   "outputs": [
    {
     "ename": "EvalException",
     "evalue": "Index 5 out of bounds for length 3",
     "output_type": "error",
     "traceback": [
      "\u001b[1m\u001b[31m---------------------------------------------------------------------------\u001b[0m",
      "\u001b[1m\u001b[31mjava.lang.ArrayIndexOutOfBoundsException: Index 5 out of bounds for length 3\u001b[0m",
      "\u001b[1m\u001b[31m\tat java.base/java.util.ImmutableCollections$ListN.get(ImmutableCollections.java:680)\u001b[0m",
      "\u001b[1m\u001b[31m\tat .(#57:1)\u001b[0m"
     ]
    }
   ],
   "source": [
    "words.get(5)"
   ]
  },
  {
   "cell_type": "markdown",
   "metadata": {
    "slideshow": {
     "slide_type": "notes"
    }
   },
   "source": [
    "Próba pobrania wartości dla indeksu, który przekracza jej rozmiar skutkuje wyjątkiem `ArrayIndexOutOfBoundsException`."
   ]
  },
  {
   "cell_type": "markdown",
   "metadata": {
    "slideshow": {
     "slide_type": "notes"
    }
   },
   "source": [
    "Kolekcja zwracana przez `Arrays.asList()` ma stały rozmiar, dlatego przy próbie dodania obiektu rzucany jest wyjątek `UnsupportedOperationException`.\n",
    "Jeśli zamiast tego użyjemy `List.of()` to otrzymamy całkowicie niemodyfikowalną kolekcję (metoda `set()` również nie zadziała)."
   ]
  },
  {
   "cell_type": "code",
   "execution_count": 15,
   "metadata": {
    "ExecuteTime": {
     "end_time": "2021-11-24T07:41+0000",
     "start_time": "2021-11-24T07:41:13.857Z"
    },
    "slideshow": {
     "slide_type": "fragment"
    }
   },
   "outputs": [
    {
     "name": "stdout",
     "output_type": "stream",
     "text": [
      "0\n",
      "3\n"
     ]
    }
   ],
   "source": [
    "List<String> words = List.of(\"jeden\", \"dwa\", \"jeden\", \"jeden\");\n",
    "System.out.println(words.indexOf(\"jeden\"));    \n",
    "System.out.println(words.lastIndexOf(\"jeden\"));"
   ]
  },
  {
   "cell_type": "code",
   "execution_count": 16,
   "metadata": {
    "ExecuteTime": {
     "end_time": "2021-11-24T07:44+0000",
     "start_time": "2021-11-24T07:44:23.788Z"
    },
    "slideshow": {
     "slide_type": "subslide"
    }
   },
   "outputs": [
    {
     "name": "stdout",
     "output_type": "stream",
     "text": [
      "[jeden, dwa, trzy]\n",
      "[jeden]\n",
      "[jeden, sześć]\n"
     ]
    }
   ],
   "source": [
    "List<String> words = new LinkedList<>();\n",
    "words.add(\"jeden\");\n",
    "words.add(\"dwa\");\n",
    "words.add(\"trzy\");\n",
    "System.out.println(words); \n",
    "\n",
    "words.subList(1,3).clear();\n",
    "System.out.println(words); \n",
    "\n",
    "words.subList(0,1).add(\"sześć\");\n",
    "System.out.println(words);"
   ]
  },
  {
   "cell_type": "markdown",
   "metadata": {
    "slideshow": {
     "slide_type": "notes"
    }
   },
   "source": [
    "`subList` daje dostęp do pewnego fragmentu listy, który możemy modyfikować, co skutkuje zmianami w oryginalnym obiekcie"
   ]
  },
  {
   "cell_type": "markdown",
   "metadata": {
    "slideshow": {
     "slide_type": "subslide"
    }
   },
   "source": [
    "# `Collections`: `sort`, `min`, `max`"
   ]
  },
  {
   "cell_type": "code",
   "execution_count": 17,
   "metadata": {
    "ExecuteTime": {
     "end_time": "2021-11-24T07:51+0000",
     "start_time": "2021-11-24T07:51:02.110Z"
    },
    "slideshow": {
     "slide_type": "fragment"
    }
   },
   "outputs": [
    {
     "name": "stdout",
     "output_type": "stream",
     "text": [
      "dwa\n",
      "trzy\n"
     ]
    }
   ],
   "source": [
    "List<String> words = Arrays.asList(\"jeden\", \"dwa\", \"trzy\");\n",
    "\n",
    "System.out.println(Collections.min(words));\n",
    "System.out.println(Collections.max(words));"
   ]
  },
  {
   "cell_type": "code",
   "execution_count": 18,
   "metadata": {
    "ExecuteTime": {
     "end_time": "2021-11-24T07:48+0000",
     "start_time": "2021-11-24T07:48:54.106Z"
    },
    "slideshow": {
     "slide_type": "-"
    }
   },
   "outputs": [
    {
     "data": {
      "text/plain": [
       "[dwa, jeden, trzy]"
      ]
     },
     "execution_count": 18,
     "metadata": {},
     "output_type": "execute_result"
    }
   ],
   "source": [
    "Collections.sort(words);        \n",
    "words"
   ]
  },
  {
   "cell_type": "code",
   "execution_count": 19,
   "metadata": {
    "ExecuteTime": {
     "end_time": "2021-11-24T07:50+0000",
     "start_time": "2021-11-24T07:50:27.475Z"
    },
    "slideshow": {
     "slide_type": "fragment"
    }
   },
   "outputs": [
    {
     "name": "stdout",
     "output_type": "stream",
     "text": [
      "[dwa, trzy, jeden]\r\n"
     ]
    }
   ],
   "source": [
    "words.sort(new Comparator<String>() {\n",
    "    public int compare(String a, String b) {\n",
    "        if(a.length() == b.length()){\n",
    "            return a.compareTo(b);\n",
    "        }\n",
    "        return a.length() - b.length();\n",
    "    }\n",
    "});\n",
    "System.out.println(words);"
   ]
  },
  {
   "cell_type": "markdown",
   "metadata": {
    "slideshow": {
     "slide_type": "subslide"
    }
   },
   "source": [
    "Alternatywnie, używając wyrażeń lambda:"
   ]
  },
  {
   "cell_type": "code",
   "execution_count": 20,
   "metadata": {
    "slideshow": {
     "slide_type": "fragment"
    }
   },
   "outputs": [
    {
     "name": "stdout",
     "output_type": "stream",
     "text": [
      "[dwa, trzy, jeden]\r\n"
     ]
    }
   ],
   "source": [
    "words.sort((a, b) -> {\n",
    "      if (a.length() == b.length()) {\n",
    "        return a.compareTo(b);\n",
    "      }\n",
    "      return a.length() - b.length();\n",
    "});\n",
    "System.out.println(words);"
   ]
  },
  {
   "cell_type": "markdown",
   "metadata": {
    "slideshow": {
     "slide_type": "fragment"
    }
   },
   "source": [
    "...albo jeszcze krócej, używając referencji do metod:"
   ]
  },
  {
   "cell_type": "code",
   "execution_count": 21,
   "metadata": {
    "slideshow": {
     "slide_type": "fragment"
    }
   },
   "outputs": [
    {
     "name": "stdout",
     "output_type": "stream",
     "text": [
      "[dwa, trzy, jeden]\r\n"
     ]
    }
   ],
   "source": [
    "words.sort(Comparator.comparing(String::length));\n",
    "System.out.println(words);"
   ]
  },
  {
   "cell_type": "markdown",
   "metadata": {
    "slideshow": {
     "slide_type": "subslide"
    }
   },
   "source": [
    "# Lista liczb"
   ]
  },
  {
   "cell_type": "code",
   "execution_count": 22,
   "metadata": {
    "ExecuteTime": {
     "end_time": "2021-11-24T07:54+0000",
     "start_time": "2021-11-24T07:54:09.568Z"
    },
    "slideshow": {
     "slide_type": "-"
    }
   },
   "outputs": [
    {
     "data": {
      "text/plain": [
       "[3, 2, 1, 0]"
      ]
     },
     "execution_count": 22,
     "metadata": {},
     "output_type": "execute_result"
    }
   ],
   "source": [
    "List<Integer> numbers = new LinkedList<>();\n",
    "numbers.add(3);\n",
    "numbers.add(2);\n",
    "numbers.add(1);\n",
    "numbers.add(0);\n",
    "numbers.add(0);\n",
    "//numbers.remove(0);\n",
    "numbers.remove(new Integer(0));\n",
    "numbers"
   ]
  },
  {
   "cell_type": "markdown",
   "metadata": {
    "slideshow": {
     "slide_type": "notes"
    }
   },
   "source": [
    "Wywołanie `remove(int)` usuwa element o określonym indeksie. Dlatego jeśli mamy listę liczb, musimy użyć typu otokowego aby usunąć żądany element."
   ]
  },
  {
   "cell_type": "markdown",
   "metadata": {
    "slideshow": {
     "slide_type": "subslide"
    }
   },
   "source": [
    "# Implementacje interfejsu `List`\n",
    "\n",
    "<table style=\"align: left; font-size:8px\">\n",
    "<tr>\n",
    "    <th>Klasa</th>\n",
    "    <th>Reprezentacja</th>\n",
    "    <th>Uwagi</th>\n",
    "</tr>\n",
    "<tr>\n",
    "    <td><tt>ArrayList</tt></td>\n",
    "    <td>tablica</td>\n",
    "    <td>implementacja ogólnego przeznaczenia</td>\n",
    "</tr>\n",
    "<tr>\n",
    "    <td><tt>LinkedList</tt></td>\n",
    "    <td>lista dwukierunkowa</td>\n",
    "    <td>efektywne wstawianie i usuwanie</td>\n",
    "</tr>\n",
    "<tr>\n",
    "    <td><tt>CopyOnWriteArrayList</tt></td>\n",
    "    <td>tablica</td>\n",
    "    <td>bezpieczna zw. na wątki</td>\n",
    "</tr>\n",
    "<tr>\n",
    "    <td><tt>Vector</tt></td>\n",
    "    <td>tablica</td>\n",
    "    <td>synchronizowane metody, przestarzała</td>\n",
    "</tr>\n",
    "<tr>\n",
    "    <td><tt>Stack</tt></td>\n",
    "    <td>tablica</td>\n",
    "    <td>dodaje metody <tt>push</tt>, <tt>pop</tt>, <tt>peek</tt>, przestarzała</td>\n",
    "</tr>\n",
    "</table>"
   ]
  },
  {
   "cell_type": "markdown",
   "metadata": {
    "slideshow": {
     "slide_type": "notes"
    }
   },
   "source": [
    "* `ArrayList` - lista oparta o tablice\n",
    "* `LinkedList` - lista oparta o listę dwukierunkową\n",
    "* `CopyOnWriteArrayList` - tworzy kopię listy, w momencie modyfikacji w danym wątku\n",
    "* `Vector`, `Stack` - przestarzałe, ponieważ synchronizacja metod operujących na tych strukturach nie rozwiązuje\n",
    "  żadnych problemów współbieżności, a wpływa negatywnie na wydajność operacji. Jeśli chcemy coś synchronizować,\n",
    "  to zazwyczaj jest to cała kolekcja operacji, a nie pojedyncze operacje na danej strukturze. Synchronizowanie\n",
    "  metod tych klas nie rozwiązuje więc tego problemu."
   ]
  },
  {
   "cell_type": "markdown",
   "metadata": {
    "slideshow": {
     "slide_type": "slide"
    }
   },
   "source": [
    "# Wzorzec `Iterator`"
   ]
  },
  {
   "cell_type": "code",
   "execution_count": 23,
   "metadata": {
    "ExecuteTime": {
     "end_time": "2021-11-24T07:57+0000",
     "start_time": "2021-11-24T07:57:38.306Z"
    },
    "slideshow": {
     "slide_type": "-"
    }
   },
   "outputs": [
    {
     "name": "stdout",
     "output_type": "stream",
     "text": [
      "REPL.$JShell$12C$Car@13545b52\n",
      "REPL.$JShell$12C$Car@13545b52\n"
     ]
    }
   ],
   "source": [
    "Collection<Car> cars1 = new LinkedList<>();\n",
    "Car car = new Car();\n",
    "cars1.add(car);\n",
    "cars1.add(car);\n",
    "Iterator<Car> iterator = cars1.iterator();\n",
    "while(iterator.hasNext()){\n",
    "    System.out.println(iterator.next());\n",
    "}"
   ]
  },
  {
   "cell_type": "code",
   "execution_count": 24,
   "metadata": {
    "ExecuteTime": {
     "end_time": "2021-11-24T07:58+0000",
     "start_time": "2021-11-24T07:58:05.107Z"
    },
    "slideshow": {
     "slide_type": "fragment"
    }
   },
   "outputs": [
    {
     "name": "stdout",
     "output_type": "stream",
     "text": [
      "REPL.$JShell$12C$Car@13545b52\n",
      "REPL.$JShell$12C$Car@13545b52\n"
     ]
    }
   ],
   "source": [
    "// krócej\n",
    "for(Car car : cars1){\n",
    "    System.out.println(car);\n",
    "}"
   ]
  },
  {
   "cell_type": "markdown",
   "metadata": {
    "slideshow": {
     "slide_type": "subslide"
    }
   },
   "source": [
    "<img src=\"img/iterator.png\">"
   ]
  },
  {
   "cell_type": "markdown",
   "metadata": {
    "slideshow": {
     "slide_type": "notes"
    }
   },
   "source": [
    "Iterator oddziela kolekcję od sposobu jej przeglądania. Dzięki wprowadzeniu nowego obiektu/klasy uzyskujemy większą elastyczność w wykonywaniu operacji na danej kolekcji. Iterator pozwala również usuwać obiekty z kolekcji.\n",
    "Takie działanie nie spowoduje wystąpienia błędu cocurrent modification exception."
   ]
  },
  {
   "cell_type": "markdown",
   "metadata": {
    "slideshow": {
     "slide_type": "subslide"
    }
   },
   "source": [
    "# Interfejs `Iterator<E>`\n",
    "\n",
    "* służy do definiowania iteratorów\n",
    "* metody:\n",
    "  * next\n",
    "  * hasNext\n",
    "  * remove\n",
    "  * forEachRemaining"
   ]
  },
  {
   "cell_type": "code",
   "execution_count": 25,
   "metadata": {
    "slideshow": {
     "slide_type": "-"
    }
   },
   "outputs": [
    {
     "ename": "CompilationException",
     "evalue": "",
     "output_type": "error",
     "traceback": [
      "\u001b[1m\u001b[30m|   \u001b[1m\u001b[30m    default void forEachRemaining(Consumer<? super E> action){ \u001b[0m\u001b[1m\u001b[30m\u001b[41m\u001b[0m\u001b[1m\u001b[30m... }\u001b[0m",
      "\u001b[1m\u001b[31millegal start of expression\u001b[0m",
      ""
     ]
    }
   ],
   "source": [
    "public interface Iterator<E> {\n",
    "    boolean hasNext();\n",
    "    E next();\n",
    "    void remove();\n",
    "    default void forEachRemaining(Consumer<? super E> action){ ... }\n",
    "}"
   ]
  },
  {
   "cell_type": "markdown",
   "metadata": {
    "slideshow": {
     "slide_type": "subslide"
    }
   },
   "source": [
    "# Interfejs `Iterable<E>`\n",
    "\n",
    "* zwraca iterator\n",
    "* pozwala \"chodzić\" po swoich elementach"
   ]
  },
  {
   "cell_type": "code",
   "execution_count": null,
   "metadata": {
    "slideshow": {
     "slide_type": "-"
    }
   },
   "outputs": [],
   "source": [
    "public interface Iterable<E> {\n",
    "    Iterator<E> iterator();\n",
    "    default Spliterator<T> spliterator();\n",
    "    default void forEach(Consumer<? super T> action);\n",
    "}"
   ]
  },
  {
   "cell_type": "markdown",
   "metadata": {
    "slideshow": {
     "slide_type": "subslide"
    }
   },
   "source": [
    "# Wyjątek `ConcurrentModificationException`"
   ]
  },
  {
   "cell_type": "code",
   "execution_count": 27,
   "metadata": {
    "ExecuteTime": {
     "end_time": "2021-11-24T08:04+0000",
     "start_time": "2021-11-24T08:04:42.059Z"
    },
    "slideshow": {
     "slide_type": "-"
    }
   },
   "outputs": [
    {
     "data": {
      "text/plain": [
       "[jeden, dwa, trzy]"
      ]
     },
     "execution_count": 27,
     "metadata": {},
     "output_type": "execute_result"
    }
   ],
   "source": [
    "List<String> cars = new LinkedList<>(Arrays.asList(\"jeden\", \"dwa\", \"trzy\"));\n",
    "Iterator<String> iterator = cars.iterator();\n",
    "iterator.next();\n",
    "//cars.remove(\"jeden\");\n",
    "iterator.next();\n",
    "cars"
   ]
  },
  {
   "cell_type": "code",
   "execution_count": 28,
   "metadata": {
    "ExecuteTime": {
     "end_time": "2021-11-24T08:04+0000",
     "start_time": "2021-11-24T08:04:48.616Z"
    },
    "slideshow": {
     "slide_type": "fragment"
    }
   },
   "outputs": [],
   "source": [
    "iterator.next();\n",
    "iterator.remove();\n",
    "//iterator.next();"
   ]
  },
  {
   "cell_type": "markdown",
   "metadata": {
    "slideshow": {
     "slide_type": "slide"
    }
   },
   "source": [
    "# Lista vs zbiór\n",
    "\n",
    "**Ćwiczenie:** czym różni się zawartość listy i zbioru utworzonego z tych samych elementów?"
   ]
  },
  {
   "cell_type": "code",
   "execution_count": 29,
   "metadata": {
    "slideshow": {
     "slide_type": "fragment"
    }
   },
   "outputs": [
    {
     "data": {
      "text/plain": [
       "[Ala, Ola, Asia, Basia, Asia, Ola, Ela, Ela, Ewa, Ala]"
      ]
     },
     "execution_count": 29,
     "metadata": {},
     "output_type": "execute_result"
    }
   ],
   "source": [
    "String[] names = new String[]{\"Ala\", \"Ola\", \"Asia\", \"Basia\", \"Asia\", \"Ola\", \"Ela\", \"Ela\", \"Ewa\", \"Ala\"};\n",
    "\n",
    "List<String> namesList = new ArrayList<>();\n",
    "Collections.addAll(namesList, names);\n",
    "namesList"
   ]
  },
  {
   "cell_type": "code",
   "execution_count": 30,
   "metadata": {
    "slideshow": {
     "slide_type": "fragment"
    }
   },
   "outputs": [
    {
     "data": {
      "text/plain": [
       "[Basia, Ola, Asia, Ala, Ela, Ewa]"
      ]
     },
     "execution_count": 30,
     "metadata": {},
     "output_type": "execute_result"
    }
   ],
   "source": [
    "Set<String> namesSet = new HashSet<>();\n",
    "Collections.addAll(namesSet, names);\n",
    "namesSet"
   ]
  },
  {
   "cell_type": "markdown",
   "metadata": {
    "slideshow": {
     "slide_type": "slide"
    }
   },
   "source": [
    "# Interfejs `Set`\n",
    "\n",
    "* przechowuje elementy bez powtórzeń\n",
    "* wymaga poprawnej definicji metod `equals` \n",
    "* klasy implementujące wymagają poprawnej implementacji `hashCode`, implementacji interfejsu `Comparable` \n",
    "  lub akceptują \"zewnętrzną\" definicję komparatora\n",
    "\n",
    "```\n",
    "x.equals(y) -> x.hashCode() == y.hashCode()\n",
    "```"
   ]
  },
  {
   "cell_type": "markdown",
   "metadata": {
    "slideshow": {
     "slide_type": "subslide"
    }
   },
   "source": [
    "<img src=\"img/set.png\"/>"
   ]
  },
  {
   "cell_type": "markdown",
   "metadata": {
    "slideshow": {
     "slide_type": "notes"
    }
   },
   "source": [
    "* `SortedSet` dodatkowo definiuje metody takie jak `first`, `last`, `headSet`, `tailSet` oraz `subSet`. \n",
    "  Innymi słowy nadaje porządek elementom zbioru.\n",
    "* `NavigableSet` dodaje metody takie jak `higher` (excl.), `floor` (incl.), `lower` (excl.), `ceiling` (incl.) \n",
    "  oraz metody pozwalające na przeglądanie elementów w odwrotnym kierunku. Ponadto rozszerza definicję np.\n",
    "  `headSet` o to, że akceptuje parametr incl./excl., która zwraca `NavigableSet`.\n",
    "* `HashSet` wymaga do działania poprawnej implementacji metody `hashCode`.\n",
    "* `LinkedHashSet` zapamiętuje kolejność elementów, co objawia się w sposobie iterowania po tym zbiorze."
   ]
  },
  {
   "cell_type": "markdown",
   "metadata": {
    "slideshow": {
     "slide_type": "subslide"
    }
   },
   "source": [
    "# `equals` i `hashCode`"
   ]
  },
  {
   "cell_type": "code",
   "execution_count": 31,
   "metadata": {
    "ExecuteTime": {
     "end_time": "2021-11-24T08:13+0000",
     "start_time": "2021-11-24T08:13:05.669Z"
    },
    "slideshow": {
     "slide_type": "-"
    }
   },
   "outputs": [
    {
     "data": {
      "text/plain": [
       "1"
      ]
     },
     "execution_count": 31,
     "metadata": {},
     "output_type": "execute_result"
    }
   ],
   "source": [
    "class Car {\n",
    "    private String vin;\n",
    "    \n",
    "    public Car(String vin){\n",
    "        this.vin = vin;\n",
    "    }\n",
    "    \n",
    "    public boolean equals(Object other){\n",
    "        //...\n",
    "        Car that = (Car) other;\n",
    "        return this.vin.equals(that.vin);\n",
    "    }\n",
    "    \n",
    "    public int hashCode(){\n",
    "        return this.vin.hashCode();\n",
    "    }\n",
    "}\n",
    "\n",
    "Car car1 = new Car(\"ABC\");\n",
    "Car car2 = new Car(\"ABC\");\n",
    "Set<Car> cars = new HashSet<>();\n",
    "cars.add(car1);\n",
    "cars.add(car2);\n",
    "cars.size();"
   ]
  },
  {
   "cell_type": "markdown",
   "metadata": {
    "slideshow": {
     "slide_type": "subslide"
    }
   },
   "source": [
    "# Interfejs `SortedSet`\n",
    "\n",
    "* `SortedSet` przechowuje elementy w sposób uporządkowany\n",
    "* wymaga aby obiekty imeplementowały interfejs `Comparable` lub aby przekazano do niego obiekt implementujący \n",
    "  interfejs `Comparator`\n",
    "* metody:\n",
    "  * `headSet`\n",
    "  * `tailSet`\n",
    "  * `subSet`\n",
    "  * `first`\n",
    "  * `last`"
   ]
  },
  {
   "cell_type": "markdown",
   "metadata": {
    "slideshow": {
     "slide_type": "subslide"
    }
   },
   "source": [
    "# Przykład"
   ]
  },
  {
   "cell_type": "code",
   "execution_count": 32,
   "metadata": {
    "ExecuteTime": {
     "end_time": "2021-11-24T08:16+0000",
     "start_time": "2021-11-24T08:16:36.798Z"
    },
    "slideshow": {
     "slide_type": "-"
    }
   },
   "outputs": [
    {
     "name": "stdout",
     "output_type": "stream",
     "text": [
      "[dwa]\n",
      "[jeden, trzy]\n",
      "[trzy]\n",
      "[jeden]\n"
     ]
    }
   ],
   "source": [
    "import static java.lang.System.out;\n",
    "\n",
    "SortedSet<String> numbers = new TreeSet<>(List.of(\"dwa\", \"jeden\", \"trzy\"));\n",
    "out.println(numbers.headSet(\"jeden\"));\n",
    "out.println(numbers.tailSet(\"jeden\"));\n",
    "out.println(numbers.tailSet(\"jeden\\0\"));\n",
    "out.println(numbers.subSet(\"dwa\\0\",\"trzy\"));"
   ]
  },
  {
   "cell_type": "markdown",
   "metadata": {
    "slideshow": {
     "slide_type": "subslide"
    }
   },
   "source": [
    "# Implementacje interfejsu `Set`\n",
    "\n",
    "<table style=\"align: left; font-size:8px\">\n",
    "<tr>\n",
    "    <th>Klasa</th>\n",
    "    <th>Reprezentacja</th>\n",
    "    <th>Uporządkowanie</th>\n",
    "    <th>Ograniczenia</th>\n",
    "    <th>Wydajność dostępu</th>\n",
    "    <th>Wydajność iteracji</th>\n",
    "    <th>Uwagi</th>\n",
    "</tr>\n",
    "<tr>\n",
    "    <td><tt>HashSet</tt></td>\n",
    "    <td>tablica haszująca</td>\n",
    "    <td>brak</td>\n",
    "    <td>brak</td>\n",
    "    <td>O(1)</td>\n",
    "    <td>O(pojemność)</td>\n",
    "    <td>implementacja ogólnego przeznaczenia</td>\n",
    "</tr>\n",
    "<tr>\n",
    "    <td><tt>LinkedHashSet</tt></td>\n",
    "    <td>powiązana tablica haszująca</td>\n",
    "    <td>kolejność wstawiania</td>\n",
    "    <td>brak</td>\n",
    "    <td>O(1)</td>\n",
    "    <td>O(n)</td>\n",
    "    <td>zachowuje kolejność</td>\n",
    "</tr>\n",
    "<tr>\n",
    "    <td><tt>EnumSet</tt></td>\n",
    "    <td>pole bitowe</td>\n",
    "    <td>deklaracja</td>\n",
    "    <td>wartości enum</td>\n",
    "    <td>O(1)</td>\n",
    "    <td>O(n)</td>\n",
    "    <td>tylko wartości enum</td>\n",
    "</tr>\n",
    "<tr>\n",
    "    <td><tt>TreeSet</tt></td>\n",
    "    <td>drzewo czerwono-czarne</td>\n",
    "    <td>sortowanie rosnące</td>\n",
    "    <td>porównywalność</td>\n",
    "    <td>O(log(n))</td>\n",
    "    <td>O(n)</td>\n",
    "    <td>Comparable lub Comparator</td>\n",
    "</tr>\n",
    "<tr>\n",
    "    <td><tt>CopyOnWriteArraySet</tt></td>\n",
    "    <td>tablica</td>\n",
    "    <td>kolejność wstawiania</td>\n",
    "    <td>brak</td>\n",
    "    <td>O(n)</td>\n",
    "    <td>O(n)</td>\n",
    "    <td>bezpieczna zw. na wątki</td>\n",
    "</tr>\n",
    "</table>"
   ]
  },
  {
   "cell_type": "markdown",
   "metadata": {
    "slideshow": {
     "slide_type": "notes"
    }
   },
   "source": [
    "* `HashSet` - oparta o tablicę hashującą implementacja zbioru\n",
    "* `LinkedHashSet` - zapamiętuje kolejność dodawania elementów\n",
    "* `EnumSet` - znacznie bardziej wydajna implementacja, ponieważ metody realizowane są jako \n",
    "   operacje na tablicach bitów\n",
    "* `TreeSet` - wymaga określenia porządku elementów\n",
    "* `CopyOnWriteArraySet` - struktura bezpieczna ze względu na wątki, w tym sensie, że metody modyfikujące\n",
    "   zawartość prowadzą do utworzenia nowej kopii. W ogólnym przypadku stosowana w scenariuszach, w których\n",
    "   operacje odczytu znacząco przeważają nad operacjami modyfikacji."
   ]
  },
  {
   "cell_type": "markdown",
   "metadata": {
    "slideshow": {
     "slide_type": "slide"
    }
   },
   "source": [
    "# Interfejs `Map`\n",
    "\n",
    "* implementuje strukturę słownika\n",
    "* odwzorowuje *klucze* na *wartości*\n",
    "* można to interpretować jako tablicę indeksowaną *kluczami*, które nie muszą być liczbami\n",
    "* (zazwyczaj) pozwala na szybki dostęp do elementów"
   ]
  },
  {
   "cell_type": "markdown",
   "metadata": {
    "slideshow": {
     "slide_type": "subslide"
    }
   },
   "source": [
    "# Interfejs `Map`\n",
    "\n",
    "* metody:\n",
    "  * `put`\n",
    "  * `get`\n",
    "  * `remove`\n",
    "  * `containsKey`\n",
    "  * `containsValue`\n",
    "  * `keySet`\n",
    "  * `values`\n",
    "  * `entrySet`"
   ]
  },
  {
   "cell_type": "markdown",
   "metadata": {
    "slideshow": {
     "slide_type": "subslide"
    }
   },
   "source": [
    "<img src=\"img/map.png\"/>"
   ]
  },
  {
   "cell_type": "markdown",
   "metadata": {
    "slideshow": {
     "slide_type": "notes"
    }
   },
   "source": [
    "* `SortedMap` analogicznie do `SortedSet` pozwala iterować uwzględniając kolejność **kluczy**. \n",
    "  Posiada analogiczne metody, np. `firstKey`, `lastKey`,  `headMap` itd.\n",
    "* `NavigableMap` pozwala dodatkowo pobierać klucz lub parę klucz-wartość mniejszą bądź większą \n",
    "  od zadanej wartości, słownik o odwrotnej kolejności kluczy, itp.\n",
    "* `LinkedHashMap` natomiast analogicznie jak `LinkedHashSet` zachowuje kolejność dodawania par do słownika."
   ]
  },
  {
   "cell_type": "markdown",
   "metadata": {
    "slideshow": {
     "slide_type": "subslide"
    }
   },
   "source": [
    "# `put`, `get`, `remove`"
   ]
  },
  {
   "cell_type": "code",
   "execution_count": 33,
   "metadata": {
    "ExecuteTime": {
     "end_time": "2021-11-24T08:19+0000",
     "start_time": "2021-11-24T08:19:41.547Z"
    },
    "slideshow": {
     "slide_type": "-"
    }
   },
   "outputs": [
    {
     "name": "stdout",
     "output_type": "stream",
     "text": [
      "2\n",
      "2\n",
      "null\n"
     ]
    }
   ],
   "source": [
    "Map<String,Integer> numbers = new HashMap<>();\n",
    "numbers.put(\"jeden\", 1);\n",
    "numbers.put(\"dwa\", 2);\n",
    "numbers.put(\"trzy\", 3);\n",
    "out.println(numbers.get(\"dwa\"));            \n",
    "out.println(numbers.remove(\"dwa\"));\n",
    "out.println(numbers.get(\"dwa\"))             "
   ]
  },
  {
   "cell_type": "markdown",
   "metadata": {
    "slideshow": {
     "slide_type": "fragment"
    }
   },
   "source": [
    "alternatywnie można też stworzyć **niemodyfikowalną** mapę podczas jej inicjalizacji:"
   ]
  },
  {
   "cell_type": "code",
   "execution_count": 34,
   "metadata": {},
   "outputs": [
    {
     "name": "stdout",
     "output_type": "stream",
     "text": [
      "{trzy=3, jeden=1, dwa=2}\r\n"
     ]
    }
   ],
   "source": [
    "Map<String, Integer> numbers = Map.of(  \n",
    "        \"jeden\", 1,\n",
    "        \"dwa\", 2,\n",
    "        \"trzy\", 3\n",
    " );\n",
    "out.println(numbers);"
   ]
  },
  {
   "cell_type": "markdown",
   "metadata": {
    "slideshow": {
     "slide_type": "subslide"
    }
   },
   "source": [
    "# `containsKey`, `containsValue`"
   ]
  },
  {
   "cell_type": "code",
   "execution_count": 35,
   "metadata": {
    "ExecuteTime": {
     "end_time": "2021-11-24T08:20+0000",
     "start_time": "2021-11-24T08:20:35.785Z"
    },
    "slideshow": {
     "slide_type": "-"
    }
   },
   "outputs": [
    {
     "name": "stdout",
     "output_type": "stream",
     "text": [
      "true\n",
      "false\n",
      "true\n",
      "false\n"
     ]
    }
   ],
   "source": [
    "Map<String, Integer> numbers = Map.of(\n",
    "        \"jeden\", 1,\n",
    "        \"dwa\", 2,\n",
    "        \"trzy\", 3\n",
    " );\n",
    "out.println(numbers.containsKey(\"jeden\"));        \n",
    "out.println(numbers.containsKey(\"cztery\"));       \n",
    "out.println(numbers.containsValue(1));            \n",
    "out.println(numbers.containsValue(4));          "
   ]
  },
  {
   "cell_type": "markdown",
   "metadata": {
    "slideshow": {
     "slide_type": "subslide"
    }
   },
   "source": [
    "# `keySet`, `values`, `entrySet`"
   ]
  },
  {
   "cell_type": "code",
   "execution_count": 36,
   "metadata": {
    "ExecuteTime": {
     "end_time": "2021-11-24T08:21+0000",
     "start_time": "2021-11-24T08:21:37.078Z"
    },
    "slideshow": {
     "slide_type": "-"
    }
   },
   "outputs": [
    {
     "name": "stdout",
     "output_type": "stream",
     "text": [
      "[trzy, jeden, dwa]\n",
      "[3, 1, 2]\n"
     ]
    }
   ],
   "source": [
    "Map<String, Integer> numbers = Map.of(\n",
    "        \"jeden\", 1,\n",
    "        \"dwa\", 2,\n",
    "        \"trzy\", 3\n",
    " );\n",
    "out.println(numbers.keySet());\n",
    "out.println(numbers.values());"
   ]
  },
  {
   "cell_type": "code",
   "execution_count": 37,
   "metadata": {
    "ExecuteTime": {
     "end_time": "2021-11-24T08:22+0000",
     "start_time": "2021-11-24T08:22:41.129Z"
    },
    "slideshow": {
     "slide_type": "fragment"
    }
   },
   "outputs": [
    {
     "name": "stdout",
     "output_type": "stream",
     "text": [
      "trzy : 3\n",
      "jeden : 1\n",
      "dwa : 2\n"
     ]
    }
   ],
   "source": [
    "for(var entry : numbers.entrySet()){\n",
    "    out.println(\"\" + entry.getKey() + \" : \" + entry.getValue());\n",
    "}"
   ]
  },
  {
   "cell_type": "code",
   "execution_count": 38,
   "metadata": {
    "ExecuteTime": {
     "end_time": "2021-11-24T08:23+0000",
     "start_time": "2021-11-24T08:23:03.650Z"
    },
    "slideshow": {
     "slide_type": "fragment"
    }
   },
   "outputs": [
    {
     "data": {
      "text/plain": [
       "{jeden=1, trzy=3}"
      ]
     },
     "execution_count": 38,
     "metadata": {},
     "output_type": "execute_result"
    }
   ],
   "source": [
    "Map<String,Integer> numbers = new HashMap<>();\n",
    "numbers.put(\"jeden\", 1);\n",
    "numbers.put(\"dwa\", 2);\n",
    "numbers.put(\"trzy\", 3);\n",
    "\n",
    "numbers.remove(\"dwa\");\n",
    "numbers"
   ]
  },
  {
   "cell_type": "code",
   "execution_count": 39,
   "metadata": {
    "ExecuteTime": {
     "end_time": "2021-11-24T08:23+0000",
     "start_time": "2021-11-24T08:23:31.617Z"
    },
    "slideshow": {
     "slide_type": "fragment"
    }
   },
   "outputs": [
    {
     "data": {
      "text/plain": [
       "{trzy=3}"
      ]
     },
     "execution_count": 39,
     "metadata": {},
     "output_type": "execute_result"
    }
   ],
   "source": [
    "numbers.keySet().remove(\"jeden\");\n",
    "numbers"
   ]
  },
  {
   "cell_type": "markdown",
   "metadata": {
    "slideshow": {
     "slide_type": "subslide"
    }
   },
   "source": [
    "# Interfejs `SortedMap`\n",
    "\n",
    "* rozszerza interfejs `Map`\n",
    "* elementy są sortowane względem wartości kluczy\n",
    "* wymaga elementów typu `Comparable` lub przekazania obiektu `Comparator`\n",
    "* metody:\n",
    "  * `firstKey`\n",
    "  * `lastKey`\n",
    "  * `headMap`\n",
    "  * `tailMap`\n",
    "  * `subMap`"
   ]
  },
  {
   "cell_type": "markdown",
   "metadata": {
    "slideshow": {
     "slide_type": "subslide"
    }
   },
   "source": [
    "# `firstKey`, `lastKey`"
   ]
  },
  {
   "cell_type": "code",
   "execution_count": 40,
   "metadata": {
    "ExecuteTime": {
     "end_time": "2021-11-24T08:24+0000",
     "start_time": "2021-11-24T08:24:30.699Z"
    },
    "slideshow": {
     "slide_type": "-"
    }
   },
   "outputs": [
    {
     "name": "stdout",
     "output_type": "stream",
     "text": [
      "dwa\n",
      "łał\n"
     ]
    }
   ],
   "source": [
    "SortedMap<String,Integer> numbers = new TreeMap<>();\n",
    "numbers.put(\"jeden\", 1);\n",
    "numbers.put(\"dwa\", 2);\n",
    "numbers.put(\"trzy\", 3);\n",
    "numbers.put(\"łał\", 4);\n",
    "out.println(numbers.firstKey());\n",
    "out.println(numbers.lastKey());"
   ]
  },
  {
   "cell_type": "markdown",
   "metadata": {
    "slideshow": {
     "slide_type": "subslide"
    }
   },
   "source": [
    "# Implementacje interfejsu `Map`\n",
    "\n",
    "<table style=\"align: left; font-size:8px\">\n",
    "<tr>\n",
    "    <th>Klasa</th>\n",
    "    <th>Reprezentacja</th>\n",
    "    <th>klucze <tt>null</tt></th>\n",
    "    <th>wartości <tt>null</tt></th>\n",
    "    <th>uwagi</th>\n",
    "</tr>\n",
    "<tr>\n",
    "    <td><tt>HashMap</tt></td>\n",
    "    <td>tablica haszująca</td>\n",
    "    <td>tak</td>\n",
    "    <td>tak</td>\n",
    "    <td>implementacja ogólnego przeznaczenia</td>\n",
    "</tr>\n",
    "<tr>\n",
    "    <td><tt>ConcurrentHashMap</tt></td>\n",
    "    <td>tablica haszująca</td>\n",
    "    <td>nie</td>\n",
    "    <td>nie</td>\n",
    "    <td>implementacja bezpieczna zw. na wątki</td>\n",
    "</tr>\n",
    "<tr>\n",
    "    <td><tt>ConcurrentSkipListMap</tt></td>\n",
    "    <td>tablica haszująca</td>\n",
    "    <td>nie</td>\n",
    "    <td>nie</td>\n",
    "    <td>jw., interfejs <tt>ConcurrentNavigableMap</tt></td>\n",
    "</tr>\n",
    "<tr>\n",
    "    <td><tt>EnumMap</tt></td>\n",
    "    <td>tablica</td>\n",
    "    <td>nie</td>\n",
    "    <td>nie</td>\n",
    "    <td>klucze to wartości <tt>enum</tt></td>\n",
    "</tr>\n",
    "<tr>\n",
    "    <td><tt>LinkedHashMap</tt></td>\n",
    "    <td>tablica haszująca</td>\n",
    "    <td>tak</td>\n",
    "    <td>tak</td>\n",
    "    <td>zachowuje kolejność wstawiania</td>\n",
    "</tr>\n",
    "<tr>\n",
    "    <td><tt>TreeMap</tt></td>\n",
    "    <td>drzewo czerwono-czarne</td>\n",
    "    <td>nie</td>\n",
    "    <td>tak</td>\n",
    "    <td>posortowana wg wartości kluczy</td>\n",
    "</tr>\n",
    "<tr>\n",
    "    <td><tt>IdentityHashMap</tt></td>\n",
    "    <td>tablica haszująca</td>\n",
    "    <td>tak</td>\n",
    "    <td>tak</td>\n",
    "    <td>do porównywania używa ==</td>\n",
    "</tr>\n",
    "<tr>\n",
    "    <td><tt>WeakHashMap</tt></td>\n",
    "    <td>tablica haszująca</td>\n",
    "    <td>tak</td>\n",
    "    <td>tak</td>\n",
    "    <td>korzysta ze słabych referencji dla kluczy</td>\n",
    "</tr>\n",
    "<tr>\n",
    "    <td><tt>Hashtable</tt></td>\n",
    "    <td>tablica haszująca</td>\n",
    "    <td>nie</td>\n",
    "    <td>nie</td>\n",
    "    <td>przestarzała, synchronizowane metody</td>\n",
    "</tr>\n",
    "<tr>\n",
    "    <td><tt>Properties</tt></td>\n",
    "    <td>tablica haszująca</td>\n",
    "    <td>nie</td>\n",
    "    <td>nie</td>\n",
    "    <td>rozszerza <tt>Hashtable</tt> o metody klasy <tt>String</tt></td>\n",
    "</tr>\n",
    "</table>"
   ]
  },
  {
   "cell_type": "markdown",
   "metadata": {
    "slideshow": {
     "slide_type": "notes"
    }
   },
   "source": [
    "* `HashMap` - implementacja ogólnego przeznaczenia, wymaga `hashCode`\n",
    "* `ConcurrentHashMap` - implementacja bezpieczna ze względu na wątki z tego względu, że iterowanie nie\n",
    "  rzuci wyjątku `ConcurrentModificationException` jeśli mapa zostanie zmodyfikowana. Niemniej jednak\n",
    "  wynik iteracji może nie odzwierciedlać aktualnego stanu kolekcji. Ponadto dostęp do określonego\n",
    "  klucza odzwierciedla stan **zakończonej** operacji jego modyfikacji. Metody modyfikujące wiele kluczy\n",
    "  przy odczycie będą dawały **przybliżoną** wartość zawartości tej struktury (tzn. mogą zawierać jeszcze jakieś\n",
    "  klucze, gdy operacja `clear` jest w toku).\n",
    "* `ConcurrentSkipListMap` - bezpieczna ze względu na wątki implementacja interfejsu `ConcurrentNavigableMap`.\n",
    "  Semantyka operacji współbieżnych analogiczna jak w przypadku `ConcurrentHashMap`.\n",
    "* `EnumMap` - implementacja nalogiczna jak `EnumSet`.\n",
    "* `TreeMap` - implementacja ogólnego przeznaczenia interfejsu `NavigableMap`\n",
    "* `IdentityHashMap` - opiera się na porównaniu za pomocą `==` a nie `equals` do porównywania kluczy.\n",
    "* `WeakHashMap` - wpisy mogą być usunięte, jeśli dana mapa jest jedynym sposobem \"dotarcia\" do danego klucza \n",
    "  (ale nie wartości). Przydatna w implementacji struktur takich jak *cache*.\n",
    "* `Hashtable` - analogicznie jak `Vector` i `Stack` synchronizuje na poszczególnych operacjach."
   ]
  },
  {
   "cell_type": "markdown",
   "metadata": {
    "slideshow": {
     "slide_type": "slide"
    }
   },
   "source": [
    "# Metody pomocnicze `Collections`\n",
    "\n",
    "* `binarySearch` - wyszukiwanie połówkowe\n",
    "* `checkedCollection` - operacje modyfikacji są weryfikowane w czasie wykonania, a nie kompilacji\n",
    "* `disjoint` - sprawdza rozłączność dwóch kolekcji\n",
    "* `emptyList` - zwraca pustą listę\n",
    "* `fill` - wypełnia listę dostarczonymi wartościami\n",
    "* `max` - zwraca element największy\n",
    "* `rotate` - przenosi elementy w kierunku końca\n",
    "* `synchronizedList` - metody są synchronizowane, iterowanie wymaga synchronizacji na widoku\n",
    "* `unmodifiableList` - zwraca niemodyfikowalny widok danej listy"
   ]
  },
  {
   "cell_type": "markdown",
   "metadata": {
    "slideshow": {
     "slide_type": "slide"
    }
   },
   "source": [
    "![Pytania? ](img/question.jpg)"
   ]
  },
  {
   "cell_type": "code",
   "execution_count": null,
   "metadata": {},
   "outputs": [],
   "source": []
  }
 ],
 "metadata": {
  "celltoolbar": "Slideshow",
  "kernelspec": {
   "display_name": "Java",
   "language": "java",
   "name": "java"
  },
  "language_info": {
   "codemirror_mode": "java",
   "file_extension": ".jshell",
   "mimetype": "text/x-java-source",
   "name": "Java",
   "pygments_lexer": "java",
   "version": "17.0.3+7"
  },
  "toc": {
   "base_numbering": 1,
   "nav_menu": {},
   "number_sections": false,
   "sideBar": true,
   "skip_h1_title": false,
   "title_cell": "Table of Contents",
   "title_sidebar": "Contents",
   "toc_cell": false,
   "toc_position": {},
   "toc_section_display": true,
   "toc_window_display": false
  }
 },
 "nbformat": 4,
 "nbformat_minor": 1
}
