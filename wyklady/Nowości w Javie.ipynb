{
 "cells": [
  {
   "cell_type": "markdown",
   "metadata": {},
   "source": [
    "# Nowe własności języka Java i JVM\n",
    "\n",
    "<br/>\n",
    "\n",
    "## dr inż. Aleksander Smywiński-Pohl\n",
    "\n",
    "## apohllo@agh.edu.pl\n",
    "\n",
    "## http://apohllo.pl/dydaktyka/programowanie-obiektowe"
   ]
  },
  {
   "cell_type": "markdown",
   "metadata": {},
   "source": [
    "Java 9\n",
    "\n",
    "* moduły\n",
    "* narzędzie jlink\n",
    "* jshell\n",
    "* ulepszony JavaDoc serwer\n",
    "* metody fabryczne dla kolekcji\n",
    "* ulepszone API stream'ów\n",
    "* prywatne metody w interfejsach\n",
    "* wsparcie dla protokołu HTTP/2\n",
    "* pliki JAR dostosowane do wersji Javy\n",
    "\n",
    "Na podstawie: https://www.pluralsight.com/blog/software-development/java-9-new-features"
   ]
  },
  {
   "cell_type": "markdown",
   "metadata": {},
   "source": [
    "# Moduły - wyższy poziom granulacji niż pakiety"
   ]
  },
  {
   "cell_type": "code",
   "execution_count": null,
   "metadata": {},
   "outputs": [],
   "source": [
    "module visualisation {\n",
    "  exports agh.evolution.visualisation;\n",
    "\n",
    "  requires simulation;\n",
    "}"
   ]
  },
  {
   "cell_type": "markdown",
   "metadata": {},
   "source": [
    "# Ulepszony JavaDoc\n",
    "\n",
    "<img src=\"img/javadoc.png\" />"
   ]
  },
  {
   "cell_type": "markdown",
   "metadata": {},
   "source": [
    "# Metody fabryczne dla kolekcji"
   ]
  },
  {
   "cell_type": "code",
   "execution_count": 6,
   "metadata": {},
   "outputs": [
    {
     "name": "stdout",
     "output_type": "stream",
     "text": [
      "[Apple, Orange, Apple]\n"
     ]
    },
    {
     "ename": "EvalException",
     "evalue": "duplicate element: Apple",
     "output_type": "error",
     "traceback": [
      "\u001b[1m\u001b[31m---------------------------------------------------------------------------\u001b[0m",
      "\u001b[1m\u001b[31mjava.lang.IllegalArgumentException: duplicate element: Apple\u001b[0m",
      "\u001b[1m\u001b[31m\tat java.base/java.util.ImmutableCollections$SetN.<init>(ImmutableCollections.java:587)\u001b[0m",
      "\u001b[1m\u001b[31m\tat java.base/java.util.Set.of(Set.java:502)\u001b[0m",
      "\u001b[1m\u001b[31m\tat .(#22:1)\u001b[0m"
     ]
    }
   ],
   "source": [
    "List<String> strings = List.of(\"Apple\", \"Orange\", \"Apple\");\n",
    "System.out.println(strings);\n",
    "\n",
    "Set<String> stringSet = Set.of(\"Apple\", \"Orange\", \"Apple\");\n",
    "System.out.println(stringset);"
   ]
  },
  {
   "cell_type": "markdown",
   "metadata": {},
   "source": [
    "# Ulepszone API streamów"
   ]
  },
  {
   "cell_type": "code",
   "execution_count": 12,
   "metadata": {},
   "outputs": [
    {
     "name": "stdout",
     "output_type": "stream",
     "text": [
      "1\n",
      "2\n",
      "3\n",
      "4\n",
      "5\n",
      "6\n",
      "7\n",
      "8\n",
      "9\n"
     ]
    }
   ],
   "source": [
    "import java.util.stream.IntStream;\n",
    "\n",
    "IntStream.iterate(1, i -> i < 10, i -> i + 1).forEach(System.out::println);"
   ]
  },
  {
   "cell_type": "code",
   "execution_count": 16,
   "metadata": {},
   "outputs": [
    {
     "name": "stdout",
     "output_type": "stream",
     "text": [
      "1\n"
     ]
    }
   ],
   "source": [
    "import java.util.stream.Stream;\n",
    "\n",
    "Optional.of(1).stream().forEach(System.out::println);"
   ]
  },
  {
   "cell_type": "markdown",
   "metadata": {},
   "source": [
    "# Prywatne metody w interfejsach"
   ]
  }
 ],
 "metadata": {
  "kernelspec": {
   "display_name": "Java",
   "language": "java",
   "name": "java"
  },
  "language_info": {
   "codemirror_mode": "java",
   "file_extension": ".jshell",
   "mimetype": "text/x-java-source",
   "name": "Java",
   "pygments_lexer": "java",
   "version": "17+35-2724"
  },
  "toc": {
   "base_numbering": 1,
   "nav_menu": {},
   "number_sections": false,
   "sideBar": true,
   "skip_h1_title": false,
   "title_cell": "Table of Contents",
   "title_sidebar": "Contents",
   "toc_cell": false,
   "toc_position": {},
   "toc_section_display": true,
   "toc_window_display": false
  }
 },
 "nbformat": 4,
 "nbformat_minor": 2
}
