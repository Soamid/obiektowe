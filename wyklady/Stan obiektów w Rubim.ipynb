{
 "cells": [
  {
   "cell_type": "markdown",
   "metadata": {
    "slideshow": {
     "slide_type": "slide"
    }
   },
   "source": [
    "# Stan obiektów w Rubim\n",
    "\n",
    "<br/>\n",
    "\n",
    "## dr inż. Aleksander Smywiński-Pohl\n",
    "\n",
    "## apohllo@agh.edu.pl\n",
    "\n",
    "## http://apohllo.pl/dydaktyka/programowanie-obiektowe\n",
    "\n",
    "## konsultacje: środa 17-18"
   ]
  },
  {
   "cell_type": "markdown",
   "metadata": {
    "slideshow": {
     "slide_type": "slide"
    }
   },
   "source": [
    "<center><img src=\"img/ruby-horizontal.svg\" style=\"width: 800px\" /></center>"
   ]
  },
  {
   "cell_type": "code",
   "execution_count": 6,
   "metadata": {
    "ExecuteTime": {
     "end_time": "2022-10-27T15:52:37.381105Z",
     "start_time": "2022-10-27T15:52:37.376Z"
    },
    "slideshow": {
     "slide_type": "subslide"
    }
   },
   "outputs": [
    {
     "data": {
      "text/plain": [
       ":to_s"
      ]
     },
     "execution_count": 6,
     "metadata": {},
     "output_type": "execute_result"
    }
   ],
   "source": [
    "class Speed\n",
    "  def initialize(value)\n",
    "    @value = value\n",
    "  end\n",
    "  \n",
    "  def to_s\n",
    "    \"Speed: \" + @value.to_s\n",
    "  end\n",
    "end"
   ]
  },
  {
   "cell_type": "markdown",
   "metadata": {
    "slideshow": {
     "slide_type": "notes"
    }
   },
   "source": [
    "W Rubym odpowiednikiem konstruktora jest metoda `initialize`. Odpowiednikiem `toString` z Javy jest `to_s`.\n",
    "Zmienne instancyjne zaczynają się od @. "
   ]
  },
  {
   "cell_type": "code",
   "execution_count": 7,
   "metadata": {
    "ExecuteTime": {
     "end_time": "2022-10-27T15:52:39.374257Z",
     "start_time": "2022-10-27T15:52:39.363Z"
    },
    "slideshow": {
     "slide_type": "fragment"
    }
   },
   "outputs": [
    {
     "name": "stdout",
     "output_type": "stream",
     "text": [
      "Speed: 10\n",
      "Speed: 20\n",
      "Speed: 10\n"
     ]
    }
   ],
   "source": [
    "speed1 = Speed.new(10)\n",
    "speed2 = Speed.new(20)\n",
    "\n",
    "puts speed1\n",
    "puts speed2\n",
    "puts speed1"
   ]
  },
  {
   "cell_type": "markdown",
   "metadata": {
    "slideshow": {
     "slide_type": "notes"
    }
   },
   "source": [
    "Utworzenie nowego obiektu w Rubym odbywa się poprzez wywołanie `NazwaKlasy.new` - `new` jest niemalże \"zwykłą\" metodą. Wywołanie `puts` niejawnie korzysta z metody `to_s`."
   ]
  },
  {
   "cell_type": "code",
   "execution_count": 8,
   "metadata": {
    "ExecuteTime": {
     "end_time": "2022-10-27T15:53:12.364389Z",
     "start_time": "2022-10-27T15:53:12.352Z"
    },
    "slideshow": {
     "slide_type": "subslide"
    }
   },
   "outputs": [
    {
     "name": "stdout",
     "output_type": "stream",
     "text": [
      "SyntaxError: unexpected instance variable\n",
      "    if @unit == other.@unit                   # <-------...\n",
      "                      ^~~~~\n",
      "SyntaxError: unexpected instance variable\n",
      "...Speed.new(@value + other.@value, @unit) # <--------------!\n",
      "...                         ^~~~~~\n",
      "SyntaxError: unexpected ')', expecting '='\n",
      "...w(@value + other.@value, @unit) # <--------------!\n",
      "...                              ^\n",
      "SyntaxError: unexpected `end', expecting end-of-input\n"
     ]
    }
   ],
   "source": [
    "class Speed\n",
    "  def initialize(value, unit)\n",
    "    @value = value\n",
    "    @unit = unit\n",
    "  end\n",
    "  \n",
    "  def to_s\n",
    "    \"Speed #{@value} #{@unit}\"\n",
    "  end\n",
    "  \n",
    "  def +(other)\n",
    "    if @unit == other.@unit                   # <--------------!\n",
    "      Speed.new(@value + other.@value, @unit) # <--------------!\n",
    "    else\n",
    "      self # lepiej rzucić wyjątek\n",
    "    end\n",
    "  end\n",
    "end"
   ]
  },
  {
   "cell_type": "markdown",
   "metadata": {
    "slideshow": {
     "slide_type": "notes"
    }
   },
   "source": [
    "Kod powoduje błąd składniowy ponieważ w Rubym nie można odwołać się do atrybutów obiektu inaczej niż przez niekwalifikowaną nazwę atrybutu (`@atrybut`). `zmienna.@atrybut` jest konstrukcją niepoprawną składniowo - w ten sposób zagwarantowana jest prywatność atrybutów - stan - obiektów."
   ]
  },
  {
   "cell_type": "markdown",
   "metadata": {
    "slideshow": {
     "slide_type": "subslide"
    }
   },
   "source": [
    "<center><img src=\"img/ruby_variable.png\" /></center>"
   ]
  },
  {
   "cell_type": "markdown",
   "metadata": {
    "slideshow": {
     "slide_type": "notes"
    }
   },
   "source": [
    "Widzimy tutaj istotną różnicę względem Javy - w tym języku inne obiekty tej samej klasy mają dostęp do prywatnych atrybutów innych obiektów tej samej klasy. W Rubym nie ma takiego dostępu."
   ]
  },
  {
   "cell_type": "code",
   "execution_count": 9,
   "metadata": {
    "ExecuteTime": {
     "end_time": "2022-10-27T15:55:19.512404Z",
     "start_time": "2022-10-27T15:55:19.506Z"
    },
    "slideshow": {
     "slide_type": "subslide"
    }
   },
   "outputs": [
    {
     "data": {
      "text/plain": [
       ":+"
      ]
     },
     "execution_count": 9,
     "metadata": {},
     "output_type": "execute_result"
    }
   ],
   "source": [
    "class Speed\n",
    "  attr_reader :unit, :value\n",
    "    \n",
    "  def initialize(value, unit)\n",
    "    @value = value\n",
    "    @unit = unit\n",
    "  end\n",
    "    \n",
    "  def to_s\n",
    "    \"Speed #{@value} #{@unit}\"\n",
    "  end\n",
    "  \n",
    "  def +(other)\n",
    "    if @unit == other.unit()\n",
    "      Speed.new(@value + other.value(), @unit)\n",
    "    else\n",
    "      self\n",
    "    end\n",
    "  end\n",
    "end"
   ]
  },
  {
   "cell_type": "markdown",
   "metadata": {
    "slideshow": {
     "slide_type": "notes"
    }
   },
   "source": [
    "Aby odwołać się do wartości atrybutu w innym obiekcie musimy skorzystać z pośrednictwa metody. \n",
    "`attr_reader` definiuje nam gettery - w tym wypadku dla atrybutów `unit` oraz `value`. Należy jednak mieć na uwadze, że wywołanie `other.unit` i `other.value` nie odwołują się bezpośrednio do wartości atrybutów lecz korzystają z pośrednictwa zdefiniowanych metod (które mogą być nadpisane).\n",
    "\n",
    "W Rubym można redefiniować operatory. `+(other)` definiuje nam operator, który można wywoływać na obiektach klasy `Speed`."
   ]
  },
  {
   "cell_type": "code",
   "execution_count": 10,
   "metadata": {
    "ExecuteTime": {
     "end_time": "2022-10-27T15:55:28.054449Z",
     "start_time": "2022-10-27T15:55:28.049Z"
    },
    "slideshow": {
     "slide_type": "fragment"
    }
   },
   "outputs": [
    {
     "name": "stdout",
     "output_type": "stream",
     "text": [
      "Speed 30 KMH\n"
     ]
    }
   ],
   "source": [
    "speed1 = Speed.new(10, :KMH)\n",
    "speed2 = Speed.new(20, :KMH)\n",
    "\n",
    "speed3 = speed1 + speed2\n",
    "\n",
    "puts speed3"
   ]
  },
  {
   "cell_type": "markdown",
   "metadata": {
    "slideshow": {
     "slide_type": "subslide"
    }
   },
   "source": [
    "<center><img src=\"img/ruby_variable_1.png\" /></center>"
   ]
  },
  {
   "cell_type": "code",
   "execution_count": 11,
   "metadata": {
    "ExecuteTime": {
     "end_time": "2022-10-27T15:56:43.142669Z",
     "start_time": "2022-10-27T15:56:43.138Z"
    },
    "slideshow": {
     "slide_type": "subslide"
    }
   },
   "outputs": [
    {
     "data": {
      "text/plain": [
       ":accelerate"
      ]
     },
     "execution_count": 11,
     "metadata": {},
     "output_type": "execute_result"
    }
   ],
   "source": [
    "class SpaceShip\n",
    "  def initalize(speed)\n",
    "    @speed = speed\n",
    "  end\n",
    "    \n",
    "  def accelerate(speed)\n",
    "    @speed += speed\n",
    "  end\n",
    "end"
   ]
  },
  {
   "cell_type": "markdown",
   "metadata": {
    "slideshow": {
     "slide_type": "notes"
    }
   },
   "source": [
    "Przykład wykorzystania operatora `+` zdefiniowanego dla klasy `Speed`."
   ]
  },
  {
   "cell_type": "markdown",
   "metadata": {
    "slideshow": {
     "slide_type": "slide"
    }
   },
   "source": [
    "# Atrybuty a dziedziczenie"
   ]
  },
  {
   "cell_type": "code",
   "execution_count": 12,
   "metadata": {
    "ExecuteTime": {
     "end_time": "2022-10-27T15:56:58.095583Z",
     "start_time": "2022-10-27T15:56:58.086Z"
    },
    "slideshow": {
     "slide_type": "fragment"
    }
   },
   "outputs": [
    {
     "data": {
      "text/plain": [
       ":initialize"
      ]
     },
     "execution_count": 12,
     "metadata": {},
     "output_type": "execute_result"
    }
   ],
   "source": [
    "class Speed\n",
    "  attr_reader :unit\n",
    "  \n",
    "  def initialize(unit)\n",
    "    @unit = unit\n",
    "  end\n",
    "end"
   ]
  },
  {
   "cell_type": "code",
   "execution_count": 13,
   "metadata": {
    "ExecuteTime": {
     "end_time": "2022-10-27T15:57:31.815509Z",
     "start_time": "2022-10-27T15:57:31.811Z"
    },
    "slideshow": {
     "slide_type": "fragment"
    }
   },
   "outputs": [
    {
     "data": {
      "text/plain": [
       ":initialize"
      ]
     },
     "execution_count": 13,
     "metadata": {},
     "output_type": "execute_result"
    }
   ],
   "source": [
    "class Speed1D < Speed\n",
    "  attr_reader :value\n",
    "  \n",
    "  def initialize(unit, value)\n",
    "    super(unit)\n",
    "    @value = value\n",
    "    @unit = :KMH\n",
    "  end\n",
    "end"
   ]
  },
  {
   "cell_type": "markdown",
   "metadata": {
    "slideshow": {
     "slide_type": "notes"
    }
   },
   "source": [
    "`Speed1D < Speed` oznacza, że `Speed1D` dziedziczy ze `Speed`.\n",
    "\n",
    "`super` oznacza wywołanie konstruktora z klasy nadrzędnej."
   ]
  },
  {
   "cell_type": "code",
   "execution_count": 14,
   "metadata": {
    "ExecuteTime": {
     "end_time": "2022-10-27T15:57:36.247963Z",
     "start_time": "2022-10-27T15:57:36.243Z"
    },
    "slideshow": {
     "slide_type": "fragment"
    }
   },
   "outputs": [
    {
     "data": {
      "text/plain": [
       ":KMH"
      ]
     },
     "execution_count": 14,
     "metadata": {},
     "output_type": "execute_result"
    }
   ],
   "source": [
    "speed1 = Speed1D.new(:MS, 10)\n",
    "speed1.unit"
   ]
  },
  {
   "cell_type": "markdown",
   "metadata": {
    "slideshow": {
     "slide_type": "subslide"
    }
   },
   "source": [
    "<center><img src=\"img/ruby_class.png\" /></center>"
   ]
  },
  {
   "cell_type": "markdown",
   "metadata": {
    "slideshow": {
     "slide_type": "slide"
    }
   },
   "source": [
    "## Zunifikowany dostęp do atrybutów"
   ]
  },
  {
   "cell_type": "code",
   "execution_count": 15,
   "metadata": {
    "ExecuteTime": {
     "end_time": "2022-10-27T16:00:06.623054Z",
     "start_time": "2022-10-27T16:00:06.616Z"
    },
    "slideshow": {
     "slide_type": "fragment"
    }
   },
   "outputs": [
    {
     "data": {
      "text/plain": [
       ":initialize"
      ]
     },
     "execution_count": 15,
     "metadata": {},
     "output_type": "execute_result"
    }
   ],
   "source": [
    "class Speed\n",
    "  attr_accessor :unit\n",
    "  \n",
    "  def initialize(unit)\n",
    "    @unit = unit\n",
    "  end\n",
    "end"
   ]
  },
  {
   "cell_type": "markdown",
   "metadata": {
    "slideshow": {
     "slide_type": "notes"
    }
   },
   "source": [
    "`attr_accessor` definiuje zarówno getter jak i setter dla klasy `Speed`."
   ]
  },
  {
   "cell_type": "code",
   "execution_count": 16,
   "metadata": {
    "ExecuteTime": {
     "end_time": "2022-10-27T16:01:17.563897Z",
     "start_time": "2022-10-27T16:01:17.557Z"
    },
    "slideshow": {
     "slide_type": "fragment"
    }
   },
   "outputs": [
    {
     "name": "stdout",
     "output_type": "stream",
     "text": [
      "KMH\n",
      "MPH\n",
      "abc\n"
     ]
    }
   ],
   "source": [
    "speed1 = Speed.new(:KMH)\n",
    "puts speed1.unit()\n",
    "speed1.unit=(:MPH)\n",
    "puts speed1.unit\n",
    "speed1.unit = \"abc\"\n",
    "puts speed1.unit"
   ]
  },
  {
   "cell_type": "markdown",
   "metadata": {
    "slideshow": {
     "slide_type": "notes"
    }
   },
   "source": [
    "W Rubym nawiasy w wywołaniach metod są opcjonalne (jeśli nie powoduje to niejednoznaczności). Dlatego wywołania \n",
    "`speed.unit= value` oraz `speed.unit=(value)` a także `speed.unit` i `speed.unit()` są tożsame."
   ]
  },
  {
   "cell_type": "code",
   "execution_count": 17,
   "metadata": {
    "ExecuteTime": {
     "end_time": "2022-10-27T16:01:53.690679Z",
     "start_time": "2022-10-27T16:01:53.686Z"
    },
    "slideshow": {
     "slide_type": "subslide"
    }
   },
   "outputs": [
    {
     "data": {
      "text/plain": [
       ":unit="
      ]
     },
     "execution_count": 17,
     "metadata": {},
     "output_type": "execute_result"
    }
   ],
   "source": [
    "class Speed\n",
    "  attr_accessor :unit\n",
    "  VALID_UNITS = [:KMH, :MPH]\n",
    "\n",
    "  def initialize(unit)\n",
    "    @unit = unit\n",
    "  end\n",
    "\n",
    "  def unit=(new_value)\n",
    "    if VALID_UNITS.include?(new_value)\n",
    "      @unit = new_value\n",
    "    end\n",
    "  end\n",
    "end"
   ]
  },
  {
   "cell_type": "markdown",
   "metadata": {
    "slideshow": {
     "slide_type": "notes"
    }
   },
   "source": [
    "Dzikęki temu możemy w sposób 'przezroczysty` nadpisywać metody dostępowe np. zabezpieczając przed niewłaściwymi modyfikacjami stanu naszego obiektu."
   ]
  },
  {
   "cell_type": "code",
   "execution_count": 18,
   "metadata": {
    "ExecuteTime": {
     "end_time": "2022-10-27T16:01:58.193480Z",
     "start_time": "2022-10-27T16:01:58.186Z"
    },
    "slideshow": {
     "slide_type": "subslide"
    }
   },
   "outputs": [
    {
     "name": "stdout",
     "output_type": "stream",
     "text": [
      "KMH\n",
      "MPH\n",
      "MPH\n"
     ]
    }
   ],
   "source": [
    "speed1 = Speed.new(:KMH)\n",
    "puts speed1.unit\n",
    "speed1.unit = :MPH\n",
    "puts speed1.unit\n",
    "speed1.unit = \"abc\"\n",
    "puts speed1.unit"
   ]
  },
  {
   "cell_type": "markdown",
   "metadata": {
    "slideshow": {
     "slide_type": "subslide"
    }
   },
   "source": [
    "![Pytania? ](img/question.jpg)"
   ]
  },
  {
   "cell_type": "code",
   "execution_count": null,
   "metadata": {},
   "outputs": [],
   "source": []
  }
 ],
 "metadata": {
  "celltoolbar": "Slideshow",
  "kernelspec": {
   "display_name": "Ruby 2.4.2",
   "language": "ruby",
   "name": "ruby"
  },
  "language_info": {
   "file_extension": ".rb",
   "mimetype": "application/x-ruby",
   "name": "ruby",
   "version": "2.7.2"
  },
  "toc": {
   "base_numbering": 1,
   "nav_menu": {},
   "number_sections": false,
   "sideBar": true,
   "skip_h1_title": false,
   "title_cell": "Table of Contents",
   "title_sidebar": "Contents",
   "toc_cell": false,
   "toc_position": {},
   "toc_section_display": true,
   "toc_window_display": false
  }
 },
 "nbformat": 4,
 "nbformat_minor": 2
}
