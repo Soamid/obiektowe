{
 "cells": [
  {
   "cell_type": "markdown",
   "metadata": {
    "slideshow": {
     "slide_type": "slide"
    }
   },
   "source": [
    "# Stan obiektów w Rubim\n",
    "\n",
    "<br/>\n",
    "\n",
    "## dr inż. Aleksander Smywiński-Pohl\n",
    "\n",
    "## apohllo@agh.edu.pl\n",
    "\n",
    "## http://apohllo.pl/dydaktyka/programowanie-obiektowe\n",
    "\n",
    "## konsultacje: czwartek 14:45-15:45"
   ]
  },
  {
   "cell_type": "markdown",
   "metadata": {
    "slideshow": {
     "slide_type": "slide"
    }
   },
   "source": [
    "<center><img src=\"img/ruby-horizontal.svg\" style=\"width: 800px\" /></center>"
   ]
  },
  {
   "cell_type": "code",
   "execution_count": 1,
   "metadata": {
    "ExecuteTime": {
     "end_time": "2021-11-03T07:40:31.806200Z",
     "start_time": "2021-11-03T07:40:31.787Z"
    },
    "slideshow": {
     "slide_type": "subslide"
    }
   },
   "outputs": [
    {
     "data": {
      "text/plain": [
       ":to_s"
      ]
     },
     "execution_count": 1,
     "metadata": {},
     "output_type": "execute_result"
    }
   ],
   "source": [
    "class Speed\n",
    "  def initialize(value)\n",
    "    @value = value\n",
    "  end\n",
    "  \n",
    "  def to_s\n",
    "    \"Speed: \" + @value.to_s\n",
    "  end\n",
    "end"
   ]
  },
  {
   "cell_type": "markdown",
   "metadata": {
    "slideshow": {
     "slide_type": "notes"
    }
   },
   "source": [
    "W Rubym odpowiednikiem konstruktora jest metoda `initialize`. Odpowiednikiem `toString` z Javy jest `to_s`.\n",
    "Zmienne instancyjne zaczynają się od @. "
   ]
  },
  {
   "cell_type": "code",
   "execution_count": 2,
   "metadata": {
    "ExecuteTime": {
     "end_time": "2021-11-03T07:40:35.093337Z",
     "start_time": "2021-11-03T07:40:35.083Z"
    },
    "slideshow": {
     "slide_type": "fragment"
    }
   },
   "outputs": [
    {
     "name": "stdout",
     "output_type": "stream",
     "text": [
      "Speed: 10\n",
      "Speed: 20\n"
     ]
    }
   ],
   "source": [
    "speed1 = Speed.new(10)\n",
    "speed2 = Speed.new(20)\n",
    "\n",
    "puts speed1\n",
    "puts speed2"
   ]
  },
  {
   "cell_type": "markdown",
   "metadata": {
    "slideshow": {
     "slide_type": "notes"
    }
   },
   "source": [
    "Utworzenie nowego obiektu w Rubym odbywa się poprzez wywołanie `NazwaKlasy.new` - `new` jest niemalże \"zwykłą\" metodą. Wywołanie `puts` niejawnie korzysta z metody `to_s`."
   ]
  },
  {
   "cell_type": "code",
   "execution_count": 3,
   "metadata": {
    "ExecuteTime": {
     "end_time": "2021-11-03T07:41:36.808762Z",
     "start_time": "2021-11-03T07:41:36.799Z"
    },
    "slideshow": {
     "slide_type": "subslide"
    }
   },
   "outputs": [
    {
     "name": "stdout",
     "output_type": "stream",
     "text": [
      "SyntaxError: unexpected instance variable\n",
      "    if @unit == other.@unit                   # <-------...\n",
      "                      ^~~~~\n",
      "SyntaxError: unexpected instance variable\n",
      "...Speed.new(@value + other.@value, @unit) # <--------------!\n",
      "...                         ^~~~~~\n",
      "SyntaxError: unexpected ')', expecting '='\n",
      "...w(@value + other.@value, @unit) # <--------------!\n",
      "...                              ^\n",
      "SyntaxError: unexpected `end', expecting end-of-input\n"
     ]
    }
   ],
   "source": [
    "class Speed\n",
    "  def initialize(value, unit)\n",
    "    @value = value\n",
    "    @unit = unit\n",
    "  end\n",
    "  \n",
    "  def to_s\n",
    "    \"Speed #{@value} #{@unit}\"\n",
    "  end\n",
    "  \n",
    "  def +(other)\n",
    "    if @unit == other.@unit                   # <--------------!\n",
    "      Speed.new(@value + other.@value, @unit) # <--------------!\n",
    "    else\n",
    "      self # lepiej rzucić wyjątek\n",
    "    end\n",
    "  end\n",
    "end"
   ]
  },
  {
   "cell_type": "markdown",
   "metadata": {
    "slideshow": {
     "slide_type": "notes"
    }
   },
   "source": [
    "Kod powoduje błąd składniowy ponieważ w Rubym nie można odwołać się do atrybutów obiektu inaczej niż przez niekwalifikowaną nazwę atrybutu (`@atrybut`). `zmienna.@atrybut` jest konstrukcją niepoprawną składniowo - w ten sposób zagwarantowana jest prywatność atrybutów - stan - obiektów."
   ]
  },
  {
   "cell_type": "markdown",
   "metadata": {
    "slideshow": {
     "slide_type": "subslide"
    }
   },
   "source": [
    "<center><img src=\"img/ruby_variable.png\" /></center>"
   ]
  },
  {
   "cell_type": "markdown",
   "metadata": {
    "slideshow": {
     "slide_type": "notes"
    }
   },
   "source": [
    "Widzimy tutaj istotną różnicę względem Javy - w tym języku inne obiekty tej samej klasy mają dostęp do prywatnych atrybutów innych obiektów tej samej klasy. W Rubym nie ma takiego dostępu."
   ]
  },
  {
   "cell_type": "code",
   "execution_count": 4,
   "metadata": {
    "ExecuteTime": {
     "end_time": "2021-11-03T07:47:59.552984Z",
     "start_time": "2021-11-03T07:47:59.543Z"
    },
    "slideshow": {
     "slide_type": "subslide"
    }
   },
   "outputs": [
    {
     "data": {
      "text/plain": [
       ":+"
      ]
     },
     "execution_count": 4,
     "metadata": {},
     "output_type": "execute_result"
    }
   ],
   "source": [
    "class Speed\n",
    "  attr_reader :unit, :value\n",
    "    \n",
    "  def initialize(value, unit)\n",
    "    @value = value\n",
    "    @unit = unit\n",
    "  end\n",
    "    \n",
    "  def to_s\n",
    "    \"Speed #{@value} #{@unit}\"\n",
    "  end\n",
    "  \n",
    "  def +(other)\n",
    "    if @unit == other.unit()\n",
    "      Speed.new(@value + other.value, @unit)\n",
    "    else\n",
    "      self\n",
    "    end\n",
    "  end\n",
    "end"
   ]
  },
  {
   "cell_type": "markdown",
   "metadata": {
    "slideshow": {
     "slide_type": "notes"
    }
   },
   "source": [
    "Aby odwołać się do wartości atrybutu w innym obiekcie musimy skorzystać z pośrednictwa metody. \n",
    "`attr_reader` definiuje nam gettery - w tym wypadku dla atrybutów `unit` oraz `value`. Należy jednak mieć na uwadze, że wywołanie `other.unit` i `other.value` nie odwołują się bezpośrednio do wartości atrybutów lecz korzystają z pośrednictwa zdefiniowanych metod (które mogą być nadpisane).\n",
    "\n",
    "W Rubym można redefiniować operatory. `+(other)` definiuje nam operator, który można wywoływać na obiektach klasy `Speed`."
   ]
  },
  {
   "cell_type": "code",
   "execution_count": 5,
   "metadata": {
    "ExecuteTime": {
     "end_time": "2021-11-03T07:48:01.899224Z",
     "start_time": "2021-11-03T07:48:01.889Z"
    },
    "slideshow": {
     "slide_type": "fragment"
    }
   },
   "outputs": [
    {
     "name": "stdout",
     "output_type": "stream",
     "text": [
      "Speed 30 KMH\n"
     ]
    }
   ],
   "source": [
    "speed1 = Speed.new(10, :KMH)\n",
    "speed2 = Speed.new(20, :KMH)\n",
    "\n",
    "speed3 = speed1 + speed2\n",
    "\n",
    "puts speed3"
   ]
  },
  {
   "cell_type": "markdown",
   "metadata": {
    "slideshow": {
     "slide_type": "subslide"
    }
   },
   "source": [
    "<center><img src=\"img/ruby_variable_1.png\" /></center>"
   ]
  },
  {
   "cell_type": "code",
   "execution_count": 6,
   "metadata": {
    "ExecuteTime": {
     "end_time": "2021-11-03T07:49:16.412848Z",
     "start_time": "2021-11-03T07:49:16.408Z"
    },
    "slideshow": {
     "slide_type": "subslide"
    }
   },
   "outputs": [
    {
     "data": {
      "text/plain": [
       ":accelerate"
      ]
     },
     "execution_count": 6,
     "metadata": {},
     "output_type": "execute_result"
    }
   ],
   "source": [
    "class SpaceShip\n",
    "  def initalize(speed)\n",
    "    @speed = speed\n",
    "  end\n",
    "    \n",
    "  def accelerate(speed)\n",
    "    @speed += speed\n",
    "  end\n",
    "end"
   ]
  },
  {
   "cell_type": "markdown",
   "metadata": {
    "slideshow": {
     "slide_type": "notes"
    }
   },
   "source": [
    "Przykład wykorzystania operatora `+` zdefiniowanego dla klasy `Speed`."
   ]
  },
  {
   "cell_type": "markdown",
   "metadata": {
    "slideshow": {
     "slide_type": "slide"
    }
   },
   "source": [
    "# Atrybuty a dziedziczenie"
   ]
  },
  {
   "cell_type": "code",
   "execution_count": 7,
   "metadata": {
    "ExecuteTime": {
     "end_time": "2021-11-03T07:49:53.821174Z",
     "start_time": "2021-11-03T07:49:53.816Z"
    },
    "slideshow": {
     "slide_type": "fragment"
    }
   },
   "outputs": [
    {
     "data": {
      "text/plain": [
       ":initialize"
      ]
     },
     "execution_count": 7,
     "metadata": {},
     "output_type": "execute_result"
    }
   ],
   "source": [
    "class Speed\n",
    "  attr_reader :unit\n",
    "  \n",
    "  def initialize(unit)\n",
    "    @unit = unit\n",
    "  end\n",
    "end"
   ]
  },
  {
   "cell_type": "code",
   "execution_count": 8,
   "metadata": {
    "ExecuteTime": {
     "end_time": "2021-11-03T07:49:57.802788Z",
     "start_time": "2021-11-03T07:49:57.792Z"
    },
    "slideshow": {
     "slide_type": "fragment"
    }
   },
   "outputs": [
    {
     "data": {
      "text/plain": [
       ":initialize"
      ]
     },
     "execution_count": 8,
     "metadata": {},
     "output_type": "execute_result"
    }
   ],
   "source": [
    "class Speed1D < Speed\n",
    "  attr_reader :value\n",
    "  \n",
    "  def initialize(unit, value)\n",
    "    super(unit)\n",
    "    @value = value\n",
    "    @unit = :KMH\n",
    "  end\n",
    "end"
   ]
  },
  {
   "cell_type": "markdown",
   "metadata": {
    "slideshow": {
     "slide_type": "notes"
    }
   },
   "source": [
    "`Speed1D < Speed` oznacza, że `Speed1D` dziedziczy ze `Speed`.\n",
    "\n",
    "`super` oznacza wywołanie konstruktora z klasy nadrzędnej."
   ]
  },
  {
   "cell_type": "code",
   "execution_count": 9,
   "metadata": {
    "ExecuteTime": {
     "end_time": "2021-11-03T07:51:20.229562Z",
     "start_time": "2021-11-03T07:51:20.221Z"
    },
    "slideshow": {
     "slide_type": "fragment"
    }
   },
   "outputs": [
    {
     "data": {
      "text/plain": [
       ":KMH"
      ]
     },
     "execution_count": 9,
     "metadata": {},
     "output_type": "execute_result"
    }
   ],
   "source": [
    "speed1 = Speed1D.new(:MS, 10)\n",
    "speed1.unit"
   ]
  },
  {
   "cell_type": "markdown",
   "metadata": {
    "slideshow": {
     "slide_type": "subslide"
    }
   },
   "source": [
    "<center><img src=\"img/ruby_class.png\" /></center>"
   ]
  },
  {
   "cell_type": "markdown",
   "metadata": {
    "slideshow": {
     "slide_type": "slide"
    }
   },
   "source": [
    "## Zunifikowany dostęp do atrybutów"
   ]
  },
  {
   "cell_type": "code",
   "execution_count": 14,
   "metadata": {
    "ExecuteTime": {
     "end_time": "2021-11-03T07:55:37.963331Z",
     "start_time": "2021-11-03T07:55:37.951Z"
    },
    "slideshow": {
     "slide_type": "fragment"
    }
   },
   "outputs": [
    {
     "data": {
      "text/plain": [
       ":initialize"
      ]
     },
     "execution_count": 14,
     "metadata": {},
     "output_type": "execute_result"
    }
   ],
   "source": [
    "class Speed\n",
    "  attr_accessor :unit\n",
    "  \n",
    "  def initialize(unit)\n",
    "    @unit = unit\n",
    "  end\n",
    "end"
   ]
  },
  {
   "cell_type": "markdown",
   "metadata": {
    "slideshow": {
     "slide_type": "notes"
    }
   },
   "source": [
    "`attr_accessor` definiuje zarówno getter jak i setter dla klasy `Speed`."
   ]
  },
  {
   "cell_type": "code",
   "execution_count": 15,
   "metadata": {
    "ExecuteTime": {
     "end_time": "2021-11-03T07:55:39.944593Z",
     "start_time": "2021-11-03T07:55:39.933Z"
    },
    "slideshow": {
     "slide_type": "fragment"
    }
   },
   "outputs": [
    {
     "name": "stdout",
     "output_type": "stream",
     "text": [
      "KMH\n",
      "MPH\n",
      "abc\n"
     ]
    }
   ],
   "source": [
    "speed1 = Speed.new(:KMH)\n",
    "puts speed1.unit()\n",
    "speed1.unit=(:MPH)\n",
    "puts speed1.unit\n",
    "speed1.unit = \"abc\"\n",
    "puts speed1.unit"
   ]
  },
  {
   "cell_type": "markdown",
   "metadata": {
    "slideshow": {
     "slide_type": "notes"
    }
   },
   "source": [
    "W Rubym nawiasy w wywołaniach metod są opcjonalne (jeśli nie powoduje to niejednoznaczności). Dlatego wywołania \n",
    "`speed.unit= value` oraz `speed.unit=(value)` a także `speed.unit` i `speed.unit()` są tożsame."
   ]
  },
  {
   "cell_type": "code",
   "execution_count": 16,
   "metadata": {
    "ExecuteTime": {
     "end_time": "2021-11-03T07:56:08.033831Z",
     "start_time": "2021-11-03T07:56:08.023Z"
    },
    "slideshow": {
     "slide_type": "subslide"
    }
   },
   "outputs": [
    {
     "data": {
      "text/plain": [
       ":unit="
      ]
     },
     "execution_count": 16,
     "metadata": {},
     "output_type": "execute_result"
    }
   ],
   "source": [
    "class Speed\n",
    "  attr_accessor :unit\n",
    "  VALID_UNITS = [:KMH, :MPH]\n",
    "\n",
    "  def initialize(unit)\n",
    "    @unit = unit\n",
    "  end\n",
    "\n",
    "  def unit=(new_value)\n",
    "    if VALID_UNITS.include?(new_value)\n",
    "      @unit = new_value\n",
    "    end\n",
    "  end\n",
    "end"
   ]
  },
  {
   "cell_type": "markdown",
   "metadata": {
    "slideshow": {
     "slide_type": "notes"
    }
   },
   "source": [
    "Dzikęki temu możemy w sposób 'przezroczysty` nadpisywać metody dostępowe np. zabezpieczając przed niewłaściwymi modyfikacjami stanu naszego obiektu."
   ]
  },
  {
   "cell_type": "code",
   "execution_count": 17,
   "metadata": {
    "ExecuteTime": {
     "end_time": "2021-11-03T07:56:11.146715Z",
     "start_time": "2021-11-03T07:56:11.132Z"
    },
    "slideshow": {
     "slide_type": "subslide"
    }
   },
   "outputs": [
    {
     "name": "stdout",
     "output_type": "stream",
     "text": [
      "KMH\n",
      "MPH\n",
      "MPH\n"
     ]
    }
   ],
   "source": [
    "speed1 = Speed.new(:KMH)\n",
    "puts speed1.unit\n",
    "speed1.unit = :MPH\n",
    "puts speed1.unit\n",
    "speed1.unit = \"abc\"\n",
    "puts speed1.unit"
   ]
  },
  {
   "cell_type": "markdown",
   "metadata": {
    "slideshow": {
     "slide_type": "subslide"
    }
   },
   "source": [
    "![Pytania? ](img/question.jpg)"
   ]
  },
  {
   "cell_type": "code",
   "execution_count": null,
   "metadata": {},
   "outputs": [],
   "source": []
  }
 ],
 "metadata": {
  "celltoolbar": "Slideshow",
  "kernelspec": {
   "display_name": "Ruby 2.4.2",
   "language": "ruby",
   "name": "ruby"
  },
  "language_info": {
   "file_extension": ".rb",
   "mimetype": "application/x-ruby",
   "name": "ruby",
   "version": "2.7.2"
  },
  "toc": {
   "base_numbering": 1,
   "nav_menu": {},
   "number_sections": false,
   "sideBar": true,
   "skip_h1_title": false,
   "title_cell": "Table of Contents",
   "title_sidebar": "Contents",
   "toc_cell": false,
   "toc_position": {},
   "toc_section_display": true,
   "toc_window_display": false
  }
 },
 "nbformat": 4,
 "nbformat_minor": 2
}
