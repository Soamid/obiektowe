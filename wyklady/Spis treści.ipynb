{
 "cells": [
  {
   "cell_type": "markdown",
   "metadata": {},
   "source": [
    "* [Wykład nr 1 - Czym jest programowanie obiektowe?](Czym jest programowanie obiektowe.ipynb)\n",
    "* [Wykład nr 2 - Język Java](Język Java i wirtualna maszyna Javy.ipynb)\n",
    "* [Wykład nr 3 - Podstawowe typy danych](Podstawowe typy danych.ipynb)\n",
    "* [Wykład nr 4 - Stan w programowaniu obiektowym](Stan w programowaniu obiektowym.ipynb)"
   ]
  }
 ],
 "metadata": {
  "kernelspec": {
   "display_name": "Java 9",
   "language": "java",
   "name": "java"
  },
  "language_info": {
   "file_extension": ".class",
   "mimetype": "application/java-vm",
   "name": "java"
  }
 },
 "nbformat": 4,
 "nbformat_minor": 1
}
