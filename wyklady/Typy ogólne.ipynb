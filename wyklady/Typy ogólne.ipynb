{
 "cells": [
  {
   "cell_type": "markdown",
   "metadata": {
    "slideshow": {
     "slide_type": "slide"
    }
   },
   "source": [
    "# Typy ogólne\n",
    "\n",
    "## kowariancja tablic, typy ogólne, funkcje, konsumenci, itp.\n",
    "\n",
    "<br/>\n",
    "\n",
    "## dr inż. Aleksander Smywiński-Pohl\n",
    "\n",
    "## apohllo@agh.edu.pl\n",
    "\n",
    "## http://apohllo.pl/dydaktyka/programowanie-obiektowe\n",
    "\n",
    "## konsultacje: wtorek 15:30 - 18:00, pokój 4.61"
   ]
  },
  {
   "cell_type": "markdown",
   "metadata": {
    "slideshow": {
     "slide_type": "subslide"
    }
   },
   "source": [
    "# Pytanie 1\n",
    "\n",
    "Czy refleksja w Javie będzie nadal działać po zastosowaniu zaciemniania kodu? "
   ]
  },
  {
   "cell_type": "markdown",
   "metadata": {
    "slideshow": {
     "slide_type": "subslide"
    }
   },
   "source": [
    "# Pytanie 2\n",
    "\n",
    "Czy trudność w szukaniu błędów jest jedynym powodem dla którego odradza się używania mechanizmu refleksji?"
   ]
  },
  {
   "cell_type": "markdown",
   "metadata": {
    "slideshow": {
     "slide_type": "slide"
    }
   },
   "source": [
    "<img src=\"img/master.jpg\" style=\"height: 800px\"/>"
   ]
  },
  {
   "cell_type": "markdown",
   "metadata": {
    "slideshow": {
     "slide_type": "subslide"
    }
   },
   "source": [
    "# Typ ogólny (generyczny, parametryzowany)"
   ]
  },
  {
   "cell_type": "code",
   "execution_count": 1,
   "metadata": {
    "slideshow": {
     "slide_type": "-"
    }
   },
   "outputs": [],
   "source": [
    "class SingletonContainer<E> {\n",
    "    private E element;\n",
    "    \n",
    "    public void put(E element){\n",
    "        this.element = element;\n",
    "    }\n",
    "    \n",
    "    public E get(){\n",
    "        return element;\n",
    "    }\n",
    "}"
   ]
  },
  {
   "cell_type": "code",
   "execution_count": 2,
   "metadata": {
    "slideshow": {
     "slide_type": "fragment"
    }
   },
   "outputs": [
    {
     "name": "stdout",
     "output_type": "stream",
     "text": [
      "Ala\n"
     ]
    }
   ],
   "source": [
    "SingletonContainer<String> container = new SingletonContainer<>();\n",
    "container.put(\"Ala\");\n",
    "String string = container.get();\n",
    "System.out.println(string);"
   ]
  },
  {
   "cell_type": "code",
   "execution_count": 3,
   "metadata": {
    "slideshow": {
     "slide_type": "fragment"
    }
   },
   "outputs": [
    {
     "name": "stdout",
     "output_type": "stream",
     "text": [
      "1\n"
     ]
    }
   ],
   "source": [
    "SingletonContainer<Integer> container = new SingletonContainer<>();\n",
    "container.put(1);\n",
    "Integer integer = container.get();\n",
    "System.out.println(integer);"
   ]
  },
  {
   "cell_type": "markdown",
   "metadata": {
    "slideshow": {
     "slide_type": "slide"
    }
   },
   "source": [
    "<img src=\"img/farmvill.jpg\" />"
   ]
  },
  {
   "cell_type": "markdown",
   "metadata": {
    "slideshow": {
     "slide_type": "subslide"
    }
   },
   "source": [
    "# Kowariancja tablic"
   ]
  },
  {
   "cell_type": "code",
   "execution_count": 4,
   "metadata": {
    "slideshow": {
     "slide_type": "-"
    }
   },
   "outputs": [],
   "source": [
    "class ArrayRuntimeError {\n",
    "  public static void main(String[] args){\n",
    "    String words[] = {\"Ala\", \"ma\", \"kota\"};\n",
    "    Object[] objects = words;\n",
    "    objects[0] = new Integer(1);\n",
    "  }\n",
    "}"
   ]
  },
  {
   "cell_type": "code",
   "execution_count": 5,
   "metadata": {
    "slideshow": {
     "slide_type": "fragment"
    }
   },
   "outputs": [
    {
     "ename": "EvalException",
     "evalue": "java.lang.Integer",
     "output_type": "error",
     "traceback": [
      "\u001b[1m\u001b[31m---------------------------------------------------------------------------\u001b[0m",
      "\u001b[1m\u001b[31mjava.lang.ArrayStoreException: java.lang.Integer\u001b[0m",
      "\u001b[1m\u001b[31m\tat ArrayRuntimeError.main(#24:5)\u001b[0m",
      "\u001b[1m\u001b[31m\tat .(#26:1)\u001b[0m"
     ]
    }
   ],
   "source": [
    "String[] args = {};\n",
    "ArrayRuntimeError.main(args);"
   ]
  },
  {
   "cell_type": "markdown",
   "metadata": {
    "slideshow": {
     "slide_type": "subslide"
    }
   },
   "source": [
    "# Kowariancja list"
   ]
  },
  {
   "cell_type": "code",
   "execution_count": 6,
   "metadata": {
    "slideshow": {
     "slide_type": "-"
    }
   },
   "outputs": [
    {
     "ename": "CompilationException",
     "evalue": "",
     "output_type": "error",
     "traceback": [
      "\u001b[1m\u001b[30m|   \u001b[1m\u001b[30m    List<Object> objects = \u001b[0m\u001b[1m\u001b[30m\u001b[41mwords\u001b[0m\u001b[1m\u001b[30m;\u001b[0m",
      "\u001b[1m\u001b[31mincompatible types: java.util.List<java.lang.String> cannot be converted to java.util.List<java.lang.Object>\u001b[0m",
      ""
     ]
    }
   ],
   "source": [
    "import java.util.*;\n",
    "\n",
    "class ListCompilationError {\n",
    "  public static void main(String[] args){\n",
    "    List<String> words = Arrays.asList(\"Ala\", \"ma\", \"kota\");\n",
    "    List<Object> objects = words;\n",
    "\n",
    "    objects.add(0,new Integer(1));\n",
    "  }\n",
    "}"
   ]
  },
  {
   "cell_type": "code",
   "execution_count": 10,
   "metadata": {
    "slideshow": {
     "slide_type": "subslide"
    }
   },
   "outputs": [
    {
     "ename": "CompilationException",
     "evalue": "",
     "output_type": "error",
     "traceback": [
      "\u001b[1m\u001b[30m|   \u001b[1m\u001b[30m    String string = \u001b[0m\u001b[1m\u001b[30m\u001b[41mobjects.get(0)\u001b[0m\u001b[1m\u001b[30m;\u001b[0m",
      "\u001b[1m\u001b[31mincompatible types: capture#4 of ? cannot be converted to java.lang.String\u001b[0m",
      "",
      "\u001b[1m\u001b[30m|   \u001b[1m\u001b[30m    objects.add(0,\u001b[0m\u001b[1m\u001b[30m\u001b[41m\"Jola\"\u001b[0m\u001b[1m\u001b[30m);\u001b[0m",
      "\u001b[1m\u001b[31mincompatible types: java.lang.String cannot be converted to capture#5 of ?\u001b[0m",
      ""
     ]
    }
   ],
   "source": [
    "class ListGenericError {\n",
    "  public static void main(String[] args){\n",
    "    List<String> words = Arrays.asList(\"Ala\", \"ma\", \"kota\");\n",
    "    List<?> objects = words;\n",
    "\n",
    "    String string = objects.get(0);\n",
    "    objects.add(0,\"Jola\");\n",
    "  }\n",
    "}"
   ]
  },
  {
   "cell_type": "code",
   "execution_count": 13,
   "metadata": {
    "slideshow": {
     "slide_type": "subslide"
    }
   },
   "outputs": [
    {
     "ename": "CompilationException",
     "evalue": "",
     "output_type": "error",
     "traceback": [
      "\u001b[1m\u001b[30m|   \u001b[1m\u001b[30m    objects.add(0,\u001b[0m\u001b[1m\u001b[30m\u001b[41m\"Jola\"\u001b[0m\u001b[1m\u001b[30m);\u001b[0m",
      "\u001b[1m\u001b[31mincompatible types: java.lang.String cannot be converted to capture#6 of ? extends java.lang.String\u001b[0m",
      ""
     ]
    }
   ],
   "source": [
    "import java.util.*;\n",
    "\n",
    "class ListGenerics {\n",
    "  public static void main(String[] args){\n",
    "    List<String> words = Arrays.asList(\"Ala\", \"ma\", \"kota\");\n",
    "    List<? extends String> objects = words;\n",
    "\n",
    "    String string = objects.get(0);\n",
    "    objects.add(0,\"Jola\");\n",
    "  }\n",
    "}\n",
    "\n",
    "//String[] args = {};\n",
    "//ListGenerics.main(args);"
   ]
  },
  {
   "cell_type": "markdown",
   "metadata": {
    "slideshow": {
     "slide_type": "slide"
    }
   },
   "source": [
    "# `? extends` vs `? super`"
   ]
  },
  {
   "cell_type": "code",
   "execution_count": null,
   "metadata": {
    "slideshow": {
     "slide_type": "-"
    }
   },
   "outputs": [],
   "source": [
    "List<? extends Object> objects;\n",
    "\n",
    "List<? super String> strings;"
   ]
  },
  {
   "cell_type": "markdown",
   "metadata": {
    "slideshow": {
     "slide_type": "fragment"
    }
   },
   "source": [
    "<img src=\"img/generics.png\"/>"
   ]
  },
  {
   "cell_type": "markdown",
   "metadata": {
    "slideshow": {
     "slide_type": "fragment"
    }
   },
   "source": [
    "* `? extends y` => (czytaj) `? extends y`\n",
    "* `? super y` => (czytaj) `? isSuperOf y`"
   ]
  },
  {
   "cell_type": "markdown",
   "metadata": {
    "slideshow": {
     "slide_type": "subslide"
    }
   },
   "source": [
    "<img src=\"img/why.jpg\" />"
   ]
  },
  {
   "cell_type": "markdown",
   "metadata": {
    "slideshow": {
     "slide_type": "slide"
    }
   },
   "source": [
    "<img src=\"img/consumer.jpg\"/>"
   ]
  },
  {
   "cell_type": "markdown",
   "metadata": {
    "slideshow": {
     "slide_type": "subslide"
    }
   },
   "source": [
    "# Interfejs `java.util.function.Consumer<T>`\n",
    "\n",
    "* `void accept(T t)`\n",
    "* `default Consumer<T> andThen(Consumer<? super T> after)`"
   ]
  },
  {
   "cell_type": "code",
   "execution_count": 20,
   "metadata": {
    "slideshow": {
     "slide_type": "fragment"
    }
   },
   "outputs": [],
   "source": [
    "import java.util.function.Consumer;\n",
    "\n",
    "Consumer<Integer> integerConsumer;\n",
    "Consumer<Number> numberConsumer;\n",
    "Consumer<Object> objectConsumer;"
   ]
  },
  {
   "cell_type": "code",
   "execution_count": 22,
   "metadata": {
    "slideshow": {
     "slide_type": "fragment"
    }
   },
   "outputs": [],
   "source": [
    "class Example {\n",
    "    public static void exampleMethod() {\n",
    "        numberConsumer.andThen(numberConsumer);\n",
    "    }\n",
    "}"
   ]
  },
  {
   "cell_type": "code",
   "execution_count": 23,
   "metadata": {
    "slideshow": {
     "slide_type": "fragment"
    }
   },
   "outputs": [],
   "source": [
    "class Example {\n",
    "    public static void exampleMethod() {\n",
    "        integerConsumer.andThen(numberConsumer);\n",
    "    }\n",
    "}"
   ]
  },
  {
   "cell_type": "code",
   "execution_count": 24,
   "metadata": {
    "slideshow": {
     "slide_type": "subslide"
    }
   },
   "outputs": [
    {
     "ename": "CompilationException",
     "evalue": "",
     "output_type": "error",
     "traceback": [
      "\u001b[1m\u001b[30m|   \u001b[1m\u001b[30m        numberConsumer.andThen(\u001b[0m\u001b[1m\u001b[30m\u001b[41mintegerConsumer\u001b[0m\u001b[1m\u001b[30m);\u001b[0m",
      "\u001b[1m\u001b[31mincompatible types: java.util.function.Consumer<java.lang.Integer> cannot be converted to java.util.function.Consumer<? super java.lang.Number>\u001b[0m",
      ""
     ]
    }
   ],
   "source": [
    "class Example {\n",
    "    public static void exampleMethod() {\n",
    "        numberConsumer.andThen(integerConsumer);\n",
    "    }\n",
    "}"
   ]
  },
  {
   "cell_type": "code",
   "execution_count": 19,
   "metadata": {
    "slideshow": {
     "slide_type": "fragment"
    }
   },
   "outputs": [],
   "source": [
    "class Example {\n",
    "    public static void exampleMethod() {\n",
    "        numberConsumer.andThen(objectConsumer);\n",
    "    }\n",
    "}"
   ]
  },
  {
   "cell_type": "code",
   "execution_count": null,
   "metadata": {
    "slideshow": {
     "slide_type": "fragment"
    }
   },
   "outputs": [],
   "source": [
    "class Example {\n",
    "    public static void exampleMethod() {\n",
    "        integerConsumer.andThen(objectConsumer);\n",
    "    }\n",
    "}"
   ]
  },
  {
   "cell_type": "code",
   "execution_count": 27,
   "metadata": {
    "slideshow": {
     "slide_type": "subslide"
    }
   },
   "outputs": [
    {
     "ename": "CompilationException",
     "evalue": "",
     "output_type": "error",
     "traceback": [
      "\u001b[1m\u001b[30m|   \u001b[1m\u001b[30mConsumer<Object> combined = printTwice.andThen(\u001b[0m\u001b[1m\u001b[30m\u001b[41maddOne\u001b[0m\u001b[1m\u001b[30m);\u001b[0m",
      "\u001b[1m\u001b[31mincompatible types: java.util.function.Consumer<java.lang.Integer> cannot be converted to java.util.function.Consumer<? super java.lang.Object>\u001b[0m",
      ""
     ]
    }
   ],
   "source": [
    "import java.util.stream.*;\n",
    "import java.util.function.*;\n",
    "\n",
    "//       vvvvvvv\n",
    "Consumer<Integer> addOne = x -> {      \n",
    "    System.out.print(\"Dodaj jeden: \"); \n",
    "    System.out.println(1 + x); \n",
    "};\n",
    "\n",
    "//       vvvvvv\n",
    "Consumer<Object> printTwice = x -> {\n",
    "    System.out.print(\"Wypisz dwa razy: \"); \n",
    "    System.out.print(x + \" \"); \n",
    "    System.out.println(x);\n",
    "};\n",
    "\n",
    "Consumer<Object> combined = printTwice.andThen(addOne);\n",
    "\n",
    "Arrays.asList(1,2,3,4,5,6,7,8,9,10).stream().forEach(combined);"
   ]
  },
  {
   "cell_type": "markdown",
   "metadata": {
    "slideshow": {
     "slide_type": "slide"
    }
   },
   "source": [
    "<img src=\"img/snake.jpg\"/>"
   ]
  },
  {
   "cell_type": "markdown",
   "metadata": {
    "slideshow": {
     "slide_type": "subslide"
    }
   },
   "source": [
    "# Interfejs `java.util.function.Function<T,R>`"
   ]
  },
  {
   "cell_type": "code",
   "execution_count": null,
   "metadata": {
    "slideshow": {
     "slide_type": "-"
    }
   },
   "outputs": [],
   "source": [
    "R apply(T t)\n",
    "default <V> Function<T,V> andThen(Function<? super R,? extends V> after)\n",
    "default <V> Function<V,R> compose(Function<? super V,? extends T> before)\n",
    "static <T> Function<T,T> identity()"
   ]
  },
  {
   "cell_type": "code",
   "execution_count": 28,
   "metadata": {
    "slideshow": {
     "slide_type": "fragment"
    }
   },
   "outputs": [],
   "source": [
    "import java.util.function.Function;\n",
    "\n",
    "Function<Integer,Integer> intIntFunction = (x) -> x * 2;\n",
    "Function<Number,String> numStrFunction = (x) -> x.toString();\n",
    "Function<Object,Integer> objIntFunction = (x) -> x.toString().length();"
   ]
  },
  {
   "cell_type": "code",
   "execution_count": 29,
   "metadata": {
    "slideshow": {
     "slide_type": "fragment"
    }
   },
   "outputs": [],
   "source": [
    "Function<Integer, Object> combined = intIntFunction.andThen(numStrFunction);"
   ]
  },
  {
   "cell_type": "code",
   "execution_count": null,
   "metadata": {
    "slideshow": {
     "slide_type": "fragment"
    }
   },
   "outputs": [],
   "source": [
    "T = Integer\n",
    "R = Integer     // -> ?=Number isSuperOf R=Integer \n",
    "V = Object      // -> ?=String extends V=Object"
   ]
  },
  {
   "cell_type": "code",
   "execution_count": 30,
   "metadata": {
    "slideshow": {
     "slide_type": "subslide"
    }
   },
   "outputs": [
    {
     "data": {
      "text/plain": [
       "[1, 1, 1, 1, 2, 2, 2, 2, 2, 2]"
      ]
     },
     "execution_count": 30,
     "metadata": {},
     "output_type": "execute_result"
    }
   ],
   "source": [
    "import java.util.stream.*;\n",
    "import java.util.function.*;\n",
    "\n",
    "Function<Integer,Integer> intIntFunction = (x) -> x * 2;\n",
    "Function<Number,String> numStrFunction = (x) -> \"\" + x.toString().length();\n",
    "\n",
    "Function<Integer, Object> combined = intIntFunction.andThen(numStrFunction);\n",
    "\n",
    "Arrays.asList(1,2,3,4,5,6,7,8,9,10).stream().map(combined).\n",
    "    collect(Collectors.toList());"
   ]
  },
  {
   "cell_type": "markdown",
   "metadata": {
    "slideshow": {
     "slide_type": "slide"
    }
   },
   "source": [
    "<img src=\"img/eraser.jpg\" />"
   ]
  },
  {
   "cell_type": "markdown",
   "metadata": {
    "slideshow": {
     "slide_type": "subslide"
    }
   },
   "source": [
    "# Wymazywanie typu"
   ]
  },
  {
   "cell_type": "code",
   "execution_count": 32,
   "metadata": {
    "slideshow": {
     "slide_type": "-"
    }
   },
   "outputs": [
    {
     "ename": "CompilationException",
     "evalue": "",
     "output_type": "error",
     "traceback": [
      "\u001b[1m\u001b[30m|   \u001b[1m\u001b[30m    \u001b[0m\u001b[1m\u001b[30m\u001b[41mpublic void consume(List<String> strings){\u001b[0m",
      "\u001b[1m\u001b[30m|   \u001b[1m\u001b[30m\u001b[41m    }\u001b[0m",
      "\u001b[1m\u001b[31mname clash: consume(java.util.List<java.lang.String>) and consume(java.util.List<java.lang.Integer>) have the same erasure\u001b[0m",
      ""
     ]
    }
   ],
   "source": [
    "class TypeErasure {\n",
    "    public void consume(List<Integer> integers){\n",
    "    }\n",
    "    \n",
    "    public void consume(List<String> strings){\n",
    "    }\n",
    "}"
   ]
  },
  {
   "cell_type": "markdown",
   "metadata": {
    "slideshow": {
     "slide_type": "slide"
    }
   },
   "source": [
    "![Pytania? ](http://cliparts.co/cliparts/qcB/jqg/qcBjqgxc5.jpg)"
   ]
  }
 ],
 "metadata": {
  "celltoolbar": "Slideshow",
  "kernelspec": {
   "display_name": "Java",
   "language": "java",
   "name": "java"
  },
  "language_info": {
   "codemirror_mode": "java",
   "file_extension": ".java",
   "mimetype": "text/x-java-source",
   "name": "Java",
   "pygments_lexer": "java",
   "version": "10.0.2+13-Ubuntu-1ubuntu0.18.04.4"
  },
  "toc": {
   "base_numbering": 1,
   "nav_menu": {},
   "number_sections": false,
   "sideBar": true,
   "skip_h1_title": false,
   "title_cell": "Table of Contents",
   "title_sidebar": "Contents",
   "toc_cell": false,
   "toc_position": {},
   "toc_section_display": true,
   "toc_window_display": false
  }
 },
 "nbformat": 4,
 "nbformat_minor": 1
}
