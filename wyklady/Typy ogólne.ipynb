{
 "cells": [
  {
   "cell_type": "markdown",
   "metadata": {
    "slideshow": {
     "slide_type": "slide"
    }
   },
   "source": [
    "# Typy ogólne\n",
    "\n",
    "## kowariancja tablic, typy ogólne, funkcje, konsumenci, itp.\n",
    "\n",
    "<br/>\n",
    "\n",
    "## dr inż. Aleksander Smywiński-Pohl\n",
    "\n",
    "## apohllo@agh.edu.pl\n",
    "\n",
    "## http://apohllo.pl/dydaktyka/programowanie-obiektowe\n",
    "\n",
    "## konsultacje: czwartek 14:45 - 15:45, pokój 4.61"
   ]
  },
  {
   "cell_type": "markdown",
   "metadata": {
    "slideshow": {
     "slide_type": "slide"
    }
   },
   "source": [
    "<center>\n",
    "<img src=\"img/master.jpg\" style=\"height: 400px\"/>\n",
    "</center>"
   ]
  },
  {
   "cell_type": "markdown",
   "metadata": {
    "slideshow": {
     "slide_type": "subslide"
    }
   },
   "source": [
    "# Typ ogólny (generyczny, parametryzowany)"
   ]
  },
  {
   "cell_type": "code",
   "execution_count": null,
   "metadata": {
    "ExecuteTime": {
     "end_time": "2022-01-12T07:41+0000",
     "start_time": "2022-01-12T07:41:42.103Z"
    },
    "slideshow": {
     "slide_type": "-"
    }
   },
   "outputs": [],
   "source": [
    "class SingletonContainer<E> {\n",
    "    private E element;\n",
    "    \n",
    "    public void put(E element){\n",
    "        this.element = element;\n",
    "    }\n",
    "    \n",
    "    public E get(){\n",
    "        return element;\n",
    "    }\n",
    "}"
   ]
  },
  {
   "cell_type": "code",
   "execution_count": null,
   "metadata": {
    "ExecuteTime": {
     "end_time": "2022-01-12T07:42+0000",
     "start_time": "2022-01-12T07:42:15.864Z"
    },
    "slideshow": {
     "slide_type": "fragment"
    }
   },
   "outputs": [],
   "source": [
    "SingletonContainer<String> container = new SingletonContainer<>();\n",
    "container.put(\"Ala\");\n",
    "String string = container.get();\n",
    "System.out.println(string);"
   ]
  },
  {
   "cell_type": "code",
   "execution_count": null,
   "metadata": {
    "ExecuteTime": {
     "end_time": "2022-01-12T07:43+0000",
     "start_time": "2022-01-12T07:43:43.871Z"
    },
    "slideshow": {
     "slide_type": "fragment"
    }
   },
   "outputs": [],
   "source": [
    "SingletonContainer<Integer> container = new SingletonContainer<>();\n",
    "container.put(1);\n",
    "int integer = container.get();\n",
    "System.out.println(integer);"
   ]
  },
  {
   "cell_type": "markdown",
   "metadata": {
    "slideshow": {
     "slide_type": "slide"
    }
   },
   "source": [
    "<center>\n",
    "<img src=\"img/farmvill.jpg\" />\n",
    "    </center>"
   ]
  },
  {
   "cell_type": "markdown",
   "metadata": {
    "slideshow": {
     "slide_type": "subslide"
    }
   },
   "source": [
    "# Kowariancja tablic"
   ]
  },
  {
   "cell_type": "code",
   "execution_count": null,
   "metadata": {
    "ExecuteTime": {
     "end_time": "2022-01-12T07:45+0000",
     "start_time": "2022-01-12T07:45:09.814Z"
    },
    "slideshow": {
     "slide_type": "-"
    }
   },
   "outputs": [],
   "source": [
    "class ArrayRuntimeError {\n",
    "  public static void main(String[] args){\n",
    "    String words[] = {\"Ala\", \"ma\", \"kota\"};\n",
    "    Object[] objects = words;\n",
    "    objects[0] = new Integer(1);\n",
    "  }\n",
    "}"
   ]
  },
  {
   "cell_type": "code",
   "execution_count": null,
   "metadata": {
    "ExecuteTime": {
     "end_time": "2022-01-12T07:45+0000",
     "start_time": "2022-01-12T07:45:46.581Z"
    },
    "scrolled": true,
    "slideshow": {
     "slide_type": "fragment"
    }
   },
   "outputs": [],
   "source": [
    "String[] args = {};\n",
    "ArrayRuntimeError.main(args);"
   ]
  },
  {
   "cell_type": "markdown",
   "metadata": {
    "slideshow": {
     "slide_type": "subslide"
    }
   },
   "source": [
    "# Kowariancja list"
   ]
  },
  {
   "cell_type": "code",
   "execution_count": null,
   "metadata": {
    "ExecuteTime": {
     "end_time": "2022-01-12T07:47+0000",
     "start_time": "2022-01-12T07:47:44.503Z"
    },
    "slideshow": {
     "slide_type": "-"
    }
   },
   "outputs": [],
   "source": [
    "import java.util.*;\n",
    "\n",
    "class ListCompilationError {\n",
    "  public static void main(String[] args){\n",
    "    List<String> words = Arrays.asList(\"Ala\", \"ma\", \"kota\");\n",
    "    List<Object> objects = words;\n",
    "\n",
    "    objects.add(0,1);\n",
    "  }\n",
    "}"
   ]
  },
  {
   "cell_type": "code",
   "execution_count": null,
   "metadata": {
    "ExecuteTime": {
     "end_time": "2022-01-12T07:51+0000",
     "start_time": "2022-01-12T07:51:05.192Z"
    },
    "slideshow": {
     "slide_type": "subslide"
    }
   },
   "outputs": [],
   "source": [
    "class ListGenericError {\n",
    "  public static void main(String[] args){\n",
    "    List<String> words = Arrays.asList(\"Ala\", \"ma\", \"kota\");\n",
    "    List<?> objects = words;\n",
    "\n",
    "    String string = (String)objects.get(0);\n",
    "    System.out.println(string);\n",
    "    objects.add(0,\"Jola\");\n",
    "  }\n",
    "}\n",
    "String[] args = {};\n",
    "ListGenericError.main(args);"
   ]
  },
  {
   "cell_type": "code",
   "execution_count": null,
   "metadata": {
    "ExecuteTime": {
     "end_time": "2022-01-12T07:55+0000",
     "start_time": "2022-01-12T07:55:39.035Z"
    },
    "slideshow": {
     "slide_type": "subslide"
    }
   },
   "outputs": [],
   "source": [
    "import java.util.*;\n",
    "\n",
    "class ListGenerics {\n",
    "  public static void main(String[] args){\n",
    "    List<String> words = Arrays.asList(\"Ala\", \"ma\", \"kota\");\n",
    "    List<? extends String> objects = words;\n",
    "\n",
    "    String string = objects.get(0);\n",
    "    System.out.println(string);\n",
    "    //objects.add(0,\"Jola\");\n",
    "  }\n",
    "}\n",
    "\n",
    "String[] args = {};\n",
    "ListGenerics.main(args);"
   ]
  },
  {
   "cell_type": "markdown",
   "metadata": {
    "slideshow": {
     "slide_type": "slide"
    }
   },
   "source": [
    "# `? extends` vs `? super`"
   ]
  },
  {
   "cell_type": "code",
   "execution_count": null,
   "metadata": {
    "slideshow": {
     "slide_type": "-"
    }
   },
   "outputs": [],
   "source": [
    "List<? extends Object> objects;\n",
    "\n",
    "List<? super String> strings;"
   ]
  },
  {
   "cell_type": "markdown",
   "metadata": {
    "slideshow": {
     "slide_type": "fragment"
    }
   },
   "source": [
    "<img src=\"img/generics.png\"/>"
   ]
  },
  {
   "cell_type": "markdown",
   "metadata": {
    "slideshow": {
     "slide_type": "fragment"
    }
   },
   "source": [
    "* `? extends y` => (czytaj) `? extends y`\n",
    "* `? super y` => (czytaj) `? isSuperOf y`"
   ]
  },
  {
   "cell_type": "markdown",
   "metadata": {
    "slideshow": {
     "slide_type": "subslide"
    }
   },
   "source": [
    "<img src=\"img/why.jpg\" />"
   ]
  },
  {
   "cell_type": "markdown",
   "metadata": {
    "slideshow": {
     "slide_type": "slide"
    }
   },
   "source": [
    "<img src=\"img/consumer.jpg\"/>"
   ]
  },
  {
   "cell_type": "markdown",
   "metadata": {
    "slideshow": {
     "slide_type": "subslide"
    }
   },
   "source": [
    "# Interfejs `java.util.function.Consumer<T>`\n",
    "\n",
    "* `void accept(T t)`\n",
    "* `default Consumer<T> andThen(Consumer<? super T> after)`"
   ]
  },
  {
   "cell_type": "code",
   "execution_count": 1,
   "metadata": {
    "ExecuteTime": {
     "end_time": "2022-01-19T07:09+0000",
     "start_time": "2022-01-19T07:09:39.646Z"
    },
    "slideshow": {
     "slide_type": "fragment"
    }
   },
   "outputs": [],
   "source": [
    "import java.util.function.Consumer;\n",
    "\n",
    "Consumer<Integer> integerConsumer;\n",
    "Consumer<Number> numberConsumer;\n",
    "Consumer<Object> objectConsumer;\n",
    "\n",
    "//objectConsumer.andThen(integerConsumer);"
   ]
  },
  {
   "cell_type": "code",
   "execution_count": 4,
   "metadata": {
    "ExecuteTime": {
     "end_time": "2022-01-19T07:12+0000",
     "start_time": "2022-01-19T07:12:06.553Z"
    },
    "slideshow": {
     "slide_type": "fragment"
    }
   },
   "outputs": [],
   "source": [
    "class Example {\n",
    "    public static void exampleMethod() {\n",
    "        numberConsumer.andThen(numberConsumer);\n",
    "    }\n",
    "}"
   ]
  },
  {
   "cell_type": "code",
   "execution_count": 5,
   "metadata": {
    "ExecuteTime": {
     "end_time": "2022-01-19T07:12+0000",
     "start_time": "2022-01-19T07:12:11.598Z"
    },
    "slideshow": {
     "slide_type": "fragment"
    }
   },
   "outputs": [],
   "source": [
    "class Example {\n",
    "    public static void exampleMethod() {\n",
    "        integerConsumer.andThen(numberConsumer);\n",
    "    }\n",
    "}"
   ]
  },
  {
   "cell_type": "code",
   "execution_count": 6,
   "metadata": {
    "ExecuteTime": {
     "end_time": "2022-01-19T07:12+0000",
     "start_time": "2022-01-19T07:12:32.347Z"
    },
    "slideshow": {
     "slide_type": "subslide"
    }
   },
   "outputs": [
    {
     "ename": "CompilationException",
     "evalue": "",
     "output_type": "error",
     "traceback": [
      "\u001b[1m\u001b[30m|   \u001b[1m\u001b[30m        numberConsumer.andThen(\u001b[0m\u001b[1m\u001b[30m\u001b[41mintegerConsumer\u001b[0m\u001b[1m\u001b[30m);\u001b[0m",
      "\u001b[1m\u001b[31mincompatible types: java.util.function.Consumer<java.lang.Integer> cannot be converted to java.util.function.Consumer<? super java.lang.Number>\u001b[0m",
      ""
     ]
    }
   ],
   "source": [
    "class Example {\n",
    "    public static void exampleMethod() {\n",
    "        numberConsumer.andThen(integerConsumer);\n",
    "    }\n",
    "}"
   ]
  },
  {
   "cell_type": "code",
   "execution_count": 7,
   "metadata": {
    "ExecuteTime": {
     "end_time": "2022-01-19T07:13+0000",
     "start_time": "2022-01-19T07:13:06.651Z"
    },
    "slideshow": {
     "slide_type": "fragment"
    }
   },
   "outputs": [
    {
     "ename": "CompilationException",
     "evalue": "",
     "output_type": "error",
     "traceback": [
      "\u001b[1m\u001b[30m|   \u001b[1m\u001b[30m        objectConsumer.andThen(\u001b[0m\u001b[1m\u001b[30m\u001b[41mintegerConsumer\u001b[0m\u001b[1m\u001b[30m);\u001b[0m",
      "\u001b[1m\u001b[31mincompatible types: java.util.function.Consumer<java.lang.Integer> cannot be converted to java.util.function.Consumer<? super java.lang.Object>\u001b[0m",
      ""
     ]
    }
   ],
   "source": [
    "class Example {\n",
    "    public static void exampleMethod() {\n",
    "        objectConsumer.andThen(integerConsumer);\n",
    "    }\n",
    "}"
   ]
  },
  {
   "cell_type": "markdown",
   "metadata": {
    "ExecuteTime": {
     "end_time": "2022-01-12T08:34+0000",
     "start_time": "2022-01-12T08:34:07.411Z"
    },
    "slideshow": {
     "slide_type": "notes"
    }
   },
   "source": [
    "Jeśli nie ma błędu kompliacji, to znaczy, że komórka z definicjami typów nie została zewaluowana."
   ]
  },
  {
   "cell_type": "code",
   "execution_count": 8,
   "metadata": {
    "ExecuteTime": {
     "end_time": "2022-01-19T07:14+0000",
     "start_time": "2022-01-19T07:14:29.835Z"
    },
    "slideshow": {
     "slide_type": "subslide"
    }
   },
   "outputs": [
    {
     "name": "stdout",
     "output_type": "stream",
     "text": [
      "Dodaj jeden i wypisz: 2\n",
      "Wypisz dwa razy: 1 1\n",
      "Dodaj jeden i wypisz: 3\n",
      "Wypisz dwa razy: 2 2\n",
      "Dodaj jeden i wypisz: 4\n",
      "Wypisz dwa razy: 3 3\n",
      "Dodaj jeden i wypisz: 5\n",
      "Wypisz dwa razy: 4 4\n",
      "Dodaj jeden i wypisz: 6\n",
      "Wypisz dwa razy: 5 5\n",
      "Dodaj jeden i wypisz: 7\n",
      "Wypisz dwa razy: 6 6\n",
      "Dodaj jeden i wypisz: 8\n",
      "Wypisz dwa razy: 7 7\n",
      "Dodaj jeden i wypisz: 9\n",
      "Wypisz dwa razy: 8 8\n",
      "Dodaj jeden i wypisz: 10\n",
      "Wypisz dwa razy: 9 9\n",
      "Dodaj jeden i wypisz: 11\n",
      "Wypisz dwa razy: 10 10\n"
     ]
    }
   ],
   "source": [
    "import java.util.stream.*;\n",
    "import java.util.function.*;\n",
    "\n",
    "//       vvvvvvv\n",
    "Consumer<Integer> addOneAndPrint = x -> {      \n",
    "    System.out.print(\"Dodaj jeden i wypisz: \"); \n",
    "    System.out.println(1 + x); \n",
    "};\n",
    "\n",
    "//       vvvvvv\n",
    "Consumer<Object> printTwice = x -> {\n",
    "    System.out.print(\"Wypisz dwa razy: \"); \n",
    "    System.out.print(x + \" \"); \n",
    "    System.out.println(x);\n",
    "};\n",
    "\n",
    "Consumer<Integer> combined = addOneAndPrint.andThen(printTwice);\n",
    "\n",
    "Arrays.asList(1,2,3,4,5,6,7,8,9,10).stream().forEach(combined);"
   ]
  },
  {
   "cell_type": "markdown",
   "metadata": {
    "slideshow": {
     "slide_type": "slide"
    }
   },
   "source": [
    "<img src=\"img/snake.jpg\"/>"
   ]
  },
  {
   "cell_type": "markdown",
   "metadata": {
    "slideshow": {
     "slide_type": "subslide"
    }
   },
   "source": [
    "# Interfejs `java.util.function.Function<T,R>`"
   ]
  },
  {
   "cell_type": "code",
   "execution_count": null,
   "metadata": {
    "ExecuteTime": {
     "end_time": "2021-01-25T17:28+0000",
     "start_time": "2021-01-25T17:28:22.345Z"
    },
    "slideshow": {
     "slide_type": "-"
    }
   },
   "outputs": [],
   "source": [
    "R apply(T t)\n",
    "default <V> Function<T,V> andThen(Function<? super R,? extends V> after)\n",
    "default <V> Function<V,R> compose(Function<? super V,? extends T> before)\n",
    "static <T> Function<T,T> identity()"
   ]
  },
  {
   "cell_type": "code",
   "execution_count": null,
   "metadata": {
    "ExecuteTime": {
     "end_time": "2022-01-12T08:15+0000",
     "start_time": "2022-01-12T08:15:59.104Z"
    },
    "slideshow": {
     "slide_type": "fragment"
    }
   },
   "outputs": [],
   "source": [
    "import java.util.function.Function;\n",
    "\n",
    "Function<Integer,Integer> intIntFunction = (x) -> x * 2;\n",
    "Function<Number,String> numStrFunction = (x) -> x.toString();\n",
    "Function<Object,Integer> objIntFunction = (x) -> x.toString().length();"
   ]
  },
  {
   "cell_type": "code",
   "execution_count": null,
   "metadata": {
    "ExecuteTime": {
     "end_time": "2022-01-12T08:16+0000",
     "start_time": "2022-01-12T08:16:25.531Z"
    },
    "slideshow": {
     "slide_type": "fragment"
    }
   },
   "outputs": [],
   "source": [
    "Function<Integer, Object> combined = intIntFunction.andThen(numStrFunction);"
   ]
  },
  {
   "cell_type": "code",
   "execution_count": null,
   "metadata": {
    "slideshow": {
     "slide_type": "fragment"
    }
   },
   "outputs": [],
   "source": [
    "T = Integer\n",
    "R = Integer    // -> ?=Number isSuperOf R=Integer \n",
    "V = Object     // -> ?=String extends V=Object"
   ]
  },
  {
   "cell_type": "code",
   "execution_count": null,
   "metadata": {
    "ExecuteTime": {
     "end_time": "2022-01-12T08:18+0000",
     "start_time": "2022-01-12T08:18:15.525Z"
    },
    "slideshow": {
     "slide_type": "subslide"
    }
   },
   "outputs": [],
   "source": [
    "import java.util.stream.*;\n",
    "import java.util.function.*;\n",
    "\n",
    "Function<Integer,Integer> intIntFunction = (x) -> x * 2;\n",
    "Function<Number,String> numStrFunction = (x) -> \"\" + x.toString().length();\n",
    "\n",
    "Function<Integer, Object> combined = intIntFunction.andThen(numStrFunction);\n",
    "\n",
    "Arrays.asList(1,2,3,4,5,6,7,8,9,10).stream().map(combined).\n",
    "    collect(Collectors.toList());"
   ]
  },
  {
   "cell_type": "markdown",
   "metadata": {
    "slideshow": {
     "slide_type": "slide"
    }
   },
   "source": [
    "<center>\n",
    "<img src=\"img/eraser.jpg\" />\n",
    "</center>"
   ]
  },
  {
   "cell_type": "markdown",
   "metadata": {
    "slideshow": {
     "slide_type": "subslide"
    }
   },
   "source": [
    "# Wymazywanie typu"
   ]
  },
  {
   "cell_type": "code",
   "execution_count": null,
   "metadata": {
    "ExecuteTime": {
     "end_time": "2022-01-12T08:21+0000",
     "start_time": "2022-01-12T08:21:40.702Z"
    },
    "slideshow": {
     "slide_type": "-"
    }
   },
   "outputs": [],
   "source": [
    "class TypeErasure {\n",
    "    public void consume(List<Integer> integers){\n",
    "    }\n",
    "    \n",
    "    public void consume(List<String> strings){\n",
    "    }\n",
    "}"
   ]
  },
  {
   "cell_type": "markdown",
   "metadata": {
    "slideshow": {
     "slide_type": "slide"
    }
   },
   "source": [
    "![Pytania? ](img/question.jpg)"
   ]
  },
  {
   "cell_type": "code",
   "execution_count": null,
   "metadata": {},
   "outputs": [],
   "source": []
  }
 ],
 "metadata": {
  "celltoolbar": "Slideshow",
  "kernelspec": {
   "display_name": "Java",
   "language": "java",
   "name": "java"
  },
  "language_info": {
   "codemirror_mode": "java",
   "file_extension": ".jshell",
   "mimetype": "text/x-java-source",
   "name": "Java",
   "pygments_lexer": "java",
   "version": "17+35-2724"
  },
  "toc": {
   "base_numbering": 1,
   "nav_menu": {},
   "number_sections": false,
   "sideBar": true,
   "skip_h1_title": false,
   "title_cell": "Table of Contents",
   "title_sidebar": "Contents",
   "toc_cell": false,
   "toc_position": {},
   "toc_section_display": true,
   "toc_window_display": false
  }
 },
 "nbformat": 4,
 "nbformat_minor": 1
}
