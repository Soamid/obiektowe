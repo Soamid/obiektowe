{
 "cells": [
  {
   "cell_type": "markdown",
   "metadata": {
    "slideshow": {
     "slide_type": "slide"
    }
   },
   "source": [
    "# Wejście i wyjście\n",
    "\n",
    "## Obsługa operacji wejścia i wyjścia za pomocą API Stream oraz NIO\n",
    "\n",
    "<br/>\n",
    "\n",
    "## dr inż. Aleksander Smywiński-Pohl\n",
    "\n",
    "## apohllo@o2.pl\n",
    "\n",
    "## http://apohllo.pl/dydaktyka/programowanie-obiektowe"
   ]
  },
  {
   "cell_type": "markdown",
   "metadata": {
    "slideshow": {
     "slide_type": "subslide"
    }
   },
   "source": [
    "# Input - Output\n",
    "\n",
    "<img src=\"img/io.jpg\"/>"
   ]
  },
  {
   "cell_type": "markdown",
   "metadata": {
    "slideshow": {
     "slide_type": "slide"
    }
   },
   "source": [
    "# Klasa `File`\n",
    "\n",
    "<img src=\"img/delete.jpg\"/>"
   ]
  },
  {
   "cell_type": "code",
   "execution_count": 227,
   "metadata": {
    "slideshow": {
     "slide_type": "subslide"
    }
   },
   "outputs": [
    {
     "name": "stdout",
     "output_type": "stream",
     "text": [
      "Plik został zmieniony\n"
     ]
    },
    {
     "data": {
      "text/plain": [
       "null"
      ]
     },
     "execution_count": 227,
     "metadata": {},
     "output_type": "execute_result"
    }
   ],
   "source": [
    "import java.io.*;\n",
    "File homedir = new File(System.getProperty(\"user.home\"));\n",
    "\n",
    "File file = new File(homedir, \"plik.txt\");\n",
    "\n",
    "if(file.exists() && file.isFile() && file.canRead()){\n",
    "    File directory = new File(homedir, \"katalog\");\n",
    "    directory.mkdir();\n",
    "    file.renameTo(new File(directory, \"plik1.txt\"));\n",
    "    System.out.println(\"Plik został zmieniony\");\n",
    "} else {\n",
    "    System.out.println(\"Plik nie istnieje\");\n",
    "}"
   ]
  },
  {
   "cell_type": "markdown",
   "metadata": {
    "slideshow": {
     "slide_type": "subslide"
    }
   },
   "source": [
    "# Metody klasy `File`\n",
    "\n",
    "<img src=\"img/delete_file.jpg\"/>"
   ]
  },
  {
   "cell_type": "code",
   "execution_count": 228,
   "metadata": {
    "slideshow": {
     "slide_type": "subslide"
    }
   },
   "outputs": [
    {
     "name": "stdout",
     "output_type": "stream",
     "text": [
      "true\n",
      "true\n",
      "false\n"
     ]
    },
    {
     "data": {
      "text/plain": [
       "null"
      ]
     },
     "execution_count": 228,
     "metadata": {},
     "output_type": "execute_result"
    }
   ],
   "source": [
    "import java.io.*;\n",
    "File homedir = new File(System.getProperty(\"user.home\"), \"katalog\");\n",
    "\n",
    "System.out.println(homedir.canExecute());\n",
    "System.out.println(homedir.canRead());\n",
    "System.out.println(homedir.canWrite());"
   ]
  },
  {
   "cell_type": "code",
   "execution_count": 229,
   "metadata": {
    "slideshow": {
     "slide_type": "fragment"
    }
   },
   "outputs": [
    {
     "name": "stdout",
     "output_type": "stream",
     "text": [
      "true\n",
      "true\n",
      "true\n"
     ]
    },
    {
     "data": {
      "text/plain": [
       "null"
      ]
     },
     "execution_count": 229,
     "metadata": {},
     "output_type": "execute_result"
    }
   ],
   "source": [
    "import java.io.*;\n",
    "File homedir = new File(System.getProperty(\"user.home\"), \"katalog\");\n",
    "\n",
    "System.out.println(homedir.setReadOnly());\n",
    "System.out.println(homedir.setExecutable(true));\n",
    "System.out.println(homedir.setReadable(true));"
   ]
  },
  {
   "cell_type": "code",
   "execution_count": 230,
   "metadata": {
    "slideshow": {
     "slide_type": "subslide"
    }
   },
   "outputs": [
    {
     "name": "stdout",
     "output_type": "stream",
     "text": [
      "/home/apohllo/katalog\n",
      "/home/apohllo/katalog\n",
      "katalog\n",
      "/home/apohllo\n"
     ]
    },
    {
     "data": {
      "text/plain": [
       "null"
      ]
     },
     "execution_count": 230,
     "metadata": {},
     "output_type": "execute_result"
    }
   ],
   "source": [
    "import java.io.*;\n",
    "File homedir = new File(System.getProperty(\"user.home\"), \"katalog\");\n",
    "\n",
    "System.out.println(homedir.getAbsolutePath());\n",
    "System.out.println(homedir.getCanonicalPath());\n",
    "System.out.println(homedir.getName());\n",
    "System.out.println(homedir.getParent());"
   ]
  },
  {
   "cell_type": "code",
   "execution_count": 231,
   "metadata": {
    "slideshow": {
     "slide_type": "fragment"
    }
   },
   "outputs": [
    {
     "name": "stdout",
     "output_type": "stream",
     "text": [
      "true\n",
      "true\n",
      "true\n",
      "true\n",
      "false\n"
     ]
    },
    {
     "data": {
      "text/plain": [
       "null"
      ]
     },
     "execution_count": 231,
     "metadata": {},
     "output_type": "execute_result"
    }
   ],
   "source": [
    "import java.io.*;\n",
    "File homedir = new File(System.getProperty(\"user.home\"), \"katalog\");\n",
    "File file = new File(homedir, \"plik1.txt\");\n",
    "\n",
    "System.out.println(homedir.exists());\n",
    "System.out.println(file.exists());\n",
    "System.out.println(homedir.isAbsolute());\n",
    "System.out.println(homedir.isDirectory());\n",
    "System.out.println(homedir.isFile());"
   ]
  },
  {
   "cell_type": "code",
   "execution_count": 232,
   "metadata": {
    "slideshow": {
     "slide_type": "subslide"
    }
   },
   "outputs": [
    {
     "name": "stdout",
     "output_type": "stream",
     "text": [
      "false\n",
      "false\n"
     ]
    },
    {
     "data": {
      "text/plain": [
       "null"
      ]
     },
     "execution_count": 232,
     "metadata": {},
     "output_type": "execute_result"
    }
   ],
   "source": [
    "import java.io.*;\n",
    "File file = new File(System.getProperty(\"user.home\") + File.separator + \"katalog\", \"plik1.txt\");\n",
    "\n",
    "File destination = new File(System.getProperty(\"user.home\") + File.separator + \"katalog\", \"plik2.txt\");\n",
    "System.out.println(file.renameTo(destination));\n",
    "System.out.println(file.delete());"
   ]
  },
  {
   "cell_type": "code",
   "execution_count": 233,
   "metadata": {
    "slideshow": {
     "slide_type": "fragment"
    }
   },
   "outputs": [
    {
     "name": "stdout",
     "output_type": "stream",
     "text": [
      "80200617984\n",
      "179570700288\n",
      "71007543296\n"
     ]
    },
    {
     "data": {
      "text/plain": [
       "null"
      ]
     },
     "execution_count": 233,
     "metadata": {},
     "output_type": "execute_result"
    }
   ],
   "source": [
    "import java.io.*;\n",
    "File file = new File(System.getProperty(\"user.home\") + File.separator + \"katalog\", \"plik1.txt\");\n",
    "\n",
    "System.out.println(file.getFreeSpace());\n",
    "System.out.println(file.getTotalSpace());\n",
    "System.out.println(file.getUsableSpace());"
   ]
  },
  {
   "cell_type": "code",
   "execution_count": 234,
   "metadata": {
    "slideshow": {
     "slide_type": "subslide"
    }
   },
   "outputs": [
    {
     "name": "stdout",
     "output_type": "stream",
     "text": [
      "/\n"
     ]
    },
    {
     "data": {
      "text/plain": [
       "null"
      ]
     },
     "execution_count": 234,
     "metadata": {},
     "output_type": "execute_result"
    }
   ],
   "source": [
    "import java.io.*;\n",
    "import java.util.*;\n",
    "\n",
    "File[] roots = File.listRoots();\n",
    "Arrays.stream(roots).forEach(System.out::println);"
   ]
  },
  {
   "cell_type": "markdown",
   "metadata": {
    "slideshow": {
     "slide_type": "subslide"
    }
   },
   "source": [
    "# Plik tymczasowy"
   ]
  },
  {
   "cell_type": "code",
   "execution_count": null,
   "metadata": {
    "slideshow": {
     "slide_type": "-"
    }
   },
   "outputs": [],
   "source": [
    "import java.io.*;\n",
    "\n",
    "File temporary = File.createTempFile(\"prefix\", \".txt\");\n",
    "temporary.deleteOnExit();"
   ]
  },
  {
   "cell_type": "markdown",
   "metadata": {
    "slideshow": {
     "slide_type": "slide"
    }
   },
   "source": [
    "# Strumienie\n",
    "\n",
    "<img src=\"img/mincer.jpg\"/>"
   ]
  },
  {
   "cell_type": "code",
   "execution_count": 235,
   "metadata": {
    "slideshow": {
     "slide_type": "subslide"
    }
   },
   "outputs": [
    {
     "name": "stdout",
     "output_type": "stream",
     "text": [
      "Przykład strumienia I/O\n"
     ]
    },
    {
     "data": {
      "text/plain": [
       "null"
      ]
     },
     "execution_count": 235,
     "metadata": {},
     "output_type": "execute_result"
    }
   ],
   "source": [
    "System.out.println(\"Przykład strumienia I/O\");"
   ]
  },
  {
   "cell_type": "markdown",
   "metadata": {
    "slideshow": {
     "slide_type": "subslide"
    }
   },
   "source": [
    "# Dane binarne"
   ]
  },
  {
   "cell_type": "code",
   "execution_count": 236,
   "metadata": {
    "slideshow": {
     "slide_type": "-"
    }
   },
   "outputs": [
    {
     "name": "stdout",
     "output_type": "stream",
     "text": [
      "Liczba występień litery <a>: 420\n"
     ]
    },
    {
     "data": {
      "text/plain": [
       "null"
      ]
     },
     "execution_count": 236,
     "metadata": {},
     "output_type": "execute_result"
    }
   ],
   "source": [
    "import java.io.*;\n",
    "\n",
    "try(InputStream stream = new FileInputStream(\"/home/apohllo/Downloads/download.png\")) {\n",
    "    byte[] buffer = new byte[4096];\n",
    "    int length, count = 0;\n",
    "    while ((length = stream.read(buffer)) > 0) {\n",
    "        for(int i=0; i < length; i++) {\n",
    "            if (buffer[i] == 97) count++;\n",
    "        }\n",
    "    }\n",
    "    System.out.println(\"Liczba występień litery <a>: \" + count);\n",
    "} catch (IOException ex) {\n",
    "    System.out.println(\"Problem IO: \" + ex);\n",
    "}"
   ]
  },
  {
   "cell_type": "markdown",
   "metadata": {
    "slideshow": {
     "slide_type": "subslide"
    }
   },
   "source": [
    "# Dane tekstowe"
   ]
  },
  {
   "cell_type": "code",
   "execution_count": 237,
   "metadata": {
    "slideshow": {
     "slide_type": "-"
    }
   },
   "outputs": [
    {
     "name": "stdout",
     "output_type": "stream",
     "text": [
      "Smywiński-Pohl Aleksander  \n",
      "Wtorek 11:15\n",
      "\n",
      "1. Bernal Szymon\n",
      "2. Borkowski Szymon\n",
      "3. Czarny Szymon\n",
      "4. Geisler Wojciech\n",
      "5. Jopek Artur\n",
      "6. Kardaś Piotr\n",
      "7. Lewicki Wojciech\n",
      "8. Mandowski Miłosz\n",
      "9. Mazur Aleksandra\n",
      "10. Pęczek Paweł\n",
      "11. Reczek Wiktor\n",
      "12. Rejowski Tomasz\n",
      "13. Łażewski Stanisław\n",
      "\n",
      "Smywiński-Pohl Aleksander  \n",
      "Piątek 14:40\n",
      "\n",
      "1. Buta Mateusz\n",
      "2. Czajęcki Tomasz\n",
      "3. Czapiga Jakub\n",
      "4. Dej Filip\n",
      "5. Gwóźdź Jakub\n",
      "6. Koza Wojciech\n",
      "7. Kędziora Piotr\n",
      "8. Maleńczuk Marcin\n",
      "9. Pacia Maciej\n",
      "10. Rzońca Konrad\n",
      "11. Sobczyk Patryk\n",
      "12. Szczerba Adam\n",
      "13. Zadora Michał\n",
      "\n",
      "Smywiński-Pohl Aleksander  \n",
      "Piątek 16:15\n",
      "\n",
      "1. Cegielski Rafał\n",
      "2. Cupiał Eric\n",
      "3. Dłuś Mikołaj\n",
      "4. Frejek Grzegorz\n",
      "5. Janeczko Łukasz\n",
      "6. Janikowski Szymon\n",
      "7. Kmiecik Krzysztof\n",
      "8. Micek Maciej\n",
      "9. Osadnik Michał\n",
      "10. Socha Łukasz\n",
      "11. Wodecki Mateusz\n",
      "12. Wojtyś Piotr\n",
      "13. Zając Łukasz\n",
      "\n",
      "Smywiński-Pohl Aleksander  \n",
      "Piątek 17:50\n",
      "\n",
      "1. Buś Wojciech\n",
      "2. Janecki Szymon\n",
      "3. Klemens Wojciech\n",
      "4. Kołoczek Jakub\n",
      "5. Mendroch Paweł\n",
      "6. Placha Arkadiusz\n",
      "7. Pniak Mikołaj\n",
      "8. Radoń Konrad\n",
      "9. Szpyrka Mateusz\n",
      "10. Tonia Bartłomiej\n",
      "11. Łakomy Łukasz\n",
      "12. Śledź Michał\n",
      "13. Świerad Kamil\n",
      "\n",
      "Kaleta Zbigniew  \n",
      "Poniedziałek 17:50\n",
      "\n",
      "1. Bieniek Jarosław\n",
      "2. Drabina Radosław\n",
      "3. Dyrlaga Paweł\n",
      "4. Kulma Dawid\n",
      "5. Rudnik Michał\n",
      "6. Różak Grzegorz\n",
      "7. Stanik Łukasz\n",
      "8. Stopa Kacper\n",
      "9. Szaflarski Andrzej\n",
      "10. Szarek Mateusz\n",
      "11. Witek Dawid\n",
      "12. Ćwiklicki Piotr\n",
      "13. Łątka Bogdan\n",
      "\n",
      "Kaleta Zbigniew  \n",
      "Wtorek 16:15\n",
      "\n",
      "1. Boszczyk Piotr\n",
      "2. Czerski Jakub\n",
      "3. Droński Michał\n",
      "4. Gruszka Wojciech\n",
      "5. Karkocha Tomasz\n",
      "6. Klimowski Maciej\n",
      "7. Lippa Gustaw\n",
      "8. Michalski Tomasz\n",
      "9. Nowak Gabriel\n",
      "10. Sośniak Marcin\n",
      "11. Sroka Jakub\n",
      "12. Stachura Bartłomiej\n",
      "13. Wańczyk Wojciech\n",
      "\n",
      "Kaleta Zbigniew  \n",
      "Wtorek 17:50\n",
      "\n",
      "1. Chumak Tymofii\n",
      "2. Cudak Magdalena\n",
      "3. Dutkiewicz Julia\n",
      "4. Jarosz Kamil\n",
      "5. Konieczny Jakub\n",
      "6. Kuzicki Radosław\n",
      "7. Liberacki Jan\n",
      "8. Monasterski Mateusz\n",
      "9. Musiał Wojciech\n",
      "10. Sofiński Bartosz\n",
      "11. Yakimovich Mikita\n",
      "12. Zawalska Justyna\n",
      "13. Życiński Krystian\n",
      "\n",
      "Kaleta Zbigniew  \n",
      "Czwartek 16:15\n",
      "\n",
      "1. Bartkowicz Patrycja\n",
      "2. Chyży Joanna\n",
      "3. Kowalczyk Paulina\n",
      "4. Maczuga Paweł\n",
      "5. Moskal Maciej\n",
      "6. Muroń Artur\n",
      "7. Pięta Antoni\n",
      "8. Pych Rafał\n",
      "9. Soczek Witold\n",
      "10. Stępień Bartłomiej\n",
      "11. Szot Arkadiusz\n",
      "12. Wójtowicz Patryk\n",
      "13. Zdybel Tomasz\n",
      "\n",
      "Kaleta Zbigniew  \n",
      "Czwartek 17:50\n",
      "\n",
      "1. Bodera Jakub\n",
      "2. Bukalski Paweł\n",
      "3. Błachut Katarzyna\n",
      "4. Ciechański Ludwik\n",
      "5. Drewnik Aleksandra\n",
      "6. Janowski Jakub\n",
      "7. Janowski Miłosz\n",
      "8. Kurdziel Szymon\n",
      "9. Lubczyński Piotr\n",
      "10. Posłuszny Jakub\n",
      "11. Sołtysik Andrzej\n",
      "12. Szczerbiński Piotr\n",
      "\n",
      "Polak Stanisław  \n",
      "Poniedziałek 11:15\n",
      "\n",
      "1. Drozd Dawid\n",
      "2. Janczyk Piotr\n",
      "3. Janda Kacper\n",
      "4. Lepiarczyk Błażej\n",
      "5. Lichoń Szymon\n",
      "6. Lisiewski Filip\n",
      "7. Mykhaylovskyy Dmytro\n",
      "8. Savchenko Maryna\n",
      "9. Sroka Grzegorz\n",
      "10. Starz Jacek\n",
      "11. Swędrak Piotr\n",
      "12. Zembol Mateusz\n",
      "13. Łanecki Jakub\n",
      "\n",
      "Polak Stanisław  \n",
      "Poniedziałek 12:50\n",
      "\n",
      "1. Basiura Wojciech\n",
      "2. Bąk Karol\n",
      "3. Fudaliński Marek\n",
      "4. Janda Kamil\n",
      "5. Jasek Józef\n",
      "6. Kasprzycki Tomasz\n",
      "7. Kozioł Radosław\n",
      "8. Kądzielawa Kasper\n",
      "9. Okas Aleksander\n",
      "10. Pietrzyk Bartosz\n",
      "11. Plewa Julia\n",
      "12. Sokół Mateusz\n",
      "\n",
      "Polak Stanisław  \n",
      "Wtorek 8:0\n",
      "\n",
      "1. Kalfas Jakub\n",
      "2. Krakowski Krystian\n",
      "3. Kulig Łukasz\n",
      "4. Luśtyk Jakub\n",
      "5. Marondel Klaudia\n",
      "6. Olbrychtowicz Michał\n",
      "7. Sobczyk Tomasz\n",
      "8. Stachura Rafał\n",
      "9. Zalewski Piotr\n",
      "10. Zhyhallo Mykola\n",
      "11. Łęczycki Dawid\n",
      "\n",
      "Polak Stanisław  \n",
      "Wtorek 14:40\n",
      "\n",
      "1. Aman Marcin\n",
      "2. Duczymiński Filip\n",
      "3. Gędłek Paweł\n",
      "4. Matula Mikołaj\n",
      "5. Mikucki Aleksander\n",
      "6. Pajor Jakub\n",
      "7. Pham Marcin\n",
      "8. Rodzoń Jan\n",
      "9. Stanisz Michał\n",
      "10. Sus Wiktor\n",
      "11. Wojsławski Witold\n",
      "12. Śliz Paweł\n",
      "\n",
      "Polak Stanisław  \n",
      "Czwartek 11:15\n",
      "\n",
      "1. Cieloch Jakub\n",
      "2. Doległo Kamil\n",
      "3. Dyduch Dominik\n",
      "4. Gonera Aleksandra\n",
      "5. Grela Konrad\n",
      "6. Mucha Rafał\n",
      "7. Piekarz Karolina\n",
      "8. Pulnar Agnieszka\n",
      "9. Sharabai Serhii\n",
      "10. Starzyk Jakub\n",
      "11. Tuduj Paulina\n",
      "12. Wieczorek Szymon\n",
      "13. Żur Julia\n",
      "\n",
      "Polak Stanisław  \n",
      "Czwartek 14:40\n",
      "\n",
      "1. Gargas Marek\n",
      "2. Gołda Jan\n",
      "3. Kapała Jan\n",
      "4. Knapik Mateusz\n",
      "5. Makieła Krzysztof\n",
      "6. Masliukivskyi Oleksandr\n",
      "7. Mucha Maciej\n",
      "8. Wróblewski Mikołaj\n",
      "9. Węgrzyn Patryk\n",
      "10. Zeller Paweł\n",
      "11. Zemła Rafał\n",
      "12. Ziarko Jakub\n",
      "\n"
     ]
    },
    {
     "data": {
      "text/plain": [
       "null"
      ]
     },
     "execution_count": 237,
     "metadata": {},
     "output_type": "execute_result"
    }
   ],
   "source": [
    "import java.io.*;\n",
    "\n",
    "try (BufferedReader reader = new BufferedReader(\n",
    "        new FileReader(\"/home/apohllo/Downloads/po.txt\"))){\n",
    "        \n",
    "    String line;\n",
    "    while((line = reader.readLine()) != null) {\n",
    "        System.out.println(line);\n",
    "    }\n",
    "} catch (IOException ex) {\n",
    "    System.out.println(\"Problem IO: \" + ex);\n",
    "}"
   ]
  },
  {
   "cell_type": "markdown",
   "metadata": {
    "slideshow": {
     "slide_type": "subslide"
    }
   },
   "source": [
    "# Czytanie z konsoli"
   ]
  },
  {
   "cell_type": "code",
   "execution_count": null,
   "metadata": {
    "slideshow": {
     "slide_type": "subslide"
    }
   },
   "outputs": [],
   "source": [
    "import java.io.*;\n",
    "\n",
    "try (BufferedReader reader = new BufferedReader(\n",
    "        new InputStreamReader(System.in))) {\n",
    "\n",
    "    String line;\n",
    "    while((line = reader.readLine()) != null) {\n",
    "        System.out.println(line);\n",
    "    }\n",
    "} catch (IOException ex) {\n",
    "    System.out.println(\"Problem IO: \" + ex);\n",
    "}"
   ]
  },
  {
   "cell_type": "markdown",
   "metadata": {
    "slideshow": {
     "slide_type": "subslide"
    }
   },
   "source": [
    "# Zapis do pliku"
   ]
  },
  {
   "cell_type": "code",
   "execution_count": 238,
   "metadata": {
    "slideshow": {
     "slide_type": "subslide"
    }
   },
   "outputs": [
    {
     "data": {
      "text/plain": [
       "null"
      ]
     },
     "execution_count": 238,
     "metadata": {},
     "output_type": "execute_result"
    }
   ],
   "source": [
    "import java.io.*;\n",
    "\n",
    "File file = new File(System.getProperty(\"user.home\") + File.separator +\n",
    "    \"Downloads\" + File.separator + \"output.txt\");\n",
    "try (PrintWriter output = new PrintWriter(\n",
    "        new BufferedWriter(new FileWriter(file)))) {\n",
    "\n",
    "    output.println(\"W Szczebrzeszynie chrząszcz brzmi w trzcinie\");\n",
    "} catch (IOException ex) {\n",
    "    System.out.println(\"Problem IO: \" + ex);\n",
    "}"
   ]
  },
  {
   "cell_type": "markdown",
   "metadata": {
    "slideshow": {
     "slide_type": "slide"
    }
   },
   "source": [
    "# Dekoratory\n",
    "\n",
    "<img src=\"img/babushka.jpg\"/>"
   ]
  },
  {
   "cell_type": "code",
   "execution_count": 239,
   "metadata": {
    "slideshow": {
     "slide_type": "subslide"
    }
   },
   "outputs": [
    {
     "data": {
      "text/plain": [
       "null"
      ]
     },
     "execution_count": 239,
     "metadata": {},
     "output_type": "execute_result"
    }
   ],
   "source": [
    "import java.io.*;\n",
    "import java.util.zip.*;\n",
    "\n",
    "File file = new File(\"/home/apohllo/Downloads/output.txt.gz\");\n",
    "\n",
    "BufferedWriter writer = \n",
    "    new BufferedWriter(\n",
    "        new OutputStreamWriter(\n",
    "            new GZIPOutputStream(\n",
    "                new FileOutputStream(file))));\n",
    "writer.write(\"W Szczebrzeszynie chrząszcz brzmi w trzcinie\\n\");\n",
    "writer.close();"
   ]
  },
  {
   "cell_type": "code",
   "execution_count": 240,
   "metadata": {
    "slideshow": {
     "slide_type": "subslide"
    }
   },
   "outputs": [
    {
     "name": "stdout",
     "output_type": "stream",
     "text": [
      "W Szczebrzeszynie chrząszcz brzmi w trzcinie\n",
      "1\n"
     ]
    },
    {
     "data": {
      "text/plain": [
       "null"
      ]
     },
     "execution_count": 240,
     "metadata": {},
     "output_type": "execute_result"
    }
   ],
   "source": [
    "import java.io.*;\n",
    "import java.util.zip.*;\n",
    "\n",
    "File file = new File(\"/home/apohllo/Downloads/output.txt.gz\");\n",
    "LineNumberReader reader = \n",
    "    new LineNumberReader(\n",
    "        new BufferedReader(\n",
    "            new InputStreamReader(\n",
    "                new GZIPInputStream(\n",
    "                    new FileInputStream(file)))));\n",
    "System.out.println(reader.readLine());\n",
    "System.out.println(reader.getLineNumber());"
   ]
  },
  {
   "cell_type": "markdown",
   "metadata": {
    "slideshow": {
     "slide_type": "subslide"
    }
   },
   "source": [
    "<img src=\"img/decorator.png\"/>"
   ]
  },
  {
   "cell_type": "markdown",
   "metadata": {
    "slideshow": {
     "slide_type": "subslide"
    }
   },
   "source": [
    "# Kopiowanie - `try` z zasobami"
   ]
  },
  {
   "cell_type": "code",
   "execution_count": null,
   "metadata": {
    "slideshow": {
     "slide_type": "subslide"
    }
   },
   "outputs": [],
   "source": [
    "import java.io.*;\n",
    "import java.util.zip.*;\n",
    "\n",
    "try (BufferedReader reader = new BufferedReader(\n",
    "        new FileReader(\"/home/apohllo/Downloads/output.txt\"));\n",
    "     PrintWriter writer = new PrintWriter(\n",
    "        new BufferedWriter(\n",
    "            new FileWriter(\"/home/apohllo/Downloads/output.cpy\")))) {\n",
    "            \n",
    "    String line;\n",
    "    \n",
    "    while((line = reader.readLine()) != null) {\n",
    "        writer.println(line);\n",
    "    }\n",
    "} catch (IOException ex) {\n",
    "    System.out.println(\"Problem IO: \" + ex);\n",
    "}"
   ]
  },
  {
   "cell_type": "markdown",
   "metadata": {
    "slideshow": {
     "slide_type": "subslide"
    }
   },
   "source": [
    "# Wady klasycznego podejścia\n",
    "\n",
    "* brak metod do wykonywania popularnych operacji\n",
    "* brak jednolitej obsługi nazw plików na różnych platformach\n",
    "* brak jednolitego modelu atrybutów plików\n",
    "* brak funkcji specyficznych dla określonej platformy\n",
    "* brak obsługi nieblokujących operacji IO"
   ]
  },
  {
   "cell_type": "markdown",
   "metadata": {
    "slideshow": {
     "slide_type": "slide"
    }
   },
   "source": [
    "# Nowy system IO - NIO.2\n",
    "\n",
    "<img src=\"img/duke.png\" style=\"height: 400px\"/>"
   ]
  },
  {
   "cell_type": "code",
   "execution_count": null,
   "metadata": {
    "slideshow": {
     "slide_type": "subslide"
    }
   },
   "outputs": [],
   "source": [
    "import java.nio.file.*;\n",
    "\n",
    "Files.copy(Paths.get(\"/home/apohllo/Downloads/output.txt\"), \n",
    "    Paths.get(\"/home/apohllo/Downloads/output1.cpy\"));"
   ]
  },
  {
   "cell_type": "code",
   "execution_count": null,
   "metadata": {
    "slideshow": {
     "slide_type": "fragment"
    }
   },
   "outputs": [],
   "source": [
    "import java.nio.file.*;\n",
    "\n",
    "Files.copy(Paths.get(\"/home/apohllo/Downloads/output.txt\"), \n",
    "    Paths.get(\"/home/apohllo/Downloads/output1.cpy\"),\n",
    "    StandardCopyOption.REPLACE_EXISTING);"
   ]
  },
  {
   "cell_type": "code",
   "execution_count": null,
   "metadata": {
    "slideshow": {
     "slide_type": "subslide"
    }
   },
   "outputs": [],
   "source": [
    "import java.nio.file.*;\n",
    "\n",
    "Path source = Paths.get(\"/\", \"home\", \"apohllo\", \"Downloads\", \"test.txt\");\n",
    "\n",
    "Files.createFile(source);\n",
    "Files.deleteIfExists(source);"
   ]
  },
  {
   "cell_type": "code",
   "execution_count": null,
   "metadata": {
    "slideshow": {
     "slide_type": "fragment"
    }
   },
   "outputs": [],
   "source": [
    "import java.nio.file.*;\n",
    "\n",
    "Path source = Paths.get(\"/\", \"home\", \"apohllo\", \"Downloads\", \"test.txt\");\n",
    "Path target1 = Paths.get(\"/\", \"home\", \"apohllo\", \"Downloads\", \"test1.cpy\");\n",
    "Path target2 = Paths.get(\"/\", \"home\", \"apohllo\", \"Downloads\", \"test2.cpy\");\n",
    "\n",
    "Files.createFile(source);\n",
    "Files.copy(source, target1);\n",
    "Files.move(source, target2);\n",
    "Files.deleteIfExists(source);\n",
    "Files.deleteIfExists(target1);\n",
    "Files.deleteIfExists(target2);"
   ]
  },
  {
   "cell_type": "code",
   "execution_count": null,
   "metadata": {
    "slideshow": {
     "slide_type": "fragment"
    }
   },
   "outputs": [],
   "source": [
    "import java.nio.file.*;\n",
    "\n",
    "Path target = Paths.get(\"/\", \"home\", \"apohllo\", \"Downloads\", \"output.txt.gz\");\n",
    "long size = Files.size(target);\n",
    "\n",
    "System.out.println(Files.isDirectory(target));\n",
    "System.out.println(Files.isSymbolicLink(target));"
   ]
  },
  {
   "cell_type": "code",
   "execution_count": 1,
   "metadata": {
    "slideshow": {
     "slide_type": "subslide"
    }
   },
   "outputs": [
    {
     "name": "stdout",
     "output_type": "stream",
     "text": [
      "  32\n",
      "c 99\n",
      "h 104\n",
      "r 114\n",
      "z 122\n",
      "ￄ -60\n",
      "ﾅ -123\n",
      "s 115\n",
      "z 122\n",
      "c 99\n",
      "z 122\n",
      "  32\n"
     ]
    },
    {
     "data": {
      "text/plain": [
       "null"
      ]
     },
     "execution_count": 1,
     "metadata": {},
     "output_type": "execute_result"
    }
   ],
   "source": [
    "import java.nio.file.*;\n",
    "import java.nio.charset.*;\n",
    "import java.util.*;\n",
    "\n",
    "Charset charset = StandardCharsets.UTF_8;\n",
    "Path target = Paths.get(\"/\", \"home\", \"apohllo\", \"Downloads\", \"output.txt\");\n",
    "List<String> lines = Files.readAllLines(target, charset);\n",
    "byte[] bytes = Files.readAllBytes(target);\n",
    "for(int i = 0; i < 29; i++) {\n",
    "    if(i > 16)\n",
    "        System.out.println((char)bytes[i] + \" \" + bytes[i]);\n",
    "}"
   ]
  },
  {
   "cell_type": "code",
   "execution_count": null,
   "metadata": {
    "slideshow": {
     "slide_type": "subslide"
    }
   },
   "outputs": [],
   "source": [
    "import java.nio.file.*;\n",
    "import java.nio.charset.*;\n",
    "import java.util.*;\n",
    "import java.io.*;\n",
    "\n",
    "Charset charset = StandardCharsets.UTF_8;\n",
    "Path source = Paths.get(\"/\", \"home\", \"apohllo\", \"Downloads\", \"output.txt\");\n",
    "BufferedReader reader = Files.newBufferedReader(source, charset);\n",
    "BufferedWriter writer = Files.newBufferedWriter(source, charset);"
   ]
  },
  {
   "cell_type": "code",
   "execution_count": null,
   "metadata": {
    "slideshow": {
     "slide_type": "subslide"
    }
   },
   "outputs": [],
   "source": [
    "import java.nio.file.*;\n",
    "import java.nio.charset.*;\n",
    "import java.util.*;\n",
    "import java.io.*;\n",
    "\n",
    "Path source = Paths.get(\"/\", \"home\", \"apohllo\", \"Downloads\", \"output.txt\");\n",
    "\n",
    "InputStream input = Files.newInputStream(source);\n",
    "OutputStream output = Files.newOutputStream(source);"
   ]
  },
  {
   "cell_type": "markdown",
   "metadata": {
    "slideshow": {
     "slide_type": "subslide"
    }
   },
   "source": [
    "# `Path`\n",
    "\n",
    "<img src=\"img/path.jpg\"/>"
   ]
  },
  {
   "cell_type": "code",
   "execution_count": 2,
   "metadata": {
    "slideshow": {
     "slide_type": "subslide"
    }
   },
   "outputs": [
    {
     "data": {
      "text/plain": [
       "null"
      ]
     },
     "execution_count": 2,
     "metadata": {},
     "output_type": "execute_result"
    }
   ],
   "source": [
    "import java.nio.charset.*;\n",
    "import java.nio.file.*;\n",
    "import java.util.*;\n",
    "import java.io.*;\n",
    "import java.net.*;\n",
    "\n",
    "URI zipFile = URI.create(\"jar:file:/home/apohllo/Downloads/chlopiec.zip\");\n",
    "Map<String, String> env = new HashMap<>();\n",
    "try (FileSystem subSystem =\n",
    "        FileSystems.newFileSystem(zipFile, env)) {\n",
    "\n",
    "    Path pathForFile = subSystem.getPath(\"/hello.txt\");\n",
    "    List<String> list = new ArrayList<>();\n",
    "    list.add(\"Ala ma kota w Szczebrzeszynie\");\n",
    "    \n",
    "    Files.write(pathForFile, list, Charset.defaultCharset(),\n",
    "        StandardOpenOption.WRITE, StandardOpenOption.CREATE);\n",
    "} catch (IOException ex) {\n",
    "    System.out.println(\"Problem IO: \" + ex);\n",
    "}"
   ]
  },
  {
   "cell_type": "markdown",
   "metadata": {
    "slideshow": {
     "slide_type": "slide"
    }
   },
   "source": [
    "# Asynchroniczne wejście i wyjście"
   ]
  },
  {
   "cell_type": "code",
   "execution_count": 3,
   "metadata": {
    "slideshow": {
     "slide_type": "subslide"
    }
   },
   "outputs": [
    {
     "name": "stdout",
     "output_type": "stream",
     "text": [
      "Liczba wczytanych bajtów 62\n"
     ]
    },
    {
     "data": {
      "text/plain": [
       "null"
      ]
     },
     "execution_count": 3,
     "metadata": {},
     "output_type": "execute_result"
    }
   ],
   "source": [
    "import java.nio.*;\n",
    "import java.nio.channels.*;\n",
    "import java.nio.charset.*;\n",
    "import java.nio.file.*;\n",
    "import java.util.*;\n",
    "import java.io.*;\n",
    "import java.util.concurrent.*;\n",
    "\n",
    "try (AsynchronousFileChannel channel = \n",
    "        AsynchronousFileChannel.open(\n",
    "            Paths.get(\"/home/apohllo/Downloads/output.txt.gz\"))) {\n",
    "            \n",
    "    ByteBuffer buffer = ByteBuffer.allocateDirect(1024 * 1024 * 100); // 100 MB\n",
    "    Future<Integer> result = channel.read(buffer, 0);\n",
    "    \n",
    "    // można wykonać jakieś działania w trakcie wczytywania pliku\n",
    "    \n",
    "    System.out.println(\"Liczba wczytanych bajtów \" + result.get());\n",
    "} catch (IOException ex) {\n",
    "    System.out.println(\"Problem IO: \" + ex);\n",
    "}"
   ]
  },
  {
   "cell_type": "markdown",
   "metadata": {
    "slideshow": {
     "slide_type": "slide"
    }
   },
   "source": [
    "![Pytania? ](http://cliparts.co/cliparts/qcB/jqg/qcBjqgxc5.jpg)"
   ]
  }
 ],
 "metadata": {
  "celltoolbar": "Slideshow",
  "kernelspec": {
   "display_name": "Java",
   "language": "java",
   "name": "java"
  },
  "language_info": {
   "codemirror_mode": "text/x-java",
   "file_extension": ".java",
   "mimetype": "",
   "name": "Java",
   "nbconverter_exporter": "",
   "version": "1.8.0_121"
  }
 },
 "nbformat": 4,
 "nbformat_minor": 1
}
