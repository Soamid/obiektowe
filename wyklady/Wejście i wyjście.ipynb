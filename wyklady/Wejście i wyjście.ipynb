{
 "cells": [
  {
   "cell_type": "markdown",
   "metadata": {
    "slideshow": {
     "slide_type": "slide"
    }
   },
   "source": [
    "# Wejście i wyjście\n",
    "\n",
    "## Obsługa operacji wejścia i wyjścia za pomocą API Stream oraz NIO\n",
    "\n",
    "<br/>\n",
    "\n",
    "## dr inż. Aleksander Smywiński-Pohl\n",
    "\n",
    "## apohllo@agh.edu.pl\n",
    "\n",
    "## http://apohllo.pl/dydaktyka/programowanie-obiektowe\n",
    "\n",
    "## konsultacje: wtorek 15:30 - 18:00, pokój 4.61"
   ]
  },
  {
   "cell_type": "markdown",
   "metadata": {
    "slideshow": {
     "slide_type": "subslide"
    }
   },
   "source": [
    "# Input - Output\n",
    "\n",
    "<img src=\"img/io.jpg\"/>"
   ]
  },
  {
   "cell_type": "markdown",
   "metadata": {
    "slideshow": {
     "slide_type": "slide"
    }
   },
   "source": [
    "# Klasa `File`\n",
    "\n",
    "<img src=\"img/delete.jpg\"/>"
   ]
  },
  {
   "cell_type": "code",
   "execution_count": 28,
   "metadata": {
    "slideshow": {
     "slide_type": "subslide"
    }
   },
   "outputs": [
    {
     "name": "stdout",
     "output_type": "stream",
     "text": [
      "Plik nie istnieje\n"
     ]
    }
   ],
   "source": [
    "import java.io.*;\n",
    "import static java.lang.System.out;\n",
    "\n",
    "File homedir = new File(System.getProperty(\"user.home\"));\n",
    "\n",
    "File file = new File(homedir, \"plik.txt\");\n",
    "\n",
    "if(file.exists() && file.isFile() && file.canRead()){\n",
    "    File directory = new File(homedir, \"katalog\");\n",
    "    directory.mkdir();\n",
    "    file.renameTo(new File(directory, \"plik1.txt\"));\n",
    "    out.println(\"Plik został zmieniony\");\n",
    "} else {\n",
    "    out.println(\"Plik nie istnieje\");\n",
    "}"
   ]
  },
  {
   "cell_type": "markdown",
   "metadata": {
    "slideshow": {
     "slide_type": "subslide"
    }
   },
   "source": [
    "# Metody klasy `File`\n",
    "\n",
    "<img src=\"img/delete_file.jpg\"/>"
   ]
  },
  {
   "cell_type": "code",
   "execution_count": 29,
   "metadata": {
    "slideshow": {
     "slide_type": "subslide"
    }
   },
   "outputs": [
    {
     "name": "stdout",
     "output_type": "stream",
     "text": [
      "true\n",
      "true\n",
      "true\n"
     ]
    }
   ],
   "source": [
    "File homedir = new File(System.getProperty(\"user.home\"), \"katalog\");\n",
    "\n",
    "out.println(homedir.canExecute());\n",
    "out.println(homedir.canRead());\n",
    "out.println(homedir.canWrite());"
   ]
  },
  {
   "cell_type": "code",
   "execution_count": 30,
   "metadata": {
    "slideshow": {
     "slide_type": "fragment"
    }
   },
   "outputs": [
    {
     "name": "stdout",
     "output_type": "stream",
     "text": [
      "true\n",
      "true\n",
      "true\n"
     ]
    }
   ],
   "source": [
    "File homedir = new File(System.getProperty(\"user.home\"), \"katalog\");\n",
    "\n",
    "out.println(homedir.setReadOnly());\n",
    "out.println(homedir.setExecutable(true));\n",
    "out.println(homedir.setReadable(true));"
   ]
  },
  {
   "cell_type": "code",
   "execution_count": 31,
   "metadata": {
    "slideshow": {
     "slide_type": "subslide"
    }
   },
   "outputs": [
    {
     "name": "stdout",
     "output_type": "stream",
     "text": [
      "/home/apohllo/katalog\n",
      "/home/apohllo/katalog\n",
      "katalog\n",
      "/home/apohllo\n"
     ]
    }
   ],
   "source": [
    "File homedir = new File(System.getProperty(\"user.home\"), \"katalog\");\n",
    "\n",
    "out.println(homedir.getAbsolutePath());\n",
    "out.println(homedir.getCanonicalPath());\n",
    "out.println(homedir.getName());\n",
    "out.println(homedir.getParent());"
   ]
  },
  {
   "cell_type": "code",
   "execution_count": 32,
   "metadata": {
    "slideshow": {
     "slide_type": "fragment"
    }
   },
   "outputs": [
    {
     "name": "stdout",
     "output_type": "stream",
     "text": [
      "true\n",
      "true\n",
      "true\n",
      "true\n",
      "false\n"
     ]
    }
   ],
   "source": [
    "File homedir = new File(System.getProperty(\"user.home\"), \"katalog\");\n",
    "File file = new File(homedir, \"plik1.txt\");\n",
    "\n",
    "out.println(homedir.exists());\n",
    "out.println(file.exists());\n",
    "out.println(homedir.isAbsolute());\n",
    "out.println(homedir.isDirectory());\n",
    "out.println(homedir.isFile());"
   ]
  },
  {
   "cell_type": "code",
   "execution_count": null,
   "metadata": {
    "slideshow": {
     "slide_type": "subslide"
    }
   },
   "outputs": [],
   "source": [
    "File file = new File(System.getProperty(\"user.home\") + File.separator + \"katalog\", \"plik1.txt\");\n",
    "File destination = new File(System.getProperty(\"user.home\") + File.separator + \"katalog\", \"plik2.txt\");\n",
    "System.out.println(file.renameTo(destination));\n",
    "//System.out.println(file.delete());"
   ]
  },
  {
   "cell_type": "code",
   "execution_count": null,
   "metadata": {
    "slideshow": {
     "slide_type": "fragment"
    }
   },
   "outputs": [],
   "source": [
    "File file = new File(System.getProperty(\"user.home\") + File.separator + \"katalog\", \"plik1.txt\");\n",
    "\n",
    "out.println(file.getFreeSpace());\n",
    "out.println(file.getTotalSpace());\n",
    "out.println(file.getUsableSpace());"
   ]
  },
  {
   "cell_type": "code",
   "execution_count": 33,
   "metadata": {
    "slideshow": {
     "slide_type": "subslide"
    }
   },
   "outputs": [
    {
     "name": "stdout",
     "output_type": "stream",
     "text": [
      "/\n"
     ]
    }
   ],
   "source": [
    "import java.util.*;\n",
    "\n",
    "File[] roots = File.listRoots();\n",
    "Arrays.stream(roots).forEach(System.out::println);"
   ]
  },
  {
   "cell_type": "markdown",
   "metadata": {
    "slideshow": {
     "slide_type": "notes"
    }
   },
   "source": [
    "API klasy File jest bardzo rozbudowane: są tu operacje związane z odczytywanie informacji o atrybutach pliku,\n",
    "operacje związane z przenoszeniem, usunięciem czy zmianą nazwy pliku, operacje związane z odczytywaniem wolnego \n",
    "miejsca na dysku, czy operacje listujące dyski dostępne w danym systemie. Brak jest separacji odpowiedzialności."
   ]
  },
  {
   "cell_type": "markdown",
   "metadata": {
    "slideshow": {
     "slide_type": "subslide"
    }
   },
   "source": [
    "# Plik tymczasowy"
   ]
  },
  {
   "cell_type": "code",
   "execution_count": 34,
   "metadata": {
    "slideshow": {
     "slide_type": "-"
    }
   },
   "outputs": [],
   "source": [
    "import java.io.*;\n",
    "\n",
    "File temporary = File.createTempFile(\"prefix\", \".txt\");\n",
    "temporary.deleteOnExit();"
   ]
  },
  {
   "cell_type": "markdown",
   "metadata": {
    "slideshow": {
     "slide_type": "slide"
    }
   },
   "source": [
    "# Strumienie\n",
    "\n",
    "<img src=\"img/mincer.jpg\"/>"
   ]
  },
  {
   "cell_type": "code",
   "execution_count": 35,
   "metadata": {
    "slideshow": {
     "slide_type": "subslide"
    }
   },
   "outputs": [
    {
     "name": "stdout",
     "output_type": "stream",
     "text": [
      "Przykład strumienia I/O\n"
     ]
    }
   ],
   "source": [
    "out.println(\"Przykład strumienia I/O\");"
   ]
  },
  {
   "cell_type": "markdown",
   "metadata": {
    "slideshow": {
     "slide_type": "subslide"
    }
   },
   "source": [
    "# Dane binarne"
   ]
  },
  {
   "cell_type": "code",
   "execution_count": 36,
   "metadata": {
    "slideshow": {
     "slide_type": "-"
    }
   },
   "outputs": [
    {
     "name": "stdout",
     "output_type": "stream",
     "text": [
      "Liczba występień litery <a>: 420\n"
     ]
    }
   ],
   "source": [
    "try(InputStream stream = new FileInputStream(\"/home/apohllo/Downloads/download.png\")) {\n",
    "    byte[] buffer = new byte[4096];\n",
    "    int length, count = 0;\n",
    "    while ((length = stream.read(buffer)) > 0) {\n",
    "        for(int i=0; i < length; i++) {\n",
    "            if (buffer[i] == 97) count++;\n",
    "        }\n",
    "    }\n",
    "    out.println(\"Liczba występień litery <a>: \" + count);\n",
    "} catch (IOException ex) {\n",
    "    out.println(\"Problem IO: \" + ex);\n",
    "}"
   ]
  },
  {
   "cell_type": "markdown",
   "metadata": {
    "slideshow": {
     "slide_type": "notes"
    }
   },
   "source": [
    "Strumień danych binarnych pozwala operować na poszczególnych bajtach danych."
   ]
  },
  {
   "cell_type": "markdown",
   "metadata": {
    "slideshow": {
     "slide_type": "subslide"
    }
   },
   "source": [
    "# Dane tekstowe"
   ]
  },
  {
   "cell_type": "code",
   "execution_count": 37,
   "metadata": {
    "slideshow": {
     "slide_type": "-"
    }
   },
   "outputs": [
    {
     "name": "stdout",
     "output_type": "stream",
     "text": [
      "Smywiń... RODO!\n",
      "Wtorek... RODO!\n",
      "1. Ber... RODO!\n",
      "2. Bor... RODO!\n",
      "3. Cza... RODO!\n",
      "4. Gei... RODO!\n",
      "5. Jop... RODO!\n",
      "6. Kar... RODO!\n",
      "7. Lew... RODO!\n",
      "8. Man... RODO!\n",
      "9. Maz... RODO!\n",
      "10. Pę... RODO!\n",
      "11. Re... RODO!\n",
      "12. Re... RODO!\n",
      "13. Ła... RODO!\n",
      "Smywiń... RODO!\n",
      "Piątek... RODO!\n",
      "1. But... RODO!\n",
      "2. Cza... RODO!\n",
      "3. Cza... RODO!\n",
      "4. Dej... RODO!\n",
      "5. Gwó... RODO!\n",
      "6. Koz... RODO!\n",
      "7. Kęd... RODO!\n",
      "8. Mal... RODO!\n",
      "9. Pac... RODO!\n",
      "10. Rz... RODO!\n",
      "11. So... RODO!\n",
      "12. Sz... RODO!\n",
      "13. Za... RODO!\n",
      "Smywiń... RODO!\n",
      "Piątek... RODO!\n",
      "1. Ceg... RODO!\n",
      "2. Cup... RODO!\n",
      "3. Dłu... RODO!\n",
      "4. Fre... RODO!\n",
      "5. Jan... RODO!\n",
      "6. Jan... RODO!\n",
      "7. Kmi... RODO!\n",
      "8. Mic... RODO!\n",
      "9. Osa... RODO!\n",
      "10. So... RODO!\n",
      "11. Wo... RODO!\n",
      "12. Wo... RODO!\n",
      "13. Za... RODO!\n",
      "Smywiń... RODO!\n",
      "Piątek... RODO!\n",
      "1. Buś... RODO!\n",
      "2. Jan... RODO!\n",
      "3. Kle... RODO!\n",
      "4. Koł... RODO!\n",
      "5. Men... RODO!\n",
      "6. Pla... RODO!\n",
      "7. Pni... RODO!\n",
      "8. Rad... RODO!\n",
      "9. Szp... RODO!\n",
      "10. To... RODO!\n",
      "11. Ła... RODO!\n",
      "12. Śl... RODO!\n",
      "13. Św... RODO!\n",
      "Kaleta... RODO!\n",
      "Ponied... RODO!\n",
      "1. Bie... RODO!\n",
      "2. Dra... RODO!\n",
      "3. Dyr... RODO!\n",
      "4. Kul... RODO!\n",
      "5. Rud... RODO!\n",
      "6. Róż... RODO!\n",
      "7. Sta... RODO!\n",
      "8. Sto... RODO!\n",
      "9. Sza... RODO!\n",
      "10. Sz... RODO!\n",
      "11. Wi... RODO!\n",
      "12. Ćw... RODO!\n",
      "13. Łą... RODO!\n",
      "Kaleta... RODO!\n",
      "Wtorek... RODO!\n",
      "1. Bos... RODO!\n",
      "2. Cze... RODO!\n",
      "3. Dro... RODO!\n",
      "4. Gru... RODO!\n",
      "5. Kar... RODO!\n",
      "6. Kli... RODO!\n",
      "7. Lip... RODO!\n",
      "8. Mic... RODO!\n",
      "9. Now... RODO!\n",
      "10. So... RODO!\n",
      "11. Sr... RODO!\n",
      "12. St... RODO!\n",
      "13. Wa... RODO!\n",
      "Kaleta... RODO!\n",
      "Wtorek... RODO!\n",
      "1. Chu... RODO!\n",
      "2. Cud... RODO!\n",
      "3. Dut... RODO!\n",
      "4. Jar... RODO!\n",
      "5. Kon... RODO!\n",
      "6. Kuz... RODO!\n",
      "7. Lib... RODO!\n",
      "8. Mon... RODO!\n",
      "9. Mus... RODO!\n",
      "10. So... RODO!\n",
      "11. Ya... RODO!\n",
      "12. Za... RODO!\n",
      "13. Ży... RODO!\n",
      "Kaleta... RODO!\n",
      "Czwart... RODO!\n",
      "1. Bar... RODO!\n",
      "2. Chy... RODO!\n",
      "3. Kow... RODO!\n",
      "4. Mac... RODO!\n",
      "5. Mos... RODO!\n",
      "6. Mur... RODO!\n",
      "7. Pię... RODO!\n",
      "8. Pyc... RODO!\n",
      "9. Soc... RODO!\n",
      "10. St... RODO!\n",
      "11. Sz... RODO!\n",
      "12. Wó... RODO!\n",
      "13. Zd... RODO!\n",
      "Kaleta... RODO!\n",
      "Czwart... RODO!\n",
      "1. Bod... RODO!\n",
      "2. Buk... RODO!\n",
      "3. Bła... RODO!\n",
      "4. Cie... RODO!\n",
      "5. Dre... RODO!\n",
      "6. Jan... RODO!\n",
      "7. Jan... RODO!\n",
      "8. Kur... RODO!\n",
      "9. Lub... RODO!\n",
      "10. Po... RODO!\n",
      "11. So... RODO!\n",
      "12. Sz... RODO!\n",
      "Polak ... RODO!\n",
      "Ponied... RODO!\n",
      "1. Dro... RODO!\n",
      "2. Jan... RODO!\n",
      "3. Jan... RODO!\n",
      "4. Lep... RODO!\n",
      "5. Lic... RODO!\n",
      "6. Lis... RODO!\n",
      "7. Myk... RODO!\n",
      "8. Sav... RODO!\n",
      "9. Sro... RODO!\n",
      "10. St... RODO!\n",
      "11. Sw... RODO!\n",
      "12. Ze... RODO!\n",
      "13. Ła... RODO!\n",
      "Polak ... RODO!\n",
      "Ponied... RODO!\n",
      "1. Bas... RODO!\n",
      "2. Bąk... RODO!\n",
      "3. Fud... RODO!\n",
      "4. Jan... RODO!\n",
      "5. Jas... RODO!\n",
      "6. Kas... RODO!\n",
      "7. Koz... RODO!\n",
      "8. Kąd... RODO!\n",
      "9. Oka... RODO!\n",
      "10. Pi... RODO!\n",
      "11. Pl... RODO!\n",
      "12. So... RODO!\n",
      "Polak ... RODO!\n",
      "Wtorek... RODO!\n",
      "1. Kal... RODO!\n",
      "2. Kra... RODO!\n",
      "3. Kul... RODO!\n",
      "4. Luś... RODO!\n",
      "5. Mar... RODO!\n",
      "6. Olb... RODO!\n",
      "7. Sob... RODO!\n",
      "8. Sta... RODO!\n",
      "9. Zal... RODO!\n",
      "10. Zh... RODO!\n",
      "11. Łę... RODO!\n",
      "Polak ... RODO!\n",
      "Wtorek... RODO!\n",
      "1. Ama... RODO!\n",
      "2. Duc... RODO!\n",
      "3. Gęd... RODO!\n",
      "4. Mat... RODO!\n",
      "5. Mik... RODO!\n",
      "6. Paj... RODO!\n",
      "7. Pha... RODO!\n",
      "8. Rod... RODO!\n",
      "9. Sta... RODO!\n",
      "10. Su... RODO!\n",
      "11. Wo... RODO!\n",
      "12. Śl... RODO!\n",
      "Polak ... RODO!\n",
      "Czwart... RODO!\n",
      "1. Cie... RODO!\n",
      "2. Dol... RODO!\n",
      "3. Dyd... RODO!\n",
      "4. Gon... RODO!\n",
      "5. Gre... RODO!\n",
      "6. Muc... RODO!\n",
      "7. Pie... RODO!\n",
      "8. Pul... RODO!\n",
      "9. Sha... RODO!\n",
      "10. St... RODO!\n",
      "11. Tu... RODO!\n",
      "12. Wi... RODO!\n",
      "13. Żu... RODO!\n",
      "Polak ... RODO!\n",
      "Czwart... RODO!\n",
      "1. Gar... RODO!\n",
      "2. Goł... RODO!\n",
      "3. Kap... RODO!\n",
      "4. Kna... RODO!\n",
      "5. Mak... RODO!\n",
      "6. Mas... RODO!\n",
      "7. Muc... RODO!\n",
      "8. Wró... RODO!\n",
      "9. Węg... RODO!\n",
      "10. Ze... RODO!\n",
      "11. Ze... RODO!\n",
      "12. Zi... RODO!\n"
     ]
    }
   ],
   "source": [
    "import java.io.*;\n",
    "\n",
    "try (BufferedReader reader = new BufferedReader(new FileReader(\"/home/apohllo/Downloads/po.txt\"))){\n",
    "    String line;\n",
    "    while((line = reader.readLine()) != null) {\n",
    "        if(line.length() > 0)\n",
    "            out.println(line.substring(0, 6) + \"... RODO!\");\n",
    "    }\n",
    "} catch (IOException ex) {\n",
    "    out.println(\"Problem IO: \" + ex);\n",
    "}"
   ]
  },
  {
   "cell_type": "markdown",
   "metadata": {
    "slideshow": {
     "slide_type": "notes"
    }
   },
   "source": [
    "Strumień danych tekstowych umożliwia odczytywanie po jednej linii oraz uwzględnia kodowanie znaków (oczywiście \n",
    "jeśli chcemy użyć innego niż domyślne, to musimy je określić)."
   ]
  },
  {
   "cell_type": "markdown",
   "metadata": {
    "slideshow": {
     "slide_type": "subslide"
    }
   },
   "source": [
    "# Czytanie z konsoli"
   ]
  },
  {
   "cell_type": "code",
   "execution_count": 38,
   "metadata": {
    "slideshow": {
     "slide_type": "subslide"
    }
   },
   "outputs": [
    {
     "name": "stdout",
     "output_type": "stream",
     "text": [
      "aaaa\n",
      "aaaa\n",
      "ghjgjhhg\n",
      "ghjgjhhg\n",
      "KONIEC\n"
     ]
    }
   ],
   "source": [
    "try (BufferedReader reader = new BufferedReader(new InputStreamReader(System.in))) {\n",
    "    String line;\n",
    "    while((line = reader.readLine()) != null && !line.equals(\"KONIEC\")) {\n",
    "        out.println(line);\n",
    "    }\n",
    "} catch (IOException ex) {\n",
    "    out.println(\"Problem IO: \" + ex);\n",
    "}"
   ]
  },
  {
   "cell_type": "markdown",
   "metadata": {
    "slideshow": {
     "slide_type": "subslide"
    }
   },
   "source": [
    "# Zapis do pliku"
   ]
  },
  {
   "cell_type": "code",
   "execution_count": 39,
   "metadata": {
    "slideshow": {
     "slide_type": "subslide"
    }
   },
   "outputs": [],
   "source": [
    "File file = new File(System.getProperty(\"user.home\") + File.separator +\n",
    "    \"Downloads\" + File.separator + \"output.txt\");\n",
    "\n",
    "try (PrintWriter output = new PrintWriter(new BufferedWriter(new FileWriter(file)))) {\n",
    "    \n",
    "    output.println(\"W Szczebrzeszynie chrząszcz brzmi w trzcinie\");\n",
    "    \n",
    "} catch (IOException ex) {\n",
    "    System.out.println(\"Problem IO: \" + ex);\n",
    "}"
   ]
  },
  {
   "cell_type": "markdown",
   "metadata": {
    "slideshow": {
     "slide_type": "slide"
    }
   },
   "source": [
    "# Dekoratory\n",
    "\n",
    "<img src=\"img/babushka.jpg\"/>"
   ]
  },
  {
   "cell_type": "code",
   "execution_count": null,
   "metadata": {
    "slideshow": {
     "slide_type": "subslide"
    }
   },
   "outputs": [],
   "source": [
    "import java.util.zip.*;\n",
    "\n",
    "File file = new File(\"/home/apohllo/Downloads/output.txt.gz\");\n",
    "\n",
    "BufferedWriter writer = \n",
    "    new BufferedWriter(\n",
    "        new OutputStreamWriter(\n",
    "            new GZIPOutputStream(\n",
    "                new FileOutputStream(file))));\n",
    "writer.write(\"W Szczebrzeszynie chrząszcz brzmi w trzcinie\\n\");\n",
    "writer.close();"
   ]
  },
  {
   "cell_type": "code",
   "execution_count": 41,
   "metadata": {
    "slideshow": {
     "slide_type": "subslide"
    }
   },
   "outputs": [
    {
     "name": "stdout",
     "output_type": "stream",
     "text": [
      "0: W Szczebrzeszynie chrząszcz brzmi w trzcinie\n"
     ]
    }
   ],
   "source": [
    "File file = new File(\"/home/apohllo/Downloads/output.txt.gz\");\n",
    "LineNumberReader reader = \n",
    "    new LineNumberReader(\n",
    "        new BufferedReader(\n",
    "            new InputStreamReader(\n",
    "                new GZIPInputStream(\n",
    "                    new FileInputStream(file)))));\n",
    "System.out.println(reader.getLineNumber() + \": \" + reader.readLine());"
   ]
  },
  {
   "cell_type": "markdown",
   "metadata": {
    "slideshow": {
     "slide_type": "subslide"
    }
   },
   "source": [
    "<img src=\"img/decorator.png\"/>"
   ]
  },
  {
   "cell_type": "markdown",
   "metadata": {
    "slideshow": {
     "slide_type": "subslide"
    }
   },
   "source": [
    "# Kopiowanie - `try` z zasobami"
   ]
  },
  {
   "cell_type": "code",
   "execution_count": 42,
   "metadata": {
    "slideshow": {
     "slide_type": "subslide"
    }
   },
   "outputs": [],
   "source": [
    "import java.io.*;\n",
    "import java.util.zip.*;\n",
    "\n",
    "try (BufferedReader reader = new BufferedReader(\n",
    "        new FileReader(\"/home/apohllo/Downloads/output.txt\"));\n",
    "     PrintWriter writer = new PrintWriter(\n",
    "        new BufferedWriter(\n",
    "            new FileWriter(\"/home/apohllo/Downloads/output.cpy\")))) {\n",
    "            \n",
    "    String line;\n",
    "    \n",
    "    while((line = reader.readLine()) != null) {\n",
    "        writer.println(line);\n",
    "    }\n",
    "} catch (IOException ex) {\n",
    "    System.out.println(\"Problem IO: \" + ex);\n",
    "}"
   ]
  },
  {
   "cell_type": "markdown",
   "metadata": {
    "slideshow": {
     "slide_type": "subslide"
    }
   },
   "source": [
    "# Wady klasycznego podejścia\n",
    "\n",
    "* brak metod do wykonywania popularnych operacji\n",
    "* brak jednolitej obsługi nazw plików na różnych platformach\n",
    "* brak jednolitego modelu atrybutów plików\n",
    "* brak funkcji specyficznych dla określonej platformy\n",
    "* brak obsługi nieblokujących operacji IO"
   ]
  },
  {
   "cell_type": "markdown",
   "metadata": {
    "slideshow": {
     "slide_type": "slide"
    }
   },
   "source": [
    "# Nowy system IO - NIO.2\n",
    "\n",
    "<img src=\"img/duke.png\" style=\"height: 400px\"/>"
   ]
  },
  {
   "cell_type": "code",
   "execution_count": 43,
   "metadata": {
    "slideshow": {
     "slide_type": "subslide"
    }
   },
   "outputs": [
    {
     "ename": "EvalException",
     "evalue": "/home/apohllo/Downloads/output1.cpy",
     "output_type": "error",
     "traceback": [
      "\u001b[1m\u001b[31m---------------------------------------------------------------------------\u001b[0m",
      "\u001b[1m\u001b[31mjava.nio.file.FileAlreadyExistsException: /home/apohllo/Downloads/output1.cpy\u001b[0m",
      "\u001b[1m\u001b[31m\tat java.base/sun.nio.fs.UnixCopyFile.copy(UnixCopyFile.java:556)\u001b[0m",
      "\u001b[1m\u001b[31m\tat java.base/sun.nio.fs.UnixFileSystemProvider.copy(UnixFileSystemProvider.java:254)\u001b[0m",
      "\u001b[1m\u001b[31m\tat java.base/java.nio.file.Files.copy(Files.java:1287)\u001b[0m",
      "\u001b[1m\u001b[31m\tat .(#102:1)\u001b[0m"
     ]
    }
   ],
   "source": [
    "import java.nio.file.*;\n",
    "\n",
    "Files.copy(Paths.get(\"/home/apohllo/Downloads/output.txt\"), \n",
    "    Paths.get(\"/home/apohllo/Downloads/output1.cpy\"));"
   ]
  },
  {
   "cell_type": "code",
   "execution_count": 44,
   "metadata": {
    "slideshow": {
     "slide_type": "fragment"
    }
   },
   "outputs": [
    {
     "data": {
      "text/plain": [
       "/home/apohllo/Downloads/output1.cpy"
      ]
     },
     "execution_count": 44,
     "metadata": {},
     "output_type": "execute_result"
    }
   ],
   "source": [
    "Files.copy(Paths.get(\"/home/apohllo/Downloads/output.txt\"), \n",
    "    Paths.get(\"/home/apohllo/Downloads/output1.cpy\"),\n",
    "    StandardCopyOption.REPLACE_EXISTING);"
   ]
  },
  {
   "cell_type": "code",
   "execution_count": 45,
   "metadata": {
    "slideshow": {
     "slide_type": "subslide"
    }
   },
   "outputs": [
    {
     "data": {
      "text/plain": [
       "true"
      ]
     },
     "execution_count": 45,
     "metadata": {},
     "output_type": "execute_result"
    }
   ],
   "source": [
    "Path source = Paths.get(\"/\", \"home\", \"apohllo\", \"Downloads\", \"test.txt\");\n",
    "\n",
    "Files.createFile(source);\n",
    "Files.deleteIfExists(source);"
   ]
  },
  {
   "cell_type": "code",
   "execution_count": null,
   "metadata": {
    "slideshow": {
     "slide_type": "fragment"
    }
   },
   "outputs": [],
   "source": [
    "Path source = Paths.get(\"/\", \"home\", \"apohllo\", \"Downloads\", \"test.txt\");\n",
    "Path target1 = Paths.get(\"/\", \"home\", \"apohllo\", \"Downloads\", \"test1.cpy\");\n",
    "Path target2 = Paths.get(\"/\", \"home\", \"apohllo\", \"Downloads\", \"test2.cpy\");\n",
    "\n",
    "Files.createFile(source);\n",
    "Files.copy(source, target1);\n",
    "Files.move(source, target2);\n",
    "Files.deleteIfExists(source);\n",
    "Files.deleteIfExists(target1);\n",
    "Files.deleteIfExists(target2);"
   ]
  },
  {
   "cell_type": "code",
   "execution_count": 46,
   "metadata": {
    "slideshow": {
     "slide_type": "fragment"
    }
   },
   "outputs": [
    {
     "name": "stdout",
     "output_type": "stream",
     "text": [
      "false\n",
      "false\n"
     ]
    }
   ],
   "source": [
    "Path target = Paths.get(\"/\", \"home\", \"apohllo\", \"Downloads\", \"output.txt.gz\");\n",
    "long size = Files.size(target);\n",
    "\n",
    "out.println(Files.isDirectory(target));\n",
    "out.println(Files.isSymbolicLink(target));"
   ]
  },
  {
   "cell_type": "code",
   "execution_count": 47,
   "metadata": {
    "slideshow": {
     "slide_type": "subslide"
    }
   },
   "outputs": [
    {
     "name": "stdout",
     "output_type": "stream",
     "text": [
      "  32\n",
      "c 99\n",
      "h 104\n",
      "r 114\n",
      "z 122\n",
      "ￄ -60\n",
      "ﾅ -123\n",
      "s 115\n",
      "z 122\n",
      "c 99\n",
      "z 122\n",
      "  32\n"
     ]
    }
   ],
   "source": [
    "import java.nio.charset.*;\n",
    "import java.util.*;\n",
    "\n",
    "Charset charset = StandardCharsets.UTF_8;\n",
    "Path target = Paths.get(\"/\", \"home\", \"apohllo\", \"Downloads\", \"output.txt\");\n",
    "List<String> lines = Files.readAllLines(target, charset);\n",
    "byte[] bytes = Files.readAllBytes(target);\n",
    "for(int i = 0; i < 29; i++) {\n",
    "    if(i > 16)\n",
    "        out.println((char)bytes[i] + \" \" + bytes[i]);\n",
    "}"
   ]
  },
  {
   "cell_type": "code",
   "execution_count": 48,
   "metadata": {
    "slideshow": {
     "slide_type": "subslide"
    }
   },
   "outputs": [],
   "source": [
    "Charset charset = StandardCharsets.UTF_8;\n",
    "Path source = Paths.get(\"/\", \"home\", \"apohllo\", \"Downloads\", \"output.txt\");\n",
    "BufferedReader reader = Files.newBufferedReader(source, charset);\n",
    "BufferedWriter writer = Files.newBufferedWriter(source, charset);"
   ]
  },
  {
   "cell_type": "code",
   "execution_count": 49,
   "metadata": {
    "slideshow": {
     "slide_type": "subslide"
    }
   },
   "outputs": [],
   "source": [
    "Path source = Paths.get(\"/\", \"home\", \"apohllo\", \"Downloads\", \"output.txt\");\n",
    "\n",
    "InputStream input = Files.newInputStream(source);\n",
    "OutputStream output = Files.newOutputStream(source);"
   ]
  },
  {
   "cell_type": "markdown",
   "metadata": {
    "slideshow": {
     "slide_type": "subslide"
    }
   },
   "source": [
    "# `Path`\n",
    "\n",
    "<img src=\"img/path.jpg\"/>"
   ]
  },
  {
   "cell_type": "code",
   "execution_count": 50,
   "metadata": {
    "slideshow": {
     "slide_type": "subslide"
    }
   },
   "outputs": [],
   "source": [
    "import java.net.*;\n",
    "\n",
    "URI zipFile = URI.create(\"jar:file:/home/apohllo/Downloads/chlopiec.zip\");\n",
    "Map<String, String> env = new HashMap<>();\n",
    "try (FileSystem subSystem = FileSystems.newFileSystem(zipFile, env)) {\n",
    "\n",
    "    Path pathForFile = subSystem.getPath(\"/hello.txt\");\n",
    "    List<String> list = new ArrayList<>();\n",
    "    list.add(\"Ala ma kota w Szczebrzeszynie\");\n",
    "    \n",
    "    Files.write(pathForFile, list, Charset.defaultCharset(),\n",
    "        StandardOpenOption.WRITE, StandardOpenOption.CREATE);\n",
    "} catch (IOException ex) {\n",
    "    System.out.println(\"Problem IO: \" + ex);\n",
    "}"
   ]
  },
  {
   "cell_type": "markdown",
   "metadata": {
    "slideshow": {
     "slide_type": "notes"
    }
   },
   "source": [
    "Path jest abstrakcyjną ścieżką, któ©a nie musi odpowiedać bezpośrednio ścieżce na dysku komputera."
   ]
  },
  {
   "cell_type": "markdown",
   "metadata": {
    "slideshow": {
     "slide_type": "slide"
    }
   },
   "source": [
    "# Asynchroniczne wejście i wyjście"
   ]
  },
  {
   "cell_type": "code",
   "execution_count": 51,
   "metadata": {
    "slideshow": {
     "slide_type": "subslide"
    }
   },
   "outputs": [
    {
     "name": "stdout",
     "output_type": "stream",
     "text": [
      "Liczba wczytanych bajtów 62\n"
     ]
    }
   ],
   "source": [
    "import java.nio.*;\n",
    "import java.nio.channels.*;\n",
    "import java.nio.charset.*;\n",
    "import java.nio.file.*;\n",
    "import java.util.*;\n",
    "import java.io.*;\n",
    "import java.util.concurrent.*;\n",
    "\n",
    "try (AsynchronousFileChannel channel = \n",
    "        AsynchronousFileChannel.open(\n",
    "            Paths.get(\"/home/apohllo/Downloads/output.txt.gz\"))) {\n",
    "            \n",
    "    ByteBuffer buffer = ByteBuffer.allocateDirect(1024 * 1024 * 100); // 100 MB\n",
    "    Future<Integer> result = channel.read(buffer, 0);\n",
    "    \n",
    "    // można wykonać jakieś działania w trakcie wczytywania pliku\n",
    "    \n",
    "    System.out.println(\"Liczba wczytanych bajtów \" + result.get());\n",
    "} catch (IOException ex) {\n",
    "    System.out.println(\"Problem IO: \" + ex);\n",
    "}"
   ]
  },
  {
   "cell_type": "markdown",
   "metadata": {
    "slideshow": {
     "slide_type": "slide"
    }
   },
   "source": [
    "![Pytania? ](http://cliparts.co/cliparts/qcB/jqg/qcBjqgxc5.jpg)"
   ]
  }
 ],
 "metadata": {
  "celltoolbar": "Slideshow",
  "kernelspec": {
   "display_name": "Java",
   "language": "java",
   "name": "java"
  },
  "language_info": {
   "codemirror_mode": "java",
   "file_extension": ".java",
   "mimetype": "text/x-java-source",
   "name": "Java",
   "pygments_lexer": "java",
   "version": "10.0.2+13-Ubuntu-1ubuntu0.18.04.4"
  },
  "toc": {
   "base_numbering": 1,
   "nav_menu": {},
   "number_sections": false,
   "sideBar": true,
   "skip_h1_title": false,
   "title_cell": "Table of Contents",
   "title_sidebar": "Contents",
   "toc_cell": false,
   "toc_position": {},
   "toc_section_display": true,
   "toc_window_display": false
  }
 },
 "nbformat": 4,
 "nbformat_minor": 1
}
