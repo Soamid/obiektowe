{
 "cells": [
  {
   "cell_type": "markdown",
   "metadata": {
    "slideshow": {
     "slide_type": "slide"
    }
   },
   "source": [
    "# Podstawowe typy danych\n",
    "\n",
    "## Typy prymitywne, tablice, łańcuchy znaków oraz typ wyliczeniowy\n",
    "\n",
    "<br/>\n",
    "\n",
    "## dr inż. Aleksander Smywiński-Pohl\n",
    "\n",
    "## apohllo@o2.pl\n",
    "\n",
    "## http://apohllo.pl/dydaktyka/obiektowe"
   ]
  },
  {
   "cell_type": "markdown",
   "metadata": {
    "slideshow": {
     "slide_type": "slide"
    }
   },
   "source": [
    "<img src=\"img/java_log.png\" style=\"height: 600px\" />"
   ]
  },
  {
   "cell_type": "markdown",
   "metadata": {
    "slideshow": {
     "slide_type": "subslide"
    }
   },
   "source": [
    "<img src=\"img/data-types-in-java.jpg\" />"
   ]
  },
  {
   "cell_type": "markdown",
   "metadata": {
    "slideshow": {
     "slide_type": "slide"
    }
   },
   "source": [
    "# Typy prymitywne\n",
    "\n",
    "* `boolean` - wartości `true` i `false`\n",
    "* `char` - pojedyncze znaki z zestawu Unicode\n",
    "* `byte` - jednobajtowa liczba ze znakiem\n",
    "* `short` - dwubajtowa liczba ze znakiem\n",
    "* `int` - czterobajtowa liczba ze znakiem\n",
    "* `long` - ośmiobajtowa liczba ze znakiem\n",
    "* `float` - liczba zmiennopozycyjna, co najmniej 6 cyfr znaczących\n",
    "* `double` - liczba zmiennopozyzyjna, co najmniej 15 cyfr znaczących"
   ]
  },
  {
   "cell_type": "markdown",
   "metadata": {
    "slideshow": {
     "slide_type": "notes"
    }
   },
   "source": [
    "Charakterystyczne jest, że liczby całkowite nie występują w wersji bez znaku. "
   ]
  },
  {
   "cell_type": "markdown",
   "metadata": {
    "slideshow": {
     "slide_type": "subslide"
    }
   },
   "source": [
    "# Typ `boolean`"
   ]
  },
  {
   "cell_type": "markdown",
   "metadata": {},
   "source": [
    "<img src=\"img/true-false.jpeg\" />"
   ]
  },
  {
   "cell_type": "code",
   "execution_count": null,
   "metadata": {
    "slideshow": {
     "slide_type": "fragment"
    }
   },
   "outputs": [],
   "source": [
    "int invalidValue = 1;\n",
    "if(invalidValue) {                                  \n",
    "    System.out.println(\"Wycieraczki są włączone\");\n",
    "} else {\n",
    "    System.out.println(\"Wycieraczki są wyłączone\");\n",
    "}"
   ]
  },
  {
   "cell_type": "code",
   "execution_count": null,
   "metadata": {
    "slideshow": {
     "slide_type": "fragment"
    }
   },
   "outputs": [],
   "source": [
    "boolean wipersOn = true;\n",
    "if(wipersOn) {\n",
    "    System.out.println(\"Wycieraczki są włączone\");\n",
    "} else {\n",
    "    System.out.println(\"Wycieraczki są wyłączone\");\n",
    "}"
   ]
  },
  {
   "cell_type": "markdown",
   "metadata": {
    "slideshow": {
     "slide_type": "notes"
    }
   },
   "source": [
    "Jedyny typ, który może pojawić się w warunku logicznym. Nie ma konwersji między typami liczbowymi a typem logicznym."
   ]
  },
  {
   "cell_type": "markdown",
   "metadata": {
    "slideshow": {
     "slide_type": "subslide"
    }
   },
   "source": [
    "# Typ `char`"
   ]
  },
  {
   "cell_type": "markdown",
   "metadata": {
    "slideshow": {
     "slide_type": "fragment"
    }
   },
   "source": [
    "<img src=\"img/ABC.png\" />"
   ]
  },
  {
   "cell_type": "code",
   "execution_count": null,
   "metadata": {
    "slideshow": {
     "slide_type": "fragment"
    }
   },
   "outputs": [],
   "source": [
    "import static java.lang.System.out;\n",
    "\n",
    "char driverCategory = 'ś'\n",
    "char tick = '\\u2713'\n",
    "out.println(driverCategory);\n",
    "out.println(tick);\n",
    "out.println(Character.isLetter(driverCategory));\n",
    "out.println(Character.isLetter(tick));"
   ]
  },
  {
   "cell_type": "markdown",
   "metadata": {
    "slideshow": {
     "slide_type": "notes"
    }
   },
   "source": [
    "Pojedyncze znaki umieszczane są w pojedynczym cudzysłowie. Wewnętrznie wykorzystywany jest zestaw znaków Unicode.\n",
    "Można wprowadzać znaki bezpośrednio oraz używając składni `\\u....`. Ta druga pozwala wprowadzać dowolny znak należący do zestawu. Znaki nie są obiektami, dlatego nie można wywoływać na nich metod. Żeby testować ich własności konieczne jest wykorzystanie *metod statycznych* klasy `Character`.\n",
    "\n",
    "Dodatkowo w powyższym kodzie dla wygody zaimportowaliśmy pole `out` z klasy `System` dzięki czemu kod stał się nieco krótszy."
   ]
  },
  {
   "cell_type": "markdown",
   "metadata": {
    "slideshow": {
     "slide_type": "subslide"
    }
   },
   "source": [
    "# Typy całkowitoliczbowe: `byte`, `short`, `int` oraz `long`"
   ]
  },
  {
   "cell_type": "markdown",
   "metadata": {
    "slideshow": {
     "slide_type": "fragment"
    }
   },
   "source": [
    "<img src=\"img/123.jpg\" />"
   ]
  },
  {
   "cell_type": "code",
   "execution_count": null,
   "metadata": {
    "slideshow": {
     "slide_type": "fragment"
    }
   },
   "outputs": [],
   "source": [
    "int a = 10;\n",
    "int b = 20;\n",
    "long c = a + b;\n",
    "short d = a + b;\n",
    "short e = (short) (a + b);"
   ]
  },
  {
   "cell_type": "code",
   "execution_count": null,
   "metadata": {
    "slideshow": {
     "slide_type": "fragment"
    }
   },
   "outputs": [],
   "source": [
    "int a = 10;\n",
    "int b = 20;\n",
    "if(Short.MAX_VALUE > a + b){\n",
    "    e = (short) (a + b);\n",
    "}\n",
    "byte f = 127;\n",
    "byte g = 127;\n",
    "byte h = (byte) (f + g);"
   ]
  },
  {
   "cell_type": "markdown",
   "metadata": {
    "slideshow": {
     "slide_type": "notes"
    }
   },
   "source": [
    "W typach całkowitoliczbowych mamy do czynienia z *automatyczną promocją typu*. Polega ona na tym, że wartość typu o mniejszym zakresie może być przypisana do zmiennej typu o szerszym zakresie. Działanie w drugą stronę nie może być wykonane niejawnie - konieczne jest *rzutowanie* wartości. Oczywiście taka operacja jest ryzykowna i powinna być ograniczona odpowiednim warunkiem. Przekroczenie wartości maksymalnej nie jest sygnalizowane w żaden sposób. Wartość jest obcinana do bitów, które mieszczą się w danej reprezentacji."
   ]
  },
  {
   "cell_type": "markdown",
   "metadata": {
    "slideshow": {
     "slide_type": "subslide"
    }
   },
   "source": [
    "# Typy zmiennopozycyjne `float` i `double`"
   ]
  },
  {
   "cell_type": "markdown",
   "metadata": {
    "slideshow": {
     "slide_type": "fragment"
    }
   },
   "source": [
    "<img src=\"img/float.jpeg\" />"
   ]
  },
  {
   "cell_type": "code",
   "execution_count": null,
   "metadata": {
    "slideshow": {
     "slide_type": "fragment"
    }
   },
   "outputs": [],
   "source": [
    "import static java.lang.System.out;\n",
    "\n",
    "int a = 0;\n",
    "float b = 0.0f;\n",
    "\n",
    "if(a == b){\n",
    "    out.println(\"Wartości są identyczne\");\n",
    "}"
   ]
  },
  {
   "cell_type": "code",
   "execution_count": null,
   "metadata": {
    "slideshow": {
     "slide_type": "subslide"
    }
   },
   "outputs": [],
   "source": [
    "double EPSILON = 1e-5;\n",
    "int a = 0;\n",
    "float b = 0.0f;\n",
    "\n",
    "if(Math.abs(a - b) < EPSILON){\n",
    "    out.println(\"Wartości są prawie identyczne\");\n",
    "}"
   ]
  },
  {
   "cell_type": "code",
   "execution_count": null,
   "metadata": {
    "slideshow": {
     "slide_type": "fragment"
    }
   },
   "outputs": [],
   "source": [
    "float a = 0.0f;\n",
    "float b = 0.001f;\n",
    "for(int i=0; i < 1000; i++){\n",
    "    a += b;\n",
    "}\n",
    "if(a == 1.0){\n",
    "    out.println(\"Wartości są identyczne\");\n",
    "} else {\n",
    "    out.println(\"Wartości nie są identyczne\");\n",
    "}"
   ]
  },
  {
   "cell_type": "markdown",
   "metadata": {
    "slideshow": {
     "slide_type": "notes"
    }
   },
   "source": [
    "Wartości zmiennopozycyjne można zapisywać w notacji \"tradycyjne\" oraz \"inżynierskiej\" (z \"e\", który określa wykładnik potęgi o podstawie 10, do której podnoszona jest wartość).\n",
    "Pomimo różnicy typu, porównywane wartości są identyczne. W praktyce jednak należy korzystać z drugiego sposobu, zawsze kiedy mamy do czynienia z wartościami zmiennoprzecinkowymi."
   ]
  },
  {
   "cell_type": "markdown",
   "metadata": {
    "slideshow": {
     "slide_type": "subslide"
    }
   },
   "source": [
    "# Typy otokowe\n",
    "\n",
    "* Boolean\n",
    "* Byte\n",
    "* Short\n",
    "* Character\n",
    "* Integer\n",
    "* Long\n",
    "* Float\n",
    "* Double"
   ]
  },
  {
   "cell_type": "markdown",
   "metadata": {
    "slideshow": {
     "slide_type": "fragment"
    }
   },
   "source": [
    "<img src=\"img/number_in_box.jpg\" />"
   ]
  },
  {
   "cell_type": "markdown",
   "metadata": {
    "slideshow": {
     "slide_type": "notes"
    }
   },
   "source": [
    "Opakowują typu prymitywne"
   ]
  },
  {
   "cell_type": "code",
   "execution_count": null,
   "metadata": {
    "slideshow": {
     "slide_type": "subslide"
    }
   },
   "outputs": [],
   "source": [
    "Integer a = new Integer(10);\n",
    "Integer b = new Integer(20);\n",
    "Integer c = a + b;\n",
    "out.println(c.toString());"
   ]
  },
  {
   "cell_type": "code",
   "execution_count": null,
   "metadata": {
    "slideshow": {
     "slide_type": "fragment"
    }
   },
   "outputs": [],
   "source": [
    "int d = 30;\n",
    "out.println(d.toString());"
   ]
  },
  {
   "cell_type": "markdown",
   "metadata": {
    "collapsed": true,
    "slideshow": {
     "slide_type": "notes"
    }
   },
   "source": [
    "No typach prymitywnych nie można wywoływać metod."
   ]
  },
  {
   "cell_type": "markdown",
   "metadata": {
    "slideshow": {
     "slide_type": "subslide"
    }
   },
   "source": [
    "# Zastosowanie typów otokowych"
   ]
  },
  {
   "cell_type": "code",
   "execution_count": null,
   "metadata": {
    "slideshow": {
     "slide_type": "fragment"
    }
   },
   "outputs": [],
   "source": [
    "List<Integer> list = new LinkedList<Integer>();\n",
    "list.add(new Integer(10));\n",
    "list.add(new Integer(20));\n",
    "\n",
    "out.println(list);"
   ]
  },
  {
   "cell_type": "code",
   "execution_count": null,
   "metadata": {
    "slideshow": {
     "slide_type": "fragment"
    }
   },
   "outputs": [],
   "source": [
    "// Autoboxing\n",
    "\n",
    "List<Integer> list = new LinkedList<Integer>();\n",
    "\n",
    "list.add(30);\n",
    "list.add(40);\n",
    "\n",
    "out.println(list);"
   ]
  },
  {
   "cell_type": "markdown",
   "metadata": {
    "slideshow": {
     "slide_type": "subslide"
    }
   },
   "source": [
    "# Porównywanie typów otokowych"
   ]
  },
  {
   "cell_type": "code",
   "execution_count": null,
   "metadata": {
    "slideshow": {
     "slide_type": "fragment"
    }
   },
   "outputs": [],
   "source": [
    "Integer a = 200;\n",
    "Integer b = 200;\n",
    "if(a == b){ \n",
    "    out.println(\"Wartości są równe\");\n",
    "} else {\n",
    "    out.println(\"Wartości nie są równe\");\n",
    "}"
   ]
  },
  {
   "cell_type": "code",
   "execution_count": null,
   "metadata": {
    "slideshow": {
     "slide_type": "fragment"
    }
   },
   "outputs": [],
   "source": [
    "Integer a = 200;\n",
    "Integer b = 200;\n",
    "if(a.equals(b)){ \n",
    "    out.println(\"Wartości są równe\");\n",
    "} else {\n",
    "    out.println(\"Wartości nie są równe\");\n",
    "}"
   ]
  },
  {
   "cell_type": "markdown",
   "metadata": {
    "slideshow": {
     "slide_type": "slide"
    }
   },
   "source": [
    "# Typ tablicowy"
   ]
  },
  {
   "cell_type": "markdown",
   "metadata": {
    "slideshow": {
     "slide_type": "fragment"
    }
   },
   "source": [
    "<img src=\"img/array.jpg\" />"
   ]
  },
  {
   "cell_type": "code",
   "execution_count": null,
   "metadata": {
    "slideshow": {
     "slide_type": "subslide"
    }
   },
   "outputs": [],
   "source": [
    "import static java.lang.System.out;\n",
    "\n",
    "int[] speedVector = new int[3];\n",
    "speedVector[0] = 10;\n",
    "speedVector[2] = -3;\n",
    "\n",
    "for(int i = 0; i < 4; i++){\n",
    "    out.println(\"Składowa \" + (i + 1) + \" wektora wynosi: \" + speedVector[i]);\n",
    "}"
   ]
  },
  {
   "cell_type": "markdown",
   "metadata": {
    "slideshow": {
     "slide_type": "notes"
    }
   },
   "source": [
    "Tablice mogą składać się z elementów typów prymitywnych oraz obiektów. Tablice są obiektami, zatem tworzy się je za pomocą słowa kluczowego `new`. W trakcie inicjacji trzeba określić rozmiar tablicy i jest on niezmienny przez cały czas działania programu. Dostęp do składowych odbywa się analogicznie jak w języku C. Niezainicjowane wartości mają przypisaną wartość domyślną (np. 0 dla typów całkowitych). Przekroczenie zakresu skutkuje wystąpieniem wyjątku `ArrayIndexOutOfBoundsException`. Nie ma więc niebezpieczeństwa odczytu wartości spoza dopuszczalnego zakresu. "
   ]
  },
  {
   "cell_type": "markdown",
   "metadata": {
    "slideshow": {
     "slide_type": "subslide"
    }
   },
   "source": [
    "# Typ tablicowy - obiekty"
   ]
  },
  {
   "cell_type": "code",
   "execution_count": null,
   "metadata": {
    "slideshow": {
     "slide_type": "fragment"
    }
   },
   "outputs": [],
   "source": [
    "class Speed {\n",
    "    public int value;\n",
    "    public String unit;\n",
    "\n",
    "    public Speed(int value, String unit){\n",
    "        this.value = value;\n",
    "        this.unit = unit;\n",
    "    }\n",
    "}"
   ]
  },
  {
   "cell_type": "markdown",
   "metadata": {
    "slideshow": {
     "slide_type": "notes"
    }
   },
   "source": [
    "Klasa `Speed` będzie wykorzystywana jeszcze w dalej - wrócimy do niej na kolejnym wykładzie. "
   ]
  },
  {
   "cell_type": "markdown",
   "metadata": {
    "slideshow": {
     "slide_type": "subslide"
    }
   },
   "source": [
    "# Typ tablicowy - obiekty"
   ]
  },
  {
   "cell_type": "code",
   "execution_count": null,
   "metadata": {
    "slideshow": {
     "slide_type": "fragment"
    }
   },
   "outputs": [],
   "source": [
    "import static java.lang.System.out;\n",
    "\n",
    "Speed[] speedVector = new Speed[3];\n",
    "speedVector[0] = new Speed(10, \"km/h\");\n",
    "speedVector[1] = new Speed(-3, \"km/h\");\n",
    "\n",
    "for(int i = 0; i < 3; i++){\n",
    "    out.println(\"Składowa \" + (i + 1) + \" wektora wynosi: \" + \n",
    "        speedVector[i].value + \" \" + speedVector[i].unit);\n",
    "}"
   ]
  },
  {
   "cell_type": "markdown",
   "metadata": {
    "slideshow": {
     "slide_type": "notes"
    }
   },
   "source": [
    "Tablica typu referencyjnego również jest inicjowana - ale specjalną wartością pustą `null`. Jeśli jakiś element nie zostanie zainicjowany (tutaj element o indeksie 2), to ma on wartość `null`. Próba odczytania wartości takiego obiektu skutkuje wystąpieniem wyjątku `NullPointerException`.  Jest to najczęstszy *wyjątek*, z którym ma do czynienia każdy programista Javy."
   ]
  },
  {
   "cell_type": "markdown",
   "metadata": {
    "slideshow": {
     "slide_type": "subslide"
    }
   },
   "source": [
    "# Zabezpieczenie przed wyjątkiem `NullPointerException`"
   ]
  },
  {
   "cell_type": "code",
   "execution_count": null,
   "metadata": {
    "slideshow": {
     "slide_type": "fragment"
    }
   },
   "outputs": [],
   "source": [
    "import static java.lang.System.out;\n",
    "\n",
    "Speed[] speedVector = new Speed[3];\n",
    "speedVector[0] = new Speed(10, \"km/h\");\n",
    "speedVector[1] = new Speed(-3, \"km/h\");\n",
    "\n",
    "for(int i = 0; i < 3; i++){\n",
    "    if(speedVector[i] == null) {\n",
    "        out.println(\"Składowa \" + (i + 1) + \" wektora jest pusta\");\n",
    "    } else {\n",
    "        out.println(\"Składowa \" + (i + 1) + \" wektora wynosi: \" + \n",
    "            speedVector[i].value + \" \" + speedVector[i].unit);\n",
    "    }\n",
    "}"
   ]
  },
  {
   "cell_type": "markdown",
   "metadata": {
    "slideshow": {
     "slide_type": "notes"
    }
   },
   "source": [
    "Możemy np. porównać wartość, którą chcemy wykorzystać z wartością pustą za pomocą operatora `==`. Jeśli wartość jest pusta możemy na przykład poinformować o tym użytkownika. Oczywiście właściwe rozwiązanie będzie zależało od pisanej aplikacji. Czasami wartość pusta oznacza błąd w kodzie programu, który musimy naprawić. Zasadniczo warto sprawdzać niepustość zmiennych referenyjnych, gdyż może to istotnie poprawić odporność naszego kodu na błędy. Ponadto każdy komunikat jest lepszy niż niewiele mówicy wyjątek `NullPointerException`. Więcej na ten temat zostanie przedstawione na wykładzie dotyczącym wyjątków."
   ]
  },
  {
   "cell_type": "markdown",
   "metadata": {
    "slideshow": {
     "slide_type": "subslide"
    }
   },
   "source": [
    "# Alternatywna pętla for"
   ]
  },
  {
   "cell_type": "code",
   "execution_count": null,
   "metadata": {
    "slideshow": {
     "slide_type": "fragment"
    }
   },
   "outputs": [],
   "source": [
    "import static java.lang.System.out;\n",
    "\n",
    "Speed[] speedVector = new Speed[3];\n",
    "speedVector[0] = new Speed(10, \"km/h\");\n",
    "speedVector[1] = new Speed(-3, \"km/h\");\n",
    "\n",
    "for(Speed element : speedVector){\n",
    "    if(element == null) {\n",
    "        out.println(\"Składowa wektora jest pusta\");\n",
    "    } else {\n",
    "        out.println(\"Składowa wektora wynosi: \" + \n",
    "            element.value + \" \" + element.unit);\n",
    "    }\n",
    "}"
   ]
  },
  {
   "cell_type": "markdown",
   "metadata": {
    "slideshow": {
     "slide_type": "notes"
    }
   },
   "source": [
    "Java posiada alternatywną składnię dla pętli `for`, która pozwala na wygodniejsze iterowanie po elementach talic (i nie tylko tablic). Charakterystycznym elementem tej składni jest to, że wykorzystuje ona zmienną lokalną i przypisuje do niej kolejne wartości znajdujące się w tablicy. Niestety w typ przypadku nie mamy dostępu do indeksu elementu."
   ]
  },
  {
   "cell_type": "markdown",
   "metadata": {
    "slideshow": {
     "slide_type": "subslide"
    }
   },
   "source": [
    "# Porównywanie tablic"
   ]
  },
  {
   "cell_type": "code",
   "execution_count": null,
   "metadata": {
    "slideshow": {
     "slide_type": "fragment"
    }
   },
   "outputs": [],
   "source": [
    "import static java.lang.System.out;\n",
    "\n",
    "int[] speedVector1 = { 10, -3, 0 };\n",
    "int[] speedVector2 = { 10, -3, 0 };\n",
    "\n",
    "if(speedVector1 == speedVector2){\n",
    "    out.println(\"Wektory są równe\");\n",
    "} else {\n",
    "    out.println(\"Wektory nie są równe\");\n",
    "}"
   ]
  },
  {
   "cell_type": "code",
   "execution_count": null,
   "metadata": {
    "slideshow": {
     "slide_type": "fragment"
    }
   },
   "outputs": [],
   "source": [
    "int[] speedVector1 = { 10, -3, 0 }\n",
    "int[] speedVector2 = { 10, -3, 0 }\n",
    "if(speedVector1.equals(speedVector2)){\n",
    "    out.println(\"Wektory są równe\");\n",
    "} else {\n",
    "    out.println(\"Wektory nie są równe\");\n",
    "}"
   ]
  },
  {
   "cell_type": "code",
   "execution_count": null,
   "metadata": {
    "slideshow": {
     "slide_type": "fragment"
    }
   },
   "outputs": [],
   "source": [
    "if(Arrays.equals(speedVector1, speedVector2)){\n",
    "    out.println(\"Wektory są równe\");\n",
    "} else {\n",
    "    out.println(\"Wektory nie są równe\");\n",
    "}"
   ]
  },
  {
   "cell_type": "markdown",
   "metadata": {
    "slideshow": {
     "slide_type": "notes"
    }
   },
   "source": [
    "Wartości typów prostych porównuje się za pomocą operatora `==`, natomiast wartości typów referencyjnych za pomocą metody `equals` (o ile została ona zaimplementowana). Niestety w przypadku tablic musimy skorzystać z zewnętrznej funkcji `equals`, która najduje się w klasie pomocniczej `Arrays`."
   ]
  },
  {
   "cell_type": "markdown",
   "metadata": {
    "slideshow": {
     "slide_type": "subslide"
    }
   },
   "source": [
    "# Sortowanie i wypisywanie tablic"
   ]
  },
  {
   "cell_type": "code",
   "execution_count": null,
   "metadata": {
    "slideshow": {
     "slide_type": "fragment"
    }
   },
   "outputs": [],
   "source": [
    "import static java.lang.System.out;\n",
    "\n",
    "int[] vector = { 7, 15, 10, -3, 9, 12}\n",
    "Arrays.sort(vector);\n",
    "out.println(vector.toString());\n",
    "out.println(Arrays.toString(vector));"
   ]
  },
  {
   "cell_type": "markdown",
   "metadata": {
    "slideshow": {
     "slide_type": "notes"
    }
   },
   "source": [
    "Klasa `Array` również nie ma zaimplementowanej metody `sort`, a metoda `toString` daje wynik, który jest mało zadowalający. W obu przypadkach konieczne jest wykorzystanie zewnętrznych procedur pomocniczych zdefiniowanych w klasie `Arrays`."
   ]
  },
  {
   "cell_type": "markdown",
   "metadata": {
    "slideshow": {
     "slide_type": "slide"
    }
   },
   "source": [
    "# Tablice wielowymiarowe"
   ]
  },
  {
   "cell_type": "markdown",
   "metadata": {
    "slideshow": {
     "slide_type": "fragment"
    }
   },
   "source": [
    "<img src=\"img/stitch.jpg\" />"
   ]
  },
  {
   "cell_type": "code",
   "execution_count": null,
   "metadata": {
    "slideshow": {
     "slide_type": "fragment"
    }
   },
   "outputs": [],
   "source": [
    "int[][] matrix1 = new int[10][10];\n",
    "out.println(matrix1[0][0]);"
   ]
  },
  {
   "cell_type": "code",
   "execution_count": null,
   "metadata": {
    "slideshow": {
     "slide_type": "fragment"
    }
   },
   "outputs": [],
   "source": [
    "int[][] matrix2 = new int[10][];\n",
    "out.println(matrix2[0][0]);\n",
    "\n",
    "for(int i = 0; i < 10; i++){\n",
    "    matrix2[i] = new int[10];\n",
    "}\n",
    "out.println(matrix2[0][0]);"
   ]
  },
  {
   "cell_type": "markdown",
   "metadata": {
    "slideshow": {
     "slide_type": "notes"
    }
   },
   "source": [
    "Tablice wielowymiarowe można inicjować na dwa sposoby: albo podając od razu wszystkie wymiary, albo podając jedynie n-pierwszych wymiarów. W pierwszym przypadku otrzymujemy tablicę zainicjowaną wartościami domyślnymi dla danego typu. W drugim przypadku zainicjowanych jest tylko n-pierwszych wymiarów i w takiej tablicy występują wartości `null`. Dlatego trzeba \"ręcznie\" zainicjować pozostałe wymiary."
   ]
  },
  {
   "cell_type": "markdown",
   "metadata": {
    "slideshow": {
     "slide_type": "subslide"
    }
   },
   "source": [
    "# Porównywanie i wyświetlanie tablic wielowymiarowych"
   ]
  },
  {
   "cell_type": "code",
   "execution_count": null,
   "metadata": {
    "slideshow": {
     "slide_type": "fragment"
    }
   },
   "outputs": [],
   "source": [
    "import static java.lang.System.out;\n",
    "\n",
    "int[][] matrix1 = { {1, 2}, \n",
    "                    {3, 4} };\n",
    "int[][] matrix2 = { {1, 2}, \n",
    "                    {3, 4} }\n",
    "               \n",
    "out.println(Arrays.toString(matrix1));"
   ]
  },
  {
   "cell_type": "code",
   "execution_count": null,
   "metadata": {
    "slideshow": {
     "slide_type": "fragment"
    }
   },
   "outputs": [],
   "source": [
    "out.println(Arrays.deepToString(matrix1));"
   ]
  },
  {
   "cell_type": "code",
   "execution_count": null,
   "metadata": {
    "slideshow": {
     "slide_type": "fragment"
    }
   },
   "outputs": [],
   "source": [
    "if(Arrays.equals(matrix1,matrix2)){\n",
    "    out.println(\"Tablice są równe\");\n",
    "} else {\n",
    "    out.println(\"Tablice **nie** są równe\");\n",
    "}"
   ]
  },
  {
   "cell_type": "code",
   "execution_count": null,
   "metadata": {
    "slideshow": {
     "slide_type": "fragment"
    }
   },
   "outputs": [],
   "source": [
    "if(Arrays.deepEquals(matrix1,matrix2)){\n",
    "    out.println(\"Tablice są równe\");\n",
    "} else {\n",
    "    out.println(\"Tablice **nie** są równe\");\n",
    "}"
   ]
  },
  {
   "cell_type": "markdown",
   "metadata": {
    "slideshow": {
     "slide_type": "notes"
    }
   },
   "source": [
    "Niestety metody `Arrays.toString()` oraz `Arrays.equals()` nie działają na tablicach wielowymiarowych. Konieczne jest wykorzystanie wersji `deepToString()` oraz `deepEquals`."
   ]
  },
  {
   "cell_type": "markdown",
   "metadata": {
    "slideshow": {
     "slide_type": "slide"
    }
   },
   "source": [
    "# Łańcuchy znaków"
   ]
  },
  {
   "cell_type": "code",
   "execution_count": null,
   "metadata": {
    "slideshow": {
     "slide_type": "fragment"
    }
   },
   "outputs": [],
   "source": [
    "import static java.lang.System.out;\n",
    "\n",
    "String unit1 = \"km/h\";\n",
    "String unit2 = \"km/h\";\n",
    "String letter = \"h\";\n",
    "String unit3 = \"km/\"  + letter;\n",
    "\n",
    "if(unit1 == unit2){\n",
    "    out.println(\"Jednostki są równe\");\n",
    "} else {\n",
    "    out.println(\"Jednostki **nie** są równe\");\n",
    "}"
   ]
  },
  {
   "cell_type": "code",
   "execution_count": null,
   "metadata": {
    "slideshow": {
     "slide_type": "fragment"
    }
   },
   "outputs": [],
   "source": [
    "if(unit1 == unit3){\n",
    "    out.println(\"Jednostki są równe\");\n",
    "} else {\n",
    "    out.println(\"Jednostki **nie** są równe\");\n",
    "}"
   ]
  },
  {
   "cell_type": "code",
   "execution_count": null,
   "metadata": {
    "slideshow": {
     "slide_type": "fragment"
    }
   },
   "outputs": [],
   "source": [
    "if(unit1.equals(unit3)){\n",
    "    out.println(\"Jednostki są równe\");\n",
    "} else {\n",
    "    out.println(\"Jednostki **nie** są równe\");\n",
    "}"
   ]
  },
  {
   "cell_type": "markdown",
   "metadata": {
    "slideshow": {
     "slide_type": "notes"
    }
   },
   "source": [
    "Hmm, to jest bardzo piękny przykład. Zasadniczo łańcuchy znaków zawsze porównujemy za pomocą metody `equals`. Ale pokazanie dlaczego jest to konieczne nie jest zbyt proste. W pierwszym przypadku mamy dwie zmienne, które wskazują na dokładnie ten sam obiekt, ponieważ na etapie kompilacji oba łańcuchy są identyczne i Java optymalizuje ten przypadek tak, by zajmowane było mniej pamięci. Natomiast trzeci łańcuch jest konstruowany w trakcie wykonania programu. Dlatego jest on osobnym obiektem i porównanie `==` daje w wyniku `false`. Podsumowując - do porównywania obiektów (z wyjątkiem tablic) używamy zawsze metody `equals`."
   ]
  },
  {
   "cell_type": "markdown",
   "metadata": {
    "slideshow": {
     "slide_type": "subslide"
    }
   },
   "source": [
    "# Modyfikacja łańcuchów"
   ]
  },
  {
   "cell_type": "code",
   "execution_count": null,
   "metadata": {
    "slideshow": {
     "slide_type": "fragment"
    }
   },
   "outputs": [],
   "source": [
    "import static java.lang.System.out;\n",
    "\n",
    "String km = \"km\";\n",
    "String divider = \"/\";\n",
    "String hour = \"h\";\n",
    "\n",
    "String unit1 = \"\";\n",
    "String unit2 = unit1;\n",
    "unit1 += km;\n",
    "unit1 += divider;\n",
    "unit1 += hour;"
   ]
  },
  {
   "cell_type": "code",
   "execution_count": null,
   "metadata": {
    "slideshow": {
     "slide_type": "fragment"
    }
   },
   "outputs": [],
   "source": [
    "if(unit1 != unit2){\n",
    "    out.println(\"Łańcuchy nie są równe\");\n",
    "}"
   ]
  },
  {
   "cell_type": "markdown",
   "metadata": {
    "slideshow": {
     "slide_type": "notes"
    }
   },
   "source": [
    "Łańcuchy można \"modyfikować\", za pomocą operatora konkatenacji, ale w praktyce, ponieważ w Javie łańcuchy są niezmienne, oznacza to zawsze utworzenie nowego łańcucha. Z tego względu jeśli łańcuch jest wielokrotnie modyfikowany, to powstaje wiele obiektów, które muszą być obsłużone przez Garbage collectora (śmieciarza). Ponadto tak \"zmodyfikowany\" łańcych nie równa się (w sensie referencji) oryginalnemu łańcuchowi."
   ]
  },
  {
   "cell_type": "code",
   "execution_count": null,
   "metadata": {
    "slideshow": {
     "slide_type": "subslide"
    }
   },
   "outputs": [],
   "source": [
    "import static java.lang.System.out;\n",
    "\n",
    "String km = \"km\";\n",
    "String divider = \"/\";\n",
    "String hour = \"h\";\n",
    "\n",
    "StringBuilder builder1 = new StringBuilder();\n",
    "StringBuilder builder2 = builder1;\n",
    "builder1.append(km);\n",
    "builder1.append(divider);\n",
    "builder1.append(hour);"
   ]
  },
  {
   "cell_type": "code",
   "execution_count": null,
   "metadata": {
    "slideshow": {
     "slide_type": "fragment"
    }
   },
   "outputs": [],
   "source": [
    "if(builder1 == builder2){\n",
    "    out.println(\"Budowniczowie łańcuchów są równi\");\n",
    "}\n",
    "\n",
    "builder1.toString();"
   ]
  },
  {
   "cell_type": "markdown",
   "metadata": {
    "slideshow": {
     "slide_type": "notes"
    }
   },
   "source": [
    "W sytuacji modyfikowania (budowania) łańcucha lepiej wykorzystać klasę `StringBuilder`. Dzięki metodzie `append` można doklejać kolejne fragmenty, co jest znacznie bardziej wydajne, a ponadto oryginalny budwoniczy jest tożsamy z budowniczym po modyfikacjach. Aby uzuskać efekt końcowy trzeba wywołać metodę `toString()`. Metoda ta jest zdefiniowana dla wszystkich klas i jej celem jest uzyskanie reprezentacji obiektu w postaci łańcucha znaków. Dzięki temu można np. wyświetlić go w konsoli."
   ]
  },
  {
   "cell_type": "markdown",
   "metadata": {
    "slideshow": {
     "slide_type": "slide"
    }
   },
   "source": [
    "# Typ wyliczeniowy"
   ]
  },
  {
   "cell_type": "code",
   "execution_count": null,
   "metadata": {
    "slideshow": {
     "slide_type": "fragment"
    }
   },
   "outputs": [],
   "source": [
    "import static java.lang.System.out;\n",
    "\n",
    "enum Color {\n",
    "    Red,\n",
    "    Green,\n",
    "    Blue\n",
    "}\n",
    "\n",
    "Color carColor = Color.Green;\n",
    "out.println(carColor.name());\n",
    "out.println(carColor.ordinal());\n",
    "out.println(Arrays.toString(Color.values()));"
   ]
  },
  {
   "cell_type": "markdown",
   "metadata": {
    "slideshow": {
     "slide_type": "notes"
    }
   },
   "source": [
    "Typ wyliczeniowy jest wykorzystywany do definiowania wartości, które należą do niewielkiego zbioru. Należy pamietać, że nowe wartości mogą być dodawane na końcu - w przeciwnym razie wartości liczbowe odpowiadające nazwom zostaną zmienione."
   ]
  },
  {
   "cell_type": "markdown",
   "metadata": {
    "slideshow": {
     "slide_type": "subslide"
    }
   },
   "source": [
    "# Instrukcja selekcji i typ wyliczeniowy"
   ]
  },
  {
   "cell_type": "code",
   "execution_count": null,
   "metadata": {
    "slideshow": {
     "slide_type": "fragment"
    }
   },
   "outputs": [],
   "source": [
    "import static java.lang.System.out;\n",
    "\n",
    "Color carColor = Color.Green;\n",
    "\n",
    "switch(carColor){\n",
    "    case Red:\n",
    "        out.println(\"Jesteś strażakiem?\");\n",
    "        break;\n",
    "    case Green:\n",
    "        out.println(\"Łatwo ukryć go w lesie\");\n",
    "        break;\n",
    "    case Blue:\n",
    "        out.println(\"Pracujesz w policji?\");\n",
    "        break;\n",
    "}"
   ]
  },
  {
   "cell_type": "markdown",
   "metadata": {
    "slideshow": {
     "slide_type": "notes"
    }
   },
   "source": [
    "Instrukcja może być wygenerowane przez IDE."
   ]
  },
  {
   "cell_type": "markdown",
   "metadata": {
    "slideshow": {
     "slide_type": "subslide"
    }
   },
   "source": [
    "# Instrukcja selekcji i łańcuchy znaków"
   ]
  },
  {
   "cell_type": "code",
   "execution_count": null,
   "metadata": {
    "slideshow": {
     "slide_type": "fragment"
    }
   },
   "outputs": [],
   "source": [
    "String color = \"red\";\n",
    "\n",
    "switch(color){\n",
    "    case \"red\":\n",
    "        out.println(\"Jesteś strażakiem?\");\n",
    "        break;\n",
    "    case \"green\":\n",
    "        out.println(\"Łatwo ukryć go w lesie\");\n",
    "        break;\n",
    "    case \"blue\":\n",
    "        out.println(\"Pracujesz w policji?\");\n",
    "        break;\n",
    "}"
   ]
  },
  {
   "cell_type": "markdown",
   "metadata": {
    "slideshow": {
     "slide_type": "notes"
    }
   },
   "source": [
    "Od Javy 7."
   ]
  },
  {
   "cell_type": "markdown",
   "metadata": {
    "slideshow": {
     "slide_type": "subslide"
    }
   },
   "source": [
    "# Porównywanie wartości typu wyliczeniowego"
   ]
  },
  {
   "cell_type": "code",
   "execution_count": null,
   "metadata": {
    "slideshow": {
     "slide_type": "fragment"
    }
   },
   "outputs": [],
   "source": [
    "Color color1 = Color.Red;\n",
    "Color color2 = Color.Red;\n",
    "\n",
    "if(color1 == color2){\n",
    "    out.println(\"Kolory są równe\");\n",
    "}"
   ]
  },
  {
   "cell_type": "markdown",
   "metadata": {
    "slideshow": {
     "slide_type": "slide"
    }
   },
   "source": [
    "<img src=\"img/ruby-horizontal.svg\" style=\"width: 800px\" />"
   ]
  },
  {
   "cell_type": "markdown",
   "metadata": {
    "slideshow": {
     "slide_type": "slide"
    }
   },
   "source": [
    "# Typ logiczny w Rubim"
   ]
  },
  {
   "cell_type": "code",
   "execution_count": null,
   "metadata": {
    "slideshow": {
     "slide_type": "fragment"
    }
   },
   "outputs": [],
   "source": [
    "#!ruby\n",
    "# encoding: utf-8\n",
    "\n",
    "if(nil)\n",
    "  puts \"Nil jest prawdą\"\n",
    "else\n",
    "  puts \"Nil jest fałszem\"\n",
    "end\n",
    "  \n",
    "if(false)\n",
    "  puts \"Fałsz jest prawdą\"\n",
    "else\n",
    "  puts \"Fałsz jest fałszem\"\n",
    "end"
   ]
  },
  {
   "cell_type": "code",
   "execution_count": null,
   "metadata": {
    "slideshow": {
     "slide_type": "subslide"
    }
   },
   "outputs": [],
   "source": [
    "# encoding: utf-8\n",
    "\n",
    "if(true)\n",
    "  puts \"Prawda jest prawdą\"\n",
    "end\n",
    "  \n",
    "if(\"false\")\n",
    "  puts \"Łańcuch 'false' jest prawdą\"\n",
    "end\n",
    "  \n",
    "if(0)\n",
    "  puts \"Zero jest prawdą\"\n",
    "end"
   ]
  },
  {
   "cell_type": "code",
   "execution_count": null,
   "metadata": {
    "slideshow": {
     "slide_type": "fragment"
    }
   },
   "outputs": [],
   "source": [
    "puts(true.to_s)"
   ]
  },
  {
   "cell_type": "markdown",
   "metadata": {
    "slideshow": {
     "slide_type": "slide"
    }
   },
   "source": [
    "# Wartości liczbowe"
   ]
  },
  {
   "cell_type": "code",
   "execution_count": null,
   "metadata": {
    "slideshow": {
     "slide_type": "fragment"
    }
   },
   "outputs": [],
   "source": [
    "puts 100 ** 1000"
   ]
  },
  {
   "cell_type": "code",
   "execution_count": null,
   "metadata": {
    "slideshow": {
     "slide_type": "fragment"
    }
   },
   "outputs": [],
   "source": [
    "p 100 / 9\n",
    "p 100 / 9.0"
   ]
  },
  {
   "cell_type": "code",
   "execution_count": null,
   "metadata": {
    "slideshow": {
     "slide_type": "fragment"
    }
   },
   "outputs": [],
   "source": [
    "10.times { puts \"x\" }"
   ]
  },
  {
   "cell_type": "code",
   "execution_count": null,
   "metadata": {
    "slideshow": {
     "slide_type": "subslide"
    }
   },
   "outputs": [],
   "source": [
    "p 10.to_s"
   ]
  },
  {
   "cell_type": "code",
   "execution_count": null,
   "metadata": {
    "slideshow": {
     "slide_type": "fragment"
    }
   },
   "outputs": [],
   "source": [
    "p \"10\".to_i\n",
    "p \"10\".to_i(2)"
   ]
  },
  {
   "cell_type": "code",
   "execution_count": null,
   "metadata": {
    "slideshow": {
     "slide_type": "fragment"
    }
   },
   "outputs": [],
   "source": [
    "p 10 + 2 * 3\n",
    "p 10.+(2.*(3))"
   ]
  },
  {
   "cell_type": "markdown",
   "metadata": {
    "slideshow": {
     "slide_type": "slide"
    }
   },
   "source": [
    "# Tablice"
   ]
  },
  {
   "cell_type": "code",
   "execution_count": null,
   "metadata": {
    "slideshow": {
     "slide_type": "fragment"
    }
   },
   "outputs": [],
   "source": [
    "a = [1,2,3]\n",
    "p a[0]\n",
    "p a[0..1]\n",
    "p a[0...1]\n",
    "p a[-2..-1]"
   ]
  },
  {
   "cell_type": "code",
   "execution_count": null,
   "metadata": {
    "slideshow": {
     "slide_type": "fragment"
    }
   },
   "outputs": [],
   "source": [
    "b = [\"a\", nil, 3]\n",
    "puts b\n",
    "p(b)"
   ]
  },
  {
   "cell_type": "code",
   "execution_count": null,
   "metadata": {
    "slideshow": {
     "slide_type": "fragment"
    }
   },
   "outputs": [],
   "source": [
    "c = [3, 7, 0, -10, 11, 1.1]\n",
    "p(c.sort)"
   ]
  },
  {
   "cell_type": "code",
   "execution_count": null,
   "metadata": {
    "slideshow": {
     "slide_type": "subslide"
    }
   },
   "outputs": [],
   "source": [
    "d = Array.new(10, 1)\n",
    "p(d)"
   ]
  },
  {
   "cell_type": "markdown",
   "metadata": {
    "slideshow": {
     "slide_type": "slide"
    }
   },
   "source": [
    "# Porównwanie wartości"
   ]
  },
  {
   "cell_type": "code",
   "execution_count": null,
   "metadata": {
    "slideshow": {
     "slide_type": "fragment"
    }
   },
   "outputs": [],
   "source": [
    "# encoding: utf-8\n",
    "\n",
    "x = 100\n",
    "y = 100\n",
    "\n",
    "if(x == y)\n",
    "  puts \"Wartości liczbowe są sobie równe\"\n",
    "end"
   ]
  },
  {
   "cell_type": "code",
   "execution_count": null,
   "metadata": {
    "slideshow": {
     "slide_type": "fragment"
    }
   },
   "outputs": [],
   "source": [
    "# encoding: utf-8\n",
    "\n",
    "a = \"Ala\"\n",
    "b = \"Ala\"\n",
    "if(a == b)\n",
    "  puts \"Łańcuchy są sobie równe\"\n",
    "end"
   ]
  },
  {
   "cell_type": "code",
   "execution_count": null,
   "metadata": {
    "slideshow": {
     "slide_type": "fragment"
    }
   },
   "outputs": [],
   "source": [
    "# encoding: utf-8\n",
    "\n",
    "a = [1,2,3]\n",
    "b = [1,2,3]\n",
    "\n",
    "if(a == b)\n",
    "  puts \"Tablice są sobie równe\"\n",
    "end"
   ]
  },
  {
   "cell_type": "code",
   "execution_count": null,
   "metadata": {
    "slideshow": {
     "slide_type": "subslide"
    }
   },
   "outputs": [],
   "source": [
    "# encoding: utf-8\n",
    "\n",
    "c = [\n",
    "        [1,2,3],\n",
    "        [2,3,4]\n",
    "    ]\n",
    "d = [\n",
    "        [1,2,3],\n",
    "        [2,3,4]\n",
    "    ]\n",
    "\n",
    "if(c == d)\n",
    "  puts \"Tablice wielowymiarowe są sobie równe\"\n",
    "end"
   ]
  },
  {
   "cell_type": "markdown",
   "metadata": {
    "slideshow": {
     "slide_type": "subslide"
    }
   },
   "source": [
    "# Wartość pusta `nil`"
   ]
  },
  {
   "cell_type": "code",
   "execution_count": null,
   "metadata": {
    "slideshow": {
     "slide_type": "fragment"
    }
   },
   "outputs": [],
   "source": [
    "puts nil.nil?\n",
    "puts 1.nil?"
   ]
  },
  {
   "cell_type": "code",
   "execution_count": null,
   "metadata": {
    "slideshow": {
     "slide_type": "fragment"
    }
   },
   "outputs": [],
   "source": [
    "# encoding: utf-8\n",
    "\n",
    "a = nil\n",
    "\n",
    "if(a.nil?)\n",
    "  puts \"Niepoprawna wartość\"\n",
    "end\n",
    "\n",
    "p a.to_s"
   ]
  },
  {
   "cell_type": "markdown",
   "metadata": {
    "slideshow": {
     "slide_type": "slide"
    }
   },
   "source": [
    "![Pytania? ](http://cliparts.co/cliparts/qcB/jqg/qcBjqgxc5.jpg)"
   ]
  }
 ],
 "metadata": {
  "celltoolbar": "Slideshow",
  "kernelspec": {
   "display_name": "SciJava",
   "language": "groovy",
   "name": "scijava"
  },
  "language_info": {
   "codemirror_mode": "groovy",
   "file_extension": "",
   "mimetype": "",
   "name": "scijava",
   "nbconverter_exporter": "",
   "pygments_lexer": "groovy",
   "version": "1.0"
  }
 },
 "nbformat": 4,
 "nbformat_minor": 1
}
