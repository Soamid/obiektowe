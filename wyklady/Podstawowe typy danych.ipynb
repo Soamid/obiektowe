{
 "cells": [
  {
   "cell_type": "markdown",
   "metadata": {
    "slideshow": {
     "slide_type": "slide"
    }
   },
   "source": [
    "# Podstawowe typy danych w Javie\n",
    "\n",
    "## Typy prymitywne, tablice, łańcuchy znaków oraz typ wyliczeniowy\n",
    "\n",
    "<br/>\n",
    "\n",
    "## dr inż. Aleksander Smywiński-Pohl\n",
    "\n",
    "## apohllo@agh.edu.pl\n",
    "\n",
    "## http://apohllo.pl/dydaktyka/programowanie-obiektowe\n",
    "\n",
    "## konsultacje: środa 17-18, pokój 4.61"
   ]
  },
  {
   "cell_type": "markdown",
   "metadata": {
    "slideshow": {
     "slide_type": "slide"
    }
   },
   "source": [
    "<img src=\"img/java_log.png\" style=\"height: 600px\" style=\"display: block; margin-left: auto; margin-right: auto;\"/>"
   ]
  },
  {
   "cell_type": "markdown",
   "metadata": {
    "slideshow": {
     "slide_type": "subslide"
    }
   },
   "source": [
    "<img src=\"img/goat.jpg\" style=\"display: block; margin-left: auto; margin-right: auto; width: 500px\"/>"
   ]
  },
  {
   "cell_type": "markdown",
   "metadata": {
    "slideshow": {
     "slide_type": "slide"
    }
   },
   "source": [
    "# Typy prymitywne\n",
    "\n",
    "* `boolean` - wartości `true` i `false`\n",
    "* `char` - pojedyncze znaki z zestawu Unicode\n",
    "* `byte` - jednobajtowa liczba ze znakiem\n",
    "* `short` - dwubajtowa liczba ze znakiem\n",
    "* `int` - czterobajtowa liczba ze znakiem\n",
    "* `long` - ośmiobajtowa liczba ze znakiem\n",
    "* `float` - liczba zmiennopozycyjna, co najmniej 6 cyfr znaczących\n",
    "* `double` - liczba zmiennopozyzyjna, co najmniej 15 cyfr znaczących"
   ]
  },
  {
   "cell_type": "markdown",
   "metadata": {
    "slideshow": {
     "slide_type": "notes"
    }
   },
   "source": [
    "Charakterystyczne jest, że liczby całkowite nie występują w wersji bez znaku. "
   ]
  },
  {
   "cell_type": "markdown",
   "metadata": {
    "slideshow": {
     "slide_type": "subslide"
    }
   },
   "source": [
    "# Typ `boolean`"
   ]
  },
  {
   "cell_type": "markdown",
   "metadata": {
    "slideshow": {
     "slide_type": "fragment"
    }
   },
   "source": [
    "<img src=\"img/true-false.jpeg\" />"
   ]
  },
  {
   "cell_type": "code",
   "execution_count": 1,
   "metadata": {
    "ExecuteTime": {
     "end_time": "2022-10-13T15:26+0000",
     "start_time": "2022-10-13T15:26:34.368Z"
    },
    "slideshow": {
     "slide_type": "subslide"
    }
   },
   "outputs": [
    {
     "ename": "CompilationException",
     "evalue": "",
     "output_type": "error",
     "traceback": [
      "\u001b[1m\u001b[30m|   \u001b[1m\u001b[30mif(\u001b[0m\u001b[1m\u001b[30m\u001b[41minvalidValue\u001b[0m\u001b[1m\u001b[30m) {                                  \u001b[0m",
      "\u001b[1m\u001b[31mincompatible types: int cannot be converted to boolean\u001b[0m",
      ""
     ]
    }
   ],
   "source": [
    "int invalidValue = 1;\n",
    "if(invalidValue) {                                  \n",
    "    System.out.println(\"Wycieraczki są włączone\");\n",
    "} else {\n",
    "    System.out.println(\"Wycieraczki są wyłączone\");\n",
    "}"
   ]
  },
  {
   "cell_type": "code",
   "execution_count": 2,
   "metadata": {
    "ExecuteTime": {
     "end_time": "2022-10-13T15:27+0000",
     "start_time": "2022-10-13T15:27:29.039Z"
    },
    "slideshow": {
     "slide_type": "fragment"
    }
   },
   "outputs": [
    {
     "name": "stdout",
     "output_type": "stream",
     "text": [
      "Wycieraczki są włączone\n"
     ]
    }
   ],
   "source": [
    "boolean wipersOn = true;\n",
    "if(wipersOn) {\n",
    "    System.out.println(\"Wycieraczki są włączone\");\n",
    "} else {\n",
    "    System.out.println(\"Wycieraczki są wyłączone\");\n",
    "}"
   ]
  },
  {
   "cell_type": "markdown",
   "metadata": {
    "slideshow": {
     "slide_type": "notes"
    }
   },
   "source": [
    "Jedyny typ, który może pojawić się w warunku logicznym. Nie ma konwersji między typami liczbowymi a typem logicznym."
   ]
  },
  {
   "cell_type": "markdown",
   "metadata": {
    "slideshow": {
     "slide_type": "subslide"
    }
   },
   "source": [
    "# Typ `char`"
   ]
  },
  {
   "cell_type": "markdown",
   "metadata": {
    "slideshow": {
     "slide_type": "fragment"
    }
   },
   "source": [
    "<img src=\"img/ABC.png\" />"
   ]
  },
  {
   "cell_type": "code",
   "execution_count": 42,
   "metadata": {
    "ExecuteTime": {
     "end_time": "2022-10-13T15:41+0000",
     "start_time": "2022-10-13T15:41:45.580Z"
    },
    "slideshow": {
     "slide_type": "subslide"
    }
   },
   "outputs": [
    {
     "name": "stdout",
     "output_type": "stream",
     "text": [
      "ś\n",
      "✓\n",
      "true\n",
      "false\n"
     ]
    }
   ],
   "source": [
    "import static java.lang.System.out;\n",
    "\n",
    "char driverCategory = 'ś';\n",
    "char tick = '\\u2713';\n",
    "out.println(driverCategory);\n",
    "out.println(tick);\n",
    "out.println(Character.isLetter(driverCategory));\n",
    "out.println(Character.isLetter(tick));"
   ]
  },
  {
   "cell_type": "markdown",
   "metadata": {
    "slideshow": {
     "slide_type": "notes"
    }
   },
   "source": [
    "Pojedyncze znaki umieszczane są w pojedynczym cudzysłowie. Wewnętrznie wykorzystywany jest zestaw znaków Unicode.\n",
    "Można wprowadzać znaki bezpośrednio oraz używając składni `\\u....`. Ta druga pozwala wprowadzać dowolny znak należący do zestawu. Znaki nie są obiektami, dlatego nie można wywoływać na nich metod. Żeby testować ich własności konieczne jest wykorzystanie *metod statycznych* klasy `Character`.\n",
    "\n",
    "Dodatkowo w powyższym kodzie dla wygody zaimportowaliśmy pole `out` z klasy `System` dzięki czemu kod stał się nieco krótszy."
   ]
  },
  {
   "cell_type": "markdown",
   "metadata": {
    "slideshow": {
     "slide_type": "subslide"
    }
   },
   "source": [
    "# Typy całkowitoliczbowe: `byte`, `short`, `int` oraz `long`"
   ]
  },
  {
   "cell_type": "markdown",
   "metadata": {
    "slideshow": {
     "slide_type": "fragment"
    }
   },
   "source": [
    "<img src=\"img/123.jpg\" />"
   ]
  },
  {
   "cell_type": "markdown",
   "metadata": {
    "slideshow": {
     "slide_type": "fragment"
    }
   },
   "source": [
    "| typ  | liczba bajtów | wartość minimalna | wartość maksymalna |\n",
    "|:-----|--------------:|------------------:|-------------------:|\n",
    "| byte | 1             | -128              | 127                |\n",
    "| short| 2             | -32 768           | 32767              |\n",
    "| int  | 4             | -2 147 483 648    | 2 147 483 647      |\n",
    "| long | 8             | -9 223 372 036 854 775 808 | 9 223 372 036 854 775 807 |\n"
   ]
  },
  {
   "cell_type": "markdown",
   "metadata": {
    "ExecuteTime": {
     "end_time": "2021-10-20T05:51+0000",
     "start_time": "2021-10-20T05:51:05.337Z"
    },
    "slideshow": {
     "slide_type": "notes"
    }
   },
   "source": [
    "Typy są niezależne od architektury."
   ]
  },
  {
   "cell_type": "code",
   "execution_count": 24,
   "metadata": {
    "ExecuteTime": {
     "end_time": "2022-10-13T15:33+0000",
     "start_time": "2022-10-13T15:33:46.454Z"
    },
    "slideshow": {
     "slide_type": "subslide"
    }
   },
   "outputs": [
    {
     "name": "stdout",
     "output_type": "stream",
     "text": [
      "30\n"
     ]
    },
    {
     "ename": "CompilationException",
     "evalue": "",
     "output_type": "error",
     "traceback": [
      "\u001b[1m\u001b[30m|   \u001b[1m\u001b[30mlong z = \u001b[0m\u001b[1m\u001b[30m\u001b[41m\u001b[0m\u001b[1m\u001b[30m9223372036854775807;\u001b[0m",
      "\u001b[1m\u001b[31minteger number too large\u001b[0m",
      ""
     ]
    }
   ],
   "source": [
    "int a = 10;\n",
    "int b = 20;\n",
    "long c = a + b;\n",
    "//short d = a + b;\n",
    "short e = (short) (a + b);\n",
    "System.out.println(e);\n",
    "\n",
    "long z = 9223372036854775807;\n",
    "long z2 = 9223372036854775807;\n",
    "z + z2;\n",
    "    "
   ]
  },
  {
   "cell_type": "code",
   "execution_count": 34,
   "metadata": {
    "ExecuteTime": {
     "end_time": "2022-10-13T15:36+0000",
     "start_time": "2022-10-13T15:36:47.725Z"
    },
    "slideshow": {
     "slide_type": "fragment"
    }
   },
   "outputs": [
    {
     "name": "stdout",
     "output_type": "stream",
     "text": [
      "-2\n"
     ]
    }
   ],
   "source": [
    "int a = 10;\n",
    "int b = 20;\n",
    "int e;\n",
    "if(Short.MAX_VALUE > a + b){\n",
    "    e = (short) (a + b);\n",
    "}\n",
    "byte f = 127;\n",
    "byte g = 127;\n",
    "byte h = (byte)(f + g);\n",
    "System.out.println(h);"
   ]
  },
  {
   "cell_type": "markdown",
   "metadata": {
    "slideshow": {
     "slide_type": "notes"
    }
   },
   "source": [
    "W typach całkowitoliczbowych mamy do czynienia z *automatyczną promocją typu*. Polega ona na tym, że wartość typu o mniejszym zakresie może być przypisana do zmiennej typu o szerszym zakresie. Działanie w drugą stronę nie może być wykonane niejawnie - konieczne jest *rzutowanie* wartości. Oczywiście taka operacja jest ryzykowna i powinna być ograniczona odpowiednim warunkiem. Przekroczenie wartości maksymalnej nie jest sygnalizowane w żaden sposób. Wartość jest obcinana do bitów, które mieszczą się w danej reprezentacji."
   ]
  },
  {
   "cell_type": "markdown",
   "metadata": {
    "slideshow": {
     "slide_type": "subslide"
    }
   },
   "source": [
    "# Typy zmiennopozycyjne `float` i `double`"
   ]
  },
  {
   "cell_type": "markdown",
   "metadata": {
    "slideshow": {
     "slide_type": "fragment"
    }
   },
   "source": [
    "<img src=\"img/float.jpeg\" />"
   ]
  },
  {
   "cell_type": "markdown",
   "metadata": {
    "slideshow": {
     "slide_type": "fragment"
    }
   },
   "source": [
    "| typ    | liczba bajtów | cecha (bity) | mantysa (bity) |\n",
    "|:-------|--------------:|-------------:|---------------:|\n",
    "| float  | 4             | 8            | 23             |\n",
    "| double | 8             | 11           | 52             |"
   ]
  },
  {
   "cell_type": "code",
   "execution_count": 35,
   "metadata": {
    "ExecuteTime": {
     "end_time": "2022-10-13T15:37+0000",
     "start_time": "2022-10-13T15:37:39.511Z"
    },
    "slideshow": {
     "slide_type": "subslide"
    }
   },
   "outputs": [
    {
     "name": "stdout",
     "output_type": "stream",
     "text": [
      "Wartości są identyczne\n"
     ]
    }
   ],
   "source": [
    "import static java.lang.System.out;\n",
    "\n",
    "int a = 0;\n",
    "float b = 0.0f;\n",
    "\n",
    "if(a == b){\n",
    "    out.println(\"Wartości są identyczne\");\n",
    "}"
   ]
  },
  {
   "cell_type": "code",
   "execution_count": 36,
   "metadata": {
    "ExecuteTime": {
     "end_time": "2022-10-13T15:37+0000",
     "start_time": "2022-10-13T15:37:48.027Z"
    },
    "slideshow": {
     "slide_type": "fragment"
    }
   },
   "outputs": [
    {
     "name": "stdout",
     "output_type": "stream",
     "text": [
      "Wartości nie są identyczne\n"
     ]
    },
    {
     "data": {
      "text/plain": [
       "0.9999907"
      ]
     },
     "execution_count": 36,
     "metadata": {},
     "output_type": "execute_result"
    }
   ],
   "source": [
    "import static java.lang.System.out;\n",
    "\n",
    "float a = 0.0f;\n",
    "float b = 0.001f;\n",
    "for(int i=0; i < 1000; i++){\n",
    "    a += b;\n",
    "}\n",
    "if(a == 1.0){\n",
    "    out.println(\"Wartości są identyczne\");\n",
    "} else {\n",
    "    out.println(\"Wartości nie są identyczne\");\n",
    "}\n",
    "a"
   ]
  },
  {
   "cell_type": "code",
   "execution_count": 40,
   "metadata": {
    "ExecuteTime": {
     "end_time": "2022-10-13T15:40+0000",
     "start_time": "2022-10-13T15:40:16.935Z"
    },
    "slideshow": {
     "slide_type": "subslide"
    }
   },
   "outputs": [
    {
     "name": "stdout",
     "output_type": "stream",
     "text": [
      "Wartości są prawie identyczne\n"
     ]
    }
   ],
   "source": [
    "import static java.lang.System.out;\n",
    "\n",
    "float a = 0.0f;\n",
    "float b = 0.001f;\n",
    "double EPSILON = 1e-5;\n",
    "\n",
    "for(int i=0; i < 1000; i++){\n",
    "    a += b;\n",
    "}\n",
    "if(Math.abs(a - 1) < EPSILON){\n",
    "    out.println(\"Wartości są prawie identyczne\");\n",
    "} else {\n",
    "    out.println(\"Wartości nie są prawie identyczne\");\n",
    "}"
   ]
  },
  {
   "cell_type": "markdown",
   "metadata": {
    "slideshow": {
     "slide_type": "notes"
    }
   },
   "source": [
    "Wartości zmiennopozycyjne można zapisywać w notacji \"tradycyjne\" oraz \"inżynierskiej\" (z \"e\", który określa wykładnik potęgi o podstawie 10, do której podnoszona jest wartość).\n",
    "Pomimo różnicy typu, porównywane wartości są identyczne. W praktyce jednak należy korzystać z drugiego sposobu, zawsze kiedy mamy do czynienia z wartościami zmiennoprzecinkowymi.\n",
    "\n",
    "**Tutaj skończyłem 2 wykład**"
   ]
  },
  {
   "cell_type": "markdown",
   "metadata": {
    "slideshow": {
     "slide_type": "subslide"
    }
   },
   "source": [
    "# Typy otokowe\n",
    "\n",
    "* Boolean\n",
    "* Byte\n",
    "* Short\n",
    "* Character\n",
    "* Integer\n",
    "* Long\n",
    "* Float\n",
    "* Double"
   ]
  },
  {
   "cell_type": "markdown",
   "metadata": {
    "slideshow": {
     "slide_type": "subslide"
    }
   },
   "source": [
    "<img src=\"img/number_in_box.jpg\" />"
   ]
  },
  {
   "cell_type": "markdown",
   "metadata": {
    "slideshow": {
     "slide_type": "notes"
    }
   },
   "source": [
    "Opakowują typu prymitywne"
   ]
  },
  {
   "cell_type": "code",
   "execution_count": 45,
   "metadata": {
    "ExecuteTime": {
     "end_time": "2022-10-13T15:44+0000",
     "start_time": "2022-10-13T15:44:39.610Z"
    },
    "slideshow": {
     "slide_type": "fragment"
    }
   },
   "outputs": [
    {
     "name": "stdout",
     "output_type": "stream",
     "text": [
      "30\n"
     ]
    }
   ],
   "source": [
    "Integer a = new Integer(10);\n",
    "Integer b = new Integer(20);\n",
    "Integer c = a + b;\n",
    "System.out.println(c.toString());"
   ]
  },
  {
   "cell_type": "code",
   "execution_count": 46,
   "metadata": {
    "ExecuteTime": {
     "end_time": "2022-10-13T15:44+0000",
     "start_time": "2022-10-13T15:44:48.138Z"
    },
    "slideshow": {
     "slide_type": "fragment"
    }
   },
   "outputs": [
    {
     "ename": "CompilationException",
     "evalue": "",
     "output_type": "error",
     "traceback": [
      "\u001b[1m\u001b[30m|   \u001b[1m\u001b[30mout.println(\u001b[0m\u001b[1m\u001b[30m\u001b[41md.toString\u001b[0m\u001b[1m\u001b[30m());\u001b[0m",
      "\u001b[1m\u001b[31mint cannot be dereferenced\u001b[0m",
      ""
     ]
    }
   ],
   "source": [
    "int d = 30;\n",
    "out.println(d.toString());"
   ]
  },
  {
   "cell_type": "markdown",
   "metadata": {
    "slideshow": {
     "slide_type": "notes"
    }
   },
   "source": [
    "No typach prymitywnych nie można wywoływać metod."
   ]
  },
  {
   "cell_type": "markdown",
   "metadata": {
    "slideshow": {
     "slide_type": "subslide"
    }
   },
   "source": [
    "# Zastosowanie typów otokowych"
   ]
  },
  {
   "cell_type": "code",
   "execution_count": 48,
   "metadata": {
    "ExecuteTime": {
     "end_time": "2022-10-13T15:45+0000",
     "start_time": "2022-10-13T15:45:34.363Z"
    },
    "slideshow": {
     "slide_type": "fragment"
    }
   },
   "outputs": [
    {
     "name": "stdout",
     "output_type": "stream",
     "text": [
      "[10, 20]\n"
     ]
    }
   ],
   "source": [
    "import java.util.*;\n",
    "\n",
    "List<Integer> list = new LinkedList<Integer>();\n",
    "list.add(new Integer(10));\n",
    "list.add(new Integer(20));\n",
    "\n",
    "System.out.println(list);"
   ]
  },
  {
   "cell_type": "code",
   "execution_count": 49,
   "metadata": {
    "ExecuteTime": {
     "end_time": "2022-10-13T15:46+0000",
     "start_time": "2022-10-13T15:46:16.455Z"
    },
    "slideshow": {
     "slide_type": "fragment"
    }
   },
   "outputs": [
    {
     "name": "stdout",
     "output_type": "stream",
     "text": [
      "30\n"
     ]
    }
   ],
   "source": [
    "// Autoboxing\n",
    "import java.util.*;\n",
    "\n",
    "List<Integer> list = new LinkedList<Integer>();\n",
    "\n",
    "list.add(30);\n",
    "list.add(40);\n",
    "\n",
    "System.out.println(list.get(0).toString());"
   ]
  },
  {
   "cell_type": "markdown",
   "metadata": {
    "slideshow": {
     "slide_type": "subslide"
    }
   },
   "source": [
    "# Porównywanie typów otokowych"
   ]
  },
  {
   "cell_type": "code",
   "execution_count": 60,
   "metadata": {
    "ExecuteTime": {
     "end_time": "2022-10-13T15:51+0000",
     "start_time": "2022-10-13T15:51:07.202Z"
    },
    "slideshow": {
     "slide_type": "fragment"
    }
   },
   "outputs": [
    {
     "name": "stdout",
     "output_type": "stream",
     "text": [
      "Wartości są równe\n"
     ]
    }
   ],
   "source": [
    "import static java.lang.System.out;\n",
    "\n",
    "Integer a = 127;\n",
    "Integer b = 127;\n",
    "if(a == b){ \n",
    "    out.println(\"Wartości są równe\");\n",
    "} else {\n",
    "    out.println(\"Wartości nie są równe\");\n",
    "}"
   ]
  },
  {
   "cell_type": "code",
   "execution_count": 61,
   "metadata": {
    "ExecuteTime": {
     "end_time": "2022-10-13T15:52+0000",
     "start_time": "2022-10-13T15:52:05.462Z"
    },
    "slideshow": {
     "slide_type": "subslide"
    }
   },
   "outputs": [
    {
     "name": "stdout",
     "output_type": "stream",
     "text": [
      "Wartości nie są równe\n",
      "Wartości są równe\n"
     ]
    }
   ],
   "source": [
    "import static java.lang.System.out;\n",
    "\n",
    "Integer a = 200;\n",
    "Integer b = 200;\n",
    "\n",
    "if(a == b){ \n",
    "    out.println(\"Wartości są równe\");\n",
    "} else {\n",
    "    out.println(\"Wartości nie są równe\");\n",
    "}\n",
    "\n",
    "if(a.equals(b)){ \n",
    "    out.println(\"Wartości są równe\");\n",
    "} else {\n",
    "    out.println(\"Wartości nie są równe\");\n",
    "}"
   ]
  },
  {
   "cell_type": "markdown",
   "metadata": {
    "slideshow": {
     "slide_type": "slide"
    }
   },
   "source": [
    "# Typ tablicowy"
   ]
  },
  {
   "cell_type": "markdown",
   "metadata": {
    "slideshow": {
     "slide_type": "fragment"
    }
   },
   "source": [
    "<img src=\"img/array.jpg\" />"
   ]
  },
  {
   "cell_type": "code",
   "execution_count": 62,
   "metadata": {
    "ExecuteTime": {
     "end_time": "2022-10-13T15:53+0000",
     "start_time": "2022-10-13T15:53:54.271Z"
    },
    "slideshow": {
     "slide_type": "subslide"
    }
   },
   "outputs": [
    {
     "name": "stdout",
     "output_type": "stream",
     "text": [
      "Składowa 1 wektora wynosi: 10\n",
      "Składowa 2 wektora wynosi: 0\n",
      "Składowa 3 wektora wynosi: -3\n"
     ]
    },
    {
     "ename": "EvalException",
     "evalue": "Index 3 out of bounds for length 3",
     "output_type": "error",
     "traceback": [
      "\u001b[1m\u001b[31m---------------------------------------------------------------------------\u001b[0m",
      "\u001b[1m\u001b[31mjava.lang.ArrayIndexOutOfBoundsException: Index 3 out of bounds for length 3\u001b[0m",
      "\u001b[1m\u001b[31m\tat .(#156:1)\u001b[0m"
     ]
    }
   ],
   "source": [
    "import static java.lang.System.out;\n",
    "\n",
    "int[] speedVector = new int[3];\n",
    "speedVector[0] = 10;\n",
    "speedVector[2] = -3;\n",
    "\n",
    "for(int i = 0; i < 4; i++){\n",
    "    out.println(\"Składowa \" + (i + 1) + \" wektora wynosi: \" + speedVector[i]);\n",
    "}"
   ]
  },
  {
   "cell_type": "markdown",
   "metadata": {
    "slideshow": {
     "slide_type": "notes"
    }
   },
   "source": [
    "Tablice mogą składać się z elementów typów prymitywnych oraz obiektów. Tablice są obiektami, zatem tworzy się je za pomocą słowa kluczowego `new`. W trakcie inicjacji trzeba określić rozmiar tablicy i jest on niezmienny przez cały czas działania programu. Dostęp do składowych odbywa się analogicznie jak w języku C. Niezainicjowane wartości mają przypisaną wartość domyślną (np. 0 dla typów całkowitych). Przekroczenie zakresu skutkuje wystąpieniem wyjątku `ArrayIndexOutOfBoundsException`. Nie ma więc niebezpieczeństwa odczytu wartości spoza dopuszczalnego zakresu. "
   ]
  },
  {
   "cell_type": "markdown",
   "metadata": {
    "slideshow": {
     "slide_type": "subslide"
    }
   },
   "source": [
    "# Typ tablicowy - obiekty"
   ]
  },
  {
   "cell_type": "code",
   "execution_count": 63,
   "metadata": {
    "ExecuteTime": {
     "end_time": "2022-10-13T15:54+0000",
     "start_time": "2022-10-13T15:54:51.179Z"
    },
    "slideshow": {
     "slide_type": "fragment"
    }
   },
   "outputs": [],
   "source": [
    "class Speed {\n",
    "    public int value;\n",
    "    public String unit;\n",
    "\n",
    "    public Speed(int value, String unit){\n",
    "        this.value = value;\n",
    "        this.unit = unit;\n",
    "    }\n",
    "    \n",
    "    public String toString(){\n",
    "        return this.value + \" \"+ this.unit;\n",
    "    }\n",
    "}"
   ]
  },
  {
   "cell_type": "markdown",
   "metadata": {
    "slideshow": {
     "slide_type": "notes"
    }
   },
   "source": [
    "Klasa `Speed` będzie wykorzystywana jeszcze w dalej - wrócimy do niej na kolejnym wykładzie. "
   ]
  },
  {
   "cell_type": "markdown",
   "metadata": {
    "slideshow": {
     "slide_type": "subslide"
    }
   },
   "source": [
    "# Typ tablicowy - obiekty"
   ]
  },
  {
   "cell_type": "code",
   "execution_count": 66,
   "metadata": {
    "ExecuteTime": {
     "end_time": "2022-10-13T15:55+0000",
     "start_time": "2022-10-13T15:55:44.885Z"
    },
    "slideshow": {
     "slide_type": "fragment"
    }
   },
   "outputs": [
    {
     "name": "stdout",
     "output_type": "stream",
     "text": [
      "Składowa 1 wektora wynosi: 10 km/h\n",
      "Składowa 2 wektora wynosi: -3 km/h\n"
     ]
    },
    {
     "ename": "EvalException",
     "evalue": "Cannot read field \"value\" because \"REPL.$JShell$153B.speedVector[<local0>]\" is null",
     "output_type": "error",
     "traceback": [
      "\u001b[1m\u001b[31m---------------------------------------------------------------------------\u001b[0m",
      "\u001b[1m\u001b[31mjava.lang.NullPointerException: Cannot read field \"value\" because \"REPL.$JShell$153B.speedVector[<local0>]\" is null\u001b[0m",
      "\u001b[1m\u001b[31m\tat .(#166:1)\u001b[0m"
     ]
    }
   ],
   "source": [
    "import static java.lang.System.out;\n",
    "\n",
    "Speed[] speedVector = new Speed[3];\n",
    "speedVector[0] = new Speed(10, \"km/h\");\n",
    "speedVector[1] = new Speed(-3, \"km/h\");\n",
    "\n",
    "for(int i = 0; i < 3; i++){\n",
    "    out.println(\"Składowa \" + (i + 1) + \" wektora wynosi: \" + \n",
    "        //    speedVector[i]);\n",
    "        speedVector[i].value + \" \" + speedVector[i].unit);\n",
    "}"
   ]
  },
  {
   "cell_type": "markdown",
   "metadata": {
    "slideshow": {
     "slide_type": "notes"
    }
   },
   "source": [
    "Tablica typu referencyjnego również jest inicjowana - ale specjalną wartością pustą `null`. Jeśli jakiś element nie zostanie zainicjowany (tutaj element o indeksie 2), to ma on wartość `null`. Próba odczytania wartości takiego obiektu skutkuje wystąpieniem wyjątku `NullPointerException`.  Jest to najczęstszy *wyjątek*, z którym ma do czynienia każdy programista Javy."
   ]
  },
  {
   "cell_type": "markdown",
   "metadata": {
    "slideshow": {
     "slide_type": "subslide"
    }
   },
   "source": [
    "# Zabezpieczenie przed wyjątkiem NullPointerException"
   ]
  },
  {
   "cell_type": "code",
   "execution_count": 67,
   "metadata": {
    "ExecuteTime": {
     "end_time": "2022-10-13T15:56+0000",
     "start_time": "2022-10-13T15:56:45.813Z"
    },
    "slideshow": {
     "slide_type": "fragment"
    }
   },
   "outputs": [
    {
     "name": "stdout",
     "output_type": "stream",
     "text": [
      "Składowa 1 wektora wynosi: 10 km/h\n",
      "Składowa 2 wektora wynosi: -3 km/h\n",
      "Składowa 3 wektora jest pusta\n"
     ]
    }
   ],
   "source": [
    "import static java.lang.System.out;\n",
    "\n",
    "Speed[] speedVector = new Speed[3];\n",
    "speedVector[0] = new Speed(10, \"km/h\");\n",
    "speedVector[1] = new Speed(-3, \"km/h\");\n",
    "\n",
    "for(int i = 0; i < 3; i++){\n",
    "    if(speedVector[i] == null) {\n",
    "        out.println(\"Składowa \" + (i + 1) + \" wektora jest pusta\");\n",
    "    } else {\n",
    "        out.println(\"Składowa \" + (i + 1) + \" wektora wynosi: \" + \n",
    "            speedVector[i].value + \" \" + speedVector[i].unit);\n",
    "    }\n",
    "}"
   ]
  },
  {
   "cell_type": "markdown",
   "metadata": {
    "slideshow": {
     "slide_type": "notes"
    }
   },
   "source": [
    "Możemy np. porównać wartość, którą chcemy wykorzystać z wartością pustą za pomocą operatora `==`. Jeśli wartość jest pusta możemy na przykład poinformować o tym użytkownika. Oczywiście właściwe rozwiązanie będzie zależało od pisanej aplikacji. Czasami wartość pusta oznacza błąd w kodzie programu, który musimy naprawić. Zasadniczo warto sprawdzać niepustość zmiennych referenyjnych, gdyż może to istotnie poprawić odporność naszego kodu na błędy. Ponadto każdy komunikat jest lepszy niż niewiele mówicy wyjątek `NullPointerException`. Więcej na ten temat zostanie przedstawione na wykładzie dotyczącym wyjątków."
   ]
  },
  {
   "cell_type": "markdown",
   "metadata": {
    "slideshow": {
     "slide_type": "subslide"
    }
   },
   "source": [
    "# Alternatywna pętla for"
   ]
  },
  {
   "cell_type": "code",
   "execution_count": 68,
   "metadata": {
    "ExecuteTime": {
     "end_time": "2022-10-13T15:57+0000",
     "start_time": "2022-10-13T15:57:30.872Z"
    },
    "slideshow": {
     "slide_type": "fragment"
    }
   },
   "outputs": [
    {
     "name": "stdout",
     "output_type": "stream",
     "text": [
      "Składowa wektora wynosi: 10 km/h\n",
      "Składowa wektora wynosi: -3 km/h\n",
      "Składowa wektora jest pusta\n"
     ]
    }
   ],
   "source": [
    "import static java.lang.System.out;\n",
    "\n",
    "Speed[] speedVector = new Speed[3];\n",
    "speedVector[0] = new Speed(10, \"km/h\");\n",
    "speedVector[1] = new Speed(-3, \"km/h\");\n",
    "\n",
    "for(Speed element : speedVector) {\n",
    "    if(element == null) {\n",
    "        out.println(\"Składowa wektora jest pusta\");\n",
    "    } else {\n",
    "        out.println(\"Składowa wektora wynosi: \" + \n",
    "            element.toString());\n",
    "    }\n",
    "}"
   ]
  },
  {
   "cell_type": "markdown",
   "metadata": {
    "slideshow": {
     "slide_type": "notes"
    }
   },
   "source": [
    "Java posiada alternatywną składnię dla pętli `for`, która pozwala na wygodniejsze iterowanie po elementach talic (i nie tylko tablic). Charakterystycznym elementem tej składni jest to, że wykorzystuje ona zmienną lokalną i przypisuje do niej kolejne wartości znajdujące się w tablicy. Niestety w tym przypadku nie mamy dostępu do indeksu elementu."
   ]
  },
  {
   "cell_type": "markdown",
   "metadata": {
    "slideshow": {
     "slide_type": "subslide"
    }
   },
   "source": [
    "# Porównywanie tablic"
   ]
  },
  {
   "cell_type": "code",
   "execution_count": 69,
   "metadata": {
    "ExecuteTime": {
     "end_time": "2022-10-13T15:58+0000",
     "start_time": "2022-10-13T15:58:31.946Z"
    },
    "slideshow": {
     "slide_type": "fragment"
    }
   },
   "outputs": [
    {
     "name": "stdout",
     "output_type": "stream",
     "text": [
      "Wektory nie są równe\n"
     ]
    }
   ],
   "source": [
    "import static java.lang.System.out;\n",
    "\n",
    "int[] speedVector1 = { 10, -3, 0 };\n",
    "int[] speedVector2 = { 10, -3, 0 };\n",
    "\n",
    "if(speedVector1 == speedVector2){\n",
    "    out.println(\"Wektory są równe\");\n",
    "} else {\n",
    "    out.println(\"Wektory nie są równe\");\n",
    "}"
   ]
  },
  {
   "cell_type": "code",
   "execution_count": 70,
   "metadata": {
    "ExecuteTime": {
     "end_time": "2022-10-13T15:58+0000",
     "start_time": "2022-10-13T15:58:54.261Z"
    },
    "slideshow": {
     "slide_type": "fragment"
    }
   },
   "outputs": [
    {
     "name": "stdout",
     "output_type": "stream",
     "text": [
      "Wektory nie są równe\n"
     ]
    }
   ],
   "source": [
    "import static java.lang.System.out;\n",
    "\n",
    "int[] speedVector1 = { 10, -3, 0 };\n",
    "int[] speedVector2 = { 10, -3, 0 };\n",
    "if(speedVector1.equals(speedVector2)){\n",
    "    out.println(\"Wektory są równe\");\n",
    "} else {\n",
    "    out.println(\"Wektory nie są równe\");\n",
    "}"
   ]
  },
  {
   "cell_type": "code",
   "execution_count": 71,
   "metadata": {
    "ExecuteTime": {
     "end_time": "2022-10-13T15:59+0000",
     "start_time": "2022-10-13T15:59:39.807Z"
    },
    "slideshow": {
     "slide_type": "subslide"
    }
   },
   "outputs": [
    {
     "name": "stdout",
     "output_type": "stream",
     "text": [
      "Wektory są równe\n"
     ]
    }
   ],
   "source": [
    "import static java.lang.System.out;\n",
    "import java.util.*;\n",
    "\n",
    "int[] speedVector1 = { 10, -3, 0 };\n",
    "int[] speedVector2 = { 10, -3, 0 };\n",
    "if(Arrays.equals(speedVector1, speedVector2)){\n",
    "    out.println(\"Wektory są równe\");\n",
    "} else {\n",
    "    out.println(\"Wektory nie są równe\");\n",
    "}"
   ]
  },
  {
   "cell_type": "markdown",
   "metadata": {
    "slideshow": {
     "slide_type": "notes"
    }
   },
   "source": [
    "Wartości typów prostych porównuje się za pomocą operatora `==`, natomiast wartości typów referencyjnych za pomocą metody `equals` (o ile została ona zaimplementowana). Niestety w przypadku tablic musimy skorzystać z zewnętrznej funkcji `equals`, która najduje się w klasie pomocniczej `Arrays`.\n",
    "\n",
    "Uzasadnienie:\n",
    "https://softwareengineering.stackexchange.com/questions/239139/why-do-arrays-in-java-not-override-equals"
   ]
  },
  {
   "cell_type": "markdown",
   "metadata": {
    "slideshow": {
     "slide_type": "subslide"
    }
   },
   "source": [
    "# Sortowanie i wypisywanie tablic"
   ]
  },
  {
   "cell_type": "code",
   "execution_count": 73,
   "metadata": {
    "ExecuteTime": {
     "end_time": "2022-10-13T16:00+0000",
     "start_time": "2022-10-13T16:00:51.212Z"
    },
    "slideshow": {
     "slide_type": "fragment"
    }
   },
   "outputs": [
    {
     "name": "stdout",
     "output_type": "stream",
     "text": [
      "[I@69fa946d\n",
      "[-3, 7, 9, 10, 12, 15]\n",
      "[1, 2, 3]\n"
     ]
    }
   ],
   "source": [
    "import static java.lang.System.out;\n",
    "import java.util.*;\n",
    "\n",
    "int[] vector = { 7, 15, 10, -3, 9, 12};\n",
    "Arrays.sort(vector);\n",
    "out.println(vector.toString());\n",
    "out.println(Arrays.toString(vector));\n",
    "\n",
    "List<Integer> vector2 = new LinkedList<Integer>();\n",
    "vector2.add(1);\n",
    "vector2.add(2);\n",
    "vector2.add(3);\n",
    "\n",
    "out.println(vector2);"
   ]
  },
  {
   "cell_type": "markdown",
   "metadata": {
    "slideshow": {
     "slide_type": "notes"
    }
   },
   "source": [
    "Klasa `Array` również nie ma zaimplementowanej metody `sort`, a metoda `toString` daje wynik, który jest mało zadowalający. W obu przypadkach konieczne jest wykorzystanie zewnętrznych procedur pomocniczych zdefiniowanych w klasie `Arrays`."
   ]
  },
  {
   "cell_type": "markdown",
   "metadata": {
    "slideshow": {
     "slide_type": "slide"
    }
   },
   "source": [
    "# Tablice wielowymiarowe"
   ]
  },
  {
   "cell_type": "markdown",
   "metadata": {
    "slideshow": {
     "slide_type": "fragment"
    }
   },
   "source": [
    "<img src=\"img/stitch.jpg\" />"
   ]
  },
  {
   "cell_type": "code",
   "execution_count": 74,
   "metadata": {
    "ExecuteTime": {
     "end_time": "2022-10-13T16:01+0000",
     "start_time": "2022-10-13T16:01:44.796Z"
    },
    "slideshow": {
     "slide_type": "subslide"
    }
   },
   "outputs": [
    {
     "name": "stdout",
     "output_type": "stream",
     "text": [
      "0\n"
     ]
    }
   ],
   "source": [
    "import static java.lang.System.out;\n",
    "\n",
    "int[][] matrix1 = new int[10][10];\n",
    "out.println(matrix1[0][0]);"
   ]
  },
  {
   "cell_type": "code",
   "execution_count": 75,
   "metadata": {
    "ExecuteTime": {
     "end_time": "2022-10-13T16:02+0000",
     "start_time": "2022-10-13T16:02:00.893Z"
    },
    "slideshow": {
     "slide_type": "fragment"
    }
   },
   "outputs": [
    {
     "name": "stdout",
     "output_type": "stream",
     "text": [
      "0\n"
     ]
    }
   ],
   "source": [
    "import static java.lang.System.out;\n",
    "\n",
    "int[][] matrix2 = new int[10][];\n",
    "//out.println(matrix2[0][0]);\n",
    "\n",
    "for(int i = 0; i < 10; i++){\n",
    "    matrix2[i] = new int[i+1];\n",
    "}\n",
    "out.println(matrix2[0][0]);"
   ]
  },
  {
   "cell_type": "markdown",
   "metadata": {
    "slideshow": {
     "slide_type": "notes"
    }
   },
   "source": [
    "Tablice wielowymiarowe można inicjować na dwa sposoby: albo podając od razu wszystkie wymiary, albo podając jedynie n-pierwszych wymiarów. W pierwszym przypadku otrzymujemy tablicę zainicjowaną wartościami domyślnymi dla danego typu. W drugim przypadku zainicjowanych jest tylko n-pierwszych wymiarów i w takiej tablicy występują wartości `null`. Dlatego trzeba \"ręcznie\" zainicjować pozostałe wymiary."
   ]
  },
  {
   "cell_type": "markdown",
   "metadata": {
    "slideshow": {
     "slide_type": "subslide"
    }
   },
   "source": [
    "# Porównywanie i wyświetlanie tablic wielowymiarowych"
   ]
  },
  {
   "cell_type": "code",
   "execution_count": 76,
   "metadata": {
    "ExecuteTime": {
     "end_time": "2022-10-13T16:02+0000",
     "start_time": "2022-10-13T16:02:28.360Z"
    },
    "slideshow": {
     "slide_type": "fragment"
    }
   },
   "outputs": [
    {
     "name": "stdout",
     "output_type": "stream",
     "text": [
      "[[I@6dc50d8a, [I@28c79e56]\n"
     ]
    }
   ],
   "source": [
    "import static java.lang.System.out;\n",
    "import java.util.*;\n",
    "\n",
    "int[][] matrix1 = { {1, 2}, \n",
    "                    {3, 4} };\n",
    "int[][] matrix2 = { {1, 2}, \n",
    "                    {3, 4} };\n",
    "               \n",
    "out.println(Arrays.toString(matrix1));"
   ]
  },
  {
   "cell_type": "code",
   "execution_count": 77,
   "metadata": {
    "ExecuteTime": {
     "end_time": "2022-10-13T16:02+0000",
     "start_time": "2022-10-13T16:02:47.147Z"
    },
    "slideshow": {
     "slide_type": "fragment"
    }
   },
   "outputs": [
    {
     "name": "stdout",
     "output_type": "stream",
     "text": [
      "[[1, 2], [3, 4]]\n"
     ]
    }
   ],
   "source": [
    "import static java.lang.System.out;\n",
    "import java.util.*;\n",
    "\n",
    "int[][] matrix1 = { {1, 2}, \n",
    "                    {3, 4} };\n",
    "\n",
    "out.println(Arrays.deepToString(matrix1));"
   ]
  },
  {
   "cell_type": "code",
   "execution_count": 78,
   "metadata": {
    "ExecuteTime": {
     "end_time": "2022-10-13T16:03+0000",
     "start_time": "2022-10-13T16:03:06.605Z"
    },
    "slideshow": {
     "slide_type": "subslide"
    }
   },
   "outputs": [
    {
     "name": "stdout",
     "output_type": "stream",
     "text": [
      "Tablice **nie** są równe\n"
     ]
    }
   ],
   "source": [
    "import static java.lang.System.out;\n",
    "import java.util.*;\n",
    "\n",
    "int[][] matrix1 = { {1, 2}, \n",
    "                    {3, 4} };\n",
    "int[][] matrix2 = { {1, 2}, \n",
    "                    {3, 4} };\n",
    "\n",
    "if(Arrays.equals(matrix1,matrix2)){\n",
    "    out.println(\"Tablice są równe\");\n",
    "} else {\n",
    "    out.println(\"Tablice **nie** są równe\");\n",
    "}"
   ]
  },
  {
   "cell_type": "code",
   "execution_count": 79,
   "metadata": {
    "ExecuteTime": {
     "end_time": "2022-10-13T16:03+0000",
     "start_time": "2022-10-13T16:03:26.233Z"
    },
    "slideshow": {
     "slide_type": "subslide"
    }
   },
   "outputs": [
    {
     "name": "stdout",
     "output_type": "stream",
     "text": [
      "Tablice są równe\n"
     ]
    }
   ],
   "source": [
    "import static java.lang.System.out;\n",
    "import java.util.*;\n",
    "\n",
    "int[][] matrix1 = { {1, 2}, \n",
    "                    {3, 4} };\n",
    "int[][] matrix2 = { {1, 2}, \n",
    "                    {3, 4} };\n",
    "\n",
    "if(Arrays.deepEquals(matrix1,matrix2)){\n",
    "    out.println(\"Tablice są równe\");\n",
    "} else {\n",
    "    out.println(\"Tablice **nie** są równe\");\n",
    "}"
   ]
  },
  {
   "cell_type": "markdown",
   "metadata": {
    "slideshow": {
     "slide_type": "notes"
    }
   },
   "source": [
    "Niestety metody `Arrays.toString()` oraz `Arrays.equals()` nie działają na tablicach wielowymiarowych. Konieczne jest wykorzystanie wersji `deepToString()` oraz `deepEquals`."
   ]
  },
  {
   "cell_type": "markdown",
   "metadata": {
    "slideshow": {
     "slide_type": "slide"
    }
   },
   "source": [
    "# Łańcuchy znaków\n",
    "\n",
    "<img src=\"img/letters.jpg\" width=\"800\"/>"
   ]
  },
  {
   "cell_type": "code",
   "execution_count": 80,
   "metadata": {
    "ExecuteTime": {
     "end_time": "2022-10-13T16:05+0000",
     "start_time": "2022-10-13T16:05:00.040Z"
    },
    "slideshow": {
     "slide_type": "subslide"
    }
   },
   "outputs": [
    {
     "name": "stdout",
     "output_type": "stream",
     "text": [
      "Jednostki są równe\n"
     ]
    }
   ],
   "source": [
    "import static java.lang.System.out;\n",
    "\n",
    "String unit1 = \"km/h\";\n",
    "String unit2 = \"km/h\";\n",
    "\n",
    "if(unit1 == unit2){\n",
    "    out.println(\"Jednostki są równe\");\n",
    "} else {\n",
    "    out.println(\"Jednostki **nie** są równe\");\n",
    "}"
   ]
  },
  {
   "cell_type": "code",
   "execution_count": 81,
   "metadata": {
    "ExecuteTime": {
     "end_time": "2022-10-13T16:05+0000",
     "start_time": "2022-10-13T16:05:28.319Z"
    },
    "slideshow": {
     "slide_type": "subslide"
    }
   },
   "outputs": [
    {
     "name": "stdout",
     "output_type": "stream",
     "text": [
      "Jednostki **nie** są równe\n"
     ]
    }
   ],
   "source": [
    "import static java.lang.System.out;\n",
    "\n",
    "String unit1 = \"km/h\";\n",
    "String letter = \"h\";\n",
    "String unit2 = \"km/\"  + letter;\n",
    "\n",
    "if(unit1 == unit2){\n",
    "    out.println(\"Jednostki są równe\");\n",
    "} else {\n",
    "    out.println(\"Jednostki **nie** są równe\");\n",
    "}"
   ]
  },
  {
   "cell_type": "code",
   "execution_count": 82,
   "metadata": {
    "ExecuteTime": {
     "end_time": "2022-10-13T16:05+0000",
     "start_time": "2022-10-13T16:05:56.041Z"
    },
    "slideshow": {
     "slide_type": "fragment"
    }
   },
   "outputs": [
    {
     "name": "stdout",
     "output_type": "stream",
     "text": [
      "Jednostki są równe\n"
     ]
    }
   ],
   "source": [
    "import static java.lang.System.out;\n",
    "\n",
    "String unit1 = \"km/h\";\n",
    "String letter = \"h\";\n",
    "String unit2 = \"km/\"  + letter;\n",
    "\n",
    "if(unit1.equals(unit2)){\n",
    "    out.println(\"Jednostki są równe\");\n",
    "} else {\n",
    "    out.println(\"Jednostki **nie** są równe\");\n",
    "}"
   ]
  },
  {
   "cell_type": "markdown",
   "metadata": {
    "slideshow": {
     "slide_type": "notes"
    }
   },
   "source": [
    "Hmm, to jest bardzo piękny przykład. Zasadniczo łańcuchy znaków zawsze porównujemy za pomocą metody `equals`. Ale pokazanie dlaczego jest to konieczne, nie jest zbyt proste. W pierwszym przypadku mamy dwie zmienne, które wskazują na dokładnie ten sam obiekt, ponieważ na etapie kompilacji oba łańcuchy są identyczne i Java optymalizuje ten przypadek tak, by zajmowane było mniej pamięci. Natomiast trzeci łańcuch jest konstruowany w trakcie wykonania programu. Dlatego jest on osobnym obiektem i porównanie `==` daje w wyniku `false`. Podsumowując - do porównywania obiektów (z wyjątkiem tablic) używamy zawsze metody `equals`."
   ]
  },
  {
   "cell_type": "markdown",
   "metadata": {
    "slideshow": {
     "slide_type": "subslide"
    }
   },
   "source": [
    "# Modyfikacja łańcuchów"
   ]
  },
  {
   "cell_type": "code",
   "execution_count": 84,
   "metadata": {
    "ExecuteTime": {
     "end_time": "2022-10-13T16:07+0000",
     "start_time": "2022-10-13T16:07:00.316Z"
    },
    "slideshow": {
     "slide_type": "fragment"
    }
   },
   "outputs": [
    {
     "name": "stdout",
     "output_type": "stream",
     "text": [
      "Łańcuchy nie są równe\n"
     ]
    }
   ],
   "source": [
    "import static java.lang.System.out;\n",
    "\n",
    "String km = \"km\";\n",
    "String divider = \"/\";\n",
    "String hour = \"h\";\n",
    "\n",
    "String unit1 = \"\";\n",
    "String unit2 = unit1;\n",
    "unit1 += km;\n",
    "unit1 += divider;\n",
    "unit1 += hour;\n",
    "\n",
    "if(unit1 == unit2){\n",
    "    out.println(\"Łańcuchy są równe\");\n",
    "} else {\n",
    "    out.println(\"Łańcuchy nie są równe\");\n",
    "}"
   ]
  },
  {
   "cell_type": "markdown",
   "metadata": {
    "slideshow": {
     "slide_type": "notes"
    }
   },
   "source": [
    "Łańcuchy można \"modyfikować\", za pomocą operatora konkatenacji (+), ale w praktyce, ponieważ w Javie łańcuchy są niezmienne, oznacza to zawsze utworzenie nowego łańcucha. Z tego względu jeśli łańcuch jest wielokrotnie modyfikowany, to powstaje wiele obiektów, które muszą być obsłużone przez Garbage collectora (śmieciarza). Ponadto tak \"zmodyfikowany\" łańcych nie równa się (w sensie referencji) oryginalnemu łańcuchowi."
   ]
  },
  {
   "cell_type": "code",
   "execution_count": 85,
   "metadata": {
    "ExecuteTime": {
     "end_time": "2022-10-13T16:07+0000",
     "start_time": "2022-10-13T16:07:24.091Z"
    },
    "slideshow": {
     "slide_type": "subslide"
    }
   },
   "outputs": [
    {
     "name": "stdout",
     "output_type": "stream",
     "text": [
      "Fabryki łańcuchów są równe\n",
      "km/h\n"
     ]
    }
   ],
   "source": [
    "import static java.lang.System.out;\n",
    "\n",
    "String km = \"km\";\n",
    "String divider = \"/\";\n",
    "String hour = \"h\";\n",
    "\n",
    "StringBuilder builder1 = new StringBuilder();\n",
    "StringBuilder builder2 = builder1;\n",
    "builder1.append(km);\n",
    "builder1.append(divider);\n",
    "builder1.append(hour);\n",
    "\n",
    "if(builder1 == builder2){\n",
    "    out.println(\"Fabryki łańcuchów są równe\");\n",
    "} else {\n",
    "    out.println(\"Fabryki łańcuchów nie są równe\");\n",
    "}\n",
    "\n",
    "out.println(builder1.toString());"
   ]
  },
  {
   "cell_type": "markdown",
   "metadata": {
    "slideshow": {
     "slide_type": "notes"
    }
   },
   "source": [
    "W sytuacji modyfikowania (budowania) łańcucha lepiej wykorzystać klasę `StringBuilder`. Dzięki metodzie `append` można doklejać kolejne fragmenty, co jest znacznie bardziej wydajne, a ponadto oryginalny budwoniczy jest tożsamy z budowniczym po modyfikacjach. Aby uzuskać efekt końcowy trzeba wywołać metodę `toString()`. Metoda ta jest zdefiniowana dla wszystkich klas i jej celem jest uzyskanie reprezentacji obiektu w postaci łańcucha znaków. Dzięki temu można np. wyświetlić go w konsoli."
   ]
  },
  {
   "cell_type": "markdown",
   "metadata": {
    "slideshow": {
     "slide_type": "slide"
    }
   },
   "source": [
    "# Typ wyliczeniowy\n",
    "\n",
    "<img src=\"img/days.png\"/>"
   ]
  },
  {
   "cell_type": "code",
   "execution_count": 86,
   "metadata": {
    "ExecuteTime": {
     "end_time": "2022-10-13T16:08+0000",
     "start_time": "2022-10-13T16:08:10.878Z"
    },
    "slideshow": {
     "slide_type": "subslide"
    }
   },
   "outputs": [
    {
     "name": "stdout",
     "output_type": "stream",
     "text": [
      "TUESDAY\n",
      "1\n",
      "[MONDAY, TUESDAY, WEDNESDAY, THURSDAY, FRIDAY, SATURDAY, SUNDAY]\n"
     ]
    }
   ],
   "source": [
    "import static java.lang.System.out;\n",
    "import java.util.*;\n",
    "\n",
    "enum DayOfWeek {\n",
    "    MONDAY,\n",
    "    TUESDAY,\n",
    "    WEDNESDAY,\n",
    "    THURSDAY,\n",
    "    FRIDAY,\n",
    "    SATURDAY,\n",
    "    SUNDAY\n",
    "}\n",
    "\n",
    "\n",
    "DayOfWeek day = DayOfWeek.TUESDAY;\n",
    "out.println(day.name());\n",
    "out.println(day.ordinal());\n",
    "out.println(Arrays.toString(DayOfWeek.values()));"
   ]
  },
  {
   "cell_type": "markdown",
   "metadata": {
    "slideshow": {
     "slide_type": "notes"
    }
   },
   "source": [
    "Typ wyliczeniowy jest wykorzystywany do definiowania wartości, które należą do niewielkiego zbioru. Należy pamietać, że nowe wartości mogą być dodawane na końcu - w przeciwnym razie wartości liczbowe odpowiadające nazwom zostaną zmienione."
   ]
  },
  {
   "cell_type": "markdown",
   "metadata": {
    "slideshow": {
     "slide_type": "subslide"
    }
   },
   "source": [
    "# Instrukcja selekcji i typ wyliczeniowy"
   ]
  },
  {
   "cell_type": "code",
   "execution_count": 90,
   "metadata": {
    "ExecuteTime": {
     "end_time": "2022-10-13T16:10+0000",
     "start_time": "2022-10-13T16:10:06.925Z"
    },
    "slideshow": {
     "slide_type": "fragment"
    }
   },
   "outputs": [
    {
     "name": "stdout",
     "output_type": "stream",
     "text": [
      "Płaska środa\n"
     ]
    }
   ],
   "source": [
    "import static java.lang.System.out;\n",
    "\n",
    "DayOfWeek day = DayOfWeek.WEDNESDAY;\n",
    "\n",
    "switch(day){\n",
    "    case MONDAY:\n",
    "        out.println(\"Jak ja nie lubię poniedziałków!\");\n",
    "        break;\n",
    "    case TUESDAY:\n",
    "        out.println(\"Wtorek środę wziął pod brodę\");\n",
    "        break;\n",
    "    case WEDNESDAY:\n",
    "        out.println(\"Płaska środa\");\n",
    "        break;\n",
    "}"
   ]
  },
  {
   "cell_type": "markdown",
   "metadata": {
    "slideshow": {
     "slide_type": "notes"
    }
   },
   "source": [
    "Instrukcja może być wygenerowane przez IDE."
   ]
  },
  {
   "cell_type": "markdown",
   "metadata": {
    "slideshow": {
     "slide_type": "subslide"
    }
   },
   "source": [
    "# Instrukcja selekcji i łańcuchy znaków"
   ]
  },
  {
   "cell_type": "code",
   "execution_count": 88,
   "metadata": {
    "ExecuteTime": {
     "end_time": "2022-10-13T16:09+0000",
     "start_time": "2022-10-13T16:09:20.669Z"
    },
    "slideshow": {
     "slide_type": "fragment"
    }
   },
   "outputs": [
    {
     "name": "stdout",
     "output_type": "stream",
     "text": [
      "Dzień jak co dzień\n"
     ]
    }
   ],
   "source": [
    "import static java.lang.System.out;\n",
    "String day = \"teusday\";\n",
    "\n",
    "switch(day){\n",
    "    case \"monday\":\n",
    "        out.println(\"Jak ja nie lubię poniedziałków!\");\n",
    "        break;\n",
    "    case \"tuesday\":\n",
    "        out.println(\"Wtorek środę wziął pod brodę\");\n",
    "        break;\n",
    "    case \"wednesday\":\n",
    "        out.println(\"Płaska środa\");\n",
    "        break;\n",
    "    default:\n",
    "        out.println(\"Dzień jak co dzień\");\n",
    "        break;\n",
    "}"
   ]
  },
  {
   "cell_type": "markdown",
   "metadata": {
    "slideshow": {
     "slide_type": "notes"
    }
   },
   "source": [
    "Switch dla Stringów działa od Javy 7. Łatwo jednak o pomyłkę - w przykładzie jest literówka."
   ]
  },
  {
   "cell_type": "markdown",
   "metadata": {
    "slideshow": {
     "slide_type": "subslide"
    }
   },
   "source": [
    "# Porównywanie wartości typu wyliczeniowego"
   ]
  },
  {
   "cell_type": "code",
   "execution_count": 91,
   "metadata": {
    "ExecuteTime": {
     "end_time": "2022-10-13T16:10+0000",
     "start_time": "2022-10-13T16:10:24.653Z"
    },
    "slideshow": {
     "slide_type": "fragment"
    }
   },
   "outputs": [
    {
     "name": "stdout",
     "output_type": "stream",
     "text": [
      "Dni są równe\n"
     ]
    }
   ],
   "source": [
    "import static java.lang.System.out;\n",
    "\n",
    "DayOfWeek day1 = DayOfWeek.MONDAY;\n",
    "DayOfWeek day2 = DayOfWeek.MONDAY;\n",
    "\n",
    "if(day1 == day2){\n",
    "    out.println(\"Dni są równe\");\n",
    "} else {\n",
    "    out.println(\"Dni nie są równe\");\n",
    "}"
   ]
  },
  {
   "cell_type": "markdown",
   "metadata": {
    "slideshow": {
     "slide_type": "subslide"
    }
   },
   "source": [
    "![Pytania? ](img/question.jpg)"
   ]
  }
 ],
 "metadata": {
  "celltoolbar": "Slideshow",
  "kernelspec": {
   "display_name": "Java",
   "language": "java",
   "name": "java"
  },
  "language_info": {
   "codemirror_mode": "java",
   "file_extension": ".jshell",
   "mimetype": "text/x-java-source",
   "name": "Java",
   "pygments_lexer": "java",
   "version": "17.0.2+8-86"
  },
  "toc": {
   "base_numbering": 1,
   "nav_menu": {},
   "number_sections": false,
   "sideBar": false,
   "skip_h1_title": false,
   "title_cell": "Table of Contents",
   "title_sidebar": "Contents",
   "toc_cell": false,
   "toc_position": {},
   "toc_section_display": false,
   "toc_window_display": false
  }
 },
 "nbformat": 4,
 "nbformat_minor": 2
}
