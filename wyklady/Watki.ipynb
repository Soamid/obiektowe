{
 "cells": [
  {
   "cell_type": "markdown",
   "metadata": {
    "slideshow": {
     "slide_type": "slide"
    }
   },
   "source": [
    "# Programowanie współbieżne\n",
    "\n",
    "## Wątki, zadania, synchronizacja, monitory, wartości atomowe, kolekcje\n",
    "\n",
    "<br/>\n",
    "\n",
    "## dr inż. Aleksander Smywiński-Pohl\n",
    "\n",
    "## apohllo@o2.pl\n",
    "\n",
    "## http://apohllo.pl/dydaktyka/programowanie-obiektowe\n",
    "\n",
    "Część przykładów pochodzi ze strony:\n",
    "http://winterbe.com"
   ]
  },
  {
   "cell_type": "markdown",
   "metadata": {
    "slideshow": {
     "slide_type": "slide"
    }
   },
   "source": [
    "# Java + Threads\n",
    "\n",
    "<img src=\"img/thread.png\" width=\"300\"/>"
   ]
  },
  {
   "cell_type": "markdown",
   "metadata": {
    "slideshow": {
     "slide_type": "slide"
    }
   },
   "source": [
    "# Program, proces, wątek\n",
    "\n",
    "<img src=\"img/process_and_thread.png\"/>\n",
    "\n",
    "* program - plik lub zestaw plików opisujących w jakis sposób należy przetwarzać dane\n",
    "* proces - uruchomiony program posiadający własną pamięć oraz licznik instrukcji\n",
    "* wątek - lekki proces w obrębie działającego programu, posiadający własny stos oraz licznik instrukcji"
   ]
  },
  {
   "cell_type": "markdown",
   "metadata": {
    "slideshow": {
     "slide_type": "slide"
    }
   },
   "source": [
    "# `Thread`"
   ]
  },
  {
   "cell_type": "code",
   "execution_count": 1,
   "metadata": {
    "slideshow": {
     "slide_type": "-"
    }
   },
   "outputs": [
    {
     "data": {
      "text/plain": [
       "null"
      ]
     },
     "execution_count": 1,
     "metadata": {},
     "output_type": "execute_result"
    }
   ],
   "source": [
    "import static java.lang.System.out;\n",
    "import java.util.List;\n",
    "import java.util.LinkedList;\n",
    "\n",
    "List<Thread> threads = new LinkedList<>();\n",
    "\n",
    "threads.add(new Thread(() -> out.println(\"Wątek \" + \n",
    "    Thread.currentThread().getName())));\n",
    "threads.add(new Thread(() -> out.println(\"Wątek \" + \n",
    "    Thread.currentThread().getName())));\n",
    "threads.add(new Thread(() -> out.println(\"Wątek \" + \n",
    "    Thread.currentThread().getName())));\n",
    "\n",
    "threads.forEach(Thread::start);"
   ]
  },
  {
   "cell_type": "markdown",
   "metadata": {
    "slideshow": {
     "slide_type": "subslide"
    }
   },
   "source": [
    "# `Runnable`"
   ]
  },
  {
   "cell_type": "code",
   "execution_count": 6,
   "metadata": {
    "slideshow": {
     "slide_type": "-"
    }
   },
   "outputs": [
    {
     "data": {
      "text/plain": [
       "null"
      ]
     },
     "execution_count": 6,
     "metadata": {},
     "output_type": "execute_result"
    }
   ],
   "source": [
    "import static java.lang.System.out;\n",
    "import java.util.List;\n",
    "import java.util.LinkedList;\n",
    "\n",
    "List<Runnable> tasks = new LinkedList<>();\n",
    "\n",
    "tasks.add(() -> out.println(\"Zadanie \" + \n",
    "    Thread.currentThread().getName()));\n",
    "tasks.add(() -> out.println(\"Zadanie \" + \n",
    "    Thread.currentThread().getName()));\n",
    "tasks.add(() -> out.println(\"Zadanie \" + \n",
    "    Thread.currentThread().getName()));\n",
    "\n",
    "tasks.forEach((task) -> new Thread(task).start());"
   ]
  },
  {
   "cell_type": "markdown",
   "metadata": {
    "slideshow": {
     "slide_type": "subslide"
    }
   },
   "source": [
    "# `Thread#sleep()`\n",
    "\n",
    "<img src=\"img/sleeping_cat.jpg\"/>"
   ]
  },
  {
   "cell_type": "code",
   "execution_count": 9,
   "metadata": {
    "slideshow": {
     "slide_type": "subslide"
    }
   },
   "outputs": [
    {
     "data": {
      "text/plain": [
       "null"
      ]
     },
     "execution_count": 9,
     "metadata": {},
     "output_type": "execute_result"
    }
   ],
   "source": [
    "import static java.lang.System.out;\n",
    "import java.util.concurrent.*;\n",
    "\n",
    "Thread sleepingThread = new Thread(() -> {\n",
    "    try{\n",
    "        out.println(\"Przed snem\");\n",
    "        TimeUnit.SECONDS.sleep(3);\n",
    "        out.println(\"Koniec snu\");\n",
    "    } catch (InterruptedException ex) {\n",
    "        out.println(\"Wątek został przerwany\");\n",
    "    }\n",
    "});\n",
    "sleepingThread.start();\n",
    "sleepingThread.join();"
   ]
  },
  {
   "cell_type": "markdown",
   "metadata": {
    "slideshow": {
     "slide_type": "slide"
    }
   },
   "source": [
    "# `ExecutorService`\n",
    "\n",
    "<img src=\"img/executor.jpg\"/>"
   ]
  },
  {
   "cell_type": "code",
   "execution_count": 19,
   "metadata": {
    "slideshow": {
     "slide_type": "subslide"
    }
   },
   "outputs": [
    {
     "data": {
      "text/plain": [
       "null"
      ]
     },
     "execution_count": 19,
     "metadata": {},
     "output_type": "execute_result"
    }
   ],
   "source": [
    "import java.util.concurrent.*;\n",
    "import static java.lang.System.out;\n",
    "\n",
    "ExecutorService executor =  Executors.newSingleThreadExecutor();\n",
    "executor.submit(() -> out.println(\"Wykonanie \" + \n",
    "    Thread.currentThread().getName()));\n",
    "executor.shutdown();\n",
    "executor.awaitTermination(1, TimeUnit.SECONDS);"
   ]
  },
  {
   "cell_type": "markdown",
   "metadata": {
    "slideshow": {
     "slide_type": "subslide"
    }
   },
   "source": [
    "# `Future`\n",
    "\n",
    "<img src=\"img/future.jpg\"/>"
   ]
  },
  {
   "cell_type": "code",
   "execution_count": 7,
   "metadata": {
    "slideshow": {
     "slide_type": "subslide"
    }
   },
   "outputs": [
    {
     "name": "stdout",
     "output_type": "stream",
     "text": [
      "obliczenie zakończone? false\n",
      "obliczenie zakończone? true\n",
      "wynik: 123"
     ]
    },
    {
     "data": {
      "text/plain": [
       "null"
      ]
     },
     "execution_count": 7,
     "metadata": {},
     "output_type": "execute_result"
    }
   ],
   "source": [
    "import java.util.concurrent.*;\n",
    "Callable<Integer> task = () -> {\n",
    "    try {\n",
    "        TimeUnit.SECONDS.sleep(1);\n",
    "        return 123;\n",
    "    } catch (InterruptedException e) {\n",
    "        throw new IllegalStateException(\"wątek został przerwany\", e);\n",
    "    }\n",
    "};\n",
    "\n",
    "ExecutorService executor = Executors.newFixedThreadPool(1);\n",
    "Future<Integer> future = executor.submit(task);\n",
    "\n",
    "System.out.println(\"obliczenie zakończone? \" + future.isDone());\n",
    "\n",
    "Integer result = future.get();\n",
    "\n",
    "System.out.println(\"obliczenie zakończone? \" + future.isDone());\n",
    "System.out.print(\"wynik: \" + result);"
   ]
  },
  {
   "cell_type": "markdown",
   "metadata": {
    "slideshow": {
     "slide_type": "subslide"
    }
   },
   "source": [
    "# Rodzaje wykonawców (`ExecutorService`)\n",
    "\n",
    "* `newCachedThreadPool` - tworzy wątki w zależności od potrzeb i usuwa je jeśli nie są używane przez 60 sekund\n",
    "* `newFixedThreadPool` - cały czas przechowuje niezakończone wątki\n",
    "* `newScheduledThreadPool` - posiada możliwość odroczonego i periodycznego wykonania wątków\n",
    "* `newSingleThreadExecutor` - wykonanie jednowątkowe\n",
    "* `newSingleThreadScheduledExecutor` - jw. ale z możliwością odroczonego i periodycznego wykonania\n"
   ]
  },
  {
   "cell_type": "markdown",
   "metadata": {
    "slideshow": {
     "slide_type": "subslide"
    }
   },
   "source": [
    "# `ScheduledExecutor`"
   ]
  },
  {
   "cell_type": "code",
   "execution_count": 2,
   "metadata": {
    "slideshow": {
     "slide_type": "-"
    }
   },
   "outputs": [
    {
     "name": "stdout",
     "output_type": "stream",
     "text": [
      "Czas pozostały do wykonania 2699\n"
     ]
    },
    {
     "data": {
      "text/plain": [
       "null"
      ]
     },
     "execution_count": 2,
     "metadata": {},
     "output_type": "execute_result"
    }
   ],
   "source": [
    "import java.util.concurrent.*;\n",
    "import static java.lang.System.out;\n",
    "ScheduledExecutorService executor = Executors.newScheduledThreadPool(2);\n",
    "\n",
    "Runnable task = () -> out.println(\"Wykonanie \" + \n",
    "    Thread.currentThread().getName());\n",
    "ScheduledFuture<?> future = executor.schedule(task, 3, TimeUnit.SECONDS);\n",
    "\n",
    "TimeUnit.MILLISECONDS.sleep(300);\n",
    "\n",
    "out.println(\"Czas pozostały do wykonania \" + \n",
    "    future.getDelay(TimeUnit.MILLISECONDS));\n",
    "executor.shutdown();\n",
    "executor.awaitTermination(1, TimeUnit.SECONDS);"
   ]
  },
  {
   "cell_type": "markdown",
   "metadata": {
    "slideshow": {
     "slide_type": "slide"
    }
   },
   "source": [
    "# Hazard (Race condition)"
   ]
  },
  {
   "cell_type": "code",
   "execution_count": 36,
   "metadata": {
    "slideshow": {
     "slide_type": "-"
    }
   },
   "outputs": [
    {
     "data": {
      "text/plain": [
       "com.twosigma.beaker.javash.bkr58d4ad01.RaceCondition1"
      ]
     },
     "execution_count": 36,
     "metadata": {},
     "output_type": "execute_result"
    }
   ],
   "source": [
    "class RaceCondition1 {\n",
    "    private int counter = 0;\n",
    "    \n",
    "    public synchronized void increment() {\n",
    "        this.counter += 1;\n",
    "    }\n",
    "    \n",
    "    public synchronized int getCounter(){\n",
    "        return this.counter;\n",
    "    }\n",
    "}"
   ]
  },
  {
   "cell_type": "code",
   "execution_count": 11,
   "metadata": {
    "slideshow": {
     "slide_type": "subslide"
    }
   },
   "outputs": [
    {
     "name": "stdout",
     "output_type": "stream",
     "text": [
      "10000\n"
     ]
    },
    {
     "data": {
      "text/plain": [
       "null"
      ]
     },
     "execution_count": 11,
     "metadata": {},
     "output_type": "execute_result"
    }
   ],
   "source": [
    "import java.util.concurrent.*;\n",
    "import java.util.stream.*;\n",
    "\n",
    "RaceCondition object = new RaceCondition();\n",
    "\n",
    "IntStream.range(0, 10000).forEach(i -> object.increment());\n",
    "\n",
    "System.out.println(object.getCounter());"
   ]
  },
  {
   "cell_type": "code",
   "execution_count": 56,
   "metadata": {
    "slideshow": {
     "slide_type": "subslide"
    }
   },
   "outputs": [
    {
     "name": "stdout",
     "output_type": "stream",
     "text": [
      "10000\n"
     ]
    },
    {
     "data": {
      "text/plain": [
       "null"
      ]
     },
     "execution_count": 56,
     "metadata": {},
     "output_type": "execute_result"
    }
   ],
   "source": [
    "import java.util.concurrent.*;\n",
    "import java.util.stream.*;\n",
    "\n",
    "ExecutorService executor = Executors.newFixedThreadPool(2);\n",
    "\n",
    "RaceCondition1 object = new RaceCondition1();\n",
    "\n",
    "IntStream.range(0, 10000).forEach(i -> executor.submit(object::increment));\n",
    "\n",
    "executor.shutdown();\n",
    "executor.awaitTermination(1, TimeUnit.SECONDS);\n",
    "\n",
    "System.out.println(object.getCounter());"
   ]
  },
  {
   "cell_type": "markdown",
   "metadata": {
    "slideshow": {
     "slide_type": "fragment"
    }
   },
   "source": [
    "<img src=\"img/race.jpg\"/>"
   ]
  },
  {
   "cell_type": "markdown",
   "metadata": {
    "slideshow": {
     "slide_type": "subslide"
    }
   },
   "source": [
    "# Sekcja krytyczna (`synchronized`)"
   ]
  },
  {
   "cell_type": "code",
   "execution_count": 26,
   "metadata": {
    "slideshow": {
     "slide_type": "-"
    }
   },
   "outputs": [
    {
     "data": {
      "text/plain": [
       "com.twosigma.beaker.javash.bkrd472e7ed.SynchronizedAccessors"
      ]
     },
     "execution_count": 26,
     "metadata": {},
     "output_type": "execute_result"
    }
   ],
   "source": [
    "class SynchronizedAccessors {\n",
    "    private int counter = 0;\n",
    "\n",
    "    public synchronized void increment() {\n",
    "        this.counter += 1;\n",
    "    }\n",
    "\n",
    "    public synchronized int getCounter(){\n",
    "        return this.counter;\n",
    "    }\n",
    "}"
   ]
  },
  {
   "cell_type": "code",
   "execution_count": 23,
   "metadata": {
    "slideshow": {
     "slide_type": "subslide"
    }
   },
   "outputs": [
    {
     "data": {
      "text/plain": [
       "com.twosigma.beaker.javash.bkr95d596b3.Monitor"
      ]
     },
     "execution_count": 23,
     "metadata": {},
     "output_type": "execute_result"
    }
   ],
   "source": [
    "class Monitor {\n",
    "    private int counter = 0;\n",
    "\n",
    "    public void increment() {\n",
    "        synchronized(this) {\n",
    "            this.counter += 1;\n",
    "        }\n",
    "    }\n",
    "\n",
    "    public int getCounter(){\n",
    "        synchronized(this) {\n",
    "            return this.counter;\n",
    "        }\n",
    "    }\n",
    "}"
   ]
  },
  {
   "cell_type": "markdown",
   "metadata": {
    "slideshow": {
     "slide_type": "subslide"
    }
   },
   "source": [
    "# `wait` i `notify`"
   ]
  },
  {
   "cell_type": "code",
   "execution_count": 92,
   "metadata": {
    "slideshow": {
     "slide_type": "-"
    }
   },
   "outputs": [
    {
     "data": {
      "text/plain": [
       "com.twosigma.beaker.javash.bkrd242ace9.StringStack"
      ]
     },
     "execution_count": 92,
     "metadata": {},
     "output_type": "execute_result"
    }
   ],
   "source": [
    "import java.util.*;\n",
    "import static java.lang.System.out;\n",
    "\n",
    "class StringStack {\n",
    "    private List<String> stack = new LinkedList<>();\n",
    "    \n",
    "    public void push(String value){\n",
    "        synchronized(this) {\n",
    "            stack.add(value);\n",
    "            notify();\n",
    "        }\n",
    "    }\n",
    "    \n",
    "    public String pop(){\n",
    "        synchronized(this) {\n",
    "            while(stack.isEmpty()){\n",
    "                try {\n",
    "                    wait();\n",
    "                } catch (InterruptedException ex) {\n",
    "                    out.println(\"Wątek został przerwany\");\n",
    "                }\n",
    "            }\n",
    "            return stack.remove(stack.size() - 1);\n",
    "        }\n",
    "    }\n",
    "}"
   ]
  },
  {
   "cell_type": "code",
   "execution_count": 95,
   "metadata": {
    "slideshow": {
     "slide_type": "subslide"
    }
   },
   "outputs": [
    {
     "data": {
      "text/plain": [
       "null"
      ]
     },
     "execution_count": 95,
     "metadata": {},
     "output_type": "execute_result"
    }
   ],
   "source": [
    "import static java.lang.System.out;\n",
    "\n",
    "StringStack stack = new StringStack();\n",
    "\n",
    "Thread adder = new Thread(() -> {\n",
    "    try {\n",
    "        Thread.sleep(1000);\n",
    "        stack.push(\"abc\");\n",
    "        Thread.sleep(1000);\n",
    "        stack.push(\"def\");\n",
    "    } catch (InterruptedException ex) {\n",
    "        out.println(\"Wątek dodający został przerwany\");\n",
    "    }\n",
    "});\n",
    "\n",
    "Thread reader = new Thread(() -> {\n",
    "    out.println(stack.pop());\n",
    "    out.println(stack.pop());\n",
    "});\n",
    "\n",
    "\n",
    "reader.start();\n",
    "adder.start();"
   ]
  },
  {
   "cell_type": "markdown",
   "metadata": {
    "slideshow": {
     "slide_type": "subslide"
    }
   },
   "source": [
    "# `ReentrantLock`"
   ]
  },
  {
   "cell_type": "code",
   "execution_count": 96,
   "metadata": {
    "slideshow": {
     "slide_type": "-"
    }
   },
   "outputs": [
    {
     "data": {
      "text/plain": [
       "com.twosigma.beaker.javash.bkrd242ace9.ReentrantLockAccessors"
      ]
     },
     "execution_count": 96,
     "metadata": {},
     "output_type": "execute_result"
    }
   ],
   "source": [
    "import java.util.concurrent.locks.*;\n",
    "\n",
    "class ReentrantLockAccessors {\n",
    "    private int counter = 0;\n",
    "    private Lock lock = new ReentrantLock();\n",
    "\n",
    "    public void increment() {\n",
    "        lock.lock();\n",
    "        try {\n",
    "            this.counter += 1;\n",
    "        } finally {\n",
    "            lock.unlock();\n",
    "        }\n",
    "    }\n",
    "\n",
    "    public int getCounter(){\n",
    "        lock.lock();\n",
    "        try {\n",
    "            return this.counter;\n",
    "        } finally {\n",
    "            lock.unlock();\n",
    "        }\n",
    "    }\n",
    "}"
   ]
  },
  {
   "cell_type": "markdown",
   "metadata": {
    "slideshow": {
     "slide_type": "slide"
    }
   },
   "source": [
    "# `AtomicInteger`"
   ]
  },
  {
   "cell_type": "code",
   "execution_count": null,
   "metadata": {
    "slideshow": {
     "slide_type": "-"
    }
   },
   "outputs": [],
   "source": [
    "import java.util.stream.*;\n",
    "import java.util.concurrent.*;\n",
    "import java.util.concurrent.atomic.*;\n",
    "\n",
    "AtomicInteger atomicInt = new AtomicInteger(0);\n",
    "\n",
    "ExecutorService executor = Executors.newFixedThreadPool(2);\n",
    "\n",
    "IntStream.range(0, 1000).forEach(i -> executor.submit(atomicInt::incrementAndGet));\n",
    "\n",
    "executor.shutdown();\n",
    "executor.awaitTermination(1, TimeUnit.SECONDS);\n",
    "\n",
    "System.out.println(atomicInt.get());"
   ]
  },
  {
   "cell_type": "code",
   "execution_count": 47,
   "metadata": {
    "slideshow": {
     "slide_type": "subslide"
    }
   },
   "outputs": [
    {
     "name": "stdout",
     "output_type": "stream",
     "text": [
      "2000\n"
     ]
    },
    {
     "data": {
      "text/plain": [
       "null"
      ]
     },
     "execution_count": 47,
     "metadata": {},
     "output_type": "execute_result"
    }
   ],
   "source": [
    "import java.util.stream.*;\n",
    "import java.util.concurrent.*;\n",
    "import java.util.concurrent.atomic.*;\n",
    "\n",
    "AtomicInteger atomicInt = new AtomicInteger(0);\n",
    "\n",
    "ExecutorService executor = Executors.newFixedThreadPool(2);\n",
    "\n",
    "IntStream.range(0, 1000).forEach(i -> {\n",
    "    executor.submit(() -> atomicInt.updateAndGet(n -> n + 2));\n",
    "});\n",
    "\n",
    "executor.shutdown();\n",
    "executor.awaitTermination(1, TimeUnit.SECONDS);\n",
    "\n",
    "System.out.println(atomicInt.get());"
   ]
  },
  {
   "cell_type": "markdown",
   "metadata": {
    "slideshow": {
     "slide_type": "subslide"
    }
   },
   "source": [
    "# `AtomictInt`\n",
    "\n",
    "* `addAndGet`\n",
    "* `compareAndSet`\n",
    "* `decrementAndGet`\n",
    "* `get`\n",
    "* `getAndAdd`\n",
    "* `getAndDecrement`\n",
    "* `getAndIncrement`\n",
    "* `getAndSet`\n",
    "* ..."
   ]
  },
  {
   "cell_type": "markdown",
   "metadata": {
    "slideshow": {
     "slide_type": "subslide"
    }
   },
   "source": [
    "# `LongAdder`"
   ]
  },
  {
   "cell_type": "code",
   "execution_count": 101,
   "metadata": {
    "slideshow": {
     "slide_type": "-"
    }
   },
   "outputs": [
    {
     "name": "stdout",
     "output_type": "stream",
     "text": [
      "1000\n"
     ]
    },
    {
     "data": {
      "text/plain": [
       "null"
      ]
     },
     "execution_count": 101,
     "metadata": {},
     "output_type": "execute_result"
    }
   ],
   "source": [
    "import java.util.stream.*;\n",
    "import java.util.concurrent.*;\n",
    "import java.util.concurrent.atomic.*;\n",
    "\n",
    "LongAdder adder = new LongAdder();\n",
    "ExecutorService executor = Executors.newFixedThreadPool(2);\n",
    "\n",
    "IntStream.range(0, 1000).forEach(i -> executor.submit(adder::increment));\n",
    "\n",
    "executor.shutdown();\n",
    "executor.awaitTermination(1, TimeUnit.SECONDS);\n",
    "\n",
    "System.out.println(adder.sumThenReset()); "
   ]
  },
  {
   "cell_type": "markdown",
   "metadata": {
    "slideshow": {
     "slide_type": "subslide"
    }
   },
   "source": [
    "<img src=\"img/long_adder.png\"/>"
   ]
  },
  {
   "cell_type": "markdown",
   "metadata": {
    "slideshow": {
     "slide_type": "subslide"
    }
   },
   "source": [
    "# `LongAccumulator`"
   ]
  },
  {
   "cell_type": "code",
   "execution_count": 86,
   "metadata": {},
   "outputs": [
    {
     "name": "stdout",
     "output_type": "stream",
     "text": [
      "46\n"
     ]
    },
    {
     "data": {
      "text/plain": [
       "null"
      ]
     },
     "execution_count": 86,
     "metadata": {},
     "output_type": "execute_result"
    }
   ],
   "source": [
    "import java.util.stream.*;\n",
    "import java.util.concurrent.*;\n",
    "import java.util.concurrent.atomic.*;\n",
    "import java.util.function.*;\n",
    "\n",
    "LongBinaryOperator operation = (x, y) -> x + y;\n",
    "LongAccumulator accumulator = new LongAccumulator(operation, 1);\n",
    "\n",
    "ExecutorService executor = Executors.newFixedThreadPool(2);\n",
    "\n",
    "IntStream.range(0, 10).forEach(i -> executor.submit(\n",
    "    () -> accumulator.accumulate(i)));\n",
    "\n",
    "executor.shutdown();\n",
    "executor.awaitTermination(1, TimeUnit.SECONDS);\n",
    "\n",
    "System.out.println(accumulator.getThenReset());"
   ]
  },
  {
   "cell_type": "markdown",
   "metadata": {
    "slideshow": {
     "slide_type": "slide"
    }
   },
   "source": [
    "# Przetwarzanie współbieżne a kolekcje\n",
    "\n",
    "* `CopyOnWriteArrayList`\n",
    "* `ConcurrentHashMap`\n",
    "* `parallelStream`"
   ]
  },
  {
   "cell_type": "markdown",
   "metadata": {
    "slideshow": {
     "slide_type": "subslide"
    }
   },
   "source": [
    "# ConcurrentModificationException"
   ]
  },
  {
   "cell_type": "code",
   "execution_count": 24,
   "metadata": {
    "slideshow": {
     "slide_type": "-"
    }
   },
   "outputs": [
    {
     "data": {
      "text/plain": [
       "null"
      ]
     },
     "execution_count": 24,
     "metadata": {},
     "output_type": "execute_result"
    }
   ],
   "source": [
    "import java.util.*;\n",
    "import java.util.stream.*;\n",
    "import java.util.concurrent.*;\n",
    "\n",
    "List<Integer> list = new LinkedList<>();  // <-----------------------\n",
    "\n",
    "ExecutorService executor = Executors.newFixedThreadPool(200);\n",
    "\n",
    "IntStream.range(1,50).forEach((i) -> executor.submit(() -> { \n",
    "  System.out.println(\"\" + i + \" from \" + Thread.currentThread().getName());\n",
    "  list.add(i); \n",
    "}));\n",
    "\n",
    "executor.submit(() -> {\n",
    "  Iterator<Integer> iterator = list.iterator();\n",
    "  while(iterator.hasNext()){\n",
    "    try {\n",
    "      System.out.println(\"\" + iterator.next() + \" reading from \" + \n",
    "          Thread.currentThread().getName());\n",
    "    } catch(Exception ex) {\n",
    "      ex.printStackTrace();\n",
    "    }\n",
    "  }\n",
    "});\n",
    "\n",
    "IntStream.range(1,50).forEach((i) -> executor.submit(() -> { \n",
    "  System.out.println(\"\" + i + \" from \" + Thread.currentThread().getName());\n",
    "  list.add(i); \n",
    "}));\n",
    "\n",
    "executor.shutdown();\n",
    "executor.awaitTermination(1, TimeUnit.SECONDS);"
   ]
  },
  {
   "cell_type": "markdown",
   "metadata": {
    "slideshow": {
     "slide_type": "subslide"
    }
   },
   "source": [
    "# `CopyOnWriteArrayList`"
   ]
  },
  {
   "cell_type": "code",
   "execution_count": 118,
   "metadata": {},
   "outputs": [
    {
     "data": {
      "text/plain": [
       "null"
      ]
     },
     "execution_count": 118,
     "metadata": {},
     "output_type": "execute_result"
    }
   ],
   "source": [
    "import java.util.*;\n",
    "import java.util.stream.*;\n",
    "import java.util.concurrent.*;\n",
    "import java.util.concurrent.atomic.*;\n",
    "\n",
    "List<Integer> list = new CopyOnWriteArrayList<>();  // <-----------------------\n",
    "\n",
    "ExecutorService executor = Executors.newFixedThreadPool(200);\n",
    "\n",
    "IntStream.range(1,50).forEach((i) -> executor.submit(() -> { \n",
    "  System.out.println(\"\" + i + \" from \" + Thread.currentThread().getName());\n",
    "  list.add(i); \n",
    "}));\n",
    "\n",
    "executor.submit(() -> {\n",
    "  Iterator<Integer> iterator = list.iterator();\n",
    "  while(iterator.hasNext()){\n",
    "    try {\n",
    "      System.out.println(\"\" + iterator.next() + \" reading from \" + \n",
    "          Thread.currentThread().getName());\n",
    "    } catch(Exception ex) {\n",
    "      ex.printStackTrace();\n",
    "    }\n",
    "  }\n",
    "});\n",
    "\n",
    "IntStream.range(1,50).forEach((i) -> executor.submit(() -> { \n",
    "  System.out.println(\"\" + i + \" from \" + Thread.currentThread().getName());\n",
    "  list.add(i); \n",
    "}));\n",
    "\n",
    "executor.shutdown();\n",
    "executor.awaitTermination(1, TimeUnit.SECONDS);"
   ]
  },
  {
   "cell_type": "markdown",
   "metadata": {
    "slideshow": {
     "slide_type": "subslide"
    }
   },
   "source": [
    "# `CommonPoolParallelism`\n",
    "\n"
   ]
  },
  {
   "cell_type": "code",
   "execution_count": null,
   "metadata": {
    "slideshow": {
     "slide_type": "-"
    }
   },
   "outputs": [
    {
     "name": "stdout",
     "output_type": "stream",
     "text": [
      "3\n"
     ]
    }
   ],
   "source": [
    "import java.util.concurrent.*;\n",
    "\n",
    "System.out.println(ForkJoinPool.getCommonPoolParallelism());\n",
    "\n",
    "//-Djava.util.concurrent.ForkJoinPool.common.parallelism=5"
   ]
  },
  {
   "cell_type": "markdown",
   "metadata": {
    "slideshow": {
     "slide_type": "subslide"
    }
   },
   "source": [
    "# `ConcurrentHashMap`"
   ]
  },
  {
   "cell_type": "code",
   "execution_count": 4,
   "metadata": {
    "slideshow": {
     "slide_type": "-"
    }
   },
   "outputs": [
    {
     "name": "stdout",
     "output_type": "stream",
     "text": [
      "klucz: 1; wartość: jeden; wątek: javash0\n"
     ]
    },
    {
     "data": {
      "text/plain": [
       "null"
      ]
     },
     "execution_count": 4,
     "metadata": {},
     "output_type": "execute_result"
    }
   ],
   "source": [
    "import java.util.concurrent.*;\n",
    "\n",
    "ConcurrentHashMap<String, String> map = new ConcurrentHashMap<>();\n",
    "map.put(\"1\", \"jeden\");\n",
    "map.put(\"2\", \"dwa\");\n",
    "map.put(\"3\", \"trzy\");\n",
    "map.put(\"4\", \"cztery\");\n",
    "map.put(\"5\", \"pięć\");\n",
    "map.put(\"6\", \"sześć\");\n",
    "map.put(\"7\", \"siedem\");\n",
    "\n",
    "map.forEach(1, (key, value) -> System.out.printf(\"klucz: %s; wartość: %s; wątek: %s\\n\",\n",
    "        key, value, Thread.currentThread().getName()));"
   ]
  },
  {
   "cell_type": "markdown",
   "metadata": {
    "slideshow": {
     "slide_type": "subslide"
    }
   },
   "source": [
    "# `search`"
   ]
  },
  {
   "cell_type": "code",
   "execution_count": null,
   "metadata": {
    "slideshow": {
     "slide_type": "-"
    }
   },
   "outputs": [],
   "source": [
    "String result = map.search(1, (key, value) -> {\n",
    "    System.out.println(Thread.currentThread().getName());\n",
    "    if (\"5\".equals(key)) {\n",
    "        return value;\n",
    "    }\n",
    "    return null;\n",
    "});\n",
    "System.out.println(\"Wynik: \" + result);"
   ]
  },
  {
   "cell_type": "markdown",
   "metadata": {
    "slideshow": {
     "slide_type": "subslide"
    }
   },
   "source": [
    "# `reduce`"
   ]
  },
  {
   "cell_type": "code",
   "execution_count": null,
   "metadata": {
    "slideshow": {
     "slide_type": "-"
    }
   },
   "outputs": [],
   "source": [
    "String result = map.reduce(1,\n",
    "    (key, value) -> {\n",
    "        System.out.println(\"Przekształcenie: \" + Thread.currentThread().getName());\n",
    "        return key + \"=\" + value;\n",
    "    },\n",
    "    (s1, s2) -> {\n",
    "        System.out.println(\"Redukcja: \" + Thread.currentThread().getName());\n",
    "        return s1 + \", \" + s2;\n",
    "    });\n",
    "\n",
    "System.out.println(\"Wynik: \" + result);"
   ]
  },
  {
   "cell_type": "markdown",
   "metadata": {
    "slideshow": {
     "slide_type": "subslide"
    }
   },
   "source": [
    "# `stream`"
   ]
  },
  {
   "cell_type": "code",
   "execution_count": 5,
   "metadata": {
    "slideshow": {
     "slide_type": "-"
    }
   },
   "outputs": [
    {
     "data": {
      "text/plain": [
       "com.twosigma.beaker.javash.bkr6578c42e.SerialRun"
      ]
     },
     "execution_count": 5,
     "metadata": {},
     "output_type": "execute_result"
    }
   ],
   "source": [
    "import java.util.stream.*;\n",
    "\n",
    "class SerialRun {\n",
    "  private static long MILLION = 1000 * 1000;\n",
    "  public static void main(String[] args) {\n",
    "    if(args.length != 1){\n",
    "      System.out.println(\"Podaj liczbę uruchomień (w milionach)\");\n",
    "      return;\n",
    "    }\n",
    "    long top = MILLION * Integer.parseInt(args[0]);\n",
    "    long start = System.nanoTime();\n",
    "\n",
    "    double result = LongStream.range(0, top).filter(i -> i * i % 7 != 0).\n",
    "        average().getAsDouble();\n",
    "\n",
    "    long end = System.nanoTime();\n",
    "\n",
    "    System.out.println(result);\n",
    "    System.out.println((end - start) / 1000000000.0);\n",
    "  }\n",
    "}"
   ]
  },
  {
   "cell_type": "markdown",
   "metadata": {
    "slideshow": {
     "slide_type": "subslide"
    }
   },
   "source": [
    "# `parallel` oraz `parallelStream`"
   ]
  },
  {
   "cell_type": "code",
   "execution_count": null,
   "metadata": {
    "slideshow": {
     "slide_type": "-"
    }
   },
   "outputs": [],
   "source": [
    "import java.util.stream.*;\n",
    "\n",
    "class ParallelRun {\n",
    "  private static long MILLION = 1000 * 1000;\n",
    "  public static void main(String[] args) {\n",
    "    if(args.length != 1){\n",
    "      System.out.println(\"Podaj liczbę uruchomień (w milionach)\");\n",
    "      return;\n",
    "    }\n",
    "    long top = MILLION * Integer.parseInt(args[0]);\n",
    "    long start = System.nanoTime();\n",
    "\n",
    "    double result = LongStream.range(0, top).parallel().filter(i -> i * i % 7 != 0).\n",
    "        average().getAsDouble();\n",
    "\n",
    "    long end = System.nanoTime();\n",
    "\n",
    "    System.out.println(result);\n",
    "    System.out.println((end - start) / 1000000000.0);\n",
    "  }\n",
    "}"
   ]
  },
  {
   "cell_type": "markdown",
   "metadata": {
    "slideshow": {
     "slide_type": "slide"
    }
   },
   "source": [
    "![Pytania? ](http://cliparts.co/cliparts/qcB/jqg/qcBjqgxc5.jpg)"
   ]
  }
 ],
 "metadata": {
  "celltoolbar": "Slideshow",
  "kernelspec": {
   "display_name": "Java",
   "language": "java",
   "name": "java"
  },
  "language_info": {
   "codemirror_mode": "text/x-java",
   "file_extension": ".java",
   "mimetype": "",
   "name": "Java",
   "nbconverter_exporter": "",
   "version": "1.8.0_121"
  }
 },
 "nbformat": 4,
 "nbformat_minor": 1
}
