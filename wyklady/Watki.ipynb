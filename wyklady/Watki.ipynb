{
 "cells": [
  {
   "cell_type": "markdown",
   "metadata": {
    "slideshow": {
     "slide_type": "slide"
    }
   },
   "source": [
    "# Programowanie współbieżne i równoległe\n",
    "\n",
    "## Wątki, zadania, synchronizacja, monitory, wartości atomowe, kolekcje\n",
    "\n",
    "<br/>\n",
    "\n",
    "## dr inż. Aleksander Smywiński-Pohl\n",
    "\n",
    "## apohllo@agh.edu.pl\n",
    "\n",
    "## http://apohllo.pl/dydaktyka/programowanie-obiektowe\n",
    "\n",
    "\n",
    "Część przykładów pochodzi ze strony:\n",
    "http://winterbe.com"
   ]
  },
  {
   "cell_type": "markdown",
   "metadata": {
    "slideshow": {
     "slide_type": "slide"
    }
   },
   "source": [
    "# Java + Threads\n",
    "\n",
    "<img src=\"img/thread.png\" width=\"300\"/>"
   ]
  },
  {
   "cell_type": "markdown",
   "metadata": {
    "slideshow": {
     "slide_type": "slide"
    }
   },
   "source": [
    "# Program, proces, wątek\n",
    "\n",
    "<img src=\"img/process_and_thread.png\"/>\n",
    "\n",
    "* program - plik lub zestaw plików opisujących w jakis sposób należy przetwarzać dane\n",
    "* proces - uruchomiony program posiadający własną pamięć oraz licznik instrukcji\n",
    "* wątek - lekki proces w obrębie działającego programu, posiadający własny stos oraz licznik instrukcji"
   ]
  },
  {
   "cell_type": "markdown",
   "metadata": {
    "slideshow": {
     "slide_type": "slide"
    }
   },
   "source": [
    "# Klasa `Thread`\n",
    "\n",
    "<img src=\"img/thread-1.png\" />"
   ]
  },
  {
   "cell_type": "markdown",
   "metadata": {
    "slideshow": {
     "slide_type": "subslide"
    }
   },
   "source": [
    "API klasy `Thread`:\n",
    "* `run()`\n",
    "* `start()`\n",
    "* `join()`\n",
    "* `currentThread()`\n",
    "* `getName()`\n",
    "* ..."
   ]
  },
  {
   "cell_type": "code",
   "execution_count": 8,
   "metadata": {
    "ExecuteTime": {
     "end_time": "2021-12-01T07:29+0000",
     "start_time": "2021-12-01T07:29:27.989Z"
    },
    "slideshow": {
     "slide_type": "subslide"
    }
   },
   "outputs": [
    {
     "name": "stdout",
     "output_type": "stream",
     "text": [
      "Wątek główny IJava-executor-0\n",
      "Wątek Thread-22\n",
      "Wątek Thread-24\n",
      "Wątek Thread-23\n"
     ]
    }
   ],
   "source": [
    "import static java.lang.System.out;\n",
    "import java.util.List;\n",
    "import java.util.LinkedList;\n",
    "\n",
    "List<Thread> threads = new LinkedList<>();\n",
    "\n",
    "out.println(\"Wątek główny \" + Thread.currentThread().getName());\n",
    "\n",
    "threads.add(new Thread(() -> out.println(\"Wątek \" + Thread.currentThread().getName())));\n",
    "threads.add(new Thread(() -> out.println(\"Wątek \" + Thread.currentThread().getName())));\n",
    "threads.add(new Thread(() -> out.println(\"Wątek \" + Thread.currentThread().getName())));\n",
    "\n",
    "threads.forEach(Thread::start);\n",
    "for(Thread thread : threads){\n",
    "    thread.join();\n",
    "}"
   ]
  },
  {
   "cell_type": "markdown",
   "metadata": {
    "slideshow": {
     "slide_type": "subslide"
    }
   },
   "source": [
    "# Interfejs `Runnable`\n",
    "\n",
    "&nbsp;\n",
    "\n",
    "<img src=\"img/runner.jpg\" width=\"800\"/>"
   ]
  },
  {
   "cell_type": "markdown",
   "metadata": {
    "slideshow": {
     "slide_type": "subslide"
    }
   },
   "source": [
    "API interfejsu `Runnable`:\n",
    "* `run()`"
   ]
  },
  {
   "cell_type": "code",
   "execution_count": 43,
   "metadata": {
    "ExecuteTime": {
     "end_time": "2021-12-01T07:35+0000",
     "start_time": "2021-12-01T07:35:57.875Z"
    },
    "slideshow": {
     "slide_type": "subslide"
    }
   },
   "outputs": [
    {
     "name": "stdout",
     "output_type": "stream",
     "text": [
      "Zadanie Thread-127\n"
     ]
    }
   ],
   "source": [
    "import static java.lang.System.out;\n",
    "import java.util.List;\n",
    "import java.util.LinkedList;\n",
    "\n",
    "List<Runnable> tasks = new LinkedList<>();\n",
    "\n",
    "tasks.add(() -> out.println(\"Zadanie \" + Thread.currentThread().getName()));\n",
    "tasks.add(() -> out.println(\"Zadanie \" + Thread.currentThread().getName()));\n",
    "tasks.add(() -> out.println(\"Zadanie \" + Thread.currentThread().getName()));\n",
    "\n",
    "List<Thread> threads = new LinkedList<>();\n",
    "tasks.forEach((task) -> threads.add(new Thread(task)));\n",
    "\n",
    "threads.forEach(Thread::start);\n",
    "//for(Thread t : threads) {\n",
    "//        t.join();\n",
    "//}\n"
   ]
  },
  {
   "cell_type": "markdown",
   "metadata": {
    "slideshow": {
     "slide_type": "subslide"
    }
   },
   "source": [
    "# `Thread#sleep()`\n",
    "\n",
    "&nbsp;\n",
    "<img src=\"img/sleeping_cat.jpg\"/>"
   ]
  },
  {
   "cell_type": "code",
   "execution_count": 47,
   "metadata": {
    "ExecuteTime": {
     "end_time": "2021-12-01T07:41+0000",
     "start_time": "2021-12-01T07:41:35.381Z"
    },
    "slideshow": {
     "slide_type": "subslide"
    }
   },
   "outputs": [
    {
     "name": "stdout",
     "output_type": "stream",
     "text": [
      "Idę spać na 3 sekudny\n",
      "Godzinę później...\n"
     ]
    }
   ],
   "source": [
    "import static java.lang.System.out;\n",
    "import java.util.concurrent.*;\n",
    "\n",
    "Thread sleepingThread = new Thread(() -> {\n",
    "    try{\n",
    "        out.println(\"Idę spać na 3 sekudny\");\n",
    "        TimeUnit.SECONDS.sleep(3);\n",
    "        out.println(\"Godzinę później...\");\n",
    "    } catch (InterruptedException ex) {\n",
    "        out.println(\"Sen został przerwany\");\n",
    "    }\n",
    "});\n",
    "sleepingThread.start();\n",
    "sleepingThread.join();"
   ]
  },
  {
   "cell_type": "markdown",
   "metadata": {
    "slideshow": {
     "slide_type": "slide"
    }
   },
   "source": [
    "# `ExecutorService`\n",
    "\n",
    "&nbsp;\n",
    "\n",
    "<img src=\"img/executor.jpg\"/>"
   ]
  },
  {
   "cell_type": "code",
   "execution_count": 49,
   "metadata": {
    "ExecuteTime": {
     "end_time": "2021-12-01T07:46+0000",
     "start_time": "2021-12-01T07:46:36.389Z"
    },
    "slideshow": {
     "slide_type": "subslide"
    }
   },
   "outputs": [
    {
     "name": "stdout",
     "output_type": "stream",
     "text": [
      "Egzekucja w pool-2-thread-1\n",
      "Egzekucja w pool-2-thread-1\n",
      "Egzekucja w pool-2-thread-1\n"
     ]
    },
    {
     "data": {
      "text/plain": [
       "true"
      ]
     },
     "execution_count": 49,
     "metadata": {},
     "output_type": "execute_result"
    }
   ],
   "source": [
    "import java.util.concurrent.*;\n",
    "import static java.lang.System.out;\n",
    "\n",
    "ExecutorService executor =  Executors.newSingleThreadExecutor();\n",
    "executor.submit(() -> out.println(\"Egzekucja w \" + Thread.currentThread().getName()));\n",
    "executor.submit(() -> out.println(\"Egzekucja w \" + Thread.currentThread().getName()));\n",
    "executor.submit(() -> out.println(\"Egzekucja w \" + Thread.currentThread().getName()));\n",
    "executor.shutdown();\n",
    "executor.awaitTermination(1, TimeUnit.SECONDS);"
   ]
  },
  {
   "cell_type": "markdown",
   "metadata": {
    "slideshow": {
     "slide_type": "subslide"
    }
   },
   "source": [
    "# `Future`\n",
    "\n",
    "&nbsp;\n",
    "\n",
    "<img src=\"img/future.jpg\" width=\"800\"/>"
   ]
  },
  {
   "cell_type": "code",
   "execution_count": null,
   "metadata": {
    "slideshow": {
     "slide_type": "subslide"
    }
   },
   "outputs": [],
   "source": [
    "interface Future<V> {\n",
    "    boolean cancel(boolean mayInterruptIfRunning);\n",
    "    V get();\n",
    "    V get(long timeout, TimeUnit unit);\n",
    "    boolean isCancelled();\n",
    "    boolean isDone();\n",
    "}"
   ]
  },
  {
   "cell_type": "code",
   "execution_count": 50,
   "metadata": {
    "ExecuteTime": {
     "end_time": "2021-12-01T08:01+0000",
     "start_time": "2021-12-01T08:01:25.781Z"
    },
    "scrolled": true,
    "slideshow": {
     "slide_type": "subslide"
    }
   },
   "outputs": [
    {
     "name": "stdout",
     "output_type": "stream",
     "text": [
      "obliczenie zakończone? false\n",
      "obliczenie zakończone? true\n",
      "wynik: 123"
     ]
    }
   ],
   "source": [
    "import java.util.concurrent.*;\n",
    "final int sleepTime = 3;\n",
    "\n",
    "Callable<Integer> task = () -> {\n",
    "    try {\n",
    "        TimeUnit.SECONDS.sleep(sleepTime);\n",
    "        return 123;\n",
    "    } catch (InterruptedException e) {\n",
    "        throw new IllegalStateException(\"wątek został przerwany\", e);\n",
    "    }\n",
    "};\n",
    "\n",
    "ExecutorService executor = Executors.newFixedThreadPool(1);\n",
    "Future<Integer> future = executor.submit(task);\n",
    "\n",
    "out.println(\"obliczenie zakończone? \" + future.isDone());\n",
    "\n",
    "Integer result = future.get();\n",
    "\n",
    "out.println(\"obliczenie zakończone? \" + future.isDone());\n",
    "out.print(\"wynik: \" + result);"
   ]
  },
  {
   "cell_type": "markdown",
   "metadata": {
    "slideshow": {
     "slide_type": "subslide"
    }
   },
   "source": [
    "# Rodzaje wykonawców (`ExecutorService`)\n",
    "\n",
    "* `newCachedThreadPool` - tworzy wątki w zależności od potrzeb i usuwa je jeśli nie są używane przez 60 sekund\n",
    "* `newFixedThreadPool` - cały czas przechowuje niezakończone wątki\n",
    "* `newScheduledThreadPool` - posiada możliwość odroczonego i periodycznego wykonania wątków\n",
    "* `newSingleThreadExecutor` - wykonanie jednowątkowe\n",
    "* `newSingleThreadScheduledExecutor` - jw. ale z możliwością odroczonego i periodycznego wykonania\n"
   ]
  },
  {
   "cell_type": "markdown",
   "metadata": {
    "slideshow": {
     "slide_type": "subslide"
    }
   },
   "source": [
    "# `ScheduledExecutor`"
   ]
  },
  {
   "cell_type": "code",
   "execution_count": 53,
   "metadata": {
    "ExecuteTime": {
     "end_time": "2021-12-01T08:07+0000",
     "start_time": "2021-12-01T08:07:32.227Z"
    },
    "slideshow": {
     "slide_type": "-"
    }
   },
   "outputs": [
    {
     "name": "stdout",
     "output_type": "stream",
     "text": [
      "Przed oczekiwaniem\n",
      "Czas pozostały do wykonania 1930\n",
      "Wykonanie odroczonego zadania w pool-6-thread-1\n"
     ]
    },
    {
     "data": {
      "text/plain": [
       "true"
      ]
     },
     "execution_count": 53,
     "metadata": {},
     "output_type": "execute_result"
    }
   ],
   "source": [
    "import java.util.concurrent.*;\n",
    "import static java.lang.System.out;\n",
    "ScheduledExecutorService executor = Executors.newScheduledThreadPool(2);\n",
    "\n",
    "Runnable task = () -> out.println(\"Wykonanie odroczonego zadania w \" + Thread.currentThread().getName());\n",
    "ScheduledFuture<?> future = executor.schedule(task, 3, TimeUnit.SECONDS);\n",
    "\n",
    "out.println(\"Przed oczekiwaniem\");\n",
    "\n",
    "TimeUnit.MILLISECONDS.sleep(1000);\n",
    "\n",
    "out.println(\"Czas pozostały do wykonania \" + future.getDelay(TimeUnit.MILLISECONDS));\n",
    "TimeUnit.SECONDS.sleep(3);\n",
    "executor.shutdown();\n",
    "executor.awaitTermination(1, TimeUnit.SECONDS);"
   ]
  },
  {
   "cell_type": "markdown",
   "metadata": {
    "slideshow": {
     "slide_type": "slide"
    }
   },
   "source": [
    "# Hazard (Race condition)"
   ]
  },
  {
   "cell_type": "code",
   "execution_count": 55,
   "metadata": {
    "ExecuteTime": {
     "end_time": "2021-12-01T08:11+0000",
     "start_time": "2021-12-01T08:11:16.676Z"
    },
    "slideshow": {
     "slide_type": "-"
    }
   },
   "outputs": [],
   "source": [
    "class RaceCondition {\n",
    "    private int counter = 0;\n",
    "    \n",
    "    public void increment() {\n",
    "        this.counter = this.counter + 1;\n",
    "    }\n",
    "    \n",
    "    public int getCounter(){\n",
    "        return this.counter;\n",
    "    }\n",
    "}"
   ]
  },
  {
   "cell_type": "code",
   "execution_count": 56,
   "metadata": {
    "ExecuteTime": {
     "end_time": "2021-12-01T08:11+0000",
     "start_time": "2021-12-01T08:11:19.892Z"
    },
    "slideshow": {
     "slide_type": "subslide"
    }
   },
   "outputs": [
    {
     "name": "stdout",
     "output_type": "stream",
     "text": [
      "1000000\n"
     ]
    }
   ],
   "source": [
    "import java.util.concurrent.*;\n",
    "import java.util.stream.*;\n",
    "\n",
    "RaceCondition object = new RaceCondition();\n",
    "\n",
    "IntStream.range(0, 1000000).forEach(i -> object.increment());\n",
    "\n",
    "System.out.println(object.getCounter());"
   ]
  },
  {
   "cell_type": "code",
   "execution_count": 65,
   "metadata": {
    "ExecuteTime": {
     "end_time": "2021-12-01T08:13+0000",
     "start_time": "2021-12-01T08:13:50.140Z"
    },
    "slideshow": {
     "slide_type": "subslide"
    }
   },
   "outputs": [
    {
     "data": {
      "text/plain": [
       "true"
      ]
     },
     "execution_count": 65,
     "metadata": {},
     "output_type": "execute_result"
    }
   ],
   "source": [
    "import java.util.concurrent.*;\n",
    "import java.util.stream.*;\n",
    "\n",
    "ExecutorService executor = Executors.newFixedThreadPool(2);\n",
    "\n",
    "RaceCondition object = new RaceCondition();\n",
    "\n",
    "IntStream.range(0, 1000000).forEach(i -> executor.submit(object::increment));\n",
    "\n",
    "executor.shutdown();\n",
    "executor.awaitTermination(1, TimeUnit.SECONDS);"
   ]
  },
  {
   "cell_type": "code",
   "execution_count": 66,
   "metadata": {
    "ExecuteTime": {
     "end_time": "2021-12-01T08:13+0000",
     "start_time": "2021-12-01T08:13:52.516Z"
    },
    "slideshow": {
     "slide_type": "fragment"
    }
   },
   "outputs": [
    {
     "name": "stdout",
     "output_type": "stream",
     "text": [
      "984990\n"
     ]
    }
   ],
   "source": [
    "System.out.println(object.getCounter());"
   ]
  },
  {
   "cell_type": "markdown",
   "metadata": {
    "slideshow": {
     "slide_type": "fragment"
    }
   },
   "source": [
    "<center><img src=\"img/race.jpg\" width=\"400\"/></center>"
   ]
  },
  {
   "cell_type": "markdown",
   "metadata": {
    "slideshow": {
     "slide_type": "subslide"
    }
   },
   "source": [
    "<center><img src=\"img/race.png\" /></center>"
   ]
  },
  {
   "cell_type": "markdown",
   "metadata": {
    "slideshow": {
     "slide_type": "subslide"
    }
   },
   "source": [
    "# Sekcja krytyczna (`synchronized`)"
   ]
  },
  {
   "cell_type": "code",
   "execution_count": 67,
   "metadata": {
    "ExecuteTime": {
     "end_time": "2021-12-01T08:23+0000",
     "start_time": "2021-12-01T08:23:07.619Z"
    },
    "slideshow": {
     "slide_type": "-"
    }
   },
   "outputs": [],
   "source": [
    "class SynchronizedAccessors {\n",
    "    private int counter = 0;\n",
    "\n",
    "    public synchronized void increment() {\n",
    "        this.counter = this.counter + 1;\n",
    "    }\n",
    "\n",
    "    public synchronized int getCounter(){\n",
    "        return this.counter;\n",
    "    }\n",
    "}"
   ]
  },
  {
   "cell_type": "code",
   "execution_count": 68,
   "metadata": {
    "ExecuteTime": {
     "end_time": "2021-12-01T08:23+0000",
     "start_time": "2021-12-01T08:23:11.347Z"
    },
    "slideshow": {
     "slide_type": "subslide"
    }
   },
   "outputs": [
    {
     "name": "stdout",
     "output_type": "stream",
     "text": [
      "1000000\n"
     ]
    }
   ],
   "source": [
    "import java.util.concurrent.*;\n",
    "import java.util.stream.*;\n",
    "\n",
    "ExecutorService executor = Executors.newFixedThreadPool(2);\n",
    "\n",
    "SynchronizedAccessors object = new SynchronizedAccessors();\n",
    "\n",
    "IntStream.range(0, 1000000).forEach(i -> executor.submit(object::increment));\n",
    "\n",
    "executor.shutdown();\n",
    "executor.awaitTermination(1, TimeUnit.SECONDS);\n",
    "\n",
    "System.out.println(object.getCounter());"
   ]
  },
  {
   "cell_type": "code",
   "execution_count": 69,
   "metadata": {
    "ExecuteTime": {
     "end_time": "2021-12-01T08:25+0000",
     "start_time": "2021-12-01T08:25:21.748Z"
    },
    "slideshow": {
     "slide_type": "subslide"
    }
   },
   "outputs": [],
   "source": [
    "class Monitor {\n",
    "    private int counter = 0;\n",
    "\n",
    "    public void increment() {\n",
    "        synchronized(this) {\n",
    "            this.counter += 1;\n",
    "        }\n",
    "    }\n",
    "\n",
    "    public int getCounter(){\n",
    "        synchronized(this) {\n",
    "            return this.counter;\n",
    "        }\n",
    "    }\n",
    "}"
   ]
  },
  {
   "cell_type": "markdown",
   "metadata": {
    "slideshow": {
     "slide_type": "subslide"
    }
   },
   "source": [
    "# `wait` i `notify`"
   ]
  },
  {
   "cell_type": "code",
   "execution_count": 71,
   "metadata": {
    "ExecuteTime": {
     "end_time": "2021-12-01T08:31+0000",
     "start_time": "2021-12-01T08:31:52.692Z"
    },
    "slideshow": {
     "slide_type": "-"
    }
   },
   "outputs": [],
   "source": [
    "import java.util.*;\n",
    "\n",
    "class StringStack {\n",
    "    private List<String> stack = new LinkedList<>();\n",
    "    \n",
    "    public void push(String value){\n",
    "        synchronized(this) {\n",
    "            stack.add(value);\n",
    "            notify();\n",
    "        }\n",
    "    }\n",
    "    \n",
    "    public String pop(){\n",
    "        synchronized(this) {\n",
    "            while(stack.isEmpty()){\n",
    "                try {\n",
    "                    wait();\n",
    "                } catch (InterruptedException ex) {\n",
    "                    out.println(\"Wątek został przerwany\");\n",
    "                }\n",
    "            }\n",
    "            return stack.remove(stack.size() - 1);\n",
    "        }\n",
    "    }\n",
    "}"
   ]
  },
  {
   "cell_type": "code",
   "execution_count": 75,
   "metadata": {
    "ExecuteTime": {
     "end_time": "2021-12-01T08:33+0000",
     "start_time": "2021-12-01T08:33:26.309Z"
    },
    "slideshow": {
     "slide_type": "subslide"
    }
   },
   "outputs": [
    {
     "name": "stdout",
     "output_type": "stream",
     "text": [
      "Konsument: Czekam na jakąś mądrą myśl...\n",
      "Filozof: Myślę\n",
      "Filozof: Produkuję myśl\n",
      "Konsument: Konsumuję myśl: Myślę więc jestem\n",
      "Filozof: Produkuję myśl\n",
      "Konsument: Konsumuję myśl: Różowe idee wściekle śpią\n"
     ]
    },
    {
     "data": {
      "text/plain": [
       "true"
      ]
     },
     "execution_count": 75,
     "metadata": {},
     "output_type": "execute_result"
    }
   ],
   "source": [
    "StringStack stack = new StringStack();\n",
    "\n",
    "Thread ideaProducer = new Thread(() -> {\n",
    "    try {\n",
    "        out.println(\"Filozof: Myślę\");\n",
    "        Thread.sleep(3000);\n",
    "        out.println(\"Filozof: Produkuję myśl\");\n",
    "        stack.push(\"Myślę więc jestem\");\n",
    "        Thread.sleep(3000);\n",
    "        out.println(\"Filozof: Produkuję myśl\");\n",
    "        stack.push(\"Różowe idee wściekle śpią\");\n",
    "    } catch (InterruptedException ex) {\n",
    "        out.println(\"Wątek dodający został przerwany\");\n",
    "    }\n",
    "});\n",
    "\n",
    "Thread ideaConsumer = new Thread(() -> {\n",
    "    out.println(\"Konsument: Czekam na jakąś mądrą myśl...\");\n",
    "    out.println(\"Konsument: Konsumuję myśl: \" + stack.pop());\n",
    "    out.println(\"Konsument: Konsumuję myśl: \" + stack.pop());\n",
    "});\n",
    "\n",
    "ExecutorService executor = Executors.newFixedThreadPool(2);\n",
    "executor.submit(ideaConsumer);\n",
    "executor.submit(ideaProducer);\n",
    "executor.shutdown();\n",
    "executor.awaitTermination(7, TimeUnit.SECONDS);"
   ]
  },
  {
   "cell_type": "markdown",
   "metadata": {
    "slideshow": {
     "slide_type": "subslide"
    }
   },
   "source": [
    "# Klasa `ReentrantLock`"
   ]
  },
  {
   "cell_type": "code",
   "execution_count": null,
   "metadata": {
    "slideshow": {
     "slide_type": "-"
    }
   },
   "outputs": [],
   "source": [
    "import java.util.concurrent.locks.*;\n",
    "\n",
    "class ReentrantLockAccessors {\n",
    "    private int counter = 0;\n",
    "    private Lock lock = new ReentrantLock();\n",
    "\n",
    "    public void increment() {\n",
    "        lock.lock();\n",
    "        try {\n",
    "            this.counter += 1;\n",
    "        } finally {\n",
    "            lock.unlock();\n",
    "        }\n",
    "    }\n",
    "\n",
    "    public int getCounter(){\n",
    "        lock.lock();\n",
    "        try {\n",
    "            return this.counter;\n",
    "        } finally {\n",
    "            lock.unlock();\n",
    "        }\n",
    "    }\n",
    "}"
   ]
  },
  {
   "cell_type": "markdown",
   "metadata": {
    "slideshow": {
     "slide_type": "slide"
    }
   },
   "source": [
    "# `AtomicInteger`\n",
    "&nbsp;\n",
    "\n",
    "<center><img src=\"img/atomic.jpg\" /></center>"
   ]
  },
  {
   "cell_type": "code",
   "execution_count": 1,
   "metadata": {
    "ExecuteTime": {
     "end_time": "2021-12-08T07:19+0000",
     "start_time": "2021-12-08T07:19:53.246Z"
    },
    "slideshow": {
     "slide_type": "subslide"
    }
   },
   "outputs": [
    {
     "name": "stdout",
     "output_type": "stream",
     "text": [
      "1000000\n"
     ]
    }
   ],
   "source": [
    "import java.util.stream.*;\n",
    "import java.util.concurrent.*;\n",
    "import java.util.concurrent.atomic.*;\n",
    "\n",
    "AtomicInteger atomicInt = new AtomicInteger(0);\n",
    "\n",
    "ExecutorService executor = Executors.newFixedThreadPool(2);\n",
    "\n",
    "IntStream.range(0, 1000000).forEach(i -> executor.submit(atomicInt::incrementAndGet));\n",
    "\n",
    "executor.shutdown();\n",
    "executor.awaitTermination(1, TimeUnit.SECONDS);\n",
    "System.out.println(atomicInt.get());"
   ]
  },
  {
   "cell_type": "code",
   "execution_count": 2,
   "metadata": {
    "ExecuteTime": {
     "end_time": "2021-12-08T07:22+0000",
     "start_time": "2021-12-08T07:22:20.632Z"
    },
    "slideshow": {
     "slide_type": "subslide"
    }
   },
   "outputs": [
    {
     "name": "stdout",
     "output_type": "stream",
     "text": [
      "49995000\n"
     ]
    }
   ],
   "source": [
    "AtomicInteger atomicInt = new AtomicInteger(0);\n",
    "\n",
    "ExecutorService executor = Executors.newFixedThreadPool(2);\n",
    "\n",
    "IntStream.range(0, 10000).forEach(i -> {\n",
    "    executor.submit(() -> atomicInt.updateAndGet(n -> n + i));\n",
    "});\n",
    "\n",
    "executor.shutdown();\n",
    "executor.awaitTermination(1, TimeUnit.SECONDS);\n",
    "\n",
    "System.out.println(atomicInt.get());"
   ]
  },
  {
   "cell_type": "markdown",
   "metadata": {
    "slideshow": {
     "slide_type": "subslide"
    }
   },
   "source": [
    "# `AtomictInteger`\n",
    "\n",
    "* `addAndGet`\n",
    "* `compareAndSet`\n",
    "* `decrementAndGet`\n",
    "* `get`\n",
    "* `getAndAdd`\n",
    "* `getAndDecrement`\n",
    "* `getAndIncrement`\n",
    "* `getAndSet`\n",
    "* ..."
   ]
  },
  {
   "cell_type": "markdown",
   "metadata": {
    "slideshow": {
     "slide_type": "subslide"
    }
   },
   "source": [
    "# `LongAdder`"
   ]
  },
  {
   "cell_type": "code",
   "execution_count": 3,
   "metadata": {
    "ExecuteTime": {
     "end_time": "2021-12-08T07:23+0000",
     "start_time": "2021-12-08T07:23:37.306Z"
    },
    "slideshow": {
     "slide_type": "-"
    }
   },
   "outputs": [
    {
     "name": "stdout",
     "output_type": "stream",
     "text": [
      "1000000\n"
     ]
    }
   ],
   "source": [
    "import java.util.stream.*;\n",
    "import java.util.concurrent.*;\n",
    "import java.util.concurrent.atomic.*;\n",
    "\n",
    "LongAdder adder = new LongAdder();\n",
    "ExecutorService executor = Executors.newFixedThreadPool(4);\n",
    "\n",
    "IntStream.range(0, 1000000).forEach(i -> executor.submit(adder::increment));\n",
    "\n",
    "executor.shutdown();\n",
    "executor.awaitTermination(1, TimeUnit.SECONDS);\n",
    "\n",
    "System.out.println(adder.sumThenReset()); "
   ]
  },
  {
   "cell_type": "markdown",
   "metadata": {
    "slideshow": {
     "slide_type": "subslide"
    }
   },
   "source": [
    "<center><img src=\"img/long_adder.png\" width=\"800\"/></center>"
   ]
  },
  {
   "cell_type": "markdown",
   "metadata": {
    "slideshow": {
     "slide_type": "subslide"
    }
   },
   "source": [
    "# `LongAccumulator`"
   ]
  },
  {
   "cell_type": "code",
   "execution_count": 5,
   "metadata": {
    "ExecuteTime": {
     "end_time": "2021-12-08T07:29+0000",
     "start_time": "2021-12-08T07:29:46.187Z"
    },
    "slideshow": {
     "slide_type": "subslide"
    }
   },
   "outputs": [
    {
     "name": "stdout",
     "output_type": "stream",
     "text": [
      "499999500000\n"
     ]
    }
   ],
   "source": [
    "import java.util.stream.*;\n",
    "import java.util.concurrent.*;\n",
    "import java.util.concurrent.atomic.*;\n",
    "import java.util.function.*;\n",
    "\n",
    "LongBinaryOperator operation = (x, y) -> x + y;\n",
    "LongAccumulator accumulator = new LongAccumulator(operation, 0);\n",
    "\n",
    "ExecutorService executor = Executors.newFixedThreadPool(4);\n",
    "\n",
    "IntStream.range(0, 1000000).forEach(i -> executor.submit(() -> accumulator.accumulate(i)));\n",
    "\n",
    "executor.shutdown();\n",
    "executor.awaitTermination(1, TimeUnit.SECONDS);\n",
    "\n",
    "System.out.println(accumulator.getThenReset());"
   ]
  },
  {
   "cell_type": "markdown",
   "metadata": {
    "slideshow": {
     "slide_type": "notes"
    }
   },
   "source": [
    "Operacja musi być przemienna, w przeciwnym razie wynik będzie niepoprawny."
   ]
  },
  {
   "cell_type": "markdown",
   "metadata": {
    "slideshow": {
     "slide_type": "slide"
    }
   },
   "source": [
    "# Przetwarzanie współbieżne a kolekcje\n",
    "\n",
    "* `CopyOnWriteArrayList`\n",
    "* `ConcurrentHashMap`\n",
    "* `parallelStream`"
   ]
  },
  {
   "cell_type": "markdown",
   "metadata": {
    "slideshow": {
     "slide_type": "subslide"
    }
   },
   "source": [
    "# ConcurrentModificationException"
   ]
  },
  {
   "cell_type": "code",
   "execution_count": 6,
   "metadata": {
    "ExecuteTime": {
     "end_time": "2021-12-08T07:35+0000",
     "start_time": "2021-12-08T07:35:54.462Z"
    },
    "slideshow": {
     "slide_type": "-"
    }
   },
   "outputs": [],
   "source": [
    "class ParallelLinkedList {\n",
    "    public void run() throws InterruptedException {\n",
    "        List<Integer> list = new LinkedList<>();  // <-----------------------\n",
    "        ExecutorService executor = Executors.newFixedThreadPool(200);\n",
    "        IntStream.range(1,50).forEach((i) -> executor.submit(() -> { \n",
    "              System.out.println(\"\" + i + \" writing to LinkedList \" + Thread.currentThread().getName());\n",
    "              list.add(i); \n",
    "        }));\n",
    "        executor.submit(() -> {\n",
    "              Iterator<Integer> iterator = list.iterator();\n",
    "              try {\n",
    "                  while(iterator.hasNext()){  \n",
    "                          Thread.sleep(20);\n",
    "                          System.out.println(\"\" + iterator.next() + \" reading from LinkedList \" + \n",
    "                              Thread.currentThread().getName());\n",
    "                  }\n",
    "              } catch(Exception ex) {\n",
    "                  ex.printStackTrace();\n",
    "              }\n",
    "        });\n",
    "        IntStream.range(1,50).forEach((i) -> executor.submit(() -> { \n",
    "              System.out.println(\"\" + i + \" writing to LinkedList \" + Thread.currentThread().getName());\n",
    "              list.add(i);\n",
    "        }));\n",
    "        executor.shutdown();\n",
    "        executor.awaitTermination(1, TimeUnit.SECONDS);\n",
    "    }\n",
    "}"
   ]
  },
  {
   "cell_type": "code",
   "execution_count": 7,
   "metadata": {
    "ExecuteTime": {
     "end_time": "2021-12-08T07:36+0000",
     "start_time": "2021-12-08T07:36:03.097Z"
    },
    "slideshow": {
     "slide_type": "subslide"
    }
   },
   "outputs": [
    {
     "name": "stdout",
     "output_type": "stream",
     "text": [
      "2 writing to LinkedList pool-6-thread-2\n",
      "3 writing to LinkedList pool-6-thread-3\n",
      "1 writing to LinkedList pool-6-thread-1\n",
      "4 writing to LinkedList pool-6-thread-4\n",
      "5 writing to LinkedList pool-6-thread-5\n",
      "6 writing to LinkedList pool-6-thread-6\n",
      "7 writing to LinkedList pool-6-thread-7\n",
      "11 writing to LinkedList pool-6-thread-11\n",
      "13 writing to LinkedList pool-6-thread-13\n",
      "16 writing to LinkedList pool-6-thread-16\n",
      "10 writing to LinkedList pool-6-thread-10\n",
      "25 writing to LinkedList pool-6-thread-25\n",
      "27 writing to LinkedList pool-6-thread-27\n",
      "9 writing to LinkedList pool-6-thread-9\n",
      "8 writing to LinkedList pool-6-thread-8\n",
      "30 writing to LinkedList pool-6-thread-30\n",
      "29 writing to LinkedList pool-6-thread-29\n",
      "28 writing to LinkedList pool-6-thread-28\n",
      "26 writing to LinkedList pool-6-thread-26\n",
      "24 writing to LinkedList pool-6-thread-24\n",
      "23 writing to LinkedList pool-6-thread-23\n",
      "22 writing to LinkedList pool-6-thread-22\n",
      "21 writing to LinkedList pool-6-thread-21\n",
      "20 writing to LinkedList pool-6-thread-20\n",
      "19 writing to LinkedList pool-6-thread-19\n",
      "18 writing to LinkedList pool-6-thread-18\n",
      "17 writing to LinkedList pool-6-thread-17\n",
      "14 writing to LinkedList pool-6-thread-14\n",
      "15 writing to LinkedList pool-6-thread-15\n",
      "12 writing to LinkedList pool-6-thread-12\n",
      "36 writing to LinkedList pool-6-thread-36\n",
      "35 writing to LinkedList pool-6-thread-35\n",
      "34 writing to LinkedList pool-6-thread-34\n",
      "31 writing to LinkedList pool-6-thread-31\n",
      "33 writing to LinkedList pool-6-thread-33\n",
      "32 writing to LinkedList pool-6-thread-32\n",
      "37 writing to LinkedList pool-6-thread-37\n",
      "38 writing to LinkedList pool-6-thread-38\n",
      "39 writing to LinkedList pool-6-thread-39\n",
      "41 writing to LinkedList pool-6-thread-41\n",
      "40 writing to LinkedList pool-6-thread-40\n",
      "42 writing to LinkedList pool-6-thread-42\n",
      "43 writing to LinkedList pool-6-thread-43\n",
      "44 writing to LinkedList pool-6-thread-44\n",
      "45 writing to LinkedList pool-6-thread-45\n",
      "46 writing to LinkedList pool-6-thread-46\n",
      "47 writing to LinkedList pool-6-thread-47\n",
      "48 writing to LinkedList pool-6-thread-48\n",
      "49 writing to LinkedList pool-6-thread-49\n",
      "2 writing to LinkedList pool-6-thread-52\n",
      "1 writing to LinkedList pool-6-thread-51\n",
      "3 writing to LinkedList pool-6-thread-53\n",
      "4 writing to LinkedList pool-6-thread-54\n",
      "5 writing to LinkedList pool-6-thread-55\n",
      "6 writing to LinkedList pool-6-thread-56\n",
      "8 writing to LinkedList pool-6-thread-58\n",
      "7 writing to LinkedList pool-6-thread-57\n",
      "9 writing to LinkedList pool-6-thread-59\n",
      "10 writing to LinkedList pool-6-thread-60\n",
      "11 writing to LinkedList pool-6-thread-61\n",
      "16 writing to LinkedList pool-6-thread-66\n"
     ]
    },
    {
     "name": "stderr",
     "output_type": "stream",
     "text": [
      "java.util.ConcurrentModificationException\n",
      "\tat java.base/java.util.LinkedList$ListItr.checkForComodification(LinkedList.java:970)\n",
      "\tat java.base/java.util.LinkedList$ListItr.next(LinkedList.java:892)\n",
      "\tat REPL.$JShell$40$ParallelLinkedList.lambda$run$2($JShell$40.java:30)\n",
      "\tat java.base/java.util.concurrent.Executors$RunnableAdapter.call(Executors.java:539)\n",
      "\tat java.base/java.util.concurrent.FutureTask.run(FutureTask.java:264)\n",
      "\tat java.base/java.util.concurrent.ThreadPoolExecutor.runWorker(ThreadPoolExecutor.java:1136)\n",
      "\tat java.base/java.util.concurrent.ThreadPoolExecutor$Worker.run(ThreadPoolExecutor.java:635)\n",
      "\tat java.base/java.lang.Thread.run(Thread.java:833)\n"
     ]
    },
    {
     "name": "stdout",
     "output_type": "stream",
     "text": [
      "15 writing to LinkedList pool-6-thread-65\n",
      "14 writing to LinkedList pool-6-thread-64\n",
      "13 writing to LinkedList pool-6-thread-63\n",
      "12 writing to LinkedList pool-6-thread-62\n",
      "17 writing to LinkedList pool-6-thread-67\n",
      "18 writing to LinkedList pool-6-thread-68\n",
      "19 writing to LinkedList pool-6-thread-69\n",
      "20 writing to LinkedList pool-6-thread-70\n",
      "21 writing to LinkedList pool-6-thread-71\n",
      "22 writing to LinkedList pool-6-thread-72\n",
      "23 writing to LinkedList pool-6-thread-73\n",
      "24 writing to LinkedList pool-6-thread-74\n",
      "25 writing to LinkedList pool-6-thread-75\n",
      "26 writing to LinkedList pool-6-thread-76\n",
      "27 writing to LinkedList pool-6-thread-77\n",
      "28 writing to LinkedList pool-6-thread-78\n",
      "29 writing to LinkedList pool-6-thread-79\n",
      "30 writing to LinkedList pool-6-thread-80\n",
      "33 writing to LinkedList pool-6-thread-83\n",
      "32 writing to LinkedList pool-6-thread-82\n",
      "31 writing to LinkedList pool-6-thread-81\n",
      "36 writing to LinkedList pool-6-thread-86\n",
      "35 writing to LinkedList pool-6-thread-85\n",
      "34 writing to LinkedList pool-6-thread-84\n",
      "37 writing to LinkedList pool-6-thread-87\n",
      "38 writing to LinkedList pool-6-thread-88\n",
      "40 writing to LinkedList pool-6-thread-90\n",
      "39 writing to LinkedList pool-6-thread-89\n",
      "41 writing to LinkedList pool-6-thread-91\n",
      "44 writing to LinkedList pool-6-thread-94\n",
      "43 writing to LinkedList pool-6-thread-93\n",
      "46 writing to LinkedList pool-6-thread-96\n",
      "42 writing to LinkedList pool-6-thread-92\n",
      "49 writing to LinkedList pool-6-thread-99\n",
      "48 writing to LinkedList pool-6-thread-98\n",
      "47 writing to LinkedList pool-6-thread-97\n",
      "45 writing to LinkedList pool-6-thread-95\n"
     ]
    }
   ],
   "source": [
    "new ParallelLinkedList().run();"
   ]
  },
  {
   "cell_type": "markdown",
   "metadata": {
    "slideshow": {
     "slide_type": "subslide"
    }
   },
   "source": [
    "# `CopyOnWriteArrayList`"
   ]
  },
  {
   "cell_type": "code",
   "execution_count": 9,
   "metadata": {
    "ExecuteTime": {
     "end_time": "2021-12-08T07:41+0000",
     "start_time": "2021-12-08T07:41:49.095Z"
    }
   },
   "outputs": [],
   "source": [
    "import java.util.*;\n",
    "import java.util.stream.*;\n",
    "import java.util.concurrent.*;\n",
    "import java.util.concurrent.atomic.*;\n",
    "\n",
    "class ParallelCopyOnWriteArrayList {\n",
    "    public void run() throws InterruptedException {\n",
    "        List<Integer> list = new CopyOnWriteArrayList<>();  // <-----------------------\n",
    "        ExecutorService executor = Executors.newFixedThreadPool(200);\n",
    "        IntStream.range(1,50).forEach((i) -> executor.submit(() -> { \n",
    "              //System.out.println(\"\" + i + \" writing to CopyOnWriteArrayList \" + Thread.currentThread().getName());\n",
    "              list.add(i); \n",
    "        }));\n",
    "        executor.submit(() -> {\n",
    "              Iterator<Integer> iterator1 = list.iterator();\n",
    "              while(iterator1.hasNext()){\n",
    "                    try {\n",
    "                        Thread.sleep(20);\n",
    "                        System.out.println(\"\" + iterator1.next() + \" reading from CopyOnWriteArrayList \" + \n",
    "                        Thread.currentThread().getName());\n",
    "                    } catch(Exception ex) {\n",
    "                        ex.printStackTrace();\n",
    "                    }\n",
    "              }\n",
    "        });\n",
    "        IntStream.range(1,50).forEach((i) -> executor.submit(() -> { \n",
    "              //System.out.println(\"\" + i + \" writing to CopyOnWriteArrayList \" + Thread.currentThread().getName());\n",
    "              list.add(i); \n",
    "        }));\n",
    "        executor.shutdown();\n",
    "        executor.awaitTermination(1, TimeUnit.SECONDS);\n",
    "    }\n",
    "}"
   ]
  },
  {
   "cell_type": "code",
   "execution_count": 11,
   "metadata": {
    "ExecuteTime": {
     "end_time": "2021-12-08T07:42+0000",
     "start_time": "2021-12-08T07:42:24.649Z"
    },
    "slideshow": {
     "slide_type": "subslide"
    }
   },
   "outputs": [
    {
     "name": "stdout",
     "output_type": "stream",
     "text": [
      "1 reading from CopyOnWriteArrayList pool-8-thread-50\n",
      "2 reading from CopyOnWriteArrayList pool-8-thread-50\n",
      "3 reading from CopyOnWriteArrayList pool-8-thread-50\n",
      "4 reading from CopyOnWriteArrayList pool-8-thread-50\n",
      "5 reading from CopyOnWriteArrayList pool-8-thread-50\n",
      "6 reading from CopyOnWriteArrayList pool-8-thread-50\n",
      "7 reading from CopyOnWriteArrayList pool-8-thread-50\n",
      "8 reading from CopyOnWriteArrayList pool-8-thread-50\n",
      "9 reading from CopyOnWriteArrayList pool-8-thread-50\n",
      "10 reading from CopyOnWriteArrayList pool-8-thread-50\n",
      "11 reading from CopyOnWriteArrayList pool-8-thread-50\n",
      "12 reading from CopyOnWriteArrayList pool-8-thread-50\n",
      "13 reading from CopyOnWriteArrayList pool-8-thread-50\n",
      "14 reading from CopyOnWriteArrayList pool-8-thread-50\n",
      "15 reading from CopyOnWriteArrayList pool-8-thread-50\n",
      "16 reading from CopyOnWriteArrayList pool-8-thread-50\n",
      "17 reading from CopyOnWriteArrayList pool-8-thread-50\n",
      "18 reading from CopyOnWriteArrayList pool-8-thread-50\n",
      "19 reading from CopyOnWriteArrayList pool-8-thread-50\n",
      "20 reading from CopyOnWriteArrayList pool-8-thread-50\n",
      "21 reading from CopyOnWriteArrayList pool-8-thread-50\n",
      "22 reading from CopyOnWriteArrayList pool-8-thread-50\n",
      "23 reading from CopyOnWriteArrayList pool-8-thread-50\n",
      "24 reading from CopyOnWriteArrayList pool-8-thread-50\n",
      "25 reading from CopyOnWriteArrayList pool-8-thread-50\n",
      "26 reading from CopyOnWriteArrayList pool-8-thread-50\n",
      "27 reading from CopyOnWriteArrayList pool-8-thread-50\n",
      "28 reading from CopyOnWriteArrayList pool-8-thread-50\n",
      "29 reading from CopyOnWriteArrayList pool-8-thread-50\n",
      "30 reading from CopyOnWriteArrayList pool-8-thread-50\n",
      "31 reading from CopyOnWriteArrayList pool-8-thread-50\n",
      "32 reading from CopyOnWriteArrayList pool-8-thread-50\n",
      "33 reading from CopyOnWriteArrayList pool-8-thread-50\n",
      "34 reading from CopyOnWriteArrayList pool-8-thread-50\n",
      "35 reading from CopyOnWriteArrayList pool-8-thread-50\n",
      "36 reading from CopyOnWriteArrayList pool-8-thread-50\n",
      "37 reading from CopyOnWriteArrayList pool-8-thread-50\n",
      "38 reading from CopyOnWriteArrayList pool-8-thread-50\n",
      "39 reading from CopyOnWriteArrayList pool-8-thread-50\n",
      "40 reading from CopyOnWriteArrayList pool-8-thread-50\n",
      "41 reading from CopyOnWriteArrayList pool-8-thread-50\n",
      "42 reading from CopyOnWriteArrayList pool-8-thread-50\n",
      "43 reading from CopyOnWriteArrayList pool-8-thread-50\n",
      "44 reading from CopyOnWriteArrayList pool-8-thread-50\n",
      "45 reading from CopyOnWriteArrayList pool-8-thread-50\n",
      "46 reading from CopyOnWriteArrayList pool-8-thread-50\n",
      "47 reading from CopyOnWriteArrayList pool-8-thread-50\n",
      "48 reading from CopyOnWriteArrayList pool-8-thread-50\n",
      "49 reading from CopyOnWriteArrayList pool-8-thread-50\n"
     ]
    }
   ],
   "source": [
    "new ParallelCopyOnWriteArrayList().run();"
   ]
  },
  {
   "cell_type": "markdown",
   "metadata": {
    "slideshow": {
     "slide_type": "subslide"
    }
   },
   "source": [
    "# `CommonPoolParallelism`"
   ]
  },
  {
   "cell_type": "code",
   "execution_count": 12,
   "metadata": {
    "ExecuteTime": {
     "end_time": "2021-12-08T07:43+0000",
     "start_time": "2021-12-08T07:43:43.914Z"
    },
    "slideshow": {
     "slide_type": "-"
    }
   },
   "outputs": [
    {
     "name": "stdout",
     "output_type": "stream",
     "text": [
      "7\n"
     ]
    }
   ],
   "source": [
    "import java.util.concurrent.*;\n",
    "\n",
    "System.out.println(ForkJoinPool.getCommonPoolParallelism());\n",
    "\n",
    "//-Djava.util.concurrent.ForkJoinPool.common.parallelism=5"
   ]
  },
  {
   "cell_type": "markdown",
   "metadata": {
    "slideshow": {
     "slide_type": "subslide"
    }
   },
   "source": [
    "# `ConcurrentHashMap`"
   ]
  },
  {
   "cell_type": "code",
   "execution_count": 13,
   "metadata": {
    "ExecuteTime": {
     "end_time": "2021-12-08T07:46+0000",
     "start_time": "2021-12-08T07:46:07.032Z"
    },
    "slideshow": {
     "slide_type": "-"
    }
   },
   "outputs": [
    {
     "name": "stdout",
     "output_type": "stream",
     "text": [
      "klucz: 1; wartość: jeden; wątek: IJava-executor-7\n",
      "klucz: 2; wartość: dwa; wątek: ForkJoinPool.commonPool-worker-3\n",
      "klucz: 3; wartość: trzy; wątek: ForkJoinPool.commonPool-worker-3\n",
      "klucz: 4; wartość: cztery; wątek: ForkJoinPool.commonPool-worker-2\n",
      "klucz: 6; wartość: sześć; wątek: IJava-executor-7\n",
      "klucz: 5; wartość: pięć; wątek: ForkJoinPool.commonPool-worker-2\n",
      "klucz: 7; wartość: siedem; wątek: IJava-executor-7\n"
     ]
    }
   ],
   "source": [
    "import java.util.concurrent.*;\n",
    "\n",
    "ConcurrentHashMap<String, String> map = new ConcurrentHashMap<>();\n",
    "map.put(\"1\", \"jeden\");\n",
    "map.put(\"2\", \"dwa\");\n",
    "map.put(\"3\", \"trzy\");\n",
    "map.put(\"4\", \"cztery\");\n",
    "map.put(\"5\", \"pięć\");\n",
    "map.put(\"6\", \"sześć\");\n",
    "map.put(\"7\", \"siedem\");\n",
    "\n",
    "map.forEach(1, (key, value) -> System.out.printf(\"klucz: %s; wartość: %s; wątek: %s\\n\",\n",
    "        key, value, Thread.currentThread().getName()));"
   ]
  },
  {
   "cell_type": "markdown",
   "metadata": {
    "slideshow": {
     "slide_type": "subslide"
    }
   },
   "source": [
    "# `search`"
   ]
  },
  {
   "cell_type": "code",
   "execution_count": 16,
   "metadata": {
    "ExecuteTime": {
     "end_time": "2021-12-08T07:50+0000",
     "start_time": "2021-12-08T07:50:28.824Z"
    },
    "slideshow": {
     "slide_type": "-"
    }
   },
   "outputs": [
    {
     "name": "stdout",
     "output_type": "stream",
     "text": [
      "IJava-executor-8\n",
      "ForkJoinPool.commonPool-worker-8\n",
      "ForkJoinPool.commonPool-worker-8\n",
      "ForkJoinPool.commonPool-worker-4\n",
      "ForkJoinPool.commonPool-worker-4\n",
      "ForkJoinPool.commonPool-worker-5\n",
      "Wynik: 2\n"
     ]
    }
   ],
   "source": [
    "String result = map.search(1, (key, value) -> {\n",
    "    System.out.println(Thread.currentThread().getName());\n",
    "    if (\"dwa\".equals(value)) {\n",
    "        return key;\n",
    "    }\n",
    "    return null;\n",
    "});\n",
    "System.out.println(\"Wynik: \" + result);"
   ]
  },
  {
   "cell_type": "markdown",
   "metadata": {
    "slideshow": {
     "slide_type": "subslide"
    }
   },
   "source": [
    "# `reduce`"
   ]
  },
  {
   "cell_type": "code",
   "execution_count": 19,
   "metadata": {
    "ExecuteTime": {
     "end_time": "2021-12-08T07:53+0000",
     "start_time": "2021-12-08T07:53:35.753Z"
    },
    "slideshow": {
     "slide_type": "-"
    }
   },
   "outputs": [
    {
     "name": "stdout",
     "output_type": "stream",
     "text": [
      "Wynik: 1=jeden, 2=dwa, 3=trzy, 4=cztery, 5=pięć, 6=sześć, 7=siedem\n"
     ]
    }
   ],
   "source": [
    "String result = map.reduce(1,\n",
    "    (key, value) -> {\n",
    "        //System.out.println(\"Przekształcenie: \" + Thread.currentThread().getName());\n",
    "        return key + \"=\" + value;\n",
    "    },\n",
    "    (s1, s2) -> {\n",
    "        //System.out.println(\"Redukcja: \" + Thread.currentThread().getName());\n",
    "        return s1 + \", \" + s2;\n",
    "    });\n",
    "\n",
    "System.out.println(\"Wynik: \" + result);"
   ]
  },
  {
   "cell_type": "markdown",
   "metadata": {
    "slideshow": {
     "slide_type": "subslide"
    }
   },
   "source": [
    "# `stream`"
   ]
  },
  {
   "cell_type": "code",
   "execution_count": 20,
   "metadata": {
    "ExecuteTime": {
     "end_time": "2021-12-08T07:56+0000",
     "start_time": "2021-12-08T07:56:05.144Z"
    },
    "slideshow": {
     "slide_type": "-"
    }
   },
   "outputs": [
    {
     "name": "stdout",
     "output_type": "stream",
     "text": [
      "4.999999999166667E8\n",
      "2864921.409\n"
     ]
    }
   ],
   "source": [
    "import java.util.stream.*;\n",
    "\n",
    "\n",
    "long start = System.nanoTime();\n",
    "long multiplier = 1000;\n",
    "\n",
    "double result = LongStream.range(0, 1000000 * multiplier).filter(i -> i * i % 7 != 0).\n",
    "    average().getAsDouble();\n",
    "\n",
    "long end = System.nanoTime();\n",
    "\n",
    "System.out.println(result);\n",
    "System.out.println((end - start) * 1.0 / 1000000 * multiplier);"
   ]
  },
  {
   "cell_type": "markdown",
   "metadata": {
    "slideshow": {
     "slide_type": "subslide"
    }
   },
   "source": [
    "# `parallel` oraz `parallelStream`"
   ]
  },
  {
   "cell_type": "code",
   "execution_count": 21,
   "metadata": {
    "ExecuteTime": {
     "end_time": "2021-12-08T07:57+0000",
     "start_time": "2021-12-08T07:57:53.162Z"
    },
    "slideshow": {
     "slide_type": "-"
    }
   },
   "outputs": [
    {
     "name": "stdout",
     "output_type": "stream",
     "text": [
      "4.999999999166667E8\n",
      "927851.2050000001\n"
     ]
    }
   ],
   "source": [
    "import java.util.stream.*;\n",
    "\n",
    "long start = System.nanoTime();\n",
    "long multiplier = 1000;\n",
    "\n",
    "double result = LongStream.range(0, 1000000 * multiplier).parallel().filter(i -> i * i % 7 != 0).\n",
    "    average().getAsDouble();\n",
    "\n",
    "long end = System.nanoTime();\n",
    "\n",
    "System.out.println(result);\n",
    "System.out.println((end - start) * 1.0 / 1000000 * multiplier);"
   ]
  },
  {
   "cell_type": "markdown",
   "metadata": {
    "slideshow": {
     "slide_type": "notes"
    }
   },
   "source": [
    "Uwaga: podobnie jak w przypadku metod na `ConcurrentHashMap`, metoda `parallel` tworzy strumień korzystający z CommonPool, co może mieć negatywne konsekwencje, jeśli jakiś wątek w tej puli będzie przetwarzał się bardzo długo. https://www.baeldung.com/java-8-parallel-streams-custom-threadpool"
   ]
  },
  {
   "cell_type": "markdown",
   "metadata": {
    "slideshow": {
     "slide_type": "slide"
    }
   },
   "source": [
    "# Współbieżność w JavaFX\n",
    "\n",
    "* `Platform.runLater(Runnable r)`\n",
    "* `javafx.concurrent.Task`\n",
    "* `javafx.concurrent.Service`"
   ]
  },
  {
   "cell_type": "markdown",
   "metadata": {
    "slideshow": {
     "slide_type": "subslide"
    }
   },
   "source": [
    "# runLater"
   ]
  },
  {
   "cell_type": "code",
   "execution_count": null,
   "metadata": {
    "ExecuteTime": {
     "end_time": "2021-04-10T08:28+0000",
     "start_time": "2021-04-10T08:28:47.593Z"
    },
    "slideshow": {
     "slide_type": "fragment"
    }
   },
   "outputs": [],
   "source": [
    "// źródło: http://tutorials.jenkov.com/javafx/concurrency.html\n",
    "\n",
    "public class MyApplication extends Application {\n",
    "  public static void main(String[] args) {\n",
    "    launch(args);\n",
    "  }\n",
    "\n",
    "  @Override\n",
    "  public void start(Stage primaryStage) {\n",
    "    primaryStage.setTitle(\"JavaFX App\");\n",
    "\n",
    "    ProgressBar progressBar = new ProgressBar(0);\n",
    "\n",
    "    VBox vBox = new VBox(progressBar);\n",
    "    Scene scene = new Scene(vBox, 960, 600);\n",
    "\n",
    "    primaryStage.setScene(scene);\n",
    "    primaryStage.show();\n",
    "\n",
    "    Thread taskThread = new Thread(new Runnable() {\n",
    "      @Override\n",
    "      public void run() {\n",
    "        double progress = 0;\n",
    "        for(int i=0; i<10; i++){\n",
    "          try {\n",
    "            Thread.sleep(1000);\n",
    "          } catch (InterruptedException e) {\n",
    "            e.printStackTrace();\n",
    "          }\n",
    "\n",
    "          progress += 0.1;\n",
    "          final double reportedProgress = progress;\n",
    "\n",
    "          Platform.runLater(new Runnable() {              // <-----\n",
    "            @Override\n",
    "            public void run() {\n",
    "              progressBar.setProgress(reportedProgress);\n",
    "            }\n",
    "          });\n",
    "        }\n",
    "      }\n",
    "    });\n",
    "\n",
    "    taskThread.start();\n",
    "  }\n",
    "}"
   ]
  },
  {
   "cell_type": "markdown",
   "metadata": {
    "slideshow": {
     "slide_type": "subslide"
    }
   },
   "source": [
    "# Task"
   ]
  },
  {
   "cell_type": "code",
   "execution_count": null,
   "metadata": {
    "slideshow": {
     "slide_type": "fragment"
    }
   },
   "outputs": [],
   "source": [
    "// źródło: https://docs.oracle.com/javafx/2/threads/jfxpub-threads.htm\n",
    "\n",
    "import javafx.concurrent.Task;\n",
    "\n",
    "Task task = new Task<Void>() {\n",
    "    @Override public Void call() {\n",
    "        static final int max = 1000000;\n",
    "        for (int i=1; i<=max; i++) {\n",
    "            if (isCancelled()) {\n",
    "               break;\n",
    "            }\n",
    "            updateProgress(i, max);\n",
    "        }\n",
    "        return null;\n",
    "    }\n",
    "};\n",
    "ProgressBar bar = new ProgressBar();\n",
    "bar.progressProperty().bind(task.progressProperty());\n",
    "new Thread(task).start();"
   ]
  },
  {
   "cell_type": "markdown",
   "metadata": {
    "slideshow": {
     "slide_type": "subslide"
    }
   },
   "source": [
    "# Service"
   ]
  },
  {
   "cell_type": "code",
   "execution_count": null,
   "metadata": {
    "slideshow": {
     "slide_type": "fragment"
    }
   },
   "outputs": [],
   "source": [
    "// źródło: https://docs.oracle.com/javafx/2/threads/jfxpub-threads.htm\n",
    "\n",
    "public class FirstLineServiceApp extends Application {\n",
    "\n",
    "    @Override\n",
    "    public void start(Stage stage) throws Exception {\n",
    "        FirstLineService service = new FirstLineService();\n",
    "        service.setUrl(\"http://google.com\");\n",
    "        service.setOnSucceeded(new EventHandler<WorkerStateEvent>() {\n",
    "            @Override\n",
    "            public void handle(WorkerStateEvent t) {\n",
    "                System.out.println(\"done:\" + t.getSource().getValue());\n",
    "            }\n",
    "        });\n",
    "        service.start();\n",
    "    }\n",
    "\n",
    "    public static void main(String[] args) {\n",
    "        launch();\n",
    "    }\n",
    "}"
   ]
  },
  {
   "cell_type": "code",
   "execution_count": null,
   "metadata": {
    "slideshow": {
     "slide_type": "subslide"
    }
   },
   "outputs": [],
   "source": [
    "class FirstLineService extends Service<String> {\n",
    "    private StringProperty url = new SimpleStringProperty();\n",
    "\n",
    "    public final void setUrl(String value) {\n",
    "        url.set(value);\n",
    "    }\n",
    "\n",
    "    public final String getUrl() {\n",
    "        return url.get();\n",
    "    }\n",
    "\n",
    "    public final StringProperty urlProperty() {\n",
    "       return url;\n",
    "    }\n",
    "\n",
    "    protected Task<String> createTask() {\n",
    "        final String _url = getUrl();\n",
    "        return new Task<String>() {\n",
    "            protected String call() \n",
    "                throws IOException, MalformedURLException {\n",
    "                    String result = null;\n",
    "                    BufferedReader input = null;\n",
    "                    try {\n",
    "                        URL currentUrl = new URL(_url);\n",
    "                        input = new BufferedReader(new InputStreamReader(currentUrl.openStream()));\n",
    "                        result = input.readLine();\n",
    "                    } finally {\n",
    "                        if (input != null) {\n",
    "                            input.close();\n",
    "                        }\n",
    "                    }\n",
    "                    return result;\n",
    "            }\n",
    "        };\n",
    "    }\n",
    "}"
   ]
  },
  {
   "cell_type": "markdown",
   "metadata": {
    "slideshow": {
     "slide_type": "slide"
    }
   },
   "source": [
    "![Pytania? ](img/question.jpg)"
   ]
  },
  {
   "cell_type": "code",
   "execution_count": null,
   "metadata": {},
   "outputs": [],
   "source": []
  }
 ],
 "metadata": {
  "celltoolbar": "Slideshow",
  "kernelspec": {
   "display_name": "Java",
   "language": "java",
   "name": "java"
  },
  "language_info": {
   "codemirror_mode": "java",
   "file_extension": ".jshell",
   "mimetype": "text/x-java-source",
   "name": "Java",
   "pygments_lexer": "java",
   "version": "17+35-2724"
  },
  "toc": {
   "base_numbering": 1,
   "nav_menu": {},
   "number_sections": false,
   "sideBar": true,
   "skip_h1_title": false,
   "title_cell": "Table of Contents",
   "title_sidebar": "Contents",
   "toc_cell": false,
   "toc_position": {},
   "toc_section_display": true,
   "toc_window_display": false
  }
 },
 "nbformat": 4,
 "nbformat_minor": 1
}
