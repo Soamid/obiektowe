{
 "cells": [
  {
   "cell_type": "markdown",
   "metadata": {
    "slideshow": {
     "slide_type": "slide"
    }
   },
   "source": [
    "# Programowanie imperatywne, funkcyjne i obiektowe"
   ]
  },
  {
   "cell_type": "markdown",
   "metadata": {
    "slideshow": {
     "slide_type": "slide"
    }
   },
   "source": [
    "## Program imperatywny\n",
    "\n",
    "### instrukcje + dane = program"
   ]
  },
  {
   "cell_type": "markdown",
   "metadata": {
    "slideshow": {
     "slide_type": "notes"
    }
   },
   "source": [
    "Program można postrzegać jako połączenie *instrukcji* oraz *danych*. \n",
    "\n",
    "Instrukcje (rozkazy) określają co ma się stać. Można je porównać do zdań w trybie rozkazującym. \n",
    "\n",
    "Dane przechowują stan programu. \n",
    "\n",
    "Wynik wykonania instrukcji uzależniony jest od bieżącego stanu programu."
   ]
  },
  {
   "cell_type": "markdown",
   "metadata": {
    "slideshow": {
     "slide_type": "slide"
    }
   },
   "source": [
    "### Asembler - język imperatywny\n",
    "\n",
    "```NASM\n",
    "mov ax, 5\n",
    "mov bx, 6\n",
    "add ax, bc\n",
    "push ax\n",
    "push msg\n",
    "call _printf\n",
    "```"
   ]
  },
  {
   "cell_type": "markdown",
   "metadata": {
    "slideshow": {
     "slide_type": "notes"
    }
   },
   "source": [
    "Asembler jest paradygmatycznym przykładem języka imperatywnego. Wprost odnosi się do sprzętu - program określa gdzie dane mają być zapisane i co się ma z nimi stać. Wykonanie podprogramu w asemblerze sprowadza się do skoku do innego obszaru pamięci instrukcji. Dlatego w przybliżeniu można powiedzieć, że cały program jest jednym wielkim ciągiem instrukcji."
   ]
  },
  {
   "cell_type": "markdown",
   "metadata": {
    "slideshow": {
     "slide_type": "slide"
    }
   },
   "source": [
    "### Języki imperatywne\n",
    "\n",
    "* Asembler\n",
    "* FORTRAN\n",
    "* ALGOL\n",
    "* COBOL\n",
    "* BASIC\n",
    "* Pascal\n",
    "* C\n",
    "* ..."
   ]
  },
  {
   "cell_type": "markdown",
   "metadata": {
    "slideshow": {
     "slide_type": "slide"
    }
   },
   "source": [
    "## Program funkcyjny\n",
    "\n",
    "### Ewaluacja funkcji + dane = program"
   ]
  },
  {
   "cell_type": "markdown",
   "metadata": {
    "slideshow": {
     "slide_type": "notes"
    }
   },
   "source": [
    "Ewaluacja (obliczenie wyniku) funkcji w czystych językach funkcyjnych dla określonych argumentów (danych) zawsze daje ten sam wynik. Funkcja z języków funkcyjnych modelowana jest na bazie funkcji w matematyce. W językach funkcyjnych nie występują *zmienne*, w tym sensie, że w danym kontekście określona \"zmienna\" może być tylko zainicjowana - nie można przypisać jej innej wartości. Nie oznacza to, że zmienna ta przez cały cykl życia programu ma identyczną wartość, ale przy określonym wywołaniu funkcji ma określona wartość."
   ]
  },
  {
   "cell_type": "markdown",
   "metadata": {
    "slideshow": {
     "slide_type": "slide"
    }
   },
   "source": [
    "### Haskell - język funkcyjny\n",
    "\n",
    "```haskell\n",
    "silnia :: Int -> Int\n",
    "silnia 0 = 1\n",
    "silnia x = x * silnia(x-1)\n",
    "\n",
    "silnia 5 --> 120\n",
    "\n",
    "znak :: Int -> Int\n",
    "znak x \n",
    "  | x == 0 = 0\n",
    "  | x < 0 = -1\n",
    "  | otherwise = 1\n",
    "  \n",
    "znak 10 --> 1\n",
    "znak (-10) --> -1\n",
    "```"
   ]
  },
  {
   "cell_type": "markdown",
   "metadata": {
    "slideshow": {
     "slide_type": "subslide"
    }
   },
   "source": [
    "```haskell\n",
    "pierwiastki :: Double -> Double -> Double -> [Double]\n",
    "pierwiastki a b c\n",
    "  | delta < 0 = []\n",
    "  | delta == 0 = [- b / (2 * a)]\n",
    "  | delta > 0 = [(- b - sqrt(delta)) / (2 * a), (- b + sqrt(delta)) / (2 * a)]\n",
    "  where\n",
    "    delta = b ^ 2 - 4 * a * c\n",
    "    \n",
    "pierwiastki (-3) 1 2\n",
    "[1.0,-0.6666666666666666]\n",
    "```"
   ]
  },
  {
   "cell_type": "markdown",
   "metadata": {
    "slideshow": {
     "slide_type": "subslide"
    }
   },
   "source": [
    "Partial application"
   ]
  },
  {
   "cell_type": "code",
   "execution_count": null,
   "metadata": {
    "collapsed": true,
    "slideshow": {
     "slide_type": "subslide"
    }
   },
   "outputs": [],
   "source": [
    "Funkcje jako obywatele pierwszej kategorii, domknięcia"
   ]
  },
  {
   "cell_type": "markdown",
   "metadata": {
    "slideshow": {
     "slide_type": "notes"
    }
   },
   "source": [
    "Wartości w językach funkcyjnych obliczane są \"leniwie\", tzn. wtedy kiedy są potrzebne żeby obliczyć ostateczny wynik. Kolejność definicji nie ma znaczenia, dlatego w powyższym przykładzie `delta` jest zdefiniowana po tym, jak została użyta."
   ]
  },
  {
   "cell_type": "markdown",
   "metadata": {
    "slideshow": {
     "slide_type": "slide"
    }
   },
   "source": [
    "## Przykłady języków funkcyjnych\n",
    "\n",
    "* Haskell\n",
    "* Clean\n",
    "* OCaml\n",
    "* Lisp (Clojure, Scheme)\n",
    "* Erlang\n",
    "* Scala\n",
    "* ..."
   ]
  },
  {
   "cell_type": "markdown",
   "metadata": {
    "slideshow": {
     "slide_type": "slide"
    }
   },
   "source": [
    "## Program obiektowe\n",
    "\n",
    "### Obiekty + interakcje = programy"
   ]
  },
  {
   "cell_type": "markdown",
   "metadata": {
    "slideshow": {
     "slide_type": "notes"
    }
   },
   "source": []
  }
 ],
 "metadata": {
  "celltoolbar": "Slideshow",
  "kernelspec": {
   "display_name": "Java 9",
   "language": "java",
   "name": "java"
  },
  "language_info": {
   "file_extension": ".class",
   "mimetype": "application/java-vm",
   "name": "java"
  }
 },
 "nbformat": 4,
 "nbformat_minor": 1
}
