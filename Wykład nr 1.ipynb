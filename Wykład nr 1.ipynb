{
 "cells": [
  {
   "cell_type": "markdown",
   "metadata": {
    "slideshow": {
     "slide_type": "slide"
    }
   },
   "source": [
    "# Programowanie obiektowe - wykład nr 1\n",
    "\n",
    "## Programowanie imperatywne, funkcyjne i obiektowe\n",
    "\n",
    "## dr inż. Aleksander Smywiński-Pohl"
   ]
  },
  {
   "cell_type": "markdown",
   "metadata": {
    "slideshow": {
     "slide_type": "notes"
    }
   },
   "source": [
    "Nie można nigdy zapominać o tym, że programy zawsze są interepretowane przez komputer. Jeden paradygmat programowania nie daje nam większych możliwości niż inny, w sensie tego co da się osiągnąć za pomocą komputera. Różnica polega na drodze jaką trzeba pokonać aby to osiągnąć. A także na łatwości wykrywania błędów oraz rozszerzania istniejących możliwości programu."
   ]
  },
  {
   "cell_type": "markdown",
   "metadata": {
    "slideshow": {
     "slide_type": "slide"
    }
   },
   "source": [
    "## Program imperatywny\n",
    "\n",
    "### instrukcje + dane = program"
   ]
  },
  {
   "cell_type": "markdown",
   "metadata": {
    "slideshow": {
     "slide_type": "notes"
    }
   },
   "source": [
    "Program można postrzegać jako połączenie *instrukcji* oraz *danych*. \n",
    "\n",
    "Instrukcje (rozkazy) określają co ma się stać. Można je porównać do zdań w trybie rozkazującym. \n",
    "\n",
    "Dane przechowują stan programu. \n",
    "\n",
    "Wynik wykonania instrukcji uzależniony jest od bieżącego stanu programu."
   ]
  },
  {
   "cell_type": "markdown",
   "metadata": {
    "slideshow": {
     "slide_type": "slide"
    }
   },
   "source": [
    "### Asembler - język imperatywny\n",
    "\n",
    "```NASM\n",
    "mov ax, 5\n",
    "mov bx, 6\n",
    "add ax, bc\n",
    "push ax\n",
    "push msg\n",
    "call _printf\n",
    "```"
   ]
  },
  {
   "cell_type": "markdown",
   "metadata": {
    "slideshow": {
     "slide_type": "notes"
    }
   },
   "source": [
    "Asembler jest paradygmatycznym przykładem języka imperatywnego. Wprost odnosi się do sprzętu - program określa gdzie dane mają być zapisane i co się ma z nimi stać. Wykonanie podprogramu w asemblerze sprowadza się do skoku do innego obszaru pamięci instrukcji. Dlatego w przybliżeniu można powiedzieć, że cały program jest jednym wielkim ciągiem instrukcji."
   ]
  },
  {
   "cell_type": "markdown",
   "metadata": {
    "slideshow": {
     "slide_type": "slide"
    }
   },
   "source": [
    "### Języki imperatywne\n",
    "\n",
    "* Asembler\n",
    "* FORTRAN\n",
    "* ALGOL\n",
    "* COBOL\n",
    "* BASIC\n",
    "* Pascal\n",
    "* C\n",
    "* ..."
   ]
  },
  {
   "cell_type": "markdown",
   "metadata": {
    "slideshow": {
     "slide_type": "slide"
    }
   },
   "source": [
    "## Program funkcyjny\n",
    "\n",
    "### Ewaluacja funkcji + dane = program"
   ]
  },
  {
   "cell_type": "markdown",
   "metadata": {
    "slideshow": {
     "slide_type": "notes"
    }
   },
   "source": [
    "Ewaluacja (obliczenie wyniku) funkcji w czystych językach funkcyjnych dla określonych argumentów (danych) zawsze daje ten sam wynik. Funkcja z języków funkcyjnych modelowana jest na bazie funkcji w matematyce. W językach funkcyjnych nie występują *zmienne*, w tym sensie, że w danym kontekście określona \"zmienna\" może być tylko zainicjowana - nie można przypisać jej innej wartości. Nie oznacza to, że zmienna ta przez cały cykl życia programu ma identyczną wartość, ale przy określonym wywołaniu funkcji ma określona wartość.\n",
    "\n",
    "Istotnym problemem w językach funkcyjnych są wywołania, które dają skutki uboczne - np. wyświetlenie czegoś na ekranie,\n",
    "zapisanie do bazy danych, utworzenie pliku. W językach czysto funkcyjnych realizowane jest to za pomocą mechanizmu monad."
   ]
  },
  {
   "cell_type": "markdown",
   "metadata": {
    "slideshow": {
     "slide_type": "slide"
    }
   },
   "source": [
    "### Haskell - język funkcyjny\n",
    "\n",
    "```haskell\n",
    "silnia :: Int -> Int\n",
    "silnia 0 = 1\n",
    "silnia x = x * silnia(x-1)\n",
    "\n",
    "silnia 5 --> 120\n",
    "\n",
    "znak :: Int -> Int\n",
    "znak x \n",
    "  | x == 0 = 0\n",
    "  | x < 0 = -1\n",
    "  | otherwise = 1\n",
    "  \n",
    "znak 10 --> 1\n",
    "znak (-10) --> -1\n",
    "```"
   ]
  },
  {
   "cell_type": "markdown",
   "metadata": {
    "slideshow": {
     "slide_type": "subslide"
    }
   },
   "source": [
    "```haskell\n",
    "pierwiastki :: Double -> Double -> Double -> [Double]\n",
    "pierwiastki a b c\n",
    "  | delta < 0 = []\n",
    "  | delta == 0 = [- b / (2 * a)]\n",
    "  | delta > 0 = [(- b - sqrt(delta)) / (2 * a), (- b + sqrt(delta)) / (2 * a)]\n",
    "  where\n",
    "    delta = b ^ 2 - 4 * a * c\n",
    "    \n",
    "pierwiastki (-3) 1 2\n",
    "[1.0,-0.6666666666666666]\n",
    "```"
   ]
  },
  {
   "cell_type": "markdown",
   "metadata": {
    "slideshow": {
     "slide_type": "notes"
    }
   },
   "source": [
    "Wartości w językach funkcyjnych obliczane są \"leniwie\", tzn. wtedy kiedy są potrzebne żeby obliczyć ostateczny wynik. Kolejność definicji nie ma znaczenia, dlatego w powyższym przykładzie `delta` jest zdefiniowana po tym, jak została użyta. Warto również zwrócić uwagę na sposób obsługi liczby wyników równania - funkcja zawsze musi zwracać obiekt tego samego typu. Dlatego wykorzystana została tablica, ponieważ można zwrócic 0, 1 lub 2 wyniki"
   ]
  },
  {
   "cell_type": "markdown",
   "metadata": {
    "slideshow": {
     "slide_type": "subslide"
    }
   },
   "source": [
    "```haskell\n",
    "rownanie_kwadratowe :: Double -> Double -> Double -> Double -> Double\n",
    "rownanie_kwadratowe a b c x = a * x ^ 2 + b * x + c\n",
    "\n",
    "jakas_funkcja_kwadratowa :: Double -> Double\n",
    "jakas_funkcja_kwadratowa x = rownanie_kwadratowe 1 (-1) 5 x\n",
    "jakas_funkcja_kwadratowa 10 -- > 95.0\n",
    "```"
   ]
  },
  {
   "cell_type": "markdown",
   "metadata": {
    "slideshow": {
     "slide_type": "notes"
    }
   },
   "source": [
    "Języki funkcyjne pozwalają np. na częściową aplikację funkcji. W pewnym sensie wynik takiego wywołania przypomina obiekt, ponieważ zapamiętuje pewien *stan* obliczenia. Tego stanu nie można jednak zmienić."
   ]
  },
  {
   "cell_type": "markdown",
   "metadata": {
    "collapsed": true,
    "slideshow": {
     "slide_type": "subslide"
    }
   },
   "source": [
    "```haskell\n",
    "razy_dwa :: Int -> Int\n",
    "razy_dwa x = 2 * x\n",
    "\n",
    "map razy_dwa [1..10] -- > [2,4,6,8,10,12,14,16,18,20]\n",
    "\n",
    "map (\\x -> x * 3) [1..10] -- > [3,6,9,12,15,18,21,24,27,30]\n",
    "```"
   ]
  },
  {
   "cell_type": "markdown",
   "metadata": {
    "slideshow": {
     "slide_type": "notes"
    }
   },
   "source": [
    "Funkcje w językach funkcyjnych traktowane są jako obywatele *pirewszej kategorii*. Oznacza to w szczególności, że argumentami funkcji mogą być inne funkcje.\n",
    "\n",
    "Co więcej argumentami funkcji mogą być również *funkcje anonimowe* realizowane za pomocą *wyrażeń lambda*."
   ]
  },
  {
   "cell_type": "markdown",
   "metadata": {
    "slideshow": {
     "slide_type": "slide"
    }
   },
   "source": [
    "## Przykłady języków funkcyjnych\n",
    "\n",
    "* Haskell\n",
    "* Clean\n",
    "* OCaml\n",
    "* Lisp (Clojure, Scheme)\n",
    "* Erlang\n",
    "* Scala\n",
    "* Elixir\n",
    "* ..."
   ]
  },
  {
   "cell_type": "markdown",
   "metadata": {
    "slideshow": {
     "slide_type": "slide"
    }
   },
   "source": [
    "## Program obiektowe\n",
    "\n",
    "### Obiekty + interakcje = programy"
   ]
  },
  {
   "cell_type": "markdown",
   "metadata": {
    "slideshow": {
     "slide_type": "notes"
    }
   },
   "source": [
    "Program obiektowy stara się odzwierciedlać jeden z najbardziej podstawowych sposobów myślenia o świecie - myślenie wykorzystujące *obiekty*. W tym ujęciu obiekt jest podstawowym elementem rzeczywistości - posiada unikalna tożsamość,\n",
    "ale może zmieniać swój *stan*. Interakcje obiektu ze światem zewnętrznym odbywają się za pomocą wymiany komunikatów.\n",
    "Istotnymi momentami w cyklu życia obiektu są inicjacja - utworzenie obiektu oraz destrukcja - moment, w którym obiekt przestaje istnieć. Pomiędzy nimi obiekt może ulegać różnym przemianom, ale zachowuje swoją tożsamość."
   ]
  },
  {
   "cell_type": "markdown",
   "metadata": {
    "slideshow": {
     "slide_type": "slide"
    }
   },
   "source": [
    "## Typowe cechy języków obiektowych\n",
    "\n",
    "* abstrakcja\n",
    "* ukrywanie implementacji\n",
    "* przesyłanie komunikatów\n",
    "* polimorfizm\n",
    "* dziedziczenie"
   ]
  },
  {
   "cell_type": "markdown",
   "metadata": {
    "slideshow": {
     "slide_type": "notes"
    }
   },
   "source": [
    "*Abstrakcja* - w kontraście do konkretnych typów dostępnych na danej maszynie cyfrowej, pozwala tworzyć nowe typy danych, którch zachowanie definiowane jest przez użytkownika.\n",
    "\n",
    "*Ukrywanie implementacji* (hermetyzacja) - zmiana stanu obiektu odbywa się poprzez zdefiniowany interfejs (zbiór metod).\n",
    "\n",
    "*Przesyłanie komunikatów* - obiekty komunikują się ze sobą wysyłając komunikaty. Wykonanie określonego zadania może zostać zrealizowane poprzez przekazanie komunikatów do innego obiektu lub obiektów (delegowanie komunikatów).\n",
    "\n",
    "*Polimorfizm* - możliwość zastępowania jednych obiektów, innymi o ile implementują ten sam interfejs.\n",
    "\n",
    "*Dziedziczenie* - mechanizm pozwalający na ograniczanie powtarzania kodu, poprzez określanie wspólnego zachowania obiektu w klasie nadrzędnej.\n",
    "\n",
    "W trakcie kolejnych wykładów będziemy przyglądać się tym pojęciom i sposobie ich realizacji w różnych językach programowania."
   ]
  },
  {
   "cell_type": "markdown",
   "metadata": {
    "slideshow": {
     "slide_type": "slide"
    }
   },
   "source": [
    "## Abstrakcja\n",
    "\n",
    "```c\n",
    "struct complex {\n",
    "  double re;\n",
    "  double im;\n",
    "}\n",
    "\n",
    "struct complex cpx_add(struct complex arg1, struct complex arg2){\n",
    "  struct complex result = malloc(sizeof(complex));\n",
    "  result.re = arg1.re + arg2.re;\n",
    "  result.im = arg1.im + arg2.im;\n",
    "  resturn result;\n",
    "}\n",
    "```"
   ]
  },
  {
   "cell_type": "markdown",
   "metadata": {
    "slideshow": {
     "slide_type": "notes"
    }
   },
   "source": [
    "Typowym przykładem abstrakcji jest typ urojony. Typ \"rzeczywisty\" jest w przybliżeniu implementowany na maszynach komputerowych, np. za pomocą dostępnego w języku C typu `double`. Natomiast systemy komputerowe nie dysponują typem złożonym takim jak typu urojony. W językach imperatywnych problem ten rozwiązuje się poprzez struktury, które umożliwiają łączenie wartości prostych. Niemniej jednak struktura oraz operujące na niej funkcje i procedury nie są w sposób jawny powiązane ze sobą. Każda funkcja ma dostęp do wszystkich danych zdefiniowanych w strukturze i może w dowolny sposób nimi manipulować."
   ]
  },
  {
   "cell_type": "markdown",
   "metadata": {
    "slideshow": {
     "slide_type": "slide"
    }
   },
   "source": [
    "## Abstrakcja w językach obiektowych\n",
    "\n",
    "```java\n",
    "class Complex {\n",
    "    private double re;\n",
    "    private double im;\n",
    "    \n",
    "    public Complex(double re, double im){\n",
    "        this.re = re;\n",
    "        this.im = im;\n",
    "    }\n",
    "    \n",
    "    public Complex add(Complex other){\n",
    "        return new Complex(this.re + other.re, this.im + other.im);\n",
    "    }\n",
    "}\n",
    "\n",
    "Complex a = new Complex(1,2);\n",
    "Complex b = new Complex(-2,-1);\n",
    "Complex c = a.add(b);            // -> Complex(1,1)\n",
    "```"
   ]
  },
  {
   "cell_type": "markdown",
   "metadata": {
    "slideshow": {
     "slide_type": "notes"
    }
   },
   "source": [
    "W językach obiektowych stworzenie nowej klasy obiektów (nowej abstrakcji) powoduje, że osoba tworząc program ma do dyspozycji nowy **typ**, który można wykorzystywać na sposób analogiczny z typami wbudowanymi. W Javie nie można niestety przeciążać operatorów dlatego nie możemy napisać c = a + b; ale poza tym - funkcjonalnie - typ `Complex` nie różni się od typów wbudowanych."
   ]
  },
  {
   "cell_type": "markdown",
   "metadata": {
    "slideshow": {
     "slide_type": "slide"
    }
   },
   "source": [
    "## Cykl życia obiektu\n",
    "![Produkcja samochodu](img/Vehicle-life-cycle.jpg)"
   ]
  },
  {
   "cell_type": "markdown",
   "metadata": {
    "slideshow": {
     "slide_type": "notes"
    }
   },
   "source": [
    "Programowanie obiektowe wzoruje się na zwykłych obiektach znanych nam z życia codziennego. Przykładem może być samochód. W trakcie produkcji samochodu nadawany jest mu numer VIN, który jest unikalny dla każdego samochodu. Jest on wybity na karoserii, dlatego zniszczenie karoserii można uznać za koniec cyklu życia samochodu. W trakcie cyklu życia jego stan  może ulec różnym zmianom: zmienia się cechy takie jak poziom paliwa, czy płynu hamulcowego, samochód może stać lub się poruszać, wybite okno może zostać zastąpione innym, kolor samochodu może zostać zmieniony, może zmienić się jego właściciel oraz tablice rejestracyjne. Ale tożsamość samochodu jest cały czas taka sama.\n",
    "\n",
    "Programowanie obiektowe czerpie z tego sposobu myślenia i wprowadza je w dziedzinę programowania."
   ]
  },
  {
   "cell_type": "markdown",
   "metadata": {
    "slideshow": {
     "slide_type": "slide"
    }
   },
   "source": [
    "## Cechy oraz związki obiektu\n",
    "\n",
    "```java\n",
    "class Car {\n",
    "    private String vin;\n",
    "    private Color color;\n",
    "    private Person owner;\n",
    "    private int speed;\n",
    "}\n",
    "```"
   ]
  },
  {
   "cell_type": "markdown",
   "metadata": {
    "slideshow": {
     "slide_type": "notes"
    }
   },
   "source": [
    "Cechy oraz związki w programowaniu obietkowym reprezentowane są najczęściej za pomocą *atrybutów*.\n",
    "Cechy mogą mieć charakter statyczny - np. VIN oraz dynamiczny - np. prędkość. Zmiana wartości cech powinna obywać się za pomocą dobrze zdefiniowanego interfejsu, dlatego atrybuty najczęściej są *prywatne*. Oznacza to, że tylko obiekt sam oraz obiekty tej samej klasy mogą modyfikować wartości jego atrybutów.\n",
    "\n",
    "Nazwy cech i związków powinny być rzeczownikami. W Javie nazwa klasy pisana jest wielką literą, natomiast atrbuty pisane są małą literą. W obu przypadkach stosowana jest notacja wielbłądzia"
   ]
  },
  {
   "cell_type": "markdown",
   "metadata": {
    "slideshow": {
     "slide_type": "slide"
    }
   },
   "source": [
    "![wielbłąd](https://upload.wikimedia.org/wikipedia/commons/b/b1/Chameau_de_bactriane.JPG)"
   ]
  },
  {
   "cell_type": "markdown",
   "metadata": {
    "slideshow": {
     "slide_type": "notes"
    }
   },
   "source": [
    "Wielbłąd."
   ]
  },
  {
   "cell_type": "markdown",
   "metadata": {
    "slideshow": {
     "slide_type": "slide"
    }
   },
   "source": [
    "## Rodzaje notacji - dygresja\n",
    "\n",
    "* `PascalCase` - notacja Pascala\n",
    "* `camelCase` - notacja wielbłądzia\n",
    "* `snake_case` - notacja z pokreśleniami (wężowa?)\n",
    "* `lisp-case` - notacja lispowa (choć bardziej odpowiada nam szaszłykowa)"
   ]
  },
  {
   "cell_type": "markdown",
   "metadata": {
    "slideshow": {
     "slide_type": "slide"
    }
   },
   "source": [
    "## Powstawanie obiektu\n",
    "\n",
    "```java\n",
    "class Car {\n",
    "    private String vin;\n",
    "    //...\n",
    "    public Car(String vin, Color color, Person owner){\n",
    "        this.vin = vin;\n",
    "        this.color = color;\n",
    "        this.owner = owner;\n",
    "        this.speed = 0;\n",
    "    }\n",
    "}\n",
    "car = new Car(\"12345\", Color.GREEN, null);\n",
    "```"
   ]
  },
  {
   "cell_type": "markdown",
   "metadata": {
    "slideshow": {
     "slide_type": "notes"
    }
   },
   "source": [
    "Powstanie obiektu jest bardzo ważnym momentem w cyklu jego życia. Do tworzenia obiektów wykorzystywany jest konstruktor. \n",
    "Tworzenie obiektów tylko za pomocą konstruktora umożliwia zabezpieczenie się przed sytuacją, w której obiekt nie został w pełni zainicjowany (nie wszystkie jego atrybuty zostały poprawnie określone), a mógłby zostać użyty w programie.\n",
    "Wywołanie konstruktora następuje w Javie za pomocą słowa kluczowego `new`, które odpowiedzialne jest za zaalokowanie odpowiedniej struktury pamięci oraz inicjalizację obiektu. W Javie nie występują destruktory, a za zwalnianie pamięci\n",
    "odpowiedzialny jest śmieciarz (garbage collector).\n",
    "\n",
    "Konstruktor najczęściej jest *publiczny*, co oznacza, że inne obiekty mogą tworzyć obiekt danego rodzaju.\n",
    "Przykładowo - nowoutworzony samochód ma domyślnie prędkość określoną na 0, a pozostałe atrybuty określane są w \"fabryce\".\n",
    "Wartość `null` to specjalna wartość pusta, która w tym kontekście oznacza, że samochód nie ma właściciela."
   ]
  },
  {
   "cell_type": "markdown",
   "metadata": {
    "slideshow": {
     "slide_type": "slide"
    }
   },
   "source": [
    "## Komunikaty - odczyt oraz zmiana stanu\n",
    "\n",
    "```java\n",
    "class Car {\n",
    "    int speed;\n",
    "    //...\n",
    "    \n",
    "    public int getSpeed(){\n",
    "        return this.speed;\n",
    "    }\n",
    "    \n",
    "    public void start(){\n",
    "        this.speed = 30;\n",
    "    }\n",
    "    \n",
    "    public void stop(){\n",
    "        this.speed = 0;\n",
    "    }\n",
    "    \n",
    "    public void sell(Person newOwner){\n",
    "       this.owner = newOwner;\n",
    "    }\n",
    "}\n",
    "my_car = new Car(...);\n",
    "my_car.getSpeed(); // -> 0\n",
    "my_car.start();\n",
    "my_car.getSpeed(); // -> 30\n",
    "my_car.stop();\n",
    "my_car.getSpeed(); // -> 0\n",
    "```"
   ]
  },
  {
   "cell_type": "markdown",
   "metadata": {
    "slideshow": {
     "slide_type": "notes"
    }
   },
   "source": [
    "Zmiana stanu obiektu odbywa się poprzez wysłanie komunikatu do obiektu. Wysłanie komunikatu skutkuje wykonaniem *metody*, która najczęściej odczytuje lub zmienia stan obiektu. Komunikat może być również propagowany do innych obiektów. Mamy wtedy do czynienia z delegacją komunikatu. Jest to jedna z najważniejszych technik programowania obiektowego - znacznie ważniejsza niż osławione *dziedziczenie*. Odpowiednia dekompozycja problemu na klasy, które mają dobrze zdefiniowane zadania i wymieniają komunikaty pomiędzy sobą jest kluczową umiejętnością osoby wykorzystującej programowanie obiektowe."
   ]
  },
  {
   "cell_type": "markdown",
   "metadata": {
    "slideshow": {
     "slide_type": "slide"
    }
   },
   "source": [
    "## Brak polimorfizmu\n",
    "```c\n",
    "struct matrix {\n",
    "    //...\n",
    "}\n",
    "struct tensor {\n",
    "    //...\n",
    "}\n",
    "\n",
    "struct matrix matrix_add(struct matrix matrix_1, struct matrix matrix_2);\n",
    "struct matrix tensor_add(struct tensor tensor_1, struct tensor tensor_2);\n",
    "```"
   ]
  },
  {
   "cell_type": "markdown",
   "metadata": {
    "slideshow": {
     "slide_type": "notes"
    }
   },
   "source": [
    "Polimorfizm, wielopostaciowość to mechanizm polegający na możliwości wysłania tego samego komunikatu do obiektów należących do różnych klas.\n",
    "Brak polimorfizmu oznacza, że dla każdego typu danych musimy implementować osobną metodę, nawet jeśli implementacja dla dwóch różnych typów mogłaby wyglądać identycznie, opierając się na wspólnym interfejsie eksponowanym przez te typy."
   ]
  },
  {
   "cell_type": "markdown",
   "metadata": {
    "slideshow": {
     "slide_type": "slide"
    }
   },
   "source": [
    "## Polimorfizm - interfejsy\n",
    "\n",
    "```java\n",
    "interface IVehicle {\n",
    "    void start();\n",
    "    void stop();\n",
    "}\n",
    "\n",
    "class Car implements IVehicle {\n",
    "    void start(){\n",
    "        //...\n",
    "    }\n",
    "    //...\n",
    "}\n",
    "\n",
    "class Ship implements IVehicle {\n",
    "    //...\n",
    "}\n",
    "\n",
    "void runInLoop(IVehicle vehicle){\n",
    "    for(;;){\n",
    "        vehicle.start();\n",
    "        Thread.sleep(100);\n",
    "        vehicle.stop();\n",
    "    }\n",
    "}\n",
    "\n",
    "IVehicle vehicle1 = new Car();\n",
    "IVehicle vehicle2 = new Ship();\n",
    "runInLoop(vehicle1);\n",
    "runInLoop(vehicle2);\n",
    "```"
   ]
  },
  {
   "cell_type": "markdown",
   "metadata": {
    "slideshow": {
     "slide_type": "notes"
    }
   },
   "source": [
    "Polimorfmizm w Javie realizowany jest za pomocą interfejsów oraz dziedziczenia. W tym przypadku mamy polimorfizm zapewniany przez interfejs. `vehicle1` należy do klasy `Car` a `vehicle2` do klasy `Ship`. Obie klas *implementują* ten sam interfejs `IVehicle`, dzięki czemu można im wysyłać takie same komunikaty. "
   ]
  },
  {
   "cell_type": "markdown",
   "metadata": {
    "slideshow": {
     "slide_type": "slide"
    }
   },
   "source": [
    "![Porfiriusz i Awerroes](https://upload.wikimedia.org/wikipedia/commons/thumb/0/07/AverroesAndPorphyry.JPG/1920px-AverroesAndPorphyry.JPG)"
   ]
  },
  {
   "cell_type": "markdown",
   "metadata": {
    "slideshow": {
     "slide_type": "notes"
    }
   },
   "source": [
    "Porfiriusz napisał komentarz (Isagoga) do *Kategorii* Arystotelesa. *Language wars* w XXI przypominają średniowieczne spory filozoficzne."
   ]
  },
  {
   "cell_type": "markdown",
   "metadata": {
    "slideshow": {
     "slide_type": "slide"
    }
   },
   "source": [
    "## Dziedziczenie\n",
    "\n",
    "```java\n",
    "class Vehicle {\n",
    "    protected int speed;\n",
    "    \n",
    "    public Vehicle(){\n",
    "        this.speed = 0;\n",
    "    }\n",
    "    \n",
    "    public void start(){\n",
    "        this.speed = 10;\n",
    "    }\n",
    "    \n",
    "    public void stop(){\n",
    "        this.speed = 0;\n",
    "    }\n",
    "}\n",
    "\n",
    "class Car extends Vehicle {\n",
    "    private String vin;\n",
    "    \n",
    "    public Car(String vin){\n",
    "        super();\n",
    "        this.vin = vin;\n",
    "    }\n",
    "    \n",
    "    public void accelerate(int delta){\n",
    "        this.speed += delta;\n",
    "    }\n",
    "}\n",
    "\n",
    "Car car = new Car(\"44332211\");\n",
    "car.start();\n",
    "car.accelerate(10);\n",
    "```"
   ]
  },
  {
   "cell_type": "markdown",
   "metadata": {
    "slideshow": {
     "slide_type": "notes"
    }
   },
   "source": [
    "Dziedziczenie w Javie oznacza dziedziczenie interfejsu oraz implementacji. Klas `Car` dziedziczy z klasy `Vehicle`. Klasa `Vehicle` jest klasą nadrzędną, a `Car` klasą podrzędną. Klasa `Car` posiada wszystkie atrybuty i metody klasy `Vehicle`. Ponadto klasa ta może dodawać nowe atrybuty i metody, może także redefiniować metody zdefiniowane już w klasie nadrzędnej. Założeniem mechanizmu dziedziczenia jest to, że w klasie nadrzędnej umieszczamy wspólne *własności* (atrybuty i metody) wielu klas podrzędnych, dzięki czemu unikamy wielokrotnej implementacji tych samych metod. \n",
    "\n",
    "W praktyce jednak możliwość wykorzystania dziedziczenia jest dość ograniczona, gdyż konieczność implementowania tego samego zachowania na dwa różne sposoby występuje dość rzadko. Częstszy scenariusz polega na tym, że mamy istniejącą klasę i chcemy zmienić jej zachowanie, bez możliwości zmiany kodu źródłowego. Wtedy możemy stworzyć klasę dziedziczącą, która w swojej implementacji zmienia zachowanie klasy nadrzędnej. Możliwość zastosowania takiego scenariusza jest jednak uzależniona od tego, czy możemy w łatwy sposób zastąpić odniesienia do oryginalnej klasy w całym kodzie źródłowym. Taki scenariusz jest jednak mało prawdopodobny. Dlatego wbrew uwadze jaka jest poświęcana temu mechanizmowi na wykładach z programowania obiektowego, jest on znacznie mniej przydatny w praktyce."
   ]
  },
  {
   "cell_type": "markdown",
   "metadata": {
    "slideshow": {
     "slide_type": "slide"
    }
   },
   "source": [
    "![Pytania? ](http://cliparts.co/cliparts/qcB/jqg/qcBjqgxc5.jpg)"
   ]
  }
 ],
 "metadata": {
  "celltoolbar": "Slideshow",
  "kernelspec": {
   "display_name": "Java 9",
   "language": "java",
   "name": "java"
  },
  "language_info": {
   "file_extension": ".class",
   "mimetype": "application/java-vm",
   "name": "java"
  }
 },
 "nbformat": 4,
 "nbformat_minor": 1
}
