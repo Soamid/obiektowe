{
 "cells": [
  {
   "cell_type": "markdown",
   "metadata": {},
   "source": [
    "# Stan obiektu"
   ]
  }
 ],
 "metadata": {
  "kernelspec": {
   "display_name": "Java-x",
   "language": "java",
   "name": "java"
  },
  "language_info": {
   "codemirror_mode": "shell",
   "file_extension": ".class",
   "mimetype": "application/java-vm",
   "name": "java"
  }
 },
 "nbformat": 4,
 "nbformat_minor": 1
}
